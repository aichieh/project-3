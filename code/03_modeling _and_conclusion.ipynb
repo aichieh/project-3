{
 "cells": [
  {
   "cell_type": "markdown",
   "id": "94a41d35",
   "metadata": {},
   "source": [
    "### Imports"
   ]
  },
  {
   "cell_type": "code",
   "execution_count": 1,
   "id": "d3f50d62",
   "metadata": {},
   "outputs": [],
   "source": [
    "# Import libraries needed for modeling\n",
    "import pandas as pd\n",
    "\n",
    "import matplotlib.pyplot as plt\n",
    "import pandas as pd\n",
    "import seaborn as sns\n",
    "import numpy as np\n",
    "from sklearn.metrics import mean_squared_error, r2_score\n",
    "\n",
    "from sklearn import metrics\n",
    "from sklearn.pipeline import Pipeline\n",
    "from sklearn.linear_model import LogisticRegression\n",
    "from sklearn.feature_extraction.text import CountVectorizer, TfidfVectorizer\n",
    "from sklearn.model_selection import GridSearchCV, train_test_split, cross_val_score\n",
    "from sklearn.metrics import confusion_matrix, classification_report, ConfusionMatrixDisplay \n",
    "from sklearn.naive_bayes import MultinomialNB\n",
    "from sklearn.ensemble import RandomForestClassifier, ExtraTreesClassifier\n",
    "from sklearn.tree import DecisionTreeClassifier\n",
    "\n",
    "pd.set_option('display.max_columns', 2000)\n",
    "pd.set_option('display.max_rows', 500)"
   ]
  },
  {
   "cell_type": "markdown",
   "id": "3bd28bbb",
   "metadata": {},
   "source": [
    "### Load Data"
   ]
  },
  {
   "cell_type": "code",
   "execution_count": 2,
   "id": "95f14312",
   "metadata": {},
   "outputs": [],
   "source": [
    "df = pd.read_csv('../data/df_cleaned.csv')"
   ]
  },
  {
   "cell_type": "code",
   "execution_count": 3,
   "id": "89edcf93",
   "metadata": {
    "scrolled": true
   },
   "outputs": [
    {
     "name": "stdout",
     "output_type": "stream",
     "text": [
      "<class 'pandas.core.frame.DataFrame'>\n",
      "RangeIndex: 7620 entries, 0 to 7619\n",
      "Data columns (total 6 columns):\n",
      " #   Column        Non-Null Count  Dtype \n",
      "---  ------        --------------  ----- \n",
      " 0   subreddit     7620 non-null   int64 \n",
      " 1   title         7620 non-null   object\n",
      " 2   author        7620 non-null   object\n",
      " 3   num_comments  7620 non-null   int64 \n",
      " 4   text          7620 non-null   object\n",
      " 5   text_cleaned  7587 non-null   object\n",
      "dtypes: int64(2), object(4)\n",
      "memory usage: 357.3+ KB\n"
     ]
    }
   ],
   "source": [
    "df.info()"
   ]
  },
  {
   "cell_type": "code",
   "execution_count": 4,
   "id": "162038e3",
   "metadata": {},
   "outputs": [],
   "source": [
    "# fillter data with value = NaN\n",
    "bool_series = pd.isnull(df[\"text_cleaned\"])"
   ]
  },
  {
   "cell_type": "code",
   "execution_count": 5,
   "id": "704dd235",
   "metadata": {
    "scrolled": true
   },
   "outputs": [
    {
     "data": {
      "text/html": [
       "<div>\n",
       "<style scoped>\n",
       "    .dataframe tbody tr th:only-of-type {\n",
       "        vertical-align: middle;\n",
       "    }\n",
       "\n",
       "    .dataframe tbody tr th {\n",
       "        vertical-align: top;\n",
       "    }\n",
       "\n",
       "    .dataframe thead th {\n",
       "        text-align: right;\n",
       "    }\n",
       "</style>\n",
       "<table border=\"1\" class=\"dataframe\">\n",
       "  <thead>\n",
       "    <tr style=\"text-align: right;\">\n",
       "      <th></th>\n",
       "      <th>subreddit</th>\n",
       "      <th>title</th>\n",
       "      <th>author</th>\n",
       "      <th>num_comments</th>\n",
       "      <th>text</th>\n",
       "      <th>text_cleaned</th>\n",
       "    </tr>\n",
       "  </thead>\n",
       "  <tbody>\n",
       "    <tr>\n",
       "      <th>136</th>\n",
       "      <td>1</td>\n",
       "      <td>https://moneysocial-huk.buzz/57371695859503</td>\n",
       "      <td>Choice_Bid_7576</td>\n",
       "      <td>0</td>\n",
       "      <td>https://moneysocial-huk.buzz/57371695859503</td>\n",
       "      <td>NaN</td>\n",
       "    </tr>\n",
       "    <tr>\n",
       "      <th>290</th>\n",
       "      <td>1</td>\n",
       "      <td>https://bostonu.qualtrics.com/jfe/form/SV_0CBF...</td>\n",
       "      <td>Lanky-University348</td>\n",
       "      <td>0</td>\n",
       "      <td>https://bostonu.qualtrics.com/jfe/form/SV_0CBF...</td>\n",
       "      <td>NaN</td>\n",
       "    </tr>\n",
       "    <tr>\n",
       "      <th>296</th>\n",
       "      <td>1</td>\n",
       "      <td>https://youtu.be/PYvapmqsllo</td>\n",
       "      <td>Alizeyvlog_786</td>\n",
       "      <td>0</td>\n",
       "      <td>https://youtu.be/PYvapmqsllo</td>\n",
       "      <td>NaN</td>\n",
       "    </tr>\n",
       "    <tr>\n",
       "      <th>484</th>\n",
       "      <td>1</td>\n",
       "      <td>https://tegram.me/o3hatzB969EyZDg8</td>\n",
       "      <td>bigcheeseeee</td>\n",
       "      <td>0</td>\n",
       "      <td>https://tegram.me/o3hatzB969EyZDg8</td>\n",
       "      <td>NaN</td>\n",
       "    </tr>\n",
       "    <tr>\n",
       "      <th>696</th>\n",
       "      <td>1</td>\n",
       "      <td>شماره خاله واقعی0996.050.3889</td>\n",
       "      <td>Aggressive-Whole8736</td>\n",
       "      <td>0</td>\n",
       "      <td>شماره خاله واقعی0996.050.3889</td>\n",
       "      <td>NaN</td>\n",
       "    </tr>\n",
       "    <tr>\n",
       "      <th>989</th>\n",
       "      <td>1</td>\n",
       "      <td>https://youtu.be/dVS9amLRldI</td>\n",
       "      <td>sanjeewa27050</td>\n",
       "      <td>0</td>\n",
       "      <td>https://youtu.be/dVS9amLRldI</td>\n",
       "      <td>NaN</td>\n",
       "    </tr>\n",
       "    <tr>\n",
       "      <th>1073</th>\n",
       "      <td>1</td>\n",
       "      <td>https://ref.timesocial.co/KONTIHENE</td>\n",
       "      <td>Hopeful_Example_3421</td>\n",
       "      <td>0</td>\n",
       "      <td>https://ref.timesocial.co/KONTIHENE</td>\n",
       "      <td>NaN</td>\n",
       "    </tr>\n",
       "    <tr>\n",
       "      <th>1087</th>\n",
       "      <td>1</td>\n",
       "      <td>https://sharing.hopper.com/refer/veronikat9jb</td>\n",
       "      <td>LosingMyLife89</td>\n",
       "      <td>0</td>\n",
       "      <td>https://sharing.hopper.com/refer/veronikat9jb</td>\n",
       "      <td>NaN</td>\n",
       "    </tr>\n",
       "    <tr>\n",
       "      <th>1259</th>\n",
       "      <td>1</td>\n",
       "      <td>https://www.ywsf12.com/2023/02/Bitcoin.html</td>\n",
       "      <td>Key-Reflection7007</td>\n",
       "      <td>0</td>\n",
       "      <td>https://www.ywsf12.com/2023/02/Bitcoin.html</td>\n",
       "      <td>NaN</td>\n",
       "    </tr>\n",
       "    <tr>\n",
       "      <th>1513</th>\n",
       "      <td>1</td>\n",
       "      <td>[Work in Progress] AI Optimizer for Multi-Coun...</td>\n",
       "      <td>slakmehl</td>\n",
       "      <td>0</td>\n",
       "      <td>[Work in Progress] AI Optimizer for Multi-Coun...</td>\n",
       "      <td>NaN</td>\n",
       "    </tr>\n",
       "    <tr>\n",
       "      <th>1603</th>\n",
       "      <td>1</td>\n",
       "      <td>https://youtu.be/lv3B7LmNdMw</td>\n",
       "      <td>CuriousMinds33</td>\n",
       "      <td>0</td>\n",
       "      <td>https://youtu.be/lv3B7LmNdMw</td>\n",
       "      <td>NaN</td>\n",
       "    </tr>\n",
       "    <tr>\n",
       "      <th>1773</th>\n",
       "      <td>1</td>\n",
       "      <td>https://youtu.be/RkJWPbEegRc</td>\n",
       "      <td>George_Kein</td>\n",
       "      <td>0</td>\n",
       "      <td>https://youtu.be/RkJWPbEegRc</td>\n",
       "      <td>NaN</td>\n",
       "    </tr>\n",
       "    <tr>\n",
       "      <th>1910</th>\n",
       "      <td>1</td>\n",
       "      <td>https://youtu.be/XzTthnpk8H0</td>\n",
       "      <td>Natureopts</td>\n",
       "      <td>0</td>\n",
       "      <td>https://youtu.be/XzTthnpk8H0</td>\n",
       "      <td>NaN</td>\n",
       "    </tr>\n",
       "    <tr>\n",
       "      <th>2173</th>\n",
       "      <td>1</td>\n",
       "      <td>Anything</td>\n",
       "      <td>Choice_Base2121</td>\n",
       "      <td>0</td>\n",
       "      <td>Anything</td>\n",
       "      <td>NaN</td>\n",
       "    </tr>\n",
       "    <tr>\n",
       "      <th>2274</th>\n",
       "      <td>1</td>\n",
       "      <td>https://onlyfans.com/fernandinhavalle/c1</td>\n",
       "      <td>Fefevalle</td>\n",
       "      <td>0</td>\n",
       "      <td>https://onlyfans.com/fernandinhavalle/c1</td>\n",
       "      <td>NaN</td>\n",
       "    </tr>\n",
       "    <tr>\n",
       "      <th>2332</th>\n",
       "      <td>1</td>\n",
       "      <td>ファイザーガコロナウイルスの外种を制造しテいることガ暴露され、売国奴ガあわテテ「反证」</td>\n",
       "      <td>Fun-Relationship-867</td>\n",
       "      <td>0</td>\n",
       "      <td>ファイザーガコロナウイルスの外种を制造しテいることガ暴露され、売国奴ガあわテテ「反证」</td>\n",
       "      <td>NaN</td>\n",
       "    </tr>\n",
       "    <tr>\n",
       "      <th>2794</th>\n",
       "      <td>1</td>\n",
       "      <td>https://www.ywsf12.com/2023/01/blog-post_52.html</td>\n",
       "      <td>Key-Reflection7007</td>\n",
       "      <td>0</td>\n",
       "      <td>https://www.ywsf12.com/2023/01/blog-post_52.html</td>\n",
       "      <td>NaN</td>\n",
       "    </tr>\n",
       "    <tr>\n",
       "      <th>2853</th>\n",
       "      <td>1</td>\n",
       "      <td>𝐓𝐡𝐞 𝐭𝐫𝐚𝐯𝐞𝐥 𝐜𝐥𝐮𝐛 𝐟𝐨𝐫 𝐰𝐨𝐦𝐞𝐧: 𝐈𝐧𝐭𝐞𝐫𝐧𝐚𝐭𝐢𝐨𝐧𝐚𝐥 𝐯𝐚𝐜𝐚𝐭...</td>\n",
       "      <td>Jhume1976</td>\n",
       "      <td>0</td>\n",
       "      <td>𝐓𝐡𝐞 𝐭𝐫𝐚𝐯𝐞𝐥 𝐜𝐥𝐮𝐛 𝐟𝐨𝐫 𝐰𝐨𝐦𝐞𝐧: 𝐈𝐧𝐭𝐞𝐫𝐧𝐚𝐭𝐢𝐨𝐧𝐚𝐥 𝐯𝐚𝐜𝐚𝐭...</td>\n",
       "      <td>NaN</td>\n",
       "    </tr>\n",
       "    <tr>\n",
       "      <th>2858</th>\n",
       "      <td>1</td>\n",
       "      <td>https://www.facebook.com/americamundomx?mibext...</td>\n",
       "      <td>atefsaleh</td>\n",
       "      <td>0</td>\n",
       "      <td>https://www.facebook.com/americamundomx?mibext...</td>\n",
       "      <td>NaN</td>\n",
       "    </tr>\n",
       "    <tr>\n",
       "      <th>2868</th>\n",
       "      <td>1</td>\n",
       "      <td>https://ywsf-ywsf12.blogspot.com/2023/01/profi...</td>\n",
       "      <td>Key-Reflection7007</td>\n",
       "      <td>0</td>\n",
       "      <td>https://ywsf-ywsf12.blogspot.com/2023/01/profi...</td>\n",
       "      <td>NaN</td>\n",
       "    </tr>\n",
       "    <tr>\n",
       "      <th>2875</th>\n",
       "      <td>1</td>\n",
       "      <td>What do you say 🤔🤔🤔?</td>\n",
       "      <td>questionblogpage</td>\n",
       "      <td>0</td>\n",
       "      <td>What do you say 🤔🤔🤔? [removed]\\n\\n[View Poll](...</td>\n",
       "      <td>NaN</td>\n",
       "    </tr>\n",
       "    <tr>\n",
       "      <th>3013</th>\n",
       "      <td>1</td>\n",
       "      <td>https://www.ywsf12.com</td>\n",
       "      <td>Key-Reflection7007</td>\n",
       "      <td>0</td>\n",
       "      <td>https://www.ywsf12.com</td>\n",
       "      <td>NaN</td>\n",
       "    </tr>\n",
       "    <tr>\n",
       "      <th>3131</th>\n",
       "      <td>1</td>\n",
       "      <td>https://youtu.be/YLKhIuXFvOY</td>\n",
       "      <td>Visible-Raspberry-27</td>\n",
       "      <td>0</td>\n",
       "      <td>https://youtu.be/YLKhIuXFvOY</td>\n",
       "      <td>NaN</td>\n",
       "    </tr>\n",
       "    <tr>\n",
       "      <th>3166</th>\n",
       "      <td>1</td>\n",
       "      <td>https://onlyfans.com/u267933808</td>\n",
       "      <td>Neither-Cabinet1029</td>\n",
       "      <td>0</td>\n",
       "      <td>https://onlyfans.com/u267933808</td>\n",
       "      <td>NaN</td>\n",
       "    </tr>\n",
       "    <tr>\n",
       "      <th>3675</th>\n",
       "      <td>1</td>\n",
       "      <td>https://youtu.be/OvO9RjsAM4s</td>\n",
       "      <td>yartd</td>\n",
       "      <td>0</td>\n",
       "      <td>https://youtu.be/OvO9RjsAM4s</td>\n",
       "      <td>NaN</td>\n",
       "    </tr>\n",
       "    <tr>\n",
       "      <th>3710</th>\n",
       "      <td>1</td>\n",
       "      <td>https://rainhatransportes.wordpress.com/</td>\n",
       "      <td>DocumentCertain5547</td>\n",
       "      <td>0</td>\n",
       "      <td>https://rainhatransportes.wordpress.com/</td>\n",
       "      <td>NaN</td>\n",
       "    </tr>\n",
       "    <tr>\n",
       "      <th>3753</th>\n",
       "      <td>1</td>\n",
       "      <td>https://youtube.com/@anjaliravipathak</td>\n",
       "      <td>Aggravating-Fox-4862</td>\n",
       "      <td>0</td>\n",
       "      <td>https://youtube.com/@anjaliravipathak</td>\n",
       "      <td>NaN</td>\n",
       "    </tr>\n",
       "    <tr>\n",
       "      <th>3754</th>\n",
       "      <td>1</td>\n",
       "      <td>https://youtu.be/4i24TYQ_s38</td>\n",
       "      <td>Aggravating-Fox-4862</td>\n",
       "      <td>0</td>\n",
       "      <td>https://youtu.be/4i24TYQ_s38</td>\n",
       "      <td>NaN</td>\n",
       "    </tr>\n",
       "    <tr>\n",
       "      <th>6382</th>\n",
       "      <td>0</td>\n",
       "      <td>https://thecasinocomps.com/resorts-world-how-t...</td>\n",
       "      <td>TheCasinoComps</td>\n",
       "      <td>0</td>\n",
       "      <td>https://thecasinocomps.com/resorts-world-how-t...</td>\n",
       "      <td>NaN</td>\n",
       "    </tr>\n",
       "    <tr>\n",
       "      <th>6387</th>\n",
       "      <td>0</td>\n",
       "      <td>https://blidz.app.link/product/5z4dviczn90t3oz...</td>\n",
       "      <td>Top_Entrepreneur_536</td>\n",
       "      <td>1</td>\n",
       "      <td>https://blidz.app.link/product/5z4dviczn90t3oz...</td>\n",
       "      <td>NaN</td>\n",
       "    </tr>\n",
       "    <tr>\n",
       "      <th>6813</th>\n",
       "      <td>0</td>\n",
       "      <td>https://youtu.be/GHarFGFyhcI</td>\n",
       "      <td>PlanktonOk7672</td>\n",
       "      <td>0</td>\n",
       "      <td>https://youtu.be/GHarFGFyhcI</td>\n",
       "      <td>NaN</td>\n",
       "    </tr>\n",
       "    <tr>\n",
       "      <th>6909</th>\n",
       "      <td>0</td>\n",
       "      <td>https://www.allcanpost.com/top-most-visited-to...</td>\n",
       "      <td>allcanposthere</td>\n",
       "      <td>0</td>\n",
       "      <td>https://www.allcanpost.com/top-most-visited-to...</td>\n",
       "      <td>NaN</td>\n",
       "    </tr>\n",
       "    <tr>\n",
       "      <th>7509</th>\n",
       "      <td>0</td>\n",
       "      <td>햄찌</td>\n",
       "      <td>Maleficent-Try-3261</td>\n",
       "      <td>1</td>\n",
       "      <td>햄찌</td>\n",
       "      <td>NaN</td>\n",
       "    </tr>\n",
       "  </tbody>\n",
       "</table>\n",
       "</div>"
      ],
      "text/plain": [
       "      subreddit                                              title  \\\n",
       "136           1        https://moneysocial-huk.buzz/57371695859503   \n",
       "290           1  https://bostonu.qualtrics.com/jfe/form/SV_0CBF...   \n",
       "296           1                       https://youtu.be/PYvapmqsllo   \n",
       "484           1                 https://tegram.me/o3hatzB969EyZDg8   \n",
       "696           1                      شماره خاله واقعی0996.050.3889   \n",
       "989           1                       https://youtu.be/dVS9amLRldI   \n",
       "1073          1                https://ref.timesocial.co/KONTIHENE   \n",
       "1087          1      https://sharing.hopper.com/refer/veronikat9jb   \n",
       "1259          1        https://www.ywsf12.com/2023/02/Bitcoin.html   \n",
       "1513          1  [Work in Progress] AI Optimizer for Multi-Coun...   \n",
       "1603          1                       https://youtu.be/lv3B7LmNdMw   \n",
       "1773          1                       https://youtu.be/RkJWPbEegRc   \n",
       "1910          1                       https://youtu.be/XzTthnpk8H0   \n",
       "2173          1                                           Anything   \n",
       "2274          1           https://onlyfans.com/fernandinhavalle/c1   \n",
       "2332          1        ファイザーガコロナウイルスの外种を制造しテいることガ暴露され、売国奴ガあわテテ「反证」   \n",
       "2794          1   https://www.ywsf12.com/2023/01/blog-post_52.html   \n",
       "2853          1  𝐓𝐡𝐞 𝐭𝐫𝐚𝐯𝐞𝐥 𝐜𝐥𝐮𝐛 𝐟𝐨𝐫 𝐰𝐨𝐦𝐞𝐧: 𝐈𝐧𝐭𝐞𝐫𝐧𝐚𝐭𝐢𝐨𝐧𝐚𝐥 𝐯𝐚𝐜𝐚𝐭...   \n",
       "2858          1  https://www.facebook.com/americamundomx?mibext...   \n",
       "2868          1  https://ywsf-ywsf12.blogspot.com/2023/01/profi...   \n",
       "2875          1                               What do you say 🤔🤔🤔?   \n",
       "3013          1                             https://www.ywsf12.com   \n",
       "3131          1                       https://youtu.be/YLKhIuXFvOY   \n",
       "3166          1                    https://onlyfans.com/u267933808   \n",
       "3675          1                       https://youtu.be/OvO9RjsAM4s   \n",
       "3710          1           https://rainhatransportes.wordpress.com/   \n",
       "3753          1              https://youtube.com/@anjaliravipathak   \n",
       "3754          1                       https://youtu.be/4i24TYQ_s38   \n",
       "6382          0  https://thecasinocomps.com/resorts-world-how-t...   \n",
       "6387          0  https://blidz.app.link/product/5z4dviczn90t3oz...   \n",
       "6813          0                       https://youtu.be/GHarFGFyhcI   \n",
       "6909          0  https://www.allcanpost.com/top-most-visited-to...   \n",
       "7509          0                                                 햄찌   \n",
       "\n",
       "                    author  num_comments  \\\n",
       "136        Choice_Bid_7576             0   \n",
       "290    Lanky-University348             0   \n",
       "296         Alizeyvlog_786             0   \n",
       "484           bigcheeseeee             0   \n",
       "696   Aggressive-Whole8736             0   \n",
       "989          sanjeewa27050             0   \n",
       "1073  Hopeful_Example_3421             0   \n",
       "1087        LosingMyLife89             0   \n",
       "1259    Key-Reflection7007             0   \n",
       "1513              slakmehl             0   \n",
       "1603        CuriousMinds33             0   \n",
       "1773           George_Kein             0   \n",
       "1910            Natureopts             0   \n",
       "2173       Choice_Base2121             0   \n",
       "2274             Fefevalle             0   \n",
       "2332  Fun-Relationship-867             0   \n",
       "2794    Key-Reflection7007             0   \n",
       "2853             Jhume1976             0   \n",
       "2858             atefsaleh             0   \n",
       "2868    Key-Reflection7007             0   \n",
       "2875      questionblogpage             0   \n",
       "3013    Key-Reflection7007             0   \n",
       "3131  Visible-Raspberry-27             0   \n",
       "3166   Neither-Cabinet1029             0   \n",
       "3675                 yartd             0   \n",
       "3710   DocumentCertain5547             0   \n",
       "3753  Aggravating-Fox-4862             0   \n",
       "3754  Aggravating-Fox-4862             0   \n",
       "6382        TheCasinoComps             0   \n",
       "6387  Top_Entrepreneur_536             1   \n",
       "6813        PlanktonOk7672             0   \n",
       "6909        allcanposthere             0   \n",
       "7509   Maleficent-Try-3261             1   \n",
       "\n",
       "                                                   text text_cleaned  \n",
       "136        https://moneysocial-huk.buzz/57371695859503           NaN  \n",
       "290   https://bostonu.qualtrics.com/jfe/form/SV_0CBF...          NaN  \n",
       "296                       https://youtu.be/PYvapmqsllo           NaN  \n",
       "484                 https://tegram.me/o3hatzB969EyZDg8           NaN  \n",
       "696                      شماره خاله واقعی0996.050.3889           NaN  \n",
       "989                       https://youtu.be/dVS9amLRldI           NaN  \n",
       "1073               https://ref.timesocial.co/KONTIHENE           NaN  \n",
       "1087     https://sharing.hopper.com/refer/veronikat9jb           NaN  \n",
       "1259       https://www.ywsf12.com/2023/02/Bitcoin.html           NaN  \n",
       "1513  [Work in Progress] AI Optimizer for Multi-Coun...          NaN  \n",
       "1603                      https://youtu.be/lv3B7LmNdMw           NaN  \n",
       "1773                      https://youtu.be/RkJWPbEegRc           NaN  \n",
       "1910                      https://youtu.be/XzTthnpk8H0           NaN  \n",
       "2173                                          Anything           NaN  \n",
       "2274          https://onlyfans.com/fernandinhavalle/c1           NaN  \n",
       "2332       ファイザーガコロナウイルスの外种を制造しテいることガ暴露され、売国奴ガあわテテ「反证」           NaN  \n",
       "2794  https://www.ywsf12.com/2023/01/blog-post_52.html           NaN  \n",
       "2853  𝐓𝐡𝐞 𝐭𝐫𝐚𝐯𝐞𝐥 𝐜𝐥𝐮𝐛 𝐟𝐨𝐫 𝐰𝐨𝐦𝐞𝐧: 𝐈𝐧𝐭𝐞𝐫𝐧𝐚𝐭𝐢𝐨𝐧𝐚𝐥 𝐯𝐚𝐜𝐚𝐭...          NaN  \n",
       "2858  https://www.facebook.com/americamundomx?mibext...          NaN  \n",
       "2868  https://ywsf-ywsf12.blogspot.com/2023/01/profi...          NaN  \n",
       "2875  What do you say 🤔🤔🤔? [removed]\\n\\n[View Poll](...          NaN  \n",
       "3013                            https://www.ywsf12.com           NaN  \n",
       "3131                      https://youtu.be/YLKhIuXFvOY           NaN  \n",
       "3166                   https://onlyfans.com/u267933808           NaN  \n",
       "3675                      https://youtu.be/OvO9RjsAM4s           NaN  \n",
       "3710          https://rainhatransportes.wordpress.com/           NaN  \n",
       "3753             https://youtube.com/@anjaliravipathak           NaN  \n",
       "3754                      https://youtu.be/4i24TYQ_s38           NaN  \n",
       "6382  https://thecasinocomps.com/resorts-world-how-t...          NaN  \n",
       "6387  https://blidz.app.link/product/5z4dviczn90t3oz...          NaN  \n",
       "6813                      https://youtu.be/GHarFGFyhcI           NaN  \n",
       "6909  https://www.allcanpost.com/top-most-visited-to...          NaN  \n",
       "7509                                                햄찌           NaN  "
      ]
     },
     "execution_count": 5,
     "metadata": {},
     "output_type": "execute_result"
    }
   ],
   "source": [
    "# Nan value due to the text cleaning that returned no words\n",
    "df[bool_series]"
   ]
  },
  {
   "cell_type": "code",
   "execution_count": 6,
   "id": "ecd289f4",
   "metadata": {},
   "outputs": [],
   "source": [
    "# drop\n",
    "df.dropna(axis = 0, inplace = True)"
   ]
  },
  {
   "cell_type": "code",
   "execution_count": 7,
   "id": "b125b428",
   "metadata": {
    "scrolled": true
   },
   "outputs": [
    {
     "name": "stdout",
     "output_type": "stream",
     "text": [
      "<class 'pandas.core.frame.DataFrame'>\n",
      "Int64Index: 7587 entries, 0 to 7619\n",
      "Data columns (total 6 columns):\n",
      " #   Column        Non-Null Count  Dtype \n",
      "---  ------        --------------  ----- \n",
      " 0   subreddit     7587 non-null   int64 \n",
      " 1   title         7587 non-null   object\n",
      " 2   author        7587 non-null   object\n",
      " 3   num_comments  7587 non-null   int64 \n",
      " 4   text          7587 non-null   object\n",
      " 5   text_cleaned  7587 non-null   object\n",
      "dtypes: int64(2), object(4)\n",
      "memory usage: 414.9+ KB\n"
     ]
    }
   ],
   "source": [
    "df.info()"
   ]
  },
  {
   "cell_type": "code",
   "execution_count": 8,
   "id": "0130ecc9",
   "metadata": {},
   "outputs": [],
   "source": [
    "df.drop(columns = ['title', 'author','num_comments','text'], inplace = True)"
   ]
  },
  {
   "cell_type": "code",
   "execution_count": 9,
   "id": "857c2d2e",
   "metadata": {
    "scrolled": true
   },
   "outputs": [],
   "source": [
    "# Save to csv\n",
    "df.to_csv(\"../data/df_final.csv\", index=False)"
   ]
  },
  {
   "cell_type": "code",
   "execution_count": 10,
   "id": "d6018274",
   "metadata": {},
   "outputs": [],
   "source": [
    "df = pd.read_csv('../data/df_final.csv')"
   ]
  },
  {
   "cell_type": "markdown",
   "id": "121c8f8b",
   "metadata": {},
   "source": [
    "### Baseline accuracy"
   ]
  },
  {
   "cell_type": "code",
   "execution_count": 11,
   "id": "db751841",
   "metadata": {},
   "outputs": [],
   "source": [
    "#assign target and result to y and X then carry out train test split\n",
    "y = df['subreddit']\n",
    "X = df['text_cleaned']\n",
    "\n",
    "X_train, X_test, y_train, y_test = train_test_split(\n",
    "    X, y, test_size = 0.25, stratify=y, random_state=123)"
   ]
  },
  {
   "cell_type": "code",
   "execution_count": 12,
   "id": "8d537adc",
   "metadata": {
    "scrolled": false
   },
   "outputs": [
    {
     "data": {
      "text/plain": [
       "((5690,), (1897,))"
      ]
     },
     "execution_count": 12,
     "metadata": {},
     "output_type": "execute_result"
    }
   ],
   "source": [
    "X_train.shape, X_test.shape"
   ]
  },
  {
   "cell_type": "code",
   "execution_count": 13,
   "id": "9a7df943",
   "metadata": {
    "scrolled": false
   },
   "outputs": [
    {
     "data": {
      "text/plain": [
       "0    0.506393\n",
       "1    0.493607\n",
       "Name: subreddit, dtype: float64"
      ]
     },
     "execution_count": 13,
     "metadata": {},
     "output_type": "execute_result"
    }
   ],
   "source": [
    "y.value_counts(normalize=True)"
   ]
  },
  {
   "cell_type": "code",
   "execution_count": 14,
   "id": "96d86ddc",
   "metadata": {
    "scrolled": false
   },
   "outputs": [
    {
     "name": "stdout",
     "output_type": "stream",
     "text": [
      "\n",
      "baseline r2 score: -0.9750086775425197\n",
      "baseline MSE: 0.4936731107205624\n",
      "baseline RMSE: 0.7026187520416477\n",
      "\n"
     ]
    }
   ],
   "source": [
    "# adopted from class\n",
    "# baseline (null) scores\n",
    "# the baseline can only be calculated from what is observed\n",
    "base_preds = np.full_like(y_train, y_train.mean())\n",
    "                          \n",
    "print(f\"\"\"\n",
    "baseline r2 score: {r2_score(y_train, base_preds)}\n",
    "baseline MSE: {mean_squared_error(y_train, base_preds)}\n",
    "baseline RMSE: {mean_squared_error(y_train, base_preds, squared=False)}\n",
    "\"\"\")"
   ]
  },
  {
   "cell_type": "markdown",
   "id": "56c26d35",
   "metadata": {},
   "source": [
    "### Feature extraction: Vectorization "
   ]
  },
  {
   "cell_type": "markdown",
   "id": "de34d634",
   "metadata": {},
   "source": [
    "#### CountVectorizer"
   ]
  },
  {
   "cell_type": "code",
   "execution_count": 15,
   "id": "4e4d6cb8",
   "metadata": {},
   "outputs": [],
   "source": [
    "from sklearn import set_config"
   ]
  },
  {
   "cell_type": "code",
   "execution_count": 16,
   "id": "23da2fbb",
   "metadata": {},
   "outputs": [],
   "source": [
    "set_config(transform_output='pandas')"
   ]
  },
  {
   "cell_type": "code",
   "execution_count": 17,
   "id": "9d8aa67a",
   "metadata": {},
   "outputs": [],
   "source": [
    "# adopted from class\n",
    "# Instantiate a CountVectorizer.\n",
    "cvec = CountVectorizer()\n",
    "\n",
    "# Fit the vectorizer on our corpus.\n",
    "cvec.fit(X_train)\n",
    "\n",
    "# Transform the corpus.\n",
    "X_train_cvec = cvec.transform(X_train)\n",
    "\n",
    "X_test_cvec = cvec.transform(X_test)"
   ]
  },
  {
   "cell_type": "code",
   "execution_count": 18,
   "id": "156f06fe",
   "metadata": {},
   "outputs": [],
   "source": [
    "# Convert X_train into a DataFrame.\n",
    "# We will not actually use this for modeling,\n",
    "# this is just to visualize what is happening\n",
    "X_train_df_cvec = pd.DataFrame(X_train_cvec.todense(), \n",
    "                          columns=cvec.get_feature_names_out())"
   ]
  },
  {
   "cell_type": "code",
   "execution_count": 19,
   "id": "ce0cd922",
   "metadata": {},
   "outputs": [
    {
     "data": {
      "text/plain": [
       "513192624"
      ]
     },
     "execution_count": 19,
     "metadata": {},
     "output_type": "execute_result"
    }
   ],
   "source": [
    "import sys\n",
    "sys.getsizeof(X_train_cvec)  # give 48 \n",
    "sys.getsizeof(X_train_cvec.todense())   # give 152 \n",
    "sys.getsizeof(X_train_df_cvec)    # give 513192624 "
   ]
  },
  {
   "cell_type": "code",
   "execution_count": 20,
   "id": "2c54542e",
   "metadata": {},
   "outputs": [
    {
     "data": {
      "text/plain": [
       "(5690, 11274)"
      ]
     },
     "execution_count": 20,
     "metadata": {},
     "output_type": "execute_result"
    }
   ],
   "source": [
    "X_train_df_cvec.shape"
   ]
  },
  {
   "cell_type": "code",
   "execution_count": 21,
   "id": "bc1f8370",
   "metadata": {},
   "outputs": [],
   "source": [
    "train_df_cvec =X_train_df_cvec.copy()\n",
    "train_df_cvec['subreddit']=y_train.values"
   ]
  },
  {
   "cell_type": "code",
   "execution_count": 22,
   "id": "fe92cc4c",
   "metadata": {},
   "outputs": [],
   "source": [
    "check = X_train_df_cvec[y_train.reset_index(drop=True)==0]"
   ]
  },
  {
   "cell_type": "code",
   "execution_count": 23,
   "id": "b87ee773",
   "metadata": {
    "scrolled": true
   },
   "outputs": [
    {
     "data": {
      "text/plain": [
       "liability    0.000000\n",
       "library      0.000000\n",
       "liberated    0.000000\n",
       "lgbtq        0.000000\n",
       "lexyy        0.000000\n",
       "               ...   \n",
       "book         0.445331\n",
       "mile         0.534884\n",
       "award        0.542520\n",
       "flight       1.080528\n",
       "point        1.236029\n",
       "Length: 11274, dtype: float64"
      ]
     },
     "execution_count": 23,
     "metadata": {},
     "output_type": "execute_result"
    }
   ],
   "source": [
    "check.sum().sort_values()/len(check)"
   ]
  },
  {
   "cell_type": "code",
   "execution_count": 24,
   "id": "a301d704",
   "metadata": {
    "scrolled": false
   },
   "outputs": [
    {
     "data": {
      "image/png": "[encoded data removed]",
      "text/plain": [
       "<Figure size 1000x500 with 2 Axes>"
      ]
     },
     "metadata": {},
     "output_type": "display_data"
    }
   ],
   "source": [
    "# adopted from class\n",
    "# comparsion unigrams count using cvec for AwardTravel vs TravelHacks\n",
    "fig, axs = plt.subplots(1, 2, figsize=(10,5), sharex=True)\n",
    "\n",
    "for i in range(2):\n",
    "    check = X_train_df_cvec[y_train.reset_index(drop=True)==i]\n",
    "    (check.sum().sort_values()/len(check)).tail(10).plot(kind='barh', ax=axs[i])\n",
    "    axs[i].set_title(['AwardTravel', 'TravelHacks'][i])\n",
    "    axs[i].set_xlabel('Normalized Corpus Frequency')\n",
    "    \n",
    "plt.suptitle('Most Popular Unigrams by Class via CountVectorizer');"
   ]
  },
  {
   "cell_type": "markdown",
   "id": "cadc6b16",
   "metadata": {},
   "source": [
    "#### TfidfVectorizer"
   ]
  },
  {
   "cell_type": "code",
   "execution_count": 27,
   "id": "9e5c6926",
   "metadata": {},
   "outputs": [],
   "source": [
    "# adopted from class\n",
    "# Instantiate a TfidfVectorizer.\n",
    "tvec = TfidfVectorizer()\n",
    "\n",
    "# Fit the vectorizer on our corpus.\n",
    "tvec.fit(X_train)\n",
    "\n",
    "# Transform the corpus.\n",
    "X_train_tvec = tvec.transform(X_train)\n",
    "\n",
    "X_test_tvec = tvec.transform(X_test)"
   ]
  },
  {
   "cell_type": "code",
   "execution_count": 28,
   "id": "48f32eb3",
   "metadata": {},
   "outputs": [],
   "source": [
    "# Convert X_train into a DataFrame.\n",
    "# We will not actually use this for modeling,\n",
    "# this is just to visualize what is happening\n",
    "X_train_df_tvec = pd.DataFrame(X_train_tvec.todense(), \n",
    "                          columns=tvec.get_feature_names_out())"
   ]
  },
  {
   "cell_type": "code",
   "execution_count": 29,
   "id": "43f1de89",
   "metadata": {
    "scrolled": true
   },
   "outputs": [
    {
     "data": {
      "text/plain": [
       "513192624"
      ]
     },
     "execution_count": 29,
     "metadata": {},
     "output_type": "execute_result"
    }
   ],
   "source": [
    "sys.getsizeof(X_train_cvec)  # give 48 \n",
    "sys.getsizeof(X_train_cvec.todense())   # give 152 \n",
    "sys.getsizeof(X_train_df_cvec)    # give 513192624 "
   ]
  },
  {
   "cell_type": "code",
   "execution_count": 30,
   "id": "48efc2b9",
   "metadata": {},
   "outputs": [
    {
     "data": {
      "text/plain": [
       "(5690, 11274)"
      ]
     },
     "execution_count": 30,
     "metadata": {},
     "output_type": "execute_result"
    }
   ],
   "source": [
    "X_train_df_tvec.shape"
   ]
  },
  {
   "cell_type": "code",
   "execution_count": 31,
   "id": "7fb0bc2c",
   "metadata": {},
   "outputs": [],
   "source": [
    "train_df_tvec=X_train_df_tvec.copy()\n",
    "train_df_tvec['subreddit']=y_train.values"
   ]
  },
  {
   "cell_type": "code",
   "execution_count": 32,
   "id": "0b560458",
   "metadata": {},
   "outputs": [],
   "source": [
    "check_tvec = X_train_df_tvec[y_train.reset_index(drop=True)==0]"
   ]
  },
  {
   "cell_type": "code",
   "execution_count": 33,
   "id": "9d6b4993",
   "metadata": {
    "scrolled": true
   },
   "outputs": [
    {
     "data": {
      "text/plain": [
       "liability    0.000000\n",
       "library      0.000000\n",
       "liberated    0.000000\n",
       "lgbtq        0.000000\n",
       "lexyy        0.000000\n",
       "               ...   \n",
       "book         0.029204\n",
       "award        0.037111\n",
       "mile         0.038960\n",
       "flight       0.052629\n",
       "point        0.071016\n",
       "Length: 11274, dtype: float64"
      ]
     },
     "execution_count": 33,
     "metadata": {},
     "output_type": "execute_result"
    }
   ],
   "source": [
    "check_tvec.sum().sort_values()/len(check_tvec)"
   ]
  },
  {
   "cell_type": "code",
   "execution_count": 34,
   "id": "12021116",
   "metadata": {
    "scrolled": true
   },
   "outputs": [
    {
     "data": {
      "image/png": "[encoded data removed]",
      "text/plain": [
       "<Figure size 1000x500 with 2 Axes>"
      ]
     },
     "metadata": {},
     "output_type": "display_data"
    }
   ],
   "source": [
    "# adopted from class\n",
    "# comparsion unigrams count using tvec for AwardTravel vs TravelHacks\n",
    "fig, axs = plt.subplots(1, 2, figsize=(10,5), sharex=True)\n",
    "\n",
    "for j in range(2):\n",
    "    check_tvec = X_train_df_tvec[y_train.reset_index(drop=True)==j]\n",
    "    (check_tvec.sum().sort_values()/len(check_tvec)).tail(10).plot(kind='barh', ax=axs[j])\n",
    "    axs[j].set_title(['AwardTravel', 'TravelHacks'][j])\n",
    "    axs[j].set_xlabel('Normalized Corpus Frequency')\n",
    "    \n",
    "plt.suptitle('Most Popular Unigrams by Class via TfidfVectorizer');"
   ]
  },
  {
   "cell_type": "markdown",
   "id": "92321088",
   "metadata": {},
   "source": [
    "### Modeling"
   ]
  },
  {
   "cell_type": "code",
   "execution_count": 37,
   "id": "75790cec",
   "metadata": {},
   "outputs": [],
   "source": [
    "# function to save score in datafram for easy comparison\n",
    "# credit: https://stackoverflow.com/questions/64039664/combine-metrics-results-into-a-dataframe-python\n",
    "list_of_rows = []\n",
    "score_df = pd.DataFrame()\n",
    "\n",
    "def modelscore(pipe, gs, transformer, model):\n",
    "    column = pd.Series({\"GridSearch\": gs, # -, +\n",
    "        \"Transformer\": transformer, #CountVectorizer,TfidfVectorizer\n",
    "        \"Model\" : model, #Logistic, MultinomialNB\n",
    "        \"cross_val_score\": cross_val_score(pipe, X_train, y_train, cv=5).mean(),\n",
    "        \"Train Score\" : pipe.score(X_train,y_train),\n",
    "        \"Test Score\" : pipe.score(X_test,y_test)\n",
    "               })\n",
    "    list_of_rows.append(column) \n",
    "    #global score_df\n",
    "    score_df = pd.DataFrame(list_of_rows)\n",
    "    print(score_df)"
   ]
  },
  {
   "cell_type": "code",
   "execution_count": 38,
   "id": "c08c032d",
   "metadata": {},
   "outputs": [],
   "source": [
    "#assign target and result to y and X then carry out train test split  --> just to be sure values were from original data\n",
    "y = df['subreddit']\n",
    "X = df['text_cleaned']\n",
    "\n",
    "X_train, X_test, y_train, y_test = train_test_split(\n",
    "    X, y, test_size = 0.25, stratify=y, random_state=123)"
   ]
  },
  {
   "cell_type": "markdown",
   "id": "de867a4e",
   "metadata": {},
   "source": [
    "#### Model 1: CountVectorizer and LogisticRegression"
   ]
  },
  {
   "cell_type": "code",
   "execution_count": 39,
   "id": "705ae127",
   "metadata": {},
   "outputs": [],
   "source": [
    "# set a pipeline up with two stages: CountVectorizer (transformer) and LogisticRegression (estimator)\n",
    "pipe_cvec_log = Pipeline([('cvec', CountVectorizer()),\n",
    "                 ('log', LogisticRegression())\n",
    "                ])"
   ]
  },
  {
   "cell_type": "code",
   "execution_count": 40,
   "id": "7068d173",
   "metadata": {},
   "outputs": [
    {
     "data": {
      "text/html": [
       "<style>#sk-container-id-1 {color: black;background-color: white;}#sk-container-id-1 pre{padding: 0;}#sk-container-id-1 div.sk-toggleable {background-color: white;}#sk-container-id-1 label.sk-toggleable__label {cursor: pointer;display: block;width: 100%;margin-bottom: 0;padding: 0.3em;box-sizing: border-box;text-align: center;}#sk-container-id-1 label.sk-toggleable__label-arrow:before {content: \"▸\";float: left;margin-right: 0.25em;color: #696969;}#sk-container-id-1 label.sk-toggleable__label-arrow:hover:before {color: black;}#sk-container-id-1 div.sk-estimator:hover label.sk-toggleable__label-arrow:before {color: black;}#sk-container-id-1 div.sk-toggleable__content {max-height: 0;max-width: 0;overflow: hidden;text-align: left;background-color: #f0f8ff;}#sk-container-id-1 div.sk-toggleable__content pre {margin: 0.2em;color: black;border-radius: 0.25em;background-color: #f0f8ff;}#sk-container-id-1 input.sk-toggleable__control:checked~div.sk-toggleable__content {max-height: 200px;max-width: 100%;overflow: auto;}#sk-container-id-1 input.sk-toggleable__control:checked~label.sk-toggleable__label-arrow:before {content: \"▾\";}#sk-container-id-1 div.sk-estimator input.sk-toggleable__control:checked~label.sk-toggleable__label {background-color: #d4ebff;}#sk-container-id-1 div.sk-label input.sk-toggleable__control:checked~label.sk-toggleable__label {background-color: #d4ebff;}#sk-container-id-1 input.sk-hidden--visually {border: 0;clip: rect(1px 1px 1px 1px);clip: rect(1px, 1px, 1px, 1px);height: 1px;margin: -1px;overflow: hidden;padding: 0;position: absolute;width: 1px;}#sk-container-id-1 div.sk-estimator {font-family: monospace;background-color: #f0f8ff;border: 1px dotted black;border-radius: 0.25em;box-sizing: border-box;margin-bottom: 0.5em;}#sk-container-id-1 div.sk-estimator:hover {background-color: #d4ebff;}#sk-container-id-1 div.sk-parallel-item::after {content: \"\";width: 100%;border-bottom: 1px solid gray;flex-grow: 1;}#sk-container-id-1 div.sk-label:hover label.sk-toggleable__label {background-color: #d4ebff;}#sk-container-id-1 div.sk-serial::before {content: \"\";position: absolute;border-left: 1px solid gray;box-sizing: border-box;top: 0;bottom: 0;left: 50%;z-index: 0;}#sk-container-id-1 div.sk-serial {display: flex;flex-direction: column;align-items: center;background-color: white;padding-right: 0.2em;padding-left: 0.2em;position: relative;}#sk-container-id-1 div.sk-item {position: relative;z-index: 1;}#sk-container-id-1 div.sk-parallel {display: flex;align-items: stretch;justify-content: center;background-color: white;position: relative;}#sk-container-id-1 div.sk-item::before, #sk-container-id-1 div.sk-parallel-item::before {content: \"\";position: absolute;border-left: 1px solid gray;box-sizing: border-box;top: 0;bottom: 0;left: 50%;z-index: -1;}#sk-container-id-1 div.sk-parallel-item {display: flex;flex-direction: column;z-index: 1;position: relative;background-color: white;}#sk-container-id-1 div.sk-parallel-item:first-child::after {align-self: flex-end;width: 50%;}#sk-container-id-1 div.sk-parallel-item:last-child::after {align-self: flex-start;width: 50%;}#sk-container-id-1 div.sk-parallel-item:only-child::after {width: 0;}#sk-container-id-1 div.sk-dashed-wrapped {border: 1px dashed gray;margin: 0 0.4em 0.5em 0.4em;box-sizing: border-box;padding-bottom: 0.4em;background-color: white;}#sk-container-id-1 div.sk-label label {font-family: monospace;font-weight: bold;display: inline-block;line-height: 1.2em;}#sk-container-id-1 div.sk-label-container {text-align: center;}#sk-container-id-1 div.sk-container {/* jupyter's `normalize.less` sets `[hidden] { display: none; }` but bootstrap.min.css set `[hidden] { display: none !important; }` so we also need the `!important` here to be able to override the default hidden behavior on the sphinx rendered scikit-learn.org. See: https://github.com/scikit-learn/scikit-learn/issues/21755 */display: inline-block !important;position: relative;}#sk-container-id-1 div.sk-text-repr-fallback {display: none;}</style><div id=\"sk-container-id-1\" class=\"sk-top-container\"><div class=\"sk-text-repr-fallback\"><pre>Pipeline(steps=[(&#x27;cvec&#x27;, CountVectorizer()), (&#x27;log&#x27;, LogisticRegression())])</pre><b>In a Jupyter environment, please rerun this cell to show the HTML representation or trust the notebook. <br />On GitHub, the HTML representation is unable to render, please try loading this page with nbviewer.org.</b></div><div class=\"sk-container\" hidden><div class=\"sk-item sk-dashed-wrapped\"><div class=\"sk-label-container\"><div class=\"sk-label sk-toggleable\"><input class=\"sk-toggleable__control sk-hidden--visually\" id=\"sk-estimator-id-1\" type=\"checkbox\" ><label for=\"sk-estimator-id-1\" class=\"sk-toggleable__label sk-toggleable__label-arrow\">Pipeline</label><div class=\"sk-toggleable__content\"><pre>Pipeline(steps=[(&#x27;cvec&#x27;, CountVectorizer()), (&#x27;log&#x27;, LogisticRegression())])</pre></div></div></div><div class=\"sk-serial\"><div class=\"sk-item\"><div class=\"sk-estimator sk-toggleable\"><input class=\"sk-toggleable__control sk-hidden--visually\" id=\"sk-estimator-id-2\" type=\"checkbox\" ><label for=\"sk-estimator-id-2\" class=\"sk-toggleable__label sk-toggleable__label-arrow\">CountVectorizer</label><div class=\"sk-toggleable__content\"><pre>CountVectorizer()</pre></div></div></div><div class=\"sk-item\"><div class=\"sk-estimator sk-toggleable\"><input class=\"sk-toggleable__control sk-hidden--visually\" id=\"sk-estimator-id-3\" type=\"checkbox\" ><label for=\"sk-estimator-id-3\" class=\"sk-toggleable__label sk-toggleable__label-arrow\">LogisticRegression</label><div class=\"sk-toggleable__content\"><pre>LogisticRegression()</pre></div></div></div></div></div></div></div>"
      ],
      "text/plain": [
       "Pipeline(steps=[('cvec', CountVectorizer()), ('log', LogisticRegression())])"
      ]
     },
     "execution_count": 40,
     "metadata": {},
     "output_type": "execute_result"
    }
   ],
   "source": [
    "# fit\n",
    "pipe_cvec_log.fit(X_train, y_train)"
   ]
  },
  {
   "cell_type": "code",
   "execution_count": 41,
   "id": "0bf8469d",
   "metadata": {
    "scrolled": true
   },
   "outputs": [
    {
     "data": {
      "text/plain": [
       "array([0.90509666, 0.91300527, 0.89806678, 0.9059754 , 0.91300527])"
      ]
     },
     "execution_count": 41,
     "metadata": {},
     "output_type": "execute_result"
    }
   ],
   "source": [
    "cross_val_score(pipe_cvec_log, X_train, y_train, cv=5)"
   ]
  },
  {
   "cell_type": "code",
   "execution_count": 42,
   "id": "b4feb231",
   "metadata": {},
   "outputs": [
    {
     "name": "stdout",
     "output_type": "stream",
     "text": [
      "  GridSearch Transformer     Model  cross_val_score  Train Score  Test Score\n",
      "0          -       CVect  Logistic          0.90703     0.974868    0.906168\n"
     ]
    }
   ],
   "source": [
    "modelscore(pipe_cvec_log, '-', 'CVect', 'Logistic')"
   ]
  },
  {
   "cell_type": "code",
   "execution_count": 43,
   "id": "fbf92728",
   "metadata": {
    "scrolled": true
   },
   "outputs": [
    {
     "data": {
      "text/plain": [
       "dict_keys(['memory', 'steps', 'verbose', 'cvec', 'log', 'cvec__analyzer', 'cvec__binary', 'cvec__decode_error', 'cvec__dtype', 'cvec__encoding', 'cvec__input', 'cvec__lowercase', 'cvec__max_df', 'cvec__max_features', 'cvec__min_df', 'cvec__ngram_range', 'cvec__preprocessor', 'cvec__stop_words', 'cvec__strip_accents', 'cvec__token_pattern', 'cvec__tokenizer', 'cvec__vocabulary', 'log__C', 'log__class_weight', 'log__dual', 'log__fit_intercept', 'log__intercept_scaling', 'log__l1_ratio', 'log__max_iter', 'log__multi_class', 'log__n_jobs', 'log__penalty', 'log__random_state', 'log__solver', 'log__tol', 'log__verbose', 'log__warm_start'])"
      ]
     },
     "execution_count": 43,
     "metadata": {},
     "output_type": "execute_result"
    }
   ],
   "source": [
    "# check the adjustable parameters\n",
    "pipe_cvec_log.get_params().keys()"
   ]
  },
  {
   "cell_type": "code",
   "execution_count": 44,
   "id": "4dfa3542",
   "metadata": {},
   "outputs": [],
   "source": [
    "# Search over the following values of hyperparameters:\n",
    "# Maximum number of features fit: 2000, 3000, 4000\n",
    "# Minimum number of documents needed to include token: 1, 2, 3\n",
    "# Maximum number of documents needed to include token: 40%, 50%, 60, 70%\n",
    "# Check (individual tokens) and also check (individual tokens, 2-grams, 3 grams).\n",
    "\n",
    "pipe_params_cvec = {\n",
    "    'cvec__max_features': [2000, 3000, 4000],\n",
    "    'cvec__min_df': [1, 2, 3],\n",
    "    'cvec__max_df': [.4, .5, .6, .7],\n",
    "    'cvec__ngram_range': [(1,1), (1,2), (1,3)],\n",
    "    'cvec__stop_words' : ['english', None]\n",
    "}"
   ]
  },
  {
   "cell_type": "code",
   "execution_count": 45,
   "id": "b2f7aad8",
   "metadata": {},
   "outputs": [],
   "source": [
    "# Instantiate GridSearchCV.\n",
    "gs_1 = GridSearchCV(pipe_cvec_log,\n",
    "                  pipe_params_cvec,\n",
    "                  cv=5)"
   ]
  },
  {
   "cell_type": "code",
   "execution_count": 46,
   "id": "4d0f262e",
   "metadata": {
    "scrolled": true
   },
   "outputs": [
    {
     "data": {
      "text/html": [
       "<style>#sk-container-id-2 {color: black;background-color: white;}#sk-container-id-2 pre{padding: 0;}#sk-container-id-2 div.sk-toggleable {background-color: white;}#sk-container-id-2 label.sk-toggleable__label {cursor: pointer;display: block;width: 100%;margin-bottom: 0;padding: 0.3em;box-sizing: border-box;text-align: center;}#sk-container-id-2 label.sk-toggleable__label-arrow:before {content: \"▸\";float: left;margin-right: 0.25em;color: #696969;}#sk-container-id-2 label.sk-toggleable__label-arrow:hover:before {color: black;}#sk-container-id-2 div.sk-estimator:hover label.sk-toggleable__label-arrow:before {color: black;}#sk-container-id-2 div.sk-toggleable__content {max-height: 0;max-width: 0;overflow: hidden;text-align: left;background-color: #f0f8ff;}#sk-container-id-2 div.sk-toggleable__content pre {margin: 0.2em;color: black;border-radius: 0.25em;background-color: #f0f8ff;}#sk-container-id-2 input.sk-toggleable__control:checked~div.sk-toggleable__content {max-height: 200px;max-width: 100%;overflow: auto;}#sk-container-id-2 input.sk-toggleable__control:checked~label.sk-toggleable__label-arrow:before {content: \"▾\";}#sk-container-id-2 div.sk-estimator input.sk-toggleable__control:checked~label.sk-toggleable__label {background-color: #d4ebff;}#sk-container-id-2 div.sk-label input.sk-toggleable__control:checked~label.sk-toggleable__label {background-color: #d4ebff;}#sk-container-id-2 input.sk-hidden--visually {border: 0;clip: rect(1px 1px 1px 1px);clip: rect(1px, 1px, 1px, 1px);height: 1px;margin: -1px;overflow: hidden;padding: 0;position: absolute;width: 1px;}#sk-container-id-2 div.sk-estimator {font-family: monospace;background-color: #f0f8ff;border: 1px dotted black;border-radius: 0.25em;box-sizing: border-box;margin-bottom: 0.5em;}#sk-container-id-2 div.sk-estimator:hover {background-color: #d4ebff;}#sk-container-id-2 div.sk-parallel-item::after {content: \"\";width: 100%;border-bottom: 1px solid gray;flex-grow: 1;}#sk-container-id-2 div.sk-label:hover label.sk-toggleable__label {background-color: #d4ebff;}#sk-container-id-2 div.sk-serial::before {content: \"\";position: absolute;border-left: 1px solid gray;box-sizing: border-box;top: 0;bottom: 0;left: 50%;z-index: 0;}#sk-container-id-2 div.sk-serial {display: flex;flex-direction: column;align-items: center;background-color: white;padding-right: 0.2em;padding-left: 0.2em;position: relative;}#sk-container-id-2 div.sk-item {position: relative;z-index: 1;}#sk-container-id-2 div.sk-parallel {display: flex;align-items: stretch;justify-content: center;background-color: white;position: relative;}#sk-container-id-2 div.sk-item::before, #sk-container-id-2 div.sk-parallel-item::before {content: \"\";position: absolute;border-left: 1px solid gray;box-sizing: border-box;top: 0;bottom: 0;left: 50%;z-index: -1;}#sk-container-id-2 div.sk-parallel-item {display: flex;flex-direction: column;z-index: 1;position: relative;background-color: white;}#sk-container-id-2 div.sk-parallel-item:first-child::after {align-self: flex-end;width: 50%;}#sk-container-id-2 div.sk-parallel-item:last-child::after {align-self: flex-start;width: 50%;}#sk-container-id-2 div.sk-parallel-item:only-child::after {width: 0;}#sk-container-id-2 div.sk-dashed-wrapped {border: 1px dashed gray;margin: 0 0.4em 0.5em 0.4em;box-sizing: border-box;padding-bottom: 0.4em;background-color: white;}#sk-container-id-2 div.sk-label label {font-family: monospace;font-weight: bold;display: inline-block;line-height: 1.2em;}#sk-container-id-2 div.sk-label-container {text-align: center;}#sk-container-id-2 div.sk-container {/* jupyter's `normalize.less` sets `[hidden] { display: none; }` but bootstrap.min.css set `[hidden] { display: none !important; }` so we also need the `!important` here to be able to override the default hidden behavior on the sphinx rendered scikit-learn.org. See: https://github.com/scikit-learn/scikit-learn/issues/21755 */display: inline-block !important;position: relative;}#sk-container-id-2 div.sk-text-repr-fallback {display: none;}</style><div id=\"sk-container-id-2\" class=\"sk-top-container\"><div class=\"sk-text-repr-fallback\"><pre>GridSearchCV(cv=5,\n",
       "             estimator=Pipeline(steps=[(&#x27;cvec&#x27;, CountVectorizer()),\n",
       "                                       (&#x27;log&#x27;, LogisticRegression())]),\n",
       "             param_grid={&#x27;cvec__max_df&#x27;: [0.4, 0.5, 0.6, 0.7],\n",
       "                         &#x27;cvec__max_features&#x27;: [2000, 3000, 4000],\n",
       "                         &#x27;cvec__min_df&#x27;: [1, 2, 3],\n",
       "                         &#x27;cvec__ngram_range&#x27;: [(1, 1), (1, 2), (1, 3)],\n",
       "                         &#x27;cvec__stop_words&#x27;: [&#x27;english&#x27;, None]})</pre><b>In a Jupyter environment, please rerun this cell to show the HTML representation or trust the notebook. <br />On GitHub, the HTML representation is unable to render, please try loading this page with nbviewer.org.</b></div><div class=\"sk-container\" hidden><div class=\"sk-item sk-dashed-wrapped\"><div class=\"sk-label-container\"><div class=\"sk-label sk-toggleable\"><input class=\"sk-toggleable__control sk-hidden--visually\" id=\"sk-estimator-id-4\" type=\"checkbox\" ><label for=\"sk-estimator-id-4\" class=\"sk-toggleable__label sk-toggleable__label-arrow\">GridSearchCV</label><div class=\"sk-toggleable__content\"><pre>GridSearchCV(cv=5,\n",
       "             estimator=Pipeline(steps=[(&#x27;cvec&#x27;, CountVectorizer()),\n",
       "                                       (&#x27;log&#x27;, LogisticRegression())]),\n",
       "             param_grid={&#x27;cvec__max_df&#x27;: [0.4, 0.5, 0.6, 0.7],\n",
       "                         &#x27;cvec__max_features&#x27;: [2000, 3000, 4000],\n",
       "                         &#x27;cvec__min_df&#x27;: [1, 2, 3],\n",
       "                         &#x27;cvec__ngram_range&#x27;: [(1, 1), (1, 2), (1, 3)],\n",
       "                         &#x27;cvec__stop_words&#x27;: [&#x27;english&#x27;, None]})</pre></div></div></div><div class=\"sk-parallel\"><div class=\"sk-parallel-item\"><div class=\"sk-item\"><div class=\"sk-label-container\"><div class=\"sk-label sk-toggleable\"><input class=\"sk-toggleable__control sk-hidden--visually\" id=\"sk-estimator-id-5\" type=\"checkbox\" ><label for=\"sk-estimator-id-5\" class=\"sk-toggleable__label sk-toggleable__label-arrow\">estimator: Pipeline</label><div class=\"sk-toggleable__content\"><pre>Pipeline(steps=[(&#x27;cvec&#x27;, CountVectorizer()), (&#x27;log&#x27;, LogisticRegression())])</pre></div></div></div><div class=\"sk-serial\"><div class=\"sk-item\"><div class=\"sk-serial\"><div class=\"sk-item\"><div class=\"sk-estimator sk-toggleable\"><input class=\"sk-toggleable__control sk-hidden--visually\" id=\"sk-estimator-id-6\" type=\"checkbox\" ><label for=\"sk-estimator-id-6\" class=\"sk-toggleable__label sk-toggleable__label-arrow\">CountVectorizer</label><div class=\"sk-toggleable__content\"><pre>CountVectorizer()</pre></div></div></div><div class=\"sk-item\"><div class=\"sk-estimator sk-toggleable\"><input class=\"sk-toggleable__control sk-hidden--visually\" id=\"sk-estimator-id-7\" type=\"checkbox\" ><label for=\"sk-estimator-id-7\" class=\"sk-toggleable__label sk-toggleable__label-arrow\">LogisticRegression</label><div class=\"sk-toggleable__content\"><pre>LogisticRegression()</pre></div></div></div></div></div></div></div></div></div></div></div></div>"
      ],
      "text/plain": [
       "GridSearchCV(cv=5,\n",
       "             estimator=Pipeline(steps=[('cvec', CountVectorizer()),\n",
       "                                       ('log', LogisticRegression())]),\n",
       "             param_grid={'cvec__max_df': [0.4, 0.5, 0.6, 0.7],\n",
       "                         'cvec__max_features': [2000, 3000, 4000],\n",
       "                         'cvec__min_df': [1, 2, 3],\n",
       "                         'cvec__ngram_range': [(1, 1), (1, 2), (1, 3)],\n",
       "                         'cvec__stop_words': ['english', None]})"
      ]
     },
     "execution_count": 46,
     "metadata": {},
     "output_type": "execute_result"
    }
   ],
   "source": [
    "gs_1.fit(X_train, y_train)"
   ]
  },
  {
   "cell_type": "code",
   "execution_count": 47,
   "id": "15f9a359",
   "metadata": {
    "scrolled": true
   },
   "outputs": [
    {
     "data": {
      "text/plain": [
       "{'cvec__max_df': 0.4,\n",
       " 'cvec__max_features': 4000,\n",
       " 'cvec__min_df': 1,\n",
       " 'cvec__ngram_range': (1, 2),\n",
       " 'cvec__stop_words': None}"
      ]
     },
     "execution_count": 47,
     "metadata": {},
     "output_type": "execute_result"
    }
   ],
   "source": [
    "gs_1.best_params_"
   ]
  },
  {
   "cell_type": "code",
   "execution_count": 48,
   "id": "3015600c",
   "metadata": {
    "scrolled": true
   },
   "outputs": [
    {
     "data": {
      "text/plain": [
       "0.90896309314587"
      ]
     },
     "execution_count": 48,
     "metadata": {},
     "output_type": "execute_result"
    }
   ],
   "source": [
    "gs_1.best_score_"
   ]
  },
  {
   "cell_type": "code",
   "execution_count": 49,
   "id": "6b7c6419",
   "metadata": {
    "scrolled": true
   },
   "outputs": [
    {
     "name": "stdout",
     "output_type": "stream",
     "text": [
      "  GridSearch Transformer     Model  cross_val_score  Train Score  Test Score\n",
      "0          -       CVect  Logistic         0.907030     0.974868    0.906168\n",
      "1          +       CVect  Logistic         0.909315     0.975747    0.912493\n"
     ]
    }
   ],
   "source": [
    "modelscore(gs_1, '+', 'CVect', 'Logistic')"
   ]
  },
  {
   "cell_type": "markdown",
   "id": "09299a8b",
   "metadata": {},
   "source": [
    "#### Model 2: CountVectorizer and MultinomialNB"
   ]
  },
  {
   "cell_type": "code",
   "execution_count": 50,
   "id": "add86e5d",
   "metadata": {},
   "outputs": [],
   "source": [
    "# set a pipeline up with two stages: CountVectorizer (transformer) and MultinomialNB (estimator)\n",
    "pipe_cvec_nb = Pipeline([('cvec', CountVectorizer()),\n",
    "                 ('nb', MultinomialNB())\n",
    "                ])"
   ]
  },
  {
   "cell_type": "code",
   "execution_count": 51,
   "id": "213bd9b6",
   "metadata": {},
   "outputs": [
    {
     "data": {
      "text/html": [
       "<style>#sk-container-id-3 {color: black;background-color: white;}#sk-container-id-3 pre{padding: 0;}#sk-container-id-3 div.sk-toggleable {background-color: white;}#sk-container-id-3 label.sk-toggleable__label {cursor: pointer;display: block;width: 100%;margin-bottom: 0;padding: 0.3em;box-sizing: border-box;text-align: center;}#sk-container-id-3 label.sk-toggleable__label-arrow:before {content: \"▸\";float: left;margin-right: 0.25em;color: #696969;}#sk-container-id-3 label.sk-toggleable__label-arrow:hover:before {color: black;}#sk-container-id-3 div.sk-estimator:hover label.sk-toggleable__label-arrow:before {color: black;}#sk-container-id-3 div.sk-toggleable__content {max-height: 0;max-width: 0;overflow: hidden;text-align: left;background-color: #f0f8ff;}#sk-container-id-3 div.sk-toggleable__content pre {margin: 0.2em;color: black;border-radius: 0.25em;background-color: #f0f8ff;}#sk-container-id-3 input.sk-toggleable__control:checked~div.sk-toggleable__content {max-height: 200px;max-width: 100%;overflow: auto;}#sk-container-id-3 input.sk-toggleable__control:checked~label.sk-toggleable__label-arrow:before {content: \"▾\";}#sk-container-id-3 div.sk-estimator input.sk-toggleable__control:checked~label.sk-toggleable__label {background-color: #d4ebff;}#sk-container-id-3 div.sk-label input.sk-toggleable__control:checked~label.sk-toggleable__label {background-color: #d4ebff;}#sk-container-id-3 input.sk-hidden--visually {border: 0;clip: rect(1px 1px 1px 1px);clip: rect(1px, 1px, 1px, 1px);height: 1px;margin: -1px;overflow: hidden;padding: 0;position: absolute;width: 1px;}#sk-container-id-3 div.sk-estimator {font-family: monospace;background-color: #f0f8ff;border: 1px dotted black;border-radius: 0.25em;box-sizing: border-box;margin-bottom: 0.5em;}#sk-container-id-3 div.sk-estimator:hover {background-color: #d4ebff;}#sk-container-id-3 div.sk-parallel-item::after {content: \"\";width: 100%;border-bottom: 1px solid gray;flex-grow: 1;}#sk-container-id-3 div.sk-label:hover label.sk-toggleable__label {background-color: #d4ebff;}#sk-container-id-3 div.sk-serial::before {content: \"\";position: absolute;border-left: 1px solid gray;box-sizing: border-box;top: 0;bottom: 0;left: 50%;z-index: 0;}#sk-container-id-3 div.sk-serial {display: flex;flex-direction: column;align-items: center;background-color: white;padding-right: 0.2em;padding-left: 0.2em;position: relative;}#sk-container-id-3 div.sk-item {position: relative;z-index: 1;}#sk-container-id-3 div.sk-parallel {display: flex;align-items: stretch;justify-content: center;background-color: white;position: relative;}#sk-container-id-3 div.sk-item::before, #sk-container-id-3 div.sk-parallel-item::before {content: \"\";position: absolute;border-left: 1px solid gray;box-sizing: border-box;top: 0;bottom: 0;left: 50%;z-index: -1;}#sk-container-id-3 div.sk-parallel-item {display: flex;flex-direction: column;z-index: 1;position: relative;background-color: white;}#sk-container-id-3 div.sk-parallel-item:first-child::after {align-self: flex-end;width: 50%;}#sk-container-id-3 div.sk-parallel-item:last-child::after {align-self: flex-start;width: 50%;}#sk-container-id-3 div.sk-parallel-item:only-child::after {width: 0;}#sk-container-id-3 div.sk-dashed-wrapped {border: 1px dashed gray;margin: 0 0.4em 0.5em 0.4em;box-sizing: border-box;padding-bottom: 0.4em;background-color: white;}#sk-container-id-3 div.sk-label label {font-family: monospace;font-weight: bold;display: inline-block;line-height: 1.2em;}#sk-container-id-3 div.sk-label-container {text-align: center;}#sk-container-id-3 div.sk-container {/* jupyter's `normalize.less` sets `[hidden] { display: none; }` but bootstrap.min.css set `[hidden] { display: none !important; }` so we also need the `!important` here to be able to override the default hidden behavior on the sphinx rendered scikit-learn.org. See: https://github.com/scikit-learn/scikit-learn/issues/21755 */display: inline-block !important;position: relative;}#sk-container-id-3 div.sk-text-repr-fallback {display: none;}</style><div id=\"sk-container-id-3\" class=\"sk-top-container\"><div class=\"sk-text-repr-fallback\"><pre>Pipeline(steps=[(&#x27;cvec&#x27;, CountVectorizer()), (&#x27;nb&#x27;, MultinomialNB())])</pre><b>In a Jupyter environment, please rerun this cell to show the HTML representation or trust the notebook. <br />On GitHub, the HTML representation is unable to render, please try loading this page with nbviewer.org.</b></div><div class=\"sk-container\" hidden><div class=\"sk-item sk-dashed-wrapped\"><div class=\"sk-label-container\"><div class=\"sk-label sk-toggleable\"><input class=\"sk-toggleable__control sk-hidden--visually\" id=\"sk-estimator-id-8\" type=\"checkbox\" ><label for=\"sk-estimator-id-8\" class=\"sk-toggleable__label sk-toggleable__label-arrow\">Pipeline</label><div class=\"sk-toggleable__content\"><pre>Pipeline(steps=[(&#x27;cvec&#x27;, CountVectorizer()), (&#x27;nb&#x27;, MultinomialNB())])</pre></div></div></div><div class=\"sk-serial\"><div class=\"sk-item\"><div class=\"sk-estimator sk-toggleable\"><input class=\"sk-toggleable__control sk-hidden--visually\" id=\"sk-estimator-id-9\" type=\"checkbox\" ><label for=\"sk-estimator-id-9\" class=\"sk-toggleable__label sk-toggleable__label-arrow\">CountVectorizer</label><div class=\"sk-toggleable__content\"><pre>CountVectorizer()</pre></div></div></div><div class=\"sk-item\"><div class=\"sk-estimator sk-toggleable\"><input class=\"sk-toggleable__control sk-hidden--visually\" id=\"sk-estimator-id-10\" type=\"checkbox\" ><label for=\"sk-estimator-id-10\" class=\"sk-toggleable__label sk-toggleable__label-arrow\">MultinomialNB</label><div class=\"sk-toggleable__content\"><pre>MultinomialNB()</pre></div></div></div></div></div></div></div>"
      ],
      "text/plain": [
       "Pipeline(steps=[('cvec', CountVectorizer()), ('nb', MultinomialNB())])"
      ]
     },
     "execution_count": 51,
     "metadata": {},
     "output_type": "execute_result"
    }
   ],
   "source": [
    "# fit\n",
    "pipe_cvec_nb.fit(X_train, y_train)"
   ]
  },
  {
   "cell_type": "code",
   "execution_count": 52,
   "id": "355b3102",
   "metadata": {
    "scrolled": false
   },
   "outputs": [
    {
     "data": {
      "text/plain": [
       "array([0.90333919, 0.90773286, 0.88224956, 0.91300527, 0.90949033])"
      ]
     },
     "execution_count": 52,
     "metadata": {},
     "output_type": "execute_result"
    }
   ],
   "source": [
    "cross_val_score(pipe_cvec_nb, X_train, y_train, cv=5)"
   ]
  },
  {
   "cell_type": "code",
   "execution_count": 53,
   "id": "11fc0b9e",
   "metadata": {},
   "outputs": [
    {
     "name": "stdout",
     "output_type": "stream",
     "text": [
      "  GridSearch Transformer          Model  cross_val_score  Train Score  \\\n",
      "0          -       CVect       Logistic         0.907030     0.974868   \n",
      "1          +       CVect       Logistic         0.909315     0.975747   \n",
      "2          -       CVect  MultinomialNB         0.903163     0.929525   \n",
      "\n",
      "   Test Score  \n",
      "0    0.906168  \n",
      "1    0.912493  \n",
      "2    0.904586  \n"
     ]
    }
   ],
   "source": [
    "modelscore(pipe_cvec_nb, '-', 'CVect', 'MultinomialNB')"
   ]
  },
  {
   "cell_type": "code",
   "execution_count": 54,
   "id": "782dcdcc",
   "metadata": {
    "scrolled": true
   },
   "outputs": [
    {
     "data": {
      "text/plain": [
       "dict_keys(['memory', 'steps', 'verbose', 'cvec', 'nb', 'cvec__analyzer', 'cvec__binary', 'cvec__decode_error', 'cvec__dtype', 'cvec__encoding', 'cvec__input', 'cvec__lowercase', 'cvec__max_df', 'cvec__max_features', 'cvec__min_df', 'cvec__ngram_range', 'cvec__preprocessor', 'cvec__stop_words', 'cvec__strip_accents', 'cvec__token_pattern', 'cvec__tokenizer', 'cvec__vocabulary', 'nb__alpha', 'nb__class_prior', 'nb__fit_prior', 'nb__force_alpha'])"
      ]
     },
     "execution_count": 54,
     "metadata": {},
     "output_type": "execute_result"
    }
   ],
   "source": [
    "# check the adjustable parameters\n",
    "pipe_cvec_nb.get_params().keys()"
   ]
  },
  {
   "cell_type": "code",
   "execution_count": 55,
   "id": "9a8b878e",
   "metadata": {},
   "outputs": [],
   "source": [
    "# Instantiate GridSearchCV.\n",
    "gs_2 = GridSearchCV(pipe_cvec_nb,\n",
    "                  pipe_params_cvec,\n",
    "                  cv=5)"
   ]
  },
  {
   "cell_type": "code",
   "execution_count": 56,
   "id": "1adedc49",
   "metadata": {
    "scrolled": true
   },
   "outputs": [
    {
     "data": {
      "text/html": [
       "<style>#sk-container-id-4 {color: black;background-color: white;}#sk-container-id-4 pre{padding: 0;}#sk-container-id-4 div.sk-toggleable {background-color: white;}#sk-container-id-4 label.sk-toggleable__label {cursor: pointer;display: block;width: 100%;margin-bottom: 0;padding: 0.3em;box-sizing: border-box;text-align: center;}#sk-container-id-4 label.sk-toggleable__label-arrow:before {content: \"▸\";float: left;margin-right: 0.25em;color: #696969;}#sk-container-id-4 label.sk-toggleable__label-arrow:hover:before {color: black;}#sk-container-id-4 div.sk-estimator:hover label.sk-toggleable__label-arrow:before {color: black;}#sk-container-id-4 div.sk-toggleable__content {max-height: 0;max-width: 0;overflow: hidden;text-align: left;background-color: #f0f8ff;}#sk-container-id-4 div.sk-toggleable__content pre {margin: 0.2em;color: black;border-radius: 0.25em;background-color: #f0f8ff;}#sk-container-id-4 input.sk-toggleable__control:checked~div.sk-toggleable__content {max-height: 200px;max-width: 100%;overflow: auto;}#sk-container-id-4 input.sk-toggleable__control:checked~label.sk-toggleable__label-arrow:before {content: \"▾\";}#sk-container-id-4 div.sk-estimator input.sk-toggleable__control:checked~label.sk-toggleable__label {background-color: #d4ebff;}#sk-container-id-4 div.sk-label input.sk-toggleable__control:checked~label.sk-toggleable__label {background-color: #d4ebff;}#sk-container-id-4 input.sk-hidden--visually {border: 0;clip: rect(1px 1px 1px 1px);clip: rect(1px, 1px, 1px, 1px);height: 1px;margin: -1px;overflow: hidden;padding: 0;position: absolute;width: 1px;}#sk-container-id-4 div.sk-estimator {font-family: monospace;background-color: #f0f8ff;border: 1px dotted black;border-radius: 0.25em;box-sizing: border-box;margin-bottom: 0.5em;}#sk-container-id-4 div.sk-estimator:hover {background-color: #d4ebff;}#sk-container-id-4 div.sk-parallel-item::after {content: \"\";width: 100%;border-bottom: 1px solid gray;flex-grow: 1;}#sk-container-id-4 div.sk-label:hover label.sk-toggleable__label {background-color: #d4ebff;}#sk-container-id-4 div.sk-serial::before {content: \"\";position: absolute;border-left: 1px solid gray;box-sizing: border-box;top: 0;bottom: 0;left: 50%;z-index: 0;}#sk-container-id-4 div.sk-serial {display: flex;flex-direction: column;align-items: center;background-color: white;padding-right: 0.2em;padding-left: 0.2em;position: relative;}#sk-container-id-4 div.sk-item {position: relative;z-index: 1;}#sk-container-id-4 div.sk-parallel {display: flex;align-items: stretch;justify-content: center;background-color: white;position: relative;}#sk-container-id-4 div.sk-item::before, #sk-container-id-4 div.sk-parallel-item::before {content: \"\";position: absolute;border-left: 1px solid gray;box-sizing: border-box;top: 0;bottom: 0;left: 50%;z-index: -1;}#sk-container-id-4 div.sk-parallel-item {display: flex;flex-direction: column;z-index: 1;position: relative;background-color: white;}#sk-container-id-4 div.sk-parallel-item:first-child::after {align-self: flex-end;width: 50%;}#sk-container-id-4 div.sk-parallel-item:last-child::after {align-self: flex-start;width: 50%;}#sk-container-id-4 div.sk-parallel-item:only-child::after {width: 0;}#sk-container-id-4 div.sk-dashed-wrapped {border: 1px dashed gray;margin: 0 0.4em 0.5em 0.4em;box-sizing: border-box;padding-bottom: 0.4em;background-color: white;}#sk-container-id-4 div.sk-label label {font-family: monospace;font-weight: bold;display: inline-block;line-height: 1.2em;}#sk-container-id-4 div.sk-label-container {text-align: center;}#sk-container-id-4 div.sk-container {/* jupyter's `normalize.less` sets `[hidden] { display: none; }` but bootstrap.min.css set `[hidden] { display: none !important; }` so we also need the `!important` here to be able to override the default hidden behavior on the sphinx rendered scikit-learn.org. See: https://github.com/scikit-learn/scikit-learn/issues/21755 */display: inline-block !important;position: relative;}#sk-container-id-4 div.sk-text-repr-fallback {display: none;}</style><div id=\"sk-container-id-4\" class=\"sk-top-container\"><div class=\"sk-text-repr-fallback\"><pre>GridSearchCV(cv=5,\n",
       "             estimator=Pipeline(steps=[(&#x27;cvec&#x27;, CountVectorizer()),\n",
       "                                       (&#x27;nb&#x27;, MultinomialNB())]),\n",
       "             param_grid={&#x27;cvec__max_df&#x27;: [0.4, 0.5, 0.6, 0.7],\n",
       "                         &#x27;cvec__max_features&#x27;: [2000, 3000, 4000],\n",
       "                         &#x27;cvec__min_df&#x27;: [1, 2, 3],\n",
       "                         &#x27;cvec__ngram_range&#x27;: [(1, 1), (1, 2), (1, 3)],\n",
       "                         &#x27;cvec__stop_words&#x27;: [&#x27;english&#x27;, None]})</pre><b>In a Jupyter environment, please rerun this cell to show the HTML representation or trust the notebook. <br />On GitHub, the HTML representation is unable to render, please try loading this page with nbviewer.org.</b></div><div class=\"sk-container\" hidden><div class=\"sk-item sk-dashed-wrapped\"><div class=\"sk-label-container\"><div class=\"sk-label sk-toggleable\"><input class=\"sk-toggleable__control sk-hidden--visually\" id=\"sk-estimator-id-11\" type=\"checkbox\" ><label for=\"sk-estimator-id-11\" class=\"sk-toggleable__label sk-toggleable__label-arrow\">GridSearchCV</label><div class=\"sk-toggleable__content\"><pre>GridSearchCV(cv=5,\n",
       "             estimator=Pipeline(steps=[(&#x27;cvec&#x27;, CountVectorizer()),\n",
       "                                       (&#x27;nb&#x27;, MultinomialNB())]),\n",
       "             param_grid={&#x27;cvec__max_df&#x27;: [0.4, 0.5, 0.6, 0.7],\n",
       "                         &#x27;cvec__max_features&#x27;: [2000, 3000, 4000],\n",
       "                         &#x27;cvec__min_df&#x27;: [1, 2, 3],\n",
       "                         &#x27;cvec__ngram_range&#x27;: [(1, 1), (1, 2), (1, 3)],\n",
       "                         &#x27;cvec__stop_words&#x27;: [&#x27;english&#x27;, None]})</pre></div></div></div><div class=\"sk-parallel\"><div class=\"sk-parallel-item\"><div class=\"sk-item\"><div class=\"sk-label-container\"><div class=\"sk-label sk-toggleable\"><input class=\"sk-toggleable__control sk-hidden--visually\" id=\"sk-estimator-id-12\" type=\"checkbox\" ><label for=\"sk-estimator-id-12\" class=\"sk-toggleable__label sk-toggleable__label-arrow\">estimator: Pipeline</label><div class=\"sk-toggleable__content\"><pre>Pipeline(steps=[(&#x27;cvec&#x27;, CountVectorizer()), (&#x27;nb&#x27;, MultinomialNB())])</pre></div></div></div><div class=\"sk-serial\"><div class=\"sk-item\"><div class=\"sk-serial\"><div class=\"sk-item\"><div class=\"sk-estimator sk-toggleable\"><input class=\"sk-toggleable__control sk-hidden--visually\" id=\"sk-estimator-id-13\" type=\"checkbox\" ><label for=\"sk-estimator-id-13\" class=\"sk-toggleable__label sk-toggleable__label-arrow\">CountVectorizer</label><div class=\"sk-toggleable__content\"><pre>CountVectorizer()</pre></div></div></div><div class=\"sk-item\"><div class=\"sk-estimator sk-toggleable\"><input class=\"sk-toggleable__control sk-hidden--visually\" id=\"sk-estimator-id-14\" type=\"checkbox\" ><label for=\"sk-estimator-id-14\" class=\"sk-toggleable__label sk-toggleable__label-arrow\">MultinomialNB</label><div class=\"sk-toggleable__content\"><pre>MultinomialNB()</pre></div></div></div></div></div></div></div></div></div></div></div></div>"
      ],
      "text/plain": [
       "GridSearchCV(cv=5,\n",
       "             estimator=Pipeline(steps=[('cvec', CountVectorizer()),\n",
       "                                       ('nb', MultinomialNB())]),\n",
       "             param_grid={'cvec__max_df': [0.4, 0.5, 0.6, 0.7],\n",
       "                         'cvec__max_features': [2000, 3000, 4000],\n",
       "                         'cvec__min_df': [1, 2, 3],\n",
       "                         'cvec__ngram_range': [(1, 1), (1, 2), (1, 3)],\n",
       "                         'cvec__stop_words': ['english', None]})"
      ]
     },
     "execution_count": 56,
     "metadata": {},
     "output_type": "execute_result"
    }
   ],
   "source": [
    "# fit\n",
    "gs_2.fit(X_train, y_train)"
   ]
  },
  {
   "cell_type": "code",
   "execution_count": 57,
   "id": "76378311",
   "metadata": {
    "scrolled": true
   },
   "outputs": [
    {
     "data": {
      "text/plain": [
       "{'cvec__max_df': 0.4,\n",
       " 'cvec__max_features': 4000,\n",
       " 'cvec__min_df': 1,\n",
       " 'cvec__ngram_range': (1, 2),\n",
       " 'cvec__stop_words': 'english'}"
      ]
     },
     "execution_count": 57,
     "metadata": {},
     "output_type": "execute_result"
    }
   ],
   "source": [
    "gs_2.best_params_"
   ]
  },
  {
   "cell_type": "code",
   "execution_count": 58,
   "id": "9e0a9cfb",
   "metadata": {},
   "outputs": [
    {
     "data": {
      "text/plain": [
       "0.9050966608084359"
      ]
     },
     "execution_count": 58,
     "metadata": {},
     "output_type": "execute_result"
    }
   ],
   "source": [
    "gs_2.best_score_"
   ]
  },
  {
   "cell_type": "code",
   "execution_count": 59,
   "id": "273e9548",
   "metadata": {},
   "outputs": [
    {
     "name": "stdout",
     "output_type": "stream",
     "text": [
      "  GridSearch Transformer          Model  cross_val_score  Train Score  \\\n",
      "0          -       CVect       Logistic         0.907030     0.974868   \n",
      "1          +       CVect       Logistic         0.909315     0.975747   \n",
      "2          -       CVect  MultinomialNB         0.903163     0.929525   \n",
      "3          +       CVect    Multinomial         0.903163     0.919684   \n",
      "\n",
      "   Test Score  \n",
      "0    0.906168  \n",
      "1    0.912493  \n",
      "2    0.904586  \n",
      "3    0.908276  \n"
     ]
    }
   ],
   "source": [
    "modelscore(gs_2, '+', 'CVect', 'MultinomialNB')"
   ]
  },
  {
   "cell_type": "markdown",
   "id": "532ae867",
   "metadata": {},
   "source": [
    "#### Model 3: TfidfVectorizer and Logistic Regression"
   ]
  },
  {
   "cell_type": "code",
   "execution_count": 60,
   "id": "55f0a53b",
   "metadata": {},
   "outputs": [],
   "source": [
    "pipe_tvec_log = Pipeline([('tvec', TfidfVectorizer()),\n",
    "                 ('log', LogisticRegression())\n",
    "                ])"
   ]
  },
  {
   "cell_type": "code",
   "execution_count": 61,
   "id": "114e4c84",
   "metadata": {},
   "outputs": [
    {
     "data": {
      "text/html": [
       "<style>#sk-container-id-5 {color: black;background-color: white;}#sk-container-id-5 pre{padding: 0;}#sk-container-id-5 div.sk-toggleable {background-color: white;}#sk-container-id-5 label.sk-toggleable__label {cursor: pointer;display: block;width: 100%;margin-bottom: 0;padding: 0.3em;box-sizing: border-box;text-align: center;}#sk-container-id-5 label.sk-toggleable__label-arrow:before {content: \"▸\";float: left;margin-right: 0.25em;color: #696969;}#sk-container-id-5 label.sk-toggleable__label-arrow:hover:before {color: black;}#sk-container-id-5 div.sk-estimator:hover label.sk-toggleable__label-arrow:before {color: black;}#sk-container-id-5 div.sk-toggleable__content {max-height: 0;max-width: 0;overflow: hidden;text-align: left;background-color: #f0f8ff;}#sk-container-id-5 div.sk-toggleable__content pre {margin: 0.2em;color: black;border-radius: 0.25em;background-color: #f0f8ff;}#sk-container-id-5 input.sk-toggleable__control:checked~div.sk-toggleable__content {max-height: 200px;max-width: 100%;overflow: auto;}#sk-container-id-5 input.sk-toggleable__control:checked~label.sk-toggleable__label-arrow:before {content: \"▾\";}#sk-container-id-5 div.sk-estimator input.sk-toggleable__control:checked~label.sk-toggleable__label {background-color: #d4ebff;}#sk-container-id-5 div.sk-label input.sk-toggleable__control:checked~label.sk-toggleable__label {background-color: #d4ebff;}#sk-container-id-5 input.sk-hidden--visually {border: 0;clip: rect(1px 1px 1px 1px);clip: rect(1px, 1px, 1px, 1px);height: 1px;margin: -1px;overflow: hidden;padding: 0;position: absolute;width: 1px;}#sk-container-id-5 div.sk-estimator {font-family: monospace;background-color: #f0f8ff;border: 1px dotted black;border-radius: 0.25em;box-sizing: border-box;margin-bottom: 0.5em;}#sk-container-id-5 div.sk-estimator:hover {background-color: #d4ebff;}#sk-container-id-5 div.sk-parallel-item::after {content: \"\";width: 100%;border-bottom: 1px solid gray;flex-grow: 1;}#sk-container-id-5 div.sk-label:hover label.sk-toggleable__label {background-color: #d4ebff;}#sk-container-id-5 div.sk-serial::before {content: \"\";position: absolute;border-left: 1px solid gray;box-sizing: border-box;top: 0;bottom: 0;left: 50%;z-index: 0;}#sk-container-id-5 div.sk-serial {display: flex;flex-direction: column;align-items: center;background-color: white;padding-right: 0.2em;padding-left: 0.2em;position: relative;}#sk-container-id-5 div.sk-item {position: relative;z-index: 1;}#sk-container-id-5 div.sk-parallel {display: flex;align-items: stretch;justify-content: center;background-color: white;position: relative;}#sk-container-id-5 div.sk-item::before, #sk-container-id-5 div.sk-parallel-item::before {content: \"\";position: absolute;border-left: 1px solid gray;box-sizing: border-box;top: 0;bottom: 0;left: 50%;z-index: -1;}#sk-container-id-5 div.sk-parallel-item {display: flex;flex-direction: column;z-index: 1;position: relative;background-color: white;}#sk-container-id-5 div.sk-parallel-item:first-child::after {align-self: flex-end;width: 50%;}#sk-container-id-5 div.sk-parallel-item:last-child::after {align-self: flex-start;width: 50%;}#sk-container-id-5 div.sk-parallel-item:only-child::after {width: 0;}#sk-container-id-5 div.sk-dashed-wrapped {border: 1px dashed gray;margin: 0 0.4em 0.5em 0.4em;box-sizing: border-box;padding-bottom: 0.4em;background-color: white;}#sk-container-id-5 div.sk-label label {font-family: monospace;font-weight: bold;display: inline-block;line-height: 1.2em;}#sk-container-id-5 div.sk-label-container {text-align: center;}#sk-container-id-5 div.sk-container {/* jupyter's `normalize.less` sets `[hidden] { display: none; }` but bootstrap.min.css set `[hidden] { display: none !important; }` so we also need the `!important` here to be able to override the default hidden behavior on the sphinx rendered scikit-learn.org. See: https://github.com/scikit-learn/scikit-learn/issues/21755 */display: inline-block !important;position: relative;}#sk-container-id-5 div.sk-text-repr-fallback {display: none;}</style><div id=\"sk-container-id-5\" class=\"sk-top-container\"><div class=\"sk-text-repr-fallback\"><pre>Pipeline(steps=[(&#x27;tvec&#x27;, TfidfVectorizer()), (&#x27;log&#x27;, LogisticRegression())])</pre><b>In a Jupyter environment, please rerun this cell to show the HTML representation or trust the notebook. <br />On GitHub, the HTML representation is unable to render, please try loading this page with nbviewer.org.</b></div><div class=\"sk-container\" hidden><div class=\"sk-item sk-dashed-wrapped\"><div class=\"sk-label-container\"><div class=\"sk-label sk-toggleable\"><input class=\"sk-toggleable__control sk-hidden--visually\" id=\"sk-estimator-id-15\" type=\"checkbox\" ><label for=\"sk-estimator-id-15\" class=\"sk-toggleable__label sk-toggleable__label-arrow\">Pipeline</label><div class=\"sk-toggleable__content\"><pre>Pipeline(steps=[(&#x27;tvec&#x27;, TfidfVectorizer()), (&#x27;log&#x27;, LogisticRegression())])</pre></div></div></div><div class=\"sk-serial\"><div class=\"sk-item\"><div class=\"sk-estimator sk-toggleable\"><input class=\"sk-toggleable__control sk-hidden--visually\" id=\"sk-estimator-id-16\" type=\"checkbox\" ><label for=\"sk-estimator-id-16\" class=\"sk-toggleable__label sk-toggleable__label-arrow\">TfidfVectorizer</label><div class=\"sk-toggleable__content\"><pre>TfidfVectorizer()</pre></div></div></div><div class=\"sk-item\"><div class=\"sk-estimator sk-toggleable\"><input class=\"sk-toggleable__control sk-hidden--visually\" id=\"sk-estimator-id-17\" type=\"checkbox\" ><label for=\"sk-estimator-id-17\" class=\"sk-toggleable__label sk-toggleable__label-arrow\">LogisticRegression</label><div class=\"sk-toggleable__content\"><pre>LogisticRegression()</pre></div></div></div></div></div></div></div>"
      ],
      "text/plain": [
       "Pipeline(steps=[('tvec', TfidfVectorizer()), ('log', LogisticRegression())])"
      ]
     },
     "execution_count": 61,
     "metadata": {},
     "output_type": "execute_result"
    }
   ],
   "source": [
    "pipe_tvec_log.fit(X_train, y_train)"
   ]
  },
  {
   "cell_type": "code",
   "execution_count": 62,
   "id": "bb7208d6",
   "metadata": {
    "scrolled": true
   },
   "outputs": [
    {
     "data": {
      "text/plain": [
       "array([0.9288225 , 0.91476274, 0.89982425, 0.92179262, 0.92091388])"
      ]
     },
     "execution_count": 62,
     "metadata": {},
     "output_type": "execute_result"
    }
   ],
   "source": [
    "cross_val_score(pipe_tvec_log, X_train, y_train, cv=5)"
   ]
  },
  {
   "cell_type": "code",
   "execution_count": 63,
   "id": "2c813712",
   "metadata": {},
   "outputs": [
    {
     "name": "stdout",
     "output_type": "stream",
     "text": [
      "  GridSearch Transformer          Model  cross_val_score  Train Score  \\\n",
      "0          -       CVect       Logistic         0.907030     0.974868   \n",
      "1          +       CVect       Logistic         0.909315     0.975747   \n",
      "2          -       CVect  MultinomialNB         0.903163     0.929525   \n",
      "3          +       CVect    Multinomial         0.903163     0.919684   \n",
      "4          -       Tfidf       Logistic         0.917223     0.943234   \n",
      "\n",
      "   Test Score  \n",
      "0    0.906168  \n",
      "1    0.912493  \n",
      "2    0.904586  \n",
      "3    0.908276  \n",
      "4    0.921455  \n"
     ]
    }
   ],
   "source": [
    "modelscore(pipe_tvec_log, '-', 'Tfidf', 'Logistic')"
   ]
  },
  {
   "cell_type": "code",
   "execution_count": 64,
   "id": "0dd443bd",
   "metadata": {
    "scrolled": true
   },
   "outputs": [
    {
     "data": {
      "text/plain": [
       "dict_keys(['memory', 'steps', 'verbose', 'tvec', 'log', 'tvec__analyzer', 'tvec__binary', 'tvec__decode_error', 'tvec__dtype', 'tvec__encoding', 'tvec__input', 'tvec__lowercase', 'tvec__max_df', 'tvec__max_features', 'tvec__min_df', 'tvec__ngram_range', 'tvec__norm', 'tvec__preprocessor', 'tvec__smooth_idf', 'tvec__stop_words', 'tvec__strip_accents', 'tvec__sublinear_tf', 'tvec__token_pattern', 'tvec__tokenizer', 'tvec__use_idf', 'tvec__vocabulary', 'log__C', 'log__class_weight', 'log__dual', 'log__fit_intercept', 'log__intercept_scaling', 'log__l1_ratio', 'log__max_iter', 'log__multi_class', 'log__n_jobs', 'log__penalty', 'log__random_state', 'log__solver', 'log__tol', 'log__verbose', 'log__warm_start'])"
      ]
     },
     "execution_count": 64,
     "metadata": {},
     "output_type": "execute_result"
    }
   ],
   "source": [
    "# check the adjustable parameters\n",
    "pipe_tvec_log.get_params().keys()"
   ]
  },
  {
   "cell_type": "code",
   "execution_count": 65,
   "id": "b05fa3ae",
   "metadata": {},
   "outputs": [],
   "source": [
    "pipe_params_tvec = {\n",
    "    'tvec__max_features': [2000, 3000, 4000],\n",
    "    'tvec__min_df': [1, 2, 3],\n",
    "    'tvec__max_df': [.4, .5, .6, .7],\n",
    "    'tvec__ngram_range': [(1,1), (1,2), (1,3)],\n",
    "    'tvec__stop_words' : ['english', None]}"
   ]
  },
  {
   "cell_type": "code",
   "execution_count": 66,
   "id": "f9c51068",
   "metadata": {},
   "outputs": [],
   "source": [
    "gs_3 = GridSearchCV(pipe_tvec_log,\n",
    "                  pipe_params_tvec,\n",
    "                  cv=5, verbose = 2, n_jobs = -1)"
   ]
  },
  {
   "cell_type": "code",
   "execution_count": 67,
   "id": "296983de",
   "metadata": {
    "scrolled": true
   },
   "outputs": [
    {
     "name": "stdout",
     "output_type": "stream",
     "text": [
      "Fitting 5 folds for each of 216 candidates, totalling 1080 fits\n"
     ]
    },
    {
     "data": {
      "text/html": [
       "<style>#sk-container-id-6 {color: black;background-color: white;}#sk-container-id-6 pre{padding: 0;}#sk-container-id-6 div.sk-toggleable {background-color: white;}#sk-container-id-6 label.sk-toggleable__label {cursor: pointer;display: block;width: 100%;margin-bottom: 0;padding: 0.3em;box-sizing: border-box;text-align: center;}#sk-container-id-6 label.sk-toggleable__label-arrow:before {content: \"▸\";float: left;margin-right: 0.25em;color: #696969;}#sk-container-id-6 label.sk-toggleable__label-arrow:hover:before {color: black;}#sk-container-id-6 div.sk-estimator:hover label.sk-toggleable__label-arrow:before {color: black;}#sk-container-id-6 div.sk-toggleable__content {max-height: 0;max-width: 0;overflow: hidden;text-align: left;background-color: #f0f8ff;}#sk-container-id-6 div.sk-toggleable__content pre {margin: 0.2em;color: black;border-radius: 0.25em;background-color: #f0f8ff;}#sk-container-id-6 input.sk-toggleable__control:checked~div.sk-toggleable__content {max-height: 200px;max-width: 100%;overflow: auto;}#sk-container-id-6 input.sk-toggleable__control:checked~label.sk-toggleable__label-arrow:before {content: \"▾\";}#sk-container-id-6 div.sk-estimator input.sk-toggleable__control:checked~label.sk-toggleable__label {background-color: #d4ebff;}#sk-container-id-6 div.sk-label input.sk-toggleable__control:checked~label.sk-toggleable__label {background-color: #d4ebff;}#sk-container-id-6 input.sk-hidden--visually {border: 0;clip: rect(1px 1px 1px 1px);clip: rect(1px, 1px, 1px, 1px);height: 1px;margin: -1px;overflow: hidden;padding: 0;position: absolute;width: 1px;}#sk-container-id-6 div.sk-estimator {font-family: monospace;background-color: #f0f8ff;border: 1px dotted black;border-radius: 0.25em;box-sizing: border-box;margin-bottom: 0.5em;}#sk-container-id-6 div.sk-estimator:hover {background-color: #d4ebff;}#sk-container-id-6 div.sk-parallel-item::after {content: \"\";width: 100%;border-bottom: 1px solid gray;flex-grow: 1;}#sk-container-id-6 div.sk-label:hover label.sk-toggleable__label {background-color: #d4ebff;}#sk-container-id-6 div.sk-serial::before {content: \"\";position: absolute;border-left: 1px solid gray;box-sizing: border-box;top: 0;bottom: 0;left: 50%;z-index: 0;}#sk-container-id-6 div.sk-serial {display: flex;flex-direction: column;align-items: center;background-color: white;padding-right: 0.2em;padding-left: 0.2em;position: relative;}#sk-container-id-6 div.sk-item {position: relative;z-index: 1;}#sk-container-id-6 div.sk-parallel {display: flex;align-items: stretch;justify-content: center;background-color: white;position: relative;}#sk-container-id-6 div.sk-item::before, #sk-container-id-6 div.sk-parallel-item::before {content: \"\";position: absolute;border-left: 1px solid gray;box-sizing: border-box;top: 0;bottom: 0;left: 50%;z-index: -1;}#sk-container-id-6 div.sk-parallel-item {display: flex;flex-direction: column;z-index: 1;position: relative;background-color: white;}#sk-container-id-6 div.sk-parallel-item:first-child::after {align-self: flex-end;width: 50%;}#sk-container-id-6 div.sk-parallel-item:last-child::after {align-self: flex-start;width: 50%;}#sk-container-id-6 div.sk-parallel-item:only-child::after {width: 0;}#sk-container-id-6 div.sk-dashed-wrapped {border: 1px dashed gray;margin: 0 0.4em 0.5em 0.4em;box-sizing: border-box;padding-bottom: 0.4em;background-color: white;}#sk-container-id-6 div.sk-label label {font-family: monospace;font-weight: bold;display: inline-block;line-height: 1.2em;}#sk-container-id-6 div.sk-label-container {text-align: center;}#sk-container-id-6 div.sk-container {/* jupyter's `normalize.less` sets `[hidden] { display: none; }` but bootstrap.min.css set `[hidden] { display: none !important; }` so we also need the `!important` here to be able to override the default hidden behavior on the sphinx rendered scikit-learn.org. See: https://github.com/scikit-learn/scikit-learn/issues/21755 */display: inline-block !important;position: relative;}#sk-container-id-6 div.sk-text-repr-fallback {display: none;}</style><div id=\"sk-container-id-6\" class=\"sk-top-container\"><div class=\"sk-text-repr-fallback\"><pre>GridSearchCV(cv=5,\n",
       "             estimator=Pipeline(steps=[(&#x27;tvec&#x27;, TfidfVectorizer()),\n",
       "                                       (&#x27;log&#x27;, LogisticRegression())]),\n",
       "             n_jobs=-1,\n",
       "             param_grid={&#x27;tvec__max_df&#x27;: [0.4, 0.5, 0.6, 0.7],\n",
       "                         &#x27;tvec__max_features&#x27;: [2000, 3000, 4000],\n",
       "                         &#x27;tvec__min_df&#x27;: [1, 2, 3],\n",
       "                         &#x27;tvec__ngram_range&#x27;: [(1, 1), (1, 2), (1, 3)],\n",
       "                         &#x27;tvec__stop_words&#x27;: [&#x27;english&#x27;, None]},\n",
       "             verbose=2)</pre><b>In a Jupyter environment, please rerun this cell to show the HTML representation or trust the notebook. <br />On GitHub, the HTML representation is unable to render, please try loading this page with nbviewer.org.</b></div><div class=\"sk-container\" hidden><div class=\"sk-item sk-dashed-wrapped\"><div class=\"sk-label-container\"><div class=\"sk-label sk-toggleable\"><input class=\"sk-toggleable__control sk-hidden--visually\" id=\"sk-estimator-id-18\" type=\"checkbox\" ><label for=\"sk-estimator-id-18\" class=\"sk-toggleable__label sk-toggleable__label-arrow\">GridSearchCV</label><div class=\"sk-toggleable__content\"><pre>GridSearchCV(cv=5,\n",
       "             estimator=Pipeline(steps=[(&#x27;tvec&#x27;, TfidfVectorizer()),\n",
       "                                       (&#x27;log&#x27;, LogisticRegression())]),\n",
       "             n_jobs=-1,\n",
       "             param_grid={&#x27;tvec__max_df&#x27;: [0.4, 0.5, 0.6, 0.7],\n",
       "                         &#x27;tvec__max_features&#x27;: [2000, 3000, 4000],\n",
       "                         &#x27;tvec__min_df&#x27;: [1, 2, 3],\n",
       "                         &#x27;tvec__ngram_range&#x27;: [(1, 1), (1, 2), (1, 3)],\n",
       "                         &#x27;tvec__stop_words&#x27;: [&#x27;english&#x27;, None]},\n",
       "             verbose=2)</pre></div></div></div><div class=\"sk-parallel\"><div class=\"sk-parallel-item\"><div class=\"sk-item\"><div class=\"sk-label-container\"><div class=\"sk-label sk-toggleable\"><input class=\"sk-toggleable__control sk-hidden--visually\" id=\"sk-estimator-id-19\" type=\"checkbox\" ><label for=\"sk-estimator-id-19\" class=\"sk-toggleable__label sk-toggleable__label-arrow\">estimator: Pipeline</label><div class=\"sk-toggleable__content\"><pre>Pipeline(steps=[(&#x27;tvec&#x27;, TfidfVectorizer()), (&#x27;log&#x27;, LogisticRegression())])</pre></div></div></div><div class=\"sk-serial\"><div class=\"sk-item\"><div class=\"sk-serial\"><div class=\"sk-item\"><div class=\"sk-estimator sk-toggleable\"><input class=\"sk-toggleable__control sk-hidden--visually\" id=\"sk-estimator-id-20\" type=\"checkbox\" ><label for=\"sk-estimator-id-20\" class=\"sk-toggleable__label sk-toggleable__label-arrow\">TfidfVectorizer</label><div class=\"sk-toggleable__content\"><pre>TfidfVectorizer()</pre></div></div></div><div class=\"sk-item\"><div class=\"sk-estimator sk-toggleable\"><input class=\"sk-toggleable__control sk-hidden--visually\" id=\"sk-estimator-id-21\" type=\"checkbox\" ><label for=\"sk-estimator-id-21\" class=\"sk-toggleable__label sk-toggleable__label-arrow\">LogisticRegression</label><div class=\"sk-toggleable__content\"><pre>LogisticRegression()</pre></div></div></div></div></div></div></div></div></div></div></div></div>"
      ],
      "text/plain": [
       "GridSearchCV(cv=5,\n",
       "             estimator=Pipeline(steps=[('tvec', TfidfVectorizer()),\n",
       "                                       ('log', LogisticRegression())]),\n",
       "             n_jobs=-1,\n",
       "             param_grid={'tvec__max_df': [0.4, 0.5, 0.6, 0.7],\n",
       "                         'tvec__max_features': [2000, 3000, 4000],\n",
       "                         'tvec__min_df': [1, 2, 3],\n",
       "                         'tvec__ngram_range': [(1, 1), (1, 2), (1, 3)],\n",
       "                         'tvec__stop_words': ['english', None]},\n",
       "             verbose=2)"
      ]
     },
     "execution_count": 67,
     "metadata": {},
     "output_type": "execute_result"
    }
   ],
   "source": [
    "gs_3.fit(X_train, y_train)"
   ]
  },
  {
   "cell_type": "code",
   "execution_count": 68,
   "id": "aed5b57e",
   "metadata": {
    "scrolled": true
   },
   "outputs": [
    {
     "data": {
      "text/plain": [
       "{'tvec__max_df': 0.4,\n",
       " 'tvec__max_features': 3000,\n",
       " 'tvec__min_df': 1,\n",
       " 'tvec__ngram_range': (1, 3),\n",
       " 'tvec__stop_words': 'english'}"
      ]
     },
     "execution_count": 68,
     "metadata": {},
     "output_type": "execute_result"
    }
   ],
   "source": [
    "gs_3.best_params_"
   ]
  },
  {
   "cell_type": "code",
   "execution_count": 69,
   "id": "dde697db",
   "metadata": {
    "scrolled": false
   },
   "outputs": [
    {
     "data": {
      "text/plain": [
       "0.9223198594024605"
      ]
     },
     "execution_count": 69,
     "metadata": {},
     "output_type": "execute_result"
    }
   ],
   "source": [
    "gs_3.best_score_"
   ]
  },
  {
   "cell_type": "code",
   "execution_count": 70,
   "id": "0bc1fe18",
   "metadata": {},
   "outputs": [
    {
     "name": "stdout",
     "output_type": "stream",
     "text": [
      "Fitting 5 folds for each of 216 candidates, totalling 1080 fits\n",
      "Fitting 5 folds for each of 216 candidates, totalling 1080 fits\n",
      "Fitting 5 folds for each of 216 candidates, totalling 1080 fits\n",
      "Fitting 5 folds for each of 216 candidates, totalling 1080 fits\n",
      "Fitting 5 folds for each of 216 candidates, totalling 1080 fits\n",
      "  GridSearch Transformer          Model  cross_val_score  Train Score  \\\n",
      "0          -       CVect       Logistic         0.907030     0.974868   \n",
      "1          +       CVect       Logistic         0.909315     0.975747   \n",
      "2          -       CVect  MultinomialNB         0.903163     0.929525   \n",
      "3          +       CVect    Multinomial         0.903163     0.919684   \n",
      "4          -       Tfidf       Logistic         0.917223     0.943234   \n",
      "5          +       Tfidf       Logistic         0.920738     0.943937   \n",
      "\n",
      "   Test Score  \n",
      "0    0.906168  \n",
      "1    0.912493  \n",
      "2    0.904586  \n",
      "3    0.908276  \n",
      "4    0.921455  \n",
      "5    0.921982  \n"
     ]
    }
   ],
   "source": [
    "modelscore(gs_3, '+', 'Tfidf', 'Logistic')"
   ]
  },
  {
   "cell_type": "markdown",
   "id": "4248ac62",
   "metadata": {},
   "source": [
    "#### Model 4: TfidfVectorizer and MultinomialNB"
   ]
  },
  {
   "cell_type": "code",
   "execution_count": 71,
   "id": "03f72911",
   "metadata": {},
   "outputs": [],
   "source": [
    "pipe_tvec_nb = Pipeline([('tvec', TfidfVectorizer()),\n",
    "                 ('nb', MultinomialNB())\n",
    "                ])"
   ]
  },
  {
   "cell_type": "code",
   "execution_count": 72,
   "id": "98178b17",
   "metadata": {},
   "outputs": [
    {
     "data": {
      "text/html": [
       "<style>#sk-container-id-7 {color: black;background-color: white;}#sk-container-id-7 pre{padding: 0;}#sk-container-id-7 div.sk-toggleable {background-color: white;}#sk-container-id-7 label.sk-toggleable__label {cursor: pointer;display: block;width: 100%;margin-bottom: 0;padding: 0.3em;box-sizing: border-box;text-align: center;}#sk-container-id-7 label.sk-toggleable__label-arrow:before {content: \"▸\";float: left;margin-right: 0.25em;color: #696969;}#sk-container-id-7 label.sk-toggleable__label-arrow:hover:before {color: black;}#sk-container-id-7 div.sk-estimator:hover label.sk-toggleable__label-arrow:before {color: black;}#sk-container-id-7 div.sk-toggleable__content {max-height: 0;max-width: 0;overflow: hidden;text-align: left;background-color: #f0f8ff;}#sk-container-id-7 div.sk-toggleable__content pre {margin: 0.2em;color: black;border-radius: 0.25em;background-color: #f0f8ff;}#sk-container-id-7 input.sk-toggleable__control:checked~div.sk-toggleable__content {max-height: 200px;max-width: 100%;overflow: auto;}#sk-container-id-7 input.sk-toggleable__control:checked~label.sk-toggleable__label-arrow:before {content: \"▾\";}#sk-container-id-7 div.sk-estimator input.sk-toggleable__control:checked~label.sk-toggleable__label {background-color: #d4ebff;}#sk-container-id-7 div.sk-label input.sk-toggleable__control:checked~label.sk-toggleable__label {background-color: #d4ebff;}#sk-container-id-7 input.sk-hidden--visually {border: 0;clip: rect(1px 1px 1px 1px);clip: rect(1px, 1px, 1px, 1px);height: 1px;margin: -1px;overflow: hidden;padding: 0;position: absolute;width: 1px;}#sk-container-id-7 div.sk-estimator {font-family: monospace;background-color: #f0f8ff;border: 1px dotted black;border-radius: 0.25em;box-sizing: border-box;margin-bottom: 0.5em;}#sk-container-id-7 div.sk-estimator:hover {background-color: #d4ebff;}#sk-container-id-7 div.sk-parallel-item::after {content: \"\";width: 100%;border-bottom: 1px solid gray;flex-grow: 1;}#sk-container-id-7 div.sk-label:hover label.sk-toggleable__label {background-color: #d4ebff;}#sk-container-id-7 div.sk-serial::before {content: \"\";position: absolute;border-left: 1px solid gray;box-sizing: border-box;top: 0;bottom: 0;left: 50%;z-index: 0;}#sk-container-id-7 div.sk-serial {display: flex;flex-direction: column;align-items: center;background-color: white;padding-right: 0.2em;padding-left: 0.2em;position: relative;}#sk-container-id-7 div.sk-item {position: relative;z-index: 1;}#sk-container-id-7 div.sk-parallel {display: flex;align-items: stretch;justify-content: center;background-color: white;position: relative;}#sk-container-id-7 div.sk-item::before, #sk-container-id-7 div.sk-parallel-item::before {content: \"\";position: absolute;border-left: 1px solid gray;box-sizing: border-box;top: 0;bottom: 0;left: 50%;z-index: -1;}#sk-container-id-7 div.sk-parallel-item {display: flex;flex-direction: column;z-index: 1;position: relative;background-color: white;}#sk-container-id-7 div.sk-parallel-item:first-child::after {align-self: flex-end;width: 50%;}#sk-container-id-7 div.sk-parallel-item:last-child::after {align-self: flex-start;width: 50%;}#sk-container-id-7 div.sk-parallel-item:only-child::after {width: 0;}#sk-container-id-7 div.sk-dashed-wrapped {border: 1px dashed gray;margin: 0 0.4em 0.5em 0.4em;box-sizing: border-box;padding-bottom: 0.4em;background-color: white;}#sk-container-id-7 div.sk-label label {font-family: monospace;font-weight: bold;display: inline-block;line-height: 1.2em;}#sk-container-id-7 div.sk-label-container {text-align: center;}#sk-container-id-7 div.sk-container {/* jupyter's `normalize.less` sets `[hidden] { display: none; }` but bootstrap.min.css set `[hidden] { display: none !important; }` so we also need the `!important` here to be able to override the default hidden behavior on the sphinx rendered scikit-learn.org. See: https://github.com/scikit-learn/scikit-learn/issues/21755 */display: inline-block !important;position: relative;}#sk-container-id-7 div.sk-text-repr-fallback {display: none;}</style><div id=\"sk-container-id-7\" class=\"sk-top-container\"><div class=\"sk-text-repr-fallback\"><pre>Pipeline(steps=[(&#x27;tvec&#x27;, TfidfVectorizer()), (&#x27;nb&#x27;, MultinomialNB())])</pre><b>In a Jupyter environment, please rerun this cell to show the HTML representation or trust the notebook. <br />On GitHub, the HTML representation is unable to render, please try loading this page with nbviewer.org.</b></div><div class=\"sk-container\" hidden><div class=\"sk-item sk-dashed-wrapped\"><div class=\"sk-label-container\"><div class=\"sk-label sk-toggleable\"><input class=\"sk-toggleable__control sk-hidden--visually\" id=\"sk-estimator-id-22\" type=\"checkbox\" ><label for=\"sk-estimator-id-22\" class=\"sk-toggleable__label sk-toggleable__label-arrow\">Pipeline</label><div class=\"sk-toggleable__content\"><pre>Pipeline(steps=[(&#x27;tvec&#x27;, TfidfVectorizer()), (&#x27;nb&#x27;, MultinomialNB())])</pre></div></div></div><div class=\"sk-serial\"><div class=\"sk-item\"><div class=\"sk-estimator sk-toggleable\"><input class=\"sk-toggleable__control sk-hidden--visually\" id=\"sk-estimator-id-23\" type=\"checkbox\" ><label for=\"sk-estimator-id-23\" class=\"sk-toggleable__label sk-toggleable__label-arrow\">TfidfVectorizer</label><div class=\"sk-toggleable__content\"><pre>TfidfVectorizer()</pre></div></div></div><div class=\"sk-item\"><div class=\"sk-estimator sk-toggleable\"><input class=\"sk-toggleable__control sk-hidden--visually\" id=\"sk-estimator-id-24\" type=\"checkbox\" ><label for=\"sk-estimator-id-24\" class=\"sk-toggleable__label sk-toggleable__label-arrow\">MultinomialNB</label><div class=\"sk-toggleable__content\"><pre>MultinomialNB()</pre></div></div></div></div></div></div></div>"
      ],
      "text/plain": [
       "Pipeline(steps=[('tvec', TfidfVectorizer()), ('nb', MultinomialNB())])"
      ]
     },
     "execution_count": 72,
     "metadata": {},
     "output_type": "execute_result"
    }
   ],
   "source": [
    "pipe_tvec_nb.fit(X_train, y_train)"
   ]
  },
  {
   "cell_type": "code",
   "execution_count": 73,
   "id": "2bfb0871",
   "metadata": {
    "scrolled": true
   },
   "outputs": [
    {
     "data": {
      "text/plain": [
       "array([0.88224956, 0.88488576, 0.86203866, 0.89367311, 0.90246046])"
      ]
     },
     "execution_count": 73,
     "metadata": {},
     "output_type": "execute_result"
    }
   ],
   "source": [
    "cross_val_score(pipe_tvec_nb, X_train, y_train, cv=5)"
   ]
  },
  {
   "cell_type": "code",
   "execution_count": 74,
   "id": "9d07160a",
   "metadata": {},
   "outputs": [
    {
     "name": "stdout",
     "output_type": "stream",
     "text": [
      "  GridSearch Transformer          Model  cross_val_score  Train Score  \\\n",
      "0          -       CVect       Logistic         0.907030     0.974868   \n",
      "1          +       CVect       Logistic         0.909315     0.975747   \n",
      "2          -       CVect  MultinomialNB         0.903163     0.929525   \n",
      "3          +       CVect    Multinomial         0.903163     0.919684   \n",
      "4          -       Tfidf       Logistic         0.917223     0.943234   \n",
      "5          +       Tfidf       Logistic         0.920738     0.943937   \n",
      "6          -       Tfidf  MultinomialNB         0.885062     0.921793   \n",
      "\n",
      "   Test Score  \n",
      "0    0.906168  \n",
      "1    0.912493  \n",
      "2    0.904586  \n",
      "3    0.908276  \n",
      "4    0.921455  \n",
      "5    0.921982  \n",
      "6    0.885082  \n"
     ]
    }
   ],
   "source": [
    "modelscore(pipe_tvec_nb, '-', 'Tfidf', 'MultinomialNB')"
   ]
  },
  {
   "cell_type": "code",
   "execution_count": 75,
   "id": "3855a234",
   "metadata": {
    "scrolled": true
   },
   "outputs": [
    {
     "data": {
      "text/plain": [
       "dict_keys(['memory', 'steps', 'verbose', 'tvec', 'nb', 'tvec__analyzer', 'tvec__binary', 'tvec__decode_error', 'tvec__dtype', 'tvec__encoding', 'tvec__input', 'tvec__lowercase', 'tvec__max_df', 'tvec__max_features', 'tvec__min_df', 'tvec__ngram_range', 'tvec__norm', 'tvec__preprocessor', 'tvec__smooth_idf', 'tvec__stop_words', 'tvec__strip_accents', 'tvec__sublinear_tf', 'tvec__token_pattern', 'tvec__tokenizer', 'tvec__use_idf', 'tvec__vocabulary', 'nb__alpha', 'nb__class_prior', 'nb__fit_prior', 'nb__force_alpha'])"
      ]
     },
     "execution_count": 75,
     "metadata": {},
     "output_type": "execute_result"
    }
   ],
   "source": [
    "# check the adjustable parameters\n",
    "pipe_tvec_nb.get_params().keys()"
   ]
  },
  {
   "cell_type": "code",
   "execution_count": 76,
   "id": "20c4dee1",
   "metadata": {},
   "outputs": [],
   "source": [
    "gs_4 = GridSearchCV(pipe_tvec_nb,\n",
    "                  pipe_params_tvec,\n",
    "                  cv=5, verbose = 2, n_jobs = -1)"
   ]
  },
  {
   "cell_type": "code",
   "execution_count": 77,
   "id": "f531d6f7",
   "metadata": {
    "scrolled": true
   },
   "outputs": [
    {
     "name": "stdout",
     "output_type": "stream",
     "text": [
      "Fitting 5 folds for each of 216 candidates, totalling 1080 fits\n"
     ]
    },
    {
     "data": {
      "text/html": [
       "<style>#sk-container-id-8 {color: black;background-color: white;}#sk-container-id-8 pre{padding: 0;}#sk-container-id-8 div.sk-toggleable {background-color: white;}#sk-container-id-8 label.sk-toggleable__label {cursor: pointer;display: block;width: 100%;margin-bottom: 0;padding: 0.3em;box-sizing: border-box;text-align: center;}#sk-container-id-8 label.sk-toggleable__label-arrow:before {content: \"▸\";float: left;margin-right: 0.25em;color: #696969;}#sk-container-id-8 label.sk-toggleable__label-arrow:hover:before {color: black;}#sk-container-id-8 div.sk-estimator:hover label.sk-toggleable__label-arrow:before {color: black;}#sk-container-id-8 div.sk-toggleable__content {max-height: 0;max-width: 0;overflow: hidden;text-align: left;background-color: #f0f8ff;}#sk-container-id-8 div.sk-toggleable__content pre {margin: 0.2em;color: black;border-radius: 0.25em;background-color: #f0f8ff;}#sk-container-id-8 input.sk-toggleable__control:checked~div.sk-toggleable__content {max-height: 200px;max-width: 100%;overflow: auto;}#sk-container-id-8 input.sk-toggleable__control:checked~label.sk-toggleable__label-arrow:before {content: \"▾\";}#sk-container-id-8 div.sk-estimator input.sk-toggleable__control:checked~label.sk-toggleable__label {background-color: #d4ebff;}#sk-container-id-8 div.sk-label input.sk-toggleable__control:checked~label.sk-toggleable__label {background-color: #d4ebff;}#sk-container-id-8 input.sk-hidden--visually {border: 0;clip: rect(1px 1px 1px 1px);clip: rect(1px, 1px, 1px, 1px);height: 1px;margin: -1px;overflow: hidden;padding: 0;position: absolute;width: 1px;}#sk-container-id-8 div.sk-estimator {font-family: monospace;background-color: #f0f8ff;border: 1px dotted black;border-radius: 0.25em;box-sizing: border-box;margin-bottom: 0.5em;}#sk-container-id-8 div.sk-estimator:hover {background-color: #d4ebff;}#sk-container-id-8 div.sk-parallel-item::after {content: \"\";width: 100%;border-bottom: 1px solid gray;flex-grow: 1;}#sk-container-id-8 div.sk-label:hover label.sk-toggleable__label {background-color: #d4ebff;}#sk-container-id-8 div.sk-serial::before {content: \"\";position: absolute;border-left: 1px solid gray;box-sizing: border-box;top: 0;bottom: 0;left: 50%;z-index: 0;}#sk-container-id-8 div.sk-serial {display: flex;flex-direction: column;align-items: center;background-color: white;padding-right: 0.2em;padding-left: 0.2em;position: relative;}#sk-container-id-8 div.sk-item {position: relative;z-index: 1;}#sk-container-id-8 div.sk-parallel {display: flex;align-items: stretch;justify-content: center;background-color: white;position: relative;}#sk-container-id-8 div.sk-item::before, #sk-container-id-8 div.sk-parallel-item::before {content: \"\";position: absolute;border-left: 1px solid gray;box-sizing: border-box;top: 0;bottom: 0;left: 50%;z-index: -1;}#sk-container-id-8 div.sk-parallel-item {display: flex;flex-direction: column;z-index: 1;position: relative;background-color: white;}#sk-container-id-8 div.sk-parallel-item:first-child::after {align-self: flex-end;width: 50%;}#sk-container-id-8 div.sk-parallel-item:last-child::after {align-self: flex-start;width: 50%;}#sk-container-id-8 div.sk-parallel-item:only-child::after {width: 0;}#sk-container-id-8 div.sk-dashed-wrapped {border: 1px dashed gray;margin: 0 0.4em 0.5em 0.4em;box-sizing: border-box;padding-bottom: 0.4em;background-color: white;}#sk-container-id-8 div.sk-label label {font-family: monospace;font-weight: bold;display: inline-block;line-height: 1.2em;}#sk-container-id-8 div.sk-label-container {text-align: center;}#sk-container-id-8 div.sk-container {/* jupyter's `normalize.less` sets `[hidden] { display: none; }` but bootstrap.min.css set `[hidden] { display: none !important; }` so we also need the `!important` here to be able to override the default hidden behavior on the sphinx rendered scikit-learn.org. See: https://github.com/scikit-learn/scikit-learn/issues/21755 */display: inline-block !important;position: relative;}#sk-container-id-8 div.sk-text-repr-fallback {display: none;}</style><div id=\"sk-container-id-8\" class=\"sk-top-container\"><div class=\"sk-text-repr-fallback\"><pre>GridSearchCV(cv=5,\n",
       "             estimator=Pipeline(steps=[(&#x27;tvec&#x27;, TfidfVectorizer()),\n",
       "                                       (&#x27;nb&#x27;, MultinomialNB())]),\n",
       "             n_jobs=-1,\n",
       "             param_grid={&#x27;tvec__max_df&#x27;: [0.4, 0.5, 0.6, 0.7],\n",
       "                         &#x27;tvec__max_features&#x27;: [2000, 3000, 4000],\n",
       "                         &#x27;tvec__min_df&#x27;: [1, 2, 3],\n",
       "                         &#x27;tvec__ngram_range&#x27;: [(1, 1), (1, 2), (1, 3)],\n",
       "                         &#x27;tvec__stop_words&#x27;: [&#x27;english&#x27;, None]},\n",
       "             verbose=2)</pre><b>In a Jupyter environment, please rerun this cell to show the HTML representation or trust the notebook. <br />On GitHub, the HTML representation is unable to render, please try loading this page with nbviewer.org.</b></div><div class=\"sk-container\" hidden><div class=\"sk-item sk-dashed-wrapped\"><div class=\"sk-label-container\"><div class=\"sk-label sk-toggleable\"><input class=\"sk-toggleable__control sk-hidden--visually\" id=\"sk-estimator-id-25\" type=\"checkbox\" ><label for=\"sk-estimator-id-25\" class=\"sk-toggleable__label sk-toggleable__label-arrow\">GridSearchCV</label><div class=\"sk-toggleable__content\"><pre>GridSearchCV(cv=5,\n",
       "             estimator=Pipeline(steps=[(&#x27;tvec&#x27;, TfidfVectorizer()),\n",
       "                                       (&#x27;nb&#x27;, MultinomialNB())]),\n",
       "             n_jobs=-1,\n",
       "             param_grid={&#x27;tvec__max_df&#x27;: [0.4, 0.5, 0.6, 0.7],\n",
       "                         &#x27;tvec__max_features&#x27;: [2000, 3000, 4000],\n",
       "                         &#x27;tvec__min_df&#x27;: [1, 2, 3],\n",
       "                         &#x27;tvec__ngram_range&#x27;: [(1, 1), (1, 2), (1, 3)],\n",
       "                         &#x27;tvec__stop_words&#x27;: [&#x27;english&#x27;, None]},\n",
       "             verbose=2)</pre></div></div></div><div class=\"sk-parallel\"><div class=\"sk-parallel-item\"><div class=\"sk-item\"><div class=\"sk-label-container\"><div class=\"sk-label sk-toggleable\"><input class=\"sk-toggleable__control sk-hidden--visually\" id=\"sk-estimator-id-26\" type=\"checkbox\" ><label for=\"sk-estimator-id-26\" class=\"sk-toggleable__label sk-toggleable__label-arrow\">estimator: Pipeline</label><div class=\"sk-toggleable__content\"><pre>Pipeline(steps=[(&#x27;tvec&#x27;, TfidfVectorizer()), (&#x27;nb&#x27;, MultinomialNB())])</pre></div></div></div><div class=\"sk-serial\"><div class=\"sk-item\"><div class=\"sk-serial\"><div class=\"sk-item\"><div class=\"sk-estimator sk-toggleable\"><input class=\"sk-toggleable__control sk-hidden--visually\" id=\"sk-estimator-id-27\" type=\"checkbox\" ><label for=\"sk-estimator-id-27\" class=\"sk-toggleable__label sk-toggleable__label-arrow\">TfidfVectorizer</label><div class=\"sk-toggleable__content\"><pre>TfidfVectorizer()</pre></div></div></div><div class=\"sk-item\"><div class=\"sk-estimator sk-toggleable\"><input class=\"sk-toggleable__control sk-hidden--visually\" id=\"sk-estimator-id-28\" type=\"checkbox\" ><label for=\"sk-estimator-id-28\" class=\"sk-toggleable__label sk-toggleable__label-arrow\">MultinomialNB</label><div class=\"sk-toggleable__content\"><pre>MultinomialNB()</pre></div></div></div></div></div></div></div></div></div></div></div></div>"
      ],
      "text/plain": [
       "GridSearchCV(cv=5,\n",
       "             estimator=Pipeline(steps=[('tvec', TfidfVectorizer()),\n",
       "                                       ('nb', MultinomialNB())]),\n",
       "             n_jobs=-1,\n",
       "             param_grid={'tvec__max_df': [0.4, 0.5, 0.6, 0.7],\n",
       "                         'tvec__max_features': [2000, 3000, 4000],\n",
       "                         'tvec__min_df': [1, 2, 3],\n",
       "                         'tvec__ngram_range': [(1, 1), (1, 2), (1, 3)],\n",
       "                         'tvec__stop_words': ['english', None]},\n",
       "             verbose=2)"
      ]
     },
     "execution_count": 77,
     "metadata": {},
     "output_type": "execute_result"
    }
   ],
   "source": [
    "gs_4.fit(X_train, y_train)"
   ]
  },
  {
   "cell_type": "code",
   "execution_count": 78,
   "id": "531153e6",
   "metadata": {
    "scrolled": true
   },
   "outputs": [
    {
     "data": {
      "text/plain": [
       "{'tvec__max_df': 0.4,\n",
       " 'tvec__max_features': 4000,\n",
       " 'tvec__min_df': 1,\n",
       " 'tvec__ngram_range': (1, 2),\n",
       " 'tvec__stop_words': None}"
      ]
     },
     "execution_count": 78,
     "metadata": {},
     "output_type": "execute_result"
    }
   ],
   "source": [
    "gs_4.best_params_"
   ]
  },
  {
   "cell_type": "code",
   "execution_count": 79,
   "id": "ea3d1a4a",
   "metadata": {
    "scrolled": true
   },
   "outputs": [
    {
     "data": {
      "text/plain": [
       "0.9026362038664324"
      ]
     },
     "execution_count": 79,
     "metadata": {},
     "output_type": "execute_result"
    }
   ],
   "source": [
    "gs_4.best_score_"
   ]
  },
  {
   "cell_type": "code",
   "execution_count": 80,
   "id": "2b9f6da0",
   "metadata": {
    "scrolled": true
   },
   "outputs": [
    {
     "name": "stdout",
     "output_type": "stream",
     "text": [
      "Fitting 5 folds for each of 216 candidates, totalling 1080 fits\n",
      "Fitting 5 folds for each of 216 candidates, totalling 1080 fits\n",
      "Fitting 5 folds for each of 216 candidates, totalling 1080 fits\n",
      "Fitting 5 folds for each of 216 candidates, totalling 1080 fits\n",
      "Fitting 5 folds for each of 216 candidates, totalling 1080 fits\n",
      "  GridSearch Transformer          Model  cross_val_score  Train Score  \\\n",
      "0          -       CVect       Logistic         0.907030     0.974868   \n",
      "1          +       CVect       Logistic         0.909315     0.975747   \n",
      "2          -       CVect  MultinomialNB         0.903163     0.929525   \n",
      "3          +       CVect    Multinomial         0.903163     0.919684   \n",
      "4          -       Tfidf       Logistic         0.917223     0.943234   \n",
      "5          +       Tfidf       Logistic         0.920738     0.943937   \n",
      "6          -       Tfidf  MultinomialNB         0.885062     0.921793   \n",
      "7          +       Tfidf  MultinomialNB         0.901933     0.925132   \n",
      "\n",
      "   Test Score  \n",
      "0    0.906168  \n",
      "1    0.912493  \n",
      "2    0.904586  \n",
      "3    0.908276  \n",
      "4    0.921455  \n",
      "5    0.921982  \n",
      "6    0.885082  \n",
      "7    0.907222  \n"
     ]
    }
   ],
   "source": [
    "modelscore(gs_4, '+', 'Tfidf', 'MultinomialNB')"
   ]
  },
  {
   "cell_type": "markdown",
   "id": "54811ec0",
   "metadata": {},
   "source": [
    "#### Model 5: CountVectorizer and DecisionTreeClassifier"
   ]
  },
  {
   "cell_type": "code",
   "execution_count": 81,
   "id": "30e8d770",
   "metadata": {},
   "outputs": [],
   "source": [
    "pipe_cvec_dtc = Pipeline([('cvec', CountVectorizer()),\n",
    "                 ('dtc', DecisionTreeClassifier())\n",
    "                ])"
   ]
  },
  {
   "cell_type": "code",
   "execution_count": 82,
   "id": "bc28ee1d",
   "metadata": {
    "scrolled": false
   },
   "outputs": [
    {
     "data": {
      "text/html": [
       "<style>#sk-container-id-9 {color: black;background-color: white;}#sk-container-id-9 pre{padding: 0;}#sk-container-id-9 div.sk-toggleable {background-color: white;}#sk-container-id-9 label.sk-toggleable__label {cursor: pointer;display: block;width: 100%;margin-bottom: 0;padding: 0.3em;box-sizing: border-box;text-align: center;}#sk-container-id-9 label.sk-toggleable__label-arrow:before {content: \"▸\";float: left;margin-right: 0.25em;color: #696969;}#sk-container-id-9 label.sk-toggleable__label-arrow:hover:before {color: black;}#sk-container-id-9 div.sk-estimator:hover label.sk-toggleable__label-arrow:before {color: black;}#sk-container-id-9 div.sk-toggleable__content {max-height: 0;max-width: 0;overflow: hidden;text-align: left;background-color: #f0f8ff;}#sk-container-id-9 div.sk-toggleable__content pre {margin: 0.2em;color: black;border-radius: 0.25em;background-color: #f0f8ff;}#sk-container-id-9 input.sk-toggleable__control:checked~div.sk-toggleable__content {max-height: 200px;max-width: 100%;overflow: auto;}#sk-container-id-9 input.sk-toggleable__control:checked~label.sk-toggleable__label-arrow:before {content: \"▾\";}#sk-container-id-9 div.sk-estimator input.sk-toggleable__control:checked~label.sk-toggleable__label {background-color: #d4ebff;}#sk-container-id-9 div.sk-label input.sk-toggleable__control:checked~label.sk-toggleable__label {background-color: #d4ebff;}#sk-container-id-9 input.sk-hidden--visually {border: 0;clip: rect(1px 1px 1px 1px);clip: rect(1px, 1px, 1px, 1px);height: 1px;margin: -1px;overflow: hidden;padding: 0;position: absolute;width: 1px;}#sk-container-id-9 div.sk-estimator {font-family: monospace;background-color: #f0f8ff;border: 1px dotted black;border-radius: 0.25em;box-sizing: border-box;margin-bottom: 0.5em;}#sk-container-id-9 div.sk-estimator:hover {background-color: #d4ebff;}#sk-container-id-9 div.sk-parallel-item::after {content: \"\";width: 100%;border-bottom: 1px solid gray;flex-grow: 1;}#sk-container-id-9 div.sk-label:hover label.sk-toggleable__label {background-color: #d4ebff;}#sk-container-id-9 div.sk-serial::before {content: \"\";position: absolute;border-left: 1px solid gray;box-sizing: border-box;top: 0;bottom: 0;left: 50%;z-index: 0;}#sk-container-id-9 div.sk-serial {display: flex;flex-direction: column;align-items: center;background-color: white;padding-right: 0.2em;padding-left: 0.2em;position: relative;}#sk-container-id-9 div.sk-item {position: relative;z-index: 1;}#sk-container-id-9 div.sk-parallel {display: flex;align-items: stretch;justify-content: center;background-color: white;position: relative;}#sk-container-id-9 div.sk-item::before, #sk-container-id-9 div.sk-parallel-item::before {content: \"\";position: absolute;border-left: 1px solid gray;box-sizing: border-box;top: 0;bottom: 0;left: 50%;z-index: -1;}#sk-container-id-9 div.sk-parallel-item {display: flex;flex-direction: column;z-index: 1;position: relative;background-color: white;}#sk-container-id-9 div.sk-parallel-item:first-child::after {align-self: flex-end;width: 50%;}#sk-container-id-9 div.sk-parallel-item:last-child::after {align-self: flex-start;width: 50%;}#sk-container-id-9 div.sk-parallel-item:only-child::after {width: 0;}#sk-container-id-9 div.sk-dashed-wrapped {border: 1px dashed gray;margin: 0 0.4em 0.5em 0.4em;box-sizing: border-box;padding-bottom: 0.4em;background-color: white;}#sk-container-id-9 div.sk-label label {font-family: monospace;font-weight: bold;display: inline-block;line-height: 1.2em;}#sk-container-id-9 div.sk-label-container {text-align: center;}#sk-container-id-9 div.sk-container {/* jupyter's `normalize.less` sets `[hidden] { display: none; }` but bootstrap.min.css set `[hidden] { display: none !important; }` so we also need the `!important` here to be able to override the default hidden behavior on the sphinx rendered scikit-learn.org. See: https://github.com/scikit-learn/scikit-learn/issues/21755 */display: inline-block !important;position: relative;}#sk-container-id-9 div.sk-text-repr-fallback {display: none;}</style><div id=\"sk-container-id-9\" class=\"sk-top-container\"><div class=\"sk-text-repr-fallback\"><pre>Pipeline(steps=[(&#x27;cvec&#x27;, CountVectorizer()), (&#x27;dtc&#x27;, DecisionTreeClassifier())])</pre><b>In a Jupyter environment, please rerun this cell to show the HTML representation or trust the notebook. <br />On GitHub, the HTML representation is unable to render, please try loading this page with nbviewer.org.</b></div><div class=\"sk-container\" hidden><div class=\"sk-item sk-dashed-wrapped\"><div class=\"sk-label-container\"><div class=\"sk-label sk-toggleable\"><input class=\"sk-toggleable__control sk-hidden--visually\" id=\"sk-estimator-id-29\" type=\"checkbox\" ><label for=\"sk-estimator-id-29\" class=\"sk-toggleable__label sk-toggleable__label-arrow\">Pipeline</label><div class=\"sk-toggleable__content\"><pre>Pipeline(steps=[(&#x27;cvec&#x27;, CountVectorizer()), (&#x27;dtc&#x27;, DecisionTreeClassifier())])</pre></div></div></div><div class=\"sk-serial\"><div class=\"sk-item\"><div class=\"sk-estimator sk-toggleable\"><input class=\"sk-toggleable__control sk-hidden--visually\" id=\"sk-estimator-id-30\" type=\"checkbox\" ><label for=\"sk-estimator-id-30\" class=\"sk-toggleable__label sk-toggleable__label-arrow\">CountVectorizer</label><div class=\"sk-toggleable__content\"><pre>CountVectorizer()</pre></div></div></div><div class=\"sk-item\"><div class=\"sk-estimator sk-toggleable\"><input class=\"sk-toggleable__control sk-hidden--visually\" id=\"sk-estimator-id-31\" type=\"checkbox\" ><label for=\"sk-estimator-id-31\" class=\"sk-toggleable__label sk-toggleable__label-arrow\">DecisionTreeClassifier</label><div class=\"sk-toggleable__content\"><pre>DecisionTreeClassifier()</pre></div></div></div></div></div></div></div>"
      ],
      "text/plain": [
       "Pipeline(steps=[('cvec', CountVectorizer()), ('dtc', DecisionTreeClassifier())])"
      ]
     },
     "execution_count": 82,
     "metadata": {},
     "output_type": "execute_result"
    }
   ],
   "source": [
    "# fit\n",
    "pipe_cvec_dtc.fit(X_train, y_train)"
   ]
  },
  {
   "cell_type": "code",
   "execution_count": 83,
   "id": "8949348d",
   "metadata": {
    "scrolled": false
   },
   "outputs": [
    {
     "data": {
      "text/plain": [
       "array([0.8857645 , 0.89191564, 0.86994728, 0.89279438, 0.88049209])"
      ]
     },
     "execution_count": 83,
     "metadata": {},
     "output_type": "execute_result"
    }
   ],
   "source": [
    "cross_val_score(pipe_cvec_dtc, X_train, y_train, cv=5)"
   ]
  },
  {
   "cell_type": "code",
   "execution_count": 84,
   "id": "af832717",
   "metadata": {
    "scrolled": true
   },
   "outputs": [
    {
     "name": "stdout",
     "output_type": "stream",
     "text": [
      "  GridSearch Transformer          Model  cross_val_score  Train Score  \\\n",
      "0          -       CVect       Logistic         0.907030     0.974868   \n",
      "1          +       CVect       Logistic         0.909315     0.975747   \n",
      "2          -       CVect  MultinomialNB         0.903163     0.929525   \n",
      "3          +       CVect    Multinomial         0.903163     0.919684   \n",
      "4          -       Tfidf       Logistic         0.917223     0.943234   \n",
      "5          +       Tfidf       Logistic         0.920738     0.943937   \n",
      "6          -       Tfidf  MultinomialNB         0.885062     0.921793   \n",
      "7          +       Tfidf  MultinomialNB         0.901933     0.925132   \n",
      "8          -       CVect   DecisionTree         0.887346     0.999649   \n",
      "\n",
      "   Test Score  \n",
      "0    0.906168  \n",
      "1    0.912493  \n",
      "2    0.904586  \n",
      "3    0.908276  \n",
      "4    0.921455  \n",
      "5    0.921982  \n",
      "6    0.885082  \n",
      "7    0.907222  \n",
      "8    0.880337  \n"
     ]
    }
   ],
   "source": [
    "modelscore(pipe_cvec_dtc, '-', 'CVect', 'DecisionTree')"
   ]
  },
  {
   "cell_type": "markdown",
   "id": "ffcf047a",
   "metadata": {},
   "source": [
    "#### Model 6: TfidfVectorizer and DecisionTreeClassifier"
   ]
  },
  {
   "cell_type": "code",
   "execution_count": 97,
   "id": "bb735300",
   "metadata": {},
   "outputs": [],
   "source": [
    "pipe_tvec_dtc = Pipeline([('tvec', TfidfVectorizer()),\n",
    "                 ('dtc', DecisionTreeClassifier())\n",
    "                ])"
   ]
  },
  {
   "cell_type": "code",
   "execution_count": 98,
   "id": "24e1d527",
   "metadata": {
    "scrolled": false
   },
   "outputs": [
    {
     "data": {
      "text/html": [
       "<style>#sk-container-id-10 {color: black;background-color: white;}#sk-container-id-10 pre{padding: 0;}#sk-container-id-10 div.sk-toggleable {background-color: white;}#sk-container-id-10 label.sk-toggleable__label {cursor: pointer;display: block;width: 100%;margin-bottom: 0;padding: 0.3em;box-sizing: border-box;text-align: center;}#sk-container-id-10 label.sk-toggleable__label-arrow:before {content: \"▸\";float: left;margin-right: 0.25em;color: #696969;}#sk-container-id-10 label.sk-toggleable__label-arrow:hover:before {color: black;}#sk-container-id-10 div.sk-estimator:hover label.sk-toggleable__label-arrow:before {color: black;}#sk-container-id-10 div.sk-toggleable__content {max-height: 0;max-width: 0;overflow: hidden;text-align: left;background-color: #f0f8ff;}#sk-container-id-10 div.sk-toggleable__content pre {margin: 0.2em;color: black;border-radius: 0.25em;background-color: #f0f8ff;}#sk-container-id-10 input.sk-toggleable__control:checked~div.sk-toggleable__content {max-height: 200px;max-width: 100%;overflow: auto;}#sk-container-id-10 input.sk-toggleable__control:checked~label.sk-toggleable__label-arrow:before {content: \"▾\";}#sk-container-id-10 div.sk-estimator input.sk-toggleable__control:checked~label.sk-toggleable__label {background-color: #d4ebff;}#sk-container-id-10 div.sk-label input.sk-toggleable__control:checked~label.sk-toggleable__label {background-color: #d4ebff;}#sk-container-id-10 input.sk-hidden--visually {border: 0;clip: rect(1px 1px 1px 1px);clip: rect(1px, 1px, 1px, 1px);height: 1px;margin: -1px;overflow: hidden;padding: 0;position: absolute;width: 1px;}#sk-container-id-10 div.sk-estimator {font-family: monospace;background-color: #f0f8ff;border: 1px dotted black;border-radius: 0.25em;box-sizing: border-box;margin-bottom: 0.5em;}#sk-container-id-10 div.sk-estimator:hover {background-color: #d4ebff;}#sk-container-id-10 div.sk-parallel-item::after {content: \"\";width: 100%;border-bottom: 1px solid gray;flex-grow: 1;}#sk-container-id-10 div.sk-label:hover label.sk-toggleable__label {background-color: #d4ebff;}#sk-container-id-10 div.sk-serial::before {content: \"\";position: absolute;border-left: 1px solid gray;box-sizing: border-box;top: 0;bottom: 0;left: 50%;z-index: 0;}#sk-container-id-10 div.sk-serial {display: flex;flex-direction: column;align-items: center;background-color: white;padding-right: 0.2em;padding-left: 0.2em;position: relative;}#sk-container-id-10 div.sk-item {position: relative;z-index: 1;}#sk-container-id-10 div.sk-parallel {display: flex;align-items: stretch;justify-content: center;background-color: white;position: relative;}#sk-container-id-10 div.sk-item::before, #sk-container-id-10 div.sk-parallel-item::before {content: \"\";position: absolute;border-left: 1px solid gray;box-sizing: border-box;top: 0;bottom: 0;left: 50%;z-index: -1;}#sk-container-id-10 div.sk-parallel-item {display: flex;flex-direction: column;z-index: 1;position: relative;background-color: white;}#sk-container-id-10 div.sk-parallel-item:first-child::after {align-self: flex-end;width: 50%;}#sk-container-id-10 div.sk-parallel-item:last-child::after {align-self: flex-start;width: 50%;}#sk-container-id-10 div.sk-parallel-item:only-child::after {width: 0;}#sk-container-id-10 div.sk-dashed-wrapped {border: 1px dashed gray;margin: 0 0.4em 0.5em 0.4em;box-sizing: border-box;padding-bottom: 0.4em;background-color: white;}#sk-container-id-10 div.sk-label label {font-family: monospace;font-weight: bold;display: inline-block;line-height: 1.2em;}#sk-container-id-10 div.sk-label-container {text-align: center;}#sk-container-id-10 div.sk-container {/* jupyter's `normalize.less` sets `[hidden] { display: none; }` but bootstrap.min.css set `[hidden] { display: none !important; }` so we also need the `!important` here to be able to override the default hidden behavior on the sphinx rendered scikit-learn.org. See: https://github.com/scikit-learn/scikit-learn/issues/21755 */display: inline-block !important;position: relative;}#sk-container-id-10 div.sk-text-repr-fallback {display: none;}</style><div id=\"sk-container-id-10\" class=\"sk-top-container\"><div class=\"sk-text-repr-fallback\"><pre>Pipeline(steps=[(&#x27;tvec&#x27;, TfidfVectorizer()), (&#x27;dtc&#x27;, DecisionTreeClassifier())])</pre><b>In a Jupyter environment, please rerun this cell to show the HTML representation or trust the notebook. <br />On GitHub, the HTML representation is unable to render, please try loading this page with nbviewer.org.</b></div><div class=\"sk-container\" hidden><div class=\"sk-item sk-dashed-wrapped\"><div class=\"sk-label-container\"><div class=\"sk-label sk-toggleable\"><input class=\"sk-toggleable__control sk-hidden--visually\" id=\"sk-estimator-id-32\" type=\"checkbox\" ><label for=\"sk-estimator-id-32\" class=\"sk-toggleable__label sk-toggleable__label-arrow\">Pipeline</label><div class=\"sk-toggleable__content\"><pre>Pipeline(steps=[(&#x27;tvec&#x27;, TfidfVectorizer()), (&#x27;dtc&#x27;, DecisionTreeClassifier())])</pre></div></div></div><div class=\"sk-serial\"><div class=\"sk-item\"><div class=\"sk-estimator sk-toggleable\"><input class=\"sk-toggleable__control sk-hidden--visually\" id=\"sk-estimator-id-33\" type=\"checkbox\" ><label for=\"sk-estimator-id-33\" class=\"sk-toggleable__label sk-toggleable__label-arrow\">TfidfVectorizer</label><div class=\"sk-toggleable__content\"><pre>TfidfVectorizer()</pre></div></div></div><div class=\"sk-item\"><div class=\"sk-estimator sk-toggleable\"><input class=\"sk-toggleable__control sk-hidden--visually\" id=\"sk-estimator-id-34\" type=\"checkbox\" ><label for=\"sk-estimator-id-34\" class=\"sk-toggleable__label sk-toggleable__label-arrow\">DecisionTreeClassifier</label><div class=\"sk-toggleable__content\"><pre>DecisionTreeClassifier()</pre></div></div></div></div></div></div></div>"
      ],
      "text/plain": [
       "Pipeline(steps=[('tvec', TfidfVectorizer()), ('dtc', DecisionTreeClassifier())])"
      ]
     },
     "execution_count": 98,
     "metadata": {},
     "output_type": "execute_result"
    }
   ],
   "source": [
    "# fit\n",
    "pipe_tvec_dtc.fit(X_train, y_train)"
   ]
  },
  {
   "cell_type": "code",
   "execution_count": 99,
   "id": "7a88c23e",
   "metadata": {
    "scrolled": false
   },
   "outputs": [
    {
     "data": {
      "text/plain": [
       "array([0.89455185, 0.89543058, 0.87785589, 0.89455185, 0.90070299])"
      ]
     },
     "execution_count": 99,
     "metadata": {},
     "output_type": "execute_result"
    }
   ],
   "source": [
    "cross_val_score(pipe_tvec_dtc, X_train, y_train, cv=5)"
   ]
  },
  {
   "cell_type": "code",
   "execution_count": 100,
   "id": "bf3a28ac",
   "metadata": {
    "scrolled": true
   },
   "outputs": [
    {
     "name": "stdout",
     "output_type": "stream",
     "text": [
      "  GridSearch Transformer          Model  cross_val_score  Train Score  \\\n",
      "0          -       CVect       Logistic         0.907030     0.974868   \n",
      "1          +       CVect       Logistic         0.909315     0.975747   \n",
      "2          -       CVect  MultinomialNB         0.903163     0.929525   \n",
      "3          +       CVect    Multinomial         0.903163     0.919684   \n",
      "4          -       Tfidf       Logistic         0.917223     0.943234   \n",
      "5          +       Tfidf       Logistic         0.920738     0.943937   \n",
      "6          -       Tfidf  MultinomialNB         0.885062     0.921793   \n",
      "7          +       Tfidf  MultinomialNB         0.901933     0.925132   \n",
      "8          -       CVect   DecisionTree         0.887346     0.999649   \n",
      "9          -       Tfidf   DecisionTree         0.886995     0.999649   \n",
      "\n",
      "   Test Score  \n",
      "0    0.906168  \n",
      "1    0.912493  \n",
      "2    0.904586  \n",
      "3    0.908276  \n",
      "4    0.921455  \n",
      "5    0.921982  \n",
      "6    0.885082  \n",
      "7    0.907222  \n",
      "8    0.880337  \n",
      "9    0.891407  \n"
     ]
    }
   ],
   "source": [
    "modelscore(pipe_tvec_dtc, '-', 'Tfidf', 'DecisionTree')"
   ]
  },
  {
   "cell_type": "markdown",
   "id": "0d2c5cd9",
   "metadata": {},
   "source": [
    "#### Summary: CountVectorizer+Logistic with or without GridSearch show overfitting; however, the overfitting could be improved by switching to TfidfVectorizer.  MultinomialNB, on the hand, had a slightly better performance with CountVectorizer. "
   ]
  },
  {
   "cell_type": "markdown",
   "id": "59cd7f7b",
   "metadata": {},
   "source": [
    "### Model Evaluation"
   ]
  },
  {
   "cell_type": "code",
   "execution_count": 85,
   "id": "89630e06",
   "metadata": {},
   "outputs": [],
   "source": [
    "def c_matrix(model, X_test):\n",
    "    model.fit(X_train, y_train) \n",
    "    y_pred = model.predict(X_test)            # calculate predictions\n",
    "    cm = confusion_matrix(y_test, y_pred)    # defining the confusion matrix\n",
    "    tn, fp, fn, tp = cm.ravel()               # assigning the elements of the confusion matrix to variables\n",
    "    \n",
    "    spec = tn / (tn + fp)                     # calculate the specificity\n",
    "    sens = tp / (tp + fn)                     # calculate the sensitivity\n",
    "    \n",
    "    print('Specificity:', spec)\n",
    "    print('Sensitivity:', sens)\n",
    "    print('Classification Report')\n",
    "    print(classification_report(y_test, y_pred))\n",
    "    \n",
    "    return pd.DataFrame(cm, \n",
    "                        columns = ['Pred AwardTravel','Pred TravelHack'], \n",
    "                        index = ['Act AwardTravel', 'Act TravelHack'])"
   ]
  },
  {
   "cell_type": "code",
   "execution_count": 86,
   "id": "5d6a310b",
   "metadata": {},
   "outputs": [],
   "source": [
    "def display_matrix(model, X_test, y_test):\n",
    "    ConfusionMatrixDisplay.from_estimator(model, X_test, y_test, cmap='Blues', values_format='d');"
   ]
  },
  {
   "cell_type": "code",
   "execution_count": 88,
   "id": "8d9968e4",
   "metadata": {},
   "outputs": [
    {
     "name": "stdout",
     "output_type": "stream",
     "text": [
      "--- CountVectorizer and LogisticRegression ---\n",
      "Specificity: 0.8709677419354839\n",
      "Sensitivity: 0.9423076923076923\n",
      "Classification Report\n",
      "              precision    recall  f1-score   support\n",
      "\n",
      "           0       0.94      0.87      0.90       961\n",
      "           1       0.88      0.94      0.91       936\n",
      "\n",
      "    accuracy                           0.91      1897\n",
      "   macro avg       0.91      0.91      0.91      1897\n",
      "weighted avg       0.91      0.91      0.91      1897\n",
      "\n"
     ]
    },
    {
     "data": {
      "image/png": "[encoded data removed]",
      "text/plain": [
       "<Figure size 640x480 with 2 Axes>"
      ]
     },
     "metadata": {},
     "output_type": "display_data"
    }
   ],
   "source": [
    "print(f\"--- CountVectorizer and LogisticRegression ---\")\n",
    "c_matrix(pipe_cvec_log, X_test)\n",
    "\n",
    "display_matrix(pipe_cvec_log, X_test, y_test)"
   ]
  },
  {
   "cell_type": "code",
   "execution_count": 89,
   "id": "b3a2fc58",
   "metadata": {
    "scrolled": false
   },
   "outputs": [
    {
     "name": "stdout",
     "output_type": "stream",
     "text": [
      "Grid Search of CountVectorizer and LogisticRegression\n",
      "Specificity: 0.8803329864724245\n",
      "Sensitivity: 0.9455128205128205\n",
      "Classification Report\n",
      "              precision    recall  f1-score   support\n",
      "\n",
      "           0       0.94      0.88      0.91       961\n",
      "           1       0.89      0.95      0.91       936\n",
      "\n",
      "    accuracy                           0.91      1897\n",
      "   macro avg       0.91      0.91      0.91      1897\n",
      "weighted avg       0.91      0.91      0.91      1897\n",
      "\n"
     ]
    },
    {
     "data": {
      "image/png": "[encoded data removed]",
      "text/plain": [
       "<Figure size 640x480 with 2 Axes>"
      ]
     },
     "metadata": {},
     "output_type": "display_data"
    }
   ],
   "source": [
    "print(\"Grid Search of CountVectorizer and LogisticRegression\")\n",
    "c_matrix(gs_1, X_test)\n",
    "\n",
    "display_matrix(gs_1, X_test, y_test)"
   ]
  },
  {
   "cell_type": "code",
   "execution_count": 90,
   "id": "8898f85c",
   "metadata": {
    "scrolled": false
   },
   "outputs": [
    {
     "name": "stdout",
     "output_type": "stream",
     "text": [
      "CountVectorizer and MultinomialNB\n",
      "Specificity: 0.9427679500520292\n",
      "Sensitivity: 0.8653846153846154\n",
      "Classification Report\n",
      "              precision    recall  f1-score   support\n",
      "\n",
      "           0       0.88      0.94      0.91       961\n",
      "           1       0.94      0.87      0.90       936\n",
      "\n",
      "    accuracy                           0.90      1897\n",
      "   macro avg       0.91      0.90      0.90      1897\n",
      "weighted avg       0.91      0.90      0.90      1897\n",
      "\n"
     ]
    },
    {
     "data": {
      "image/png": "[encoded data removed]",
      "text/plain": [
       "<Figure size 640x480 with 2 Axes>"
      ]
     },
     "metadata": {},
     "output_type": "display_data"
    }
   ],
   "source": [
    "print(f\"CountVectorizer and MultinomialNB\")\n",
    "c_matrix(pipe_cvec_nb, X_test)\n",
    "\n",
    "display_matrix(pipe_cvec_nb, X_test, y_test)"
   ]
  },
  {
   "cell_type": "code",
   "execution_count": 91,
   "id": "9a1fcb03",
   "metadata": {
    "scrolled": true
   },
   "outputs": [
    {
     "name": "stdout",
     "output_type": "stream",
     "text": [
      "Grid Search of CountVectorizer and MultinomialNB\n",
      "Specificity: 0.9157127991675338\n",
      "Sensitivity: 0.9006410256410257\n",
      "Classification Report\n",
      "              precision    recall  f1-score   support\n",
      "\n",
      "           0       0.90      0.92      0.91       961\n",
      "           1       0.91      0.90      0.91       936\n",
      "\n",
      "    accuracy                           0.91      1897\n",
      "   macro avg       0.91      0.91      0.91      1897\n",
      "weighted avg       0.91      0.91      0.91      1897\n",
      "\n"
     ]
    },
    {
     "data": {
      "image/png": "[encoded data removed]",
      "text/plain": [
       "<Figure size 640x480 with 2 Axes>"
      ]
     },
     "metadata": {},
     "output_type": "display_data"
    }
   ],
   "source": [
    "print(\"Grid Search of CountVectorizer and MultinomialNB\")\n",
    "c_matrix(gs_2, X_test)\n",
    "\n",
    "display_matrix(gs_2, X_test, y_test)"
   ]
  },
  {
   "cell_type": "code",
   "execution_count": 92,
   "id": "9b81c2d9",
   "metadata": {
    "scrolled": true
   },
   "outputs": [
    {
     "name": "stdout",
     "output_type": "stream",
     "text": [
      "TfidfVectorizer and LogisticRegression\n",
      "Specificity: 0.8959417273673257\n",
      "Sensitivity: 0.9476495726495726\n",
      "Classification Report\n",
      "              precision    recall  f1-score   support\n",
      "\n",
      "           0       0.95      0.90      0.92       961\n",
      "           1       0.90      0.95      0.92       936\n",
      "\n",
      "    accuracy                           0.92      1897\n",
      "   macro avg       0.92      0.92      0.92      1897\n",
      "weighted avg       0.92      0.92      0.92      1897\n",
      "\n"
     ]
    },
    {
     "data": {
      "image/png": "[encoded data removed]",
      "text/plain": [
       "<Figure size 640x480 with 2 Axes>"
      ]
     },
     "metadata": {},
     "output_type": "display_data"
    }
   ],
   "source": [
    "print(f\"TfidfVectorizer and LogisticRegression\")\n",
    "c_matrix(pipe_tvec_log, X_test)\n",
    "\n",
    "display_matrix(pipe_tvec_log, X_test, y_test)"
   ]
  },
  {
   "cell_type": "code",
   "execution_count": 93,
   "id": "4c7014a2",
   "metadata": {},
   "outputs": [
    {
     "name": "stdout",
     "output_type": "stream",
     "text": [
      "Grid Search of TfidfVectorizer and LogisticRegression\n",
      "Fitting 5 folds for each of 216 candidates, totalling 1080 fits\n",
      "Specificity: 0.8980228928199792\n",
      "Sensitivity: 0.9465811965811965\n",
      "Classification Report\n",
      "              precision    recall  f1-score   support\n",
      "\n",
      "           0       0.95      0.90      0.92       961\n",
      "           1       0.90      0.95      0.92       936\n",
      "\n",
      "    accuracy                           0.92      1897\n",
      "   macro avg       0.92      0.92      0.92      1897\n",
      "weighted avg       0.92      0.92      0.92      1897\n",
      "\n"
     ]
    },
    {
     "data": {
      "image/png": "[encoded data removed]",
      "text/plain": [
       "<Figure size 640x480 with 2 Axes>"
      ]
     },
     "metadata": {},
     "output_type": "display_data"
    }
   ],
   "source": [
    "print(\"Grid Search of TfidfVectorizer and LogisticRegression\")\n",
    "c_matrix(gs_3, X_test)\n",
    "display_matrix(gs_3, X_test, y_test)"
   ]
  },
  {
   "cell_type": "code",
   "execution_count": 94,
   "id": "da6d6214",
   "metadata": {},
   "outputs": [
    {
     "name": "stdout",
     "output_type": "stream",
     "text": [
      "TfidfVectorizer and MultinomialNB\n",
      "Specificity: 0.9562955254942768\n",
      "Sensitivity: 0.811965811965812\n",
      "Classification Report\n",
      "              precision    recall  f1-score   support\n",
      "\n",
      "           0       0.84      0.96      0.89       961\n",
      "           1       0.95      0.81      0.87       936\n",
      "\n",
      "    accuracy                           0.89      1897\n",
      "   macro avg       0.89      0.88      0.88      1897\n",
      "weighted avg       0.89      0.89      0.88      1897\n",
      "\n"
     ]
    },
    {
     "data": {
      "image/png": "[encoded data removed]",
      "text/plain": [
       "<Figure size 640x480 with 2 Axes>"
      ]
     },
     "metadata": {},
     "output_type": "display_data"
    }
   ],
   "source": [
    "print(f\"TfidfVectorizer and MultinomialNB\")\n",
    "c_matrix(pipe_tvec_nb, X_test)\n",
    "display_matrix(pipe_tvec_nb, X_test, y_test)"
   ]
  },
  {
   "cell_type": "code",
   "execution_count": 95,
   "id": "e9b043b4",
   "metadata": {
    "scrolled": true
   },
   "outputs": [
    {
     "name": "stdout",
     "output_type": "stream",
     "text": [
      "Grid Search of TfidfVectorizer and MultinomialNB\n",
      "Fitting 5 folds for each of 216 candidates, totalling 1080 fits\n",
      "Specificity: 0.9177939646201873\n",
      "Sensitivity: 0.8963675213675214\n",
      "Classification Report\n",
      "              precision    recall  f1-score   support\n",
      "\n",
      "           0       0.90      0.92      0.91       961\n",
      "           1       0.91      0.90      0.91       936\n",
      "\n",
      "    accuracy                           0.91      1897\n",
      "   macro avg       0.91      0.91      0.91      1897\n",
      "weighted avg       0.91      0.91      0.91      1897\n",
      "\n"
     ]
    },
    {
     "data": {
      "image/png": "[encoded data removed]",
      "text/plain": [
       "<Figure size 640x480 with 2 Axes>"
      ]
     },
     "metadata": {},
     "output_type": "display_data"
    }
   ],
   "source": [
    "print(\"Grid Search of TfidfVectorizer and MultinomialNB\")\n",
    "c_matrix(gs_4, X_test)\n",
    "display_matrix(gs_4, X_test, y_test)"
   ]
  },
  {
   "cell_type": "code",
   "execution_count": 96,
   "id": "ca8ea546",
   "metadata": {
    "scrolled": true
   },
   "outputs": [
    {
     "name": "stdout",
     "output_type": "stream",
     "text": [
      "CountVectorizer and DecisionTree\n",
      "Specificity: 0.8855359001040582\n",
      "Sensitivity: 0.8824786324786325\n",
      "Classification Report\n",
      "              precision    recall  f1-score   support\n",
      "\n",
      "           0       0.89      0.89      0.89       961\n",
      "           1       0.88      0.88      0.88       936\n",
      "\n",
      "    accuracy                           0.88      1897\n",
      "   macro avg       0.88      0.88      0.88      1897\n",
      "weighted avg       0.88      0.88      0.88      1897\n",
      "\n"
     ]
    },
    {
     "data": {
      "image/png": "[encoded data removed]",
      "text/plain": [
       "<Figure size 640x480 with 2 Axes>"
      ]
     },
     "metadata": {},
     "output_type": "display_data"
    }
   ],
   "source": [
    "print(f\"CountVectorizer and DecisionTree\")\n",
    "c_matrix(pipe_cvec_dtc, X_test)\n",
    "\n",
    "display_matrix(pipe_cvec_dtc, X_test, y_test)"
   ]
  },
  {
   "cell_type": "markdown",
   "id": "3ec08ed0",
   "metadata": {},
   "source": [
    "All 9 models tested have very similar results except Cvec+logestic and and Cvec+DecsisionTress. Cvec+logestic shows the specificity of 87% and sensitivity of 94%, which is sligthly better than Cvec+DecsisionTress (specificity of 87% and sensitivity of 87%). The cvec+MultinomialNB with gridsearch is the best performance model (91% accuracy, specificity, and sensitivity)."
   ]
  },
  {
   "cell_type": "markdown",
   "id": "7d4c1e7a",
   "metadata": {},
   "source": [
    "#### Receiver operating characteristic(ROC) curves"
   ]
  },
  {
   "cell_type": "code",
   "execution_count": 102,
   "id": "2b7a77a4",
   "metadata": {
    "scrolled": true
   },
   "outputs": [
    {
     "data": {
      "image/png": "[encoded data removed]",
      "text/plain": [
       "<Figure size 1500x800 with 1 Axes>"
      ]
     },
     "metadata": {},
     "output_type": "display_data"
    }
   ],
   "source": [
    "# GridSearch of CountVectorizer and MultinomialNB\n",
    "# adopted from class\n",
    "plt.figure(figsize=(15,8))\n",
    "\n",
    "gs_2.fit(X_train, y_train)\n",
    "y_preds = gs_2.predict_proba(X_test)\n",
    "\n",
    "preds = y_preds[:,1]\n",
    "\n",
    "fpr, tpr, _ = metrics.roc_curve(y_test, preds)  # false-positive-rate vs true-positive-rate\n",
    "\n",
    "auc_score = metrics.auc(fpr, tpr)\n",
    "\n",
    "plt.title('ROC Curve')\n",
    "\n",
    "plt.plot(fpr, tpr, label='AUC = {:.2f}'.format(auc_score))\n",
    "\n",
    "# add threshold\n",
    "plt.plot([0,1],[0,1],'r--', label='Baseline')\n",
    "\n",
    "plt.xlim([-0.1,1.1])\n",
    "plt.ylim([-0.1,1.1])\n",
    "plt.ylabel('True Positive Rate')\n",
    "plt.xlabel('False Positive Rate')\n",
    "\n",
    "plt.legend(loc='lower right'); "
   ]
  },
  {
   "cell_type": "markdown",
   "id": "f28417fb",
   "metadata": {},
   "source": [
    "The ROC curve shows the tradeoff between sensitivity and specificity. The larger of the area under curve (AUC) means better accuracy. GridSearch of CountVectorizer and MultinomialNB has AUC of 0.95, which is consider quite good. "
   ]
  },
  {
   "cell_type": "markdown",
   "id": "7c616dd7",
   "metadata": {},
   "source": [
    "### Conclusion\n",
    "r/TravelHacks and r/AwardTravel is somewhat similar because awardtravel is type of travel hacks. From the frequent bigrams and trigrams, r/awardtravel is more about points, flight tickets, and airline company, while r/travelhacks is more about rental car, trip planning, and destinations. According to the Sentiment Analysis, r/AwardTravel has a slightly higher sentiment score than r/TravelHacks. The MultinomialNB model with countvector and gridsearch is the best model to make prediction with accuracy of 91%."
   ]
  },
  {
   "cell_type": "markdown",
   "id": "ca86e577",
   "metadata": {},
   "source": [
    "#### Recommendations\n",
    "r/awardtravel may be appealing for the customers who want to redeem points for their trips, while r/TravelHacks may be great for customers whose trips involved car rentals. One of the major limitions for my model is that all numbers were removed during text cleaning; therefore, it will be hard to provide any features related to numbers such as cost, distance, and number of points for award redeemtion. The possible steps to improve the model will be:\n",
    "\n",
    "- Modify the text cleaning steps to ensure no important numbers are removed\n",
    "- Make a list of words related to the airport code so that they are not being removed during the text cleaning process\n",
    "- Stake the models to see if the accuracy of model is improved"
   ]
  }
 ],
 "metadata": {
  "kernelspec": {
   "display_name": "Python 3 (ipykernel)",
   "language": "python",
   "name": "python3"
  },
  "language_info": {
   "codemirror_mode": {
    "name": "ipython",
    "version": 3
   },
   "file_extension": ".py",
   "mimetype": "text/x-python",
   "name": "python",
   "nbconvert_exporter": "python",
   "pygments_lexer": "ipython3",
   "version": "3.9.13"
  }
 },
 "nbformat": 4,
 "nbformat_minor": 5
}
