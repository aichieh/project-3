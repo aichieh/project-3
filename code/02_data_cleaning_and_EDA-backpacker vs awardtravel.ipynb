{
 "cells": [
  {
   "cell_type": "markdown",
   "id": "94a41d35",
   "metadata": {},
   "source": [
    "### Imports"
   ]
  },
  {
   "cell_type": "code",
   "execution_count": 1,
   "id": "d3f50d62",
   "metadata": {},
   "outputs": [],
   "source": [
    "# Import libraries needed for webscraping\n",
    "import requests\n",
    "from datetime import datetime\n",
    "import time\n",
    "import random\n",
    "import pandas as pd\n",
    "\n",
    "import matplotlib.pyplot as plt\n",
    "import pandas as pd\n",
    "import seaborn as sns\n",
    "import numpy as np\n",
    "\n",
    "import regex as re\n",
    "from sklearn import metrics\n",
    "from sklearn.pipeline import Pipeline\n",
    "from sklearn.linear_model import LogisticRegression\n",
    "from sklearn.feature_extraction.text import CountVectorizer\n",
    "from sklearn.model_selection import GridSearchCV, train_test_split, cross_val_score\n",
    "from sklearn.metrics import confusion_matrix, classification_report\n",
    "from sklearn.naive_bayes import MultinomialNB\n",
    "\n",
    "import nltk\n",
    "from nltk.stem import WordNetLemmatizer\n",
    "from nltk.corpus import stopwords\n",
    "#nltk.download('stopwords')\n",
    "from nltk.tokenize import word_tokenize, RegexpTokenizer\n",
    "\n",
    "from bs4 import BeautifulSoup    \n",
    "\n",
    "import unidecode\n",
    "import contractions\n",
    "import redditcleaner\n",
    "import spacy\n",
    "#spacy.cli.download('en_core_web_md')\n",
    "#spacy.cli.download('en_core_web_sm')\n",
    "\n",
    "pd.set_option('display.max_columns', 2000)\n",
    "pd.set_option('display.max_rows', 500)"
   ]
  },
  {
   "cell_type": "code",
   "execution_count": 112,
   "id": "d50ed8ec",
   "metadata": {},
   "outputs": [
    {
     "name": "stdout",
     "output_type": "stream",
     "text": [
      "Collecting contractions\n",
      "  Downloading contractions-0.1.73-py2.py3-none-any.whl (8.7 kB)\n",
      "Collecting textsearch>=0.0.21\n",
      "  Downloading textsearch-0.0.24-py2.py3-none-any.whl (7.6 kB)\n",
      "Collecting pyahocorasick\n",
      "  Downloading pyahocorasick-2.0.0-cp39-cp39-win_amd64.whl (39 kB)\n",
      "Collecting anyascii\n",
      "  Downloading anyascii-0.3.2-py3-none-any.whl (289 kB)\n",
      "     ---------------------------------------- 0.0/289.9 kB ? eta -:--:--\n",
      "     ------------------ ------------------- 143.4/289.9 kB 4.3 MB/s eta 0:00:01\n",
      "     -------------------------------------- 289.9/289.9 kB 3.6 MB/s eta 0:00:00\n",
      "Installing collected packages: pyahocorasick, anyascii, textsearch, contractions\n",
      "Successfully installed anyascii-0.3.2 contractions-0.1.73 pyahocorasick-2.0.0 textsearch-0.0.24\n"
     ]
    },
    {
     "name": "stderr",
     "output_type": "stream",
     "text": [
      "WARNING: Ignoring invalid distribution -atplotlib (c:\\users\\skyne\\anaconda3\\lib\\site-packages)\n",
      "WARNING: Ignoring invalid distribution -atplotlib (c:\\users\\skyne\\anaconda3\\lib\\site-packages)\n",
      "WARNING: Ignoring invalid distribution -atplotlib (c:\\users\\skyne\\anaconda3\\lib\\site-packages)\n",
      "WARNING: Ignoring invalid distribution -atplotlib (c:\\users\\skyne\\anaconda3\\lib\\site-packages)\n",
      "WARNING: Ignoring invalid distribution -atplotlib (c:\\users\\skyne\\anaconda3\\lib\\site-packages)\n",
      "WARNING: Ignoring invalid distribution -atplotlib (c:\\users\\skyne\\anaconda3\\lib\\site-packages)\n",
      "WARNING: Ignoring invalid distribution -atplotlib (c:\\users\\skyne\\anaconda3\\lib\\site-packages)\n",
      "WARNING: Ignoring invalid distribution -atplotlib (c:\\users\\skyne\\anaconda3\\lib\\site-packages)\n",
      "WARNING: Ignoring invalid distribution -atplotlib (c:\\users\\skyne\\anaconda3\\lib\\site-packages)\n",
      "WARNING: Ignoring invalid distribution -atplotlib (c:\\users\\skyne\\anaconda3\\lib\\site-packages)\n"
     ]
    }
   ],
   "source": [
    "#!pip install contractions"
   ]
  },
  {
   "cell_type": "code",
   "execution_count": 227,
   "id": "56139b02",
   "metadata": {
    "scrolled": true
   },
   "outputs": [
    {
     "name": "stdout",
     "output_type": "stream",
     "text": [
      "Collecting redditcleaner\n",
      "  Downloading redditcleaner-1.1.2-py3-none-any.whl (4.7 kB)\n",
      "Installing collected packages: redditcleaner\n",
      "Successfully installed redditcleaner-1.1.2\n",
      "Note: you may need to restart the kernel to use updated packages.\n"
     ]
    },
    {
     "name": "stderr",
     "output_type": "stream",
     "text": [
      "WARNING: Ignoring invalid distribution -atplotlib (c:\\users\\skyne\\anaconda3\\lib\\site-packages)\n",
      "WARNING: Ignoring invalid distribution -atplotlib (c:\\users\\skyne\\anaconda3\\lib\\site-packages)\n",
      "WARNING: Ignoring invalid distribution -atplotlib (c:\\users\\skyne\\anaconda3\\lib\\site-packages)\n",
      "WARNING: Ignoring invalid distribution -atplotlib (c:\\users\\skyne\\anaconda3\\lib\\site-packages)\n",
      "WARNING: Ignoring invalid distribution -atplotlib (c:\\users\\skyne\\anaconda3\\lib\\site-packages)\n",
      "WARNING: Ignoring invalid distribution -atplotlib (c:\\users\\skyne\\anaconda3\\lib\\site-packages)\n",
      "WARNING: Ignoring invalid distribution -atplotlib (c:\\users\\skyne\\anaconda3\\lib\\site-packages)\n"
     ]
    }
   ],
   "source": [
    "#pip install redditcleaner"
   ]
  },
  {
   "cell_type": "markdown",
   "id": "3bd28bbb",
   "metadata": {},
   "source": [
    "### Load Data"
   ]
  },
  {
   "cell_type": "code",
   "execution_count": 6,
   "id": "9d730d9c",
   "metadata": {},
   "outputs": [],
   "source": [
    "awardtravel = pd.read_csv('../data/awardtravel_4000.csv')\n",
    "backpacking = pd.read_csv('../data/backpacking_4000.csv')"
   ]
  },
  {
   "cell_type": "markdown",
   "id": "2b317f54",
   "metadata": {},
   "source": [
    "### Basic data cleaning"
   ]
  },
  {
   "cell_type": "markdown",
   "id": "32880cc8",
   "metadata": {},
   "source": [
    "#### Check for removed, deleted, NaN posts\n",
    "    Instead of dropping those value, I replaced them with empty string because the titles still capatured the information about the posts.  "
   ]
  },
  {
   "cell_type": "code",
   "execution_count": 7,
   "id": "15a98121",
   "metadata": {
    "scrolled": false
   },
   "outputs": [
    {
     "data": {
      "text/html": [
       "<div>\n",
       "<style scoped>\n",
       "    .dataframe tbody tr th:only-of-type {\n",
       "        vertical-align: middle;\n",
       "    }\n",
       "\n",
       "    .dataframe tbody tr th {\n",
       "        vertical-align: top;\n",
       "    }\n",
       "\n",
       "    .dataframe thead th {\n",
       "        text-align: right;\n",
       "    }\n",
       "</style>\n",
       "<table border=\"1\" class=\"dataframe\">\n",
       "  <thead>\n",
       "    <tr style=\"text-align: right;\">\n",
       "      <th></th>\n",
       "      <th>subreddit</th>\n",
       "      <th>selftext</th>\n",
       "      <th>title</th>\n",
       "      <th>distinguished</th>\n",
       "      <th>author</th>\n",
       "      <th>removed_by_category</th>\n",
       "      <th>num_comments</th>\n",
       "      <th>utc_datetime_str</th>\n",
       "    </tr>\n",
       "  </thead>\n",
       "  <tbody>\n",
       "    <tr>\n",
       "      <th>0</th>\n",
       "      <td>backpacking</td>\n",
       "      <td>Hi. I'm from kokan, Maharashtra.and want to tr...</td>\n",
       "      <td>Where to find snow in April third week</td>\n",
       "      <td>NaN</td>\n",
       "      <td>Due-Use1142</td>\n",
       "      <td>NaN</td>\n",
       "      <td>0</td>\n",
       "      <td>4/2/2023 6:44</td>\n",
       "    </tr>\n",
       "    <tr>\n",
       "      <th>1</th>\n",
       "      <td>backpacking</td>\n",
       "      <td>Hey, me and my friend are planning to go on a ...</td>\n",
       "      <td>I'm planning a backpacking trip to Romania, an...</td>\n",
       "      <td>NaN</td>\n",
       "      <td>wbtr42</td>\n",
       "      <td>NaN</td>\n",
       "      <td>0</td>\n",
       "      <td>4/2/2023 6:35</td>\n",
       "    </tr>\n",
       "    <tr>\n",
       "      <th>2</th>\n",
       "      <td>backpacking</td>\n",
       "      <td>I'm planning my first backpacking trip with so...</td>\n",
       "      <td>Week long backpacking trails in Big Horns Clou...</td>\n",
       "      <td>NaN</td>\n",
       "      <td>juicy__nuggets</td>\n",
       "      <td>NaN</td>\n",
       "      <td>0</td>\n",
       "      <td>4/2/2023 4:36</td>\n",
       "    </tr>\n",
       "    <tr>\n",
       "      <th>3</th>\n",
       "      <td>backpacking</td>\n",
       "      <td>[removed]</td>\n",
       "      <td>Most beautiful places to visit in Arizona</td>\n",
       "      <td>NaN</td>\n",
       "      <td>exploreofficial</td>\n",
       "      <td>moderator</td>\n",
       "      <td>0</td>\n",
       "      <td>4/2/2023 4:03</td>\n",
       "    </tr>\n",
       "    <tr>\n",
       "      <th>4</th>\n",
       "      <td>backpacking</td>\n",
       "      <td>[removed]</td>\n",
       "      <td>MOST BEAUTIFUL PLACES TO VISIT IN ARIZONA</td>\n",
       "      <td>NaN</td>\n",
       "      <td>exploreofficial</td>\n",
       "      <td>moderator</td>\n",
       "      <td>0</td>\n",
       "      <td>4/2/2023 3:41</td>\n",
       "    </tr>\n",
       "  </tbody>\n",
       "</table>\n",
       "</div>"
      ],
      "text/plain": [
       "     subreddit                                           selftext  \\\n",
       "0  backpacking  Hi. I'm from kokan, Maharashtra.and want to tr...   \n",
       "1  backpacking  Hey, me and my friend are planning to go on a ...   \n",
       "2  backpacking  I'm planning my first backpacking trip with so...   \n",
       "3  backpacking                                          [removed]   \n",
       "4  backpacking                                          [removed]   \n",
       "\n",
       "                                               title  distinguished  \\\n",
       "0             Where to find snow in April third week            NaN   \n",
       "1  I'm planning a backpacking trip to Romania, an...            NaN   \n",
       "2  Week long backpacking trails in Big Horns Clou...            NaN   \n",
       "3          Most beautiful places to visit in Arizona            NaN   \n",
       "4          MOST BEAUTIFUL PLACES TO VISIT IN ARIZONA            NaN   \n",
       "\n",
       "            author removed_by_category  num_comments utc_datetime_str  \n",
       "0      Due-Use1142                 NaN             0    4/2/2023 6:44  \n",
       "1           wbtr42                 NaN             0    4/2/2023 6:35  \n",
       "2   juicy__nuggets                 NaN             0    4/2/2023 4:36  \n",
       "3  exploreofficial           moderator             0    4/2/2023 4:03  \n",
       "4  exploreofficial           moderator             0    4/2/2023 3:41  "
      ]
     },
     "execution_count": 7,
     "metadata": {},
     "output_type": "execute_result"
    }
   ],
   "source": [
    "backpacking.head()"
   ]
  },
  {
   "cell_type": "code",
   "execution_count": 8,
   "id": "6a4a2e7e",
   "metadata": {},
   "outputs": [
    {
     "data": {
      "text/plain": [
       "subreddit                 0\n",
       "selftext               1792\n",
       "title                     0\n",
       "distinguished          3749\n",
       "author                    0\n",
       "removed_by_category    3020\n",
       "num_comments              0\n",
       "utc_datetime_str          0\n",
       "dtype: int64"
      ]
     },
     "execution_count": 8,
     "metadata": {},
     "output_type": "execute_result"
    }
   ],
   "source": [
    "# check null value: no null value for title but 516 null calue for selftext\n",
    "backpacking.isna().sum()"
   ]
  },
  {
   "cell_type": "code",
   "execution_count": 9,
   "id": "273d2da8",
   "metadata": {
    "scrolled": false
   },
   "outputs": [
    {
     "data": {
      "text/html": [
       "<div>\n",
       "<style scoped>\n",
       "    .dataframe tbody tr th:only-of-type {\n",
       "        vertical-align: middle;\n",
       "    }\n",
       "\n",
       "    .dataframe tbody tr th {\n",
       "        vertical-align: top;\n",
       "    }\n",
       "\n",
       "    .dataframe thead th {\n",
       "        text-align: right;\n",
       "    }\n",
       "</style>\n",
       "<table border=\"1\" class=\"dataframe\">\n",
       "  <thead>\n",
       "    <tr style=\"text-align: right;\">\n",
       "      <th></th>\n",
       "      <th>subreddit</th>\n",
       "      <th>selftext</th>\n",
       "      <th>title</th>\n",
       "      <th>distinguished</th>\n",
       "      <th>author</th>\n",
       "      <th>removed_by_category</th>\n",
       "      <th>num_comments</th>\n",
       "      <th>utc_datetime_str</th>\n",
       "    </tr>\n",
       "  </thead>\n",
       "  <tbody>\n",
       "    <tr>\n",
       "      <th>7</th>\n",
       "      <td>backpacking</td>\n",
       "      <td>NaN</td>\n",
       "      <td>الشاطئ الصخري - سيدي حنيش - مرسي مطروح - sidi ...</td>\n",
       "      <td>NaN</td>\n",
       "      <td>kingofgamaleya</td>\n",
       "      <td>NaN</td>\n",
       "      <td>1</td>\n",
       "      <td>4/2/2023 3:07</td>\n",
       "    </tr>\n",
       "    <tr>\n",
       "      <th>8</th>\n",
       "      <td>backpacking</td>\n",
       "      <td>NaN</td>\n",
       "      <td>Packing for my first trip to Joshua Tree and r...</td>\n",
       "      <td>NaN</td>\n",
       "      <td>ObjectiveCaregiver16</td>\n",
       "      <td>reddit</td>\n",
       "      <td>1</td>\n",
       "      <td>4/2/2023 0:37</td>\n",
       "    </tr>\n",
       "    <tr>\n",
       "      <th>12</th>\n",
       "      <td>backpacking</td>\n",
       "      <td>NaN</td>\n",
       "      <td>Glacier NP Aug. 2019</td>\n",
       "      <td>NaN</td>\n",
       "      <td>daysengrave</td>\n",
       "      <td>NaN</td>\n",
       "      <td>1</td>\n",
       "      <td>4/1/2023 23:18</td>\n",
       "    </tr>\n",
       "    <tr>\n",
       "      <th>16</th>\n",
       "      <td>backpacking</td>\n",
       "      <td>NaN</td>\n",
       "      <td>Calm weather in Unalaklet,Alaska</td>\n",
       "      <td>NaN</td>\n",
       "      <td>AlaskanHusky14</td>\n",
       "      <td>NaN</td>\n",
       "      <td>1</td>\n",
       "      <td>4/1/2023 20:54</td>\n",
       "    </tr>\n",
       "    <tr>\n",
       "      <th>17</th>\n",
       "      <td>backpacking</td>\n",
       "      <td>NaN</td>\n",
       "      <td>Unalaklet, ALASKA,</td>\n",
       "      <td>NaN</td>\n",
       "      <td>AlaskanHusky14</td>\n",
       "      <td>NaN</td>\n",
       "      <td>1</td>\n",
       "      <td>4/1/2023 20:50</td>\n",
       "    </tr>\n",
       "  </tbody>\n",
       "</table>\n",
       "</div>"
      ],
      "text/plain": [
       "      subreddit selftext                                              title  \\\n",
       "7   backpacking      NaN  الشاطئ الصخري - سيدي حنيش - مرسي مطروح - sidi ...   \n",
       "8   backpacking      NaN  Packing for my first trip to Joshua Tree and r...   \n",
       "12  backpacking      NaN                               Glacier NP Aug. 2019   \n",
       "16  backpacking      NaN                   Calm weather in Unalaklet,Alaska   \n",
       "17  backpacking      NaN                                 Unalaklet, ALASKA,   \n",
       "\n",
       "    distinguished                author removed_by_category  num_comments  \\\n",
       "7             NaN        kingofgamaleya                 NaN             1   \n",
       "8             NaN  ObjectiveCaregiver16              reddit             1   \n",
       "12            NaN           daysengrave                 NaN             1   \n",
       "16            NaN        AlaskanHusky14                 NaN             1   \n",
       "17            NaN        AlaskanHusky14                 NaN             1   \n",
       "\n",
       "   utc_datetime_str  \n",
       "7     4/2/2023 3:07  \n",
       "8     4/2/2023 0:37  \n",
       "12   4/1/2023 23:18  \n",
       "16   4/1/2023 20:54  \n",
       "17   4/1/2023 20:50  "
      ]
     },
     "execution_count": 9,
     "metadata": {},
     "output_type": "execute_result"
    }
   ],
   "source": [
    "# even it showed nan for selftext, title still have content\n",
    "backpacking[backpacking['selftext'].isnull()].head()"
   ]
  },
  {
   "cell_type": "code",
   "execution_count": 10,
   "id": "ae9d6151",
   "metadata": {},
   "outputs": [],
   "source": [
    "# replace Nan with empty string\n",
    "backpacking['selftext'] = backpacking['selftext'].fillna('')"
   ]
  },
  {
   "cell_type": "code",
   "execution_count": 11,
   "id": "5d4378c7",
   "metadata": {
    "scrolled": false
   },
   "outputs": [
    {
     "data": {
      "text/html": [
       "<div>\n",
       "<style scoped>\n",
       "    .dataframe tbody tr th:only-of-type {\n",
       "        vertical-align: middle;\n",
       "    }\n",
       "\n",
       "    .dataframe tbody tr th {\n",
       "        vertical-align: top;\n",
       "    }\n",
       "\n",
       "    .dataframe thead th {\n",
       "        text-align: right;\n",
       "    }\n",
       "</style>\n",
       "<table border=\"1\" class=\"dataframe\">\n",
       "  <thead>\n",
       "    <tr style=\"text-align: right;\">\n",
       "      <th></th>\n",
       "      <th>subreddit</th>\n",
       "      <th>selftext</th>\n",
       "      <th>title</th>\n",
       "      <th>distinguished</th>\n",
       "      <th>author</th>\n",
       "      <th>removed_by_category</th>\n",
       "      <th>num_comments</th>\n",
       "      <th>utc_datetime_str</th>\n",
       "    </tr>\n",
       "  </thead>\n",
       "  <tbody>\n",
       "    <tr>\n",
       "      <th>3</th>\n",
       "      <td>backpacking</td>\n",
       "      <td>[removed]</td>\n",
       "      <td>Most beautiful places to visit in Arizona</td>\n",
       "      <td>NaN</td>\n",
       "      <td>exploreofficial</td>\n",
       "      <td>moderator</td>\n",
       "      <td>0</td>\n",
       "      <td>4/2/2023 4:03</td>\n",
       "    </tr>\n",
       "    <tr>\n",
       "      <th>4</th>\n",
       "      <td>backpacking</td>\n",
       "      <td>[removed]</td>\n",
       "      <td>MOST BEAUTIFUL PLACES TO VISIT IN ARIZONA</td>\n",
       "      <td>NaN</td>\n",
       "      <td>exploreofficial</td>\n",
       "      <td>moderator</td>\n",
       "      <td>0</td>\n",
       "      <td>4/2/2023 3:41</td>\n",
       "    </tr>\n",
       "    <tr>\n",
       "      <th>5</th>\n",
       "      <td>backpacking</td>\n",
       "      <td>[removed]</td>\n",
       "      <td>MOST BEAUTIFUL PLACES TO VISIT IN FRANCE OTHER...</td>\n",
       "      <td>NaN</td>\n",
       "      <td>exploreofficial</td>\n",
       "      <td>moderator</td>\n",
       "      <td>0</td>\n",
       "      <td>4/2/2023 3:35</td>\n",
       "    </tr>\n",
       "    <tr>\n",
       "      <th>10</th>\n",
       "      <td>backpacking</td>\n",
       "      <td>[removed]</td>\n",
       "      <td>What is the best backpack to travel the world in?</td>\n",
       "      <td>NaN</td>\n",
       "      <td>silentdragon010101</td>\n",
       "      <td>moderator</td>\n",
       "      <td>1</td>\n",
       "      <td>4/2/2023 0:06</td>\n",
       "    </tr>\n",
       "    <tr>\n",
       "      <th>19</th>\n",
       "      <td>backpacking</td>\n",
       "      <td>[removed]</td>\n",
       "      <td>Cotopaxi or osprey</td>\n",
       "      <td>NaN</td>\n",
       "      <td>AdvanceDry2521</td>\n",
       "      <td>moderator</td>\n",
       "      <td>1</td>\n",
       "      <td>4/1/2023 20:30</td>\n",
       "    </tr>\n",
       "  </tbody>\n",
       "</table>\n",
       "</div>"
      ],
      "text/plain": [
       "      subreddit   selftext                                              title  \\\n",
       "3   backpacking  [removed]          Most beautiful places to visit in Arizona   \n",
       "4   backpacking  [removed]          MOST BEAUTIFUL PLACES TO VISIT IN ARIZONA   \n",
       "5   backpacking  [removed]  MOST BEAUTIFUL PLACES TO VISIT IN FRANCE OTHER...   \n",
       "10  backpacking  [removed]  What is the best backpack to travel the world in?   \n",
       "19  backpacking  [removed]                                 Cotopaxi or osprey   \n",
       "\n",
       "    distinguished              author removed_by_category  num_comments  \\\n",
       "3             NaN     exploreofficial           moderator             0   \n",
       "4             NaN     exploreofficial           moderator             0   \n",
       "5             NaN     exploreofficial           moderator             0   \n",
       "10            NaN  silentdragon010101           moderator             1   \n",
       "19            NaN      AdvanceDry2521           moderator             1   \n",
       "\n",
       "   utc_datetime_str  \n",
       "3     4/2/2023 4:03  \n",
       "4     4/2/2023 3:41  \n",
       "5     4/2/2023 3:35  \n",
       "10    4/2/2023 0:06  \n",
       "19   4/1/2023 20:30  "
      ]
     },
     "execution_count": 11,
     "metadata": {},
     "output_type": "execute_result"
    }
   ],
   "source": [
    "# checking for both removed or deleted posts\n",
    "backpacking.loc[backpacking['selftext'].str.contains(r'\\[removed\\]|\\[deleted\\]')].head()"
   ]
  },
  {
   "cell_type": "code",
   "execution_count": 12,
   "id": "a87edae5",
   "metadata": {},
   "outputs": [],
   "source": [
    "# replace 'remove' and 'deleted' since the title still have information about the post\n",
    "backpacking['selftext'] = backpacking['selftext'].replace('[removed]', '')\n",
    "backpacking['selftext'] = backpacking['selftext'].replace('[deleted]', '')"
   ]
  },
  {
   "cell_type": "code",
   "execution_count": 13,
   "id": "96f59548",
   "metadata": {
    "scrolled": false
   },
   "outputs": [
    {
     "data": {
      "text/html": [
       "<div>\n",
       "<style scoped>\n",
       "    .dataframe tbody tr th:only-of-type {\n",
       "        vertical-align: middle;\n",
       "    }\n",
       "\n",
       "    .dataframe tbody tr th {\n",
       "        vertical-align: top;\n",
       "    }\n",
       "\n",
       "    .dataframe thead th {\n",
       "        text-align: right;\n",
       "    }\n",
       "</style>\n",
       "<table border=\"1\" class=\"dataframe\">\n",
       "  <thead>\n",
       "    <tr style=\"text-align: right;\">\n",
       "      <th></th>\n",
       "      <th>subreddit</th>\n",
       "      <th>selftext</th>\n",
       "      <th>title</th>\n",
       "      <th>distinguished</th>\n",
       "      <th>author</th>\n",
       "      <th>removed_by_category</th>\n",
       "      <th>num_comments</th>\n",
       "      <th>utc_datetime_str</th>\n",
       "    </tr>\n",
       "  </thead>\n",
       "  <tbody>\n",
       "    <tr>\n",
       "      <th>0</th>\n",
       "      <td>awardtravel</td>\n",
       "      <td>Got about 400k MR. Would like business for 2 t...</td>\n",
       "      <td>Sfo to hkg january time frame</td>\n",
       "      <td>NaN</td>\n",
       "      <td>NorcalGamers627</td>\n",
       "      <td>NaN</td>\n",
       "      <td>1</td>\n",
       "      <td>4/2/2023 4:55</td>\n",
       "    </tr>\n",
       "    <tr>\n",
       "      <th>1</th>\n",
       "      <td>awardtravel</td>\n",
       "      <td>Hey - we have about \\~200K AmEx points saved u...</td>\n",
       "      <td>Best way to fly to Japan in business or 1st cl...</td>\n",
       "      <td>NaN</td>\n",
       "      <td>altoid_trapezoid</td>\n",
       "      <td>NaN</td>\n",
       "      <td>1</td>\n",
       "      <td>4/2/2023 3:43</td>\n",
       "    </tr>\n",
       "    <tr>\n",
       "      <th>2</th>\n",
       "      <td>awardtravel</td>\n",
       "      <td>Finally!! Got the booking confirmed for two ,\\...</td>\n",
       "      <td>booked JAL F for two via Cathay!!! But now adv...</td>\n",
       "      <td>NaN</td>\n",
       "      <td>Leezy36</td>\n",
       "      <td>NaN</td>\n",
       "      <td>1</td>\n",
       "      <td>4/2/2023 3:07</td>\n",
       "    </tr>\n",
       "    <tr>\n",
       "      <th>3</th>\n",
       "      <td>awardtravel</td>\n",
       "      <td>Hoping to plan a Japan ski trip for Jan/Feb 20...</td>\n",
       "      <td>ANA Stopover Question</td>\n",
       "      <td>NaN</td>\n",
       "      <td>SnooDoughnuts785</td>\n",
       "      <td>NaN</td>\n",
       "      <td>1</td>\n",
       "      <td>4/2/2023 1:25</td>\n",
       "    </tr>\n",
       "    <tr>\n",
       "      <th>4</th>\n",
       "      <td>awardtravel</td>\n",
       "      <td>I booked an EgyptAir flight that connects in C...</td>\n",
       "      <td>Is it possible to ask for a longer layover on ...</td>\n",
       "      <td>NaN</td>\n",
       "      <td>ReasonWithMe007</td>\n",
       "      <td>NaN</td>\n",
       "      <td>1</td>\n",
       "      <td>4/2/2023 0:43</td>\n",
       "    </tr>\n",
       "  </tbody>\n",
       "</table>\n",
       "</div>"
      ],
      "text/plain": [
       "     subreddit                                           selftext  \\\n",
       "0  awardtravel  Got about 400k MR. Would like business for 2 t...   \n",
       "1  awardtravel  Hey - we have about \\~200K AmEx points saved u...   \n",
       "2  awardtravel  Finally!! Got the booking confirmed for two ,\\...   \n",
       "3  awardtravel  Hoping to plan a Japan ski trip for Jan/Feb 20...   \n",
       "4  awardtravel  I booked an EgyptAir flight that connects in C...   \n",
       "\n",
       "                                               title  distinguished  \\\n",
       "0                      Sfo to hkg january time frame            NaN   \n",
       "1  Best way to fly to Japan in business or 1st cl...            NaN   \n",
       "2  booked JAL F for two via Cathay!!! But now adv...            NaN   \n",
       "3                              ANA Stopover Question            NaN   \n",
       "4  Is it possible to ask for a longer layover on ...            NaN   \n",
       "\n",
       "             author removed_by_category  num_comments utc_datetime_str  \n",
       "0   NorcalGamers627                 NaN             1    4/2/2023 4:55  \n",
       "1  altoid_trapezoid                 NaN             1    4/2/2023 3:43  \n",
       "2           Leezy36                 NaN             1    4/2/2023 3:07  \n",
       "3  SnooDoughnuts785                 NaN             1    4/2/2023 1:25  \n",
       "4   ReasonWithMe007                 NaN             1    4/2/2023 0:43  "
      ]
     },
     "execution_count": 13,
     "metadata": {},
     "output_type": "execute_result"
    }
   ],
   "source": [
    "awardtravel.head()"
   ]
  },
  {
   "cell_type": "code",
   "execution_count": 14,
   "id": "e43de99e",
   "metadata": {
    "scrolled": true
   },
   "outputs": [
    {
     "data": {
      "text/plain": [
       "subreddit                 0\n",
       "selftext                 88\n",
       "title                     0\n",
       "distinguished          3948\n",
       "author                    0\n",
       "removed_by_category    3474\n",
       "num_comments              0\n",
       "utc_datetime_str          0\n",
       "dtype: int64"
      ]
     },
     "execution_count": 14,
     "metadata": {},
     "output_type": "execute_result"
    }
   ],
   "source": [
    "awardtravel.isna().sum()"
   ]
  },
  {
   "cell_type": "code",
   "execution_count": 15,
   "id": "b4b836b3",
   "metadata": {
    "scrolled": false
   },
   "outputs": [
    {
     "data": {
      "text/html": [
       "<div>\n",
       "<style scoped>\n",
       "    .dataframe tbody tr th:only-of-type {\n",
       "        vertical-align: middle;\n",
       "    }\n",
       "\n",
       "    .dataframe tbody tr th {\n",
       "        vertical-align: top;\n",
       "    }\n",
       "\n",
       "    .dataframe thead th {\n",
       "        text-align: right;\n",
       "    }\n",
       "</style>\n",
       "<table border=\"1\" class=\"dataframe\">\n",
       "  <thead>\n",
       "    <tr style=\"text-align: right;\">\n",
       "      <th></th>\n",
       "      <th>subreddit</th>\n",
       "      <th>selftext</th>\n",
       "      <th>title</th>\n",
       "      <th>distinguished</th>\n",
       "      <th>author</th>\n",
       "      <th>removed_by_category</th>\n",
       "      <th>num_comments</th>\n",
       "      <th>utc_datetime_str</th>\n",
       "    </tr>\n",
       "  </thead>\n",
       "  <tbody>\n",
       "    <tr>\n",
       "      <th>13</th>\n",
       "      <td>awardtravel</td>\n",
       "      <td>NaN</td>\n",
       "      <td>i fly a lot, so my friends came to me to use m...</td>\n",
       "      <td>NaN</td>\n",
       "      <td>professional_pupper</td>\n",
       "      <td>NaN</td>\n",
       "      <td>1</td>\n",
       "      <td>4/1/2023 17:11</td>\n",
       "    </tr>\n",
       "    <tr>\n",
       "      <th>36</th>\n",
       "      <td>awardtravel</td>\n",
       "      <td>NaN</td>\n",
       "      <td>Can't search on AF/KLM</td>\n",
       "      <td>NaN</td>\n",
       "      <td>ebpomtl</td>\n",
       "      <td>NaN</td>\n",
       "      <td>1</td>\n",
       "      <td>3/31/2023 12:11</td>\n",
       "    </tr>\n",
       "    <tr>\n",
       "      <th>83</th>\n",
       "      <td>awardtravel</td>\n",
       "      <td>NaN</td>\n",
       "      <td>Quickest way to offload my remaining 80,000 Wo...</td>\n",
       "      <td>NaN</td>\n",
       "      <td>vialpandomc</td>\n",
       "      <td>NaN</td>\n",
       "      <td>1</td>\n",
       "      <td>3/29/2023 19:08</td>\n",
       "    </tr>\n",
       "    <tr>\n",
       "      <th>88</th>\n",
       "      <td>awardtravel</td>\n",
       "      <td>NaN</td>\n",
       "      <td>Global Entry/Trusted Traveler Appointment Finder</td>\n",
       "      <td>NaN</td>\n",
       "      <td>toastingdetermined</td>\n",
       "      <td>moderator</td>\n",
       "      <td>1</td>\n",
       "      <td>3/29/2023 16:31</td>\n",
       "    </tr>\n",
       "    <tr>\n",
       "      <th>105</th>\n",
       "      <td>awardtravel</td>\n",
       "      <td>NaN</td>\n",
       "      <td>question if I book award flight in economy on ...</td>\n",
       "      <td>NaN</td>\n",
       "      <td>Mysterious_Pie_4594</td>\n",
       "      <td>NaN</td>\n",
       "      <td>1</td>\n",
       "      <td>3/28/2023 19:27</td>\n",
       "    </tr>\n",
       "  </tbody>\n",
       "</table>\n",
       "</div>"
      ],
      "text/plain": [
       "       subreddit selftext                                              title  \\\n",
       "13   awardtravel      NaN  i fly a lot, so my friends came to me to use m...   \n",
       "36   awardtravel      NaN                             Can't search on AF/KLM   \n",
       "83   awardtravel      NaN  Quickest way to offload my remaining 80,000 Wo...   \n",
       "88   awardtravel      NaN   Global Entry/Trusted Traveler Appointment Finder   \n",
       "105  awardtravel      NaN  question if I book award flight in economy on ...   \n",
       "\n",
       "     distinguished               author removed_by_category  num_comments  \\\n",
       "13             NaN  professional_pupper                 NaN             1   \n",
       "36             NaN              ebpomtl                 NaN             1   \n",
       "83             NaN          vialpandomc                 NaN             1   \n",
       "88             NaN   toastingdetermined           moderator             1   \n",
       "105            NaN  Mysterious_Pie_4594                 NaN             1   \n",
       "\n",
       "    utc_datetime_str  \n",
       "13    4/1/2023 17:11  \n",
       "36   3/31/2023 12:11  \n",
       "83   3/29/2023 19:08  \n",
       "88   3/29/2023 16:31  \n",
       "105  3/28/2023 19:27  "
      ]
     },
     "execution_count": 15,
     "metadata": {},
     "output_type": "execute_result"
    }
   ],
   "source": [
    "# even it showed nan for selftext, title still have content\n",
    "awardtravel[awardtravel['selftext'].isnull()].head()"
   ]
  },
  {
   "cell_type": "code",
   "execution_count": 16,
   "id": "50496d89",
   "metadata": {},
   "outputs": [],
   "source": [
    "# replace Nan with empty string\n",
    "awardtravel['selftext'] = awardtravel['selftext'].fillna('')"
   ]
  },
  {
   "cell_type": "code",
   "execution_count": 17,
   "id": "b9055855",
   "metadata": {
    "scrolled": true
   },
   "outputs": [
    {
     "data": {
      "text/html": [
       "<div>\n",
       "<style scoped>\n",
       "    .dataframe tbody tr th:only-of-type {\n",
       "        vertical-align: middle;\n",
       "    }\n",
       "\n",
       "    .dataframe tbody tr th {\n",
       "        vertical-align: top;\n",
       "    }\n",
       "\n",
       "    .dataframe thead th {\n",
       "        text-align: right;\n",
       "    }\n",
       "</style>\n",
       "<table border=\"1\" class=\"dataframe\">\n",
       "  <thead>\n",
       "    <tr style=\"text-align: right;\">\n",
       "      <th></th>\n",
       "      <th>subreddit</th>\n",
       "      <th>selftext</th>\n",
       "      <th>title</th>\n",
       "      <th>distinguished</th>\n",
       "      <th>author</th>\n",
       "      <th>removed_by_category</th>\n",
       "      <th>num_comments</th>\n",
       "      <th>utc_datetime_str</th>\n",
       "    </tr>\n",
       "  </thead>\n",
       "  <tbody>\n",
       "    <tr>\n",
       "      <th>31</th>\n",
       "      <td>awardtravel</td>\n",
       "      <td>[removed]</td>\n",
       "      <td>Marriott and United - Comparing Miles earned p...</td>\n",
       "      <td>NaN</td>\n",
       "      <td>Tejavepa</td>\n",
       "      <td>reddit</td>\n",
       "      <td>0</td>\n",
       "      <td>3/31/2023 16:42</td>\n",
       "    </tr>\n",
       "    <tr>\n",
       "      <th>82</th>\n",
       "      <td>awardtravel</td>\n",
       "      <td>[removed]</td>\n",
       "      <td>First time booking with chase (or any credit c...</td>\n",
       "      <td>NaN</td>\n",
       "      <td>eroxal</td>\n",
       "      <td>moderator</td>\n",
       "      <td>1</td>\n",
       "      <td>3/29/2023 19:16</td>\n",
       "    </tr>\n",
       "    <tr>\n",
       "      <th>84</th>\n",
       "      <td>awardtravel</td>\n",
       "      <td>[removed]</td>\n",
       "      <td>When the Chase portal hotels are way overprice...</td>\n",
       "      <td>NaN</td>\n",
       "      <td>airplanedad</td>\n",
       "      <td>moderator</td>\n",
       "      <td>1</td>\n",
       "      <td>3/29/2023 18:03</td>\n",
       "    </tr>\n",
       "    <tr>\n",
       "      <th>94</th>\n",
       "      <td>awardtravel</td>\n",
       "      <td>[removed]</td>\n",
       "      <td>Horton Studios</td>\n",
       "      <td>NaN</td>\n",
       "      <td>zhinocoaster</td>\n",
       "      <td>reddit</td>\n",
       "      <td>1</td>\n",
       "      <td>3/29/2023 13:16</td>\n",
       "    </tr>\n",
       "    <tr>\n",
       "      <th>119</th>\n",
       "      <td>awardtravel</td>\n",
       "      <td>[removed]</td>\n",
       "      <td>Cabo Award Flights</td>\n",
       "      <td>NaN</td>\n",
       "      <td>Lil_Mikee</td>\n",
       "      <td>moderator</td>\n",
       "      <td>0</td>\n",
       "      <td>3/28/2023 6:41</td>\n",
       "    </tr>\n",
       "  </tbody>\n",
       "</table>\n",
       "</div>"
      ],
      "text/plain": [
       "       subreddit   selftext  \\\n",
       "31   awardtravel  [removed]   \n",
       "82   awardtravel  [removed]   \n",
       "84   awardtravel  [removed]   \n",
       "94   awardtravel  [removed]   \n",
       "119  awardtravel  [removed]   \n",
       "\n",
       "                                                 title  distinguished  \\\n",
       "31   Marriott and United - Comparing Miles earned p...            NaN   \n",
       "82   First time booking with chase (or any credit c...            NaN   \n",
       "84   When the Chase portal hotels are way overprice...            NaN   \n",
       "94                                      Horton Studios            NaN   \n",
       "119                                 Cabo Award Flights            NaN   \n",
       "\n",
       "           author removed_by_category  num_comments utc_datetime_str  \n",
       "31       Tejavepa              reddit             0  3/31/2023 16:42  \n",
       "82         eroxal           moderator             1  3/29/2023 19:16  \n",
       "84    airplanedad           moderator             1  3/29/2023 18:03  \n",
       "94   zhinocoaster              reddit             1  3/29/2023 13:16  \n",
       "119     Lil_Mikee           moderator             0   3/28/2023 6:41  "
      ]
     },
     "execution_count": 17,
     "metadata": {},
     "output_type": "execute_result"
    }
   ],
   "source": [
    "# checking for both removed or deleted posts\n",
    "awardtravel.loc[awardtravel['selftext'].str.contains(r'\\[removed\\]|\\[deleted\\]')].head()"
   ]
  },
  {
   "cell_type": "code",
   "execution_count": 18,
   "id": "be591a87",
   "metadata": {},
   "outputs": [],
   "source": [
    "# replace 'remove' and 'deleted' since the title still have information about the post\n",
    "awardtravel['selftext'] = awardtravel['selftext'].replace('[removed]', '')\n",
    "awardtravel['selftext'] = awardtravel['selftext'].replace('[deleted]', '')"
   ]
  },
  {
   "cell_type": "markdown",
   "id": "3456a5ff",
   "metadata": {},
   "source": [
    "#### Check for weekly mod posts from the moderators of the subreddit: \n",
    "    Some subreddits would post weekly announcements, daily surveys, or recommendations. Since these posts were posted on the weekly/daily bases with similar titles or contents, it's best to remove these posts to avoid skewness of some words. After checking, both subreddits do not have such issue."
   ]
  },
  {
   "cell_type": "code",
   "execution_count": 19,
   "id": "9aaa5834",
   "metadata": {
    "scrolled": true
   },
   "outputs": [
    {
     "data": {
      "text/plain": [
       "Civil-Dragonfruit337    38\n",
       "intofarlands            36\n",
       "Yusuf-Uyghur            20\n",
       "George_Kein             16\n",
       "ComfortableCommon561    15\n",
       "                        ..\n",
       "trendstori               1\n",
       "cocaiakes_03             1\n",
       "MundaneBodybuilder61     1\n",
       "Sethpolma                1\n",
       "OasisRips                1\n",
       "Name: author, Length: 2558, dtype: int64"
      ]
     },
     "execution_count": 19,
     "metadata": {},
     "output_type": "execute_result"
    }
   ],
   "source": [
    "backpacking['author'].value_counts()"
   ]
  },
  {
   "cell_type": "code",
   "execution_count": 22,
   "id": "0ad81759",
   "metadata": {
    "scrolled": false
   },
   "outputs": [
    {
     "data": {
      "text/html": [
       "<div>\n",
       "<style scoped>\n",
       "    .dataframe tbody tr th:only-of-type {\n",
       "        vertical-align: middle;\n",
       "    }\n",
       "\n",
       "    .dataframe tbody tr th {\n",
       "        vertical-align: top;\n",
       "    }\n",
       "\n",
       "    .dataframe thead th {\n",
       "        text-align: right;\n",
       "    }\n",
       "</style>\n",
       "<table border=\"1\" class=\"dataframe\">\n",
       "  <thead>\n",
       "    <tr style=\"text-align: right;\">\n",
       "      <th></th>\n",
       "      <th>subreddit</th>\n",
       "      <th>selftext</th>\n",
       "      <th>title</th>\n",
       "      <th>distinguished</th>\n",
       "      <th>author</th>\n",
       "      <th>removed_by_category</th>\n",
       "      <th>num_comments</th>\n",
       "      <th>utc_datetime_str</th>\n",
       "    </tr>\n",
       "  </thead>\n",
       "  <tbody>\n",
       "    <tr>\n",
       "      <th>212</th>\n",
       "      <td>backpacking</td>\n",
       "      <td>If you have any beginner questions, feel free ...</td>\n",
       "      <td>Weekly /r/backpacking beginner question thread...</td>\n",
       "      <td>NaN</td>\n",
       "      <td>AutoModerator</td>\n",
       "      <td>NaN</td>\n",
       "      <td>0</td>\n",
       "      <td>3/27/2023 8:05</td>\n",
       "    </tr>\n",
       "    <tr>\n",
       "      <th>483</th>\n",
       "      <td>backpacking</td>\n",
       "      <td>If you have any beginner questions, feel free ...</td>\n",
       "      <td>Weekly /r/backpacking beginner question thread...</td>\n",
       "      <td>NaN</td>\n",
       "      <td>AutoModerator</td>\n",
       "      <td>NaN</td>\n",
       "      <td>0</td>\n",
       "      <td>3/20/2023 8:05</td>\n",
       "    </tr>\n",
       "    <tr>\n",
       "      <th>965</th>\n",
       "      <td>backpacking</td>\n",
       "      <td>If you have any beginner questions, feel free ...</td>\n",
       "      <td>Weekly /r/backpacking beginner question thread...</td>\n",
       "      <td>NaN</td>\n",
       "      <td>AutoModerator</td>\n",
       "      <td>NaN</td>\n",
       "      <td>0</td>\n",
       "      <td>3/6/2023 9:05</td>\n",
       "    </tr>\n",
       "    <tr>\n",
       "      <th>1489</th>\n",
       "      <td>backpacking</td>\n",
       "      <td>If you have any beginner questions, feel free ...</td>\n",
       "      <td>Weekly /r/backpacking beginner question thread...</td>\n",
       "      <td>NaN</td>\n",
       "      <td>AutoModerator</td>\n",
       "      <td>NaN</td>\n",
       "      <td>0</td>\n",
       "      <td>2/20/2023 9:05</td>\n",
       "    </tr>\n",
       "    <tr>\n",
       "      <th>1714</th>\n",
       "      <td>backpacking</td>\n",
       "      <td>If you have any beginner questions, feel free ...</td>\n",
       "      <td>Weekly /r/backpacking beginner question thread...</td>\n",
       "      <td>NaN</td>\n",
       "      <td>AutoModerator</td>\n",
       "      <td>NaN</td>\n",
       "      <td>0</td>\n",
       "      <td>2/13/2023 9:05</td>\n",
       "    </tr>\n",
       "  </tbody>\n",
       "</table>\n",
       "</div>"
      ],
      "text/plain": [
       "        subreddit                                           selftext  \\\n",
       "212   backpacking  If you have any beginner questions, feel free ...   \n",
       "483   backpacking  If you have any beginner questions, feel free ...   \n",
       "965   backpacking  If you have any beginner questions, feel free ...   \n",
       "1489  backpacking  If you have any beginner questions, feel free ...   \n",
       "1714  backpacking  If you have any beginner questions, feel free ...   \n",
       "\n",
       "                                                  title  distinguished  \\\n",
       "212   Weekly /r/backpacking beginner question thread...            NaN   \n",
       "483   Weekly /r/backpacking beginner question thread...            NaN   \n",
       "965   Weekly /r/backpacking beginner question thread...            NaN   \n",
       "1489  Weekly /r/backpacking beginner question thread...            NaN   \n",
       "1714  Weekly /r/backpacking beginner question thread...            NaN   \n",
       "\n",
       "             author removed_by_category  num_comments utc_datetime_str  \n",
       "212   AutoModerator                 NaN             0   3/27/2023 8:05  \n",
       "483   AutoModerator                 NaN             0   3/20/2023 8:05  \n",
       "965   AutoModerator                 NaN             0    3/6/2023 9:05  \n",
       "1489  AutoModerator                 NaN             0   2/20/2023 9:05  \n",
       "1714  AutoModerator                 NaN             0   2/13/2023 9:05  "
      ]
     },
     "execution_count": 22,
     "metadata": {},
     "output_type": "execute_result"
    }
   ],
   "source": [
    "# posts from Civil-Dragonfruit337 are not mod posts; will keep them\n",
    "backpacking.loc[backpacking['author'].str.contains(r'Civil-Dragonfruit337')].head()"
   ]
  },
  {
   "cell_type": "code",
   "execution_count": 24,
   "id": "a74b3f92",
   "metadata": {},
   "outputs": [
    {
     "data": {
      "text/html": [
       "<div>\n",
       "<style scoped>\n",
       "    .dataframe tbody tr th:only-of-type {\n",
       "        vertical-align: middle;\n",
       "    }\n",
       "\n",
       "    .dataframe tbody tr th {\n",
       "        vertical-align: top;\n",
       "    }\n",
       "\n",
       "    .dataframe thead th {\n",
       "        text-align: right;\n",
       "    }\n",
       "</style>\n",
       "<table border=\"1\" class=\"dataframe\">\n",
       "  <thead>\n",
       "    <tr style=\"text-align: right;\">\n",
       "      <th></th>\n",
       "      <th>subreddit</th>\n",
       "      <th>selftext</th>\n",
       "      <th>title</th>\n",
       "      <th>distinguished</th>\n",
       "      <th>author</th>\n",
       "      <th>removed_by_category</th>\n",
       "      <th>num_comments</th>\n",
       "      <th>utc_datetime_str</th>\n",
       "    </tr>\n",
       "  </thead>\n",
       "  <tbody>\n",
       "    <tr>\n",
       "      <th>212</th>\n",
       "      <td>backpacking</td>\n",
       "      <td>If you have any beginner questions, feel free ...</td>\n",
       "      <td>Weekly /r/backpacking beginner question thread...</td>\n",
       "      <td>NaN</td>\n",
       "      <td>AutoModerator</td>\n",
       "      <td>NaN</td>\n",
       "      <td>0</td>\n",
       "      <td>3/27/2023 8:05</td>\n",
       "    </tr>\n",
       "    <tr>\n",
       "      <th>483</th>\n",
       "      <td>backpacking</td>\n",
       "      <td>If you have any beginner questions, feel free ...</td>\n",
       "      <td>Weekly /r/backpacking beginner question thread...</td>\n",
       "      <td>NaN</td>\n",
       "      <td>AutoModerator</td>\n",
       "      <td>NaN</td>\n",
       "      <td>0</td>\n",
       "      <td>3/20/2023 8:05</td>\n",
       "    </tr>\n",
       "    <tr>\n",
       "      <th>965</th>\n",
       "      <td>backpacking</td>\n",
       "      <td>If you have any beginner questions, feel free ...</td>\n",
       "      <td>Weekly /r/backpacking beginner question thread...</td>\n",
       "      <td>NaN</td>\n",
       "      <td>AutoModerator</td>\n",
       "      <td>NaN</td>\n",
       "      <td>0</td>\n",
       "      <td>3/6/2023 9:05</td>\n",
       "    </tr>\n",
       "    <tr>\n",
       "      <th>1489</th>\n",
       "      <td>backpacking</td>\n",
       "      <td>If you have any beginner questions, feel free ...</td>\n",
       "      <td>Weekly /r/backpacking beginner question thread...</td>\n",
       "      <td>NaN</td>\n",
       "      <td>AutoModerator</td>\n",
       "      <td>NaN</td>\n",
       "      <td>0</td>\n",
       "      <td>2/20/2023 9:05</td>\n",
       "    </tr>\n",
       "    <tr>\n",
       "      <th>1714</th>\n",
       "      <td>backpacking</td>\n",
       "      <td>If you have any beginner questions, feel free ...</td>\n",
       "      <td>Weekly /r/backpacking beginner question thread...</td>\n",
       "      <td>NaN</td>\n",
       "      <td>AutoModerator</td>\n",
       "      <td>NaN</td>\n",
       "      <td>0</td>\n",
       "      <td>2/13/2023 9:05</td>\n",
       "    </tr>\n",
       "  </tbody>\n",
       "</table>\n",
       "</div>"
      ],
      "text/plain": [
       "        subreddit                                           selftext  \\\n",
       "212   backpacking  If you have any beginner questions, feel free ...   \n",
       "483   backpacking  If you have any beginner questions, feel free ...   \n",
       "965   backpacking  If you have any beginner questions, feel free ...   \n",
       "1489  backpacking  If you have any beginner questions, feel free ...   \n",
       "1714  backpacking  If you have any beginner questions, feel free ...   \n",
       "\n",
       "                                                  title  distinguished  \\\n",
       "212   Weekly /r/backpacking beginner question thread...            NaN   \n",
       "483   Weekly /r/backpacking beginner question thread...            NaN   \n",
       "965   Weekly /r/backpacking beginner question thread...            NaN   \n",
       "1489  Weekly /r/backpacking beginner question thread...            NaN   \n",
       "1714  Weekly /r/backpacking beginner question thread...            NaN   \n",
       "\n",
       "             author removed_by_category  num_comments utc_datetime_str  \n",
       "212   AutoModerator                 NaN             0   3/27/2023 8:05  \n",
       "483   AutoModerator                 NaN             0   3/20/2023 8:05  \n",
       "965   AutoModerator                 NaN             0    3/6/2023 9:05  \n",
       "1489  AutoModerator                 NaN             0   2/20/2023 9:05  \n",
       "1714  AutoModerator                 NaN             0   2/13/2023 9:05  "
      ]
     },
     "execution_count": 24,
     "metadata": {},
     "output_type": "execute_result"
    }
   ],
   "source": [
    "# posts from backpacking are mod posts; will drop them\n",
    "backpacking.loc[backpacking['author'].str.contains(r'AutoModerator')].head()"
   ]
  },
  {
   "cell_type": "code",
   "execution_count": 25,
   "id": "b439a233",
   "metadata": {},
   "outputs": [
    {
     "data": {
      "text/html": [
       "<div>\n",
       "<style scoped>\n",
       "    .dataframe tbody tr th:only-of-type {\n",
       "        vertical-align: middle;\n",
       "    }\n",
       "\n",
       "    .dataframe tbody tr th {\n",
       "        vertical-align: top;\n",
       "    }\n",
       "\n",
       "    .dataframe thead th {\n",
       "        text-align: right;\n",
       "    }\n",
       "</style>\n",
       "<table border=\"1\" class=\"dataframe\">\n",
       "  <thead>\n",
       "    <tr style=\"text-align: right;\">\n",
       "      <th></th>\n",
       "      <th>subreddit</th>\n",
       "      <th>selftext</th>\n",
       "      <th>title</th>\n",
       "      <th>distinguished</th>\n",
       "      <th>author</th>\n",
       "      <th>removed_by_category</th>\n",
       "      <th>num_comments</th>\n",
       "      <th>utc_datetime_str</th>\n",
       "    </tr>\n",
       "  </thead>\n",
       "  <tbody>\n",
       "    <tr>\n",
       "      <th>77</th>\n",
       "      <td>backpacking</td>\n",
       "      <td></td>\n",
       "      <td>Xiikiukhm</td>\n",
       "      <td>NaN</td>\n",
       "      <td>[deleted]</td>\n",
       "      <td>deleted</td>\n",
       "      <td>1</td>\n",
       "      <td>3/31/2023 9:32</td>\n",
       "    </tr>\n",
       "    <tr>\n",
       "      <th>801</th>\n",
       "      <td>backpacking</td>\n",
       "      <td></td>\n",
       "      <td>Travel insurance/gadget cover</td>\n",
       "      <td>NaN</td>\n",
       "      <td>[deleted]</td>\n",
       "      <td>deleted</td>\n",
       "      <td>1</td>\n",
       "      <td>3/11/2023 14:32</td>\n",
       "    </tr>\n",
       "    <tr>\n",
       "      <th>1162</th>\n",
       "      <td>backpacking</td>\n",
       "      <td></td>\n",
       "      <td>6 weeks in Thailand - should I start in Chiang...</td>\n",
       "      <td>NaN</td>\n",
       "      <td>[deleted]</td>\n",
       "      <td>deleted</td>\n",
       "      <td>1</td>\n",
       "      <td>3/1/2023 1:32</td>\n",
       "    </tr>\n",
       "    <tr>\n",
       "      <th>1353</th>\n",
       "      <td>backpacking</td>\n",
       "      <td></td>\n",
       "      <td>What are some niche things that you don't see ...</td>\n",
       "      <td>NaN</td>\n",
       "      <td>[deleted]</td>\n",
       "      <td>deleted</td>\n",
       "      <td>1</td>\n",
       "      <td>2/23/2023 15:15</td>\n",
       "    </tr>\n",
       "    <tr>\n",
       "      <th>1866</th>\n",
       "      <td>backpacking</td>\n",
       "      <td></td>\n",
       "      <td>Smallish rant about Nemo’s customer service</td>\n",
       "      <td>NaN</td>\n",
       "      <td>[deleted]</td>\n",
       "      <td>deleted</td>\n",
       "      <td>0</td>\n",
       "      <td>2/8/2023 2:45</td>\n",
       "    </tr>\n",
       "  </tbody>\n",
       "</table>\n",
       "</div>"
      ],
      "text/plain": [
       "        subreddit selftext                                              title  \\\n",
       "77    backpacking                                                   Xiikiukhm   \n",
       "801   backpacking                               Travel insurance/gadget cover   \n",
       "1162  backpacking           6 weeks in Thailand - should I start in Chiang...   \n",
       "1353  backpacking           What are some niche things that you don't see ...   \n",
       "1866  backpacking                 Smallish rant about Nemo’s customer service   \n",
       "\n",
       "      distinguished     author removed_by_category  num_comments  \\\n",
       "77              NaN  [deleted]             deleted             1   \n",
       "801             NaN  [deleted]             deleted             1   \n",
       "1162            NaN  [deleted]             deleted             1   \n",
       "1353            NaN  [deleted]             deleted             1   \n",
       "1866            NaN  [deleted]             deleted             0   \n",
       "\n",
       "     utc_datetime_str  \n",
       "77     3/31/2023 9:32  \n",
       "801   3/11/2023 14:32  \n",
       "1162    3/1/2023 1:32  \n",
       "1353  2/23/2023 15:15  \n",
       "1866    2/8/2023 2:45  "
      ]
     },
     "execution_count": 25,
     "metadata": {},
     "output_type": "execute_result"
    }
   ],
   "source": [
    "# will remove the posts that were deleted; \n",
    "# because the post may be removed for many other reasons: spam, author removed, advertisements\n",
    "backpacking.loc[backpacking['author'].str.contains(r'delete')].head()"
   ]
  },
  {
   "cell_type": "code",
   "execution_count": 26,
   "id": "fa81bbae",
   "metadata": {},
   "outputs": [
    {
     "data": {
      "text/plain": [
       "[deleted]               77\n",
       "AutoModerator           24\n",
       "Automatic_Team_4280     11\n",
       "Lolgb2000               11\n",
       "dsper32                 11\n",
       "                        ..\n",
       "autobotdonttransform     1\n",
       "keithmg                  1\n",
       "someguywithanaccount     1\n",
       "karI_hungus              1\n",
       "jarjargo44               1\n",
       "Name: author, Length: 2897, dtype: int64"
      ]
     },
     "execution_count": 26,
     "metadata": {},
     "output_type": "execute_result"
    }
   ],
   "source": [
    "awardtravel['author'].value_counts()"
   ]
  },
  {
   "cell_type": "code",
   "execution_count": 27,
   "id": "c3652fad",
   "metadata": {
    "scrolled": false
   },
   "outputs": [
    {
     "data": {
      "text/html": [
       "<div>\n",
       "<style scoped>\n",
       "    .dataframe tbody tr th:only-of-type {\n",
       "        vertical-align: middle;\n",
       "    }\n",
       "\n",
       "    .dataframe tbody tr th {\n",
       "        vertical-align: top;\n",
       "    }\n",
       "\n",
       "    .dataframe thead th {\n",
       "        text-align: right;\n",
       "    }\n",
       "</style>\n",
       "<table border=\"1\" class=\"dataframe\">\n",
       "  <thead>\n",
       "    <tr style=\"text-align: right;\">\n",
       "      <th></th>\n",
       "      <th>subreddit</th>\n",
       "      <th>selftext</th>\n",
       "      <th>title</th>\n",
       "      <th>distinguished</th>\n",
       "      <th>author</th>\n",
       "      <th>removed_by_category</th>\n",
       "      <th>num_comments</th>\n",
       "      <th>utc_datetime_str</th>\n",
       "    </tr>\n",
       "  </thead>\n",
       "  <tbody>\n",
       "    <tr>\n",
       "      <th>147</th>\n",
       "      <td>awardtravel</td>\n",
       "      <td>Welcome to the weekly discussion thread!\\n\\nTh...</td>\n",
       "      <td>Weekly Discussion Thread - March 27, 2023</td>\n",
       "      <td>NaN</td>\n",
       "      <td>AutoModerator</td>\n",
       "      <td>NaN</td>\n",
       "      <td>0</td>\n",
       "      <td>3/27/2023 10:01</td>\n",
       "    </tr>\n",
       "    <tr>\n",
       "      <th>458</th>\n",
       "      <td>awardtravel</td>\n",
       "      <td>Welcome to the weekly discussion thread!\\n\\nTh...</td>\n",
       "      <td>Weekly Discussion Thread - March 13, 2023</td>\n",
       "      <td>NaN</td>\n",
       "      <td>AutoModerator</td>\n",
       "      <td>NaN</td>\n",
       "      <td>0</td>\n",
       "      <td>3/13/2023 10:01</td>\n",
       "    </tr>\n",
       "    <tr>\n",
       "      <th>624</th>\n",
       "      <td>awardtravel</td>\n",
       "      <td>Welcome to the weekly discussion thread!\\n\\nTh...</td>\n",
       "      <td>Weekly Discussion Thread - March 06, 2023</td>\n",
       "      <td>NaN</td>\n",
       "      <td>AutoModerator</td>\n",
       "      <td>NaN</td>\n",
       "      <td>0</td>\n",
       "      <td>3/6/2023 11:01</td>\n",
       "    </tr>\n",
       "    <tr>\n",
       "      <th>806</th>\n",
       "      <td>awardtravel</td>\n",
       "      <td>Welcome to the weekly discussion thread!\\n\\nTh...</td>\n",
       "      <td>Weekly Discussion Thread - February 27, 2023</td>\n",
       "      <td>NaN</td>\n",
       "      <td>AutoModerator</td>\n",
       "      <td>NaN</td>\n",
       "      <td>0</td>\n",
       "      <td>2/27/2023 11:01</td>\n",
       "    </tr>\n",
       "    <tr>\n",
       "      <th>970</th>\n",
       "      <td>awardtravel</td>\n",
       "      <td>Welcome to the weekly discussion thread!\\n\\nTh...</td>\n",
       "      <td>Weekly Discussion Thread - February 20, 2023</td>\n",
       "      <td>NaN</td>\n",
       "      <td>AutoModerator</td>\n",
       "      <td>NaN</td>\n",
       "      <td>0</td>\n",
       "      <td>2/20/2023 11:01</td>\n",
       "    </tr>\n",
       "  </tbody>\n",
       "</table>\n",
       "</div>"
      ],
      "text/plain": [
       "       subreddit                                           selftext  \\\n",
       "147  awardtravel  Welcome to the weekly discussion thread!\\n\\nTh...   \n",
       "458  awardtravel  Welcome to the weekly discussion thread!\\n\\nTh...   \n",
       "624  awardtravel  Welcome to the weekly discussion thread!\\n\\nTh...   \n",
       "806  awardtravel  Welcome to the weekly discussion thread!\\n\\nTh...   \n",
       "970  awardtravel  Welcome to the weekly discussion thread!\\n\\nTh...   \n",
       "\n",
       "                                            title  distinguished  \\\n",
       "147     Weekly Discussion Thread - March 27, 2023            NaN   \n",
       "458     Weekly Discussion Thread - March 13, 2023            NaN   \n",
       "624     Weekly Discussion Thread - March 06, 2023            NaN   \n",
       "806  Weekly Discussion Thread - February 27, 2023            NaN   \n",
       "970  Weekly Discussion Thread - February 20, 2023            NaN   \n",
       "\n",
       "            author removed_by_category  num_comments utc_datetime_str  \n",
       "147  AutoModerator                 NaN             0  3/27/2023 10:01  \n",
       "458  AutoModerator                 NaN             0  3/13/2023 10:01  \n",
       "624  AutoModerator                 NaN             0   3/6/2023 11:01  \n",
       "806  AutoModerator                 NaN             0  2/27/2023 11:01  \n",
       "970  AutoModerator                 NaN             0  2/20/2023 11:01  "
      ]
     },
     "execution_count": 27,
     "metadata": {},
     "output_type": "execute_result"
    }
   ],
   "source": [
    "awardtravel.loc[awardtravel['author'].str.contains(r'AutoModerator')].head()"
   ]
  },
  {
   "cell_type": "code",
   "execution_count": 28,
   "id": "5a3a1e47",
   "metadata": {
    "scrolled": true
   },
   "outputs": [
    {
     "data": {
      "text/html": [
       "<div>\n",
       "<style scoped>\n",
       "    .dataframe tbody tr th:only-of-type {\n",
       "        vertical-align: middle;\n",
       "    }\n",
       "\n",
       "    .dataframe tbody tr th {\n",
       "        vertical-align: top;\n",
       "    }\n",
       "\n",
       "    .dataframe thead th {\n",
       "        text-align: right;\n",
       "    }\n",
       "</style>\n",
       "<table border=\"1\" class=\"dataframe\">\n",
       "  <thead>\n",
       "    <tr style=\"text-align: right;\">\n",
       "      <th></th>\n",
       "      <th>subreddit</th>\n",
       "      <th>selftext</th>\n",
       "      <th>title</th>\n",
       "      <th>distinguished</th>\n",
       "      <th>author</th>\n",
       "      <th>removed_by_category</th>\n",
       "      <th>num_comments</th>\n",
       "      <th>utc_datetime_str</th>\n",
       "    </tr>\n",
       "  </thead>\n",
       "  <tbody>\n",
       "    <tr>\n",
       "      <th>760</th>\n",
       "      <td>awardtravel</td>\n",
       "      <td></td>\n",
       "      <td>What's the best MR to LifeMiles bonus you've seen</td>\n",
       "      <td>NaN</td>\n",
       "      <td>[deleted]</td>\n",
       "      <td>deleted</td>\n",
       "      <td>2</td>\n",
       "      <td>3/1/2023 6:26</td>\n",
       "    </tr>\n",
       "    <tr>\n",
       "      <th>762</th>\n",
       "      <td>awardtravel</td>\n",
       "      <td></td>\n",
       "      <td>concerned about missing my connecting flights ...</td>\n",
       "      <td>NaN</td>\n",
       "      <td>[deleted]</td>\n",
       "      <td>deleted</td>\n",
       "      <td>3</td>\n",
       "      <td>3/1/2023 4:11</td>\n",
       "    </tr>\n",
       "    <tr>\n",
       "      <th>1830</th>\n",
       "      <td>awardtravel</td>\n",
       "      <td></td>\n",
       "      <td>Can I be added to a Marriott account to obtain...</td>\n",
       "      <td>NaN</td>\n",
       "      <td>[deleted]</td>\n",
       "      <td>deleted</td>\n",
       "      <td>1</td>\n",
       "      <td>1/17/2023 1:09</td>\n",
       "    </tr>\n",
       "    <tr>\n",
       "      <th>2065</th>\n",
       "      <td>awardtravel</td>\n",
       "      <td></td>\n",
       "      <td>Can a paid upgrade with BA from economy to pre...</td>\n",
       "      <td>NaN</td>\n",
       "      <td>[deleted]</td>\n",
       "      <td>deleted</td>\n",
       "      <td>0</td>\n",
       "      <td>1/9/2023 6:48</td>\n",
       "    </tr>\n",
       "    <tr>\n",
       "      <th>2957</th>\n",
       "      <td>awardtravel</td>\n",
       "      <td></td>\n",
       "      <td>Close-In Availability Game Prep: USA =&amp;gt; SYD...</td>\n",
       "      <td>NaN</td>\n",
       "      <td>[deleted]</td>\n",
       "      <td>deleted</td>\n",
       "      <td>1</td>\n",
       "      <td>12/2/2022 22:34</td>\n",
       "    </tr>\n",
       "  </tbody>\n",
       "</table>\n",
       "</div>"
      ],
      "text/plain": [
       "        subreddit selftext                                              title  \\\n",
       "760   awardtravel           What's the best MR to LifeMiles bonus you've seen   \n",
       "762   awardtravel           concerned about missing my connecting flights ...   \n",
       "1830  awardtravel           Can I be added to a Marriott account to obtain...   \n",
       "2065  awardtravel           Can a paid upgrade with BA from economy to pre...   \n",
       "2957  awardtravel           Close-In Availability Game Prep: USA =&gt; SYD...   \n",
       "\n",
       "      distinguished     author removed_by_category  num_comments  \\\n",
       "760             NaN  [deleted]             deleted             2   \n",
       "762             NaN  [deleted]             deleted             3   \n",
       "1830            NaN  [deleted]             deleted             1   \n",
       "2065            NaN  [deleted]             deleted             0   \n",
       "2957            NaN  [deleted]             deleted             1   \n",
       "\n",
       "     utc_datetime_str  \n",
       "760     3/1/2023 6:26  \n",
       "762     3/1/2023 4:11  \n",
       "1830   1/17/2023 1:09  \n",
       "2065    1/9/2023 6:48  \n",
       "2957  12/2/2022 22:34  "
      ]
     },
     "execution_count": 28,
     "metadata": {},
     "output_type": "execute_result"
    }
   ],
   "source": [
    "# will remove the posts that were deleted; \n",
    "# because the post may be removed for many other reasons: spam, author removed, advertisements. duplicate posts\n",
    "awardtravel.loc[awardtravel['author'].str.contains(r'\\[deleted\\]')].head()"
   ]
  },
  {
   "cell_type": "code",
   "execution_count": 30,
   "id": "324106fc",
   "metadata": {},
   "outputs": [],
   "source": [
    "# drop moderator posts\n",
    "backpacking.drop(index=backpacking[backpacking['author'].str.contains('AutoModerator|deleted')].index, inplace=True)\n",
    "awardtravel.drop(index=awardtravel[awardtravel['author'].str.contains('AutoModerator|deleted')].index, inplace=True)"
   ]
  },
  {
   "cell_type": "code",
   "execution_count": 31,
   "id": "83d339c0",
   "metadata": {
    "scrolled": true
   },
   "outputs": [
    {
     "data": {
      "text/plain": [
       "((3731, 8), (3847, 8))"
      ]
     },
     "execution_count": 31,
     "metadata": {},
     "output_type": "execute_result"
    }
   ],
   "source": [
    "backpacking.shape, awardtravel.shape"
   ]
  },
  {
   "cell_type": "markdown",
   "id": "806e54fd",
   "metadata": {},
   "source": [
    "#### Drop unwanted columns: "
   ]
  },
  {
   "cell_type": "code",
   "execution_count": 33,
   "id": "2ce95914",
   "metadata": {
    "scrolled": false
   },
   "outputs": [
    {
     "data": {
      "text/plain": [
       "distinguished          3731\n",
       "removed_by_category    3010\n",
       "dtype: int64"
      ]
     },
     "execution_count": 33,
     "metadata": {},
     "output_type": "execute_result"
    }
   ],
   "source": [
    "# Check for null values\n",
    "backpacking.isnull().sum()[backpacking.isnull().sum() > 0]"
   ]
  },
  {
   "cell_type": "code",
   "execution_count": 34,
   "id": "b5d8ce4c",
   "metadata": {
    "scrolled": true
   },
   "outputs": [
    {
     "data": {
      "text/plain": [
       "distinguished          3847\n",
       "removed_by_category    3450\n",
       "dtype: int64"
      ]
     },
     "execution_count": 34,
     "metadata": {},
     "output_type": "execute_result"
    }
   ],
   "source": [
    "# Check for null values\n",
    "awardtravel.isnull().sum()[awardtravel.isnull().sum() > 0]"
   ]
  },
  {
   "cell_type": "code",
   "execution_count": 35,
   "id": "09a47d76",
   "metadata": {},
   "outputs": [],
   "source": [
    "backpacking.drop(columns = ['distinguished', 'removed_by_category'], inplace = True)\n",
    "awardtravel.drop(columns = ['distinguished', 'removed_by_category'], inplace = True)"
   ]
  },
  {
   "cell_type": "code",
   "execution_count": 36,
   "id": "8e837d19",
   "metadata": {},
   "outputs": [
    {
     "data": {
      "text/plain": [
       "subreddit           0\n",
       "selftext            0\n",
       "title               0\n",
       "author              0\n",
       "num_comments        0\n",
       "utc_datetime_str    0\n",
       "dtype: int64"
      ]
     },
     "execution_count": 36,
     "metadata": {},
     "output_type": "execute_result"
    }
   ],
   "source": [
    "backpacking.isna().sum()"
   ]
  },
  {
   "cell_type": "code",
   "execution_count": 37,
   "id": "5f2d5c5a",
   "metadata": {
    "scrolled": false
   },
   "outputs": [
    {
     "data": {
      "text/plain": [
       "subreddit           0\n",
       "selftext            0\n",
       "title               0\n",
       "author              0\n",
       "num_comments        0\n",
       "utc_datetime_str    0\n",
       "dtype: int64"
      ]
     },
     "execution_count": 37,
     "metadata": {},
     "output_type": "execute_result"
    }
   ],
   "source": [
    "awardtravel.isna().sum()"
   ]
  },
  {
   "cell_type": "code",
   "execution_count": 38,
   "id": "f403c409",
   "metadata": {
    "scrolled": false
   },
   "outputs": [
    {
     "data": {
      "text/html": [
       "<div>\n",
       "<style scoped>\n",
       "    .dataframe tbody tr th:only-of-type {\n",
       "        vertical-align: middle;\n",
       "    }\n",
       "\n",
       "    .dataframe tbody tr th {\n",
       "        vertical-align: top;\n",
       "    }\n",
       "\n",
       "    .dataframe thead th {\n",
       "        text-align: right;\n",
       "    }\n",
       "</style>\n",
       "<table border=\"1\" class=\"dataframe\">\n",
       "  <thead>\n",
       "    <tr style=\"text-align: right;\">\n",
       "      <th></th>\n",
       "      <th>count</th>\n",
       "    </tr>\n",
       "    <tr>\n",
       "      <th>author</th>\n",
       "      <th></th>\n",
       "    </tr>\n",
       "  </thead>\n",
       "  <tbody>\n",
       "    <tr>\n",
       "      <th>Civil-Dragonfruit337</th>\n",
       "      <td>38</td>\n",
       "    </tr>\n",
       "    <tr>\n",
       "      <th>intofarlands</th>\n",
       "      <td>36</td>\n",
       "    </tr>\n",
       "    <tr>\n",
       "      <th>Yusuf-Uyghur</th>\n",
       "      <td>20</td>\n",
       "    </tr>\n",
       "    <tr>\n",
       "      <th>George_Kein</th>\n",
       "      <td>16</td>\n",
       "    </tr>\n",
       "    <tr>\n",
       "      <th>External_Fortune_324</th>\n",
       "      <td>15</td>\n",
       "    </tr>\n",
       "    <tr>\n",
       "      <th>ComfortableCommon561</th>\n",
       "      <td>15</td>\n",
       "    </tr>\n",
       "    <tr>\n",
       "      <th>bestproductreviews3</th>\n",
       "      <td>14</td>\n",
       "    </tr>\n",
       "    <tr>\n",
       "      <th>hobbymart8888</th>\n",
       "      <td>14</td>\n",
       "    </tr>\n",
       "    <tr>\n",
       "      <th>s34nvideos</th>\n",
       "      <td>13</td>\n",
       "    </tr>\n",
       "    <tr>\n",
       "      <th>cryptokunbo</th>\n",
       "      <td>12</td>\n",
       "    </tr>\n",
       "  </tbody>\n",
       "</table>\n",
       "</div>"
      ],
      "text/plain": [
       "                      count\n",
       "author                     \n",
       "Civil-Dragonfruit337     38\n",
       "intofarlands             36\n",
       "Yusuf-Uyghur             20\n",
       "George_Kein              16\n",
       "External_Fortune_324     15\n",
       "ComfortableCommon561     15\n",
       "bestproductreviews3      14\n",
       "hobbymart8888            14\n",
       "s34nvideos               13\n",
       "cryptokunbo              12"
      ]
     },
     "execution_count": 38,
     "metadata": {},
     "output_type": "execute_result"
    }
   ],
   "source": [
    "#number of posts per user\n",
    "backpacking.groupby(['author'])['subreddit'].agg(['count']).sort_values('count', ascending = False).head(10)"
   ]
  },
  {
   "cell_type": "code",
   "execution_count": 39,
   "id": "aa4227e7",
   "metadata": {
    "scrolled": true
   },
   "outputs": [
    {
     "data": {
      "text/html": [
       "<div>\n",
       "<style scoped>\n",
       "    .dataframe tbody tr th:only-of-type {\n",
       "        vertical-align: middle;\n",
       "    }\n",
       "\n",
       "    .dataframe tbody tr th {\n",
       "        vertical-align: top;\n",
       "    }\n",
       "\n",
       "    .dataframe thead th {\n",
       "        text-align: right;\n",
       "    }\n",
       "</style>\n",
       "<table border=\"1\" class=\"dataframe\">\n",
       "  <thead>\n",
       "    <tr style=\"text-align: right;\">\n",
       "      <th></th>\n",
       "      <th>count</th>\n",
       "    </tr>\n",
       "    <tr>\n",
       "      <th>author</th>\n",
       "      <th></th>\n",
       "    </tr>\n",
       "  </thead>\n",
       "  <tbody>\n",
       "    <tr>\n",
       "      <th>Automatic_Team_4280</th>\n",
       "      <td>11</td>\n",
       "    </tr>\n",
       "    <tr>\n",
       "      <th>Lolgb2000</th>\n",
       "      <td>11</td>\n",
       "    </tr>\n",
       "    <tr>\n",
       "      <th>dsper32</th>\n",
       "      <td>11</td>\n",
       "    </tr>\n",
       "    <tr>\n",
       "      <th>Automatic_Aspect_319</th>\n",
       "      <td>10</td>\n",
       "    </tr>\n",
       "    <tr>\n",
       "      <th>slidinginlife</th>\n",
       "      <td>8</td>\n",
       "    </tr>\n",
       "    <tr>\n",
       "      <th>SnooDoughnuts785</th>\n",
       "      <td>8</td>\n",
       "    </tr>\n",
       "    <tr>\n",
       "      <th>AbhiAKA</th>\n",
       "      <td>8</td>\n",
       "    </tr>\n",
       "    <tr>\n",
       "      <th>No-Competition-8938</th>\n",
       "      <td>8</td>\n",
       "    </tr>\n",
       "    <tr>\n",
       "      <th>dickniglit</th>\n",
       "      <td>7</td>\n",
       "    </tr>\n",
       "    <tr>\n",
       "      <th>LeagueLonster</th>\n",
       "      <td>7</td>\n",
       "    </tr>\n",
       "  </tbody>\n",
       "</table>\n",
       "</div>"
      ],
      "text/plain": [
       "                      count\n",
       "author                     \n",
       "Automatic_Team_4280      11\n",
       "Lolgb2000                11\n",
       "dsper32                  11\n",
       "Automatic_Aspect_319     10\n",
       "slidinginlife             8\n",
       "SnooDoughnuts785          8\n",
       "AbhiAKA                   8\n",
       "No-Competition-8938       8\n",
       "dickniglit                7\n",
       "LeagueLonster             7"
      ]
     },
     "execution_count": 39,
     "metadata": {},
     "output_type": "execute_result"
    }
   ],
   "source": [
    "#number of posts per user\n",
    "awardtravel.groupby(['author'])['subreddit'].agg(['count']).sort_values('count', ascending = False).head(10)"
   ]
  },
  {
   "cell_type": "code",
   "execution_count": 40,
   "id": "afb37b75",
   "metadata": {},
   "outputs": [
    {
     "data": {
      "text/html": [
       "<div>\n",
       "<style scoped>\n",
       "    .dataframe tbody tr th:only-of-type {\n",
       "        vertical-align: middle;\n",
       "    }\n",
       "\n",
       "    .dataframe tbody tr th {\n",
       "        vertical-align: top;\n",
       "    }\n",
       "\n",
       "    .dataframe thead th {\n",
       "        text-align: right;\n",
       "    }\n",
       "</style>\n",
       "<table border=\"1\" class=\"dataframe\">\n",
       "  <thead>\n",
       "    <tr style=\"text-align: right;\">\n",
       "      <th></th>\n",
       "      <th>num_comments</th>\n",
       "    </tr>\n",
       "  </thead>\n",
       "  <tbody>\n",
       "    <tr>\n",
       "      <th>count</th>\n",
       "      <td>3731.000000</td>\n",
       "    </tr>\n",
       "    <tr>\n",
       "      <th>mean</th>\n",
       "      <td>0.551595</td>\n",
       "    </tr>\n",
       "    <tr>\n",
       "      <th>std</th>\n",
       "      <td>1.009448</td>\n",
       "    </tr>\n",
       "    <tr>\n",
       "      <th>min</th>\n",
       "      <td>0.000000</td>\n",
       "    </tr>\n",
       "    <tr>\n",
       "      <th>25%</th>\n",
       "      <td>0.000000</td>\n",
       "    </tr>\n",
       "    <tr>\n",
       "      <th>50%</th>\n",
       "      <td>1.000000</td>\n",
       "    </tr>\n",
       "    <tr>\n",
       "      <th>75%</th>\n",
       "      <td>1.000000</td>\n",
       "    </tr>\n",
       "    <tr>\n",
       "      <th>max</th>\n",
       "      <td>46.000000</td>\n",
       "    </tr>\n",
       "  </tbody>\n",
       "</table>\n",
       "</div>"
      ],
      "text/plain": [
       "       num_comments\n",
       "count   3731.000000\n",
       "mean       0.551595\n",
       "std        1.009448\n",
       "min        0.000000\n",
       "25%        0.000000\n",
       "50%        1.000000\n",
       "75%        1.000000\n",
       "max       46.000000"
      ]
     },
     "execution_count": 40,
     "metadata": {},
     "output_type": "execute_result"
    }
   ],
   "source": [
    "backpacking.describe()"
   ]
  },
  {
   "cell_type": "code",
   "execution_count": 41,
   "id": "3fbbd173",
   "metadata": {},
   "outputs": [
    {
     "data": {
      "text/html": [
       "<div>\n",
       "<style scoped>\n",
       "    .dataframe tbody tr th:only-of-type {\n",
       "        vertical-align: middle;\n",
       "    }\n",
       "\n",
       "    .dataframe tbody tr th {\n",
       "        vertical-align: top;\n",
       "    }\n",
       "\n",
       "    .dataframe thead th {\n",
       "        text-align: right;\n",
       "    }\n",
       "</style>\n",
       "<table border=\"1\" class=\"dataframe\">\n",
       "  <thead>\n",
       "    <tr style=\"text-align: right;\">\n",
       "      <th></th>\n",
       "      <th>num_comments</th>\n",
       "    </tr>\n",
       "  </thead>\n",
       "  <tbody>\n",
       "    <tr>\n",
       "      <th>count</th>\n",
       "      <td>3847.000000</td>\n",
       "    </tr>\n",
       "    <tr>\n",
       "      <th>mean</th>\n",
       "      <td>1.998440</td>\n",
       "    </tr>\n",
       "    <tr>\n",
       "      <th>std</th>\n",
       "      <td>5.404636</td>\n",
       "    </tr>\n",
       "    <tr>\n",
       "      <th>min</th>\n",
       "      <td>0.000000</td>\n",
       "    </tr>\n",
       "    <tr>\n",
       "      <th>25%</th>\n",
       "      <td>1.000000</td>\n",
       "    </tr>\n",
       "    <tr>\n",
       "      <th>50%</th>\n",
       "      <td>1.000000</td>\n",
       "    </tr>\n",
       "    <tr>\n",
       "      <th>75%</th>\n",
       "      <td>1.000000</td>\n",
       "    </tr>\n",
       "    <tr>\n",
       "      <th>max</th>\n",
       "      <td>94.000000</td>\n",
       "    </tr>\n",
       "  </tbody>\n",
       "</table>\n",
       "</div>"
      ],
      "text/plain": [
       "       num_comments\n",
       "count   3847.000000\n",
       "mean       1.998440\n",
       "std        5.404636\n",
       "min        0.000000\n",
       "25%        1.000000\n",
       "50%        1.000000\n",
       "75%        1.000000\n",
       "max       94.000000"
      ]
     },
     "execution_count": 41,
     "metadata": {},
     "output_type": "execute_result"
    }
   ],
   "source": [
    "awardtravel.describe()"
   ]
  },
  {
   "cell_type": "markdown",
   "id": "8ca66d9d",
   "metadata": {},
   "source": [
    "#### Check for duplicate rows: \n",
    "    Should not have any duplicate rows since they should have been dropped during scrapping steps. "
   ]
  },
  {
   "cell_type": "code",
   "execution_count": 42,
   "id": "b4384269",
   "metadata": {
    "scrolled": true
   },
   "outputs": [
    {
     "data": {
      "text/plain": [
       "False    3731\n",
       "dtype: int64"
      ]
     },
     "execution_count": 42,
     "metadata": {},
     "output_type": "execute_result"
    }
   ],
   "source": [
    "backpacking.duplicated(subset=['selftext','title']).value_counts()"
   ]
  },
  {
   "cell_type": "code",
   "execution_count": 43,
   "id": "81ff8e22",
   "metadata": {
    "scrolled": true
   },
   "outputs": [
    {
     "data": {
      "text/plain": [
       "False    3847\n",
       "dtype: int64"
      ]
     },
     "execution_count": 43,
     "metadata": {},
     "output_type": "execute_result"
    }
   ],
   "source": [
    "awardtravel.duplicated(subset=['selftext','title']).value_counts()"
   ]
  },
  {
   "cell_type": "markdown",
   "id": "769b0164",
   "metadata": {},
   "source": [
    "#### Combine two dataframes for futher cleaning and data training"
   ]
  },
  {
   "cell_type": "code",
   "execution_count": 44,
   "id": "24e7660f",
   "metadata": {
    "scrolled": true
   },
   "outputs": [
    {
     "data": {
      "text/plain": [
       "((3731, 6), (3847, 6))"
      ]
     },
     "execution_count": 44,
     "metadata": {},
     "output_type": "execute_result"
    }
   ],
   "source": [
    "backpacking.shape, awardtravel.shape"
   ]
  },
  {
   "cell_type": "code",
   "execution_count": 46,
   "id": "d39b6350",
   "metadata": {},
   "outputs": [],
   "source": [
    "# combined and reset index\n",
    "df_combined_ab = pd.concat([backpacking, awardtravel], axis = 0)\n",
    "df_combined_ab = df_combined_ab.reset_index(drop=True)"
   ]
  },
  {
   "cell_type": "code",
   "execution_count": 47,
   "id": "e477e756",
   "metadata": {
    "scrolled": true
   },
   "outputs": [
    {
     "data": {
      "text/plain": [
       "(7578, 6)"
      ]
     },
     "execution_count": 47,
     "metadata": {},
     "output_type": "execute_result"
    }
   ],
   "source": [
    "df_combined_ab.shape"
   ]
  },
  {
   "cell_type": "code",
   "execution_count": 48,
   "id": "2c219d0d",
   "metadata": {
    "scrolled": true
   },
   "outputs": [
    {
     "name": "stdout",
     "output_type": "stream",
     "text": [
      "<class 'pandas.core.frame.DataFrame'>\n",
      "RangeIndex: 7578 entries, 0 to 7577\n",
      "Data columns (total 6 columns):\n",
      " #   Column            Non-Null Count  Dtype \n",
      "---  ------            --------------  ----- \n",
      " 0   subreddit         7578 non-null   object\n",
      " 1   selftext          7578 non-null   object\n",
      " 2   title             7578 non-null   object\n",
      " 3   author            7578 non-null   object\n",
      " 4   num_comments      7578 non-null   int64 \n",
      " 5   utc_datetime_str  7578 non-null   object\n",
      "dtypes: int64(1), object(5)\n",
      "memory usage: 355.3+ KB\n"
     ]
    }
   ],
   "source": [
    "df_combined_ab.info()"
   ]
  },
  {
   "cell_type": "code",
   "execution_count": 49,
   "id": "a57648f1",
   "metadata": {
    "scrolled": true
   },
   "outputs": [
    {
     "data": {
      "text/plain": [
       "awardtravel    3847\n",
       "backpacking    3731\n",
       "Name: subreddit, dtype: int64"
      ]
     },
     "execution_count": 49,
     "metadata": {},
     "output_type": "execute_result"
    }
   ],
   "source": [
    "df_combined_ab.subreddit.value_counts()"
   ]
  },
  {
   "cell_type": "code",
   "execution_count": 50,
   "id": "8d34e8b6",
   "metadata": {},
   "outputs": [],
   "source": [
    "#convert the target into binary result\n",
    "df_combined_ab['subreddit'].replace({'backpacking': 1, 'awardtravel': 0}, inplace=True)"
   ]
  },
  {
   "cell_type": "code",
   "execution_count": 51,
   "id": "e5556c89",
   "metadata": {
    "scrolled": true
   },
   "outputs": [
    {
     "data": {
      "text/plain": [
       "0    3847\n",
       "1    3731\n",
       "Name: subreddit, dtype: int64"
      ]
     },
     "execution_count": 51,
     "metadata": {},
     "output_type": "execute_result"
    }
   ],
   "source": [
    "df_combined_ab.subreddit.value_counts()"
   ]
  },
  {
   "cell_type": "markdown",
   "id": "030a8a56",
   "metadata": {},
   "source": [
    "#### Create 'text' column to capture the content of both selftext and title"
   ]
  },
  {
   "cell_type": "code",
   "execution_count": 52,
   "id": "39083a42",
   "metadata": {
    "scrolled": true
   },
   "outputs": [
    {
     "data": {
      "text/html": [
       "<div>\n",
       "<style scoped>\n",
       "    .dataframe tbody tr th:only-of-type {\n",
       "        vertical-align: middle;\n",
       "    }\n",
       "\n",
       "    .dataframe tbody tr th {\n",
       "        vertical-align: top;\n",
       "    }\n",
       "\n",
       "    .dataframe thead th {\n",
       "        text-align: right;\n",
       "    }\n",
       "</style>\n",
       "<table border=\"1\" class=\"dataframe\">\n",
       "  <thead>\n",
       "    <tr style=\"text-align: right;\">\n",
       "      <th></th>\n",
       "      <th>subreddit</th>\n",
       "      <th>selftext</th>\n",
       "      <th>title</th>\n",
       "      <th>author</th>\n",
       "      <th>num_comments</th>\n",
       "      <th>utc_datetime_str</th>\n",
       "      <th>text</th>\n",
       "    </tr>\n",
       "  </thead>\n",
       "  <tbody>\n",
       "    <tr>\n",
       "      <th>0</th>\n",
       "      <td>1</td>\n",
       "      <td>Hi. I'm from kokan, Maharashtra.and want to tr...</td>\n",
       "      <td>Where to find snow in April third week</td>\n",
       "      <td>Due-Use1142</td>\n",
       "      <td>0</td>\n",
       "      <td>4/2/2023 6:44</td>\n",
       "      <td>Where to find snow in April third week Hi. I'm...</td>\n",
       "    </tr>\n",
       "    <tr>\n",
       "      <th>1</th>\n",
       "      <td>1</td>\n",
       "      <td>Hey, me and my friend are planning to go on a ...</td>\n",
       "      <td>I'm planning a backpacking trip to Romania, an...</td>\n",
       "      <td>wbtr42</td>\n",
       "      <td>0</td>\n",
       "      <td>4/2/2023 6:35</td>\n",
       "      <td>I'm planning a backpacking trip to Romania, an...</td>\n",
       "    </tr>\n",
       "    <tr>\n",
       "      <th>2</th>\n",
       "      <td>1</td>\n",
       "      <td>I'm planning my first backpacking trip with so...</td>\n",
       "      <td>Week long backpacking trails in Big Horns Clou...</td>\n",
       "      <td>juicy__nuggets</td>\n",
       "      <td>0</td>\n",
       "      <td>4/2/2023 4:36</td>\n",
       "      <td>Week long backpacking trails in Big Horns Clou...</td>\n",
       "    </tr>\n",
       "    <tr>\n",
       "      <th>3</th>\n",
       "      <td>1</td>\n",
       "      <td></td>\n",
       "      <td>Most beautiful places to visit in Arizona</td>\n",
       "      <td>exploreofficial</td>\n",
       "      <td>0</td>\n",
       "      <td>4/2/2023 4:03</td>\n",
       "      <td>Most beautiful places to visit in Arizona</td>\n",
       "    </tr>\n",
       "    <tr>\n",
       "      <th>4</th>\n",
       "      <td>1</td>\n",
       "      <td></td>\n",
       "      <td>MOST BEAUTIFUL PLACES TO VISIT IN ARIZONA</td>\n",
       "      <td>exploreofficial</td>\n",
       "      <td>0</td>\n",
       "      <td>4/2/2023 3:41</td>\n",
       "      <td>MOST BEAUTIFUL PLACES TO VISIT IN ARIZONA</td>\n",
       "    </tr>\n",
       "  </tbody>\n",
       "</table>\n",
       "</div>"
      ],
      "text/plain": [
       "   subreddit                                           selftext  \\\n",
       "0          1  Hi. I'm from kokan, Maharashtra.and want to tr...   \n",
       "1          1  Hey, me and my friend are planning to go on a ...   \n",
       "2          1  I'm planning my first backpacking trip with so...   \n",
       "3          1                                                      \n",
       "4          1                                                      \n",
       "\n",
       "                                               title           author  \\\n",
       "0             Where to find snow in April third week      Due-Use1142   \n",
       "1  I'm planning a backpacking trip to Romania, an...           wbtr42   \n",
       "2  Week long backpacking trails in Big Horns Clou...   juicy__nuggets   \n",
       "3          Most beautiful places to visit in Arizona  exploreofficial   \n",
       "4          MOST BEAUTIFUL PLACES TO VISIT IN ARIZONA  exploreofficial   \n",
       "\n",
       "   num_comments utc_datetime_str  \\\n",
       "0             0    4/2/2023 6:44   \n",
       "1             0    4/2/2023 6:35   \n",
       "2             0    4/2/2023 4:36   \n",
       "3             0    4/2/2023 4:03   \n",
       "4             0    4/2/2023 3:41   \n",
       "\n",
       "                                                text  \n",
       "0  Where to find snow in April third week Hi. I'm...  \n",
       "1  I'm planning a backpacking trip to Romania, an...  \n",
       "2  Week long backpacking trails in Big Horns Clou...  \n",
       "3         Most beautiful places to visit in Arizona   \n",
       "4         MOST BEAUTIFUL PLACES TO VISIT IN ARIZONA   "
      ]
     },
     "execution_count": 52,
     "metadata": {},
     "output_type": "execute_result"
    }
   ],
   "source": [
    "# Create 'text' column = Combination of selftext and title\n",
    "\n",
    "df_combined_ab['text'] = df_combined_ab['title'] + ' ' + df_combined_ab['selftext']\n",
    "df_combined_ab.head()"
   ]
  },
  {
   "cell_type": "code",
   "execution_count": 53,
   "id": "1b705ac5",
   "metadata": {
    "scrolled": true
   },
   "outputs": [
    {
     "data": {
      "text/html": [
       "<div>\n",
       "<style scoped>\n",
       "    .dataframe tbody tr th:only-of-type {\n",
       "        vertical-align: middle;\n",
       "    }\n",
       "\n",
       "    .dataframe tbody tr th {\n",
       "        vertical-align: top;\n",
       "    }\n",
       "\n",
       "    .dataframe thead th {\n",
       "        text-align: right;\n",
       "    }\n",
       "</style>\n",
       "<table border=\"1\" class=\"dataframe\">\n",
       "  <thead>\n",
       "    <tr style=\"text-align: right;\">\n",
       "      <th></th>\n",
       "      <th>count</th>\n",
       "      <th>mean</th>\n",
       "      <th>std</th>\n",
       "      <th>min</th>\n",
       "      <th>25%</th>\n",
       "      <th>50%</th>\n",
       "      <th>75%</th>\n",
       "      <th>max</th>\n",
       "    </tr>\n",
       "    <tr>\n",
       "      <th>subreddit</th>\n",
       "      <th></th>\n",
       "      <th></th>\n",
       "      <th></th>\n",
       "      <th></th>\n",
       "      <th></th>\n",
       "      <th></th>\n",
       "      <th></th>\n",
       "      <th></th>\n",
       "    </tr>\n",
       "  </thead>\n",
       "  <tbody>\n",
       "    <tr>\n",
       "      <th>0</th>\n",
       "      <td>3847.0</td>\n",
       "      <td>1.998440</td>\n",
       "      <td>5.404636</td>\n",
       "      <td>0.0</td>\n",
       "      <td>1.0</td>\n",
       "      <td>1.0</td>\n",
       "      <td>1.0</td>\n",
       "      <td>94.0</td>\n",
       "    </tr>\n",
       "    <tr>\n",
       "      <th>1</th>\n",
       "      <td>3731.0</td>\n",
       "      <td>0.551595</td>\n",
       "      <td>1.009448</td>\n",
       "      <td>0.0</td>\n",
       "      <td>0.0</td>\n",
       "      <td>1.0</td>\n",
       "      <td>1.0</td>\n",
       "      <td>46.0</td>\n",
       "    </tr>\n",
       "  </tbody>\n",
       "</table>\n",
       "</div>"
      ],
      "text/plain": [
       "            count      mean       std  min  25%  50%  75%   max\n",
       "subreddit                                                      \n",
       "0          3847.0  1.998440  5.404636  0.0  1.0  1.0  1.0  94.0\n",
       "1          3731.0  0.551595  1.009448  0.0  0.0  1.0  1.0  46.0"
      ]
     },
     "execution_count": 53,
     "metadata": {},
     "output_type": "execute_result"
    }
   ],
   "source": [
    "df_combined_ab.groupby('subreddit')['num_comments'].describe()"
   ]
  },
  {
   "cell_type": "code",
   "execution_count": 54,
   "id": "9cea513e",
   "metadata": {
    "scrolled": false
   },
   "outputs": [
    {
     "data": {
      "image/png": "[encoded data removed]",
      "text/plain": [
       "<Figure size 800x300 with 1 Axes>"
      ]
     },
     "metadata": {},
     "output_type": "display_data"
    }
   ],
   "source": [
    "plt.figure(figsize=(8, 3))\n",
    "sns.boxplot(data = df_combined_ab, x = 'num_comments', palette = 'viridis')\n",
    "plt.title(\"Box Plot of Number of Comments\");"
   ]
  },
  {
   "cell_type": "code",
   "execution_count": 56,
   "id": "e8562ca0",
   "metadata": {
    "scrolled": true
   },
   "outputs": [
    {
     "data": {
      "image/png": "[encoded data removed]",
      "text/plain": [
       "<Figure size 576.986x500 with 1 Axes>"
      ]
     },
     "metadata": {},
     "output_type": "display_data"
    }
   ],
   "source": [
    "sns.displot(x='num_comments', data=df_combined_ab, hue='subreddit', kind=\"kde\", multiple=\"stack\")\n",
    "plt.title('Distribution Plot for Number of Comments \\nbetween two Subreddits');"
   ]
  },
  {
   "cell_type": "code",
   "execution_count": 57,
   "id": "aa178049",
   "metadata": {
    "scrolled": true
   },
   "outputs": [],
   "source": [
    "# drop columns that are not needed for analysis\n",
    "df_combined_ab.drop(columns = ['utc_datetime_str', 'selftext'], inplace = True)"
   ]
  },
  {
   "cell_type": "code",
   "execution_count": 58,
   "id": "45daab6c",
   "metadata": {
    "scrolled": true
   },
   "outputs": [
    {
     "data": {
      "text/plain": [
       "(7578, 5)"
      ]
     },
     "execution_count": 58,
     "metadata": {},
     "output_type": "execute_result"
    }
   ],
   "source": [
    "df_combined_ab.shape"
   ]
  },
  {
   "cell_type": "code",
   "execution_count": 59,
   "id": "6cf8ab58",
   "metadata": {
    "scrolled": true
   },
   "outputs": [
    {
     "name": "stdout",
     "output_type": "stream",
     "text": [
      "<class 'pandas.core.frame.DataFrame'>\n",
      "RangeIndex: 7578 entries, 0 to 7577\n",
      "Data columns (total 5 columns):\n",
      " #   Column        Non-Null Count  Dtype \n",
      "---  ------        --------------  ----- \n",
      " 0   subreddit     7578 non-null   int64 \n",
      " 1   title         7578 non-null   object\n",
      " 2   author        7578 non-null   object\n",
      " 3   num_comments  7578 non-null   int64 \n",
      " 4   text          7578 non-null   object\n",
      "dtypes: int64(2), object(3)\n",
      "memory usage: 296.1+ KB\n"
     ]
    }
   ],
   "source": [
    "df_combined_ab.info()"
   ]
  },
  {
   "cell_type": "code",
   "execution_count": 60,
   "id": "1895d30d",
   "metadata": {},
   "outputs": [],
   "source": [
    "# Save to csv\n",
    "df_combined_ab.to_csv(\"../data/df_combined_ab.csv\", index=False)"
   ]
  },
  {
   "cell_type": "code",
   "execution_count": 61,
   "id": "08d004c5",
   "metadata": {},
   "outputs": [],
   "source": [
    "df_combined_ab = pd.read_csv('../data/df_combined_ab.csv')"
   ]
  },
  {
   "cell_type": "markdown",
   "id": "84359e47",
   "metadata": {},
   "source": [
    "### Text preprocessing"
   ]
  },
  {
   "cell_type": "code",
   "execution_count": 65,
   "id": "4dd84850",
   "metadata": {
    "scrolled": false
   },
   "outputs": [
    {
     "name": "stdout",
     "output_type": "stream",
     "text": [
      "{'nevertheless', 'moreover', 'you', 'full', 'when', '’re', 'make', 'quite', 'yours', 'last', 'next', 'too', 'noone', '’s', 'serious', 'wherever', 'thru', 'doing', 'few', 'him', 'whence', 'he', 'most', 'well', 'across', 'his', 'otherwise', 'yourselves', 'without', 'now', 'eleven', 'much', 'none', 'beyond', 'forty', 'as', 'anyone', 'during', 'all', 'n’t', 'used', 'often', 'front', 'other', 'whither', '‘s', 'put', 'since', 'see', 'what', 'throughout', '’ll', 'on', 'whatever', 'unless', 'how', 'fifty', 'from', 'fifteen', 'whole', 'either', 'toward', 'someone', 'anything', 'to', 'please', 'ours', 'within', 'top', 'besides', \"'re\", 'between', 'sometimes', 'almost', 'three', 'meanwhile', 'six', 'ourselves', \"'ll\", 'its', 'so', 'already', 'would', 'both', 'once', 'five', 'except', 'those', 'whereupon', 'everything', 'above', 'if', \"'ve\", 'show', 'my', 'has', '‘re', 'these', 'part', 'this', 'she', 'hers', 'among', 'ever', 'latterly', 'alone', 'ca', 'latter', 'per', 'name', 'i', 'whether', 'everyone', 'whereby', 'under', 'very', 'done', 'though', 'call', 'whenever', 'then', 'does', 'is', 'ten', 'own', 'still', 'perhaps', 'but', 'third', 'was', 'cannot', 'nobody', '‘ll', 'namely', 'each', '‘m', 'our', 'about', 'against', 'do', 'only', 'here', 'regarding', 'of', 'eight', 'did', 'or', 'twelve', 'even', 'others', 'never', 'them', 'some', 'side', 'their', 'while', 'just', '‘ve', 'upon', '’ve', 'any', 'somehow', 'and', 'hereby', 'more', 'yet', 'further', 'himself', 'wherein', 'where', 'always', 'everywhere', 'must', 'because', 'mostly', 'mine', 'it', 'themselves', 'via', \"n't\", 'seemed', 'seem', 'together', 'anyway', 'n‘t', 'will', 'around', 'whose', 'such', 'beside', 'another', 'being', 'nine', '’m', 'beforehand', 'thereupon', 'thence', 'are', 'thereby', 'we', \"'d\", 'anywhere', 'elsewhere', 'hereafter', 'same', 'several', 'through', 'below', 'been', 're', 'that', 'becoming', 'over', 'empty', 'along', 'therefore', 'amount', 'become', 'an', 'formerly', 'various', 'myself', 'who', 'seeming', 'sometime', 'for', 'rather', 'really', 'sixty', 'whereafter', 'me', 'by', 'back', 'off', 'am', 'indeed', 'us', 'former', 'with', 'at', 'go', 'something', 'not', 'be', 'until', 'became', 'whereas', 'your', 'afterwards', 'the', 'yourself', 'seems', 'down', 'before', 'whoever', 'nowhere', 'behind', 'bottom', 'onto', '’d', 'somewhere', 'thus', 'after', 'no', 'due', 'becomes', 'herein', 'first', 'out', 'therein', 'which', 'may', 'might', 'twenty', 'hundred', 'two', 'again', 'although', 'than', 'her', 'give', 'have', 'a', 'least', \"'m\", 'nothing', 'many', 'can', 'herself', 'keep', 'also', 'made', 'enough', 'there', 'should', 'up', 'one', 'why', \"'s\", 'else', 'thereafter', 'using', 'hereupon', 'move', 'were', 'amongst', 'had', 'could', 'get', '‘d', 'four', 'say', 'however', 'hence', 'into', 'whom', 'less', 'towards', 'they', 'anyhow', 'every', 'nor', 'take', 'itself', 'neither', 'in'}\n"
     ]
    }
   ],
   "source": [
    "# credit https://stackabuse.com/removing-stop-words-from-strings-in-python/\n",
    "sp = spacy.load('en_core_web_sm')\n",
    "\n",
    "stopwords_sp = sp.Defaults.stop_words\n",
    "#stopwords_sp.remove('not')\n",
    "print(stopwords_sp)\n"
   ]
  },
  {
   "cell_type": "code",
   "execution_count": 66,
   "id": "11483d7d",
   "metadata": {
    "scrolled": true
   },
   "outputs": [],
   "source": [
    "import nltk\n",
    "from nltk.corpus import stopwords\n",
    "#nltk.download('stopwords')\n",
    "from nltk.tokenize import word_tokenize"
   ]
  },
  {
   "cell_type": "code",
   "execution_count": 67,
   "id": "5dcbf185",
   "metadata": {},
   "outputs": [],
   "source": [
    "from nltk.stem import WordNetLemmatizer"
   ]
  },
  {
   "cell_type": "code",
   "execution_count": 68,
   "id": "66009779",
   "metadata": {},
   "outputs": [],
   "source": [
    "stopwords = set(stopwords.words('english'))\n",
    "#stopwords.remove('not')"
   ]
  },
  {
   "cell_type": "code",
   "execution_count": 69,
   "id": "dbcd77aa",
   "metadata": {
    "scrolled": true
   },
   "outputs": [
    {
     "name": "stdout",
     "output_type": "stream",
     "text": [
      "{'at', 'ain', 'them', 'some', 'their', 'you', 'while', 'not', 'be', 'just', 'until', 'hadn', 'o', 'when', 'any', 'ourselves', 'your', \"you'll\", 'the', 'and', 'yours', 'its', \"she's\", 'more', 'yourself', 'himself', 'further', 'so', \"doesn't\", 'down', 'too', 'before', 'needn', 'where', 'both', 've', \"wasn't\", 'once', \"don't\", 'because', \"that'll\", \"shouldn't\", 'it', 'themselves', \"wouldn't\", 'those', 'doing', 'few', \"couldn't\", 'ma', 'above', 'after', 'if', 'him', 'no', 'he', \"mustn't\", 'having', 'will', \"hadn't\", 'most', 'my', \"you'd\", 'has', 'doesn', 'out', 'such', 'his', 'won', 'yourselves', 'which', \"haven't\", 'these', \"isn't\", 'this', 'being', 'she', 'hasn', 'now', 'hers', 'haven', 'mustn', 'again', 'll', 'than', 'are', 'her', 'as', \"needn't\", 'have', 'during', 'a', 'we', 'i', 'all', 'under', 't', 'isn', \"weren't\", \"hasn't\", 'herself', 'same', 'can', 's', 'through', 'd', 'below', 'been', 'there', 'very', 'should', 're', 'that', 'up', 'over', 'shouldn', 'then', 'other', 'does', 'why', 'y', 'is', 'own', 'weren', 'couldn', 'wouldn', 'but', 'don', 'was', \"shan't\", 'were', 'an', 'm', 'myself', 'what', \"didn't\", 'who', 'had', 'on', 'each', 'how', 'our', 'about', 'from', 'against', 'do', 'only', 'here', 'aren', 'mightn', 'for', 'into', 'wasn', \"you're\", \"it's\", \"you've\", 'whom', 'me', 'by', 'to', 'between', \"aren't\", 'they', 'ours', 'off', 'am', 'of', 'nor', \"should've\", \"mightn't\", 'did', 'or', 'shan', 'didn', \"won't\", 'itself', 'theirs', 'in', 'with'}\n"
     ]
    }
   ],
   "source": [
    "print(stopwords)"
   ]
  },
  {
   "cell_type": "code",
   "execution_count": 70,
   "id": "4beced39",
   "metadata": {},
   "outputs": [],
   "source": [
    "# credit: https://www.w3schools.com/python/gloss_python_join_sets.asp\n",
    "all_stopwords = stopwords_sp.union(stopwords)"
   ]
  },
  {
   "cell_type": "code",
   "execution_count": 71,
   "id": "6ffaea71",
   "metadata": {
    "scrolled": true
   },
   "outputs": [
    {
     "name": "stdout",
     "output_type": "stream",
     "text": [
      "{'nevertheless', 'ain', 'moreover', 'them', 'some', 'side', 'their', 'you', 'while', 'full', 'just', '‘ve', 'upon', 'o', 'when', '’ve', '’re', 'any', 'make', 'somehow', 'quite', 'and', 'yours', 'last', 'hereby', 'more', 'yet', 'further', 'himself', 'next', 'too', 'needn', 'noone', 'wherein', 'where', 've', 'always', 'everywhere', '’s', 'must', 'because', 'serious', \"that'll\", 'mostly', 'mine', 'it', 'themselves', 'via', \"n't\", 'wherever', 'thru', 'doing', 'few', 'seemed', 'ma', 'seem', 'him', 'whence', 'he', 'together', 'anyway', 'n‘t', 'will', 'having', 'most', 'around', 'well', \"you'd\", 'across', 'doesn', 'whose', 'such', 'his', 'beside', 'won', 'otherwise', 'yourselves', \"haven't\", 'another', \"isn't\", 'being', 'nine', 'without', '’m', 'hasn', 'now', 'beforehand', 'eleven', 'haven', 'much', 'none', 'beyond', 'forty', 'thereupon', 'thence', 'are', 'as', 'anyone', 'thereby', \"needn't\", 'during', 'we', \"'d\", 'anywhere', 'all', 'elsewhere', 'hereafter', \"weren't\", 'n’t', \"hasn't\", 'same', 'several', 's', 'through', 'd', 'used', 'often', 'below', 'been', 'front', 're', 'that', 'becoming', 'over', 'shouldn', 'empty', 'other', 'y', 'along', 'whither', 'therefore', '‘s', 'weren', 'amount', 'become', 'couldn', 'wouldn', 'put', 'since', 'an', 'formerly', 'various', 'm', 'myself', 'see', 'what', \"didn't\", 'throughout', 'who', '’ll', 'on', 'whatever', 'unless', 'how', 'fifty', 'from', 'fifteen', 'whole', 'seeming', 'aren', 'either', 'sometime', 'toward', 'someone', 'for', 'rather', 'anything', 'really', 'sixty', 'whereafter', 'me', 'to', 'please', 'by', 'back', \"aren't\", 'ours', 'off', 'am', \"should've\", 'within', \"mightn't\", 'shan', 'top', 'theirs', 'indeed', 'besides', \"'re\", 'us', 'former', 'between', 'sometimes', 'almost', 'three', 'with', 'at', 'go', 'meanwhile', 'something', 'not', 'be', 'until', 'became', 'hadn', 'whereas', 'six', 'ourselves', 'your', \"'ll\", 'afterwards', 'the', \"you'll\", 'its', \"she's\", 'so', 'yourself', 'seems', \"doesn't\", 'down', 'before', 'already', 'would', 'both', \"wasn't\", 'whoever', 'once', \"don't\", 'nowhere', 'five', 'behind', 'bottom', \"shouldn't\", 'onto', 'except', \"wouldn't\", 'those', 'whereupon', '’d', 'somewhere', 'everything', \"couldn't\", 'above', 'thus', 'after', 'if', 'no', \"mustn't\", \"'ve\", \"hadn't\", 'show', 'due', 'my', 'has', 'becomes', 'herein', 'first', '‘re', 'out', 'therein', 'which', 'may', 'these', 'part', 'might', 'this', 'she', 'twenty', 'hundred', 'hers', 'among', 'two', 'mustn', 'ever', 'latterly', 'again', 'll', 'alone', 'although', 'than', 'her', 'give', 'ca', 'latter', 'have', 'per', 'name', 'a', 'i', 'whether', 'everyone', 'whereby', 'least', 'under', \"'m\", 't', 'nothing', 'isn', 'many', 'can', 'herself', 'keep', 'also', 'made', 'enough', 'there', 'very', 'should', 'up', 'done', 'though', 'call', 'one', 'whenever', 'then', 'does', 'why', \"'s\", 'is', 'ten', 'else', 'own', 'still', 'thereafter', 'perhaps', 'using', 'but', 'hereupon', 'move', 'don', 'third', 'was', \"shan't\", 'were', 'cannot', 'nobody', '‘ll', 'amongst', 'had', 'namely', 'each', 'could', '‘m', 'get', 'our', 'about', '‘d', 'four', 'against', 'do', 'only', 'here', 'say', 'however', 'mightn', 'hence', 'into', 'wasn', \"you're\", \"it's\", \"you've\", 'whom', 'less', 'towards', 'regarding', 'they', 'anyhow', 'of', 'every', 'nor', 'eight', 'take', 'did', 'or', 'twelve', 'didn', 'even', \"won't\", 'itself', 'others', 'never', 'neither', 'in'}\n"
     ]
    }
   ],
   "source": [
    "print(all_stopwords)"
   ]
  },
  {
   "cell_type": "code",
   "execution_count": 58,
   "id": "e7b4f671",
   "metadata": {},
   "outputs": [
    {
     "data": {
      "text/plain": [
       "set"
      ]
     },
     "execution_count": 58,
     "metadata": {},
     "output_type": "execute_result"
    }
   ],
   "source": [
    "# additional keywords for removal\n",
    "#add_stopwords = ['www', '.com', 'com', 'http', 'https']\n",
    "#add_stopwords = set(add_stopwords)\n",
    "#type(add_stopwords)"
   ]
  },
  {
   "cell_type": "code",
   "execution_count": 59,
   "id": "6fbc3a90",
   "metadata": {},
   "outputs": [
    {
     "name": "stdout",
     "output_type": "stream",
     "text": [
      "{'empty', 'under', 'via', 'can', 'first', \"shouldn't\", 'therein', \"'ll\", 'bottom', 'take', 'further', 'meanwhile', 'somewhere', 'anyone', 'many', 'may', 'ca', \"couldn't\", 'eight', 'six', 'each', \"should've\", 'none', 'hundred', 'anything', 'seems', 'sometime', 'couldn', 'over', 've', 'whereas', 'she', 'never', 'seeming', 'until', 'last', 'five', 'of', 'mine', 'quite', \"doesn't\", 'around', 'between', 'mustn', 'aren', 'down', 'often', 'or', 'put', 'another', 'together', '.com', 'least', 'full', 'well', 'n’t', '‘ll', '’s', 'by', \"you're\", 'who', 'theirs', 'everyone', 'sixty', 'above', 'again', 'using', 'if', 'yourselves', 'for', 'else', 'whereafter', 'third', 'amount', 'their', 'weren', 'did', 'them', 'indeed', 'whereby', \"isn't\", 'fifty', 'up', 'more', \"it's\", 'haven', 'thereafter', 'afterwards', 'latter', 'http', 'along', 'this', \"wouldn't\", 'whatever', 'somehow', \"shan't\", 'while', 'except', 'same', 'n‘t', 'only', \"hasn't\", \"she's\", 'top', 'were', \"n't\", 'as', 'whoever', \"'ve\", \"that'll\", \"you've\", 'hereupon', '‘m', 'three', 'fifteen', 'thus', 'wherein', 'say', 'others', 'amongst', \"won't\", 'formerly', 'move', 'll', 'nowhere', \"'d\", 'show', 'what', 'yourself', 'unless', 'in', 'm', 'go', 'someone', 'here', 'noone', 'keep', 'sometimes', 'nobody', 'be', 'whither', 'd', 'being', 'twelve', 'already', 'either', 'is', 'various', \"haven't\", 'any', 'enough', 'how', 'which', 'might', 'ain', 'about', 'mightn', 'most', 'itself', 'during', 'two', 'anywhere', 'the', 'he', 'have', 'thence', 'o', 'hasn', 'elsewhere', 'her', 'always', 'am', 'now', 'would', 'nine', 'though', 'regarding', 'could', 'will', 'seem', '’re', 'front', 'those', 't', 'just', 'moreover', 'beside', 'hereafter', 'almost', 's', 'twenty', 'throughout', \"'s\", 'within', 'per', '’d', 'against', 'see', 'with', 'yours', 'whether', 'everything', \"needn't\", 'are', 'doing', 'out', 'i', 'doesn', 'off', 'becomes', '’m', 'no', \"don't\", 'into', 'upon', 'should', 'myself', 'used', 'something', 'very', 'behind', 'alone', 'an', 'to', \"'m\", 'isn', 'that', 'nevertheless', 'one', 'thru', '‘ve', 'after', 'thereupon', '’ll', 'didn', 'otherwise', 'too', 'so', 'than', 'himself', 'both', 'and', 'don', '‘s', 'mostly', 'themselves', 'latterly', 'ours', 'own', 'even', 'ma', 'at', 'becoming', 'get', 'thereby', 'serious', 'due', 'cannot', 'wouldn', 'anyway', 'made', 'ten', 'when', 'nothing', 'still', 'rather', 'herself', 'does', 'although', 'y', 'below', 'other', 'side', 'your', 'its', 'namely', 'since', 'former', '‘d', 'eleven', 'four', 'https', 'however', 'having', \"aren't\", 'give', 'without', '’ve', \"mustn't\", 'next', 'please', 'hers', 'on', 'com', \"weren't\", 'back', 'needn', 'won', 'hence', 'done', 'make', 'our', 'ourselves', 'nor', 'toward', 'because', 'where', 'been', \"mightn't\", 'everywhere', 'really', 'whole', 'whom', 'yet', 'why', 'through', 'some', 'beyond', 'every', 'name', 'me', 'a', 'therefore', 'several', 'him', 'there', 'whence', 'became', 'do', 'his', 'few', \"wasn't\", 'also', 'towards', 'then', 'it', 'part', 'neither', 'all', 'among', \"hadn't\", 'had', 'across', 'we', 'call', \"you'd\", 'whereupon', 'must', 'become', \"didn't\", 'anyhow', 'you', 'my', 'seemed', 'from', 'herein', 'was', '‘re', 'such', 'they', 'www', 'shouldn', 'besides', 'these', 'perhaps', 'beforehand', 'us', 'whenever', 'has', 'hereby', 'before', 'but', \"you'll\", 'once', 'shan', 'less', 'forty', \"'re\", 'whose', 'wherever', 're', 'hadn', 'ever', 'onto', 'wasn', 'much'}\n"
     ]
    }
   ],
   "source": [
    "#more_stopwords = all_stopwords.union(add_stopwords)\n",
    "#print(more_stopwords)"
   ]
  },
  {
   "cell_type": "markdown",
   "id": "2e02ca0c",
   "metadata": {},
   "source": [
    "#### Tokenizing"
   ]
  },
  {
   "cell_type": "code",
   "execution_count": null,
   "id": "920264d6",
   "metadata": {},
   "outputs": [],
   "source": [
    "# Instantiate Tokenizer\n",
    "tokenizer = RegexpTokenizer(r'\\w+') \n"
   ]
  },
  {
   "cell_type": "markdown",
   "id": "bd7765b8",
   "metadata": {},
   "source": [
    "#### Function for text cleaning"
   ]
  },
  {
   "cell_type": "code",
   "execution_count": 72,
   "id": "c6822493",
   "metadata": {},
   "outputs": [],
   "source": [
    "df_combined_ab = pd.read_csv('../data/df_combined_ab.csv')"
   ]
  },
  {
   "cell_type": "code",
   "execution_count": 73,
   "id": "694d56ea",
   "metadata": {},
   "outputs": [],
   "source": [
    "# adopted from class\n",
    "# credit: https://www.geeksforgeeks.org/nlp-expand-contractions-in-text-processing/\n",
    "# credit: https://www.geeksforgeeks.org/python-removing-newline-character-from-string/\n",
    "# credit: https://stackoverflow.com/questions/43356467/removing-special-characters-and-symbols-from-a-string-in-python\n",
    "# credit: https://stackoverflow.com/questions/11331982/how-to-remove-any-url-within-a-string-in-python\n",
    "# credit: https://stackoverflow.com/questions/54396405/how-can-i-preprocess-nlp-text-lowercase-remove-special-characters-remove-numb\n",
    "# credit: https://pypi.org/project/redditcleaner/\n",
    "\n",
    "# initialize list of newline characters\n",
    "#newline_characters = ['\\\\ng', 'i\\ns', 'b\\nest', '\\n\\n', '\\n', '\\t', '\\\\']\n",
    "\n",
    "def preprocess(text):\n",
    "\n",
    "    # use redditcleaner to remove special characters used in the raw text at reddit\n",
    "    # such as &amp;#x200B, newline_characters (\\n\\n)\n",
    "    text = redditcleaner.clean(text)  \n",
    "    \n",
    "    # using contractions.fix to expand the shortened words\n",
    "    text = contractions.fix(text)\n",
    "        \n",
    "    # convert to lowercase\n",
    "    text = text.lower()\n",
    "    \n",
    "    # initiate BeautifulSopu to strip HTML tags\n",
    "    soup = BeautifulSoup(text, \"html.parser\")\n",
    "    text = soup.get_text(separator=\" \") # Get all the text other than html tags.\n",
    "    \n",
    "    # remove links starts with https and/or end with .com\n",
    "    text = re.sub(r'http\\S+', '', text)\n",
    "    text = re.sub(r'\\ *\\.com', '', text)\n",
    "    \n",
    "    # remove non-letters\n",
    "    text = re.sub(\"[^a-zA-Z]\", \" \", text)    \n",
    "    \n",
    "    # remove newlines tabs\n",
    "    #for characters in newline_characters:\n",
    "    #    text = text.replace(characters, ' ') \n",
    "    \n",
    "    # remove extra white spaces\n",
    "    text = re.sub('\\s+', ' ', text).strip()  \n",
    "  \n",
    "    # split into individual words\n",
    "    words = text.split()\n",
    "        \n",
    "    # remove stop words\n",
    "    meaningful_words = []\n",
    "    for w in words:\n",
    "        if w not in all_stopwords:\n",
    "            meaningful_words.append(w)\n",
    "              \n",
    "    # lemmatizer the words\n",
    "    lemmatizer = WordNetLemmatizer()\n",
    "    tokens_lem = [lemmatizer.lemmatize(i) for i in meaningful_words]    \n",
    "    \n",
    "    return ' '.join(tokens_lem)"
   ]
  },
  {
   "cell_type": "code",
   "execution_count": 74,
   "id": "c528c1aa",
   "metadata": {
    "scrolled": false
   },
   "outputs": [
    {
     "name": "stderr",
     "output_type": "stream",
     "text": [
      "C:\\Users\\skyne\\AppData\\Local\\Temp\\ipykernel_31392\\2602187967.py:25: MarkupResemblesLocatorWarning: The input looks more like a filename than markup. You may want to open this file and pass the filehandle into Beautiful Soup.\n",
      "  soup = BeautifulSoup(text, \"html.parser\")\n",
      "C:\\Users\\skyne\\AppData\\Local\\Temp\\ipykernel_31392\\2602187967.py:25: MarkupResemblesLocatorWarning: The input looks more like a URL than markup. You may want to use an HTTP client like requests to get the document behind the URL, and feed that document to Beautiful Soup.\n",
      "  soup = BeautifulSoup(text, \"html.parser\")\n"
     ]
    },
    {
     "data": {
      "text/html": [
       "<div>\n",
       "<style scoped>\n",
       "    .dataframe tbody tr th:only-of-type {\n",
       "        vertical-align: middle;\n",
       "    }\n",
       "\n",
       "    .dataframe tbody tr th {\n",
       "        vertical-align: top;\n",
       "    }\n",
       "\n",
       "    .dataframe thead th {\n",
       "        text-align: right;\n",
       "    }\n",
       "</style>\n",
       "<table border=\"1\" class=\"dataframe\">\n",
       "  <thead>\n",
       "    <tr style=\"text-align: right;\">\n",
       "      <th></th>\n",
       "      <th>subreddit</th>\n",
       "      <th>title</th>\n",
       "      <th>author</th>\n",
       "      <th>num_comments</th>\n",
       "      <th>text</th>\n",
       "      <th>text_cleaned</th>\n",
       "    </tr>\n",
       "  </thead>\n",
       "  <tbody>\n",
       "    <tr>\n",
       "      <th>0</th>\n",
       "      <td>1</td>\n",
       "      <td>Where to find snow in April third week</td>\n",
       "      <td>Due-Use1142</td>\n",
       "      <td>0</td>\n",
       "      <td>Where to find snow in April third week Hi. I'm...</td>\n",
       "      <td>find snow april week hi kokan maharashtra want...</td>\n",
       "    </tr>\n",
       "    <tr>\n",
       "      <th>1</th>\n",
       "      <td>1</td>\n",
       "      <td>I'm planning a backpacking trip to Romania, an...</td>\n",
       "      <td>wbtr42</td>\n",
       "      <td>0</td>\n",
       "      <td>I'm planning a backpacking trip to Romania, an...</td>\n",
       "      <td>planning backpacking trip romania tip hey frie...</td>\n",
       "    </tr>\n",
       "    <tr>\n",
       "      <th>2</th>\n",
       "      <td>1</td>\n",
       "      <td>Week long backpacking trails in Big Horns Clou...</td>\n",
       "      <td>juicy__nuggets</td>\n",
       "      <td>0</td>\n",
       "      <td>Week long backpacking trails in Big Horns Clou...</td>\n",
       "      <td>week long backpacking trail big horn cloud pea...</td>\n",
       "    </tr>\n",
       "    <tr>\n",
       "      <th>3</th>\n",
       "      <td>1</td>\n",
       "      <td>Most beautiful places to visit in Arizona</td>\n",
       "      <td>exploreofficial</td>\n",
       "      <td>0</td>\n",
       "      <td>Most beautiful places to visit in Arizona</td>\n",
       "      <td>beautiful place visit arizona</td>\n",
       "    </tr>\n",
       "    <tr>\n",
       "      <th>4</th>\n",
       "      <td>1</td>\n",
       "      <td>MOST BEAUTIFUL PLACES TO VISIT IN ARIZONA</td>\n",
       "      <td>exploreofficial</td>\n",
       "      <td>0</td>\n",
       "      <td>MOST BEAUTIFUL PLACES TO VISIT IN ARIZONA</td>\n",
       "      <td>beautiful place visit arizona</td>\n",
       "    </tr>\n",
       "  </tbody>\n",
       "</table>\n",
       "</div>"
      ],
      "text/plain": [
       "   subreddit                                              title  \\\n",
       "0          1             Where to find snow in April third week   \n",
       "1          1  I'm planning a backpacking trip to Romania, an...   \n",
       "2          1  Week long backpacking trails in Big Horns Clou...   \n",
       "3          1          Most beautiful places to visit in Arizona   \n",
       "4          1          MOST BEAUTIFUL PLACES TO VISIT IN ARIZONA   \n",
       "\n",
       "            author  num_comments  \\\n",
       "0      Due-Use1142             0   \n",
       "1           wbtr42             0   \n",
       "2   juicy__nuggets             0   \n",
       "3  exploreofficial             0   \n",
       "4  exploreofficial             0   \n",
       "\n",
       "                                                text  \\\n",
       "0  Where to find snow in April third week Hi. I'm...   \n",
       "1  I'm planning a backpacking trip to Romania, an...   \n",
       "2  Week long backpacking trails in Big Horns Clou...   \n",
       "3         Most beautiful places to visit in Arizona    \n",
       "4         MOST BEAUTIFUL PLACES TO VISIT IN ARIZONA    \n",
       "\n",
       "                                        text_cleaned  \n",
       "0  find snow april week hi kokan maharashtra want...  \n",
       "1  planning backpacking trip romania tip hey frie...  \n",
       "2  week long backpacking trail big horn cloud pea...  \n",
       "3                      beautiful place visit arizona  \n",
       "4                      beautiful place visit arizona  "
      ]
     },
     "execution_count": 74,
     "metadata": {},
     "output_type": "execute_result"
    }
   ],
   "source": [
    "df_combined_ab['text_cleaned'] = df_combined_ab.apply(lambda x: preprocess(x['text']), axis=1)\n",
    "df_combined_ab.head()"
   ]
  },
  {
   "cell_type": "code",
   "execution_count": 75,
   "id": "859a038b",
   "metadata": {
    "scrolled": true
   },
   "outputs": [
    {
     "data": {
      "text/plain": [
       "array([\"Where to find snow in April third week Hi. I'm from kokan, Maharashtra.and want to travel to himachal pradesh to escape from hot summer.\\nSo will there be any snow clad landscapes in April third week of this year? Also is it advisable to take 2 years old toddler along? I'm looking for budget tour , nature exploration, a little increment bit of snow. Can anyone suggest best itenary. I would like to skip simala, Manali.\",\n",
       "       \"I'm planning a backpacking trip to Romania, any tips? Hey, me and my friend are planning to go on a two-week backpacking trip to romania this summer. Any tips what we should not miss or what to be cautious about?\",\n",
       "       \"Week long backpacking trails in Big Horns Cloud Peak wilderness I'm planning my first backpacking trip with some friends in the Cloud Peak Wilderness area but none of us have any idea what route to take. One that lasts 4-6 days to travel should do.\",\n",
       "       'Most beautiful places to visit in Arizona ',\n",
       "       'MOST BEAUTIFUL PLACES TO VISIT IN ARIZONA '], dtype=object)"
      ]
     },
     "execution_count": 75,
     "metadata": {},
     "output_type": "execute_result"
    }
   ],
   "source": [
    "# before text cleaning\n",
    "df_combined_ab['text'][0:5].unique()"
   ]
  },
  {
   "cell_type": "code",
   "execution_count": 76,
   "id": "0498d337",
   "metadata": {
    "scrolled": true
   },
   "outputs": [
    {
     "data": {
      "text/plain": [
       "array(['find snow april week hi kokan maharashtra want travel himachal pradesh escape hot summer snow clad landscape april week year advisable year old toddler looking budget tour nature exploration little increment bit snow suggest best itenary like skip simala manali',\n",
       "       'planning backpacking trip romania tip hey friend planning week backpacking trip romania summer tip miss cautious',\n",
       "       'week long backpacking trail big horn cloud peak wilderness planning backpacking trip friend cloud peak wilderness area idea route last day travel',\n",
       "       'beautiful place visit arizona'], dtype=object)"
      ]
     },
     "execution_count": 76,
     "metadata": {},
     "output_type": "execute_result"
    }
   ],
   "source": [
    "# after text cleaning\n",
    "df_combined_ab['text_cleaned'][0:5].unique()"
   ]
  },
  {
   "cell_type": "code",
   "execution_count": 77,
   "id": "8a6c3eb6",
   "metadata": {
    "scrolled": false
   },
   "outputs": [
    {
     "name": "stdout",
     "output_type": "stream",
     "text": [
      "<class 'pandas.core.frame.DataFrame'>\n",
      "RangeIndex: 7578 entries, 0 to 7577\n",
      "Data columns (total 6 columns):\n",
      " #   Column        Non-Null Count  Dtype \n",
      "---  ------        --------------  ----- \n",
      " 0   subreddit     7578 non-null   int64 \n",
      " 1   title         7578 non-null   object\n",
      " 2   author        7578 non-null   object\n",
      " 3   num_comments  7578 non-null   int64 \n",
      " 4   text          7578 non-null   object\n",
      " 5   text_cleaned  7578 non-null   object\n",
      "dtypes: int64(2), object(4)\n",
      "memory usage: 355.3+ KB\n"
     ]
    }
   ],
   "source": [
    "df_combined_ab.info()"
   ]
  },
  {
   "cell_type": "code",
   "execution_count": 78,
   "id": "2cd31673",
   "metadata": {},
   "outputs": [],
   "source": [
    "# Save to csv\n",
    "df_combined_ab.to_csv(\"../data/df_cleaned_ab.csv\", index=False)"
   ]
  },
  {
   "cell_type": "code",
   "execution_count": null,
   "id": "86d0b5a8",
   "metadata": {},
   "outputs": [],
   "source": []
  }
 ],
 "metadata": {
  "kernelspec": {
   "display_name": "Python 3 (ipykernel)",
   "language": "python",
   "name": "python3"
  },
  "language_info": {
   "codemirror_mode": {
    "name": "ipython",
    "version": 3
   },
   "file_extension": ".py",
   "mimetype": "text/x-python",
   "name": "python",
   "nbconvert_exporter": "python",
   "pygments_lexer": "ipython3",
   "version": "3.9.13"
  }
 },
 "nbformat": 4,
 "nbformat_minor": 5
}
