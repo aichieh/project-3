{
 "cells": [
  {
   "cell_type": "code",
   "execution_count": 1,
   "id": "24f3a186",
   "metadata": {},
   "outputs": [],
   "source": [
    "# Import libraries needed for webscraping\n",
    "import requests\n",
    "from datetime import datetime\n",
    "import time\n",
    "import random\n",
    "import pandas as pd\n",
    "from tqdm import tqdm\n",
    "\n",
    "import praw\n",
    "from psaw import PushshiftAPI\n",
    "\n",
    "pd.set_option('display.max_columns', 2000)\n",
    "pd.set_option('display.max_rows', 500)"
   ]
  },
  {
   "cell_type": "code",
   "execution_count": 2,
   "id": "ed8f67ff",
   "metadata": {},
   "outputs": [],
   "source": [
    "#url_1 = 'https://www.reddit.com/r/TravelHacks.json'\n",
    "#url_2 = 'https://www.reddit.com/r/awardtravel.json'\n",
    "#res = requests.get(url, headers={'User-agent': 'Helpful-Scientist-53'})"
   ]
  },
  {
   "cell_type": "code",
   "execution_count": 2,
   "id": "439bee9f",
   "metadata": {},
   "outputs": [],
   "source": [
    "url = 'https://api.pushshift.io/reddit/search/submission'"
   ]
  },
  {
   "cell_type": "code",
   "execution_count": null,
   "id": "514ce047",
   "metadata": {},
   "outputs": [],
   "source": [
    "# url for subreddit submission \n",
    "# url = 'https://api.pushshift.io/reddit/search/submission?subreddit=travel'"
   ]
  },
  {
   "cell_type": "code",
   "execution_count": 3,
   "id": "9dd107a8",
   "metadata": {},
   "outputs": [],
   "source": [
    "# set up parameter\n",
    "params = {\n",
    "    'subreddit': 'travel',\n",
    "    'size': 1000, # limit of 1000\n",
    "    'before': 1680108395 # show the post before 1680108395  \n",
    "}"
   ]
  },
  {
   "cell_type": "code",
   "execution_count": 4,
   "id": "1fc88d97",
   "metadata": {},
   "outputs": [],
   "source": [
    "# set up response\n",
    "res = requests.get(url, params)"
   ]
  },
  {
   "cell_type": "code",
   "execution_count": 5,
   "id": "d9f2d8a3",
   "metadata": {},
   "outputs": [
    {
     "data": {
      "text/plain": [
       "200"
      ]
     },
     "execution_count": 5,
     "metadata": {},
     "output_type": "execute_result"
    }
   ],
   "source": [
    "# check status code\n",
    "res.status_code"
   ]
  },
  {
   "cell_type": "code",
   "execution_count": 6,
   "id": "f771f71c",
   "metadata": {},
   "outputs": [],
   "source": [
    "# returned as json in dictionary list\n",
    "data = res.json()"
   ]
  },
  {
   "cell_type": "code",
   "execution_count": 7,
   "id": "04e74818",
   "metadata": {},
   "outputs": [],
   "source": [
    "posts = data['data']"
   ]
  },
  {
   "cell_type": "code",
   "execution_count": 8,
   "id": "a79ba5bd",
   "metadata": {
    "scrolled": true
   },
   "outputs": [
    {
     "data": {
      "text/plain": [
       "1000"
      ]
     },
     "execution_count": 8,
     "metadata": {},
     "output_type": "execute_result"
    }
   ],
   "source": [
    "# size for the default value of 10; changed it to 1000 most recent posts\n",
    "len(posts)"
   ]
  },
  {
   "cell_type": "code",
   "execution_count": 9,
   "id": "0fb845f2",
   "metadata": {
    "scrolled": true
   },
   "outputs": [
    {
     "data": {
      "text/plain": [
       "{'subreddit': 'travel',\n",
       " 'selftext': \"Never been before so dont know much  about the region. Where should I go that is affordable, interesting,  and has good food? I will have my GF with me so not interested in  cooming, alcohol, or nightlife. We're travelling in November because of  fewer crowds and cheaper prices. We know we want to visit Hungary for  sure for the thermal baths and the food but are unsure if we should go  north from there to Slovakia/Czechia/Poland, to Slovenia/Croatia/Serbia,  or east towards Romania. I was leaning towards Croatia and Serbia  because the weather may be warmer, the proximity to Hungary, I've heard  food there is decent, and I like Orthodox churches. But we are open to  anywhere accessible by train or bus from Budapest. Any good outdoor  things to do in any of these regions in November?\",\n",
       " 'author_fullname': 't2_3s3ea',\n",
       " 'gilded': 0,\n",
       " 'title': 'I will have two weeks of vacation in November and want to visit some ountries in eastern Europe.',\n",
       " 'link_flair_richtext': [],\n",
       " 'subreddit_name_prefixed': 'r/travel',\n",
       " 'hidden': False,\n",
       " 'pwls': 6,\n",
       " 'link_flair_css_class': 'question',\n",
       " 'thumbnail_height': None,\n",
       " 'top_awarded_type': None,\n",
       " 'hide_score': True,\n",
       " 'quarantine': False,\n",
       " 'link_flair_text_color': 'light',\n",
       " 'upvote_ratio': 1.0,\n",
       " 'author_flair_background_color': None,\n",
       " 'subreddit_type': 'public',\n",
       " 'total_awards_received': 0,\n",
       " 'media_embed': {},\n",
       " 'thumbnail_width': None,\n",
       " 'author_flair_template_id': None,\n",
       " 'is_original_content': False,\n",
       " 'secure_media': None,\n",
       " 'is_reddit_media_domain': False,\n",
       " 'is_meta': False,\n",
       " 'category': None,\n",
       " 'secure_media_embed': {},\n",
       " 'link_flair_text': 'Question',\n",
       " 'score': 1,\n",
       " 'is_created_from_ads_ui': False,\n",
       " 'author_premium': False,\n",
       " 'thumbnail': 'self',\n",
       " 'edited': False,\n",
       " 'author_flair_css_class': None,\n",
       " 'author_flair_richtext': [],\n",
       " 'gildings': {},\n",
       " 'content_categories': None,\n",
       " 'is_self': True,\n",
       " 'link_flair_type': 'text',\n",
       " 'wls': 6,\n",
       " 'removed_by_category': None,\n",
       " 'author_flair_type': 'text',\n",
       " 'domain': 'self.travel',\n",
       " 'allow_live_comments': False,\n",
       " 'suggested_sort': None,\n",
       " 'view_count': None,\n",
       " 'archived': False,\n",
       " 'no_follow': True,\n",
       " 'is_crosspostable': True,\n",
       " 'pinned': False,\n",
       " 'over_18': False,\n",
       " 'all_awardings': [],\n",
       " 'awarders': [],\n",
       " 'media_only': False,\n",
       " 'link_flair_template_id': '63ab44d8-3640-11e3-8665-12313d21c4ee',\n",
       " 'can_gild': True,\n",
       " 'spoiler': False,\n",
       " 'locked': False,\n",
       " 'author_flair_text': None,\n",
       " 'treatment_tags': [],\n",
       " 'removed_by': None,\n",
       " 'distinguished': None,\n",
       " 'subreddit_id': 't5_2qh41',\n",
       " 'link_flair_background_color': '#ff66ac',\n",
       " 'id': '125tfj8',\n",
       " 'is_robot_indexable': True,\n",
       " 'author': 'xss2',\n",
       " 'discussion_type': None,\n",
       " 'num_comments': 0,\n",
       " 'send_replies': True,\n",
       " 'whitelist_status': 'all_ads',\n",
       " 'contest_mode': False,\n",
       " 'author_patreon_flair': False,\n",
       " 'author_flair_text_color': None,\n",
       " 'permalink': '/r/travel/comments/125tfj8/i_will_have_two_weeks_of_vacation_in_november_and/',\n",
       " 'parent_whitelist_status': 'all_ads',\n",
       " 'stickied': False,\n",
       " 'url': 'https://www.reddit.com/r/travel/comments/125tfj8/i_will_have_two_weeks_of_vacation_in_november_and/',\n",
       " 'subreddit_subscribers': 7443770,\n",
       " 'created_utc': 1680108205,\n",
       " 'num_crossposts': 0,\n",
       " 'media': None,\n",
       " 'is_video': False,\n",
       " 'retrieved_utc': 1680108218,\n",
       " 'updated_utc': 1680108218,\n",
       " 'utc_datetime_str': '2023-03-29 16:43:25'}"
      ]
     },
     "execution_count": 9,
     "metadata": {},
     "output_type": "execute_result"
    }
   ],
   "source": [
    "# check the first post\n",
    "posts[0]\n",
    "\n",
    "# created_utc is an int, showing the time the first post weas posted"
   ]
  },
  {
   "cell_type": "code",
   "execution_count": 10,
   "id": "6d7d93a4",
   "metadata": {},
   "outputs": [],
   "source": [
    "# turned dictionary to dataframe\n",
    "df = pd.DataFrame(posts)"
   ]
  },
  {
   "cell_type": "code",
   "execution_count": 11,
   "id": "ba8bf710",
   "metadata": {
    "scrolled": true
   },
   "outputs": [
    {
     "data": {
      "text/html": [
       "<div>\n",
       "<style scoped>\n",
       "    .dataframe tbody tr th:only-of-type {\n",
       "        vertical-align: middle;\n",
       "    }\n",
       "\n",
       "    .dataframe tbody tr th {\n",
       "        vertical-align: top;\n",
       "    }\n",
       "\n",
       "    .dataframe thead th {\n",
       "        text-align: right;\n",
       "    }\n",
       "</style>\n",
       "<table border=\"1\" class=\"dataframe\">\n",
       "  <thead>\n",
       "    <tr style=\"text-align: right;\">\n",
       "      <th></th>\n",
       "      <th>subreddit</th>\n",
       "      <th>selftext</th>\n",
       "      <th>author_fullname</th>\n",
       "      <th>gilded</th>\n",
       "      <th>title</th>\n",
       "      <th>link_flair_richtext</th>\n",
       "      <th>subreddit_name_prefixed</th>\n",
       "      <th>hidden</th>\n",
       "      <th>pwls</th>\n",
       "      <th>link_flair_css_class</th>\n",
       "      <th>thumbnail_height</th>\n",
       "      <th>top_awarded_type</th>\n",
       "      <th>hide_score</th>\n",
       "      <th>quarantine</th>\n",
       "      <th>link_flair_text_color</th>\n",
       "      <th>upvote_ratio</th>\n",
       "      <th>author_flair_background_color</th>\n",
       "      <th>subreddit_type</th>\n",
       "      <th>total_awards_received</th>\n",
       "      <th>media_embed</th>\n",
       "      <th>thumbnail_width</th>\n",
       "      <th>author_flair_template_id</th>\n",
       "      <th>is_original_content</th>\n",
       "      <th>secure_media</th>\n",
       "      <th>is_reddit_media_domain</th>\n",
       "      <th>is_meta</th>\n",
       "      <th>category</th>\n",
       "      <th>secure_media_embed</th>\n",
       "      <th>link_flair_text</th>\n",
       "      <th>score</th>\n",
       "      <th>is_created_from_ads_ui</th>\n",
       "      <th>author_premium</th>\n",
       "      <th>thumbnail</th>\n",
       "      <th>edited</th>\n",
       "      <th>author_flair_css_class</th>\n",
       "      <th>author_flair_richtext</th>\n",
       "      <th>gildings</th>\n",
       "      <th>content_categories</th>\n",
       "      <th>is_self</th>\n",
       "      <th>link_flair_type</th>\n",
       "      <th>wls</th>\n",
       "      <th>removed_by_category</th>\n",
       "      <th>author_flair_type</th>\n",
       "      <th>domain</th>\n",
       "      <th>allow_live_comments</th>\n",
       "      <th>suggested_sort</th>\n",
       "      <th>view_count</th>\n",
       "      <th>archived</th>\n",
       "      <th>no_follow</th>\n",
       "      <th>is_crosspostable</th>\n",
       "      <th>pinned</th>\n",
       "      <th>over_18</th>\n",
       "      <th>all_awardings</th>\n",
       "      <th>awarders</th>\n",
       "      <th>media_only</th>\n",
       "      <th>link_flair_template_id</th>\n",
       "      <th>can_gild</th>\n",
       "      <th>spoiler</th>\n",
       "      <th>locked</th>\n",
       "      <th>author_flair_text</th>\n",
       "      <th>treatment_tags</th>\n",
       "      <th>removed_by</th>\n",
       "      <th>distinguished</th>\n",
       "      <th>subreddit_id</th>\n",
       "      <th>link_flair_background_color</th>\n",
       "      <th>id</th>\n",
       "      <th>is_robot_indexable</th>\n",
       "      <th>author</th>\n",
       "      <th>discussion_type</th>\n",
       "      <th>num_comments</th>\n",
       "      <th>send_replies</th>\n",
       "      <th>whitelist_status</th>\n",
       "      <th>contest_mode</th>\n",
       "      <th>author_patreon_flair</th>\n",
       "      <th>author_flair_text_color</th>\n",
       "      <th>permalink</th>\n",
       "      <th>parent_whitelist_status</th>\n",
       "      <th>stickied</th>\n",
       "      <th>url</th>\n",
       "      <th>subreddit_subscribers</th>\n",
       "      <th>created_utc</th>\n",
       "      <th>num_crossposts</th>\n",
       "      <th>media</th>\n",
       "      <th>is_video</th>\n",
       "      <th>retrieved_utc</th>\n",
       "      <th>updated_utc</th>\n",
       "      <th>utc_datetime_str</th>\n",
       "      <th>post_hint</th>\n",
       "      <th>url_overridden_by_dest</th>\n",
       "      <th>preview</th>\n",
       "      <th>crosspost_parent_list</th>\n",
       "      <th>crosspost_parent</th>\n",
       "      <th>is_gallery</th>\n",
       "      <th>media_metadata</th>\n",
       "      <th>gallery_data</th>\n",
       "      <th>author_cakeday</th>\n",
       "    </tr>\n",
       "  </thead>\n",
       "  <tbody>\n",
       "    <tr>\n",
       "      <th>0</th>\n",
       "      <td>travel</td>\n",
       "      <td>Never been before so dont know much  about the...</td>\n",
       "      <td>t2_3s3ea</td>\n",
       "      <td>0</td>\n",
       "      <td>I will have two weeks of vacation in November ...</td>\n",
       "      <td>[]</td>\n",
       "      <td>r/travel</td>\n",
       "      <td>False</td>\n",
       "      <td>6.0</td>\n",
       "      <td>question</td>\n",
       "      <td>NaN</td>\n",
       "      <td>None</td>\n",
       "      <td>True</td>\n",
       "      <td>False</td>\n",
       "      <td>light</td>\n",
       "      <td>1.0</td>\n",
       "      <td>None</td>\n",
       "      <td>public</td>\n",
       "      <td>0</td>\n",
       "      <td>{}</td>\n",
       "      <td>NaN</td>\n",
       "      <td>None</td>\n",
       "      <td>False</td>\n",
       "      <td>None</td>\n",
       "      <td>False</td>\n",
       "      <td>False</td>\n",
       "      <td>None</td>\n",
       "      <td>{}</td>\n",
       "      <td>Question</td>\n",
       "      <td>1</td>\n",
       "      <td>False</td>\n",
       "      <td>False</td>\n",
       "      <td>self</td>\n",
       "      <td>False</td>\n",
       "      <td>None</td>\n",
       "      <td>[]</td>\n",
       "      <td>{}</td>\n",
       "      <td>None</td>\n",
       "      <td>True</td>\n",
       "      <td>text</td>\n",
       "      <td>6.0</td>\n",
       "      <td>None</td>\n",
       "      <td>text</td>\n",
       "      <td>self.travel</td>\n",
       "      <td>False</td>\n",
       "      <td>None</td>\n",
       "      <td>None</td>\n",
       "      <td>False</td>\n",
       "      <td>True</td>\n",
       "      <td>True</td>\n",
       "      <td>False</td>\n",
       "      <td>False</td>\n",
       "      <td>[]</td>\n",
       "      <td>[]</td>\n",
       "      <td>False</td>\n",
       "      <td>63ab44d8-3640-11e3-8665-12313d21c4ee</td>\n",
       "      <td>True</td>\n",
       "      <td>False</td>\n",
       "      <td>False</td>\n",
       "      <td>None</td>\n",
       "      <td>[]</td>\n",
       "      <td>None</td>\n",
       "      <td>None</td>\n",
       "      <td>t5_2qh41</td>\n",
       "      <td>#ff66ac</td>\n",
       "      <td>125tfj8</td>\n",
       "      <td>True</td>\n",
       "      <td>xss2</td>\n",
       "      <td>None</td>\n",
       "      <td>0</td>\n",
       "      <td>True</td>\n",
       "      <td>all_ads</td>\n",
       "      <td>False</td>\n",
       "      <td>False</td>\n",
       "      <td>None</td>\n",
       "      <td>/r/travel/comments/125tfj8/i_will_have_two_wee...</td>\n",
       "      <td>all_ads</td>\n",
       "      <td>False</td>\n",
       "      <td>https://www.reddit.com/r/travel/comments/125tf...</td>\n",
       "      <td>7443770</td>\n",
       "      <td>1680108205</td>\n",
       "      <td>0</td>\n",
       "      <td>None</td>\n",
       "      <td>False</td>\n",
       "      <td>1680108218</td>\n",
       "      <td>1680108218</td>\n",
       "      <td>2023-03-29 16:43:25</td>\n",
       "      <td>NaN</td>\n",
       "      <td>NaN</td>\n",
       "      <td>NaN</td>\n",
       "      <td>NaN</td>\n",
       "      <td>NaN</td>\n",
       "      <td>NaN</td>\n",
       "      <td>NaN</td>\n",
       "      <td>NaN</td>\n",
       "      <td>NaN</td>\n",
       "    </tr>\n",
       "  </tbody>\n",
       "</table>\n",
       "</div>"
      ],
      "text/plain": [
       "  subreddit                                           selftext  \\\n",
       "0    travel  Never been before so dont know much  about the...   \n",
       "\n",
       "  author_fullname  gilded                                              title  \\\n",
       "0        t2_3s3ea       0  I will have two weeks of vacation in November ...   \n",
       "\n",
       "  link_flair_richtext subreddit_name_prefixed  hidden  pwls  \\\n",
       "0                  []                r/travel   False   6.0   \n",
       "\n",
       "  link_flair_css_class  thumbnail_height top_awarded_type  hide_score  \\\n",
       "0             question               NaN             None        True   \n",
       "\n",
       "   quarantine link_flair_text_color  upvote_ratio  \\\n",
       "0       False                 light           1.0   \n",
       "\n",
       "  author_flair_background_color subreddit_type  total_awards_received  \\\n",
       "0                          None         public                      0   \n",
       "\n",
       "  media_embed  thumbnail_width author_flair_template_id  is_original_content  \\\n",
       "0          {}              NaN                     None                False   \n",
       "\n",
       "  secure_media  is_reddit_media_domain  is_meta category secure_media_embed  \\\n",
       "0         None                   False    False     None                 {}   \n",
       "\n",
       "  link_flair_text  score  is_created_from_ads_ui author_premium thumbnail  \\\n",
       "0        Question      1                   False          False      self   \n",
       "\n",
       "   edited author_flair_css_class author_flair_richtext gildings  \\\n",
       "0   False                   None                    []       {}   \n",
       "\n",
       "  content_categories  is_self link_flair_type  wls removed_by_category  \\\n",
       "0               None     True            text  6.0                None   \n",
       "\n",
       "  author_flair_type       domain  allow_live_comments suggested_sort  \\\n",
       "0              text  self.travel                False           None   \n",
       "\n",
       "  view_count  archived  no_follow  is_crosspostable  pinned  over_18  \\\n",
       "0       None     False       True              True   False    False   \n",
       "\n",
       "  all_awardings awarders  media_only                link_flair_template_id  \\\n",
       "0            []       []       False  63ab44d8-3640-11e3-8665-12313d21c4ee   \n",
       "\n",
       "   can_gild  spoiler  locked author_flair_text treatment_tags removed_by  \\\n",
       "0      True    False   False              None             []       None   \n",
       "\n",
       "  distinguished subreddit_id link_flair_background_color       id  \\\n",
       "0          None     t5_2qh41                     #ff66ac  125tfj8   \n",
       "\n",
       "   is_robot_indexable author discussion_type  num_comments  send_replies  \\\n",
       "0                True   xss2            None             0          True   \n",
       "\n",
       "  whitelist_status  contest_mode author_patreon_flair author_flair_text_color  \\\n",
       "0          all_ads         False                False                    None   \n",
       "\n",
       "                                           permalink parent_whitelist_status  \\\n",
       "0  /r/travel/comments/125tfj8/i_will_have_two_wee...                 all_ads   \n",
       "\n",
       "   stickied                                                url  \\\n",
       "0     False  https://www.reddit.com/r/travel/comments/125tf...   \n",
       "\n",
       "   subreddit_subscribers  created_utc  num_crossposts media  is_video  \\\n",
       "0                7443770   1680108205               0  None     False   \n",
       "\n",
       "   retrieved_utc  updated_utc     utc_datetime_str post_hint  \\\n",
       "0     1680108218   1680108218  2023-03-29 16:43:25       NaN   \n",
       "\n",
       "  url_overridden_by_dest preview crosspost_parent_list crosspost_parent  \\\n",
       "0                    NaN     NaN                   NaN              NaN   \n",
       "\n",
       "  is_gallery media_metadata  gallery_data author_cakeday  \n",
       "0        NaN            NaN           NaN            NaN  "
      ]
     },
     "execution_count": 11,
     "metadata": {},
     "output_type": "execute_result"
    }
   ],
   "source": [
    "df.head(1)"
   ]
  },
  {
   "cell_type": "code",
   "execution_count": 12,
   "id": "690c78a5",
   "metadata": {},
   "outputs": [
    {
     "data": {
      "text/html": [
       "<div>\n",
       "<style scoped>\n",
       "    .dataframe tbody tr th:only-of-type {\n",
       "        vertical-align: middle;\n",
       "    }\n",
       "\n",
       "    .dataframe tbody tr th {\n",
       "        vertical-align: top;\n",
       "    }\n",
       "\n",
       "    .dataframe thead th {\n",
       "        text-align: right;\n",
       "    }\n",
       "</style>\n",
       "<table border=\"1\" class=\"dataframe\">\n",
       "  <thead>\n",
       "    <tr style=\"text-align: right;\">\n",
       "      <th></th>\n",
       "      <th>subreddit</th>\n",
       "      <th>selftext</th>\n",
       "      <th>title</th>\n",
       "    </tr>\n",
       "  </thead>\n",
       "  <tbody>\n",
       "    <tr>\n",
       "      <th>0</th>\n",
       "      <td>travel</td>\n",
       "      <td>Never been before so dont know much  about the...</td>\n",
       "      <td>I will have two weeks of vacation in November ...</td>\n",
       "    </tr>\n",
       "  </tbody>\n",
       "</table>\n",
       "</div>"
      ],
      "text/plain": [
       "  subreddit                                           selftext  \\\n",
       "0    travel  Never been before so dont know much  about the...   \n",
       "\n",
       "                                               title  \n",
       "0  I will have two weeks of vacation in November ...  "
      ]
     },
     "execution_count": 12,
     "metadata": {},
     "output_type": "execute_result"
    }
   ],
   "source": [
    "# showed the columns in interest\n",
    "df[['subreddit', 'selftext', 'title']].head(1)"
   ]
  },
  {
   "cell_type": "code",
   "execution_count": 13,
   "id": "0c30c870",
   "metadata": {},
   "outputs": [],
   "source": [
    "# create function for collecting data\n",
    "# credit: https://www.youtube.com/watch?v=AcrjEWsMi_E and class note\n",
    "\n",
    "# create instance for URL\n",
    "url = 'https://api.pushshift.io/reddit/search/submission'\n",
    "\n",
    "# loop n_requests iterations\n",
    "def webScrape(subreddit, url, data_name, n_requests):  \n",
    "    df_final =  pd.DataFrame(columns=['subreddit', 'selftext', 'title', 'distinguished', 'author',\n",
    "                                      'removed_by_category', 'num_comments', 'utc_datetime_str'])\n",
    "    for i in range(1,n_requests):                # set up request range based on 1000 post per run\n",
    "        if i==1:\n",
    "            params = {'subreddit': subreddit, \n",
    "                      'size': 1000}              # limit to 1000 posts per run\n",
    "        else:\n",
    "            params = {'subreddit': subreddit, \n",
    "                      'size': 1000,\n",
    "                      'before': before}\n",
    "        \n",
    "        res = requests.get(url, params)          # set up response  \n",
    "        if res.status_code != 200:               # check for errors and raise ConnectionError if there is one\n",
    "            raise ConnectionError(f'Error code:{res.status_code} has occured.')\n",
    "            \n",
    "        data = res.json()\n",
    "        posts = data['data']\n",
    "        df = pd.DataFrame(posts)                 # turned dictionary to dataframe\n",
    "        df = df[['subreddit', 'selftext', 'title', 'distinguished', 'author', 'removed_by_category', 'num_comments', 'utc_datetime_str']]  # showed the columns in interest\n",
    "        df_final = pd.concat([df_final, df])         # combined the dataframe\n",
    "        before = posts[-1]['created_utc']        # show the post before certain time\n",
    "        time.sleep(3)                            # re-attempting collection after 3 sec if api is overloaded\n",
    "    \n",
    "    # drop duplicate rows that may have been pulled:\n",
    "    df_final.drop_duplicates(subset='title', keep='first', inplace = True)\n",
    "    \n",
    "    #Save the DataFrame as a .csv file\n",
    "    df_final.to_csv('../data/' + str(data_name) + '.csv', index = False, sep = \",\")\n",
    "    \n",
    "    # print number of posts pulled\n",
    "    print(f\"Total of posts were downloaded: {df_final.shape[0]}\")\n",
    "    "
   ]
  },
  {
   "cell_type": "markdown",
   "id": "37cb17aa",
   "metadata": {},
   "source": [
    "### WebScrape for first subraddit: travel"
   ]
  },
  {
   "cell_type": "code",
   "execution_count": 104,
   "id": "c31656de",
   "metadata": {
    "scrolled": true
   },
   "outputs": [
    {
     "name": "stdout",
     "output_type": "stream",
     "text": [
      "Total of posts were downloaded: 1930\n"
     ]
    }
   ],
   "source": [
    "#webScrape('travel', url, 'travel_post_2000', 3)"
   ]
  },
  {
   "cell_type": "code",
   "execution_count": 105,
   "id": "bf8c1240",
   "metadata": {},
   "outputs": [],
   "source": [
    "#chcek_df = pd.read_csv('../data/travel_post_2000.csv')"
   ]
  },
  {
   "cell_type": "code",
   "execution_count": 97,
   "id": "54348f82",
   "metadata": {},
   "outputs": [],
   "source": [
    "#duplicated_title = chcek_df[\"title\"].duplicated(keep=False)\n",
    "#duplicated_selftext = chcek_df[\"selftext\"].duplicated(keep=False)"
   ]
  },
  {
   "cell_type": "code",
   "execution_count": 98,
   "id": "e6a49d86",
   "metadata": {},
   "outputs": [],
   "source": [
    "#saving the index of identified duplicated rows\n",
    "#title_index = chcek_df[\"title\"][duplicated_title].sort_values().index\n",
    "#selftext_index = chcek_df[\"selftext\"][duplicated_selftext].sort_values().index"
   ]
  },
  {
   "cell_type": "code",
   "execution_count": 102,
   "id": "70398248",
   "metadata": {
    "scrolled": true
   },
   "outputs": [
    {
     "data": {
      "text/html": [
       "<div>\n",
       "<style scoped>\n",
       "    .dataframe tbody tr th:only-of-type {\n",
       "        vertical-align: middle;\n",
       "    }\n",
       "\n",
       "    .dataframe tbody tr th {\n",
       "        vertical-align: top;\n",
       "    }\n",
       "\n",
       "    .dataframe thead th {\n",
       "        text-align: right;\n",
       "    }\n",
       "</style>\n",
       "<table border=\"1\" class=\"dataframe\">\n",
       "  <thead>\n",
       "    <tr style=\"text-align: right;\">\n",
       "      <th></th>\n",
       "      <th>subreddit</th>\n",
       "      <th>selftext</th>\n",
       "      <th>title</th>\n",
       "      <th>link_flair_css_class</th>\n",
       "      <th>id</th>\n",
       "      <th>removed_by_category</th>\n",
       "      <th>domain</th>\n",
       "      <th>num_comments</th>\n",
       "      <th>created_utc</th>\n",
       "      <th>utc_datetime_str</th>\n",
       "    </tr>\n",
       "  </thead>\n",
       "  <tbody>\n",
       "    <tr>\n",
       "      <th>1880</th>\n",
       "      <td>travel</td>\n",
       "      <td>NaN</td>\n",
       "      <td>10 Must-Visit Destinations for Adventure Trave...</td>\n",
       "      <td>NaN</td>\n",
       "      <td>121z9ku</td>\n",
       "      <td>reddit</td>\n",
       "      <td>thecomprehensiveblog.blogspot.com</td>\n",
       "      <td>0</td>\n",
       "      <td>1679778577</td>\n",
       "      <td>2023-03-25 21:09:37</td>\n",
       "    </tr>\n",
       "    <tr>\n",
       "      <th>1878</th>\n",
       "      <td>travel</td>\n",
       "      <td>[removed]</td>\n",
       "      <td>10 Must-Visit Destinations for Adventure Trave...</td>\n",
       "      <td>NaN</td>\n",
       "      <td>121zc1j</td>\n",
       "      <td>automod_filtered</td>\n",
       "      <td>self.travel</td>\n",
       "      <td>0</td>\n",
       "      <td>1679778711</td>\n",
       "      <td>2023-03-25 21:11:51</td>\n",
       "    </tr>\n",
       "    <tr>\n",
       "      <th>1607</th>\n",
       "      <td>travel</td>\n",
       "      <td>[removed]</td>\n",
       "      <td>4 Exhibitions To Warm Your Heart During Cold W...</td>\n",
       "      <td>advice</td>\n",
       "      <td>122u4di</td>\n",
       "      <td>automod_filtered</td>\n",
       "      <td>self.travel</td>\n",
       "      <td>0</td>\n",
       "      <td>1679853468</td>\n",
       "      <td>2023-03-26 17:57:48</td>\n",
       "    </tr>\n",
       "    <tr>\n",
       "      <th>1612</th>\n",
       "      <td>travel</td>\n",
       "      <td>NaN</td>\n",
       "      <td>4 Exhibitions To Warm Your Heart During Cold W...</td>\n",
       "      <td>article</td>\n",
       "      <td>122tspm</td>\n",
       "      <td>reddit</td>\n",
       "      <td>theistanbulchronicle.com</td>\n",
       "      <td>0</td>\n",
       "      <td>1679852785</td>\n",
       "      <td>2023-03-26 17:46:25</td>\n",
       "    </tr>\n",
       "    <tr>\n",
       "      <th>131</th>\n",
       "      <td>travel</td>\n",
       "      <td>NaN</td>\n",
       "      <td>A little Known Place in Japan-The Tottori Sand...</td>\n",
       "      <td>NaN</td>\n",
       "      <td>126tnvl</td>\n",
       "      <td>automod_filtered</td>\n",
       "      <td>self.travel</td>\n",
       "      <td>0</td>\n",
       "      <td>1680197425</td>\n",
       "      <td>2023-03-30 17:30:25</td>\n",
       "    </tr>\n",
       "    <tr>\n",
       "      <th>138</th>\n",
       "      <td>travel</td>\n",
       "      <td>NaN</td>\n",
       "      <td>A little Known Place in Japan-The Tottori Sand...</td>\n",
       "      <td>images</td>\n",
       "      <td>126sztv</td>\n",
       "      <td>moderator</td>\n",
       "      <td>i.redd.it</td>\n",
       "      <td>0</td>\n",
       "      <td>1680195923</td>\n",
       "      <td>2023-03-30 17:05:23</td>\n",
       "    </tr>\n",
       "    <tr>\n",
       "      <th>144</th>\n",
       "      <td>travel</td>\n",
       "      <td>NaN</td>\n",
       "      <td>ATA Safari Shop Plc – Arusha Travel Agency Ltd...</td>\n",
       "      <td>NaN</td>\n",
       "      <td>126s87n</td>\n",
       "      <td>moderator</td>\n",
       "      <td>i.redd.it</td>\n",
       "      <td>0</td>\n",
       "      <td>1680194239</td>\n",
       "      <td>2023-03-30 16:37:19</td>\n",
       "    </tr>\n",
       "    <tr>\n",
       "      <th>165</th>\n",
       "      <td>travel</td>\n",
       "      <td>[removed]</td>\n",
       "      <td>ATA Safari Shop Plc – Arusha Travel Agency Ltd...</td>\n",
       "      <td>meta</td>\n",
       "      <td>126pein</td>\n",
       "      <td>moderator</td>\n",
       "      <td>self.travel</td>\n",
       "      <td>0</td>\n",
       "      <td>1680188023</td>\n",
       "      <td>2023-03-30 14:53:43</td>\n",
       "    </tr>\n",
       "    <tr>\n",
       "      <th>166</th>\n",
       "      <td>travel</td>\n",
       "      <td>NaN</td>\n",
       "      <td>ATA Safari Shop Plc – Arusha Travel Agency Ltd...</td>\n",
       "      <td>images</td>\n",
       "      <td>126p6r8</td>\n",
       "      <td>moderator</td>\n",
       "      <td>i.redd.it</td>\n",
       "      <td>0</td>\n",
       "      <td>1680187517</td>\n",
       "      <td>2023-03-30 14:45:17</td>\n",
       "    </tr>\n",
       "    <tr>\n",
       "      <th>167</th>\n",
       "      <td>travel</td>\n",
       "      <td>NaN</td>\n",
       "      <td>ATA Safari Shop Plc – Arusha Travel Agency Ltd...</td>\n",
       "      <td>images</td>\n",
       "      <td>126p60j</td>\n",
       "      <td>moderator</td>\n",
       "      <td>i.redd.it</td>\n",
       "      <td>0</td>\n",
       "      <td>1680187468</td>\n",
       "      <td>2023-03-30 14:44:28</td>\n",
       "    </tr>\n",
       "    <tr>\n",
       "      <th>842</th>\n",
       "      <td>travel</td>\n",
       "      <td>NaN</td>\n",
       "      <td>Andaman and Nicobar Islands, India</td>\n",
       "      <td>NaN</td>\n",
       "      <td>124xpbj</td>\n",
       "      <td>moderator</td>\n",
       "      <td>reddit.com</td>\n",
       "      <td>0</td>\n",
       "      <td>1680028059</td>\n",
       "      <td>2023-03-28 18:27:39</td>\n",
       "    </tr>\n",
       "    <tr>\n",
       "      <th>843</th>\n",
       "      <td>travel</td>\n",
       "      <td>NaN</td>\n",
       "      <td>Andaman and Nicobar Islands, India</td>\n",
       "      <td>NaN</td>\n",
       "      <td>124xka7</td>\n",
       "      <td>moderator</td>\n",
       "      <td>reddit.com</td>\n",
       "      <td>0</td>\n",
       "      <td>1680027749</td>\n",
       "      <td>2023-03-28 18:22:29</td>\n",
       "    </tr>\n",
       "    <tr>\n",
       "      <th>875</th>\n",
       "      <td>travel</td>\n",
       "      <td>NaN</td>\n",
       "      <td>Best Parks in Jacksonville</td>\n",
       "      <td>NaN</td>\n",
       "      <td>124ulcp</td>\n",
       "      <td>reddit</td>\n",
       "      <td>vocal.media</td>\n",
       "      <td>0</td>\n",
       "      <td>1680021443</td>\n",
       "      <td>2023-03-28 16:37:23</td>\n",
       "    </tr>\n",
       "    <tr>\n",
       "      <th>1377</th>\n",
       "      <td>travel</td>\n",
       "      <td>[removed]</td>\n",
       "      <td>Best Parks in Jacksonville</td>\n",
       "      <td>NaN</td>\n",
       "      <td>123kuj4</td>\n",
       "      <td>reddit</td>\n",
       "      <td>self.travel</td>\n",
       "      <td>0</td>\n",
       "      <td>1679918196</td>\n",
       "      <td>2023-03-27 11:56:36</td>\n",
       "    </tr>\n",
       "    <tr>\n",
       "      <th>1379</th>\n",
       "      <td>travel</td>\n",
       "      <td>NaN</td>\n",
       "      <td>Best Parks in Jacksonville</td>\n",
       "      <td>NaN</td>\n",
       "      <td>123kiq5</td>\n",
       "      <td>reddit</td>\n",
       "      <td>tumblr.com</td>\n",
       "      <td>0</td>\n",
       "      <td>1679917236</td>\n",
       "      <td>2023-03-27 11:40:36</td>\n",
       "    </tr>\n",
       "    <tr>\n",
       "      <th>1982</th>\n",
       "      <td>travel</td>\n",
       "      <td>Hi guys, \\n\\nI am traveling around Europe for ...</td>\n",
       "      <td>Best way to meet locals?</td>\n",
       "      <td>question</td>\n",
       "      <td>121pcye</td>\n",
       "      <td>NaN</td>\n",
       "      <td>self.travel</td>\n",
       "      <td>0</td>\n",
       "      <td>1679758055</td>\n",
       "      <td>2023-03-25 15:27:35</td>\n",
       "    </tr>\n",
       "    <tr>\n",
       "      <th>1985</th>\n",
       "      <td>travel</td>\n",
       "      <td>[removed]</td>\n",
       "      <td>Best way to meet locals?</td>\n",
       "      <td>question</td>\n",
       "      <td>121p6g5</td>\n",
       "      <td>automod_filtered</td>\n",
       "      <td>self.travel</td>\n",
       "      <td>0</td>\n",
       "      <td>1679757665</td>\n",
       "      <td>2023-03-25 15:21:05</td>\n",
       "    </tr>\n",
       "    <tr>\n",
       "      <th>868</th>\n",
       "      <td>travel</td>\n",
       "      <td>[removed]</td>\n",
       "      <td>Booking Round Trip Flight - 1 Direction Busine...</td>\n",
       "      <td>NaN</td>\n",
       "      <td>124vg4g</td>\n",
       "      <td>moderator</td>\n",
       "      <td>self.travel</td>\n",
       "      <td>0</td>\n",
       "      <td>1680023269</td>\n",
       "      <td>2023-03-28 17:07:49</td>\n",
       "    </tr>\n",
       "    <tr>\n",
       "      <th>867</th>\n",
       "      <td>travel</td>\n",
       "      <td>[removed]</td>\n",
       "      <td>Booking Round Trip Flight - 1 Direction Busine...</td>\n",
       "      <td>NaN</td>\n",
       "      <td>124vgq5</td>\n",
       "      <td>moderator</td>\n",
       "      <td>self.travel</td>\n",
       "      <td>0</td>\n",
       "      <td>1680023308</td>\n",
       "      <td>2023-03-28 17:08:28</td>\n",
       "    </tr>\n",
       "    <tr>\n",
       "      <th>1915</th>\n",
       "      <td>travel</td>\n",
       "      <td>I am going to San francisco this summer and wo...</td>\n",
       "      <td>California Zephyr</td>\n",
       "      <td>NaN</td>\n",
       "      <td>121v6hv</td>\n",
       "      <td>NaN</td>\n",
       "      <td>self.travel</td>\n",
       "      <td>1</td>\n",
       "      <td>1679770000</td>\n",
       "      <td>2023-03-25 18:46:40</td>\n",
       "    </tr>\n",
       "  </tbody>\n",
       "</table>\n",
       "</div>"
      ],
      "text/plain": [
       "     subreddit                                           selftext  \\\n",
       "1880    travel                                                NaN   \n",
       "1878    travel                                          [removed]   \n",
       "1607    travel                                          [removed]   \n",
       "1612    travel                                                NaN   \n",
       "131     travel                                                NaN   \n",
       "138     travel                                                NaN   \n",
       "144     travel                                                NaN   \n",
       "165     travel                                          [removed]   \n",
       "166     travel                                                NaN   \n",
       "167     travel                                                NaN   \n",
       "842     travel                                                NaN   \n",
       "843     travel                                                NaN   \n",
       "875     travel                                                NaN   \n",
       "1377    travel                                          [removed]   \n",
       "1379    travel                                                NaN   \n",
       "1982    travel  Hi guys, \\n\\nI am traveling around Europe for ...   \n",
       "1985    travel                                          [removed]   \n",
       "868     travel                                          [removed]   \n",
       "867     travel                                          [removed]   \n",
       "1915    travel  I am going to San francisco this summer and wo...   \n",
       "\n",
       "                                                  title link_flair_css_class  \\\n",
       "1880  10 Must-Visit Destinations for Adventure Trave...                  NaN   \n",
       "1878  10 Must-Visit Destinations for Adventure Trave...                  NaN   \n",
       "1607  4 Exhibitions To Warm Your Heart During Cold W...               advice   \n",
       "1612  4 Exhibitions To Warm Your Heart During Cold W...              article   \n",
       "131   A little Known Place in Japan-The Tottori Sand...                  NaN   \n",
       "138   A little Known Place in Japan-The Tottori Sand...               images   \n",
       "144   ATA Safari Shop Plc – Arusha Travel Agency Ltd...                  NaN   \n",
       "165   ATA Safari Shop Plc – Arusha Travel Agency Ltd...                 meta   \n",
       "166   ATA Safari Shop Plc – Arusha Travel Agency Ltd...               images   \n",
       "167   ATA Safari Shop Plc – Arusha Travel Agency Ltd...               images   \n",
       "842                  Andaman and Nicobar Islands, India                  NaN   \n",
       "843                  Andaman and Nicobar Islands, India                  NaN   \n",
       "875                          Best Parks in Jacksonville                  NaN   \n",
       "1377                         Best Parks in Jacksonville                  NaN   \n",
       "1379                         Best Parks in Jacksonville                  NaN   \n",
       "1982                           Best way to meet locals?             question   \n",
       "1985                           Best way to meet locals?             question   \n",
       "868   Booking Round Trip Flight - 1 Direction Busine...                  NaN   \n",
       "867   Booking Round Trip Flight - 1 Direction Busine...                  NaN   \n",
       "1915                                  California Zephyr                  NaN   \n",
       "\n",
       "           id removed_by_category                             domain  \\\n",
       "1880  121z9ku              reddit  thecomprehensiveblog.blogspot.com   \n",
       "1878  121zc1j    automod_filtered                        self.travel   \n",
       "1607  122u4di    automod_filtered                        self.travel   \n",
       "1612  122tspm              reddit           theistanbulchronicle.com   \n",
       "131   126tnvl    automod_filtered                        self.travel   \n",
       "138   126sztv           moderator                          i.redd.it   \n",
       "144   126s87n           moderator                          i.redd.it   \n",
       "165   126pein           moderator                        self.travel   \n",
       "166   126p6r8           moderator                          i.redd.it   \n",
       "167   126p60j           moderator                          i.redd.it   \n",
       "842   124xpbj           moderator                         reddit.com   \n",
       "843   124xka7           moderator                         reddit.com   \n",
       "875   124ulcp              reddit                        vocal.media   \n",
       "1377  123kuj4              reddit                        self.travel   \n",
       "1379  123kiq5              reddit                         tumblr.com   \n",
       "1982  121pcye                 NaN                        self.travel   \n",
       "1985  121p6g5    automod_filtered                        self.travel   \n",
       "868   124vg4g           moderator                        self.travel   \n",
       "867   124vgq5           moderator                        self.travel   \n",
       "1915  121v6hv                 NaN                        self.travel   \n",
       "\n",
       "      num_comments  created_utc     utc_datetime_str  \n",
       "1880             0   1679778577  2023-03-25 21:09:37  \n",
       "1878             0   1679778711  2023-03-25 21:11:51  \n",
       "1607             0   1679853468  2023-03-26 17:57:48  \n",
       "1612             0   1679852785  2023-03-26 17:46:25  \n",
       "131              0   1680197425  2023-03-30 17:30:25  \n",
       "138              0   1680195923  2023-03-30 17:05:23  \n",
       "144              0   1680194239  2023-03-30 16:37:19  \n",
       "165              0   1680188023  2023-03-30 14:53:43  \n",
       "166              0   1680187517  2023-03-30 14:45:17  \n",
       "167              0   1680187468  2023-03-30 14:44:28  \n",
       "842              0   1680028059  2023-03-28 18:27:39  \n",
       "843              0   1680027749  2023-03-28 18:22:29  \n",
       "875              0   1680021443  2023-03-28 16:37:23  \n",
       "1377             0   1679918196  2023-03-27 11:56:36  \n",
       "1379             0   1679917236  2023-03-27 11:40:36  \n",
       "1982             0   1679758055  2023-03-25 15:27:35  \n",
       "1985             0   1679757665  2023-03-25 15:21:05  \n",
       "868              0   1680023269  2023-03-28 17:07:49  \n",
       "867              0   1680023308  2023-03-28 17:08:28  \n",
       "1915             1   1679770000  2023-03-25 18:46:40  "
      ]
     },
     "execution_count": 102,
     "metadata": {},
     "output_type": "execute_result"
    }
   ],
   "source": [
    "#print first 10 rows of duplicated rows\n",
    "#chcek_df.loc[title_index].head(20)"
   ]
  },
  {
   "cell_type": "code",
   "execution_count": 101,
   "id": "c2961358",
   "metadata": {},
   "outputs": [
    {
     "data": {
      "text/html": [
       "<div>\n",
       "<style scoped>\n",
       "    .dataframe tbody tr th:only-of-type {\n",
       "        vertical-align: middle;\n",
       "    }\n",
       "\n",
       "    .dataframe tbody tr th {\n",
       "        vertical-align: top;\n",
       "    }\n",
       "\n",
       "    .dataframe thead th {\n",
       "        text-align: right;\n",
       "    }\n",
       "</style>\n",
       "<table border=\"1\" class=\"dataframe\">\n",
       "  <thead>\n",
       "    <tr style=\"text-align: right;\">\n",
       "      <th></th>\n",
       "      <th>subreddit</th>\n",
       "      <th>selftext</th>\n",
       "      <th>title</th>\n",
       "      <th>link_flair_css_class</th>\n",
       "      <th>id</th>\n",
       "      <th>removed_by_category</th>\n",
       "      <th>domain</th>\n",
       "      <th>num_comments</th>\n",
       "      <th>created_utc</th>\n",
       "      <th>utc_datetime_str</th>\n",
       "    </tr>\n",
       "  </thead>\n",
       "  <tbody>\n",
       "    <tr>\n",
       "      <th>1977</th>\n",
       "      <td>travel</td>\n",
       "      <td>NaN</td>\n",
       "      <td>Cultural experiences</td>\n",
       "      <td>article</td>\n",
       "      <td>121py3o</td>\n",
       "      <td>reddit</td>\n",
       "      <td>jtsofttech.com</td>\n",
       "      <td>0</td>\n",
       "      <td>1679759347</td>\n",
       "      <td>2023-03-25 15:49:07</td>\n",
       "    </tr>\n",
       "    <tr>\n",
       "      <th>1978</th>\n",
       "      <td>travel</td>\n",
       "      <td>NaN</td>\n",
       "      <td>The Connection Between Our Health and the Heal...</td>\n",
       "      <td>news</td>\n",
       "      <td>121pvft</td>\n",
       "      <td>reddit</td>\n",
       "      <td>jtsofttech.com</td>\n",
       "      <td>0</td>\n",
       "      <td>1679759182</td>\n",
       "      <td>2023-03-25 15:46:22</td>\n",
       "    </tr>\n",
       "    <tr>\n",
       "      <th>1981</th>\n",
       "      <td>travel</td>\n",
       "      <td>NaN</td>\n",
       "      <td>Virtual Walk on Dolphin Island Philippines</td>\n",
       "      <td>video</td>\n",
       "      <td>121plk5</td>\n",
       "      <td>moderator</td>\n",
       "      <td>youtu.be</td>\n",
       "      <td>0</td>\n",
       "      <td>1679758578</td>\n",
       "      <td>2023-03-25 15:36:18</td>\n",
       "    </tr>\n",
       "    <tr>\n",
       "      <th>1983</th>\n",
       "      <td>travel</td>\n",
       "      <td>NaN</td>\n",
       "      <td>Trip to Reykjavík | Iceland Travel Guide</td>\n",
       "      <td>NaN</td>\n",
       "      <td>121p8z7</td>\n",
       "      <td>reddit</td>\n",
       "      <td>bestplacevisit.com</td>\n",
       "      <td>0</td>\n",
       "      <td>1679757812</td>\n",
       "      <td>2023-03-25 15:23:32</td>\n",
       "    </tr>\n",
       "    <tr>\n",
       "      <th>1988</th>\n",
       "      <td>travel</td>\n",
       "      <td>NaN</td>\n",
       "      <td>Make Money Online Effortlessly with EarnEase</td>\n",
       "      <td>NaN</td>\n",
       "      <td>121or2y</td>\n",
       "      <td>reddit</td>\n",
       "      <td>share.earnease.net</td>\n",
       "      <td>0</td>\n",
       "      <td>1679756749</td>\n",
       "      <td>2023-03-25 15:05:49</td>\n",
       "    </tr>\n",
       "    <tr>\n",
       "      <th>1989</th>\n",
       "      <td>travel</td>\n",
       "      <td>NaN</td>\n",
       "      <td>I am interested in having a trip to Montana ma...</td>\n",
       "      <td>question</td>\n",
       "      <td>121onkb</td>\n",
       "      <td>automod_filtered</td>\n",
       "      <td>self.travel</td>\n",
       "      <td>0</td>\n",
       "      <td>1679756551</td>\n",
       "      <td>2023-03-25 15:02:31</td>\n",
       "    </tr>\n",
       "    <tr>\n",
       "      <th>1990</th>\n",
       "      <td>travel</td>\n",
       "      <td>NaN</td>\n",
       "      <td>You have one chance to make someone fall in lo...</td>\n",
       "      <td>advice</td>\n",
       "      <td>121ofz8</td>\n",
       "      <td>automod_filtered</td>\n",
       "      <td>self.travel</td>\n",
       "      <td>0</td>\n",
       "      <td>1679756209</td>\n",
       "      <td>2023-03-25 14:56:49</td>\n",
       "    </tr>\n",
       "    <tr>\n",
       "      <th>1993</th>\n",
       "      <td>travel</td>\n",
       "      <td>NaN</td>\n",
       "      <td>A neat pic of the moon from Bahamas</td>\n",
       "      <td>images</td>\n",
       "      <td>121o8zf</td>\n",
       "      <td>moderator</td>\n",
       "      <td>i.redd.it</td>\n",
       "      <td>0</td>\n",
       "      <td>1679755902</td>\n",
       "      <td>2023-03-25 14:51:42</td>\n",
       "    </tr>\n",
       "    <tr>\n",
       "      <th>1997</th>\n",
       "      <td>travel</td>\n",
       "      <td>NaN</td>\n",
       "      <td>I like to travel a lot. how do you like</td>\n",
       "      <td>NaN</td>\n",
       "      <td>121nlag</td>\n",
       "      <td>automod_filtered</td>\n",
       "      <td>self.travel</td>\n",
       "      <td>0</td>\n",
       "      <td>1679754822</td>\n",
       "      <td>2023-03-25 14:33:42</td>\n",
       "    </tr>\n",
       "    <tr>\n",
       "      <th>1999</th>\n",
       "      <td>travel</td>\n",
       "      <td>NaN</td>\n",
       "      <td>Coliseo, Rome Italy</td>\n",
       "      <td>images</td>\n",
       "      <td>121nb94</td>\n",
       "      <td>automod_filtered</td>\n",
       "      <td>reddit.com</td>\n",
       "      <td>0</td>\n",
       "      <td>1679754213</td>\n",
       "      <td>2023-03-25 14:23:33</td>\n",
       "    </tr>\n",
       "  </tbody>\n",
       "</table>\n",
       "</div>"
      ],
      "text/plain": [
       "     subreddit selftext                                              title  \\\n",
       "1977    travel      NaN                               Cultural experiences   \n",
       "1978    travel      NaN  The Connection Between Our Health and the Heal...   \n",
       "1981    travel      NaN         Virtual Walk on Dolphin Island Philippines   \n",
       "1983    travel      NaN           Trip to Reykjavík | Iceland Travel Guide   \n",
       "1988    travel      NaN       Make Money Online Effortlessly with EarnEase   \n",
       "1989    travel      NaN  I am interested in having a trip to Montana ma...   \n",
       "1990    travel      NaN  You have one chance to make someone fall in lo...   \n",
       "1993    travel      NaN                A neat pic of the moon from Bahamas   \n",
       "1997    travel      NaN            I like to travel a lot. how do you like   \n",
       "1999    travel      NaN                                Coliseo, Rome Italy   \n",
       "\n",
       "     link_flair_css_class       id removed_by_category              domain  \\\n",
       "1977              article  121py3o              reddit      jtsofttech.com   \n",
       "1978                 news  121pvft              reddit      jtsofttech.com   \n",
       "1981                video  121plk5           moderator            youtu.be   \n",
       "1983                  NaN  121p8z7              reddit  bestplacevisit.com   \n",
       "1988                  NaN  121or2y              reddit  share.earnease.net   \n",
       "1989             question  121onkb    automod_filtered         self.travel   \n",
       "1990               advice  121ofz8    automod_filtered         self.travel   \n",
       "1993               images  121o8zf           moderator           i.redd.it   \n",
       "1997                  NaN  121nlag    automod_filtered         self.travel   \n",
       "1999               images  121nb94    automod_filtered          reddit.com   \n",
       "\n",
       "      num_comments  created_utc     utc_datetime_str  \n",
       "1977             0   1679759347  2023-03-25 15:49:07  \n",
       "1978             0   1679759182  2023-03-25 15:46:22  \n",
       "1981             0   1679758578  2023-03-25 15:36:18  \n",
       "1983             0   1679757812  2023-03-25 15:23:32  \n",
       "1988             0   1679756749  2023-03-25 15:05:49  \n",
       "1989             0   1679756551  2023-03-25 15:02:31  \n",
       "1990             0   1679756209  2023-03-25 14:56:49  \n",
       "1993             0   1679755902  2023-03-25 14:51:42  \n",
       "1997             0   1679754822  2023-03-25 14:33:42  \n",
       "1999             0   1679754213  2023-03-25 14:23:33  "
      ]
     },
     "execution_count": 101,
     "metadata": {},
     "output_type": "execute_result"
    }
   ],
   "source": [
    "#print first 10 rows of duplicated rows\n",
    "#chcek_df.loc[selftext_index].tail(10)"
   ]
  },
  {
   "cell_type": "code",
   "execution_count": 14,
   "id": "26830cc0",
   "metadata": {
    "scrolled": true
   },
   "outputs": [
    {
     "name": "stdout",
     "output_type": "stream",
     "text": [
      "Total of posts were downloaded: 3871\n"
     ]
    }
   ],
   "source": [
    "webScrape('travel', url, 'travel_post_4000', 5)"
   ]
  },
  {
   "cell_type": "code",
   "execution_count": 15,
   "id": "dbe69253",
   "metadata": {
    "scrolled": true
   },
   "outputs": [
    {
     "name": "stdout",
     "output_type": "stream",
     "text": [
      "Total of posts were downloaded: 7739\n"
     ]
    }
   ],
   "source": [
    "webScrape('travel', url, 'travel_post_8000', 9)"
   ]
  },
  {
   "cell_type": "code",
   "execution_count": 16,
   "id": "38f80bc9",
   "metadata": {},
   "outputs": [
    {
     "name": "stdout",
     "output_type": "stream",
     "text": [
      "Total of posts were downloaded: 19354\n"
     ]
    }
   ],
   "source": [
    "webScrape('travel', url, 'travel_post_20000', 21)"
   ]
  },
  {
   "cell_type": "code",
   "execution_count": 17,
   "id": "7e6327bb",
   "metadata": {},
   "outputs": [],
   "source": [
    "travel_df1 = pd.read_csv('../data/travel_post_4000.csv')\n",
    "travel_df2 = pd.read_csv('../data/travel_post_8000.csv')\n",
    "travel_df = pd.read_csv('../data/travel_post_20000.csv')"
   ]
  },
  {
   "cell_type": "code",
   "execution_count": 18,
   "id": "9ddd7f22",
   "metadata": {},
   "outputs": [
    {
     "data": {
      "text/plain": [
       "((3871, 8), (7739, 8))"
      ]
     },
     "execution_count": 18,
     "metadata": {},
     "output_type": "execute_result"
    }
   ],
   "source": [
    "travel_df1.shape, travel_df2.shape"
   ]
  },
  {
   "cell_type": "code",
   "execution_count": 19,
   "id": "c13cb8f6",
   "metadata": {
    "scrolled": false
   },
   "outputs": [
    {
     "data": {
      "text/html": [
       "<div>\n",
       "<style scoped>\n",
       "    .dataframe tbody tr th:only-of-type {\n",
       "        vertical-align: middle;\n",
       "    }\n",
       "\n",
       "    .dataframe tbody tr th {\n",
       "        vertical-align: top;\n",
       "    }\n",
       "\n",
       "    .dataframe thead th {\n",
       "        text-align: right;\n",
       "    }\n",
       "</style>\n",
       "<table border=\"1\" class=\"dataframe\">\n",
       "  <thead>\n",
       "    <tr style=\"text-align: right;\">\n",
       "      <th></th>\n",
       "      <th>subreddit</th>\n",
       "      <th>selftext</th>\n",
       "      <th>title</th>\n",
       "      <th>distinguished</th>\n",
       "      <th>author</th>\n",
       "      <th>removed_by_category</th>\n",
       "      <th>num_comments</th>\n",
       "      <th>utc_datetime_str</th>\n",
       "    </tr>\n",
       "  </thead>\n",
       "  <tbody>\n",
       "    <tr>\n",
       "      <th>0</th>\n",
       "      <td>travel</td>\n",
       "      <td>NaN</td>\n",
       "      <td>Long way back home!</td>\n",
       "      <td>NaN</td>\n",
       "      <td>Kaydno419</td>\n",
       "      <td>moderator</td>\n",
       "      <td>0</td>\n",
       "      <td>2023-04-02 07:02:34</td>\n",
       "    </tr>\n",
       "    <tr>\n",
       "      <th>1</th>\n",
       "      <td>travel</td>\n",
       "      <td>Planning a trip for 4 nights in Corfu and was ...</td>\n",
       "      <td>How expensive is Corfu?</td>\n",
       "      <td>NaN</td>\n",
       "      <td>Nikiad</td>\n",
       "      <td>NaN</td>\n",
       "      <td>0</td>\n",
       "      <td>2023-04-02 06:56:25</td>\n",
       "    </tr>\n",
       "    <tr>\n",
       "      <th>2</th>\n",
       "      <td>travel</td>\n",
       "      <td>I’ve heard that if you go to Costa Rica withou...</td>\n",
       "      <td>Winging it in Costa Rica</td>\n",
       "      <td>NaN</td>\n",
       "      <td>lucylovesugly1</td>\n",
       "      <td>NaN</td>\n",
       "      <td>1</td>\n",
       "      <td>2023-04-02 06:53:38</td>\n",
       "    </tr>\n",
       "    <tr>\n",
       "      <th>3</th>\n",
       "      <td>travel</td>\n",
       "      <td>My husband and I can’t decide where to go for ...</td>\n",
       "      <td>Anniversary trip ideas in the US</td>\n",
       "      <td>NaN</td>\n",
       "      <td>HelloKiks</td>\n",
       "      <td>NaN</td>\n",
       "      <td>0</td>\n",
       "      <td>2023-04-02 06:49:24</td>\n",
       "    </tr>\n",
       "    <tr>\n",
       "      <th>4</th>\n",
       "      <td>travel</td>\n",
       "      <td>[removed]</td>\n",
       "      <td>Road Trip Ideas For The Pacific Coast Highway</td>\n",
       "      <td>NaN</td>\n",
       "      <td>Ocheson360</td>\n",
       "      <td>reddit</td>\n",
       "      <td>0</td>\n",
       "      <td>2023-04-02 06:44:36</td>\n",
       "    </tr>\n",
       "  </tbody>\n",
       "</table>\n",
       "</div>"
      ],
      "text/plain": [
       "  subreddit                                           selftext  \\\n",
       "0    travel                                                NaN   \n",
       "1    travel  Planning a trip for 4 nights in Corfu and was ...   \n",
       "2    travel  I’ve heard that if you go to Costa Rica withou...   \n",
       "3    travel  My husband and I can’t decide where to go for ...   \n",
       "4    travel                                          [removed]   \n",
       "\n",
       "                                           title  distinguished  \\\n",
       "0                            Long way back home!            NaN   \n",
       "1                        How expensive is Corfu?            NaN   \n",
       "2                       Winging it in Costa Rica            NaN   \n",
       "3               Anniversary trip ideas in the US            NaN   \n",
       "4  Road Trip Ideas For The Pacific Coast Highway            NaN   \n",
       "\n",
       "           author removed_by_category  num_comments     utc_datetime_str  \n",
       "0       Kaydno419           moderator             0  2023-04-02 07:02:34  \n",
       "1          Nikiad                 NaN             0  2023-04-02 06:56:25  \n",
       "2  lucylovesugly1                 NaN             1  2023-04-02 06:53:38  \n",
       "3       HelloKiks                 NaN             0  2023-04-02 06:49:24  \n",
       "4      Ocheson360              reddit             0  2023-04-02 06:44:36  "
      ]
     },
     "execution_count": 19,
     "metadata": {},
     "output_type": "execute_result"
    }
   ],
   "source": [
    "travel_df1.head()"
   ]
  },
  {
   "cell_type": "code",
   "execution_count": 20,
   "id": "ea9aab90",
   "metadata": {
    "scrolled": false
   },
   "outputs": [
    {
     "data": {
      "text/html": [
       "<div>\n",
       "<style scoped>\n",
       "    .dataframe tbody tr th:only-of-type {\n",
       "        vertical-align: middle;\n",
       "    }\n",
       "\n",
       "    .dataframe tbody tr th {\n",
       "        vertical-align: top;\n",
       "    }\n",
       "\n",
       "    .dataframe thead th {\n",
       "        text-align: right;\n",
       "    }\n",
       "</style>\n",
       "<table border=\"1\" class=\"dataframe\">\n",
       "  <thead>\n",
       "    <tr style=\"text-align: right;\">\n",
       "      <th></th>\n",
       "      <th>subreddit</th>\n",
       "      <th>selftext</th>\n",
       "      <th>title</th>\n",
       "      <th>distinguished</th>\n",
       "      <th>author</th>\n",
       "      <th>removed_by_category</th>\n",
       "      <th>num_comments</th>\n",
       "      <th>utc_datetime_str</th>\n",
       "    </tr>\n",
       "  </thead>\n",
       "  <tbody>\n",
       "    <tr>\n",
       "      <th>7734</th>\n",
       "      <td>travel</td>\n",
       "      <td>[removed]</td>\n",
       "      <td>Holidays to Turkey in 2023</td>\n",
       "      <td>NaN</td>\n",
       "      <td>maellecampion</td>\n",
       "      <td>reddit</td>\n",
       "      <td>1</td>\n",
       "      <td>2023-03-07 18:55:01</td>\n",
       "    </tr>\n",
       "    <tr>\n",
       "      <th>7735</th>\n",
       "      <td>travel</td>\n",
       "      <td>NaN</td>\n",
       "      <td>Possible Danger?</td>\n",
       "      <td>NaN</td>\n",
       "      <td>Reasonable_Dog1652</td>\n",
       "      <td>moderator</td>\n",
       "      <td>0</td>\n",
       "      <td>2023-03-07 18:50:53</td>\n",
       "    </tr>\n",
       "    <tr>\n",
       "      <th>7736</th>\n",
       "      <td>travel</td>\n",
       "      <td>NaN</td>\n",
       "      <td>Wanting to continue to feed my soul and spirit...</td>\n",
       "      <td>NaN</td>\n",
       "      <td>prestonsouthwind</td>\n",
       "      <td>reddit</td>\n",
       "      <td>0</td>\n",
       "      <td>2023-03-07 18:47:57</td>\n",
       "    </tr>\n",
       "    <tr>\n",
       "      <th>7737</th>\n",
       "      <td>travel</td>\n",
       "      <td>NaN</td>\n",
       "      <td>What do y’all recommend me to do or where to g...</td>\n",
       "      <td>NaN</td>\n",
       "      <td>shelltepin</td>\n",
       "      <td>automod_filtered</td>\n",
       "      <td>0</td>\n",
       "      <td>2023-03-07 18:34:36</td>\n",
       "    </tr>\n",
       "    <tr>\n",
       "      <th>7738</th>\n",
       "      <td>travel</td>\n",
       "      <td>NaN</td>\n",
       "      <td>Fundraiser for Adventuring, Connecting with Na...</td>\n",
       "      <td>NaN</td>\n",
       "      <td>prestonsouthwind</td>\n",
       "      <td>reddit</td>\n",
       "      <td>0</td>\n",
       "      <td>2023-03-07 18:30:35</td>\n",
       "    </tr>\n",
       "  </tbody>\n",
       "</table>\n",
       "</div>"
      ],
      "text/plain": [
       "     subreddit   selftext                                              title  \\\n",
       "7734    travel  [removed]                         Holidays to Turkey in 2023   \n",
       "7735    travel        NaN                                   Possible Danger?   \n",
       "7736    travel        NaN  Wanting to continue to feed my soul and spirit...   \n",
       "7737    travel        NaN  What do y’all recommend me to do or where to g...   \n",
       "7738    travel        NaN  Fundraiser for Adventuring, Connecting with Na...   \n",
       "\n",
       "      distinguished              author removed_by_category  num_comments  \\\n",
       "7734            NaN       maellecampion              reddit             1   \n",
       "7735            NaN  Reasonable_Dog1652           moderator             0   \n",
       "7736            NaN    prestonsouthwind              reddit             0   \n",
       "7737            NaN          shelltepin    automod_filtered             0   \n",
       "7738            NaN    prestonsouthwind              reddit             0   \n",
       "\n",
       "         utc_datetime_str  \n",
       "7734  2023-03-07 18:55:01  \n",
       "7735  2023-03-07 18:50:53  \n",
       "7736  2023-03-07 18:47:57  \n",
       "7737  2023-03-07 18:34:36  \n",
       "7738  2023-03-07 18:30:35  "
      ]
     },
     "execution_count": 20,
     "metadata": {},
     "output_type": "execute_result"
    }
   ],
   "source": [
    "travel_df2.tail()"
   ]
  },
  {
   "cell_type": "code",
   "execution_count": 21,
   "id": "6e53a837",
   "metadata": {
    "scrolled": true
   },
   "outputs": [
    {
     "data": {
      "text/html": [
       "<div>\n",
       "<style scoped>\n",
       "    .dataframe tbody tr th:only-of-type {\n",
       "        vertical-align: middle;\n",
       "    }\n",
       "\n",
       "    .dataframe tbody tr th {\n",
       "        vertical-align: top;\n",
       "    }\n",
       "\n",
       "    .dataframe thead th {\n",
       "        text-align: right;\n",
       "    }\n",
       "</style>\n",
       "<table border=\"1\" class=\"dataframe\">\n",
       "  <thead>\n",
       "    <tr style=\"text-align: right;\">\n",
       "      <th></th>\n",
       "      <th>subreddit</th>\n",
       "      <th>selftext</th>\n",
       "      <th>title</th>\n",
       "      <th>distinguished</th>\n",
       "      <th>author</th>\n",
       "      <th>removed_by_category</th>\n",
       "      <th>num_comments</th>\n",
       "      <th>utc_datetime_str</th>\n",
       "    </tr>\n",
       "  </thead>\n",
       "  <tbody>\n",
       "    <tr>\n",
       "      <th>19349</th>\n",
       "      <td>travel</td>\n",
       "      <td>Ok, I have two passports. Here’s my question:\\...</td>\n",
       "      <td>Can I get a visa on my second passport after m...</td>\n",
       "      <td>NaN</td>\n",
       "      <td>Suitable_Ad_7564</td>\n",
       "      <td>NaN</td>\n",
       "      <td>0</td>\n",
       "      <td>2023-01-23 23:31:12</td>\n",
       "    </tr>\n",
       "    <tr>\n",
       "      <th>19350</th>\n",
       "      <td>travel</td>\n",
       "      <td>[removed]</td>\n",
       "      <td>Kagoshima taxis</td>\n",
       "      <td>NaN</td>\n",
       "      <td>Louisemariette</td>\n",
       "      <td>reddit</td>\n",
       "      <td>0</td>\n",
       "      <td>2023-01-23 23:27:38</td>\n",
       "    </tr>\n",
       "    <tr>\n",
       "      <th>19351</th>\n",
       "      <td>travel</td>\n",
       "      <td>Hello, I will be travling to Lithuania and sta...</td>\n",
       "      <td>Travel Insurance for Lithuanian Visa</td>\n",
       "      <td>NaN</td>\n",
       "      <td>Sepabo</td>\n",
       "      <td>NaN</td>\n",
       "      <td>0</td>\n",
       "      <td>2023-01-23 23:24:16</td>\n",
       "    </tr>\n",
       "    <tr>\n",
       "      <th>19352</th>\n",
       "      <td>travel</td>\n",
       "      <td>NaN</td>\n",
       "      <td>We traveled across the country in 4 days!!!! …...</td>\n",
       "      <td>NaN</td>\n",
       "      <td>Flimsy-Abrocoma9682</td>\n",
       "      <td>moderator</td>\n",
       "      <td>0</td>\n",
       "      <td>2023-01-23 23:22:34</td>\n",
       "    </tr>\n",
       "    <tr>\n",
       "      <th>19353</th>\n",
       "      <td>travel</td>\n",
       "      <td>NaN</td>\n",
       "      <td>Schönbrunn Palace Park/ Schönbrunner Schlosspa...</td>\n",
       "      <td>NaN</td>\n",
       "      <td>Peripatetic_Virgo</td>\n",
       "      <td>automod_filtered</td>\n",
       "      <td>0</td>\n",
       "      <td>2023-01-23 23:21:59</td>\n",
       "    </tr>\n",
       "  </tbody>\n",
       "</table>\n",
       "</div>"
      ],
      "text/plain": [
       "      subreddit                                           selftext  \\\n",
       "19349    travel  Ok, I have two passports. Here’s my question:\\...   \n",
       "19350    travel                                          [removed]   \n",
       "19351    travel  Hello, I will be travling to Lithuania and sta...   \n",
       "19352    travel                                                NaN   \n",
       "19353    travel                                                NaN   \n",
       "\n",
       "                                                   title  distinguished  \\\n",
       "19349  Can I get a visa on my second passport after m...            NaN   \n",
       "19350                                    Kagoshima taxis            NaN   \n",
       "19351               Travel Insurance for Lithuanian Visa            NaN   \n",
       "19352  We traveled across the country in 4 days!!!! …...            NaN   \n",
       "19353  Schönbrunn Palace Park/ Schönbrunner Schlosspa...            NaN   \n",
       "\n",
       "                    author removed_by_category  num_comments  \\\n",
       "19349     Suitable_Ad_7564                 NaN             0   \n",
       "19350       Louisemariette              reddit             0   \n",
       "19351               Sepabo                 NaN             0   \n",
       "19352  Flimsy-Abrocoma9682           moderator             0   \n",
       "19353    Peripatetic_Virgo    automod_filtered             0   \n",
       "\n",
       "          utc_datetime_str  \n",
       "19349  2023-01-23 23:31:12  \n",
       "19350  2023-01-23 23:27:38  \n",
       "19351  2023-01-23 23:24:16  \n",
       "19352  2023-01-23 23:22:34  \n",
       "19353  2023-01-23 23:21:59  "
      ]
     },
     "execution_count": 21,
     "metadata": {},
     "output_type": "execute_result"
    }
   ],
   "source": [
    "travel_df.tail()"
   ]
  },
  {
   "cell_type": "code",
   "execution_count": 22,
   "id": "e80d7395",
   "metadata": {
    "scrolled": false
   },
   "outputs": [
    {
     "data": {
      "text/plain": [
       "Index(['subreddit', 'selftext', 'title', 'distinguished', 'author',\n",
       "       'removed_by_category', 'num_comments', 'utc_datetime_str'],\n",
       "      dtype='object')"
      ]
     },
     "execution_count": 22,
     "metadata": {},
     "output_type": "execute_result"
    }
   ],
   "source": [
    "travel_df.keys()"
   ]
  },
  {
   "cell_type": "code",
   "execution_count": 23,
   "id": "a3cd064c",
   "metadata": {
    "scrolled": true
   },
   "outputs": [
    {
     "data": {
      "text/plain": [
       "[removed]                                                                                                                                                                                                                                                                                                                                                                                                 5060\n",
       "[deleted]                                                                                                                                                                                                                                                                                                                                                                                                   10\n",
       "Any info or advice on how to better research this question is greatly appreciated!                                                                                                                                                                                                                                                                                                                           2\n",
       "Visiting Singapore with some friends for 3 days.\\nStruggling to decide on hotel. If we are looking to splurge and the following are within our budget, which would you choose from our shortlist? And why?\\n\\nShangri La Orchard\\nShangri La Sentosa\\nW Sentosa\\nConrad Centennial\\nAndaz\\nFullerton\\nParkroyal                                                                                              2\n",
       "Any recommendations?                                                                                                                                                                                                                                                                                                                                                                                         2\n",
       "                                                                                                                                                                                                                                                                                                                                                                                                          ... \n",
       "To leave the airport and go into Seoul would I need anything beyond a Canadian passport?                                                                                                                                                                                                                                                                                                                     1\n",
       "Hello! I am looking for some recommendations for countries best dishes, just like the title says! I am looking to make a dish from a different country once a week or every other week! I really am wanting to make some new dishes and expand my taste buds! \\n\\n&amp;#x200B;\\n\\nThanks in advance!!!                                                                                                       1\n",
       "The visa situation is really confusing us, we are entering via the Baivet border and wondering if e visa or visa on arrival is better!                                                                                                                                                                                                                                                                       1\n",
       "Visited Sri Lanka in 2017 and it was visa on arrival and there were no issues with having to provide onward flights. I see now that the E-visa specifically mentions it’s a pre-requisite of obtaining a visa. I always prefer to book my flights in-country when I figure out my next plans. Anyone been recently and have any personal experience with being asked to show onward tickets? Thanks ✌️       1\n",
       "Hello, I will be travling to Lithuania and staying there for 5 months. Since I am from Bosnia I can be 90 without a visa. But in order to get a visa after the 90 days I need to have health insurence. Can I purchase health insurance after I arrive or do I need to buy it before.\\n\\nThanks                                                                                                              1\n",
       "Name: selftext, Length: 7680, dtype: int64"
      ]
     },
     "execution_count": 23,
     "metadata": {},
     "output_type": "execute_result"
    }
   ],
   "source": [
    "travel_df[\"selftext\"].value_counts()"
   ]
  },
  {
   "cell_type": "markdown",
   "id": "bc501c1f",
   "metadata": {},
   "source": [
    "### WebScrape for second subraddit: awardtravel"
   ]
  },
  {
   "cell_type": "code",
   "execution_count": 24,
   "id": "60096a57",
   "metadata": {
    "scrolled": true
   },
   "outputs": [
    {
     "name": "stdout",
     "output_type": "stream",
     "text": [
      "Total of posts were downloaded: 3951\n"
     ]
    }
   ],
   "source": [
    "webScrape('awardtravel', url, 'awardtravel_4000', 5)"
   ]
  },
  {
   "cell_type": "code",
   "execution_count": 25,
   "id": "d3c29243",
   "metadata": {
    "scrolled": true
   },
   "outputs": [
    {
     "name": "stdout",
     "output_type": "stream",
     "text": [
      "Total of posts were downloaded: 7777\n"
     ]
    }
   ],
   "source": [
    "webScrape('awardtravel', url, 'awardtravel_8000', 9)"
   ]
  },
  {
   "cell_type": "code",
   "execution_count": 26,
   "id": "75343f70",
   "metadata": {},
   "outputs": [
    {
     "name": "stdout",
     "output_type": "stream",
     "text": [
      "Total of posts were downloaded: 11540\n"
     ]
    }
   ],
   "source": [
    "webScrape('awardtravel', url, 'awardtravel_12000', 13)"
   ]
  },
  {
   "cell_type": "code",
   "execution_count": 27,
   "id": "c563a17d",
   "metadata": {},
   "outputs": [],
   "source": [
    "awardtravel_df1 = pd.read_csv('../data/awardtravel_4000.csv')\n",
    "awardtravel_df2 = pd.read_csv('../data/awardtravel_8000.csv')\n",
    "awardtravel_df = pd.read_csv('../data/awardtravel_12000.csv')"
   ]
  },
  {
   "cell_type": "code",
   "execution_count": 28,
   "id": "e63a0af2",
   "metadata": {
    "scrolled": true
   },
   "outputs": [
    {
     "data": {
      "text/plain": [
       "Index(['subreddit', 'selftext', 'title', 'distinguished', 'author',\n",
       "       'removed_by_category', 'num_comments', 'utc_datetime_str'],\n",
       "      dtype='object')"
      ]
     },
     "execution_count": 28,
     "metadata": {},
     "output_type": "execute_result"
    }
   ],
   "source": [
    "awardtravel_df1.keys()"
   ]
  },
  {
   "cell_type": "code",
   "execution_count": 29,
   "id": "aa0f19bb",
   "metadata": {
    "scrolled": false
   },
   "outputs": [
    {
     "data": {
      "text/html": [
       "<div>\n",
       "<style scoped>\n",
       "    .dataframe tbody tr th:only-of-type {\n",
       "        vertical-align: middle;\n",
       "    }\n",
       "\n",
       "    .dataframe tbody tr th {\n",
       "        vertical-align: top;\n",
       "    }\n",
       "\n",
       "    .dataframe thead th {\n",
       "        text-align: right;\n",
       "    }\n",
       "</style>\n",
       "<table border=\"1\" class=\"dataframe\">\n",
       "  <thead>\n",
       "    <tr style=\"text-align: right;\">\n",
       "      <th></th>\n",
       "      <th>subreddit</th>\n",
       "      <th>selftext</th>\n",
       "      <th>title</th>\n",
       "      <th>distinguished</th>\n",
       "      <th>author</th>\n",
       "      <th>removed_by_category</th>\n",
       "      <th>num_comments</th>\n",
       "      <th>utc_datetime_str</th>\n",
       "    </tr>\n",
       "  </thead>\n",
       "  <tbody>\n",
       "    <tr>\n",
       "      <th>11535</th>\n",
       "      <td>awardtravel</td>\n",
       "      <td>Are there any self parking structures around t...</td>\n",
       "      <td>Parking around Waldorf Astoria Beverly Hills h...</td>\n",
       "      <td>NaN</td>\n",
       "      <td>acivicbboi</td>\n",
       "      <td>NaN</td>\n",
       "      <td>4</td>\n",
       "      <td>2020-10-02 00:11:41</td>\n",
       "    </tr>\n",
       "    <tr>\n",
       "      <th>11536</th>\n",
       "      <td>awardtravel</td>\n",
       "      <td>I booked the Thompson Chicago with points this...</td>\n",
       "      <td>Hyatt no parking available point rebate</td>\n",
       "      <td>NaN</td>\n",
       "      <td>xcoldricex</td>\n",
       "      <td>NaN</td>\n",
       "      <td>18</td>\n",
       "      <td>2020-10-01 22:09:09</td>\n",
       "    </tr>\n",
       "    <tr>\n",
       "      <th>11537</th>\n",
       "      <td>awardtravel</td>\n",
       "      <td>Any recommendations?  I have Ziva booked for 6...</td>\n",
       "      <td>Ziva Cabo vs The Cape, a Thompson Hotel</td>\n",
       "      <td>NaN</td>\n",
       "      <td>sosamo11</td>\n",
       "      <td>NaN</td>\n",
       "      <td>37</td>\n",
       "      <td>2020-10-01 16:52:05</td>\n",
       "    </tr>\n",
       "    <tr>\n",
       "      <th>11538</th>\n",
       "      <td>awardtravel</td>\n",
       "      <td>I have 60K Lifemiles, and do not plan to trave...</td>\n",
       "      <td>Lifemiles</td>\n",
       "      <td>NaN</td>\n",
       "      <td>sosamo11</td>\n",
       "      <td>NaN</td>\n",
       "      <td>6</td>\n",
       "      <td>2020-10-01 16:00:08</td>\n",
       "    </tr>\n",
       "    <tr>\n",
       "      <th>11539</th>\n",
       "      <td>awardtravel</td>\n",
       "      <td>[deleted]</td>\n",
       "      <td>What Award Program Should I get into</td>\n",
       "      <td>NaN</td>\n",
       "      <td>[deleted]</td>\n",
       "      <td>deleted</td>\n",
       "      <td>0</td>\n",
       "      <td>2020-10-01 12:58:40</td>\n",
       "    </tr>\n",
       "  </tbody>\n",
       "</table>\n",
       "</div>"
      ],
      "text/plain": [
       "         subreddit                                           selftext  \\\n",
       "11535  awardtravel  Are there any self parking structures around t...   \n",
       "11536  awardtravel  I booked the Thompson Chicago with points this...   \n",
       "11537  awardtravel  Any recommendations?  I have Ziva booked for 6...   \n",
       "11538  awardtravel  I have 60K Lifemiles, and do not plan to trave...   \n",
       "11539  awardtravel                                          [deleted]   \n",
       "\n",
       "                                                   title distinguished  \\\n",
       "11535  Parking around Waldorf Astoria Beverly Hills h...           NaN   \n",
       "11536            Hyatt no parking available point rebate           NaN   \n",
       "11537            Ziva Cabo vs The Cape, a Thompson Hotel           NaN   \n",
       "11538                                          Lifemiles           NaN   \n",
       "11539               What Award Program Should I get into           NaN   \n",
       "\n",
       "           author removed_by_category  num_comments     utc_datetime_str  \n",
       "11535  acivicbboi                 NaN             4  2020-10-02 00:11:41  \n",
       "11536  xcoldricex                 NaN            18  2020-10-01 22:09:09  \n",
       "11537    sosamo11                 NaN            37  2020-10-01 16:52:05  \n",
       "11538    sosamo11                 NaN             6  2020-10-01 16:00:08  \n",
       "11539   [deleted]             deleted             0  2020-10-01 12:58:40  "
      ]
     },
     "execution_count": 29,
     "metadata": {},
     "output_type": "execute_result"
    }
   ],
   "source": [
    "awardtravel_df.tail()"
   ]
  },
  {
   "cell_type": "code",
   "execution_count": 30,
   "id": "64ea568a",
   "metadata": {},
   "outputs": [
    {
     "data": {
      "text/plain": [
       "((3951, 8), (7777, 8))"
      ]
     },
     "execution_count": 30,
     "metadata": {},
     "output_type": "execute_result"
    }
   ],
   "source": [
    "awardtravel_df1.shape, awardtravel_df2.shape"
   ]
  },
  {
   "cell_type": "markdown",
   "id": "a0a8607c",
   "metadata": {},
   "source": [
    "### WebScrape for third subraddit: backpacking"
   ]
  },
  {
   "cell_type": "code",
   "execution_count": 31,
   "id": "04cb91ce",
   "metadata": {},
   "outputs": [
    {
     "name": "stdout",
     "output_type": "stream",
     "text": [
      "Total of posts were downloaded: 3752\n"
     ]
    }
   ],
   "source": [
    "webScrape('backpacking', url, 'backpacking_4000', 5)"
   ]
  },
  {
   "cell_type": "code",
   "execution_count": 32,
   "id": "e939c062",
   "metadata": {},
   "outputs": [
    {
     "name": "stdout",
     "output_type": "stream",
     "text": [
      "Total of posts were downloaded: 7455\n"
     ]
    }
   ],
   "source": [
    "webScrape('backpacking', url, 'backpacking_8000', 9)"
   ]
  },
  {
   "cell_type": "code",
   "execution_count": 33,
   "id": "87ec4478",
   "metadata": {},
   "outputs": [
    {
     "name": "stdout",
     "output_type": "stream",
     "text": [
      "Total of posts were downloaded: 11178\n"
     ]
    }
   ],
   "source": [
    "webScrape('backpacking', url, 'backpacking_12000', 13)"
   ]
  },
  {
   "cell_type": "code",
   "execution_count": 34,
   "id": "b1b43145",
   "metadata": {},
   "outputs": [],
   "source": [
    "backpacking_df1 = pd.read_csv('../data/backpacking_4000.csv')\n",
    "backpacking_df2 = pd.read_csv('../data/backpacking_8000.csv')\n",
    "backpacking_df = pd.read_csv('../data/backpacking_12000.csv')"
   ]
  },
  {
   "cell_type": "code",
   "execution_count": 35,
   "id": "3e2fdaa0",
   "metadata": {
    "scrolled": true
   },
   "outputs": [
    {
     "data": {
      "text/html": [
       "<div>\n",
       "<style scoped>\n",
       "    .dataframe tbody tr th:only-of-type {\n",
       "        vertical-align: middle;\n",
       "    }\n",
       "\n",
       "    .dataframe tbody tr th {\n",
       "        vertical-align: top;\n",
       "    }\n",
       "\n",
       "    .dataframe thead th {\n",
       "        text-align: right;\n",
       "    }\n",
       "</style>\n",
       "<table border=\"1\" class=\"dataframe\">\n",
       "  <thead>\n",
       "    <tr style=\"text-align: right;\">\n",
       "      <th></th>\n",
       "      <th>subreddit</th>\n",
       "      <th>selftext</th>\n",
       "      <th>title</th>\n",
       "      <th>distinguished</th>\n",
       "      <th>author</th>\n",
       "      <th>removed_by_category</th>\n",
       "      <th>num_comments</th>\n",
       "      <th>utc_datetime_str</th>\n",
       "    </tr>\n",
       "  </thead>\n",
       "  <tbody>\n",
       "    <tr>\n",
       "      <th>11173</th>\n",
       "      <td>backpacking</td>\n",
       "      <td>NaN</td>\n",
       "      <td>The Annapurna Express अन्नपूर्ण एक्सप्रेस 🇳🇵</td>\n",
       "      <td>NaN</td>\n",
       "      <td>Globetrotter-Gary</td>\n",
       "      <td>moderator</td>\n",
       "      <td>1</td>\n",
       "      <td>2022-02-26 06:00:05</td>\n",
       "    </tr>\n",
       "    <tr>\n",
       "      <th>11174</th>\n",
       "      <td>backpacking</td>\n",
       "      <td>[removed]</td>\n",
       "      <td>Anyone have any experience with Hanwag boots f...</td>\n",
       "      <td>NaN</td>\n",
       "      <td>BobPaulson99</td>\n",
       "      <td>moderator</td>\n",
       "      <td>1</td>\n",
       "      <td>2022-02-26 03:27:18</td>\n",
       "    </tr>\n",
       "    <tr>\n",
       "      <th>11175</th>\n",
       "      <td>backpacking</td>\n",
       "      <td>[removed]</td>\n",
       "      <td>Forcibly locked for three years, Guo Wengui to...</td>\n",
       "      <td>NaN</td>\n",
       "      <td>Competitive-Eye-5505</td>\n",
       "      <td>moderator</td>\n",
       "      <td>1</td>\n",
       "      <td>2022-02-26 02:34:25</td>\n",
       "    </tr>\n",
       "    <tr>\n",
       "      <th>11176</th>\n",
       "      <td>backpacking</td>\n",
       "      <td>NaN</td>\n",
       "      <td>Epic Underwater Trip - Must See</td>\n",
       "      <td>NaN</td>\n",
       "      <td>Professional-Sun132</td>\n",
       "      <td>NaN</td>\n",
       "      <td>5</td>\n",
       "      <td>2022-02-25 23:47:55</td>\n",
       "    </tr>\n",
       "    <tr>\n",
       "      <th>11177</th>\n",
       "      <td>backpacking</td>\n",
       "      <td>NaN</td>\n",
       "      <td>Working as a goatherd in the stunning and secl...</td>\n",
       "      <td>NaN</td>\n",
       "      <td>EssayOnAPostcard</td>\n",
       "      <td>moderator</td>\n",
       "      <td>14</td>\n",
       "      <td>2022-02-25 20:57:54</td>\n",
       "    </tr>\n",
       "  </tbody>\n",
       "</table>\n",
       "</div>"
      ],
      "text/plain": [
       "         subreddit   selftext  \\\n",
       "11173  backpacking        NaN   \n",
       "11174  backpacking  [removed]   \n",
       "11175  backpacking  [removed]   \n",
       "11176  backpacking        NaN   \n",
       "11177  backpacking        NaN   \n",
       "\n",
       "                                                   title  distinguished  \\\n",
       "11173       The Annapurna Express अन्नपूर्ण एक्सप्रेस 🇳🇵            NaN   \n",
       "11174  Anyone have any experience with Hanwag boots f...            NaN   \n",
       "11175  Forcibly locked for three years, Guo Wengui to...            NaN   \n",
       "11176                    Epic Underwater Trip - Must See            NaN   \n",
       "11177  Working as a goatherd in the stunning and secl...            NaN   \n",
       "\n",
       "                     author removed_by_category  num_comments  \\\n",
       "11173     Globetrotter-Gary           moderator             1   \n",
       "11174          BobPaulson99           moderator             1   \n",
       "11175  Competitive-Eye-5505           moderator             1   \n",
       "11176   Professional-Sun132                 NaN             5   \n",
       "11177      EssayOnAPostcard           moderator            14   \n",
       "\n",
       "          utc_datetime_str  \n",
       "11173  2022-02-26 06:00:05  \n",
       "11174  2022-02-26 03:27:18  \n",
       "11175  2022-02-26 02:34:25  \n",
       "11176  2022-02-25 23:47:55  \n",
       "11177  2022-02-25 20:57:54  "
      ]
     },
     "execution_count": 35,
     "metadata": {},
     "output_type": "execute_result"
    }
   ],
   "source": [
    "backpacking_df.tail()"
   ]
  },
  {
   "cell_type": "code",
   "execution_count": 36,
   "id": "3eaa7317",
   "metadata": {
    "scrolled": true
   },
   "outputs": [
    {
     "data": {
      "text/plain": [
       "((3752, 8), (7455, 8))"
      ]
     },
     "execution_count": 36,
     "metadata": {},
     "output_type": "execute_result"
    }
   ],
   "source": [
    "backpacking_df1.shape, backpacking_df2.shape"
   ]
  },
  {
   "cell_type": "markdown",
   "id": "07e56179",
   "metadata": {},
   "source": [
    "### WebScrape for third subraddit: cruise"
   ]
  },
  {
   "cell_type": "code",
   "execution_count": 37,
   "id": "217953c3",
   "metadata": {
    "scrolled": true
   },
   "outputs": [
    {
     "name": "stdout",
     "output_type": "stream",
     "text": [
      "Total of posts were downloaded: 3946\n"
     ]
    }
   ],
   "source": [
    "webScrape('cruise', url, 'cruise_4000', 5)"
   ]
  },
  {
   "cell_type": "code",
   "execution_count": 38,
   "id": "6d782929",
   "metadata": {},
   "outputs": [
    {
     "name": "stdout",
     "output_type": "stream",
     "text": [
      "Total of posts were downloaded: 7870\n"
     ]
    }
   ],
   "source": [
    "webScrape('cruise', url, 'cruise_8000', 9)"
   ]
  },
  {
   "cell_type": "code",
   "execution_count": 39,
   "id": "64406ddb",
   "metadata": {},
   "outputs": [
    {
     "name": "stdout",
     "output_type": "stream",
     "text": [
      "Total of posts were downloaded: 11414\n"
     ]
    }
   ],
   "source": [
    "webScrape('cruise', url, 'cruise_12000', 13)"
   ]
  },
  {
   "cell_type": "code",
   "execution_count": 40,
   "id": "8034c641",
   "metadata": {},
   "outputs": [],
   "source": [
    "cruise_df1 = pd.read_csv('../data/cruise_4000.csv')\n",
    "cruise_df2 = pd.read_csv('../data/cruise_8000.csv')\n",
    "cruise_df = pd.read_csv('../data/cruise_12000.csv')"
   ]
  },
  {
   "cell_type": "code",
   "execution_count": 41,
   "id": "1480fbb6",
   "metadata": {},
   "outputs": [
    {
     "data": {
      "text/html": [
       "<div>\n",
       "<style scoped>\n",
       "    .dataframe tbody tr th:only-of-type {\n",
       "        vertical-align: middle;\n",
       "    }\n",
       "\n",
       "    .dataframe tbody tr th {\n",
       "        vertical-align: top;\n",
       "    }\n",
       "\n",
       "    .dataframe thead th {\n",
       "        text-align: right;\n",
       "    }\n",
       "</style>\n",
       "<table border=\"1\" class=\"dataframe\">\n",
       "  <thead>\n",
       "    <tr style=\"text-align: right;\">\n",
       "      <th></th>\n",
       "      <th>subreddit</th>\n",
       "      <th>selftext</th>\n",
       "      <th>title</th>\n",
       "      <th>distinguished</th>\n",
       "      <th>author</th>\n",
       "      <th>removed_by_category</th>\n",
       "      <th>num_comments</th>\n",
       "      <th>utc_datetime_str</th>\n",
       "    </tr>\n",
       "  </thead>\n",
       "  <tbody>\n",
       "    <tr>\n",
       "      <th>11409</th>\n",
       "      <td>Cruise</td>\n",
       "      <td>[removed]</td>\n",
       "      <td>How we are now witnessing the slippery slope t...</td>\n",
       "      <td>NaN</td>\n",
       "      <td>mrtrumbo</td>\n",
       "      <td>moderator</td>\n",
       "      <td>9</td>\n",
       "      <td>2021-08-22 21:08:56</td>\n",
       "    </tr>\n",
       "    <tr>\n",
       "      <th>11410</th>\n",
       "      <td>Cruise</td>\n",
       "      <td>NaN</td>\n",
       "      <td>On the Carnival Vista, is there an electric so...</td>\n",
       "      <td>NaN</td>\n",
       "      <td>Khalnik</td>\n",
       "      <td>NaN</td>\n",
       "      <td>3</td>\n",
       "      <td>2021-08-22 19:36:35</td>\n",
       "    </tr>\n",
       "    <tr>\n",
       "      <th>11411</th>\n",
       "      <td>Cruise</td>\n",
       "      <td>[deleted]</td>\n",
       "      <td>First Ever Cruise Felt Incredibly Disappointin...</td>\n",
       "      <td>NaN</td>\n",
       "      <td>[deleted]</td>\n",
       "      <td>deleted</td>\n",
       "      <td>9</td>\n",
       "      <td>2021-08-22 18:32:23</td>\n",
       "    </tr>\n",
       "    <tr>\n",
       "      <th>11412</th>\n",
       "      <td>Cruise</td>\n",
       "      <td>NaN</td>\n",
       "      <td>Q: For large families (5 people) what have you...</td>\n",
       "      <td>NaN</td>\n",
       "      <td>gvlaks</td>\n",
       "      <td>NaN</td>\n",
       "      <td>10</td>\n",
       "      <td>2021-08-22 17:59:12</td>\n",
       "    </tr>\n",
       "    <tr>\n",
       "      <th>11413</th>\n",
       "      <td>Cruise</td>\n",
       "      <td>Anyone ever do the Atlantis day pass in Nassau...</td>\n",
       "      <td>Atlantis Day Pass?</td>\n",
       "      <td>NaN</td>\n",
       "      <td>wbuttersbutt</td>\n",
       "      <td>NaN</td>\n",
       "      <td>3</td>\n",
       "      <td>2021-08-22 17:49:47</td>\n",
       "    </tr>\n",
       "  </tbody>\n",
       "</table>\n",
       "</div>"
      ],
      "text/plain": [
       "      subreddit                                           selftext  \\\n",
       "11409    Cruise                                          [removed]   \n",
       "11410    Cruise                                                NaN   \n",
       "11411    Cruise                                          [deleted]   \n",
       "11412    Cruise                                                NaN   \n",
       "11413    Cruise  Anyone ever do the Atlantis day pass in Nassau...   \n",
       "\n",
       "                                                   title  distinguished  \\\n",
       "11409  How we are now witnessing the slippery slope t...            NaN   \n",
       "11410  On the Carnival Vista, is there an electric so...            NaN   \n",
       "11411  First Ever Cruise Felt Incredibly Disappointin...            NaN   \n",
       "11412  Q: For large families (5 people) what have you...            NaN   \n",
       "11413                                 Atlantis Day Pass?            NaN   \n",
       "\n",
       "             author removed_by_category  num_comments     utc_datetime_str  \n",
       "11409      mrtrumbo           moderator             9  2021-08-22 21:08:56  \n",
       "11410       Khalnik                 NaN             3  2021-08-22 19:36:35  \n",
       "11411     [deleted]             deleted             9  2021-08-22 18:32:23  \n",
       "11412        gvlaks                 NaN            10  2021-08-22 17:59:12  \n",
       "11413  wbuttersbutt                 NaN             3  2021-08-22 17:49:47  "
      ]
     },
     "execution_count": 41,
     "metadata": {},
     "output_type": "execute_result"
    }
   ],
   "source": [
    "cruise_df.tail()"
   ]
  },
  {
   "cell_type": "markdown",
   "id": "7dafffdf",
   "metadata": {},
   "source": [
    "### WebScrape for third subraddit: TravelHacks"
   ]
  },
  {
   "cell_type": "code",
   "execution_count": 42,
   "id": "b95b24f7",
   "metadata": {},
   "outputs": [
    {
     "name": "stdout",
     "output_type": "stream",
     "text": [
      "Total of posts were downloaded: 3868\n"
     ]
    }
   ],
   "source": [
    "webScrape('TravelHacks', url, 'TravelHacks_4000', 5)"
   ]
  },
  {
   "cell_type": "code",
   "execution_count": 43,
   "id": "c626455d",
   "metadata": {},
   "outputs": [
    {
     "name": "stdout",
     "output_type": "stream",
     "text": [
      "Total of posts were downloaded: 7744\n"
     ]
    }
   ],
   "source": [
    "webScrape('TravelHacks', url, 'TravelHacks_8000', 9)"
   ]
  },
  {
   "cell_type": "code",
   "execution_count": 44,
   "id": "27a5fd1c",
   "metadata": {},
   "outputs": [
    {
     "name": "stdout",
     "output_type": "stream",
     "text": [
      "Total of posts were downloaded: 11293\n"
     ]
    }
   ],
   "source": [
    "webScrape('TravelHacks', url, 'TravelHacks_12000', 13)"
   ]
  }
 ],
 "metadata": {
  "kernelspec": {
   "display_name": "Python 3 (ipykernel)",
   "language": "python",
   "name": "python3"
  },
  "language_info": {
   "codemirror_mode": {
    "name": "ipython",
    "version": 3
   },
   "file_extension": ".py",
   "mimetype": "text/x-python",
   "name": "python",
   "nbconvert_exporter": "python",
   "pygments_lexer": "ipython3",
   "version": "3.9.13"
  }
 },
 "nbformat": 4,
 "nbformat_minor": 5
}
