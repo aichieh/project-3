{
 "cells": [
  {
   "cell_type": "markdown",
   "id": "94a41d35",
   "metadata": {},
   "source": [
    "### Imports"
   ]
  },
  {
   "cell_type": "code",
   "execution_count": 1,
   "id": "d3f50d62",
   "metadata": {},
   "outputs": [],
   "source": [
    "# Import libraries needed for webscraping\n",
    "import requests\n",
    "from datetime import datetime\n",
    "import time\n",
    "import random\n",
    "import pandas as pd\n",
    "from tqdm import tqdm\n",
    "\n",
    "import matplotlib.pyplot as plt\n",
    "import pandas as pd\n",
    "import seaborn as sns\n",
    "import numpy as np\n",
    "\n",
    "import regex as re\n",
    "from sklearn import metrics\n",
    "from sklearn.pipeline import Pipeline\n",
    "from sklearn.linear_model import LogisticRegression\n",
    "from sklearn.feature_extraction.text import CountVectorizer\n",
    "from sklearn.model_selection import GridSearchCV, train_test_split, cross_val_score\n",
    "from sklearn.metrics import confusion_matrix, classification_report\n",
    "from sklearn.naive_bayes import MultinomialNB\n",
    "from nltk.stem import WordNetLemmatizer\n",
    "from nltk.corpus import stopwords\n",
    "\n",
    "import praw\n",
    "from psaw import PushshiftAPI\n",
    "\n",
    "pd.set_option('display.max_columns', 2000)\n",
    "pd.set_option('display.max_rows', 500)"
   ]
  },
  {
   "cell_type": "markdown",
   "id": "3bd28bbb",
   "metadata": {},
   "source": [
    "### Load Data"
   ]
  },
  {
   "cell_type": "code",
   "execution_count": 2,
   "id": "9f588138",
   "metadata": {},
   "outputs": [],
   "source": [
    "#travel_df1 = pd.read_csv('../data/travel_post_4000.csv')\n",
    "#travel_df2 = pd.read_csv('../data/travel_post_8000.csv')\n",
    "#travel_df = pd.read_csv('../data/travel_post_20000.csv')"
   ]
  },
  {
   "cell_type": "code",
   "execution_count": 2,
   "id": "9d730d9c",
   "metadata": {},
   "outputs": [],
   "source": [
    "awardtravel = pd.read_csv('../data/awardtravel_4000.csv')\n",
    "#awardtravel_df2 = pd.read_csv('../data/awardtravel_8000.csv')\n",
    "#awardtravel_df = pd.read_csv('../data/awardtravel_12000.csv')"
   ]
  },
  {
   "cell_type": "code",
   "execution_count": 4,
   "id": "b295890f",
   "metadata": {},
   "outputs": [],
   "source": [
    "#backpacking_df1 = pd.read_csv('../data/backpacking_4000.csv')\n",
    "#backpacking_df2 = pd.read_csv('../data/backpacking_8000.csv')\n",
    "#backpacking_df = pd.read_csv('../data/backpacking_12000.csv')"
   ]
  },
  {
   "cell_type": "code",
   "execution_count": 5,
   "id": "91f016f4",
   "metadata": {},
   "outputs": [],
   "source": [
    "#cruise_df1 = pd.read_csv('../data/cruise_4000.csv')\n",
    "#cruise_df2 = pd.read_csv('../data/cruise_8000.csv')\n",
    "#cruise_df = pd.read_csv('../data/cruise_12000.csv')"
   ]
  },
  {
   "cell_type": "code",
   "execution_count": 3,
   "id": "b4da808e",
   "metadata": {},
   "outputs": [],
   "source": [
    "travelhacks = pd.read_csv('../data/TravelHacks_4000.csv')\n",
    "#travelhacks_df2 = pd.read_csv('../data/TravelHacks_8000.csv')\n",
    "#travelhacks_df = pd.read_csv('../data/TravelHacks_12000.csv')"
   ]
  },
  {
   "cell_type": "markdown",
   "id": "8686a7eb",
   "metadata": {},
   "source": [
    "### Basic data cleaning"
   ]
  },
  {
   "cell_type": "markdown",
   "id": "490f9473",
   "metadata": {},
   "source": [
    "#### Check for removed, deleted, NaN posts\n",
    "    Instead of dropping those value, I replaced them with empty string because the titles still capatured the information about the posts.  "
   ]
  },
  {
   "cell_type": "code",
   "execution_count": 4,
   "id": "061c6dde",
   "metadata": {
    "scrolled": false
   },
   "outputs": [
    {
     "data": {
      "text/html": [
       "<div>\n",
       "<style scoped>\n",
       "    .dataframe tbody tr th:only-of-type {\n",
       "        vertical-align: middle;\n",
       "    }\n",
       "\n",
       "    .dataframe tbody tr th {\n",
       "        vertical-align: top;\n",
       "    }\n",
       "\n",
       "    .dataframe thead th {\n",
       "        text-align: right;\n",
       "    }\n",
       "</style>\n",
       "<table border=\"1\" class=\"dataframe\">\n",
       "  <thead>\n",
       "    <tr style=\"text-align: right;\">\n",
       "      <th></th>\n",
       "      <th>subreddit</th>\n",
       "      <th>selftext</th>\n",
       "      <th>title</th>\n",
       "      <th>distinguished</th>\n",
       "      <th>author</th>\n",
       "      <th>removed_by_category</th>\n",
       "      <th>num_comments</th>\n",
       "      <th>utc_datetime_str</th>\n",
       "    </tr>\n",
       "  </thead>\n",
       "  <tbody>\n",
       "    <tr>\n",
       "      <th>0</th>\n",
       "      <td>TravelHacks</td>\n",
       "      <td>[removed]</td>\n",
       "      <td>Things I can get my boyfriend for his 1 month ...</td>\n",
       "      <td>NaN</td>\n",
       "      <td>AdministrativeLog689</td>\n",
       "      <td>moderator</td>\n",
       "      <td>0</td>\n",
       "      <td>4/1/2023 21:37</td>\n",
       "    </tr>\n",
       "    <tr>\n",
       "      <th>1</th>\n",
       "      <td>TravelHacks</td>\n",
       "      <td>Apologies if this type of question has been as...</td>\n",
       "      <td>Cheap last minute flights?</td>\n",
       "      <td>NaN</td>\n",
       "      <td>anon_157</td>\n",
       "      <td>NaN</td>\n",
       "      <td>0</td>\n",
       "      <td>4/1/2023 21:06</td>\n",
       "    </tr>\n",
       "    <tr>\n",
       "      <th>2</th>\n",
       "      <td>TravelHacks</td>\n",
       "      <td>[removed]</td>\n",
       "      <td>trip</td>\n",
       "      <td>NaN</td>\n",
       "      <td>Curious-Campaign2376</td>\n",
       "      <td>moderator</td>\n",
       "      <td>0</td>\n",
       "      <td>4/1/2023 19:08</td>\n",
       "    </tr>\n",
       "    <tr>\n",
       "      <th>3</th>\n",
       "      <td>TravelHacks</td>\n",
       "      <td>I'm planning my first international trip with ...</td>\n",
       "      <td>Any CFAR insurance options after 21 days?</td>\n",
       "      <td>NaN</td>\n",
       "      <td>sweettangerine08</td>\n",
       "      <td>NaN</td>\n",
       "      <td>0</td>\n",
       "      <td>4/1/2023 17:54</td>\n",
       "    </tr>\n",
       "    <tr>\n",
       "      <th>4</th>\n",
       "      <td>TravelHacks</td>\n",
       "      <td>[removed]</td>\n",
       "      <td>Egi</td>\n",
       "      <td>NaN</td>\n",
       "      <td>travelw_theballards</td>\n",
       "      <td>moderator</td>\n",
       "      <td>0</td>\n",
       "      <td>4/1/2023 17:12</td>\n",
       "    </tr>\n",
       "  </tbody>\n",
       "</table>\n",
       "</div>"
      ],
      "text/plain": [
       "     subreddit                                           selftext  \\\n",
       "0  TravelHacks                                          [removed]   \n",
       "1  TravelHacks  Apologies if this type of question has been as...   \n",
       "2  TravelHacks                                          [removed]   \n",
       "3  TravelHacks  I'm planning my first international trip with ...   \n",
       "4  TravelHacks                                          [removed]   \n",
       "\n",
       "                                               title  distinguished  \\\n",
       "0  Things I can get my boyfriend for his 1 month ...            NaN   \n",
       "1                         Cheap last minute flights?            NaN   \n",
       "2                                               trip            NaN   \n",
       "3          Any CFAR insurance options after 21 days?            NaN   \n",
       "4                                                Egi            NaN   \n",
       "\n",
       "                 author removed_by_category  num_comments utc_datetime_str  \n",
       "0  AdministrativeLog689           moderator             0   4/1/2023 21:37  \n",
       "1              anon_157                 NaN             0   4/1/2023 21:06  \n",
       "2  Curious-Campaign2376           moderator             0   4/1/2023 19:08  \n",
       "3      sweettangerine08                 NaN             0   4/1/2023 17:54  \n",
       "4   travelw_theballards           moderator             0   4/1/2023 17:12  "
      ]
     },
     "execution_count": 4,
     "metadata": {},
     "output_type": "execute_result"
    }
   ],
   "source": [
    "travelhacks.head()"
   ]
  },
  {
   "cell_type": "code",
   "execution_count": 5,
   "id": "13e13177",
   "metadata": {},
   "outputs": [
    {
     "data": {
      "text/plain": [
       "subreddit                 0\n",
       "selftext                506\n",
       "title                     0\n",
       "distinguished          3843\n",
       "author                    0\n",
       "removed_by_category    2184\n",
       "num_comments              0\n",
       "utc_datetime_str          0\n",
       "dtype: int64"
      ]
     },
     "execution_count": 5,
     "metadata": {},
     "output_type": "execute_result"
    }
   ],
   "source": [
    "# check null value: no null value for title but 516 null calue for selftext\n",
    "travelhacks.isna().sum()"
   ]
  },
  {
   "cell_type": "code",
   "execution_count": 6,
   "id": "02c5f643",
   "metadata": {
    "scrolled": false
   },
   "outputs": [
    {
     "data": {
      "text/html": [
       "<div>\n",
       "<style scoped>\n",
       "    .dataframe tbody tr th:only-of-type {\n",
       "        vertical-align: middle;\n",
       "    }\n",
       "\n",
       "    .dataframe tbody tr th {\n",
       "        vertical-align: top;\n",
       "    }\n",
       "\n",
       "    .dataframe thead th {\n",
       "        text-align: right;\n",
       "    }\n",
       "</style>\n",
       "<table border=\"1\" class=\"dataframe\">\n",
       "  <thead>\n",
       "    <tr style=\"text-align: right;\">\n",
       "      <th></th>\n",
       "      <th>subreddit</th>\n",
       "      <th>selftext</th>\n",
       "      <th>title</th>\n",
       "      <th>distinguished</th>\n",
       "      <th>author</th>\n",
       "      <th>removed_by_category</th>\n",
       "      <th>num_comments</th>\n",
       "      <th>utc_datetime_str</th>\n",
       "    </tr>\n",
       "  </thead>\n",
       "  <tbody>\n",
       "    <tr>\n",
       "      <th>21</th>\n",
       "      <td>TravelHacks</td>\n",
       "      <td>NaN</td>\n",
       "      <td>Easiest ways to keep US mobile phone number wh...</td>\n",
       "      <td>NaN</td>\n",
       "      <td>the-cathedral-</td>\n",
       "      <td>NaN</td>\n",
       "      <td>0</td>\n",
       "      <td>4/1/2023 4:41</td>\n",
       "    </tr>\n",
       "    <tr>\n",
       "      <th>28</th>\n",
       "      <td>TravelHacks</td>\n",
       "      <td>NaN</td>\n",
       "      <td>Hello</td>\n",
       "      <td>NaN</td>\n",
       "      <td>selepsoron6389</td>\n",
       "      <td>moderator</td>\n",
       "      <td>0</td>\n",
       "      <td>3/31/2023 22:57</td>\n",
       "    </tr>\n",
       "    <tr>\n",
       "      <th>54</th>\n",
       "      <td>TravelHacks</td>\n",
       "      <td>NaN</td>\n",
       "      <td>httpsairlinesboardingpass onlineairlines check...</td>\n",
       "      <td>NaN</td>\n",
       "      <td>changeflightbooking</td>\n",
       "      <td>reddit</td>\n",
       "      <td>0</td>\n",
       "      <td>3/31/2023 14:54</td>\n",
       "    </tr>\n",
       "    <tr>\n",
       "      <th>62</th>\n",
       "      <td>TravelHacks</td>\n",
       "      <td>NaN</td>\n",
       "      <td>Cruise question - choosing a cabin? Traveling ...</td>\n",
       "      <td>NaN</td>\n",
       "      <td>aimhighsb</td>\n",
       "      <td>moderator</td>\n",
       "      <td>0</td>\n",
       "      <td>3/31/2023 14:15</td>\n",
       "    </tr>\n",
       "    <tr>\n",
       "      <th>66</th>\n",
       "      <td>TravelHacks</td>\n",
       "      <td>NaN</td>\n",
       "      <td>All-Sponsored Happiness Program in Finland - L...</td>\n",
       "      <td>NaN</td>\n",
       "      <td>MadsyKa</td>\n",
       "      <td>moderator</td>\n",
       "      <td>0</td>\n",
       "      <td>3/31/2023 12:34</td>\n",
       "    </tr>\n",
       "  </tbody>\n",
       "</table>\n",
       "</div>"
      ],
      "text/plain": [
       "      subreddit selftext                                              title  \\\n",
       "21  TravelHacks      NaN  Easiest ways to keep US mobile phone number wh...   \n",
       "28  TravelHacks      NaN                                              Hello   \n",
       "54  TravelHacks      NaN  httpsairlinesboardingpass onlineairlines check...   \n",
       "62  TravelHacks      NaN  Cruise question - choosing a cabin? Traveling ...   \n",
       "66  TravelHacks      NaN  All-Sponsored Happiness Program in Finland - L...   \n",
       "\n",
       "    distinguished               author removed_by_category  num_comments  \\\n",
       "21            NaN       the-cathedral-                 NaN             0   \n",
       "28            NaN       selepsoron6389           moderator             0   \n",
       "54            NaN  changeflightbooking              reddit             0   \n",
       "62            NaN            aimhighsb           moderator             0   \n",
       "66            NaN              MadsyKa           moderator             0   \n",
       "\n",
       "   utc_datetime_str  \n",
       "21    4/1/2023 4:41  \n",
       "28  3/31/2023 22:57  \n",
       "54  3/31/2023 14:54  \n",
       "62  3/31/2023 14:15  \n",
       "66  3/31/2023 12:34  "
      ]
     },
     "execution_count": 6,
     "metadata": {},
     "output_type": "execute_result"
    }
   ],
   "source": [
    "# even it showed nan for selftext, title still have content\n",
    "travelhacks[travelhacks['selftext'].isnull()].head()"
   ]
  },
  {
   "cell_type": "code",
   "execution_count": 7,
   "id": "64f66054",
   "metadata": {},
   "outputs": [],
   "source": [
    "# replace Nan with empty string\n",
    "travelhacks['selftext'] = travelhacks['selftext'].fillna('')"
   ]
  },
  {
   "cell_type": "code",
   "execution_count": 8,
   "id": "c45547bc",
   "metadata": {
    "scrolled": false
   },
   "outputs": [
    {
     "data": {
      "text/html": [
       "<div>\n",
       "<style scoped>\n",
       "    .dataframe tbody tr th:only-of-type {\n",
       "        vertical-align: middle;\n",
       "    }\n",
       "\n",
       "    .dataframe tbody tr th {\n",
       "        vertical-align: top;\n",
       "    }\n",
       "\n",
       "    .dataframe thead th {\n",
       "        text-align: right;\n",
       "    }\n",
       "</style>\n",
       "<table border=\"1\" class=\"dataframe\">\n",
       "  <thead>\n",
       "    <tr style=\"text-align: right;\">\n",
       "      <th></th>\n",
       "      <th>subreddit</th>\n",
       "      <th>selftext</th>\n",
       "      <th>title</th>\n",
       "      <th>distinguished</th>\n",
       "      <th>author</th>\n",
       "      <th>removed_by_category</th>\n",
       "      <th>num_comments</th>\n",
       "      <th>utc_datetime_str</th>\n",
       "    </tr>\n",
       "  </thead>\n",
       "  <tbody>\n",
       "    <tr>\n",
       "      <th>0</th>\n",
       "      <td>TravelHacks</td>\n",
       "      <td>[removed]</td>\n",
       "      <td>Things I can get my boyfriend for his 1 month ...</td>\n",
       "      <td>NaN</td>\n",
       "      <td>AdministrativeLog689</td>\n",
       "      <td>moderator</td>\n",
       "      <td>0</td>\n",
       "      <td>4/1/2023 21:37</td>\n",
       "    </tr>\n",
       "    <tr>\n",
       "      <th>2</th>\n",
       "      <td>TravelHacks</td>\n",
       "      <td>[removed]</td>\n",
       "      <td>trip</td>\n",
       "      <td>NaN</td>\n",
       "      <td>Curious-Campaign2376</td>\n",
       "      <td>moderator</td>\n",
       "      <td>0</td>\n",
       "      <td>4/1/2023 19:08</td>\n",
       "    </tr>\n",
       "    <tr>\n",
       "      <th>4</th>\n",
       "      <td>TravelHacks</td>\n",
       "      <td>[removed]</td>\n",
       "      <td>Egi</td>\n",
       "      <td>NaN</td>\n",
       "      <td>travelw_theballards</td>\n",
       "      <td>moderator</td>\n",
       "      <td>0</td>\n",
       "      <td>4/1/2023 17:12</td>\n",
       "    </tr>\n",
       "    <tr>\n",
       "      <th>9</th>\n",
       "      <td>TravelHacks</td>\n",
       "      <td>[removed]</td>\n",
       "      <td>Frida Kahlo tickets</td>\n",
       "      <td>NaN</td>\n",
       "      <td>bikemex</td>\n",
       "      <td>moderator</td>\n",
       "      <td>0</td>\n",
       "      <td>4/1/2023 16:02</td>\n",
       "    </tr>\n",
       "    <tr>\n",
       "      <th>10</th>\n",
       "      <td>TravelHacks</td>\n",
       "      <td>[removed]</td>\n",
       "      <td>I made a list of top 5 apps that I use while t...</td>\n",
       "      <td>NaN</td>\n",
       "      <td>iamshadez</td>\n",
       "      <td>moderator</td>\n",
       "      <td>0</td>\n",
       "      <td>4/1/2023 15:58</td>\n",
       "    </tr>\n",
       "  </tbody>\n",
       "</table>\n",
       "</div>"
      ],
      "text/plain": [
       "      subreddit   selftext                                              title  \\\n",
       "0   TravelHacks  [removed]  Things I can get my boyfriend for his 1 month ...   \n",
       "2   TravelHacks  [removed]                                               trip   \n",
       "4   TravelHacks  [removed]                                                Egi   \n",
       "9   TravelHacks  [removed]                                Frida Kahlo tickets   \n",
       "10  TravelHacks  [removed]  I made a list of top 5 apps that I use while t...   \n",
       "\n",
       "    distinguished                author removed_by_category  num_comments  \\\n",
       "0             NaN  AdministrativeLog689           moderator             0   \n",
       "2             NaN  Curious-Campaign2376           moderator             0   \n",
       "4             NaN   travelw_theballards           moderator             0   \n",
       "9             NaN               bikemex           moderator             0   \n",
       "10            NaN             iamshadez           moderator             0   \n",
       "\n",
       "   utc_datetime_str  \n",
       "0    4/1/2023 21:37  \n",
       "2    4/1/2023 19:08  \n",
       "4    4/1/2023 17:12  \n",
       "9    4/1/2023 16:02  \n",
       "10   4/1/2023 15:58  "
      ]
     },
     "execution_count": 8,
     "metadata": {},
     "output_type": "execute_result"
    }
   ],
   "source": [
    "# checking for both removed or deleted posts\n",
    "travelhacks.loc[travelhacks['selftext'].str.contains(r'\\[removed\\]|\\[deleted\\]')].head()"
   ]
  },
  {
   "cell_type": "code",
   "execution_count": 9,
   "id": "242158df",
   "metadata": {},
   "outputs": [],
   "source": [
    "# replace 'remove' and 'deleted' since the title still have information about the post\n",
    "travelhacks['selftext'] = travelhacks['selftext'].replace('[removed]', '')\n",
    "travelhacks['selftext'] = travelhacks['selftext'].replace('[deleted]', '')"
   ]
  },
  {
   "cell_type": "code",
   "execution_count": 10,
   "id": "3c2be1fb",
   "metadata": {
    "scrolled": true
   },
   "outputs": [
    {
     "data": {
      "text/html": [
       "<div>\n",
       "<style scoped>\n",
       "    .dataframe tbody tr th:only-of-type {\n",
       "        vertical-align: middle;\n",
       "    }\n",
       "\n",
       "    .dataframe tbody tr th {\n",
       "        vertical-align: top;\n",
       "    }\n",
       "\n",
       "    .dataframe thead th {\n",
       "        text-align: right;\n",
       "    }\n",
       "</style>\n",
       "<table border=\"1\" class=\"dataframe\">\n",
       "  <thead>\n",
       "    <tr style=\"text-align: right;\">\n",
       "      <th></th>\n",
       "      <th>subreddit</th>\n",
       "      <th>selftext</th>\n",
       "      <th>title</th>\n",
       "      <th>distinguished</th>\n",
       "      <th>author</th>\n",
       "      <th>removed_by_category</th>\n",
       "      <th>num_comments</th>\n",
       "      <th>utc_datetime_str</th>\n",
       "    </tr>\n",
       "  </thead>\n",
       "  <tbody>\n",
       "    <tr>\n",
       "      <th>0</th>\n",
       "      <td>awardtravel</td>\n",
       "      <td>I have a multi-destination trip coming up that...</td>\n",
       "      <td>What happens to taxes/fees for ANA award fligh...</td>\n",
       "      <td>NaN</td>\n",
       "      <td>trollcookie</td>\n",
       "      <td>NaN</td>\n",
       "      <td>1</td>\n",
       "      <td>4/1/2023 19:48</td>\n",
       "    </tr>\n",
       "    <tr>\n",
       "      <th>1</th>\n",
       "      <td>awardtravel</td>\n",
       "      <td>Looking to fly from Seattle to ZRH in Business...</td>\n",
       "      <td>Looking to Fly from Seattle to Zurich</td>\n",
       "      <td>NaN</td>\n",
       "      <td>Relientkrocks17</td>\n",
       "      <td>NaN</td>\n",
       "      <td>1</td>\n",
       "      <td>4/1/2023 18:51</td>\n",
       "    </tr>\n",
       "    <tr>\n",
       "      <th>2</th>\n",
       "      <td>awardtravel</td>\n",
       "      <td>Iberia used to show Premium Economy in between...</td>\n",
       "      <td>Iberia dropping PE?</td>\n",
       "      <td>NaN</td>\n",
       "      <td>justchilldill</td>\n",
       "      <td>NaN</td>\n",
       "      <td>1</td>\n",
       "      <td>4/1/2023 18:39</td>\n",
       "    </tr>\n",
       "    <tr>\n",
       "      <th>3</th>\n",
       "      <td>awardtravel</td>\n",
       "      <td>I have a non-refundable, non-changeable RT bus...</td>\n",
       "      <td>Canceling non-refundable British Airways busin...</td>\n",
       "      <td>NaN</td>\n",
       "      <td>Lehmanite</td>\n",
       "      <td>NaN</td>\n",
       "      <td>1</td>\n",
       "      <td>4/1/2023 18:21</td>\n",
       "    </tr>\n",
       "    <tr>\n",
       "      <th>4</th>\n",
       "      <td>awardtravel</td>\n",
       "      <td>So I want to get 2 J seats on the direct fligh...</td>\n",
       "      <td>SFO-ZRH via Swiss booking using UA</td>\n",
       "      <td>NaN</td>\n",
       "      <td>Zestyclose-College27</td>\n",
       "      <td>NaN</td>\n",
       "      <td>1</td>\n",
       "      <td>4/1/2023 17:55</td>\n",
       "    </tr>\n",
       "  </tbody>\n",
       "</table>\n",
       "</div>"
      ],
      "text/plain": [
       "     subreddit                                           selftext  \\\n",
       "0  awardtravel  I have a multi-destination trip coming up that...   \n",
       "1  awardtravel  Looking to fly from Seattle to ZRH in Business...   \n",
       "2  awardtravel  Iberia used to show Premium Economy in between...   \n",
       "3  awardtravel  I have a non-refundable, non-changeable RT bus...   \n",
       "4  awardtravel  So I want to get 2 J seats on the direct fligh...   \n",
       "\n",
       "                                               title  distinguished  \\\n",
       "0  What happens to taxes/fees for ANA award fligh...            NaN   \n",
       "1              Looking to Fly from Seattle to Zurich            NaN   \n",
       "2                                Iberia dropping PE?            NaN   \n",
       "3  Canceling non-refundable British Airways busin...            NaN   \n",
       "4                 SFO-ZRH via Swiss booking using UA            NaN   \n",
       "\n",
       "                 author removed_by_category  num_comments utc_datetime_str  \n",
       "0           trollcookie                 NaN             1   4/1/2023 19:48  \n",
       "1       Relientkrocks17                 NaN             1   4/1/2023 18:51  \n",
       "2         justchilldill                 NaN             1   4/1/2023 18:39  \n",
       "3             Lehmanite                 NaN             1   4/1/2023 18:21  \n",
       "4  Zestyclose-College27                 NaN             1   4/1/2023 17:55  "
      ]
     },
     "execution_count": 10,
     "metadata": {},
     "output_type": "execute_result"
    }
   ],
   "source": [
    "awardtravel.head()"
   ]
  },
  {
   "cell_type": "code",
   "execution_count": 11,
   "id": "790e2997",
   "metadata": {
    "scrolled": true
   },
   "outputs": [
    {
     "data": {
      "text/plain": [
       "subreddit                 0\n",
       "selftext                 95\n",
       "title                     0\n",
       "distinguished          3948\n",
       "author                    0\n",
       "removed_by_category    3476\n",
       "num_comments              0\n",
       "utc_datetime_str          0\n",
       "dtype: int64"
      ]
     },
     "execution_count": 11,
     "metadata": {},
     "output_type": "execute_result"
    }
   ],
   "source": [
    "awardtravel.isna().sum()"
   ]
  },
  {
   "cell_type": "code",
   "execution_count": 12,
   "id": "15a70122",
   "metadata": {
    "scrolled": false
   },
   "outputs": [
    {
     "data": {
      "text/html": [
       "<div>\n",
       "<style scoped>\n",
       "    .dataframe tbody tr th:only-of-type {\n",
       "        vertical-align: middle;\n",
       "    }\n",
       "\n",
       "    .dataframe tbody tr th {\n",
       "        vertical-align: top;\n",
       "    }\n",
       "\n",
       "    .dataframe thead th {\n",
       "        text-align: right;\n",
       "    }\n",
       "</style>\n",
       "<table border=\"1\" class=\"dataframe\">\n",
       "  <thead>\n",
       "    <tr style=\"text-align: right;\">\n",
       "      <th></th>\n",
       "      <th>subreddit</th>\n",
       "      <th>selftext</th>\n",
       "      <th>title</th>\n",
       "      <th>distinguished</th>\n",
       "      <th>author</th>\n",
       "      <th>removed_by_category</th>\n",
       "      <th>num_comments</th>\n",
       "      <th>utc_datetime_str</th>\n",
       "    </tr>\n",
       "  </thead>\n",
       "  <tbody>\n",
       "    <tr>\n",
       "      <th>5</th>\n",
       "      <td>awardtravel</td>\n",
       "      <td>NaN</td>\n",
       "      <td>i fly a lot, so my friends came to me to use m...</td>\n",
       "      <td>NaN</td>\n",
       "      <td>professional_pupper</td>\n",
       "      <td>NaN</td>\n",
       "      <td>1</td>\n",
       "      <td>4/1/2023 17:11</td>\n",
       "    </tr>\n",
       "    <tr>\n",
       "      <th>28</th>\n",
       "      <td>awardtravel</td>\n",
       "      <td>NaN</td>\n",
       "      <td>Can't search on AF/KLM</td>\n",
       "      <td>NaN</td>\n",
       "      <td>ebpomtl</td>\n",
       "      <td>NaN</td>\n",
       "      <td>1</td>\n",
       "      <td>3/31/2023 12:11</td>\n",
       "    </tr>\n",
       "    <tr>\n",
       "      <th>75</th>\n",
       "      <td>awardtravel</td>\n",
       "      <td>NaN</td>\n",
       "      <td>Quickest way to offload my remaining 80,000 Wo...</td>\n",
       "      <td>NaN</td>\n",
       "      <td>vialpandomc</td>\n",
       "      <td>NaN</td>\n",
       "      <td>1</td>\n",
       "      <td>3/29/2023 19:08</td>\n",
       "    </tr>\n",
       "    <tr>\n",
       "      <th>80</th>\n",
       "      <td>awardtravel</td>\n",
       "      <td>NaN</td>\n",
       "      <td>Global Entry/Trusted Traveler Appointment Finder</td>\n",
       "      <td>NaN</td>\n",
       "      <td>toastingdetermined</td>\n",
       "      <td>moderator</td>\n",
       "      <td>1</td>\n",
       "      <td>3/29/2023 16:31</td>\n",
       "    </tr>\n",
       "    <tr>\n",
       "      <th>97</th>\n",
       "      <td>awardtravel</td>\n",
       "      <td>NaN</td>\n",
       "      <td>question if I book award flight in economy on ...</td>\n",
       "      <td>NaN</td>\n",
       "      <td>Mysterious_Pie_4594</td>\n",
       "      <td>NaN</td>\n",
       "      <td>1</td>\n",
       "      <td>3/28/2023 19:27</td>\n",
       "    </tr>\n",
       "  </tbody>\n",
       "</table>\n",
       "</div>"
      ],
      "text/plain": [
       "      subreddit selftext                                              title  \\\n",
       "5   awardtravel      NaN  i fly a lot, so my friends came to me to use m...   \n",
       "28  awardtravel      NaN                             Can't search on AF/KLM   \n",
       "75  awardtravel      NaN  Quickest way to offload my remaining 80,000 Wo...   \n",
       "80  awardtravel      NaN   Global Entry/Trusted Traveler Appointment Finder   \n",
       "97  awardtravel      NaN  question if I book award flight in economy on ...   \n",
       "\n",
       "    distinguished               author removed_by_category  num_comments  \\\n",
       "5             NaN  professional_pupper                 NaN             1   \n",
       "28            NaN              ebpomtl                 NaN             1   \n",
       "75            NaN          vialpandomc                 NaN             1   \n",
       "80            NaN   toastingdetermined           moderator             1   \n",
       "97            NaN  Mysterious_Pie_4594                 NaN             1   \n",
       "\n",
       "   utc_datetime_str  \n",
       "5    4/1/2023 17:11  \n",
       "28  3/31/2023 12:11  \n",
       "75  3/29/2023 19:08  \n",
       "80  3/29/2023 16:31  \n",
       "97  3/28/2023 19:27  "
      ]
     },
     "execution_count": 12,
     "metadata": {},
     "output_type": "execute_result"
    }
   ],
   "source": [
    "# even it showed nan for selftext, title still have content\n",
    "awardtravel[awardtravel['selftext'].isnull()].head()"
   ]
  },
  {
   "cell_type": "code",
   "execution_count": 13,
   "id": "39e00f1c",
   "metadata": {},
   "outputs": [],
   "source": [
    "# replace Nan with empty string\n",
    "awardtravel['selftext'] = awardtravel['selftext'].fillna('')"
   ]
  },
  {
   "cell_type": "code",
   "execution_count": 14,
   "id": "face67bc",
   "metadata": {
    "scrolled": true
   },
   "outputs": [
    {
     "data": {
      "text/html": [
       "<div>\n",
       "<style scoped>\n",
       "    .dataframe tbody tr th:only-of-type {\n",
       "        vertical-align: middle;\n",
       "    }\n",
       "\n",
       "    .dataframe tbody tr th {\n",
       "        vertical-align: top;\n",
       "    }\n",
       "\n",
       "    .dataframe thead th {\n",
       "        text-align: right;\n",
       "    }\n",
       "</style>\n",
       "<table border=\"1\" class=\"dataframe\">\n",
       "  <thead>\n",
       "    <tr style=\"text-align: right;\">\n",
       "      <th></th>\n",
       "      <th>subreddit</th>\n",
       "      <th>selftext</th>\n",
       "      <th>title</th>\n",
       "      <th>distinguished</th>\n",
       "      <th>author</th>\n",
       "      <th>removed_by_category</th>\n",
       "      <th>num_comments</th>\n",
       "      <th>utc_datetime_str</th>\n",
       "    </tr>\n",
       "  </thead>\n",
       "  <tbody>\n",
       "    <tr>\n",
       "      <th>23</th>\n",
       "      <td>awardtravel</td>\n",
       "      <td>[removed]</td>\n",
       "      <td>Marriott and United - Comparing Miles earned p...</td>\n",
       "      <td>NaN</td>\n",
       "      <td>Tejavepa</td>\n",
       "      <td>reddit</td>\n",
       "      <td>0</td>\n",
       "      <td>3/31/2023 16:42</td>\n",
       "    </tr>\n",
       "    <tr>\n",
       "      <th>74</th>\n",
       "      <td>awardtravel</td>\n",
       "      <td>[removed]</td>\n",
       "      <td>First time booking with chase (or any credit c...</td>\n",
       "      <td>NaN</td>\n",
       "      <td>eroxal</td>\n",
       "      <td>moderator</td>\n",
       "      <td>1</td>\n",
       "      <td>3/29/2023 19:16</td>\n",
       "    </tr>\n",
       "    <tr>\n",
       "      <th>76</th>\n",
       "      <td>awardtravel</td>\n",
       "      <td>[removed]</td>\n",
       "      <td>When the Chase portal hotels are way overprice...</td>\n",
       "      <td>NaN</td>\n",
       "      <td>airplanedad</td>\n",
       "      <td>moderator</td>\n",
       "      <td>1</td>\n",
       "      <td>3/29/2023 18:03</td>\n",
       "    </tr>\n",
       "    <tr>\n",
       "      <th>86</th>\n",
       "      <td>awardtravel</td>\n",
       "      <td>[removed]</td>\n",
       "      <td>Horton Studios</td>\n",
       "      <td>NaN</td>\n",
       "      <td>zhinocoaster</td>\n",
       "      <td>reddit</td>\n",
       "      <td>1</td>\n",
       "      <td>3/29/2023 13:16</td>\n",
       "    </tr>\n",
       "    <tr>\n",
       "      <th>111</th>\n",
       "      <td>awardtravel</td>\n",
       "      <td>[removed]</td>\n",
       "      <td>Cabo Award Flights</td>\n",
       "      <td>NaN</td>\n",
       "      <td>Lil_Mikee</td>\n",
       "      <td>moderator</td>\n",
       "      <td>0</td>\n",
       "      <td>3/28/2023 6:41</td>\n",
       "    </tr>\n",
       "  </tbody>\n",
       "</table>\n",
       "</div>"
      ],
      "text/plain": [
       "       subreddit   selftext  \\\n",
       "23   awardtravel  [removed]   \n",
       "74   awardtravel  [removed]   \n",
       "76   awardtravel  [removed]   \n",
       "86   awardtravel  [removed]   \n",
       "111  awardtravel  [removed]   \n",
       "\n",
       "                                                 title  distinguished  \\\n",
       "23   Marriott and United - Comparing Miles earned p...            NaN   \n",
       "74   First time booking with chase (or any credit c...            NaN   \n",
       "76   When the Chase portal hotels are way overprice...            NaN   \n",
       "86                                      Horton Studios            NaN   \n",
       "111                                 Cabo Award Flights            NaN   \n",
       "\n",
       "           author removed_by_category  num_comments utc_datetime_str  \n",
       "23       Tejavepa              reddit             0  3/31/2023 16:42  \n",
       "74         eroxal           moderator             1  3/29/2023 19:16  \n",
       "76    airplanedad           moderator             1  3/29/2023 18:03  \n",
       "86   zhinocoaster              reddit             1  3/29/2023 13:16  \n",
       "111     Lil_Mikee           moderator             0   3/28/2023 6:41  "
      ]
     },
     "execution_count": 14,
     "metadata": {},
     "output_type": "execute_result"
    }
   ],
   "source": [
    "# checking for both removed or deleted posts\n",
    "awardtravel.loc[awardtravel['selftext'].str.contains(r'\\[removed\\]|\\[deleted\\]')].head()"
   ]
  },
  {
   "cell_type": "code",
   "execution_count": 15,
   "id": "e307fd0a",
   "metadata": {},
   "outputs": [],
   "source": [
    "# replace 'remove' and 'deleted' since the title still have information about the post\n",
    "awardtravel['selftext'] = awardtravel['selftext'].replace('[removed]', '')\n",
    "awardtravel['selftext'] = awardtravel['selftext'].replace('[deleted]', '')"
   ]
  },
  {
   "cell_type": "markdown",
   "id": "70c8bcb0",
   "metadata": {},
   "source": [
    "#### Check for weekly mod posts from the moderators of the subreddit: \n",
    "    Some subreddits would post weekly announcements, daily surveys, or recommendations. Since these posts were posted on the weekly/daily bases with similar titles or contents, it's best to remove these posts to avoid skewness of some words. After checking, both subreddits do not have such issue."
   ]
  },
  {
   "cell_type": "code",
   "execution_count": 16,
   "id": "6e98ba4d",
   "metadata": {
    "scrolled": true
   },
   "outputs": [
    {
     "data": {
      "text/plain": [
       "TMavrat                 53\n",
       "zimmermanus             38\n",
       "[deleted]               29\n",
       "John_Martson_isalive    24\n",
       "Independent_Job5063     21\n",
       "                        ..\n",
       "Abiram_21                1\n",
       "Ctstatelimo              1\n",
       "Triplearners             1\n",
       "Entire-Place9222         1\n",
       "TrogdorBurns             1\n",
       "Name: author, Length: 3068, dtype: int64"
      ]
     },
     "execution_count": 16,
     "metadata": {},
     "output_type": "execute_result"
    }
   ],
   "source": [
    "travelhacks['author'].value_counts()"
   ]
  },
  {
   "cell_type": "code",
   "execution_count": 17,
   "id": "bf82d8d4",
   "metadata": {
    "scrolled": false
   },
   "outputs": [
    {
     "data": {
      "text/html": [
       "<div>\n",
       "<style scoped>\n",
       "    .dataframe tbody tr th:only-of-type {\n",
       "        vertical-align: middle;\n",
       "    }\n",
       "\n",
       "    .dataframe tbody tr th {\n",
       "        vertical-align: top;\n",
       "    }\n",
       "\n",
       "    .dataframe thead th {\n",
       "        text-align: right;\n",
       "    }\n",
       "</style>\n",
       "<table border=\"1\" class=\"dataframe\">\n",
       "  <thead>\n",
       "    <tr style=\"text-align: right;\">\n",
       "      <th></th>\n",
       "      <th>subreddit</th>\n",
       "      <th>selftext</th>\n",
       "      <th>title</th>\n",
       "      <th>distinguished</th>\n",
       "      <th>author</th>\n",
       "      <th>removed_by_category</th>\n",
       "      <th>num_comments</th>\n",
       "      <th>utc_datetime_str</th>\n",
       "    </tr>\n",
       "  </thead>\n",
       "  <tbody>\n",
       "    <tr>\n",
       "      <th>11</th>\n",
       "      <td>TravelHacks</td>\n",
       "      <td>\\n\\n[View Poll](https://www.reddit.com/poll/12...</td>\n",
       "      <td>Which would you prefer to visit on a euro trip?</td>\n",
       "      <td>NaN</td>\n",
       "      <td>TMavrat</td>\n",
       "      <td>NaN</td>\n",
       "      <td>0</td>\n",
       "      <td>4/1/2023 15:32</td>\n",
       "    </tr>\n",
       "    <tr>\n",
       "      <th>184</th>\n",
       "      <td>TravelHacks</td>\n",
       "      <td>\\n\\n[View Poll](https://www.reddit.com/poll/12...</td>\n",
       "      <td>Where do you carry your laptop charger?</td>\n",
       "      <td>NaN</td>\n",
       "      <td>TMavrat</td>\n",
       "      <td>NaN</td>\n",
       "      <td>0</td>\n",
       "      <td>3/29/2023 3:15</td>\n",
       "    </tr>\n",
       "    <tr>\n",
       "      <th>256</th>\n",
       "      <td>TravelHacks</td>\n",
       "      <td>\\n\\n[View Poll](https://www.reddit.com/poll/12...</td>\n",
       "      <td>Which airline do you prefer ?</td>\n",
       "      <td>NaN</td>\n",
       "      <td>TMavrat</td>\n",
       "      <td>NaN</td>\n",
       "      <td>0</td>\n",
       "      <td>3/28/2023 2:18</td>\n",
       "    </tr>\n",
       "    <tr>\n",
       "      <th>393</th>\n",
       "      <td>TravelHacks</td>\n",
       "      <td>\\n\\n[View Poll](https://www.reddit.com/poll/12...</td>\n",
       "      <td>Which of these Swiss cities is best to base in...</td>\n",
       "      <td>NaN</td>\n",
       "      <td>TMavrat</td>\n",
       "      <td>NaN</td>\n",
       "      <td>0</td>\n",
       "      <td>3/25/2023 1:39</td>\n",
       "    </tr>\n",
       "    <tr>\n",
       "      <th>394</th>\n",
       "      <td>TravelHacks</td>\n",
       "      <td>\\n\\n[View Poll](https://www.reddit.com/poll/12...</td>\n",
       "      <td>Which of these Swiss cities is best to base in...</td>\n",
       "      <td>NaN</td>\n",
       "      <td>TMavrat</td>\n",
       "      <td>NaN</td>\n",
       "      <td>0</td>\n",
       "      <td>3/25/2023 1:38</td>\n",
       "    </tr>\n",
       "  </tbody>\n",
       "</table>\n",
       "</div>"
      ],
      "text/plain": [
       "       subreddit                                           selftext  \\\n",
       "11   TravelHacks  \\n\\n[View Poll](https://www.reddit.com/poll/12...   \n",
       "184  TravelHacks  \\n\\n[View Poll](https://www.reddit.com/poll/12...   \n",
       "256  TravelHacks  \\n\\n[View Poll](https://www.reddit.com/poll/12...   \n",
       "393  TravelHacks  \\n\\n[View Poll](https://www.reddit.com/poll/12...   \n",
       "394  TravelHacks  \\n\\n[View Poll](https://www.reddit.com/poll/12...   \n",
       "\n",
       "                                                 title  distinguished  \\\n",
       "11     Which would you prefer to visit on a euro trip?            NaN   \n",
       "184            Where do you carry your laptop charger?            NaN   \n",
       "256                      Which airline do you prefer ?            NaN   \n",
       "393  Which of these Swiss cities is best to base in...            NaN   \n",
       "394  Which of these Swiss cities is best to base in...            NaN   \n",
       "\n",
       "      author removed_by_category  num_comments utc_datetime_str  \n",
       "11   TMavrat                 NaN             0   4/1/2023 15:32  \n",
       "184  TMavrat                 NaN             0   3/29/2023 3:15  \n",
       "256  TMavrat                 NaN             0   3/28/2023 2:18  \n",
       "393  TMavrat                 NaN             0   3/25/2023 1:39  \n",
       "394  TMavrat                 NaN             0   3/25/2023 1:38  "
      ]
     },
     "execution_count": 17,
     "metadata": {},
     "output_type": "execute_result"
    }
   ],
   "source": [
    "# looks like TMavrat is the moderator and all posts were poll; will drop the posts from him\n",
    "travelhacks.loc[travelhacks['author'].str.contains(r'TMavrat')].head()"
   ]
  },
  {
   "cell_type": "code",
   "execution_count": 18,
   "id": "e393d109",
   "metadata": {},
   "outputs": [
    {
     "data": {
      "text/html": [
       "<div>\n",
       "<style scoped>\n",
       "    .dataframe tbody tr th:only-of-type {\n",
       "        vertical-align: middle;\n",
       "    }\n",
       "\n",
       "    .dataframe tbody tr th {\n",
       "        vertical-align: top;\n",
       "    }\n",
       "\n",
       "    .dataframe thead th {\n",
       "        text-align: right;\n",
       "    }\n",
       "</style>\n",
       "<table border=\"1\" class=\"dataframe\">\n",
       "  <thead>\n",
       "    <tr style=\"text-align: right;\">\n",
       "      <th></th>\n",
       "      <th>subreddit</th>\n",
       "      <th>selftext</th>\n",
       "      <th>title</th>\n",
       "      <th>distinguished</th>\n",
       "      <th>author</th>\n",
       "      <th>removed_by_category</th>\n",
       "      <th>num_comments</th>\n",
       "      <th>utc_datetime_str</th>\n",
       "    </tr>\n",
       "  </thead>\n",
       "  <tbody>\n",
       "    <tr>\n",
       "      <th>295</th>\n",
       "      <td>TravelHacks</td>\n",
       "      <td></td>\n",
       "      <td>Travel to Luon cave, Halong bay Vietnam, from ...</td>\n",
       "      <td>NaN</td>\n",
       "      <td>zimmermanus</td>\n",
       "      <td>reddit</td>\n",
       "      <td>0</td>\n",
       "      <td>3/27/2023 8:23</td>\n",
       "    </tr>\n",
       "    <tr>\n",
       "      <th>347</th>\n",
       "      <td>TravelHacks</td>\n",
       "      <td></td>\n",
       "      <td>EXCELTREND SUMMER OUTING AT HIDDEN VALLEY PINA...</td>\n",
       "      <td>NaN</td>\n",
       "      <td>zimmermanus</td>\n",
       "      <td>reddit</td>\n",
       "      <td>0</td>\n",
       "      <td>3/26/2023 6:29</td>\n",
       "    </tr>\n",
       "    <tr>\n",
       "      <th>427</th>\n",
       "      <td>TravelHacks</td>\n",
       "      <td></td>\n",
       "      <td>Halong Bay Vietnam Capella cruise cooking clas...</td>\n",
       "      <td>NaN</td>\n",
       "      <td>zimmermanus</td>\n",
       "      <td>reddit</td>\n",
       "      <td>0</td>\n",
       "      <td>3/24/2023 5:25</td>\n",
       "    </tr>\n",
       "    <tr>\n",
       "      <th>466</th>\n",
       "      <td>TravelHacks</td>\n",
       "      <td></td>\n",
       "      <td>Tour Halong Bay Vietnam Capella cruise ship. Y...</td>\n",
       "      <td>NaN</td>\n",
       "      <td>zimmermanus</td>\n",
       "      <td>reddit</td>\n",
       "      <td>0</td>\n",
       "      <td>3/23/2023 3:17</td>\n",
       "    </tr>\n",
       "    <tr>\n",
       "      <th>613</th>\n",
       "      <td>TravelHacks</td>\n",
       "      <td></td>\n",
       "      <td>Fly to and luxury Capella Cruise Halong Bay Vi...</td>\n",
       "      <td>NaN</td>\n",
       "      <td>zimmermanus</td>\n",
       "      <td>reddit</td>\n",
       "      <td>0</td>\n",
       "      <td>3/20/2023 3:10</td>\n",
       "    </tr>\n",
       "  </tbody>\n",
       "</table>\n",
       "</div>"
      ],
      "text/plain": [
       "       subreddit selftext                                              title  \\\n",
       "295  TravelHacks           Travel to Luon cave, Halong bay Vietnam, from ...   \n",
       "347  TravelHacks           EXCELTREND SUMMER OUTING AT HIDDEN VALLEY PINA...   \n",
       "427  TravelHacks           Halong Bay Vietnam Capella cruise cooking clas...   \n",
       "466  TravelHacks           Tour Halong Bay Vietnam Capella cruise ship. Y...   \n",
       "613  TravelHacks           Fly to and luxury Capella Cruise Halong Bay Vi...   \n",
       "\n",
       "     distinguished       author removed_by_category  num_comments  \\\n",
       "295            NaN  zimmermanus              reddit             0   \n",
       "347            NaN  zimmermanus              reddit             0   \n",
       "427            NaN  zimmermanus              reddit             0   \n",
       "466            NaN  zimmermanus              reddit             0   \n",
       "613            NaN  zimmermanus              reddit             0   \n",
       "\n",
       "    utc_datetime_str  \n",
       "295   3/27/2023 8:23  \n",
       "347   3/26/2023 6:29  \n",
       "427   3/24/2023 5:25  \n",
       "466   3/23/2023 3:17  \n",
       "613   3/20/2023 3:10  "
      ]
     },
     "execution_count": 18,
     "metadata": {},
     "output_type": "execute_result"
    }
   ],
   "source": [
    "# posts from zimmermanus are not mod posts; will keep them\n",
    "travelhacks.loc[travelhacks['author'].str.contains(r'zimmermanus')].head()"
   ]
  },
  {
   "cell_type": "code",
   "execution_count": 19,
   "id": "1ed46691",
   "metadata": {},
   "outputs": [
    {
     "data": {
      "text/html": [
       "<div>\n",
       "<style scoped>\n",
       "    .dataframe tbody tr th:only-of-type {\n",
       "        vertical-align: middle;\n",
       "    }\n",
       "\n",
       "    .dataframe tbody tr th {\n",
       "        vertical-align: top;\n",
       "    }\n",
       "\n",
       "    .dataframe thead th {\n",
       "        text-align: right;\n",
       "    }\n",
       "</style>\n",
       "<table border=\"1\" class=\"dataframe\">\n",
       "  <thead>\n",
       "    <tr style=\"text-align: right;\">\n",
       "      <th></th>\n",
       "      <th>subreddit</th>\n",
       "      <th>selftext</th>\n",
       "      <th>title</th>\n",
       "      <th>distinguished</th>\n",
       "      <th>author</th>\n",
       "      <th>removed_by_category</th>\n",
       "      <th>num_comments</th>\n",
       "      <th>utc_datetime_str</th>\n",
       "    </tr>\n",
       "  </thead>\n",
       "  <tbody>\n",
       "    <tr>\n",
       "      <th>97</th>\n",
       "      <td>TravelHacks</td>\n",
       "      <td></td>\n",
       "      <td>What apps do you use for trip planning?</td>\n",
       "      <td>NaN</td>\n",
       "      <td>[deleted]</td>\n",
       "      <td>deleted</td>\n",
       "      <td>0</td>\n",
       "      <td>3/30/2023 17:21</td>\n",
       "    </tr>\n",
       "    <tr>\n",
       "      <th>307</th>\n",
       "      <td>TravelHacks</td>\n",
       "      <td></td>\n",
       "      <td>Is 34k enough to do a roadtrip in the US for 1...</td>\n",
       "      <td>NaN</td>\n",
       "      <td>[deleted]</td>\n",
       "      <td>deleted</td>\n",
       "      <td>0</td>\n",
       "      <td>3/27/2023 2:09</td>\n",
       "    </tr>\n",
       "    <tr>\n",
       "      <th>373</th>\n",
       "      <td>TravelHacks</td>\n",
       "      <td></td>\n",
       "      <td>Advice: travel to Europe</td>\n",
       "      <td>NaN</td>\n",
       "      <td>[deleted]</td>\n",
       "      <td>deleted</td>\n",
       "      <td>0</td>\n",
       "      <td>3/25/2023 15:18</td>\n",
       "    </tr>\n",
       "    <tr>\n",
       "      <th>383</th>\n",
       "      <td>TravelHacks</td>\n",
       "      <td></td>\n",
       "      <td>What strikes first time visitors as special or...</td>\n",
       "      <td>NaN</td>\n",
       "      <td>[deleted]</td>\n",
       "      <td>deleted</td>\n",
       "      <td>0</td>\n",
       "      <td>3/25/2023 10:20</td>\n",
       "    </tr>\n",
       "    <tr>\n",
       "      <th>391</th>\n",
       "      <td>TravelHacks</td>\n",
       "      <td></td>\n",
       "      <td>Visiting Black Rock City in winter, a good idea?</td>\n",
       "      <td>NaN</td>\n",
       "      <td>[deleted]</td>\n",
       "      <td>deleted</td>\n",
       "      <td>0</td>\n",
       "      <td>3/25/2023 2:54</td>\n",
       "    </tr>\n",
       "  </tbody>\n",
       "</table>\n",
       "</div>"
      ],
      "text/plain": [
       "       subreddit selftext                                              title  \\\n",
       "97   TravelHacks                     What apps do you use for trip planning?   \n",
       "307  TravelHacks           Is 34k enough to do a roadtrip in the US for 1...   \n",
       "373  TravelHacks                                    Advice: travel to Europe   \n",
       "383  TravelHacks           What strikes first time visitors as special or...   \n",
       "391  TravelHacks            Visiting Black Rock City in winter, a good idea?   \n",
       "\n",
       "     distinguished     author removed_by_category  num_comments  \\\n",
       "97             NaN  [deleted]             deleted             0   \n",
       "307            NaN  [deleted]             deleted             0   \n",
       "373            NaN  [deleted]             deleted             0   \n",
       "383            NaN  [deleted]             deleted             0   \n",
       "391            NaN  [deleted]             deleted             0   \n",
       "\n",
       "    utc_datetime_str  \n",
       "97   3/30/2023 17:21  \n",
       "307   3/27/2023 2:09  \n",
       "373  3/25/2023 15:18  \n",
       "383  3/25/2023 10:20  \n",
       "391   3/25/2023 2:54  "
      ]
     },
     "execution_count": 19,
     "metadata": {},
     "output_type": "execute_result"
    }
   ],
   "source": [
    "# will remove the posts that were deleted; \n",
    "# because the post may be removed for many other reasons: spam, author removed, advertisements\n",
    "travelhacks.loc[travelhacks['author'].str.contains(r'delete')].head()"
   ]
  },
  {
   "cell_type": "code",
   "execution_count": 20,
   "id": "6771e3c6",
   "metadata": {},
   "outputs": [
    {
     "data": {
      "text/plain": [
       "[deleted]               81\n",
       "AutoModerator           24\n",
       "Automatic_Team_4280     11\n",
       "dsper32                 11\n",
       "Automatic_Aspect_319    10\n",
       "                        ..\n",
       "apc961                   1\n",
       "Necessary-Buffalo288     1\n",
       "becoolbasf               1\n",
       "BombsOnTheBridge         1\n",
       "pricha12                 1\n",
       "Name: author, Length: 2919, dtype: int64"
      ]
     },
     "execution_count": 20,
     "metadata": {},
     "output_type": "execute_result"
    }
   ],
   "source": [
    "awardtravel['author'].value_counts()"
   ]
  },
  {
   "cell_type": "code",
   "execution_count": 21,
   "id": "2fdb20ba",
   "metadata": {
    "scrolled": false
   },
   "outputs": [
    {
     "data": {
      "text/html": [
       "<div>\n",
       "<style scoped>\n",
       "    .dataframe tbody tr th:only-of-type {\n",
       "        vertical-align: middle;\n",
       "    }\n",
       "\n",
       "    .dataframe tbody tr th {\n",
       "        vertical-align: top;\n",
       "    }\n",
       "\n",
       "    .dataframe thead th {\n",
       "        text-align: right;\n",
       "    }\n",
       "</style>\n",
       "<table border=\"1\" class=\"dataframe\">\n",
       "  <thead>\n",
       "    <tr style=\"text-align: right;\">\n",
       "      <th></th>\n",
       "      <th>subreddit</th>\n",
       "      <th>selftext</th>\n",
       "      <th>title</th>\n",
       "      <th>distinguished</th>\n",
       "      <th>author</th>\n",
       "      <th>removed_by_category</th>\n",
       "      <th>num_comments</th>\n",
       "      <th>utc_datetime_str</th>\n",
       "    </tr>\n",
       "  </thead>\n",
       "  <tbody>\n",
       "    <tr>\n",
       "      <th>139</th>\n",
       "      <td>awardtravel</td>\n",
       "      <td>Welcome to the weekly discussion thread!\\n\\nTh...</td>\n",
       "      <td>Weekly Discussion Thread - March 27, 2023</td>\n",
       "      <td>NaN</td>\n",
       "      <td>AutoModerator</td>\n",
       "      <td>NaN</td>\n",
       "      <td>0</td>\n",
       "      <td>3/27/2023 10:01</td>\n",
       "    </tr>\n",
       "    <tr>\n",
       "      <th>450</th>\n",
       "      <td>awardtravel</td>\n",
       "      <td>Welcome to the weekly discussion thread!\\n\\nTh...</td>\n",
       "      <td>Weekly Discussion Thread - March 13, 2023</td>\n",
       "      <td>NaN</td>\n",
       "      <td>AutoModerator</td>\n",
       "      <td>NaN</td>\n",
       "      <td>0</td>\n",
       "      <td>3/13/2023 10:01</td>\n",
       "    </tr>\n",
       "    <tr>\n",
       "      <th>616</th>\n",
       "      <td>awardtravel</td>\n",
       "      <td>Welcome to the weekly discussion thread!\\n\\nTh...</td>\n",
       "      <td>Weekly Discussion Thread - March 06, 2023</td>\n",
       "      <td>NaN</td>\n",
       "      <td>AutoModerator</td>\n",
       "      <td>NaN</td>\n",
       "      <td>0</td>\n",
       "      <td>3/6/2023 11:01</td>\n",
       "    </tr>\n",
       "    <tr>\n",
       "      <th>798</th>\n",
       "      <td>awardtravel</td>\n",
       "      <td>Welcome to the weekly discussion thread!\\n\\nTh...</td>\n",
       "      <td>Weekly Discussion Thread - February 27, 2023</td>\n",
       "      <td>NaN</td>\n",
       "      <td>AutoModerator</td>\n",
       "      <td>NaN</td>\n",
       "      <td>0</td>\n",
       "      <td>2/27/2023 11:01</td>\n",
       "    </tr>\n",
       "    <tr>\n",
       "      <th>962</th>\n",
       "      <td>awardtravel</td>\n",
       "      <td>Welcome to the weekly discussion thread!\\n\\nTh...</td>\n",
       "      <td>Weekly Discussion Thread - February 20, 2023</td>\n",
       "      <td>NaN</td>\n",
       "      <td>AutoModerator</td>\n",
       "      <td>NaN</td>\n",
       "      <td>0</td>\n",
       "      <td>2/20/2023 11:01</td>\n",
       "    </tr>\n",
       "  </tbody>\n",
       "</table>\n",
       "</div>"
      ],
      "text/plain": [
       "       subreddit                                           selftext  \\\n",
       "139  awardtravel  Welcome to the weekly discussion thread!\\n\\nTh...   \n",
       "450  awardtravel  Welcome to the weekly discussion thread!\\n\\nTh...   \n",
       "616  awardtravel  Welcome to the weekly discussion thread!\\n\\nTh...   \n",
       "798  awardtravel  Welcome to the weekly discussion thread!\\n\\nTh...   \n",
       "962  awardtravel  Welcome to the weekly discussion thread!\\n\\nTh...   \n",
       "\n",
       "                                            title  distinguished  \\\n",
       "139     Weekly Discussion Thread - March 27, 2023            NaN   \n",
       "450     Weekly Discussion Thread - March 13, 2023            NaN   \n",
       "616     Weekly Discussion Thread - March 06, 2023            NaN   \n",
       "798  Weekly Discussion Thread - February 27, 2023            NaN   \n",
       "962  Weekly Discussion Thread - February 20, 2023            NaN   \n",
       "\n",
       "            author removed_by_category  num_comments utc_datetime_str  \n",
       "139  AutoModerator                 NaN             0  3/27/2023 10:01  \n",
       "450  AutoModerator                 NaN             0  3/13/2023 10:01  \n",
       "616  AutoModerator                 NaN             0   3/6/2023 11:01  \n",
       "798  AutoModerator                 NaN             0  2/27/2023 11:01  \n",
       "962  AutoModerator                 NaN             0  2/20/2023 11:01  "
      ]
     },
     "execution_count": 21,
     "metadata": {},
     "output_type": "execute_result"
    }
   ],
   "source": [
    "awardtravel.loc[awardtravel['author'].str.contains(r'AutoModerator')].head()"
   ]
  },
  {
   "cell_type": "code",
   "execution_count": 22,
   "id": "4d4849dc",
   "metadata": {
    "scrolled": true
   },
   "outputs": [
    {
     "data": {
      "text/html": [
       "<div>\n",
       "<style scoped>\n",
       "    .dataframe tbody tr th:only-of-type {\n",
       "        vertical-align: middle;\n",
       "    }\n",
       "\n",
       "    .dataframe tbody tr th {\n",
       "        vertical-align: top;\n",
       "    }\n",
       "\n",
       "    .dataframe thead th {\n",
       "        text-align: right;\n",
       "    }\n",
       "</style>\n",
       "<table border=\"1\" class=\"dataframe\">\n",
       "  <thead>\n",
       "    <tr style=\"text-align: right;\">\n",
       "      <th></th>\n",
       "      <th>subreddit</th>\n",
       "      <th>selftext</th>\n",
       "      <th>title</th>\n",
       "      <th>distinguished</th>\n",
       "      <th>author</th>\n",
       "      <th>removed_by_category</th>\n",
       "      <th>num_comments</th>\n",
       "      <th>utc_datetime_str</th>\n",
       "    </tr>\n",
       "  </thead>\n",
       "  <tbody>\n",
       "    <tr>\n",
       "      <th>752</th>\n",
       "      <td>awardtravel</td>\n",
       "      <td></td>\n",
       "      <td>What's the best MR to LifeMiles bonus you've seen</td>\n",
       "      <td>NaN</td>\n",
       "      <td>[deleted]</td>\n",
       "      <td>deleted</td>\n",
       "      <td>2</td>\n",
       "      <td>3/1/2023 6:26</td>\n",
       "    </tr>\n",
       "    <tr>\n",
       "      <th>754</th>\n",
       "      <td>awardtravel</td>\n",
       "      <td></td>\n",
       "      <td>concerned about missing my connecting flights ...</td>\n",
       "      <td>NaN</td>\n",
       "      <td>[deleted]</td>\n",
       "      <td>deleted</td>\n",
       "      <td>3</td>\n",
       "      <td>3/1/2023 4:11</td>\n",
       "    </tr>\n",
       "    <tr>\n",
       "      <th>1821</th>\n",
       "      <td>awardtravel</td>\n",
       "      <td></td>\n",
       "      <td>Can I be added to a Marriott account to obtain...</td>\n",
       "      <td>NaN</td>\n",
       "      <td>[deleted]</td>\n",
       "      <td>deleted</td>\n",
       "      <td>1</td>\n",
       "      <td>1/17/2023 1:09</td>\n",
       "    </tr>\n",
       "    <tr>\n",
       "      <th>2055</th>\n",
       "      <td>awardtravel</td>\n",
       "      <td></td>\n",
       "      <td>Can a paid upgrade with BA from economy to pre...</td>\n",
       "      <td>NaN</td>\n",
       "      <td>[deleted]</td>\n",
       "      <td>deleted</td>\n",
       "      <td>0</td>\n",
       "      <td>1/9/2023 6:48</td>\n",
       "    </tr>\n",
       "    <tr>\n",
       "      <th>2947</th>\n",
       "      <td>awardtravel</td>\n",
       "      <td></td>\n",
       "      <td>Close-In Availability Game Prep: USA =&amp;gt; SYD...</td>\n",
       "      <td>NaN</td>\n",
       "      <td>[deleted]</td>\n",
       "      <td>deleted</td>\n",
       "      <td>1</td>\n",
       "      <td>12/2/2022 22:34</td>\n",
       "    </tr>\n",
       "  </tbody>\n",
       "</table>\n",
       "</div>"
      ],
      "text/plain": [
       "        subreddit selftext                                              title  \\\n",
       "752   awardtravel           What's the best MR to LifeMiles bonus you've seen   \n",
       "754   awardtravel           concerned about missing my connecting flights ...   \n",
       "1821  awardtravel           Can I be added to a Marriott account to obtain...   \n",
       "2055  awardtravel           Can a paid upgrade with BA from economy to pre...   \n",
       "2947  awardtravel           Close-In Availability Game Prep: USA =&gt; SYD...   \n",
       "\n",
       "      distinguished     author removed_by_category  num_comments  \\\n",
       "752             NaN  [deleted]             deleted             2   \n",
       "754             NaN  [deleted]             deleted             3   \n",
       "1821            NaN  [deleted]             deleted             1   \n",
       "2055            NaN  [deleted]             deleted             0   \n",
       "2947            NaN  [deleted]             deleted             1   \n",
       "\n",
       "     utc_datetime_str  \n",
       "752     3/1/2023 6:26  \n",
       "754     3/1/2023 4:11  \n",
       "1821   1/17/2023 1:09  \n",
       "2055    1/9/2023 6:48  \n",
       "2947  12/2/2022 22:34  "
      ]
     },
     "execution_count": 22,
     "metadata": {},
     "output_type": "execute_result"
    }
   ],
   "source": [
    "# will remove the posts that were deleted; \n",
    "# because the post may be removed for many other reasons: spam, author removed, advertisements. duplicate posts\n",
    "awardtravel.loc[awardtravel['author'].str.contains(r'\\[deleted\\]')].head()"
   ]
  },
  {
   "cell_type": "code",
   "execution_count": 23,
   "id": "72cab7a1",
   "metadata": {},
   "outputs": [],
   "source": [
    "# drop moderator posts\n",
    "travelhacks.drop(index=travelhacks[travelhacks['author'].str.contains('TMavrat|deleted')].index, inplace=True)\n",
    "awardtravel.drop(index=awardtravel[awardtravel['author'].str.contains('AutoModerator|deleted')].index, inplace=True)"
   ]
  },
  {
   "cell_type": "code",
   "execution_count": 24,
   "id": "98d4ba9b",
   "metadata": {
    "scrolled": true
   },
   "outputs": [
    {
     "data": {
      "text/plain": [
       "((3761, 8), (3843, 8))"
      ]
     },
     "execution_count": 24,
     "metadata": {},
     "output_type": "execute_result"
    }
   ],
   "source": [
    "travelhacks.shape, awardtravel.shape"
   ]
  },
  {
   "cell_type": "markdown",
   "id": "6a72dd17",
   "metadata": {},
   "source": [
    "#### Drop unwanted columns: "
   ]
  },
  {
   "cell_type": "code",
   "execution_count": 25,
   "id": "6e10690e",
   "metadata": {
    "scrolled": false
   },
   "outputs": [
    {
     "data": {
      "text/plain": [
       "distinguished          3761\n",
       "removed_by_category    2135\n",
       "dtype: int64"
      ]
     },
     "execution_count": 25,
     "metadata": {},
     "output_type": "execute_result"
    }
   ],
   "source": [
    "# Check for null values\n",
    "travelhacks.isnull().sum()[travelhacks.isnull().sum() > 0]"
   ]
  },
  {
   "cell_type": "code",
   "execution_count": 26,
   "id": "2ccf2fe9",
   "metadata": {
    "scrolled": true
   },
   "outputs": [
    {
     "data": {
      "text/plain": [
       "distinguished          3843\n",
       "removed_by_category    3452\n",
       "dtype: int64"
      ]
     },
     "execution_count": 26,
     "metadata": {},
     "output_type": "execute_result"
    }
   ],
   "source": [
    "# Check for null values\n",
    "awardtravel.isnull().sum()[awardtravel.isnull().sum() > 0]"
   ]
  },
  {
   "cell_type": "code",
   "execution_count": 27,
   "id": "2b4bb938",
   "metadata": {},
   "outputs": [],
   "source": [
    "travelhacks.drop(columns = ['distinguished', 'removed_by_category'], inplace = True)\n",
    "awardtravel.drop(columns = ['distinguished', 'removed_by_category'], inplace = True)"
   ]
  },
  {
   "cell_type": "code",
   "execution_count": 28,
   "id": "48f81e71",
   "metadata": {},
   "outputs": [
    {
     "data": {
      "text/plain": [
       "subreddit           0\n",
       "selftext            0\n",
       "title               0\n",
       "author              0\n",
       "num_comments        0\n",
       "utc_datetime_str    0\n",
       "dtype: int64"
      ]
     },
     "execution_count": 28,
     "metadata": {},
     "output_type": "execute_result"
    }
   ],
   "source": [
    "travelhacks.isna().sum()"
   ]
  },
  {
   "cell_type": "code",
   "execution_count": 29,
   "id": "943b8fcd",
   "metadata": {
    "scrolled": false
   },
   "outputs": [
    {
     "data": {
      "text/plain": [
       "subreddit           0\n",
       "selftext            0\n",
       "title               0\n",
       "author              0\n",
       "num_comments        0\n",
       "utc_datetime_str    0\n",
       "dtype: int64"
      ]
     },
     "execution_count": 29,
     "metadata": {},
     "output_type": "execute_result"
    }
   ],
   "source": [
    "awardtravel.isna().sum()"
   ]
  },
  {
   "cell_type": "code",
   "execution_count": 30,
   "id": "fe836477",
   "metadata": {
    "scrolled": false
   },
   "outputs": [
    {
     "data": {
      "text/html": [
       "<div>\n",
       "<style scoped>\n",
       "    .dataframe tbody tr th:only-of-type {\n",
       "        vertical-align: middle;\n",
       "    }\n",
       "\n",
       "    .dataframe tbody tr th {\n",
       "        vertical-align: top;\n",
       "    }\n",
       "\n",
       "    .dataframe thead th {\n",
       "        text-align: right;\n",
       "    }\n",
       "</style>\n",
       "<table border=\"1\" class=\"dataframe\">\n",
       "  <thead>\n",
       "    <tr style=\"text-align: right;\">\n",
       "      <th></th>\n",
       "      <th>count</th>\n",
       "    </tr>\n",
       "    <tr>\n",
       "      <th>author</th>\n",
       "      <th></th>\n",
       "    </tr>\n",
       "  </thead>\n",
       "  <tbody>\n",
       "    <tr>\n",
       "      <th>zimmermanus</th>\n",
       "      <td>38</td>\n",
       "    </tr>\n",
       "    <tr>\n",
       "      <th>John_Martson_isalive</th>\n",
       "      <td>24</td>\n",
       "    </tr>\n",
       "    <tr>\n",
       "      <th>Independent_Job5063</th>\n",
       "      <td>21</td>\n",
       "    </tr>\n",
       "    <tr>\n",
       "      <th>jameswood111</th>\n",
       "      <td>21</td>\n",
       "    </tr>\n",
       "    <tr>\n",
       "      <th>wallpapersdance</th>\n",
       "      <td>10</td>\n",
       "    </tr>\n",
       "    <tr>\n",
       "      <th>trendstori</th>\n",
       "      <td>9</td>\n",
       "    </tr>\n",
       "    <tr>\n",
       "      <th>SameCryptographer612</th>\n",
       "      <td>8</td>\n",
       "    </tr>\n",
       "    <tr>\n",
       "      <th>rockarolla78</th>\n",
       "      <td>8</td>\n",
       "    </tr>\n",
       "    <tr>\n",
       "      <th>Poum12</th>\n",
       "      <td>7</td>\n",
       "    </tr>\n",
       "    <tr>\n",
       "      <th>No_Service7344</th>\n",
       "      <td>7</td>\n",
       "    </tr>\n",
       "  </tbody>\n",
       "</table>\n",
       "</div>"
      ],
      "text/plain": [
       "                      count\n",
       "author                     \n",
       "zimmermanus              38\n",
       "John_Martson_isalive     24\n",
       "Independent_Job5063      21\n",
       "jameswood111             21\n",
       "wallpapersdance          10\n",
       "trendstori                9\n",
       "SameCryptographer612      8\n",
       "rockarolla78              8\n",
       "Poum12                    7\n",
       "No_Service7344            7"
      ]
     },
     "execution_count": 30,
     "metadata": {},
     "output_type": "execute_result"
    }
   ],
   "source": [
    "#number of posts per user\n",
    "travelhacks.groupby(['author'])['subreddit'].agg(['count']).sort_values('count', ascending = False).head(10)"
   ]
  },
  {
   "cell_type": "code",
   "execution_count": 31,
   "id": "faa7e3ad",
   "metadata": {
    "scrolled": true
   },
   "outputs": [
    {
     "data": {
      "text/html": [
       "<div>\n",
       "<style scoped>\n",
       "    .dataframe tbody tr th:only-of-type {\n",
       "        vertical-align: middle;\n",
       "    }\n",
       "\n",
       "    .dataframe tbody tr th {\n",
       "        vertical-align: top;\n",
       "    }\n",
       "\n",
       "    .dataframe thead th {\n",
       "        text-align: right;\n",
       "    }\n",
       "</style>\n",
       "<table border=\"1\" class=\"dataframe\">\n",
       "  <thead>\n",
       "    <tr style=\"text-align: right;\">\n",
       "      <th></th>\n",
       "      <th>count</th>\n",
       "    </tr>\n",
       "    <tr>\n",
       "      <th>author</th>\n",
       "      <th></th>\n",
       "    </tr>\n",
       "  </thead>\n",
       "  <tbody>\n",
       "    <tr>\n",
       "      <th>dsper32</th>\n",
       "      <td>11</td>\n",
       "    </tr>\n",
       "    <tr>\n",
       "      <th>Automatic_Team_4280</th>\n",
       "      <td>11</td>\n",
       "    </tr>\n",
       "    <tr>\n",
       "      <th>Automatic_Aspect_319</th>\n",
       "      <td>10</td>\n",
       "    </tr>\n",
       "    <tr>\n",
       "      <th>AbhiAKA</th>\n",
       "      <td>9</td>\n",
       "    </tr>\n",
       "    <tr>\n",
       "      <th>No-Competition-8938</th>\n",
       "      <td>9</td>\n",
       "    </tr>\n",
       "    <tr>\n",
       "      <th>newtablecloth</th>\n",
       "      <td>8</td>\n",
       "    </tr>\n",
       "    <tr>\n",
       "      <th>slidinginlife</th>\n",
       "      <td>8</td>\n",
       "    </tr>\n",
       "    <tr>\n",
       "      <th>Super-Programmer7820</th>\n",
       "      <td>8</td>\n",
       "    </tr>\n",
       "    <tr>\n",
       "      <th>scfclsb</th>\n",
       "      <td>8</td>\n",
       "    </tr>\n",
       "    <tr>\n",
       "      <th>StrangeAd5016</th>\n",
       "      <td>7</td>\n",
       "    </tr>\n",
       "  </tbody>\n",
       "</table>\n",
       "</div>"
      ],
      "text/plain": [
       "                      count\n",
       "author                     \n",
       "dsper32                  11\n",
       "Automatic_Team_4280      11\n",
       "Automatic_Aspect_319     10\n",
       "AbhiAKA                   9\n",
       "No-Competition-8938       9\n",
       "newtablecloth             8\n",
       "slidinginlife             8\n",
       "Super-Programmer7820      8\n",
       "scfclsb                   8\n",
       "StrangeAd5016             7"
      ]
     },
     "execution_count": 31,
     "metadata": {},
     "output_type": "execute_result"
    }
   ],
   "source": [
    "#number of posts per user\n",
    "awardtravel.groupby(['author'])['subreddit'].agg(['count']).sort_values('count', ascending = False).head(10)"
   ]
  },
  {
   "cell_type": "code",
   "execution_count": 32,
   "id": "9a21a2b2",
   "metadata": {},
   "outputs": [
    {
     "data": {
      "text/html": [
       "<div>\n",
       "<style scoped>\n",
       "    .dataframe tbody tr th:only-of-type {\n",
       "        vertical-align: middle;\n",
       "    }\n",
       "\n",
       "    .dataframe tbody tr th {\n",
       "        vertical-align: top;\n",
       "    }\n",
       "\n",
       "    .dataframe thead th {\n",
       "        text-align: right;\n",
       "    }\n",
       "</style>\n",
       "<table border=\"1\" class=\"dataframe\">\n",
       "  <thead>\n",
       "    <tr style=\"text-align: right;\">\n",
       "      <th></th>\n",
       "      <th>num_comments</th>\n",
       "    </tr>\n",
       "  </thead>\n",
       "  <tbody>\n",
       "    <tr>\n",
       "      <th>count</th>\n",
       "      <td>3761.000000</td>\n",
       "    </tr>\n",
       "    <tr>\n",
       "      <th>mean</th>\n",
       "      <td>0.030045</td>\n",
       "    </tr>\n",
       "    <tr>\n",
       "      <th>std</th>\n",
       "      <td>0.559161</td>\n",
       "    </tr>\n",
       "    <tr>\n",
       "      <th>min</th>\n",
       "      <td>0.000000</td>\n",
       "    </tr>\n",
       "    <tr>\n",
       "      <th>25%</th>\n",
       "      <td>0.000000</td>\n",
       "    </tr>\n",
       "    <tr>\n",
       "      <th>50%</th>\n",
       "      <td>0.000000</td>\n",
       "    </tr>\n",
       "    <tr>\n",
       "      <th>75%</th>\n",
       "      <td>0.000000</td>\n",
       "    </tr>\n",
       "    <tr>\n",
       "      <th>max</th>\n",
       "      <td>18.000000</td>\n",
       "    </tr>\n",
       "  </tbody>\n",
       "</table>\n",
       "</div>"
      ],
      "text/plain": [
       "       num_comments\n",
       "count   3761.000000\n",
       "mean       0.030045\n",
       "std        0.559161\n",
       "min        0.000000\n",
       "25%        0.000000\n",
       "50%        0.000000\n",
       "75%        0.000000\n",
       "max       18.000000"
      ]
     },
     "execution_count": 32,
     "metadata": {},
     "output_type": "execute_result"
    }
   ],
   "source": [
    "travelhacks.describe()"
   ]
  },
  {
   "cell_type": "code",
   "execution_count": 33,
   "id": "1d462efa",
   "metadata": {},
   "outputs": [
    {
     "data": {
      "text/html": [
       "<div>\n",
       "<style scoped>\n",
       "    .dataframe tbody tr th:only-of-type {\n",
       "        vertical-align: middle;\n",
       "    }\n",
       "\n",
       "    .dataframe tbody tr th {\n",
       "        vertical-align: top;\n",
       "    }\n",
       "\n",
       "    .dataframe thead th {\n",
       "        text-align: right;\n",
       "    }\n",
       "</style>\n",
       "<table border=\"1\" class=\"dataframe\">\n",
       "  <thead>\n",
       "    <tr style=\"text-align: right;\">\n",
       "      <th></th>\n",
       "      <th>num_comments</th>\n",
       "    </tr>\n",
       "  </thead>\n",
       "  <tbody>\n",
       "    <tr>\n",
       "      <th>count</th>\n",
       "      <td>3843.000000</td>\n",
       "    </tr>\n",
       "    <tr>\n",
       "      <th>mean</th>\n",
       "      <td>1.853240</td>\n",
       "    </tr>\n",
       "    <tr>\n",
       "      <th>std</th>\n",
       "      <td>5.202391</td>\n",
       "    </tr>\n",
       "    <tr>\n",
       "      <th>min</th>\n",
       "      <td>0.000000</td>\n",
       "    </tr>\n",
       "    <tr>\n",
       "      <th>25%</th>\n",
       "      <td>1.000000</td>\n",
       "    </tr>\n",
       "    <tr>\n",
       "      <th>50%</th>\n",
       "      <td>1.000000</td>\n",
       "    </tr>\n",
       "    <tr>\n",
       "      <th>75%</th>\n",
       "      <td>1.000000</td>\n",
       "    </tr>\n",
       "    <tr>\n",
       "      <th>max</th>\n",
       "      <td>99.000000</td>\n",
       "    </tr>\n",
       "  </tbody>\n",
       "</table>\n",
       "</div>"
      ],
      "text/plain": [
       "       num_comments\n",
       "count   3843.000000\n",
       "mean       1.853240\n",
       "std        5.202391\n",
       "min        0.000000\n",
       "25%        1.000000\n",
       "50%        1.000000\n",
       "75%        1.000000\n",
       "max       99.000000"
      ]
     },
     "execution_count": 33,
     "metadata": {},
     "output_type": "execute_result"
    }
   ],
   "source": [
    "awardtravel.describe()"
   ]
  },
  {
   "cell_type": "markdown",
   "id": "d3db4c97",
   "metadata": {},
   "source": [
    "#### Check for duplicate rows: \n",
    "    Should not have any duplicate rows since they should have been dropped during scrapping steps. "
   ]
  },
  {
   "cell_type": "code",
   "execution_count": 34,
   "id": "c48667fb",
   "metadata": {
    "scrolled": true
   },
   "outputs": [
    {
     "data": {
      "text/plain": [
       "False    3761\n",
       "dtype: int64"
      ]
     },
     "execution_count": 34,
     "metadata": {},
     "output_type": "execute_result"
    }
   ],
   "source": [
    "travelhacks.duplicated(subset=['selftext','title']).value_counts()"
   ]
  },
  {
   "cell_type": "code",
   "execution_count": 35,
   "id": "2b6df0f5",
   "metadata": {
    "scrolled": true
   },
   "outputs": [
    {
     "data": {
      "text/plain": [
       "False    3843\n",
       "dtype: int64"
      ]
     },
     "execution_count": 35,
     "metadata": {},
     "output_type": "execute_result"
    }
   ],
   "source": [
    "awardtravel.duplicated(subset=['selftext','title']).value_counts()"
   ]
  },
  {
   "cell_type": "markdown",
   "id": "e717fdd7",
   "metadata": {},
   "source": [
    "#### Combine two dataframes for futher cleaning and data training"
   ]
  },
  {
   "cell_type": "code",
   "execution_count": 36,
   "id": "0c50e77d",
   "metadata": {
    "scrolled": true
   },
   "outputs": [
    {
     "data": {
      "text/plain": [
       "((3761, 6), (3843, 6))"
      ]
     },
     "execution_count": 36,
     "metadata": {},
     "output_type": "execute_result"
    }
   ],
   "source": [
    "travelhacks.shape, awardtravel.shape"
   ]
  },
  {
   "cell_type": "code",
   "execution_count": 37,
   "id": "709e0e80",
   "metadata": {},
   "outputs": [],
   "source": [
    "# combined and reset index\n",
    "df_combined = pd.concat([travelhacks, awardtravel], axis = 0)\n",
    "df_combined = df_combined.reset_index(drop=True)"
   ]
  },
  {
   "cell_type": "code",
   "execution_count": 38,
   "id": "c53c9e79",
   "metadata": {
    "scrolled": true
   },
   "outputs": [
    {
     "data": {
      "text/plain": [
       "(7604, 6)"
      ]
     },
     "execution_count": 38,
     "metadata": {},
     "output_type": "execute_result"
    }
   ],
   "source": [
    "df_combined.shape"
   ]
  },
  {
   "cell_type": "code",
   "execution_count": 39,
   "id": "c1e94ce9",
   "metadata": {
    "scrolled": true
   },
   "outputs": [
    {
     "name": "stdout",
     "output_type": "stream",
     "text": [
      "<class 'pandas.core.frame.DataFrame'>\n",
      "RangeIndex: 7604 entries, 0 to 7603\n",
      "Data columns (total 6 columns):\n",
      " #   Column            Non-Null Count  Dtype \n",
      "---  ------            --------------  ----- \n",
      " 0   subreddit         7604 non-null   object\n",
      " 1   selftext          7604 non-null   object\n",
      " 2   title             7604 non-null   object\n",
      " 3   author            7604 non-null   object\n",
      " 4   num_comments      7604 non-null   int64 \n",
      " 5   utc_datetime_str  7604 non-null   object\n",
      "dtypes: int64(1), object(5)\n",
      "memory usage: 356.6+ KB\n"
     ]
    }
   ],
   "source": [
    "df_combined.info()"
   ]
  },
  {
   "cell_type": "code",
   "execution_count": 40,
   "id": "9f792ee9",
   "metadata": {
    "scrolled": true
   },
   "outputs": [
    {
     "data": {
      "text/plain": [
       "awardtravel    3843\n",
       "TravelHacks    3761\n",
       "Name: subreddit, dtype: int64"
      ]
     },
     "execution_count": 40,
     "metadata": {},
     "output_type": "execute_result"
    }
   ],
   "source": [
    "df_combined.subreddit.value_counts()"
   ]
  },
  {
   "cell_type": "code",
   "execution_count": 41,
   "id": "d247ba43",
   "metadata": {},
   "outputs": [],
   "source": [
    "#convert the target into binary result\n",
    "df_combined['subreddit'].replace({'TravelHacks': 1, 'awardtravel': 0}, inplace=True)"
   ]
  },
  {
   "cell_type": "code",
   "execution_count": 42,
   "id": "c6b5c727",
   "metadata": {
    "scrolled": true
   },
   "outputs": [
    {
     "data": {
      "text/plain": [
       "0    3843\n",
       "1    3761\n",
       "Name: subreddit, dtype: int64"
      ]
     },
     "execution_count": 42,
     "metadata": {},
     "output_type": "execute_result"
    }
   ],
   "source": [
    "df_combined.subreddit.value_counts()"
   ]
  },
  {
   "cell_type": "markdown",
   "id": "095d135b",
   "metadata": {},
   "source": [
    "#### Create 'text' column to capture the content of both selftext and title"
   ]
  },
  {
   "cell_type": "code",
   "execution_count": 43,
   "id": "19a06943",
   "metadata": {
    "scrolled": true
   },
   "outputs": [
    {
     "data": {
      "text/html": [
       "<div>\n",
       "<style scoped>\n",
       "    .dataframe tbody tr th:only-of-type {\n",
       "        vertical-align: middle;\n",
       "    }\n",
       "\n",
       "    .dataframe tbody tr th {\n",
       "        vertical-align: top;\n",
       "    }\n",
       "\n",
       "    .dataframe thead th {\n",
       "        text-align: right;\n",
       "    }\n",
       "</style>\n",
       "<table border=\"1\" class=\"dataframe\">\n",
       "  <thead>\n",
       "    <tr style=\"text-align: right;\">\n",
       "      <th></th>\n",
       "      <th>subreddit</th>\n",
       "      <th>selftext</th>\n",
       "      <th>title</th>\n",
       "      <th>author</th>\n",
       "      <th>num_comments</th>\n",
       "      <th>utc_datetime_str</th>\n",
       "      <th>text</th>\n",
       "    </tr>\n",
       "  </thead>\n",
       "  <tbody>\n",
       "    <tr>\n",
       "      <th>0</th>\n",
       "      <td>1</td>\n",
       "      <td></td>\n",
       "      <td>Things I can get my boyfriend for his 1 month ...</td>\n",
       "      <td>AdministrativeLog689</td>\n",
       "      <td>0</td>\n",
       "      <td>4/1/2023 21:37</td>\n",
       "      <td>Things I can get my boyfriend for his 1 month ...</td>\n",
       "    </tr>\n",
       "    <tr>\n",
       "      <th>1</th>\n",
       "      <td>1</td>\n",
       "      <td>Apologies if this type of question has been as...</td>\n",
       "      <td>Cheap last minute flights?</td>\n",
       "      <td>anon_157</td>\n",
       "      <td>0</td>\n",
       "      <td>4/1/2023 21:06</td>\n",
       "      <td>Cheap last minute flights? Apologies if this t...</td>\n",
       "    </tr>\n",
       "    <tr>\n",
       "      <th>2</th>\n",
       "      <td>1</td>\n",
       "      <td></td>\n",
       "      <td>trip</td>\n",
       "      <td>Curious-Campaign2376</td>\n",
       "      <td>0</td>\n",
       "      <td>4/1/2023 19:08</td>\n",
       "      <td>trip</td>\n",
       "    </tr>\n",
       "    <tr>\n",
       "      <th>3</th>\n",
       "      <td>1</td>\n",
       "      <td>I'm planning my first international trip with ...</td>\n",
       "      <td>Any CFAR insurance options after 21 days?</td>\n",
       "      <td>sweettangerine08</td>\n",
       "      <td>0</td>\n",
       "      <td>4/1/2023 17:54</td>\n",
       "      <td>Any CFAR insurance options after 21 days? I'm ...</td>\n",
       "    </tr>\n",
       "    <tr>\n",
       "      <th>4</th>\n",
       "      <td>1</td>\n",
       "      <td></td>\n",
       "      <td>Egi</td>\n",
       "      <td>travelw_theballards</td>\n",
       "      <td>0</td>\n",
       "      <td>4/1/2023 17:12</td>\n",
       "      <td>Egi</td>\n",
       "    </tr>\n",
       "  </tbody>\n",
       "</table>\n",
       "</div>"
      ],
      "text/plain": [
       "   subreddit                                           selftext  \\\n",
       "0          1                                                      \n",
       "1          1  Apologies if this type of question has been as...   \n",
       "2          1                                                      \n",
       "3          1  I'm planning my first international trip with ...   \n",
       "4          1                                                      \n",
       "\n",
       "                                               title                author  \\\n",
       "0  Things I can get my boyfriend for his 1 month ...  AdministrativeLog689   \n",
       "1                         Cheap last minute flights?              anon_157   \n",
       "2                                               trip  Curious-Campaign2376   \n",
       "3          Any CFAR insurance options after 21 days?      sweettangerine08   \n",
       "4                                                Egi   travelw_theballards   \n",
       "\n",
       "   num_comments utc_datetime_str  \\\n",
       "0             0   4/1/2023 21:37   \n",
       "1             0   4/1/2023 21:06   \n",
       "2             0   4/1/2023 19:08   \n",
       "3             0   4/1/2023 17:54   \n",
       "4             0   4/1/2023 17:12   \n",
       "\n",
       "                                                text  \n",
       "0  Things I can get my boyfriend for his 1 month ...  \n",
       "1  Cheap last minute flights? Apologies if this t...  \n",
       "2                                              trip   \n",
       "3  Any CFAR insurance options after 21 days? I'm ...  \n",
       "4                                               Egi   "
      ]
     },
     "execution_count": 43,
     "metadata": {},
     "output_type": "execute_result"
    }
   ],
   "source": [
    "# Create 'text' column = Combination of selftext and title\n",
    "\n",
    "df_combined['text'] = df_combined['title'] + ' ' + df_combined['selftext']\n",
    "df_combined.head()"
   ]
  },
  {
   "cell_type": "code",
   "execution_count": 45,
   "id": "42377949",
   "metadata": {
    "scrolled": true
   },
   "outputs": [
    {
     "data": {
      "text/html": [
       "<div>\n",
       "<style scoped>\n",
       "    .dataframe tbody tr th:only-of-type {\n",
       "        vertical-align: middle;\n",
       "    }\n",
       "\n",
       "    .dataframe tbody tr th {\n",
       "        vertical-align: top;\n",
       "    }\n",
       "\n",
       "    .dataframe thead th {\n",
       "        text-align: right;\n",
       "    }\n",
       "</style>\n",
       "<table border=\"1\" class=\"dataframe\">\n",
       "  <thead>\n",
       "    <tr style=\"text-align: right;\">\n",
       "      <th></th>\n",
       "      <th>count</th>\n",
       "      <th>mean</th>\n",
       "      <th>std</th>\n",
       "      <th>min</th>\n",
       "      <th>25%</th>\n",
       "      <th>50%</th>\n",
       "      <th>75%</th>\n",
       "      <th>max</th>\n",
       "    </tr>\n",
       "    <tr>\n",
       "      <th>subreddit</th>\n",
       "      <th></th>\n",
       "      <th></th>\n",
       "      <th></th>\n",
       "      <th></th>\n",
       "      <th></th>\n",
       "      <th></th>\n",
       "      <th></th>\n",
       "      <th></th>\n",
       "    </tr>\n",
       "  </thead>\n",
       "  <tbody>\n",
       "    <tr>\n",
       "      <th>0</th>\n",
       "      <td>3843.0</td>\n",
       "      <td>1.853240</td>\n",
       "      <td>5.202391</td>\n",
       "      <td>0.0</td>\n",
       "      <td>1.0</td>\n",
       "      <td>1.0</td>\n",
       "      <td>1.0</td>\n",
       "      <td>99.0</td>\n",
       "    </tr>\n",
       "    <tr>\n",
       "      <th>1</th>\n",
       "      <td>3761.0</td>\n",
       "      <td>0.030045</td>\n",
       "      <td>0.559161</td>\n",
       "      <td>0.0</td>\n",
       "      <td>0.0</td>\n",
       "      <td>0.0</td>\n",
       "      <td>0.0</td>\n",
       "      <td>18.0</td>\n",
       "    </tr>\n",
       "  </tbody>\n",
       "</table>\n",
       "</div>"
      ],
      "text/plain": [
       "            count      mean       std  min  25%  50%  75%   max\n",
       "subreddit                                                      \n",
       "0          3843.0  1.853240  5.202391  0.0  1.0  1.0  1.0  99.0\n",
       "1          3761.0  0.030045  0.559161  0.0  0.0  0.0  0.0  18.0"
      ]
     },
     "execution_count": 45,
     "metadata": {},
     "output_type": "execute_result"
    }
   ],
   "source": [
    "df_combined.groupby('subreddit')['num_comments'].describe()"
   ]
  },
  {
   "cell_type": "code",
   "execution_count": 46,
   "id": "9c339fc0",
   "metadata": {
    "scrolled": false
   },
   "outputs": [
    {
     "data": {
      "image/png": "[encoded data removed]",
      "text/plain": [
       "<Figure size 800x300 with 1 Axes>"
      ]
     },
     "metadata": {},
     "output_type": "display_data"
    }
   ],
   "source": [
    "plt.figure(figsize=(8, 3))\n",
    "sns.boxplot(data = df_combined, x = 'num_comments', palette = 'viridis')\n",
    "plt.title(\"Box Plot of Miscellaneous Feature\");"
   ]
  },
  {
   "cell_type": "code",
   "execution_count": 47,
   "id": "1bb5f9fe",
   "metadata": {
    "scrolled": true
   },
   "outputs": [
    {
     "data": {
      "image/png": "[encoded data removed]",
      "text/plain": [
       "<Figure size 576.986x500 with 1 Axes>"
      ]
     },
     "metadata": {},
     "output_type": "display_data"
    }
   ],
   "source": [
    "sns.displot(x='num_comments', data=df_combined, hue='subreddit', kind=\"kde\", multiple=\"stack\")\n",
    "plt.title('Distribution Plot for Number of Comments \\nbetween two Subreddits');"
   ]
  },
  {
   "cell_type": "code",
   "execution_count": 48,
   "id": "fb404a04",
   "metadata": {
    "scrolled": true
   },
   "outputs": [],
   "source": [
    "# drop columns that are not needed for analysis\n",
    "df_combined.drop(columns = ['utc_datetime_str', 'selftext'], inplace = True)"
   ]
  },
  {
   "cell_type": "code",
   "execution_count": 49,
   "id": "2640f7c9",
   "metadata": {
    "scrolled": true
   },
   "outputs": [
    {
     "data": {
      "text/plain": [
       "(7604, 5)"
      ]
     },
     "execution_count": 49,
     "metadata": {},
     "output_type": "execute_result"
    }
   ],
   "source": [
    "df_combined.shape"
   ]
  },
  {
   "cell_type": "code",
   "execution_count": 50,
   "id": "8145ef48",
   "metadata": {
    "scrolled": true
   },
   "outputs": [
    {
     "name": "stdout",
     "output_type": "stream",
     "text": [
      "<class 'pandas.core.frame.DataFrame'>\n",
      "RangeIndex: 7604 entries, 0 to 7603\n",
      "Data columns (total 5 columns):\n",
      " #   Column        Non-Null Count  Dtype \n",
      "---  ------        --------------  ----- \n",
      " 0   subreddit     7604 non-null   int64 \n",
      " 1   title         7604 non-null   object\n",
      " 2   author        7604 non-null   object\n",
      " 3   num_comments  7604 non-null   int64 \n",
      " 4   text          7604 non-null   object\n",
      "dtypes: int64(2), object(3)\n",
      "memory usage: 297.2+ KB\n"
     ]
    }
   ],
   "source": [
    "df_combined.info()"
   ]
  },
  {
   "cell_type": "code",
   "execution_count": 51,
   "id": "5d001b7d",
   "metadata": {},
   "outputs": [],
   "source": [
    "# Save to csv\n",
    "df_combined.to_csv(\"../data/df_combined.csv\", index=False)"
   ]
  },
  {
   "cell_type": "code",
   "execution_count": 52,
   "id": "3a371e0d",
   "metadata": {},
   "outputs": [],
   "source": [
    "df_combined = pd.read_csv('../data/df_combined.csv')\n"
   ]
  },
  {
   "cell_type": "markdown",
   "id": "6d2fc83b",
   "metadata": {},
   "source": [
    "### Text preprocessing"
   ]
  },
  {
   "cell_type": "code",
   "execution_count": 53,
   "id": "1aa9b70a",
   "metadata": {},
   "outputs": [],
   "source": [
    "from bs4 import BeautifulSoup      "
   ]
  },
  {
   "cell_type": "code",
   "execution_count": 54,
   "id": "e0beda71",
   "metadata": {
    "scrolled": true
   },
   "outputs": [],
   "source": [
    "import spacy\n",
    "#spacy.cli.download('en_core_web_md')"
   ]
  },
  {
   "cell_type": "code",
   "execution_count": 256,
   "id": "93f7fde1",
   "metadata": {
    "scrolled": true
   },
   "outputs": [
    {
     "name": "stdout",
     "output_type": "stream",
     "text": [
      "\u001b[38;5;2m✔ Download and installation successful\u001b[0m\n",
      "You can now load the package via spacy.load('en_core_web_sm')\n"
     ]
    }
   ],
   "source": [
    "#spacy.cli.download('en_core_web_sm')"
   ]
  },
  {
   "cell_type": "code",
   "execution_count": 55,
   "id": "4dd84850",
   "metadata": {
    "scrolled": false
   },
   "outputs": [
    {
     "name": "stdout",
     "output_type": "stream",
     "text": [
      "{'down', 'upon', 'do', 'every', 'could', \"'s\", 'did', 'please', 'that', 'thence', 'off', 'the', 'various', 'forty', 'were', 'them', 'seeming', 'only', 'towards', 'make', 'everything', '’ve', 'along', 'no', 'wherever', 'had', 'everyone', 'mostly', 'our', 'third', \"'ll\", 'latter', 'twelve', 'about', 'we', 'two', 'own', 'up', 'until', 'same', 'who', 'less', 'go', 'enough', 'cannot', 'us', 'name', 'itself', 'seemed', 'seem', 'there', 'under', 'does', 'eleven', 'are', 'wherein', 'further', 'perhaps', 'formerly', 'too', 'here', 'what', 'between', 'besides', 'amongst', 'other', 'using', 'at', 'amount', 'herself', 'others', 'thereby', 'can', 'may', 'hereupon', 'say', 'put', 'someone', 'former', 'where', 'hundred', 'hers', 'on', 'noone', 'made', 'those', 'side', 'everywhere', 'back', '’d', 'beyond', 'whereafter', 'her', '‘d', 'again', 'nowhere', 'she', 'in', 'whose', 'get', 'than', '’m', 'one', 'always', '‘ll', 'whoever', 'though', 'now', 'per', 'why', 'nor', 'six', 'when', 'for', 'often', 'how', 'during', 'hereafter', 'become', 'unless', 'hereby', 'becoming', 'four', 'three', 'serious', 'him', 'ever', 'sometimes', 'me', 'within', 'whole', 'any', 'be', 'many', 'if', 'also', 'therefore', 'my', 'still', 'himself', 'which', '’re', 'so', 'am', 'anything', 'onto', 'keep', 'both', 'somewhere', \"'d\", 'their', 'eight', 'hence', 'however', 'last', 'neither', 'among', 'behind', 'front', 'together', 'doing', 'almost', 'as', 'whom', 'quite', 'is', 'most', 'yet', 'top', 'some', 'themselves', 'through', 'used', 'out', 'yourself', 'never', 'been', 'take', 'show', 'anyone', 'empty', 'before', 'should', 'myself', 'meanwhile', 'will', 'herein', 'call', 'five', 'anyway', 'n’t', 'none', 'yourselves', 'a', 'around', 'afterwards', 'these', 'he', 'since', 'whereupon', 'because', 'really', 'yours', 'another', 'while', 'with', 'all', 'or', 'thereupon', 'whither', 'seems', 'being', 'into', 'by', 'thru', 'nobody', 'due', 'would', '’s', 'alone', 'whereby', 'thus', 'must', 'part', '‘s', 'thereafter', 'but', 'has', 'an', 'ourselves', 'few', 'anywhere', 'elsewhere', 'via', 'was', 'just', 'sometime', 'whatever', 'done', '’ll', 'once', 'much', 'else', 'well', 'twenty', 'ca', 'fifty', 'its', 'whether', 'already', 'namely', 're', 'anyhow', 'give', 'beside', 'otherwise', 'next', 'moreover', 'i', \"n't\", 'therein', 'somehow', '‘m', 'beforehand', 'it', 'without', 'to', 'ten', 'whereas', 'even', 'this', 'mine', 'whenever', 'have', 'something', 'fifteen', \"'re\", 'your', 'you', 'each', 'then', 'sixty', 'of', 'indeed', 'and', 'after', 'above', 'toward', 'regarding', 'least', 'they', \"'ve\", 'more', 'his', 'became', 'see', 'move', 'rather', 'such', \"'m\", 'bottom', 'nine', 'throughout', 'very', '‘ve', 'several', 'except', '‘re', 'nevertheless', 'whence', 'from', 'first', 'although', 'latterly', 'ours', 'against', 'might', 'full', 'either', 'across', 'over', 'becomes', 'below', 'n‘t', 'nothing'}\n"
     ]
    }
   ],
   "source": [
    "# credit https://stackabuse.com/removing-stop-words-from-strings-in-python/\n",
    "sp = spacy.load('en_core_web_sm')\n",
    "\n",
    "stopwords_sp = sp.Defaults.stop_words\n",
    "stopwords_sp.remove('not')\n",
    "print(stopwords_sp)\n"
   ]
  },
  {
   "cell_type": "code",
   "execution_count": 56,
   "id": "11483d7d",
   "metadata": {
    "scrolled": true
   },
   "outputs": [],
   "source": [
    "import nltk\n",
    "from nltk.corpus import stopwords\n",
    "#nltk.download('stopwords')\n",
    "from nltk.tokenize import word_tokenize"
   ]
  },
  {
   "cell_type": "code",
   "execution_count": 57,
   "id": "5dcbf185",
   "metadata": {},
   "outputs": [],
   "source": [
    "from nltk.stem import WordNetLemmatizer"
   ]
  },
  {
   "cell_type": "code",
   "execution_count": 58,
   "id": "66009779",
   "metadata": {},
   "outputs": [],
   "source": [
    "stopwords = set(stopwords.words('english'))\n",
    "stopwords.remove('not')"
   ]
  },
  {
   "cell_type": "code",
   "execution_count": 59,
   "id": "dbcd77aa",
   "metadata": {
    "scrolled": true
   },
   "outputs": [
    {
     "name": "stdout",
     "output_type": "stream",
     "text": [
      "{'out', \"you've\", 't', \"needn't\", 'those', 'down', 'its', 'do', 'didn', 're', 'yourself', \"wouldn't\", 'did', 'been', \"isn't\", 'i', \"didn't\", 'before', 'her', 'that', \"you're\", 'again', 'should', 'off', 'she', 'myself', 'it', 'in', 'will', 'to', 'o', 'than', 'the', 'shan', \"won't\", 'this', 'were', 'yourselves', 'a', 'haven', \"couldn't\", 'isn', 'them', 'mustn', 'have', 'now', 'these', 'he', 'why', \"weren't\", \"you'd\", 'because', 'only', 'yours', \"you'll\", \"shan't\", 'while', 'with', 'nor', 'your', \"doesn't\", 'all', \"should've\", 'or', \"that'll\", 'you', 'no', 'when', 'won', 'for', 'each', 'being', 'then', 'doesn', 'of', 'how', 'hasn', 'during', \"don't\", 'into', 'd', 'and', 'after', 'above', 'mightn', 'shouldn', 'our', 'had', 'by', 'hadn', 'him', \"wasn't\", 'they', 'don', 'about', 'we', 'more', 'me', 's', 'his', 'own', 'll', 'y', 'up', \"shouldn't\", 'until', 'such', 'same', 'couldn', 'theirs', 've', 'needn', 'who', 'any', 'be', 'having', 'ain', 'very', 'if', 'weren', 'm', 'itself', 'my', \"she's\", 'but', 'aren', \"aren't\", \"it's\", 'himself', 'has', 'an', 'ourselves', \"mightn't\", 'which', 'so', 'from', 'few', 'am', 'there', 'under', \"haven't\", 'does', \"mustn't\", 'both', 'ours', 'are', 'further', 'against', 'their', 'what', 'was', 'here', 'too', 'just', 'between', \"hasn't\", 'once', 'wasn', 'other', 'at', 'ma', 'over', 'herself', 'can', \"hadn't\", 'doing', 'whom', 'as', 'below', 'is', 'where', 'most', 'wouldn', 'hers', 'some', 'themselves', 'through', 'on'}\n"
     ]
    }
   ],
   "source": [
    "print(stopwords)"
   ]
  },
  {
   "cell_type": "code",
   "execution_count": 60,
   "id": "4beced39",
   "metadata": {},
   "outputs": [],
   "source": [
    "# credit: https://www.w3schools.com/python/gloss_python_join_sets.asp\n",
    "all_stopwords = stopwords_sp.union(stopwords)"
   ]
  },
  {
   "cell_type": "code",
   "execution_count": 61,
   "id": "6ffaea71",
   "metadata": {
    "scrolled": false
   },
   "outputs": [
    {
     "name": "stdout",
     "output_type": "stream",
     "text": [
      "{'out', 't', 'down', 'upon', 'do', 'every', 'could', 'yourself', 'never', \"'s\", 'did', 'been', 'take', 'please', 'show', 'anyone', 'empty', \"didn't\", 'before', 'that', 'should', 'thence', 'off', 'myself', 'meanwhile', 'will', 'herein', 'the', 'various', 'call', 'five', 'forty', 'anyway', \"won't\", 'n’t', 'none', 'were', 'yourselves', 'a', 'around', 'afterwards', 'haven', \"couldn't\", 'isn', 'them', 'mustn', 'these', 'he', 'since', 'seeming', 'whereupon', 'only', 'because', 'really', 'yours', \"shan't\", 'another', 'while', 'with', \"doesn't\", 'towards', 'make', 'all', 'everything', \"should've\", '’ve', 'or', 'thereupon', 'whither', 'along', 'no', 'seems', 'being', 'hasn', \"don't\", 'into', 'd', 'mightn', 'wherever', 'shouldn', 'had', 'everyone', 'mostly', 'our', 'third', 'by', 'thru', \"'ll\", 'latter', 'twelve', 'nobody', 'due', \"wasn't\", 'don', 'about', 'would', 'we', 'two', '’s', 'alone', 'whereby', 'own', 'up', 'until', 'same', 'theirs', 'thus', 'who', 'less', 'go', 'must', 'ain', 'enough', 'cannot', 'us', 'name', 'itself', 'part', '‘s', 'thereafter', \"she's\", 'seemed', 'but', 'aren', \"aren't\", 'seem', 'has', 'an', \"it's\", 'ourselves', \"mightn't\", 'few', 'anywhere', 'there', 'under', 'does', \"mustn't\", 'eleven', 'are', 'wherein', 'further', 'perhaps', 'elsewhere', 'formerly', 'via', 'too', 'here', 'what', 'was', 'just', 'between', 'sometime', 'whatever', \"hasn't\", 'done', '’ll', 'once', 'besides', 'amongst', 'other', 'using', 'at', 'amount', 'herself', 'others', 'thereby', 'much', 'can', 'may', 'hereupon', 'say', \"hadn't\", 'put', 'else', 'well', 'someone', 'former', 'where', 'hundred', 'twenty', 'hers', 'ca', 'on', 'noone', 'made', 'fifty', \"you've\", \"needn't\", 'those', 'side', 'its', 'whether', 'didn', 'everywhere', 'already', 'back', 'n‘t', 'namely', 're', '’d', 'anyhow', 'beyond', \"wouldn't\", 'give', 'beside', 'otherwise', 'next', \"isn't\", 'moreover', 'i', 'whereafter', \"n't\", 'therein', 'her', '‘d', 'somehow', \"you're\", 'again', 'nowhere', '‘m', 'she', 'beforehand', 'it', 'in', 'without', 'to', 'o', 'whose', 'get', 'than', 'ten', '’m', 'shan', 'whereas', 'one', 'always', 'even', 'this', '‘ll', 'whoever', 'mine', 'though', 'whenever', 'have', 'now', 'something', 'per', 'fifteen', \"'re\", 'why', \"weren't\", \"you'd\", \"you'll\", 'nor', 'your', \"that'll\", 'six', 'you', 'when', 'won', 'for', 'often', 'each', 'then', 'sixty', 'doesn', 'of', 'how', 'during', 'indeed', 'hereafter', 'and', 'after', 'above', 'toward', 'become', 'unless', 'hereby', 'becoming', 'four', 'three', 'hadn', 'serious', 'regarding', 'him', 'least', 'ever', 'sometimes', 'they', \"'ve\", 'more', 'me', 's', 'his', 'll', 'became', 'y', 'see', 'move', 'within', 'rather', 'such', \"shouldn't\", 'couldn', \"'m\", 'whole', 'bottom', 've', 'needn', 'nine', 'throughout', 'any', 'be', 'having', 'many', 'very', '‘ve', 'if', 'also', 'weren', 'several', 'except', 'm', 'therefore', 'my', '‘re', 'still', 'nevertheless', 'himself', 'whence', 'which', '’re', 'so', 'from', 'first', 'am', 'anything', 'although', \"haven't\", 'latterly', 'onto', 'keep', 'both', 'ours', 'somewhere', 'against', 'might', \"'d\", 'their', 'eight', 'hence', 'however', 'full', 'last', 'either', 'wasn', 'across', 'neither', 'ma', 'over', 'among', 'behind', 'front', 'becomes', 'together', 'doing', 'almost', 'as', 'whom', 'quite', 'below', 'is', 'most', 'wouldn', 'yet', 'top', 'some', 'themselves', 'through', 'used', 'nothing'}\n"
     ]
    }
   ],
   "source": [
    "print(all_stopwords)"
   ]
  },
  {
   "cell_type": "code",
   "execution_count": 62,
   "id": "be7da1fa",
   "metadata": {},
   "outputs": [],
   "source": [
    "# additional keywords for removal\n",
    "#add_stopwords = ['www', '.com', 'com', 'http', 'https']\n",
    "#add_stopwords = set(add_stopwords)\n",
    "#type(add_stopwords)"
   ]
  },
  {
   "cell_type": "code",
   "execution_count": 210,
   "id": "50785c77",
   "metadata": {},
   "outputs": [
    {
     "name": "stdout",
     "output_type": "stream",
     "text": [
      "{'into', \"it's\", 'its', 'was', 'next', 'something', 'during', 'none', 'amongst', 'further', 'becomes', 'whether', \"haven't\", 'latterly', 'everywhere', 'call', 'quite', 'herself', 'two', \"'re\", 'without', 'here', 'various', 'first', 'using', 'between', 'rather', 'can', 'almost', 'about', 'again', 'made', 'alone', 'amount', 'http', \"you're\", 'ca', 'one', 'must', 'except', 'much', 'move', 'same', 'once', \"you'd\", 'haven', '’ll', 'nevertheless', 'are', 'also', 'herein', 'under', 'just', 'hereby', 'at', 'whom', 'whereas', 't', 'really', 'how', 'few', 'though', '‘d', 'even', 'per', 'whereupon', \"mustn't\", \"needn't\", 'noone', 'side', 'often', 'over', 'still', 'n‘t', 'which', 'nothing', 'my', 'needn', 'neither', 'several', 'this', 'last', 'thereupon', 'didn', \"'d\", 'yours', 'below', 'whole', 'theirs', 're', \"'m\", 'otherwise', 'wherever', 'anyhow', 'other', 'them', 'own', 'as', 'however', 'our', 'before', '’m', \"you've\", 'm', 'perhaps', 'therefore', 'sixty', 'somewhere', 'across', 'via', 'anyway', 'beyond', 'who', \"'ll\", 'down', 'moreover', 'above', 'serious', 'former', 'that', 'always', 'becoming', 'see', 'through', 'to', \"don't\", 'her', 'o', 'such', 'too', 'take', \"won't\", \"shan't\", \"aren't\", 'seem', 'thus', 'thereafter', 'is', 'sometimes', '’s', 'meanwhile', 'their', 'will', 'therein', 'himself', \"hadn't\", 'having', 'three', \"'ve\", 'yourselves', 'those', \"wasn't\", 'every', 'any', 'four', 'only', 'show', 'others', 'many', 'unless', 'eleven', 'whereby', 'name', 'be', 'll', \"'s\", \"she's\", 'whither', 'and', 'seemed', 'com', 'fifteen', 'behind', 'x200b', 'within', 'regarding', '’re', 'well', 'of', 'while', 'fifty', '‘m', 'another', \"should've\", 'anyone', 'doing', 'both', '.com', 'enough', 'never', 'shan', '‘ve', \"isn't\", 'least', '‘ll', 'due', 'hence', 'did', 'mightn', 'by', 'thru', 'you', 'when', 'has', 'formerly', 'mustn', 'onto', 'why', 'whoever', 'or', 'twenty', 'forty', 'i', 'may', 'for', 'itself', 'thereby', '‘s', 'wasn', 'six', 'am', 'done', 'along', 'ours', 'up', 'couldn', 'www', 'among', 'after', 'shouldn', 'yet', 'we', 'aren', 'have', 'towards', 'indeed', 'now', 'whose', 'yourself', 'besides', 'already', 'toward', \"mightn't\", 'isn', 'themselves', 'us', 's', 'does', 'out', 'wherein', 'been', 'very', 'put', \"shouldn't\", 'give', 'full', 'a', 'either', 've', 'an', 'then', 'third', '’d', 'these', 'but', 'upon', 'someone', 'nine', 'hasn', 'namely', 'sometime', \"didn't\", 'back', 'seems', 'get', 'throughout', 'nowhere', 'beforehand', 'around', 'him', 'if', 'ma', 'since', 'hadn', 'bottom', 'his', 'latter', 'they', \"doesn't\", 'no', 'against', \"couldn't\", 'please', 'everything', 'in', 'do', 'with', 'empty', 'had', 'won', 'keep', 'mostly', 'ourselves', \"you'll\", '’ve', 'anywhere', 'mine', 'most', 'myself', 'than', 'me', 'all', 'eight', 'from', 'there', 'don', 'off', 'front', \"n't\", 'afterwards', 'd', 'could', 'cannot', 'ain', 'part', 'whence', 'elsewhere', 'being', 'would', \"weren't\", 'y', 'because', 'hereafter', \"wouldn't\", 'what', 'beside', 'it', 'whereafter', 'twelve', 'wouldn', 'should', 'whatever', 'nobody', 'go', 'on', 'everyone', 'doesn', 'five', 'thence', 'used', 'your', 'top', 'might', 'hereupon', 'seeming', 'n’t', 'became', 'although', 'nor', 'more', 'he', '‘re', 'the', 'each', 'hundred', 'https', 'make', 'anything', 'some', 'weren', 'until', 'else', 'whenever', 'less', 'where', 'so', 'become', 'ten', 'ever', 'somehow', \"hasn't\", 'she', 'together', \"that'll\", 'were', 'hers', 'say'}\n"
     ]
    }
   ],
   "source": [
    "#more_stopwords = all_stopwords.union(add_stopwords)\n",
    "#print(more_stopwords)"
   ]
  },
  {
   "cell_type": "markdown",
   "id": "c6d254ae",
   "metadata": {},
   "source": [
    "#### Tokenizing"
   ]
  },
  {
   "cell_type": "code",
   "execution_count": 63,
   "id": "2f41a5e6",
   "metadata": {},
   "outputs": [],
   "source": [
    "# Import Tokenizer\n",
    "from nltk.tokenize import RegexpTokenizer\n",
    "\n",
    "# Instantiate Tokenizer\n",
    "tokenizer = RegexpTokenizer(r'\\w+') \n",
    "\n"
   ]
  },
  {
   "cell_type": "code",
   "execution_count": 64,
   "id": "eb9d70d5",
   "metadata": {},
   "outputs": [],
   "source": [
    "from bs4 import BeautifulSoup   "
   ]
  },
  {
   "cell_type": "code",
   "execution_count": 112,
   "id": "9604a059",
   "metadata": {},
   "outputs": [
    {
     "name": "stdout",
     "output_type": "stream",
     "text": [
      "Collecting contractions\n",
      "  Downloading contractions-0.1.73-py2.py3-none-any.whl (8.7 kB)\n",
      "Collecting textsearch>=0.0.21\n",
      "  Downloading textsearch-0.0.24-py2.py3-none-any.whl (7.6 kB)\n",
      "Collecting pyahocorasick\n",
      "  Downloading pyahocorasick-2.0.0-cp39-cp39-win_amd64.whl (39 kB)\n",
      "Collecting anyascii\n",
      "  Downloading anyascii-0.3.2-py3-none-any.whl (289 kB)\n",
      "     ---------------------------------------- 0.0/289.9 kB ? eta -:--:--\n",
      "     ------------------ ------------------- 143.4/289.9 kB 4.3 MB/s eta 0:00:01\n",
      "     -------------------------------------- 289.9/289.9 kB 3.6 MB/s eta 0:00:00\n",
      "Installing collected packages: pyahocorasick, anyascii, textsearch, contractions\n",
      "Successfully installed anyascii-0.3.2 contractions-0.1.73 pyahocorasick-2.0.0 textsearch-0.0.24\n"
     ]
    },
    {
     "name": "stderr",
     "output_type": "stream",
     "text": [
      "WARNING: Ignoring invalid distribution -atplotlib (c:\\users\\skyne\\anaconda3\\lib\\site-packages)\n",
      "WARNING: Ignoring invalid distribution -atplotlib (c:\\users\\skyne\\anaconda3\\lib\\site-packages)\n",
      "WARNING: Ignoring invalid distribution -atplotlib (c:\\users\\skyne\\anaconda3\\lib\\site-packages)\n",
      "WARNING: Ignoring invalid distribution -atplotlib (c:\\users\\skyne\\anaconda3\\lib\\site-packages)\n",
      "WARNING: Ignoring invalid distribution -atplotlib (c:\\users\\skyne\\anaconda3\\lib\\site-packages)\n",
      "WARNING: Ignoring invalid distribution -atplotlib (c:\\users\\skyne\\anaconda3\\lib\\site-packages)\n",
      "WARNING: Ignoring invalid distribution -atplotlib (c:\\users\\skyne\\anaconda3\\lib\\site-packages)\n",
      "WARNING: Ignoring invalid distribution -atplotlib (c:\\users\\skyne\\anaconda3\\lib\\site-packages)\n",
      "WARNING: Ignoring invalid distribution -atplotlib (c:\\users\\skyne\\anaconda3\\lib\\site-packages)\n",
      "WARNING: Ignoring invalid distribution -atplotlib (c:\\users\\skyne\\anaconda3\\lib\\site-packages)\n"
     ]
    }
   ],
   "source": [
    "#!pip install contractions"
   ]
  },
  {
   "cell_type": "code",
   "execution_count": null,
   "id": "2ebdfca5",
   "metadata": {},
   "outputs": [],
   "source": []
  },
  {
   "cell_type": "markdown",
   "id": "601d4839",
   "metadata": {},
   "source": [
    "#### Function for text cleaning"
   ]
  },
  {
   "cell_type": "code",
   "execution_count": 65,
   "id": "5870c45f",
   "metadata": {},
   "outputs": [],
   "source": [
    "df_combined = pd.read_csv('../data/df_combined.csv')"
   ]
  },
  {
   "cell_type": "code",
   "execution_count": 66,
   "id": "c2a8867d",
   "metadata": {},
   "outputs": [],
   "source": [
    "import contractions"
   ]
  },
  {
   "cell_type": "code",
   "execution_count": 67,
   "id": "b570fc0c",
   "metadata": {},
   "outputs": [],
   "source": [
    "import unidecode"
   ]
  },
  {
   "cell_type": "code",
   "execution_count": 227,
   "id": "d0377b03",
   "metadata": {
    "scrolled": true
   },
   "outputs": [
    {
     "name": "stdout",
     "output_type": "stream",
     "text": [
      "Collecting redditcleaner\n",
      "  Downloading redditcleaner-1.1.2-py3-none-any.whl (4.7 kB)\n",
      "Installing collected packages: redditcleaner\n",
      "Successfully installed redditcleaner-1.1.2\n",
      "Note: you may need to restart the kernel to use updated packages.\n"
     ]
    },
    {
     "name": "stderr",
     "output_type": "stream",
     "text": [
      "WARNING: Ignoring invalid distribution -atplotlib (c:\\users\\skyne\\anaconda3\\lib\\site-packages)\n",
      "WARNING: Ignoring invalid distribution -atplotlib (c:\\users\\skyne\\anaconda3\\lib\\site-packages)\n",
      "WARNING: Ignoring invalid distribution -atplotlib (c:\\users\\skyne\\anaconda3\\lib\\site-packages)\n",
      "WARNING: Ignoring invalid distribution -atplotlib (c:\\users\\skyne\\anaconda3\\lib\\site-packages)\n",
      "WARNING: Ignoring invalid distribution -atplotlib (c:\\users\\skyne\\anaconda3\\lib\\site-packages)\n",
      "WARNING: Ignoring invalid distribution -atplotlib (c:\\users\\skyne\\anaconda3\\lib\\site-packages)\n",
      "WARNING: Ignoring invalid distribution -atplotlib (c:\\users\\skyne\\anaconda3\\lib\\site-packages)\n"
     ]
    }
   ],
   "source": [
    "#pip install redditcleaner"
   ]
  },
  {
   "cell_type": "code",
   "execution_count": 68,
   "id": "ceb65bee",
   "metadata": {},
   "outputs": [],
   "source": [
    "import redditcleaner"
   ]
  },
  {
   "cell_type": "code",
   "execution_count": 69,
   "id": "af06eb1b",
   "metadata": {},
   "outputs": [],
   "source": [
    "# adopted from class\n",
    "# credit: https://www.geeksforgeeks.org/nlp-expand-contractions-in-text-processing/\n",
    "# credit: https://www.geeksforgeeks.org/python-removing-newline-character-from-string/\n",
    "# credit: https://stackoverflow.com/questions/43356467/removing-special-characters-and-symbols-from-a-string-in-python\n",
    "# credit: https://stackoverflow.com/questions/11331982/how-to-remove-any-url-within-a-string-in-python\n",
    "# credit: https://stackoverflow.com/questions/54396405/how-can-i-preprocess-nlp-text-lowercase-remove-special-characters-remove-numb\n",
    "# credit: https://pypi.org/project/redditcleaner/\n",
    "\n",
    "# initialize list of newline characters\n",
    "#newline_characters = ['\\\\ng', 'i\\ns', 'b\\nest', '\\n\\n', '\\n', '\\t', '\\\\']\n",
    "\n",
    "def preprocess(text):\n",
    "\n",
    "    # use redditcleaner to remove special characters used in the raw text at reddit\n",
    "    # such as &amp;#x200B, newline_characters (\\n\\n)\n",
    "    text = redditcleaner.clean(text)  \n",
    "    \n",
    "    # using contractions.fix to expand the shortened words\n",
    "    text = contractions.fix(text)\n",
    "        \n",
    "    # convert to lowercase\n",
    "    text = text.lower()\n",
    "    \n",
    "    # initiate BeautifulSopu to strip HTML tags\n",
    "    soup = BeautifulSoup(text, \"html.parser\")\n",
    "    text = soup.get_text(separator=\" \") # Get all the text other than html tags.\n",
    "    \n",
    "    # remove links starts with https and/or end with .com\n",
    "    text = re.sub(r'http\\S+', '', text)\n",
    "    text = re.sub(r'\\ *\\.com', '', text)\n",
    "    \n",
    "    # remove non-letters\n",
    "    text = re.sub(\"[^a-zA-Z]\", \" \", text)    \n",
    "    \n",
    "    # remove newlines tabs\n",
    "    #for characters in newline_characters:\n",
    "    #    text = text.replace(characters, ' ') \n",
    "    \n",
    "    # remove extra white spaces\n",
    "    text = re.sub('\\s+', ' ', text).strip()  \n",
    "  \n",
    "    # split into individual words\n",
    "    words = text.split()\n",
    "        \n",
    "    # remove stop words\n",
    "    meaningful_words = []\n",
    "    for w in words:\n",
    "        if w not in all_stopwords:\n",
    "            meaningful_words.append(w)\n",
    "              \n",
    "    # lemmatizer the words\n",
    "    lemmatizer = WordNetLemmatizer()\n",
    "    tokens_lem = [lemmatizer.lemmatize(i) for i in meaningful_words]    \n",
    "    \n",
    "    return ' '.join(tokens_lem)"
   ]
  },
  {
   "cell_type": "code",
   "execution_count": 70,
   "id": "35dd6619",
   "metadata": {
    "scrolled": false
   },
   "outputs": [
    {
     "name": "stderr",
     "output_type": "stream",
     "text": [
      "C:\\Users\\skyne\\AppData\\Local\\Temp\\ipykernel_35332\\2602187967.py:25: MarkupResemblesLocatorWarning: The input looks more like a filename than markup. You may want to open this file and pass the filehandle into Beautiful Soup.\n",
      "  soup = BeautifulSoup(text, \"html.parser\")\n",
      "C:\\Users\\skyne\\AppData\\Local\\Temp\\ipykernel_35332\\2602187967.py:25: MarkupResemblesLocatorWarning: The input looks more like a URL than markup. You may want to use an HTTP client like requests to get the document behind the URL, and feed that document to Beautiful Soup.\n",
      "  soup = BeautifulSoup(text, \"html.parser\")\n"
     ]
    },
    {
     "data": {
      "text/html": [
       "<div>\n",
       "<style scoped>\n",
       "    .dataframe tbody tr th:only-of-type {\n",
       "        vertical-align: middle;\n",
       "    }\n",
       "\n",
       "    .dataframe tbody tr th {\n",
       "        vertical-align: top;\n",
       "    }\n",
       "\n",
       "    .dataframe thead th {\n",
       "        text-align: right;\n",
       "    }\n",
       "</style>\n",
       "<table border=\"1\" class=\"dataframe\">\n",
       "  <thead>\n",
       "    <tr style=\"text-align: right;\">\n",
       "      <th></th>\n",
       "      <th>subreddit</th>\n",
       "      <th>title</th>\n",
       "      <th>author</th>\n",
       "      <th>num_comments</th>\n",
       "      <th>text</th>\n",
       "      <th>text_cleaned</th>\n",
       "    </tr>\n",
       "  </thead>\n",
       "  <tbody>\n",
       "    <tr>\n",
       "      <th>0</th>\n",
       "      <td>1</td>\n",
       "      <td>Things I can get my boyfriend for his 1 month ...</td>\n",
       "      <td>AdministrativeLog689</td>\n",
       "      <td>0</td>\n",
       "      <td>Things I can get my boyfriend for his 1 month ...</td>\n",
       "      <td>thing boyfriend month travel japan</td>\n",
       "    </tr>\n",
       "    <tr>\n",
       "      <th>1</th>\n",
       "      <td>1</td>\n",
       "      <td>Cheap last minute flights?</td>\n",
       "      <td>anon_157</td>\n",
       "      <td>0</td>\n",
       "      <td>Cheap last minute flights? Apologies if this t...</td>\n",
       "      <td>cheap minute flight apology type question aske...</td>\n",
       "    </tr>\n",
       "    <tr>\n",
       "      <th>2</th>\n",
       "      <td>1</td>\n",
       "      <td>trip</td>\n",
       "      <td>Curious-Campaign2376</td>\n",
       "      <td>0</td>\n",
       "      <td>trip</td>\n",
       "      <td>trip</td>\n",
       "    </tr>\n",
       "    <tr>\n",
       "      <th>3</th>\n",
       "      <td>1</td>\n",
       "      <td>Any CFAR insurance options after 21 days?</td>\n",
       "      <td>sweettangerine08</td>\n",
       "      <td>0</td>\n",
       "      <td>Any CFAR insurance options after 21 days? I'm ...</td>\n",
       "      <td>cfar insurance option day planning internation...</td>\n",
       "    </tr>\n",
       "    <tr>\n",
       "      <th>4</th>\n",
       "      <td>1</td>\n",
       "      <td>Egi</td>\n",
       "      <td>travelw_theballards</td>\n",
       "      <td>0</td>\n",
       "      <td>Egi</td>\n",
       "      <td>egi</td>\n",
       "    </tr>\n",
       "  </tbody>\n",
       "</table>\n",
       "</div>"
      ],
      "text/plain": [
       "   subreddit                                              title  \\\n",
       "0          1  Things I can get my boyfriend for his 1 month ...   \n",
       "1          1                         Cheap last minute flights?   \n",
       "2          1                                               trip   \n",
       "3          1          Any CFAR insurance options after 21 days?   \n",
       "4          1                                                Egi   \n",
       "\n",
       "                 author  num_comments  \\\n",
       "0  AdministrativeLog689             0   \n",
       "1              anon_157             0   \n",
       "2  Curious-Campaign2376             0   \n",
       "3      sweettangerine08             0   \n",
       "4   travelw_theballards             0   \n",
       "\n",
       "                                                text  \\\n",
       "0  Things I can get my boyfriend for his 1 month ...   \n",
       "1  Cheap last minute flights? Apologies if this t...   \n",
       "2                                              trip    \n",
       "3  Any CFAR insurance options after 21 days? I'm ...   \n",
       "4                                               Egi    \n",
       "\n",
       "                                        text_cleaned  \n",
       "0                 thing boyfriend month travel japan  \n",
       "1  cheap minute flight apology type question aske...  \n",
       "2                                               trip  \n",
       "3  cfar insurance option day planning internation...  \n",
       "4                                                egi  "
      ]
     },
     "execution_count": 70,
     "metadata": {},
     "output_type": "execute_result"
    }
   ],
   "source": [
    "df_combined['text_cleaned'] = df_combined.apply(lambda x: preprocess(x['text']), axis=1)\n",
    "df_combined.head()"
   ]
  },
  {
   "cell_type": "code",
   "execution_count": 71,
   "id": "be557774",
   "metadata": {
    "scrolled": true
   },
   "outputs": [
    {
     "data": {
      "text/plain": [
       "array(['Things I can get my boyfriend for his 1 month travel to Japan ',\n",
       "       'Cheap last minute flights? Apologies if this type of question has been asked before. \\n\\nSomething has come up and I urgently need to meet my fiancé in London in around 2 weeks. Does anyone have any hacks to help be book the cheapest possible tickets from London? \\n\\nThank you in advance.',\n",
       "       'trip ',\n",
       "       \"Any CFAR insurance options after 21 days? I'm planning my first international trip with my family. I didn't get CFAR insurance within the 14-21 day after initial purchase window. I put my deposit down in Jan 2023 and my trip is in July 2023. Any advice or recommendations? Thanks in advance!\",\n",
       "       'Egi ',\n",
       "       \"On my roadtrip should I opt to visit Sleeping bear dunes, Michigan or an extra night at Montreal? Currently I'm not going to Sleeping Bear Dunes. And will be staying at Montreal for 2 nights. \\n\\nI was thinking maybe to remove 1 night at Montreal and add Sleeping bear dunes\\n\\n&amp;#x200B;\\n\\n[View Poll](https://www.reddit.com/poll/128s1me)\",\n",
       "       'Best Purse for Traveling to Mexico Any specific recommendations for a purse to take to Mexico? I’m looking for a casual sling, crossbody, or backpack purse. TIA!',\n",
       "       \"Any Advice on Avoiding Pickpockets? I'm going to Prague in a couple of days.  Pickpockets are quite the thing there, I'm told.  I'm looking for advice on keeping my wallet and passport on my person.   \\nThoughts?\",\n",
       "       'Anyone ever use budget airlines (Spirit, Frontier) and travel with baby? Is it worth saving the money or no? Seems like these cheap airlines have the tiniest seats and designed for single people with very little luggage',\n",
       "       'Frida Kahlo tickets '], dtype=object)"
      ]
     },
     "execution_count": 71,
     "metadata": {},
     "output_type": "execute_result"
    }
   ],
   "source": [
    "# before text cleaning\n",
    "df_combined['text'][0:10].unique()"
   ]
  },
  {
   "cell_type": "code",
   "execution_count": 72,
   "id": "f113700a",
   "metadata": {
    "scrolled": true
   },
   "outputs": [
    {
     "data": {
      "text/plain": [
       "array(['thing boyfriend month travel japan',\n",
       "       'cheap minute flight apology type question asked come urgently need meet fianc london week hack help book cheapest possible ticket london thank advance',\n",
       "       'trip',\n",
       "       'cfar insurance option day planning international trip family not cfar insurance day initial purchase window deposit jan trip july advice recommendation thanks advance',\n",
       "       'egi',\n",
       "       'roadtrip opt visit sleeping bear dune michigan extra night montreal currently not going sleeping bear dune staying montreal night thinking maybe remove night montreal add sleeping bear dune',\n",
       "       'best purse traveling mexico specific recommendation purse mexico looking casual sling crossbody backpack purse tia',\n",
       "       'advice avoiding pickpocket going prague couple day pickpocket thing told looking advice keeping wallet passport person thought',\n",
       "       'use budget airline spirit frontier travel baby worth saving money like cheap airline tiniest seat designed single people little luggage',\n",
       "       'frida kahlo ticket'], dtype=object)"
      ]
     },
     "execution_count": 72,
     "metadata": {},
     "output_type": "execute_result"
    }
   ],
   "source": [
    "# after text cleaning\n",
    "df_combined['text_cleaned'][0:10].unique()"
   ]
  },
  {
   "cell_type": "code",
   "execution_count": 73,
   "id": "c7e7a82a",
   "metadata": {
    "scrolled": true
   },
   "outputs": [
    {
     "data": {
      "text/plain": [
       "subreddit       0\n",
       "title           0\n",
       "author          0\n",
       "num_comments    0\n",
       "text            0\n",
       "text_cleaned    0\n",
       "dtype: int64"
      ]
     },
     "execution_count": 73,
     "metadata": {},
     "output_type": "execute_result"
    }
   ],
   "source": [
    "df_combined.isna().sum()"
   ]
  },
  {
   "cell_type": "code",
   "execution_count": 78,
   "id": "f1afe1b6",
   "metadata": {},
   "outputs": [
    {
     "name": "stdout",
     "output_type": "stream",
     "text": [
      "<class 'pandas.core.frame.DataFrame'>\n",
      "RangeIndex: 7604 entries, 0 to 7603\n",
      "Data columns (total 6 columns):\n",
      " #   Column        Non-Null Count  Dtype \n",
      "---  ------        --------------  ----- \n",
      " 0   subreddit     7604 non-null   int64 \n",
      " 1   title         7604 non-null   object\n",
      " 2   author        7604 non-null   object\n",
      " 3   num_comments  7604 non-null   int64 \n",
      " 4   text          7604 non-null   object\n",
      " 5   text_cleaned  7604 non-null   object\n",
      "dtypes: int64(2), object(4)\n",
      "memory usage: 356.6+ KB\n"
     ]
    }
   ],
   "source": [
    "df_combined.info()"
   ]
  },
  {
   "cell_type": "code",
   "execution_count": 74,
   "id": "da65aab6",
   "metadata": {},
   "outputs": [],
   "source": [
    "# Save to csv\n",
    "df_combined.to_csv(\"../data/df_cleaned.csv\", index=False)"
   ]
  },
  {
   "cell_type": "code",
   "execution_count": 75,
   "id": "f5a69220",
   "metadata": {},
   "outputs": [],
   "source": [
    "df = pd.read_csv('../data/df_cleaned.csv')"
   ]
  },
  {
   "cell_type": "code",
   "execution_count": 76,
   "id": "5f481bcf",
   "metadata": {},
   "outputs": [],
   "source": [
    "#assign target and result to y and X then carry out train test split\n",
    "y = df['subreddit']\n",
    "X = df['text_cleaned']"
   ]
  },
  {
   "cell_type": "code",
   "execution_count": null,
   "id": "15605fe4",
   "metadata": {},
   "outputs": [],
   "source": []
  },
  {
   "cell_type": "code",
   "execution_count": 77,
   "id": "03aa6217",
   "metadata": {},
   "outputs": [],
   "source": [
    "X_train, X_test, y_train, y_test = train_test_split(X, y, random_state=42)"
   ]
  },
  {
   "cell_type": "code",
   "execution_count": null,
   "id": "14c1441e",
   "metadata": {},
   "outputs": [],
   "source": []
  }
 ],
 "metadata": {
  "kernelspec": {
   "display_name": "Python 3 (ipykernel)",
   "language": "python",
   "name": "python3"
  },
  "language_info": {
   "codemirror_mode": {
    "name": "ipython",
    "version": 3
   },
   "file_extension": ".py",
   "mimetype": "text/x-python",
   "name": "python",
   "nbconvert_exporter": "python",
   "pygments_lexer": "ipython3",
   "version": "3.9.13"
  }
 },
 "nbformat": 4,
 "nbformat_minor": 5
}
