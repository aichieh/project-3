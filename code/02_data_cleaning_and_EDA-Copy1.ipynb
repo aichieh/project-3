{
 "cells": [
  {
   "cell_type": "markdown",
   "id": "94a41d35",
   "metadata": {},
   "source": [
    "### Imports"
   ]
  },
  {
   "cell_type": "code",
   "execution_count": 1,
   "id": "d3f50d62",
   "metadata": {},
   "outputs": [],
   "source": [
    "# Import libraries needed for webscraping\n",
    "import requests\n",
    "from datetime import datetime\n",
    "import time\n",
    "import random\n",
    "import pandas as pd\n",
    "\n",
    "import matplotlib.pyplot as plt\n",
    "import pandas as pd\n",
    "import seaborn as sns\n",
    "import numpy as np\n",
    "\n",
    "import regex as re\n",
    "from sklearn import metrics\n",
    "from sklearn.pipeline import Pipeline\n",
    "from sklearn.linear_model import LogisticRegression\n",
    "from sklearn.feature_extraction.text import CountVectorizer\n",
    "from sklearn.model_selection import GridSearchCV, train_test_split, cross_val_score\n",
    "from sklearn.metrics import confusion_matrix, classification_report\n",
    "from sklearn.naive_bayes import MultinomialNB\n",
    "\n",
    "import nltk\n",
    "from nltk.stem import WordNetLemmatizer\n",
    "from nltk.corpus import stopwords\n",
    "#nltk.download('stopwords')\n",
    "from nltk.tokenize import word_tokenize, RegexpTokenizer\n",
    "\n",
    "from bs4 import BeautifulSoup    \n",
    "\n",
    "import unidecode\n",
    "import contractions\n",
    "import redditcleaner\n",
    "import spacy\n",
    "#spacy.cli.download('en_core_web_md')\n",
    "#spacy.cli.download('en_core_web_sm')\n",
    "\n",
    "pd.set_option('display.max_columns', 2000)\n",
    "pd.set_option('display.max_rows', 500)"
   ]
  },
  {
   "cell_type": "code",
   "execution_count": 2,
   "id": "d50ed8ec",
   "metadata": {},
   "outputs": [],
   "source": [
    "#!pip install contractions"
   ]
  },
  {
   "cell_type": "code",
   "execution_count": 3,
   "id": "56139b02",
   "metadata": {
    "scrolled": true
   },
   "outputs": [],
   "source": [
    "#pip install redditcleaner"
   ]
  },
  {
   "cell_type": "markdown",
   "id": "3bd28bbb",
   "metadata": {},
   "source": [
    "### Load Data"
   ]
  },
  {
   "cell_type": "code",
   "execution_count": 4,
   "id": "9d730d9c",
   "metadata": {},
   "outputs": [],
   "source": [
    "awardtravel = pd.read_csv('../data/awardtravel_4000.csv')\n",
    "travelhacks = pd.read_csv('../data/TravelHacks_4000.csv')"
   ]
  },
  {
   "cell_type": "markdown",
   "id": "2b317f54",
   "metadata": {},
   "source": [
    "### Basic data cleaning"
   ]
  },
  {
   "cell_type": "markdown",
   "id": "32880cc8",
   "metadata": {},
   "source": [
    "#### Check for removed, deleted, NaN posts\n",
    "    Instead of dropping those value, I replaced them with empty string because the titles still capatured the information about the posts.  "
   ]
  },
  {
   "cell_type": "code",
   "execution_count": 5,
   "id": "15a98121",
   "metadata": {
    "scrolled": false
   },
   "outputs": [
    {
     "data": {
      "text/html": [
       "<div>\n",
       "<style scoped>\n",
       "    .dataframe tbody tr th:only-of-type {\n",
       "        vertical-align: middle;\n",
       "    }\n",
       "\n",
       "    .dataframe tbody tr th {\n",
       "        vertical-align: top;\n",
       "    }\n",
       "\n",
       "    .dataframe thead th {\n",
       "        text-align: right;\n",
       "    }\n",
       "</style>\n",
       "<table border=\"1\" class=\"dataframe\">\n",
       "  <thead>\n",
       "    <tr style=\"text-align: right;\">\n",
       "      <th></th>\n",
       "      <th>subreddit</th>\n",
       "      <th>selftext</th>\n",
       "      <th>title</th>\n",
       "      <th>distinguished</th>\n",
       "      <th>author</th>\n",
       "      <th>removed_by_category</th>\n",
       "      <th>num_comments</th>\n",
       "      <th>utc_datetime_str</th>\n",
       "    </tr>\n",
       "  </thead>\n",
       "  <tbody>\n",
       "    <tr>\n",
       "      <th>0</th>\n",
       "      <td>TravelHacks</td>\n",
       "      <td>Has anyone booked a flight to Costa Rica witho...</td>\n",
       "      <td>Winging Costa rica</td>\n",
       "      <td>NaN</td>\n",
       "      <td>lucylovesugly1</td>\n",
       "      <td>NaN</td>\n",
       "      <td>0</td>\n",
       "      <td>4/2/2023 6:51</td>\n",
       "    </tr>\n",
       "    <tr>\n",
       "      <th>1</th>\n",
       "      <td>TravelHacks</td>\n",
       "      <td>Hey, me and my friend are planning to go on a ...</td>\n",
       "      <td>I'm planning a backpacking trip to Romania, an...</td>\n",
       "      <td>NaN</td>\n",
       "      <td>wbtr42</td>\n",
       "      <td>NaN</td>\n",
       "      <td>0</td>\n",
       "      <td>4/2/2023 6:37</td>\n",
       "    </tr>\n",
       "    <tr>\n",
       "      <th>2</th>\n",
       "      <td>TravelHacks</td>\n",
       "      <td>Hey all. Planning on a visit to Chile and Arge...</td>\n",
       "      <td>Are there any budget friendly ways to get a ta...</td>\n",
       "      <td>NaN</td>\n",
       "      <td>bak1n</td>\n",
       "      <td>NaN</td>\n",
       "      <td>0</td>\n",
       "      <td>4/2/2023 6:10</td>\n",
       "    </tr>\n",
       "    <tr>\n",
       "      <th>3</th>\n",
       "      <td>TravelHacks</td>\n",
       "      <td>[removed]</td>\n",
       "      <td>Niagara Falls NY</td>\n",
       "      <td>NaN</td>\n",
       "      <td>Proud-Assumption-353</td>\n",
       "      <td>moderator</td>\n",
       "      <td>0</td>\n",
       "      <td>4/2/2023 5:28</td>\n",
       "    </tr>\n",
       "    <tr>\n",
       "      <th>4</th>\n",
       "      <td>TravelHacks</td>\n",
       "      <td>I’m heading to Europe for work in June and wan...</td>\n",
       "      <td>Nice &amp;gt; Rome flights/airlines</td>\n",
       "      <td>NaN</td>\n",
       "      <td>efisk1990</td>\n",
       "      <td>NaN</td>\n",
       "      <td>0</td>\n",
       "      <td>4/2/2023 5:06</td>\n",
       "    </tr>\n",
       "  </tbody>\n",
       "</table>\n",
       "</div>"
      ],
      "text/plain": [
       "     subreddit                                           selftext  \\\n",
       "0  TravelHacks  Has anyone booked a flight to Costa Rica witho...   \n",
       "1  TravelHacks  Hey, me and my friend are planning to go on a ...   \n",
       "2  TravelHacks  Hey all. Planning on a visit to Chile and Arge...   \n",
       "3  TravelHacks                                          [removed]   \n",
       "4  TravelHacks  I’m heading to Europe for work in June and wan...   \n",
       "\n",
       "                                               title  distinguished  \\\n",
       "0                                 Winging Costa rica            NaN   \n",
       "1  I'm planning a backpacking trip to Romania, an...            NaN   \n",
       "2  Are there any budget friendly ways to get a ta...            NaN   \n",
       "3                                   Niagara Falls NY            NaN   \n",
       "4                    Nice &gt; Rome flights/airlines            NaN   \n",
       "\n",
       "                 author removed_by_category  num_comments utc_datetime_str  \n",
       "0        lucylovesugly1                 NaN             0    4/2/2023 6:51  \n",
       "1                wbtr42                 NaN             0    4/2/2023 6:37  \n",
       "2                 bak1n                 NaN             0    4/2/2023 6:10  \n",
       "3  Proud-Assumption-353           moderator             0    4/2/2023 5:28  \n",
       "4             efisk1990                 NaN             0    4/2/2023 5:06  "
      ]
     },
     "execution_count": 5,
     "metadata": {},
     "output_type": "execute_result"
    }
   ],
   "source": [
    "travelhacks.head()"
   ]
  },
  {
   "cell_type": "code",
   "execution_count": 6,
   "id": "6a4a2e7e",
   "metadata": {},
   "outputs": [
    {
     "data": {
      "text/plain": [
       "subreddit                 0\n",
       "selftext                506\n",
       "title                     0\n",
       "distinguished          3855\n",
       "author                    0\n",
       "removed_by_category    2187\n",
       "num_comments              0\n",
       "utc_datetime_str          0\n",
       "dtype: int64"
      ]
     },
     "execution_count": 6,
     "metadata": {},
     "output_type": "execute_result"
    }
   ],
   "source": [
    "# check null value: no null value for title but 516 null calue for selftext\n",
    "travelhacks.isna().sum()"
   ]
  },
  {
   "cell_type": "code",
   "execution_count": 7,
   "id": "273d2da8",
   "metadata": {
    "scrolled": false
   },
   "outputs": [
    {
     "data": {
      "text/html": [
       "<div>\n",
       "<style scoped>\n",
       "    .dataframe tbody tr th:only-of-type {\n",
       "        vertical-align: middle;\n",
       "    }\n",
       "\n",
       "    .dataframe tbody tr th {\n",
       "        vertical-align: top;\n",
       "    }\n",
       "\n",
       "    .dataframe thead th {\n",
       "        text-align: right;\n",
       "    }\n",
       "</style>\n",
       "<table border=\"1\" class=\"dataframe\">\n",
       "  <thead>\n",
       "    <tr style=\"text-align: right;\">\n",
       "      <th></th>\n",
       "      <th>subreddit</th>\n",
       "      <th>selftext</th>\n",
       "      <th>title</th>\n",
       "      <th>distinguished</th>\n",
       "      <th>author</th>\n",
       "      <th>removed_by_category</th>\n",
       "      <th>num_comments</th>\n",
       "      <th>utc_datetime_str</th>\n",
       "    </tr>\n",
       "  </thead>\n",
       "  <tbody>\n",
       "    <tr>\n",
       "      <th>36</th>\n",
       "      <td>TravelHacks</td>\n",
       "      <td>NaN</td>\n",
       "      <td>Easiest ways to keep US mobile phone number wh...</td>\n",
       "      <td>NaN</td>\n",
       "      <td>the-cathedral-</td>\n",
       "      <td>NaN</td>\n",
       "      <td>0</td>\n",
       "      <td>4/1/2023 4:41</td>\n",
       "    </tr>\n",
       "    <tr>\n",
       "      <th>43</th>\n",
       "      <td>TravelHacks</td>\n",
       "      <td>NaN</td>\n",
       "      <td>Hello</td>\n",
       "      <td>NaN</td>\n",
       "      <td>selepsoron6389</td>\n",
       "      <td>moderator</td>\n",
       "      <td>0</td>\n",
       "      <td>3/31/2023 22:57</td>\n",
       "    </tr>\n",
       "    <tr>\n",
       "      <th>69</th>\n",
       "      <td>TravelHacks</td>\n",
       "      <td>NaN</td>\n",
       "      <td>httpsairlinesboardingpass onlineairlines check...</td>\n",
       "      <td>NaN</td>\n",
       "      <td>changeflightbooking</td>\n",
       "      <td>reddit</td>\n",
       "      <td>0</td>\n",
       "      <td>3/31/2023 14:54</td>\n",
       "    </tr>\n",
       "    <tr>\n",
       "      <th>77</th>\n",
       "      <td>TravelHacks</td>\n",
       "      <td>NaN</td>\n",
       "      <td>Cruise question - choosing a cabin? Traveling ...</td>\n",
       "      <td>NaN</td>\n",
       "      <td>aimhighsb</td>\n",
       "      <td>moderator</td>\n",
       "      <td>0</td>\n",
       "      <td>3/31/2023 14:15</td>\n",
       "    </tr>\n",
       "    <tr>\n",
       "      <th>81</th>\n",
       "      <td>TravelHacks</td>\n",
       "      <td>NaN</td>\n",
       "      <td>All-Sponsored Happiness Program in Finland - L...</td>\n",
       "      <td>NaN</td>\n",
       "      <td>MadsyKa</td>\n",
       "      <td>moderator</td>\n",
       "      <td>0</td>\n",
       "      <td>3/31/2023 12:34</td>\n",
       "    </tr>\n",
       "  </tbody>\n",
       "</table>\n",
       "</div>"
      ],
      "text/plain": [
       "      subreddit selftext                                              title  \\\n",
       "36  TravelHacks      NaN  Easiest ways to keep US mobile phone number wh...   \n",
       "43  TravelHacks      NaN                                              Hello   \n",
       "69  TravelHacks      NaN  httpsairlinesboardingpass onlineairlines check...   \n",
       "77  TravelHacks      NaN  Cruise question - choosing a cabin? Traveling ...   \n",
       "81  TravelHacks      NaN  All-Sponsored Happiness Program in Finland - L...   \n",
       "\n",
       "    distinguished               author removed_by_category  num_comments  \\\n",
       "36            NaN       the-cathedral-                 NaN             0   \n",
       "43            NaN       selepsoron6389           moderator             0   \n",
       "69            NaN  changeflightbooking              reddit             0   \n",
       "77            NaN            aimhighsb           moderator             0   \n",
       "81            NaN              MadsyKa           moderator             0   \n",
       "\n",
       "   utc_datetime_str  \n",
       "36    4/1/2023 4:41  \n",
       "43  3/31/2023 22:57  \n",
       "69  3/31/2023 14:54  \n",
       "77  3/31/2023 14:15  \n",
       "81  3/31/2023 12:34  "
      ]
     },
     "execution_count": 7,
     "metadata": {},
     "output_type": "execute_result"
    }
   ],
   "source": [
    "# even it showed nan for selftext, title still have content\n",
    "travelhacks[travelhacks['selftext'].isnull()].head()"
   ]
  },
  {
   "cell_type": "code",
   "execution_count": 8,
   "id": "ae9d6151",
   "metadata": {},
   "outputs": [],
   "source": [
    "# replace Nan with empty string\n",
    "travelhacks['selftext'] = travelhacks['selftext'].fillna('')"
   ]
  },
  {
   "cell_type": "code",
   "execution_count": 9,
   "id": "5d4378c7",
   "metadata": {
    "scrolled": false
   },
   "outputs": [
    {
     "data": {
      "text/html": [
       "<div>\n",
       "<style scoped>\n",
       "    .dataframe tbody tr th:only-of-type {\n",
       "        vertical-align: middle;\n",
       "    }\n",
       "\n",
       "    .dataframe tbody tr th {\n",
       "        vertical-align: top;\n",
       "    }\n",
       "\n",
       "    .dataframe thead th {\n",
       "        text-align: right;\n",
       "    }\n",
       "</style>\n",
       "<table border=\"1\" class=\"dataframe\">\n",
       "  <thead>\n",
       "    <tr style=\"text-align: right;\">\n",
       "      <th></th>\n",
       "      <th>subreddit</th>\n",
       "      <th>selftext</th>\n",
       "      <th>title</th>\n",
       "      <th>distinguished</th>\n",
       "      <th>author</th>\n",
       "      <th>removed_by_category</th>\n",
       "      <th>num_comments</th>\n",
       "      <th>utc_datetime_str</th>\n",
       "    </tr>\n",
       "  </thead>\n",
       "  <tbody>\n",
       "    <tr>\n",
       "      <th>3</th>\n",
       "      <td>TravelHacks</td>\n",
       "      <td>[removed]</td>\n",
       "      <td>Niagara Falls NY</td>\n",
       "      <td>NaN</td>\n",
       "      <td>Proud-Assumption-353</td>\n",
       "      <td>moderator</td>\n",
       "      <td>0</td>\n",
       "      <td>4/2/2023 5:28</td>\n",
       "    </tr>\n",
       "    <tr>\n",
       "      <th>5</th>\n",
       "      <td>TravelHacks</td>\n",
       "      <td>[removed]</td>\n",
       "      <td>Most beautiful places to visit in France other...</td>\n",
       "      <td>NaN</td>\n",
       "      <td>exploreofficial</td>\n",
       "      <td>moderator</td>\n",
       "      <td>0</td>\n",
       "      <td>4/2/2023 4:05</td>\n",
       "    </tr>\n",
       "    <tr>\n",
       "      <th>6</th>\n",
       "      <td>TravelHacks</td>\n",
       "      <td>[removed]</td>\n",
       "      <td>MOST BEAUTIFUL PLACES TO VISIT IN FRANCE OTHER...</td>\n",
       "      <td>NaN</td>\n",
       "      <td>exploreofficial</td>\n",
       "      <td>moderator</td>\n",
       "      <td>0</td>\n",
       "      <td>4/2/2023 3:32</td>\n",
       "    </tr>\n",
       "    <tr>\n",
       "      <th>9</th>\n",
       "      <td>TravelHacks</td>\n",
       "      <td>[removed]</td>\n",
       "      <td>Am available for hook up</td>\n",
       "      <td>NaN</td>\n",
       "      <td>lovrencate</td>\n",
       "      <td>moderator</td>\n",
       "      <td>0</td>\n",
       "      <td>4/2/2023 0:23</td>\n",
       "    </tr>\n",
       "    <tr>\n",
       "      <th>12</th>\n",
       "      <td>TravelHacks</td>\n",
       "      <td>[removed]</td>\n",
       "      <td>Prezi /Onenote / Canva</td>\n",
       "      <td>NaN</td>\n",
       "      <td>No-Potential-6148</td>\n",
       "      <td>moderator</td>\n",
       "      <td>0</td>\n",
       "      <td>4/1/2023 22:18</td>\n",
       "    </tr>\n",
       "  </tbody>\n",
       "</table>\n",
       "</div>"
      ],
      "text/plain": [
       "      subreddit   selftext                                              title  \\\n",
       "3   TravelHacks  [removed]                                   Niagara Falls NY   \n",
       "5   TravelHacks  [removed]  Most beautiful places to visit in France other...   \n",
       "6   TravelHacks  [removed]  MOST BEAUTIFUL PLACES TO VISIT IN FRANCE OTHER...   \n",
       "9   TravelHacks  [removed]                           Am available for hook up   \n",
       "12  TravelHacks  [removed]                             Prezi /Onenote / Canva   \n",
       "\n",
       "    distinguished                author removed_by_category  num_comments  \\\n",
       "3             NaN  Proud-Assumption-353           moderator             0   \n",
       "5             NaN       exploreofficial           moderator             0   \n",
       "6             NaN       exploreofficial           moderator             0   \n",
       "9             NaN            lovrencate           moderator             0   \n",
       "12            NaN     No-Potential-6148           moderator             0   \n",
       "\n",
       "   utc_datetime_str  \n",
       "3     4/2/2023 5:28  \n",
       "5     4/2/2023 4:05  \n",
       "6     4/2/2023 3:32  \n",
       "9     4/2/2023 0:23  \n",
       "12   4/1/2023 22:18  "
      ]
     },
     "execution_count": 9,
     "metadata": {},
     "output_type": "execute_result"
    }
   ],
   "source": [
    "# checking for both removed or deleted posts\n",
    "travelhacks.loc[travelhacks['selftext'].str.contains(r'\\[removed\\]|\\[deleted\\]')].head()"
   ]
  },
  {
   "cell_type": "code",
   "execution_count": 10,
   "id": "a87edae5",
   "metadata": {},
   "outputs": [],
   "source": [
    "# replace 'remove' and 'deleted' since the title still have information about the post\n",
    "travelhacks['selftext'] = travelhacks['selftext'].replace('[removed]', '')\n",
    "travelhacks['selftext'] = travelhacks['selftext'].replace('[deleted]', '')"
   ]
  },
  {
   "cell_type": "code",
   "execution_count": 11,
   "id": "96f59548",
   "metadata": {
    "scrolled": false
   },
   "outputs": [
    {
     "data": {
      "text/html": [
       "<div>\n",
       "<style scoped>\n",
       "    .dataframe tbody tr th:only-of-type {\n",
       "        vertical-align: middle;\n",
       "    }\n",
       "\n",
       "    .dataframe tbody tr th {\n",
       "        vertical-align: top;\n",
       "    }\n",
       "\n",
       "    .dataframe thead th {\n",
       "        text-align: right;\n",
       "    }\n",
       "</style>\n",
       "<table border=\"1\" class=\"dataframe\">\n",
       "  <thead>\n",
       "    <tr style=\"text-align: right;\">\n",
       "      <th></th>\n",
       "      <th>subreddit</th>\n",
       "      <th>selftext</th>\n",
       "      <th>title</th>\n",
       "      <th>distinguished</th>\n",
       "      <th>author</th>\n",
       "      <th>removed_by_category</th>\n",
       "      <th>num_comments</th>\n",
       "      <th>utc_datetime_str</th>\n",
       "    </tr>\n",
       "  </thead>\n",
       "  <tbody>\n",
       "    <tr>\n",
       "      <th>0</th>\n",
       "      <td>awardtravel</td>\n",
       "      <td>Got about 400k MR. Would like business for 2 t...</td>\n",
       "      <td>Sfo to hkg january time frame</td>\n",
       "      <td>NaN</td>\n",
       "      <td>NorcalGamers627</td>\n",
       "      <td>NaN</td>\n",
       "      <td>1</td>\n",
       "      <td>4/2/2023 4:55</td>\n",
       "    </tr>\n",
       "    <tr>\n",
       "      <th>1</th>\n",
       "      <td>awardtravel</td>\n",
       "      <td>Hey - we have about \\~200K AmEx points saved u...</td>\n",
       "      <td>Best way to fly to Japan in business or 1st cl...</td>\n",
       "      <td>NaN</td>\n",
       "      <td>altoid_trapezoid</td>\n",
       "      <td>NaN</td>\n",
       "      <td>1</td>\n",
       "      <td>4/2/2023 3:43</td>\n",
       "    </tr>\n",
       "    <tr>\n",
       "      <th>2</th>\n",
       "      <td>awardtravel</td>\n",
       "      <td>Finally!! Got the booking confirmed for two ,\\...</td>\n",
       "      <td>booked JAL F for two via Cathay!!! But now adv...</td>\n",
       "      <td>NaN</td>\n",
       "      <td>Leezy36</td>\n",
       "      <td>NaN</td>\n",
       "      <td>1</td>\n",
       "      <td>4/2/2023 3:07</td>\n",
       "    </tr>\n",
       "    <tr>\n",
       "      <th>3</th>\n",
       "      <td>awardtravel</td>\n",
       "      <td>Hoping to plan a Japan ski trip for Jan/Feb 20...</td>\n",
       "      <td>ANA Stopover Question</td>\n",
       "      <td>NaN</td>\n",
       "      <td>SnooDoughnuts785</td>\n",
       "      <td>NaN</td>\n",
       "      <td>1</td>\n",
       "      <td>4/2/2023 1:25</td>\n",
       "    </tr>\n",
       "    <tr>\n",
       "      <th>4</th>\n",
       "      <td>awardtravel</td>\n",
       "      <td>I booked an EgyptAir flight that connects in C...</td>\n",
       "      <td>Is it possible to ask for a longer layover on ...</td>\n",
       "      <td>NaN</td>\n",
       "      <td>ReasonWithMe007</td>\n",
       "      <td>NaN</td>\n",
       "      <td>1</td>\n",
       "      <td>4/2/2023 0:43</td>\n",
       "    </tr>\n",
       "  </tbody>\n",
       "</table>\n",
       "</div>"
      ],
      "text/plain": [
       "     subreddit                                           selftext  \\\n",
       "0  awardtravel  Got about 400k MR. Would like business for 2 t...   \n",
       "1  awardtravel  Hey - we have about \\~200K AmEx points saved u...   \n",
       "2  awardtravel  Finally!! Got the booking confirmed for two ,\\...   \n",
       "3  awardtravel  Hoping to plan a Japan ski trip for Jan/Feb 20...   \n",
       "4  awardtravel  I booked an EgyptAir flight that connects in C...   \n",
       "\n",
       "                                               title  distinguished  \\\n",
       "0                      Sfo to hkg january time frame            NaN   \n",
       "1  Best way to fly to Japan in business or 1st cl...            NaN   \n",
       "2  booked JAL F for two via Cathay!!! But now adv...            NaN   \n",
       "3                              ANA Stopover Question            NaN   \n",
       "4  Is it possible to ask for a longer layover on ...            NaN   \n",
       "\n",
       "             author removed_by_category  num_comments utc_datetime_str  \n",
       "0   NorcalGamers627                 NaN             1    4/2/2023 4:55  \n",
       "1  altoid_trapezoid                 NaN             1    4/2/2023 3:43  \n",
       "2           Leezy36                 NaN             1    4/2/2023 3:07  \n",
       "3  SnooDoughnuts785                 NaN             1    4/2/2023 1:25  \n",
       "4   ReasonWithMe007                 NaN             1    4/2/2023 0:43  "
      ]
     },
     "execution_count": 11,
     "metadata": {},
     "output_type": "execute_result"
    }
   ],
   "source": [
    "awardtravel.head()"
   ]
  },
  {
   "cell_type": "code",
   "execution_count": 12,
   "id": "e43de99e",
   "metadata": {
    "scrolled": true
   },
   "outputs": [
    {
     "data": {
      "text/plain": [
       "subreddit                 0\n",
       "selftext                 88\n",
       "title                     0\n",
       "distinguished          3948\n",
       "author                    0\n",
       "removed_by_category    3474\n",
       "num_comments              0\n",
       "utc_datetime_str          0\n",
       "dtype: int64"
      ]
     },
     "execution_count": 12,
     "metadata": {},
     "output_type": "execute_result"
    }
   ],
   "source": [
    "awardtravel.isna().sum()"
   ]
  },
  {
   "cell_type": "code",
   "execution_count": 13,
   "id": "b4b836b3",
   "metadata": {
    "scrolled": false
   },
   "outputs": [
    {
     "data": {
      "text/html": [
       "<div>\n",
       "<style scoped>\n",
       "    .dataframe tbody tr th:only-of-type {\n",
       "        vertical-align: middle;\n",
       "    }\n",
       "\n",
       "    .dataframe tbody tr th {\n",
       "        vertical-align: top;\n",
       "    }\n",
       "\n",
       "    .dataframe thead th {\n",
       "        text-align: right;\n",
       "    }\n",
       "</style>\n",
       "<table border=\"1\" class=\"dataframe\">\n",
       "  <thead>\n",
       "    <tr style=\"text-align: right;\">\n",
       "      <th></th>\n",
       "      <th>subreddit</th>\n",
       "      <th>selftext</th>\n",
       "      <th>title</th>\n",
       "      <th>distinguished</th>\n",
       "      <th>author</th>\n",
       "      <th>removed_by_category</th>\n",
       "      <th>num_comments</th>\n",
       "      <th>utc_datetime_str</th>\n",
       "    </tr>\n",
       "  </thead>\n",
       "  <tbody>\n",
       "    <tr>\n",
       "      <th>13</th>\n",
       "      <td>awardtravel</td>\n",
       "      <td>NaN</td>\n",
       "      <td>i fly a lot, so my friends came to me to use m...</td>\n",
       "      <td>NaN</td>\n",
       "      <td>professional_pupper</td>\n",
       "      <td>NaN</td>\n",
       "      <td>1</td>\n",
       "      <td>4/1/2023 17:11</td>\n",
       "    </tr>\n",
       "    <tr>\n",
       "      <th>36</th>\n",
       "      <td>awardtravel</td>\n",
       "      <td>NaN</td>\n",
       "      <td>Can't search on AF/KLM</td>\n",
       "      <td>NaN</td>\n",
       "      <td>ebpomtl</td>\n",
       "      <td>NaN</td>\n",
       "      <td>1</td>\n",
       "      <td>3/31/2023 12:11</td>\n",
       "    </tr>\n",
       "    <tr>\n",
       "      <th>83</th>\n",
       "      <td>awardtravel</td>\n",
       "      <td>NaN</td>\n",
       "      <td>Quickest way to offload my remaining 80,000 Wo...</td>\n",
       "      <td>NaN</td>\n",
       "      <td>vialpandomc</td>\n",
       "      <td>NaN</td>\n",
       "      <td>1</td>\n",
       "      <td>3/29/2023 19:08</td>\n",
       "    </tr>\n",
       "    <tr>\n",
       "      <th>88</th>\n",
       "      <td>awardtravel</td>\n",
       "      <td>NaN</td>\n",
       "      <td>Global Entry/Trusted Traveler Appointment Finder</td>\n",
       "      <td>NaN</td>\n",
       "      <td>toastingdetermined</td>\n",
       "      <td>moderator</td>\n",
       "      <td>1</td>\n",
       "      <td>3/29/2023 16:31</td>\n",
       "    </tr>\n",
       "    <tr>\n",
       "      <th>105</th>\n",
       "      <td>awardtravel</td>\n",
       "      <td>NaN</td>\n",
       "      <td>question if I book award flight in economy on ...</td>\n",
       "      <td>NaN</td>\n",
       "      <td>Mysterious_Pie_4594</td>\n",
       "      <td>NaN</td>\n",
       "      <td>1</td>\n",
       "      <td>3/28/2023 19:27</td>\n",
       "    </tr>\n",
       "  </tbody>\n",
       "</table>\n",
       "</div>"
      ],
      "text/plain": [
       "       subreddit selftext                                              title  \\\n",
       "13   awardtravel      NaN  i fly a lot, so my friends came to me to use m...   \n",
       "36   awardtravel      NaN                             Can't search on AF/KLM   \n",
       "83   awardtravel      NaN  Quickest way to offload my remaining 80,000 Wo...   \n",
       "88   awardtravel      NaN   Global Entry/Trusted Traveler Appointment Finder   \n",
       "105  awardtravel      NaN  question if I book award flight in economy on ...   \n",
       "\n",
       "     distinguished               author removed_by_category  num_comments  \\\n",
       "13             NaN  professional_pupper                 NaN             1   \n",
       "36             NaN              ebpomtl                 NaN             1   \n",
       "83             NaN          vialpandomc                 NaN             1   \n",
       "88             NaN   toastingdetermined           moderator             1   \n",
       "105            NaN  Mysterious_Pie_4594                 NaN             1   \n",
       "\n",
       "    utc_datetime_str  \n",
       "13    4/1/2023 17:11  \n",
       "36   3/31/2023 12:11  \n",
       "83   3/29/2023 19:08  \n",
       "88   3/29/2023 16:31  \n",
       "105  3/28/2023 19:27  "
      ]
     },
     "execution_count": 13,
     "metadata": {},
     "output_type": "execute_result"
    }
   ],
   "source": [
    "# even it showed nan for selftext, title still have content\n",
    "awardtravel[awardtravel['selftext'].isnull()].head()"
   ]
  },
  {
   "cell_type": "code",
   "execution_count": 14,
   "id": "50496d89",
   "metadata": {},
   "outputs": [],
   "source": [
    "# replace Nan with empty string\n",
    "awardtravel['selftext'] = awardtravel['selftext'].fillna('')"
   ]
  },
  {
   "cell_type": "code",
   "execution_count": 15,
   "id": "b9055855",
   "metadata": {
    "scrolled": true
   },
   "outputs": [
    {
     "data": {
      "text/html": [
       "<div>\n",
       "<style scoped>\n",
       "    .dataframe tbody tr th:only-of-type {\n",
       "        vertical-align: middle;\n",
       "    }\n",
       "\n",
       "    .dataframe tbody tr th {\n",
       "        vertical-align: top;\n",
       "    }\n",
       "\n",
       "    .dataframe thead th {\n",
       "        text-align: right;\n",
       "    }\n",
       "</style>\n",
       "<table border=\"1\" class=\"dataframe\">\n",
       "  <thead>\n",
       "    <tr style=\"text-align: right;\">\n",
       "      <th></th>\n",
       "      <th>subreddit</th>\n",
       "      <th>selftext</th>\n",
       "      <th>title</th>\n",
       "      <th>distinguished</th>\n",
       "      <th>author</th>\n",
       "      <th>removed_by_category</th>\n",
       "      <th>num_comments</th>\n",
       "      <th>utc_datetime_str</th>\n",
       "    </tr>\n",
       "  </thead>\n",
       "  <tbody>\n",
       "    <tr>\n",
       "      <th>31</th>\n",
       "      <td>awardtravel</td>\n",
       "      <td>[removed]</td>\n",
       "      <td>Marriott and United - Comparing Miles earned p...</td>\n",
       "      <td>NaN</td>\n",
       "      <td>Tejavepa</td>\n",
       "      <td>reddit</td>\n",
       "      <td>0</td>\n",
       "      <td>3/31/2023 16:42</td>\n",
       "    </tr>\n",
       "    <tr>\n",
       "      <th>82</th>\n",
       "      <td>awardtravel</td>\n",
       "      <td>[removed]</td>\n",
       "      <td>First time booking with chase (or any credit c...</td>\n",
       "      <td>NaN</td>\n",
       "      <td>eroxal</td>\n",
       "      <td>moderator</td>\n",
       "      <td>1</td>\n",
       "      <td>3/29/2023 19:16</td>\n",
       "    </tr>\n",
       "    <tr>\n",
       "      <th>84</th>\n",
       "      <td>awardtravel</td>\n",
       "      <td>[removed]</td>\n",
       "      <td>When the Chase portal hotels are way overprice...</td>\n",
       "      <td>NaN</td>\n",
       "      <td>airplanedad</td>\n",
       "      <td>moderator</td>\n",
       "      <td>1</td>\n",
       "      <td>3/29/2023 18:03</td>\n",
       "    </tr>\n",
       "    <tr>\n",
       "      <th>94</th>\n",
       "      <td>awardtravel</td>\n",
       "      <td>[removed]</td>\n",
       "      <td>Horton Studios</td>\n",
       "      <td>NaN</td>\n",
       "      <td>zhinocoaster</td>\n",
       "      <td>reddit</td>\n",
       "      <td>1</td>\n",
       "      <td>3/29/2023 13:16</td>\n",
       "    </tr>\n",
       "    <tr>\n",
       "      <th>119</th>\n",
       "      <td>awardtravel</td>\n",
       "      <td>[removed]</td>\n",
       "      <td>Cabo Award Flights</td>\n",
       "      <td>NaN</td>\n",
       "      <td>Lil_Mikee</td>\n",
       "      <td>moderator</td>\n",
       "      <td>0</td>\n",
       "      <td>3/28/2023 6:41</td>\n",
       "    </tr>\n",
       "  </tbody>\n",
       "</table>\n",
       "</div>"
      ],
      "text/plain": [
       "       subreddit   selftext  \\\n",
       "31   awardtravel  [removed]   \n",
       "82   awardtravel  [removed]   \n",
       "84   awardtravel  [removed]   \n",
       "94   awardtravel  [removed]   \n",
       "119  awardtravel  [removed]   \n",
       "\n",
       "                                                 title  distinguished  \\\n",
       "31   Marriott and United - Comparing Miles earned p...            NaN   \n",
       "82   First time booking with chase (or any credit c...            NaN   \n",
       "84   When the Chase portal hotels are way overprice...            NaN   \n",
       "94                                      Horton Studios            NaN   \n",
       "119                                 Cabo Award Flights            NaN   \n",
       "\n",
       "           author removed_by_category  num_comments utc_datetime_str  \n",
       "31       Tejavepa              reddit             0  3/31/2023 16:42  \n",
       "82         eroxal           moderator             1  3/29/2023 19:16  \n",
       "84    airplanedad           moderator             1  3/29/2023 18:03  \n",
       "94   zhinocoaster              reddit             1  3/29/2023 13:16  \n",
       "119     Lil_Mikee           moderator             0   3/28/2023 6:41  "
      ]
     },
     "execution_count": 15,
     "metadata": {},
     "output_type": "execute_result"
    }
   ],
   "source": [
    "# checking for both removed or deleted posts\n",
    "awardtravel.loc[awardtravel['selftext'].str.contains(r'\\[removed\\]|\\[deleted\\]')].head()"
   ]
  },
  {
   "cell_type": "code",
   "execution_count": 16,
   "id": "be591a87",
   "metadata": {},
   "outputs": [],
   "source": [
    "# replace 'remove' and 'deleted' since the title still have information about the post\n",
    "awardtravel['selftext'] = awardtravel['selftext'].replace('[removed]', '')\n",
    "awardtravel['selftext'] = awardtravel['selftext'].replace('[deleted]', '')"
   ]
  },
  {
   "cell_type": "markdown",
   "id": "3456a5ff",
   "metadata": {},
   "source": [
    "#### Check for weekly mod posts from the moderators of the subreddit: \n",
    "    Some subreddits would post weekly announcements, daily surveys, or recommendations. Since these posts were posted on the weekly/daily bases with similar titles or contents, it's best to remove these posts to avoid skewness of some words. After checking, both subreddits do not have such issue."
   ]
  },
  {
   "cell_type": "code",
   "execution_count": 17,
   "id": "9aaa5834",
   "metadata": {
    "scrolled": true
   },
   "outputs": [
    {
     "data": {
      "text/plain": [
       "TMavrat                 53\n",
       "zimmermanus             38\n",
       "[deleted]               29\n",
       "John_Martson_isalive    24\n",
       "jameswood111            21\n",
       "                        ..\n",
       "doorhinge3987            1\n",
       "Icantthinkofone14        1\n",
       "Visible_Outside5322      1\n",
       "Lialia0424               1\n",
       "fujixgrafy               1\n",
       "Name: author, Length: 3075, dtype: int64"
      ]
     },
     "execution_count": 17,
     "metadata": {},
     "output_type": "execute_result"
    }
   ],
   "source": [
    "travelhacks['author'].value_counts()"
   ]
  },
  {
   "cell_type": "code",
   "execution_count": 18,
   "id": "0ad81759",
   "metadata": {
    "scrolled": false
   },
   "outputs": [
    {
     "data": {
      "text/html": [
       "<div>\n",
       "<style scoped>\n",
       "    .dataframe tbody tr th:only-of-type {\n",
       "        vertical-align: middle;\n",
       "    }\n",
       "\n",
       "    .dataframe tbody tr th {\n",
       "        vertical-align: top;\n",
       "    }\n",
       "\n",
       "    .dataframe thead th {\n",
       "        text-align: right;\n",
       "    }\n",
       "</style>\n",
       "<table border=\"1\" class=\"dataframe\">\n",
       "  <thead>\n",
       "    <tr style=\"text-align: right;\">\n",
       "      <th></th>\n",
       "      <th>subreddit</th>\n",
       "      <th>selftext</th>\n",
       "      <th>title</th>\n",
       "      <th>distinguished</th>\n",
       "      <th>author</th>\n",
       "      <th>removed_by_category</th>\n",
       "      <th>num_comments</th>\n",
       "      <th>utc_datetime_str</th>\n",
       "    </tr>\n",
       "  </thead>\n",
       "  <tbody>\n",
       "    <tr>\n",
       "      <th>26</th>\n",
       "      <td>TravelHacks</td>\n",
       "      <td>\\n\\n[View Poll](https://www.reddit.com/poll/12...</td>\n",
       "      <td>Which would you prefer to visit on a euro trip?</td>\n",
       "      <td>NaN</td>\n",
       "      <td>TMavrat</td>\n",
       "      <td>NaN</td>\n",
       "      <td>0</td>\n",
       "      <td>4/1/2023 15:32</td>\n",
       "    </tr>\n",
       "    <tr>\n",
       "      <th>198</th>\n",
       "      <td>TravelHacks</td>\n",
       "      <td>\\n\\n[View Poll](https://www.reddit.com/poll/12...</td>\n",
       "      <td>Where do you carry your laptop charger?</td>\n",
       "      <td>NaN</td>\n",
       "      <td>TMavrat</td>\n",
       "      <td>NaN</td>\n",
       "      <td>0</td>\n",
       "      <td>3/29/2023 3:15</td>\n",
       "    </tr>\n",
       "    <tr>\n",
       "      <th>270</th>\n",
       "      <td>TravelHacks</td>\n",
       "      <td>\\n\\n[View Poll](https://www.reddit.com/poll/12...</td>\n",
       "      <td>Which airline do you prefer ?</td>\n",
       "      <td>NaN</td>\n",
       "      <td>TMavrat</td>\n",
       "      <td>NaN</td>\n",
       "      <td>0</td>\n",
       "      <td>3/28/2023 2:18</td>\n",
       "    </tr>\n",
       "    <tr>\n",
       "      <th>407</th>\n",
       "      <td>TravelHacks</td>\n",
       "      <td>\\n\\n[View Poll](https://www.reddit.com/poll/12...</td>\n",
       "      <td>Which of these Swiss cities is best to base in...</td>\n",
       "      <td>NaN</td>\n",
       "      <td>TMavrat</td>\n",
       "      <td>NaN</td>\n",
       "      <td>0</td>\n",
       "      <td>3/25/2023 1:39</td>\n",
       "    </tr>\n",
       "    <tr>\n",
       "      <th>408</th>\n",
       "      <td>TravelHacks</td>\n",
       "      <td>\\n\\n[View Poll](https://www.reddit.com/poll/12...</td>\n",
       "      <td>Which of these Swiss cities is best to base in...</td>\n",
       "      <td>NaN</td>\n",
       "      <td>TMavrat</td>\n",
       "      <td>NaN</td>\n",
       "      <td>0</td>\n",
       "      <td>3/25/2023 1:38</td>\n",
       "    </tr>\n",
       "  </tbody>\n",
       "</table>\n",
       "</div>"
      ],
      "text/plain": [
       "       subreddit                                           selftext  \\\n",
       "26   TravelHacks  \\n\\n[View Poll](https://www.reddit.com/poll/12...   \n",
       "198  TravelHacks  \\n\\n[View Poll](https://www.reddit.com/poll/12...   \n",
       "270  TravelHacks  \\n\\n[View Poll](https://www.reddit.com/poll/12...   \n",
       "407  TravelHacks  \\n\\n[View Poll](https://www.reddit.com/poll/12...   \n",
       "408  TravelHacks  \\n\\n[View Poll](https://www.reddit.com/poll/12...   \n",
       "\n",
       "                                                 title  distinguished  \\\n",
       "26     Which would you prefer to visit on a euro trip?            NaN   \n",
       "198            Where do you carry your laptop charger?            NaN   \n",
       "270                      Which airline do you prefer ?            NaN   \n",
       "407  Which of these Swiss cities is best to base in...            NaN   \n",
       "408  Which of these Swiss cities is best to base in...            NaN   \n",
       "\n",
       "      author removed_by_category  num_comments utc_datetime_str  \n",
       "26   TMavrat                 NaN             0   4/1/2023 15:32  \n",
       "198  TMavrat                 NaN             0   3/29/2023 3:15  \n",
       "270  TMavrat                 NaN             0   3/28/2023 2:18  \n",
       "407  TMavrat                 NaN             0   3/25/2023 1:39  \n",
       "408  TMavrat                 NaN             0   3/25/2023 1:38  "
      ]
     },
     "execution_count": 18,
     "metadata": {},
     "output_type": "execute_result"
    }
   ],
   "source": [
    "# looks like TMavrat is the moderator and all posts were poll; will drop the posts from him\n",
    "travelhacks.loc[travelhacks['author'].str.contains(r'TMavrat')].head()"
   ]
  },
  {
   "cell_type": "code",
   "execution_count": 19,
   "id": "a74b3f92",
   "metadata": {},
   "outputs": [
    {
     "data": {
      "text/html": [
       "<div>\n",
       "<style scoped>\n",
       "    .dataframe tbody tr th:only-of-type {\n",
       "        vertical-align: middle;\n",
       "    }\n",
       "\n",
       "    .dataframe tbody tr th {\n",
       "        vertical-align: top;\n",
       "    }\n",
       "\n",
       "    .dataframe thead th {\n",
       "        text-align: right;\n",
       "    }\n",
       "</style>\n",
       "<table border=\"1\" class=\"dataframe\">\n",
       "  <thead>\n",
       "    <tr style=\"text-align: right;\">\n",
       "      <th></th>\n",
       "      <th>subreddit</th>\n",
       "      <th>selftext</th>\n",
       "      <th>title</th>\n",
       "      <th>distinguished</th>\n",
       "      <th>author</th>\n",
       "      <th>removed_by_category</th>\n",
       "      <th>num_comments</th>\n",
       "      <th>utc_datetime_str</th>\n",
       "    </tr>\n",
       "  </thead>\n",
       "  <tbody>\n",
       "    <tr>\n",
       "      <th>309</th>\n",
       "      <td>TravelHacks</td>\n",
       "      <td></td>\n",
       "      <td>Travel to Luon cave, Halong bay Vietnam, from ...</td>\n",
       "      <td>NaN</td>\n",
       "      <td>zimmermanus</td>\n",
       "      <td>reddit</td>\n",
       "      <td>0</td>\n",
       "      <td>3/27/2023 8:23</td>\n",
       "    </tr>\n",
       "    <tr>\n",
       "      <th>361</th>\n",
       "      <td>TravelHacks</td>\n",
       "      <td></td>\n",
       "      <td>EXCELTREND SUMMER OUTING AT HIDDEN VALLEY PINA...</td>\n",
       "      <td>NaN</td>\n",
       "      <td>zimmermanus</td>\n",
       "      <td>reddit</td>\n",
       "      <td>0</td>\n",
       "      <td>3/26/2023 6:29</td>\n",
       "    </tr>\n",
       "    <tr>\n",
       "      <th>441</th>\n",
       "      <td>TravelHacks</td>\n",
       "      <td></td>\n",
       "      <td>Halong Bay Vietnam Capella cruise cooking clas...</td>\n",
       "      <td>NaN</td>\n",
       "      <td>zimmermanus</td>\n",
       "      <td>reddit</td>\n",
       "      <td>0</td>\n",
       "      <td>3/24/2023 5:25</td>\n",
       "    </tr>\n",
       "    <tr>\n",
       "      <th>481</th>\n",
       "      <td>TravelHacks</td>\n",
       "      <td></td>\n",
       "      <td>Tour Halong Bay Vietnam Capella cruise ship. Y...</td>\n",
       "      <td>NaN</td>\n",
       "      <td>zimmermanus</td>\n",
       "      <td>reddit</td>\n",
       "      <td>0</td>\n",
       "      <td>3/23/2023 3:17</td>\n",
       "    </tr>\n",
       "    <tr>\n",
       "      <th>628</th>\n",
       "      <td>TravelHacks</td>\n",
       "      <td></td>\n",
       "      <td>Fly to and luxury Capella Cruise Halong Bay Vi...</td>\n",
       "      <td>NaN</td>\n",
       "      <td>zimmermanus</td>\n",
       "      <td>reddit</td>\n",
       "      <td>0</td>\n",
       "      <td>3/20/2023 3:10</td>\n",
       "    </tr>\n",
       "  </tbody>\n",
       "</table>\n",
       "</div>"
      ],
      "text/plain": [
       "       subreddit selftext                                              title  \\\n",
       "309  TravelHacks           Travel to Luon cave, Halong bay Vietnam, from ...   \n",
       "361  TravelHacks           EXCELTREND SUMMER OUTING AT HIDDEN VALLEY PINA...   \n",
       "441  TravelHacks           Halong Bay Vietnam Capella cruise cooking clas...   \n",
       "481  TravelHacks           Tour Halong Bay Vietnam Capella cruise ship. Y...   \n",
       "628  TravelHacks           Fly to and luxury Capella Cruise Halong Bay Vi...   \n",
       "\n",
       "     distinguished       author removed_by_category  num_comments  \\\n",
       "309            NaN  zimmermanus              reddit             0   \n",
       "361            NaN  zimmermanus              reddit             0   \n",
       "441            NaN  zimmermanus              reddit             0   \n",
       "481            NaN  zimmermanus              reddit             0   \n",
       "628            NaN  zimmermanus              reddit             0   \n",
       "\n",
       "    utc_datetime_str  \n",
       "309   3/27/2023 8:23  \n",
       "361   3/26/2023 6:29  \n",
       "441   3/24/2023 5:25  \n",
       "481   3/23/2023 3:17  \n",
       "628   3/20/2023 3:10  "
      ]
     },
     "execution_count": 19,
     "metadata": {},
     "output_type": "execute_result"
    }
   ],
   "source": [
    "# posts from zimmermanus are not mod posts; will keep them\n",
    "travelhacks.loc[travelhacks['author'].str.contains(r'zimmermanus')].head()"
   ]
  },
  {
   "cell_type": "code",
   "execution_count": 20,
   "id": "b439a233",
   "metadata": {},
   "outputs": [
    {
     "data": {
      "text/html": [
       "<div>\n",
       "<style scoped>\n",
       "    .dataframe tbody tr th:only-of-type {\n",
       "        vertical-align: middle;\n",
       "    }\n",
       "\n",
       "    .dataframe tbody tr th {\n",
       "        vertical-align: top;\n",
       "    }\n",
       "\n",
       "    .dataframe thead th {\n",
       "        text-align: right;\n",
       "    }\n",
       "</style>\n",
       "<table border=\"1\" class=\"dataframe\">\n",
       "  <thead>\n",
       "    <tr style=\"text-align: right;\">\n",
       "      <th></th>\n",
       "      <th>subreddit</th>\n",
       "      <th>selftext</th>\n",
       "      <th>title</th>\n",
       "      <th>distinguished</th>\n",
       "      <th>author</th>\n",
       "      <th>removed_by_category</th>\n",
       "      <th>num_comments</th>\n",
       "      <th>utc_datetime_str</th>\n",
       "    </tr>\n",
       "  </thead>\n",
       "  <tbody>\n",
       "    <tr>\n",
       "      <th>112</th>\n",
       "      <td>TravelHacks</td>\n",
       "      <td></td>\n",
       "      <td>What apps do you use for trip planning?</td>\n",
       "      <td>NaN</td>\n",
       "      <td>[deleted]</td>\n",
       "      <td>deleted</td>\n",
       "      <td>0</td>\n",
       "      <td>3/30/2023 17:21</td>\n",
       "    </tr>\n",
       "    <tr>\n",
       "      <th>321</th>\n",
       "      <td>TravelHacks</td>\n",
       "      <td></td>\n",
       "      <td>Is 34k enough to do a roadtrip in the US for 1...</td>\n",
       "      <td>NaN</td>\n",
       "      <td>[deleted]</td>\n",
       "      <td>deleted</td>\n",
       "      <td>0</td>\n",
       "      <td>3/27/2023 2:09</td>\n",
       "    </tr>\n",
       "    <tr>\n",
       "      <th>387</th>\n",
       "      <td>TravelHacks</td>\n",
       "      <td></td>\n",
       "      <td>Advice: travel to Europe</td>\n",
       "      <td>NaN</td>\n",
       "      <td>[deleted]</td>\n",
       "      <td>deleted</td>\n",
       "      <td>0</td>\n",
       "      <td>3/25/2023 15:18</td>\n",
       "    </tr>\n",
       "    <tr>\n",
       "      <th>397</th>\n",
       "      <td>TravelHacks</td>\n",
       "      <td></td>\n",
       "      <td>What strikes first time visitors as special or...</td>\n",
       "      <td>NaN</td>\n",
       "      <td>[deleted]</td>\n",
       "      <td>deleted</td>\n",
       "      <td>0</td>\n",
       "      <td>3/25/2023 10:20</td>\n",
       "    </tr>\n",
       "    <tr>\n",
       "      <th>405</th>\n",
       "      <td>TravelHacks</td>\n",
       "      <td></td>\n",
       "      <td>Visiting Black Rock City in winter, a good idea?</td>\n",
       "      <td>NaN</td>\n",
       "      <td>[deleted]</td>\n",
       "      <td>deleted</td>\n",
       "      <td>0</td>\n",
       "      <td>3/25/2023 2:54</td>\n",
       "    </tr>\n",
       "  </tbody>\n",
       "</table>\n",
       "</div>"
      ],
      "text/plain": [
       "       subreddit selftext                                              title  \\\n",
       "112  TravelHacks                     What apps do you use for trip planning?   \n",
       "321  TravelHacks           Is 34k enough to do a roadtrip in the US for 1...   \n",
       "387  TravelHacks                                    Advice: travel to Europe   \n",
       "397  TravelHacks           What strikes first time visitors as special or...   \n",
       "405  TravelHacks            Visiting Black Rock City in winter, a good idea?   \n",
       "\n",
       "     distinguished     author removed_by_category  num_comments  \\\n",
       "112            NaN  [deleted]             deleted             0   \n",
       "321            NaN  [deleted]             deleted             0   \n",
       "387            NaN  [deleted]             deleted             0   \n",
       "397            NaN  [deleted]             deleted             0   \n",
       "405            NaN  [deleted]             deleted             0   \n",
       "\n",
       "    utc_datetime_str  \n",
       "112  3/30/2023 17:21  \n",
       "321   3/27/2023 2:09  \n",
       "387  3/25/2023 15:18  \n",
       "397  3/25/2023 10:20  \n",
       "405   3/25/2023 2:54  "
      ]
     },
     "execution_count": 20,
     "metadata": {},
     "output_type": "execute_result"
    }
   ],
   "source": [
    "# will remove the posts that were deleted; \n",
    "# because the post may be removed for many other reasons: spam, author removed, advertisements\n",
    "travelhacks.loc[travelhacks['author'].str.contains(r'delete')].head()"
   ]
  },
  {
   "cell_type": "code",
   "execution_count": 21,
   "id": "fa81bbae",
   "metadata": {},
   "outputs": [
    {
     "data": {
      "text/plain": [
       "[deleted]               77\n",
       "AutoModerator           24\n",
       "Automatic_Team_4280     11\n",
       "Lolgb2000               11\n",
       "dsper32                 11\n",
       "                        ..\n",
       "autobotdonttransform     1\n",
       "keithmg                  1\n",
       "someguywithanaccount     1\n",
       "karI_hungus              1\n",
       "jarjargo44               1\n",
       "Name: author, Length: 2897, dtype: int64"
      ]
     },
     "execution_count": 21,
     "metadata": {},
     "output_type": "execute_result"
    }
   ],
   "source": [
    "awardtravel['author'].value_counts()"
   ]
  },
  {
   "cell_type": "code",
   "execution_count": 22,
   "id": "c3652fad",
   "metadata": {
    "scrolled": false
   },
   "outputs": [
    {
     "data": {
      "text/html": [
       "<div>\n",
       "<style scoped>\n",
       "    .dataframe tbody tr th:only-of-type {\n",
       "        vertical-align: middle;\n",
       "    }\n",
       "\n",
       "    .dataframe tbody tr th {\n",
       "        vertical-align: top;\n",
       "    }\n",
       "\n",
       "    .dataframe thead th {\n",
       "        text-align: right;\n",
       "    }\n",
       "</style>\n",
       "<table border=\"1\" class=\"dataframe\">\n",
       "  <thead>\n",
       "    <tr style=\"text-align: right;\">\n",
       "      <th></th>\n",
       "      <th>subreddit</th>\n",
       "      <th>selftext</th>\n",
       "      <th>title</th>\n",
       "      <th>distinguished</th>\n",
       "      <th>author</th>\n",
       "      <th>removed_by_category</th>\n",
       "      <th>num_comments</th>\n",
       "      <th>utc_datetime_str</th>\n",
       "    </tr>\n",
       "  </thead>\n",
       "  <tbody>\n",
       "    <tr>\n",
       "      <th>147</th>\n",
       "      <td>awardtravel</td>\n",
       "      <td>Welcome to the weekly discussion thread!\\n\\nTh...</td>\n",
       "      <td>Weekly Discussion Thread - March 27, 2023</td>\n",
       "      <td>NaN</td>\n",
       "      <td>AutoModerator</td>\n",
       "      <td>NaN</td>\n",
       "      <td>0</td>\n",
       "      <td>3/27/2023 10:01</td>\n",
       "    </tr>\n",
       "    <tr>\n",
       "      <th>458</th>\n",
       "      <td>awardtravel</td>\n",
       "      <td>Welcome to the weekly discussion thread!\\n\\nTh...</td>\n",
       "      <td>Weekly Discussion Thread - March 13, 2023</td>\n",
       "      <td>NaN</td>\n",
       "      <td>AutoModerator</td>\n",
       "      <td>NaN</td>\n",
       "      <td>0</td>\n",
       "      <td>3/13/2023 10:01</td>\n",
       "    </tr>\n",
       "    <tr>\n",
       "      <th>624</th>\n",
       "      <td>awardtravel</td>\n",
       "      <td>Welcome to the weekly discussion thread!\\n\\nTh...</td>\n",
       "      <td>Weekly Discussion Thread - March 06, 2023</td>\n",
       "      <td>NaN</td>\n",
       "      <td>AutoModerator</td>\n",
       "      <td>NaN</td>\n",
       "      <td>0</td>\n",
       "      <td>3/6/2023 11:01</td>\n",
       "    </tr>\n",
       "    <tr>\n",
       "      <th>806</th>\n",
       "      <td>awardtravel</td>\n",
       "      <td>Welcome to the weekly discussion thread!\\n\\nTh...</td>\n",
       "      <td>Weekly Discussion Thread - February 27, 2023</td>\n",
       "      <td>NaN</td>\n",
       "      <td>AutoModerator</td>\n",
       "      <td>NaN</td>\n",
       "      <td>0</td>\n",
       "      <td>2/27/2023 11:01</td>\n",
       "    </tr>\n",
       "    <tr>\n",
       "      <th>970</th>\n",
       "      <td>awardtravel</td>\n",
       "      <td>Welcome to the weekly discussion thread!\\n\\nTh...</td>\n",
       "      <td>Weekly Discussion Thread - February 20, 2023</td>\n",
       "      <td>NaN</td>\n",
       "      <td>AutoModerator</td>\n",
       "      <td>NaN</td>\n",
       "      <td>0</td>\n",
       "      <td>2/20/2023 11:01</td>\n",
       "    </tr>\n",
       "  </tbody>\n",
       "</table>\n",
       "</div>"
      ],
      "text/plain": [
       "       subreddit                                           selftext  \\\n",
       "147  awardtravel  Welcome to the weekly discussion thread!\\n\\nTh...   \n",
       "458  awardtravel  Welcome to the weekly discussion thread!\\n\\nTh...   \n",
       "624  awardtravel  Welcome to the weekly discussion thread!\\n\\nTh...   \n",
       "806  awardtravel  Welcome to the weekly discussion thread!\\n\\nTh...   \n",
       "970  awardtravel  Welcome to the weekly discussion thread!\\n\\nTh...   \n",
       "\n",
       "                                            title  distinguished  \\\n",
       "147     Weekly Discussion Thread - March 27, 2023            NaN   \n",
       "458     Weekly Discussion Thread - March 13, 2023            NaN   \n",
       "624     Weekly Discussion Thread - March 06, 2023            NaN   \n",
       "806  Weekly Discussion Thread - February 27, 2023            NaN   \n",
       "970  Weekly Discussion Thread - February 20, 2023            NaN   \n",
       "\n",
       "            author removed_by_category  num_comments utc_datetime_str  \n",
       "147  AutoModerator                 NaN             0  3/27/2023 10:01  \n",
       "458  AutoModerator                 NaN             0  3/13/2023 10:01  \n",
       "624  AutoModerator                 NaN             0   3/6/2023 11:01  \n",
       "806  AutoModerator                 NaN             0  2/27/2023 11:01  \n",
       "970  AutoModerator                 NaN             0  2/20/2023 11:01  "
      ]
     },
     "execution_count": 22,
     "metadata": {},
     "output_type": "execute_result"
    }
   ],
   "source": [
    "awardtravel.loc[awardtravel['author'].str.contains(r'AutoModerator')].head()"
   ]
  },
  {
   "cell_type": "code",
   "execution_count": 23,
   "id": "5a3a1e47",
   "metadata": {
    "scrolled": true
   },
   "outputs": [
    {
     "data": {
      "text/html": [
       "<div>\n",
       "<style scoped>\n",
       "    .dataframe tbody tr th:only-of-type {\n",
       "        vertical-align: middle;\n",
       "    }\n",
       "\n",
       "    .dataframe tbody tr th {\n",
       "        vertical-align: top;\n",
       "    }\n",
       "\n",
       "    .dataframe thead th {\n",
       "        text-align: right;\n",
       "    }\n",
       "</style>\n",
       "<table border=\"1\" class=\"dataframe\">\n",
       "  <thead>\n",
       "    <tr style=\"text-align: right;\">\n",
       "      <th></th>\n",
       "      <th>subreddit</th>\n",
       "      <th>selftext</th>\n",
       "      <th>title</th>\n",
       "      <th>distinguished</th>\n",
       "      <th>author</th>\n",
       "      <th>removed_by_category</th>\n",
       "      <th>num_comments</th>\n",
       "      <th>utc_datetime_str</th>\n",
       "    </tr>\n",
       "  </thead>\n",
       "  <tbody>\n",
       "    <tr>\n",
       "      <th>760</th>\n",
       "      <td>awardtravel</td>\n",
       "      <td></td>\n",
       "      <td>What's the best MR to LifeMiles bonus you've seen</td>\n",
       "      <td>NaN</td>\n",
       "      <td>[deleted]</td>\n",
       "      <td>deleted</td>\n",
       "      <td>2</td>\n",
       "      <td>3/1/2023 6:26</td>\n",
       "    </tr>\n",
       "    <tr>\n",
       "      <th>762</th>\n",
       "      <td>awardtravel</td>\n",
       "      <td></td>\n",
       "      <td>concerned about missing my connecting flights ...</td>\n",
       "      <td>NaN</td>\n",
       "      <td>[deleted]</td>\n",
       "      <td>deleted</td>\n",
       "      <td>3</td>\n",
       "      <td>3/1/2023 4:11</td>\n",
       "    </tr>\n",
       "    <tr>\n",
       "      <th>1830</th>\n",
       "      <td>awardtravel</td>\n",
       "      <td></td>\n",
       "      <td>Can I be added to a Marriott account to obtain...</td>\n",
       "      <td>NaN</td>\n",
       "      <td>[deleted]</td>\n",
       "      <td>deleted</td>\n",
       "      <td>1</td>\n",
       "      <td>1/17/2023 1:09</td>\n",
       "    </tr>\n",
       "    <tr>\n",
       "      <th>2065</th>\n",
       "      <td>awardtravel</td>\n",
       "      <td></td>\n",
       "      <td>Can a paid upgrade with BA from economy to pre...</td>\n",
       "      <td>NaN</td>\n",
       "      <td>[deleted]</td>\n",
       "      <td>deleted</td>\n",
       "      <td>0</td>\n",
       "      <td>1/9/2023 6:48</td>\n",
       "    </tr>\n",
       "    <tr>\n",
       "      <th>2957</th>\n",
       "      <td>awardtravel</td>\n",
       "      <td></td>\n",
       "      <td>Close-In Availability Game Prep: USA =&amp;gt; SYD...</td>\n",
       "      <td>NaN</td>\n",
       "      <td>[deleted]</td>\n",
       "      <td>deleted</td>\n",
       "      <td>1</td>\n",
       "      <td>12/2/2022 22:34</td>\n",
       "    </tr>\n",
       "  </tbody>\n",
       "</table>\n",
       "</div>"
      ],
      "text/plain": [
       "        subreddit selftext                                              title  \\\n",
       "760   awardtravel           What's the best MR to LifeMiles bonus you've seen   \n",
       "762   awardtravel           concerned about missing my connecting flights ...   \n",
       "1830  awardtravel           Can I be added to a Marriott account to obtain...   \n",
       "2065  awardtravel           Can a paid upgrade with BA from economy to pre...   \n",
       "2957  awardtravel           Close-In Availability Game Prep: USA =&gt; SYD...   \n",
       "\n",
       "      distinguished     author removed_by_category  num_comments  \\\n",
       "760             NaN  [deleted]             deleted             2   \n",
       "762             NaN  [deleted]             deleted             3   \n",
       "1830            NaN  [deleted]             deleted             1   \n",
       "2065            NaN  [deleted]             deleted             0   \n",
       "2957            NaN  [deleted]             deleted             1   \n",
       "\n",
       "     utc_datetime_str  \n",
       "760     3/1/2023 6:26  \n",
       "762     3/1/2023 4:11  \n",
       "1830   1/17/2023 1:09  \n",
       "2065    1/9/2023 6:48  \n",
       "2957  12/2/2022 22:34  "
      ]
     },
     "execution_count": 23,
     "metadata": {},
     "output_type": "execute_result"
    }
   ],
   "source": [
    "# will remove the posts that were deleted; \n",
    "# because the post may be removed for many other reasons: spam, author removed, advertisements. duplicate posts\n",
    "awardtravel.loc[awardtravel['author'].str.contains(r'\\[deleted\\]')].head()"
   ]
  },
  {
   "cell_type": "code",
   "execution_count": 24,
   "id": "324106fc",
   "metadata": {},
   "outputs": [],
   "source": [
    "# drop moderator posts\n",
    "travelhacks.drop(index=travelhacks[travelhacks['author'].str.contains('TMavrat|deleted')].index, inplace=True)\n",
    "awardtravel.drop(index=awardtravel[awardtravel['author'].str.contains('AutoModerator|deleted')].index, inplace=True)"
   ]
  },
  {
   "cell_type": "code",
   "execution_count": 25,
   "id": "83d339c0",
   "metadata": {
    "scrolled": true
   },
   "outputs": [
    {
     "data": {
      "text/plain": [
       "((3773, 8), (3847, 8))"
      ]
     },
     "execution_count": 25,
     "metadata": {},
     "output_type": "execute_result"
    }
   ],
   "source": [
    "travelhacks.shape, awardtravel.shape"
   ]
  },
  {
   "cell_type": "markdown",
   "id": "806e54fd",
   "metadata": {},
   "source": [
    "#### Drop unwanted columns: "
   ]
  },
  {
   "cell_type": "code",
   "execution_count": 26,
   "id": "2ce95914",
   "metadata": {
    "scrolled": false
   },
   "outputs": [
    {
     "data": {
      "text/plain": [
       "distinguished          3773\n",
       "removed_by_category    2138\n",
       "dtype: int64"
      ]
     },
     "execution_count": 26,
     "metadata": {},
     "output_type": "execute_result"
    }
   ],
   "source": [
    "# Check for null values\n",
    "travelhacks.isnull().sum()[travelhacks.isnull().sum() > 0]"
   ]
  },
  {
   "cell_type": "code",
   "execution_count": 27,
   "id": "b5d8ce4c",
   "metadata": {
    "scrolled": true
   },
   "outputs": [
    {
     "data": {
      "text/plain": [
       "distinguished          3847\n",
       "removed_by_category    3450\n",
       "dtype: int64"
      ]
     },
     "execution_count": 27,
     "metadata": {},
     "output_type": "execute_result"
    }
   ],
   "source": [
    "# Check for null values\n",
    "awardtravel.isnull().sum()[awardtravel.isnull().sum() > 0]"
   ]
  },
  {
   "cell_type": "code",
   "execution_count": 28,
   "id": "09a47d76",
   "metadata": {},
   "outputs": [],
   "source": [
    "travelhacks.drop(columns = ['distinguished', 'removed_by_category'], inplace = True)\n",
    "awardtravel.drop(columns = ['distinguished', 'removed_by_category'], inplace = True)"
   ]
  },
  {
   "cell_type": "code",
   "execution_count": 29,
   "id": "8e837d19",
   "metadata": {},
   "outputs": [
    {
     "data": {
      "text/plain": [
       "subreddit           0\n",
       "selftext            0\n",
       "title               0\n",
       "author              0\n",
       "num_comments        0\n",
       "utc_datetime_str    0\n",
       "dtype: int64"
      ]
     },
     "execution_count": 29,
     "metadata": {},
     "output_type": "execute_result"
    }
   ],
   "source": [
    "travelhacks.isna().sum()"
   ]
  },
  {
   "cell_type": "code",
   "execution_count": 30,
   "id": "5f2d5c5a",
   "metadata": {
    "scrolled": false
   },
   "outputs": [
    {
     "data": {
      "text/plain": [
       "subreddit           0\n",
       "selftext            0\n",
       "title               0\n",
       "author              0\n",
       "num_comments        0\n",
       "utc_datetime_str    0\n",
       "dtype: int64"
      ]
     },
     "execution_count": 30,
     "metadata": {},
     "output_type": "execute_result"
    }
   ],
   "source": [
    "awardtravel.isna().sum()"
   ]
  },
  {
   "cell_type": "code",
   "execution_count": 31,
   "id": "f403c409",
   "metadata": {
    "scrolled": false
   },
   "outputs": [
    {
     "data": {
      "text/html": [
       "<div>\n",
       "<style scoped>\n",
       "    .dataframe tbody tr th:only-of-type {\n",
       "        vertical-align: middle;\n",
       "    }\n",
       "\n",
       "    .dataframe tbody tr th {\n",
       "        vertical-align: top;\n",
       "    }\n",
       "\n",
       "    .dataframe thead th {\n",
       "        text-align: right;\n",
       "    }\n",
       "</style>\n",
       "<table border=\"1\" class=\"dataframe\">\n",
       "  <thead>\n",
       "    <tr style=\"text-align: right;\">\n",
       "      <th></th>\n",
       "      <th>count</th>\n",
       "    </tr>\n",
       "    <tr>\n",
       "      <th>author</th>\n",
       "      <th></th>\n",
       "    </tr>\n",
       "  </thead>\n",
       "  <tbody>\n",
       "    <tr>\n",
       "      <th>zimmermanus</th>\n",
       "      <td>38</td>\n",
       "    </tr>\n",
       "    <tr>\n",
       "      <th>John_Martson_isalive</th>\n",
       "      <td>24</td>\n",
       "    </tr>\n",
       "    <tr>\n",
       "      <th>Independent_Job5063</th>\n",
       "      <td>21</td>\n",
       "    </tr>\n",
       "    <tr>\n",
       "      <th>jameswood111</th>\n",
       "      <td>21</td>\n",
       "    </tr>\n",
       "    <tr>\n",
       "      <th>wallpapersdance</th>\n",
       "      <td>9</td>\n",
       "    </tr>\n",
       "    <tr>\n",
       "      <th>trendstori</th>\n",
       "      <td>9</td>\n",
       "    </tr>\n",
       "    <tr>\n",
       "      <th>rockarolla78</th>\n",
       "      <td>8</td>\n",
       "    </tr>\n",
       "    <tr>\n",
       "      <th>SameCryptographer612</th>\n",
       "      <td>8</td>\n",
       "    </tr>\n",
       "    <tr>\n",
       "      <th>Poum12</th>\n",
       "      <td>7</td>\n",
       "    </tr>\n",
       "    <tr>\n",
       "      <th>myflighttrip</th>\n",
       "      <td>7</td>\n",
       "    </tr>\n",
       "  </tbody>\n",
       "</table>\n",
       "</div>"
      ],
      "text/plain": [
       "                      count\n",
       "author                     \n",
       "zimmermanus              38\n",
       "John_Martson_isalive     24\n",
       "Independent_Job5063      21\n",
       "jameswood111             21\n",
       "wallpapersdance           9\n",
       "trendstori                9\n",
       "rockarolla78              8\n",
       "SameCryptographer612      8\n",
       "Poum12                    7\n",
       "myflighttrip              7"
      ]
     },
     "execution_count": 31,
     "metadata": {},
     "output_type": "execute_result"
    }
   ],
   "source": [
    "#number of posts per user\n",
    "travelhacks.groupby(['author'])['subreddit'].agg(['count']).sort_values('count', ascending = False).head(10)"
   ]
  },
  {
   "cell_type": "code",
   "execution_count": 32,
   "id": "aa4227e7",
   "metadata": {
    "scrolled": true
   },
   "outputs": [
    {
     "data": {
      "text/html": [
       "<div>\n",
       "<style scoped>\n",
       "    .dataframe tbody tr th:only-of-type {\n",
       "        vertical-align: middle;\n",
       "    }\n",
       "\n",
       "    .dataframe tbody tr th {\n",
       "        vertical-align: top;\n",
       "    }\n",
       "\n",
       "    .dataframe thead th {\n",
       "        text-align: right;\n",
       "    }\n",
       "</style>\n",
       "<table border=\"1\" class=\"dataframe\">\n",
       "  <thead>\n",
       "    <tr style=\"text-align: right;\">\n",
       "      <th></th>\n",
       "      <th>count</th>\n",
       "    </tr>\n",
       "    <tr>\n",
       "      <th>author</th>\n",
       "      <th></th>\n",
       "    </tr>\n",
       "  </thead>\n",
       "  <tbody>\n",
       "    <tr>\n",
       "      <th>Automatic_Team_4280</th>\n",
       "      <td>11</td>\n",
       "    </tr>\n",
       "    <tr>\n",
       "      <th>Lolgb2000</th>\n",
       "      <td>11</td>\n",
       "    </tr>\n",
       "    <tr>\n",
       "      <th>dsper32</th>\n",
       "      <td>11</td>\n",
       "    </tr>\n",
       "    <tr>\n",
       "      <th>Automatic_Aspect_319</th>\n",
       "      <td>10</td>\n",
       "    </tr>\n",
       "    <tr>\n",
       "      <th>slidinginlife</th>\n",
       "      <td>8</td>\n",
       "    </tr>\n",
       "    <tr>\n",
       "      <th>SnooDoughnuts785</th>\n",
       "      <td>8</td>\n",
       "    </tr>\n",
       "    <tr>\n",
       "      <th>AbhiAKA</th>\n",
       "      <td>8</td>\n",
       "    </tr>\n",
       "    <tr>\n",
       "      <th>No-Competition-8938</th>\n",
       "      <td>8</td>\n",
       "    </tr>\n",
       "    <tr>\n",
       "      <th>dickniglit</th>\n",
       "      <td>7</td>\n",
       "    </tr>\n",
       "    <tr>\n",
       "      <th>LeagueLonster</th>\n",
       "      <td>7</td>\n",
       "    </tr>\n",
       "  </tbody>\n",
       "</table>\n",
       "</div>"
      ],
      "text/plain": [
       "                      count\n",
       "author                     \n",
       "Automatic_Team_4280      11\n",
       "Lolgb2000                11\n",
       "dsper32                  11\n",
       "Automatic_Aspect_319     10\n",
       "slidinginlife             8\n",
       "SnooDoughnuts785          8\n",
       "AbhiAKA                   8\n",
       "No-Competition-8938       8\n",
       "dickniglit                7\n",
       "LeagueLonster             7"
      ]
     },
     "execution_count": 32,
     "metadata": {},
     "output_type": "execute_result"
    }
   ],
   "source": [
    "#number of posts per user\n",
    "awardtravel.groupby(['author'])['subreddit'].agg(['count']).sort_values('count', ascending = False).head(10)"
   ]
  },
  {
   "cell_type": "code",
   "execution_count": 33,
   "id": "afb37b75",
   "metadata": {},
   "outputs": [
    {
     "data": {
      "text/html": [
       "<div>\n",
       "<style scoped>\n",
       "    .dataframe tbody tr th:only-of-type {\n",
       "        vertical-align: middle;\n",
       "    }\n",
       "\n",
       "    .dataframe tbody tr th {\n",
       "        vertical-align: top;\n",
       "    }\n",
       "\n",
       "    .dataframe thead th {\n",
       "        text-align: right;\n",
       "    }\n",
       "</style>\n",
       "<table border=\"1\" class=\"dataframe\">\n",
       "  <thead>\n",
       "    <tr style=\"text-align: right;\">\n",
       "      <th></th>\n",
       "      <th>num_comments</th>\n",
       "    </tr>\n",
       "  </thead>\n",
       "  <tbody>\n",
       "    <tr>\n",
       "      <th>count</th>\n",
       "      <td>3773.000000</td>\n",
       "    </tr>\n",
       "    <tr>\n",
       "      <th>mean</th>\n",
       "      <td>0.029950</td>\n",
       "    </tr>\n",
       "    <tr>\n",
       "      <th>std</th>\n",
       "      <td>0.558273</td>\n",
       "    </tr>\n",
       "    <tr>\n",
       "      <th>min</th>\n",
       "      <td>0.000000</td>\n",
       "    </tr>\n",
       "    <tr>\n",
       "      <th>25%</th>\n",
       "      <td>0.000000</td>\n",
       "    </tr>\n",
       "    <tr>\n",
       "      <th>50%</th>\n",
       "      <td>0.000000</td>\n",
       "    </tr>\n",
       "    <tr>\n",
       "      <th>75%</th>\n",
       "      <td>0.000000</td>\n",
       "    </tr>\n",
       "    <tr>\n",
       "      <th>max</th>\n",
       "      <td>18.000000</td>\n",
       "    </tr>\n",
       "  </tbody>\n",
       "</table>\n",
       "</div>"
      ],
      "text/plain": [
       "       num_comments\n",
       "count   3773.000000\n",
       "mean       0.029950\n",
       "std        0.558273\n",
       "min        0.000000\n",
       "25%        0.000000\n",
       "50%        0.000000\n",
       "75%        0.000000\n",
       "max       18.000000"
      ]
     },
     "execution_count": 33,
     "metadata": {},
     "output_type": "execute_result"
    }
   ],
   "source": [
    "travelhacks.describe()"
   ]
  },
  {
   "cell_type": "code",
   "execution_count": 34,
   "id": "3fbbd173",
   "metadata": {},
   "outputs": [
    {
     "data": {
      "text/html": [
       "<div>\n",
       "<style scoped>\n",
       "    .dataframe tbody tr th:only-of-type {\n",
       "        vertical-align: middle;\n",
       "    }\n",
       "\n",
       "    .dataframe tbody tr th {\n",
       "        vertical-align: top;\n",
       "    }\n",
       "\n",
       "    .dataframe thead th {\n",
       "        text-align: right;\n",
       "    }\n",
       "</style>\n",
       "<table border=\"1\" class=\"dataframe\">\n",
       "  <thead>\n",
       "    <tr style=\"text-align: right;\">\n",
       "      <th></th>\n",
       "      <th>num_comments</th>\n",
       "    </tr>\n",
       "  </thead>\n",
       "  <tbody>\n",
       "    <tr>\n",
       "      <th>count</th>\n",
       "      <td>3847.000000</td>\n",
       "    </tr>\n",
       "    <tr>\n",
       "      <th>mean</th>\n",
       "      <td>1.998440</td>\n",
       "    </tr>\n",
       "    <tr>\n",
       "      <th>std</th>\n",
       "      <td>5.404636</td>\n",
       "    </tr>\n",
       "    <tr>\n",
       "      <th>min</th>\n",
       "      <td>0.000000</td>\n",
       "    </tr>\n",
       "    <tr>\n",
       "      <th>25%</th>\n",
       "      <td>1.000000</td>\n",
       "    </tr>\n",
       "    <tr>\n",
       "      <th>50%</th>\n",
       "      <td>1.000000</td>\n",
       "    </tr>\n",
       "    <tr>\n",
       "      <th>75%</th>\n",
       "      <td>1.000000</td>\n",
       "    </tr>\n",
       "    <tr>\n",
       "      <th>max</th>\n",
       "      <td>94.000000</td>\n",
       "    </tr>\n",
       "  </tbody>\n",
       "</table>\n",
       "</div>"
      ],
      "text/plain": [
       "       num_comments\n",
       "count   3847.000000\n",
       "mean       1.998440\n",
       "std        5.404636\n",
       "min        0.000000\n",
       "25%        1.000000\n",
       "50%        1.000000\n",
       "75%        1.000000\n",
       "max       94.000000"
      ]
     },
     "execution_count": 34,
     "metadata": {},
     "output_type": "execute_result"
    }
   ],
   "source": [
    "awardtravel.describe()"
   ]
  },
  {
   "cell_type": "markdown",
   "id": "8ca66d9d",
   "metadata": {},
   "source": [
    "#### Check for duplicate rows: \n",
    "    Should not have any duplicate rows since they should have been dropped during scrapping steps. "
   ]
  },
  {
   "cell_type": "code",
   "execution_count": 35,
   "id": "b4384269",
   "metadata": {
    "scrolled": true
   },
   "outputs": [
    {
     "data": {
      "text/plain": [
       "False    3773\n",
       "dtype: int64"
      ]
     },
     "execution_count": 35,
     "metadata": {},
     "output_type": "execute_result"
    }
   ],
   "source": [
    "travelhacks.duplicated(subset=['selftext','title']).value_counts()"
   ]
  },
  {
   "cell_type": "code",
   "execution_count": 36,
   "id": "81ff8e22",
   "metadata": {
    "scrolled": true
   },
   "outputs": [
    {
     "data": {
      "text/plain": [
       "False    3847\n",
       "dtype: int64"
      ]
     },
     "execution_count": 36,
     "metadata": {},
     "output_type": "execute_result"
    }
   ],
   "source": [
    "awardtravel.duplicated(subset=['selftext','title']).value_counts()"
   ]
  },
  {
   "cell_type": "markdown",
   "id": "769b0164",
   "metadata": {},
   "source": [
    "#### Combine two dataframes for futher cleaning and data training"
   ]
  },
  {
   "cell_type": "code",
   "execution_count": 37,
   "id": "24e7660f",
   "metadata": {
    "scrolled": true
   },
   "outputs": [
    {
     "data": {
      "text/plain": [
       "((3773, 6), (3847, 6))"
      ]
     },
     "execution_count": 37,
     "metadata": {},
     "output_type": "execute_result"
    }
   ],
   "source": [
    "travelhacks.shape, awardtravel.shape"
   ]
  },
  {
   "cell_type": "code",
   "execution_count": 38,
   "id": "d39b6350",
   "metadata": {},
   "outputs": [],
   "source": [
    "# combined and reset index\n",
    "df_combined = pd.concat([travelhacks, awardtravel], axis = 0)\n",
    "df_combined = df_combined.reset_index(drop=True)"
   ]
  },
  {
   "cell_type": "code",
   "execution_count": 39,
   "id": "e477e756",
   "metadata": {
    "scrolled": true
   },
   "outputs": [
    {
     "data": {
      "text/plain": [
       "(7620, 6)"
      ]
     },
     "execution_count": 39,
     "metadata": {},
     "output_type": "execute_result"
    }
   ],
   "source": [
    "df_combined.shape"
   ]
  },
  {
   "cell_type": "code",
   "execution_count": 40,
   "id": "2c219d0d",
   "metadata": {
    "scrolled": true
   },
   "outputs": [
    {
     "name": "stdout",
     "output_type": "stream",
     "text": [
      "<class 'pandas.core.frame.DataFrame'>\n",
      "RangeIndex: 7620 entries, 0 to 7619\n",
      "Data columns (total 6 columns):\n",
      " #   Column            Non-Null Count  Dtype \n",
      "---  ------            --------------  ----- \n",
      " 0   subreddit         7620 non-null   object\n",
      " 1   selftext          7620 non-null   object\n",
      " 2   title             7620 non-null   object\n",
      " 3   author            7620 non-null   object\n",
      " 4   num_comments      7620 non-null   int64 \n",
      " 5   utc_datetime_str  7620 non-null   object\n",
      "dtypes: int64(1), object(5)\n",
      "memory usage: 357.3+ KB\n"
     ]
    }
   ],
   "source": [
    "df_combined.info()"
   ]
  },
  {
   "cell_type": "code",
   "execution_count": 41,
   "id": "a57648f1",
   "metadata": {
    "scrolled": true
   },
   "outputs": [
    {
     "data": {
      "text/plain": [
       "awardtravel    3847\n",
       "TravelHacks    3773\n",
       "Name: subreddit, dtype: int64"
      ]
     },
     "execution_count": 41,
     "metadata": {},
     "output_type": "execute_result"
    }
   ],
   "source": [
    "df_combined.subreddit.value_counts()"
   ]
  },
  {
   "cell_type": "code",
   "execution_count": 42,
   "id": "8d34e8b6",
   "metadata": {},
   "outputs": [],
   "source": [
    "#convert the target into binary result\n",
    "df_combined['subreddit'].replace({'TravelHacks': 1, 'awardtravel': 0}, inplace=True)"
   ]
  },
  {
   "cell_type": "code",
   "execution_count": 43,
   "id": "e5556c89",
   "metadata": {
    "scrolled": true
   },
   "outputs": [
    {
     "data": {
      "text/plain": [
       "0    3847\n",
       "1    3773\n",
       "Name: subreddit, dtype: int64"
      ]
     },
     "execution_count": 43,
     "metadata": {},
     "output_type": "execute_result"
    }
   ],
   "source": [
    "df_combined.subreddit.value_counts()"
   ]
  },
  {
   "cell_type": "markdown",
   "id": "030a8a56",
   "metadata": {},
   "source": [
    "#### Create 'text' column to capture the content of both selftext and title"
   ]
  },
  {
   "cell_type": "code",
   "execution_count": 44,
   "id": "39083a42",
   "metadata": {
    "scrolled": true
   },
   "outputs": [
    {
     "data": {
      "text/html": [
       "<div>\n",
       "<style scoped>\n",
       "    .dataframe tbody tr th:only-of-type {\n",
       "        vertical-align: middle;\n",
       "    }\n",
       "\n",
       "    .dataframe tbody tr th {\n",
       "        vertical-align: top;\n",
       "    }\n",
       "\n",
       "    .dataframe thead th {\n",
       "        text-align: right;\n",
       "    }\n",
       "</style>\n",
       "<table border=\"1\" class=\"dataframe\">\n",
       "  <thead>\n",
       "    <tr style=\"text-align: right;\">\n",
       "      <th></th>\n",
       "      <th>subreddit</th>\n",
       "      <th>selftext</th>\n",
       "      <th>title</th>\n",
       "      <th>author</th>\n",
       "      <th>num_comments</th>\n",
       "      <th>utc_datetime_str</th>\n",
       "      <th>text</th>\n",
       "    </tr>\n",
       "  </thead>\n",
       "  <tbody>\n",
       "    <tr>\n",
       "      <th>0</th>\n",
       "      <td>1</td>\n",
       "      <td>Has anyone booked a flight to Costa Rica witho...</td>\n",
       "      <td>Winging Costa rica</td>\n",
       "      <td>lucylovesugly1</td>\n",
       "      <td>0</td>\n",
       "      <td>4/2/2023 6:51</td>\n",
       "      <td>Winging Costa rica Has anyone booked a flight ...</td>\n",
       "    </tr>\n",
       "    <tr>\n",
       "      <th>1</th>\n",
       "      <td>1</td>\n",
       "      <td>Hey, me and my friend are planning to go on a ...</td>\n",
       "      <td>I'm planning a backpacking trip to Romania, an...</td>\n",
       "      <td>wbtr42</td>\n",
       "      <td>0</td>\n",
       "      <td>4/2/2023 6:37</td>\n",
       "      <td>I'm planning a backpacking trip to Romania, an...</td>\n",
       "    </tr>\n",
       "    <tr>\n",
       "      <th>2</th>\n",
       "      <td>1</td>\n",
       "      <td>Hey all. Planning on a visit to Chile and Arge...</td>\n",
       "      <td>Are there any budget friendly ways to get a ta...</td>\n",
       "      <td>bak1n</td>\n",
       "      <td>0</td>\n",
       "      <td>4/2/2023 6:10</td>\n",
       "      <td>Are there any budget friendly ways to get a ta...</td>\n",
       "    </tr>\n",
       "    <tr>\n",
       "      <th>3</th>\n",
       "      <td>1</td>\n",
       "      <td></td>\n",
       "      <td>Niagara Falls NY</td>\n",
       "      <td>Proud-Assumption-353</td>\n",
       "      <td>0</td>\n",
       "      <td>4/2/2023 5:28</td>\n",
       "      <td>Niagara Falls NY</td>\n",
       "    </tr>\n",
       "    <tr>\n",
       "      <th>4</th>\n",
       "      <td>1</td>\n",
       "      <td>I’m heading to Europe for work in June and wan...</td>\n",
       "      <td>Nice &amp;gt; Rome flights/airlines</td>\n",
       "      <td>efisk1990</td>\n",
       "      <td>0</td>\n",
       "      <td>4/2/2023 5:06</td>\n",
       "      <td>Nice &amp;gt; Rome flights/airlines I’m heading to...</td>\n",
       "    </tr>\n",
       "  </tbody>\n",
       "</table>\n",
       "</div>"
      ],
      "text/plain": [
       "   subreddit                                           selftext  \\\n",
       "0          1  Has anyone booked a flight to Costa Rica witho...   \n",
       "1          1  Hey, me and my friend are planning to go on a ...   \n",
       "2          1  Hey all. Planning on a visit to Chile and Arge...   \n",
       "3          1                                                      \n",
       "4          1  I’m heading to Europe for work in June and wan...   \n",
       "\n",
       "                                               title                author  \\\n",
       "0                                 Winging Costa rica        lucylovesugly1   \n",
       "1  I'm planning a backpacking trip to Romania, an...                wbtr42   \n",
       "2  Are there any budget friendly ways to get a ta...                 bak1n   \n",
       "3                                   Niagara Falls NY  Proud-Assumption-353   \n",
       "4                    Nice &gt; Rome flights/airlines             efisk1990   \n",
       "\n",
       "   num_comments utc_datetime_str  \\\n",
       "0             0    4/2/2023 6:51   \n",
       "1             0    4/2/2023 6:37   \n",
       "2             0    4/2/2023 6:10   \n",
       "3             0    4/2/2023 5:28   \n",
       "4             0    4/2/2023 5:06   \n",
       "\n",
       "                                                text  \n",
       "0  Winging Costa rica Has anyone booked a flight ...  \n",
       "1  I'm planning a backpacking trip to Romania, an...  \n",
       "2  Are there any budget friendly ways to get a ta...  \n",
       "3                                  Niagara Falls NY   \n",
       "4  Nice &gt; Rome flights/airlines I’m heading to...  "
      ]
     },
     "execution_count": 44,
     "metadata": {},
     "output_type": "execute_result"
    }
   ],
   "source": [
    "# Create 'text' column = Combination of selftext and title\n",
    "\n",
    "df_combined['text'] = df_combined['title'] + ' ' + df_combined['selftext']\n",
    "df_combined.head()"
   ]
  },
  {
   "cell_type": "code",
   "execution_count": 45,
   "id": "1b705ac5",
   "metadata": {
    "scrolled": true
   },
   "outputs": [
    {
     "data": {
      "text/html": [
       "<div>\n",
       "<style scoped>\n",
       "    .dataframe tbody tr th:only-of-type {\n",
       "        vertical-align: middle;\n",
       "    }\n",
       "\n",
       "    .dataframe tbody tr th {\n",
       "        vertical-align: top;\n",
       "    }\n",
       "\n",
       "    .dataframe thead th {\n",
       "        text-align: right;\n",
       "    }\n",
       "</style>\n",
       "<table border=\"1\" class=\"dataframe\">\n",
       "  <thead>\n",
       "    <tr style=\"text-align: right;\">\n",
       "      <th></th>\n",
       "      <th>count</th>\n",
       "      <th>mean</th>\n",
       "      <th>std</th>\n",
       "      <th>min</th>\n",
       "      <th>25%</th>\n",
       "      <th>50%</th>\n",
       "      <th>75%</th>\n",
       "      <th>max</th>\n",
       "    </tr>\n",
       "    <tr>\n",
       "      <th>subreddit</th>\n",
       "      <th></th>\n",
       "      <th></th>\n",
       "      <th></th>\n",
       "      <th></th>\n",
       "      <th></th>\n",
       "      <th></th>\n",
       "      <th></th>\n",
       "      <th></th>\n",
       "    </tr>\n",
       "  </thead>\n",
       "  <tbody>\n",
       "    <tr>\n",
       "      <th>0</th>\n",
       "      <td>3847.0</td>\n",
       "      <td>1.99844</td>\n",
       "      <td>5.404636</td>\n",
       "      <td>0.0</td>\n",
       "      <td>1.0</td>\n",
       "      <td>1.0</td>\n",
       "      <td>1.0</td>\n",
       "      <td>94.0</td>\n",
       "    </tr>\n",
       "    <tr>\n",
       "      <th>1</th>\n",
       "      <td>3773.0</td>\n",
       "      <td>0.02995</td>\n",
       "      <td>0.558273</td>\n",
       "      <td>0.0</td>\n",
       "      <td>0.0</td>\n",
       "      <td>0.0</td>\n",
       "      <td>0.0</td>\n",
       "      <td>18.0</td>\n",
       "    </tr>\n",
       "  </tbody>\n",
       "</table>\n",
       "</div>"
      ],
      "text/plain": [
       "            count     mean       std  min  25%  50%  75%   max\n",
       "subreddit                                                     \n",
       "0          3847.0  1.99844  5.404636  0.0  1.0  1.0  1.0  94.0\n",
       "1          3773.0  0.02995  0.558273  0.0  0.0  0.0  0.0  18.0"
      ]
     },
     "execution_count": 45,
     "metadata": {},
     "output_type": "execute_result"
    }
   ],
   "source": [
    "df_combined.groupby('subreddit')['num_comments'].describe()"
   ]
  },
  {
   "cell_type": "code",
   "execution_count": 46,
   "id": "9cea513e",
   "metadata": {
    "scrolled": true
   },
   "outputs": [
    {
     "data": {
      "image/png": "[encoded data removed]",
      "text/plain": [
       "<Figure size 800x300 with 1 Axes>"
      ]
     },
     "metadata": {},
     "output_type": "display_data"
    }
   ],
   "source": [
    "plt.figure(figsize=(8, 3))\n",
    "sns.boxplot(data = df_combined, x = 'num_comments', palette = 'viridis')\n",
    "plt.title(\"Box Plot of Miscellaneous Feature\");"
   ]
  },
  {
   "cell_type": "code",
   "execution_count": 47,
   "id": "e8562ca0",
   "metadata": {
    "scrolled": true
   },
   "outputs": [
    {
     "data": {
      "image/png": "[encoded data removed]",
      "text/plain": [
       "<Figure size 576.986x500 with 1 Axes>"
      ]
     },
     "metadata": {},
     "output_type": "display_data"
    }
   ],
   "source": [
    "sns.displot(x='num_comments', data=df_combined, hue='subreddit', kind=\"kde\", multiple=\"stack\")\n",
    "plt.title('Distribution Plot for Number of Comments \\nbetween two Subreddits');"
   ]
  },
  {
   "cell_type": "code",
   "execution_count": 72,
   "id": "c728ebfe",
   "metadata": {},
   "outputs": [
    {
     "data": {
      "image/png": "[encoded data removed]",
      "text/plain": [
       "<Figure size 1200x600 with 2 Axes>"
      ]
     },
     "metadata": {},
     "output_type": "display_data"
    }
   ],
   "source": [
    "fig, ax = plt.subplots(1, 2, figsize=(12,6), sharey=True)\n",
    "ax = ax.ravel()\n",
    "mean_1 = travelhacks['num_comments'].mean()\n",
    "g1 = sns.histplot(data=travelhacks, x='num_comments', ax = ax[0], bins=25)\n",
    "g1.set_title(f'r/TravelHacks (Mean: {round(mean_1)} comments)')\n",
    "ax[0].axvline(mean_1, ls='--', color='red')\n",
    "mean_2 = awardtravel['num_comments'].mean()\n",
    "g2 = sns.histplot(data=awardtravel, x='num_comments', ax = ax[1], bins=25, color='darkorange')\n",
    "g2.set_title(f'r/AwardTravel (Mean: {round(mean_2)} comments)')\n",
    "ax[1].axvline(mean_2, ls='--', color='red')\n",
    "plt.suptitle('Number of Comments', fontsize=20)\n",
    "plt.tight_layout()"
   ]
  },
  {
   "cell_type": "code",
   "execution_count": 48,
   "id": "aa178049",
   "metadata": {
    "scrolled": true
   },
   "outputs": [],
   "source": [
    "# drop columns that are not needed for analysis\n",
    "df_combined.drop(columns = ['utc_datetime_str', 'selftext'], inplace = True)"
   ]
  },
  {
   "cell_type": "code",
   "execution_count": 49,
   "id": "45daab6c",
   "metadata": {
    "scrolled": true
   },
   "outputs": [
    {
     "data": {
      "text/plain": [
       "(7620, 5)"
      ]
     },
     "execution_count": 49,
     "metadata": {},
     "output_type": "execute_result"
    }
   ],
   "source": [
    "df_combined.shape"
   ]
  },
  {
   "cell_type": "code",
   "execution_count": 50,
   "id": "6cf8ab58",
   "metadata": {
    "scrolled": true
   },
   "outputs": [
    {
     "name": "stdout",
     "output_type": "stream",
     "text": [
      "<class 'pandas.core.frame.DataFrame'>\n",
      "RangeIndex: 7620 entries, 0 to 7619\n",
      "Data columns (total 5 columns):\n",
      " #   Column        Non-Null Count  Dtype \n",
      "---  ------        --------------  ----- \n",
      " 0   subreddit     7620 non-null   int64 \n",
      " 1   title         7620 non-null   object\n",
      " 2   author        7620 non-null   object\n",
      " 3   num_comments  7620 non-null   int64 \n",
      " 4   text          7620 non-null   object\n",
      "dtypes: int64(2), object(3)\n",
      "memory usage: 297.8+ KB\n"
     ]
    }
   ],
   "source": [
    "df_combined.info()"
   ]
  },
  {
   "cell_type": "code",
   "execution_count": 51,
   "id": "1895d30d",
   "metadata": {},
   "outputs": [],
   "source": [
    "# Save to csv\n",
    "df_combined.to_csv(\"../data/df_combined.csv\", index=False)"
   ]
  },
  {
   "cell_type": "code",
   "execution_count": 52,
   "id": "08d004c5",
   "metadata": {},
   "outputs": [],
   "source": [
    "df_combined = pd.read_csv('../data/df_combined.csv')"
   ]
  },
  {
   "cell_type": "code",
   "execution_count": 77,
   "id": "2fbee33b",
   "metadata": {},
   "outputs": [],
   "source": [
    "def subplot_histograms(col, title):\n",
    "    fig, ax = plt.subplots(1, 2, figsize=(12,6), sharey=True)\n",
    "    ax = ax.ravel()\n",
    "    \n",
    "    # Plot first df   \n",
    "    g1 = sns.histplot(data=travelhacks, x=travelhacks[col].str.len(), ax = ax[0], bins=25)\n",
    "    mean_1 = travelhacks[col].str.len().mean()\n",
    "    ax[0].axvline(mean_1, ls='--', color='red')\n",
    "    g1.set_title(f'r/TravelHacks (Mean: {round(mean_1)} words)')\n",
    "    g1.set_xlabel(f'Length of {col.capitalize()}')\n",
    "    \n",
    "    # Plot second df\n",
    "    g2 = sns.histplot(data=awardtravel, x=awardtravel[col].str.len(), ax = ax[1], bins=25, color='darkorange')\n",
    "    mean_2 = awardtravel[col].str.len().mean()\n",
    "    ax[1].axvline(mean_2, ls='--', color='red')\n",
    "    g2.set_title(f'r/AwardTravel (Mean: {round(mean_2)} words)')\n",
    "    g2.set_xlabel(f'Length of {col.capitalize()}')\n",
    "    plt.suptitle(title, fontsize=16);"
   ]
  },
  {
   "cell_type": "code",
   "execution_count": 78,
   "id": "d07487c5",
   "metadata": {},
   "outputs": [
    {
     "data": {
      "image/png": "[encoded data removed]",
      "text/plain": [
       "<Figure size 1200x600 with 2 Axes>"
      ]
     },
     "metadata": {},
     "output_type": "display_data"
    }
   ],
   "source": [
    "subplot_histograms('selftext', 'Average Post Length of Selftext')"
   ]
  },
  {
   "cell_type": "code",
   "execution_count": 79,
   "id": "f774d27b",
   "metadata": {
    "scrolled": true
   },
   "outputs": [
    {
     "data": {
      "image/png": "[encoded data removed]",
      "text/plain": [
       "<Figure size 1200x600 with 2 Axes>"
      ]
     },
     "metadata": {},
     "output_type": "display_data"
    }
   ],
   "source": [
    "subplot_histograms('title', 'Average Post Length of Title')"
   ]
  },
  {
   "cell_type": "markdown",
   "id": "058d2142",
   "metadata": {},
   "source": [
    "#### On average, r/AwardTravel has much longer length of selftext tahn r/TravelHacks"
   ]
  },
  {
   "cell_type": "markdown",
   "id": "84359e47",
   "metadata": {},
   "source": [
    "### Text preprocessing"
   ]
  },
  {
   "cell_type": "code",
   "execution_count": 53,
   "id": "4dd84850",
   "metadata": {
    "scrolled": false
   },
   "outputs": [
    {
     "name": "stdout",
     "output_type": "stream",
     "text": [
      "{'hers', \"'d\", 'less', 'until', 'is', 'still', 'once', 'it', 'seemed', 'across', 'itself', 'ourselves', 'however', 'those', \"'ll\", 'should', 'afterwards', 'whenever', 'yourselves', 'whole', 'for', 'amongst', 'much', 'also', 'him', 'some', 'has', 'while', 'third', 'using', 'very', 'go', 'whereafter', 'otherwise', 'into', 'four', 'must', 'give', 'whereupon', 'ours', 'among', 'eleven', 'made', 'to', 'throughout', 'whose', 'even', 'somehow', 'beyond', 'he', 'themselves', 'one', 'them', 'something', 'who', 'again', 'becomes', 'whereas', 'fifteen', \"n't\", 'anywhere', 'n’t', 'in', 'often', 'whom', 'not', 'moreover', 'upon', 'twenty', 'another', 'both', 'you', 'through', 'quite', 'two', 'up', 'than', 'own', 'have', \"'ve\", 'keep', 'thereby', 'how', 'out', \"'m\", 'amount', 'show', 'sometime', 'thru', 'wherever', 'nine', 'forty', 'take', 'whether', 'at', 'am', 'whence', 'three', 'each', 'just', 'a', 'off', 'really', '‘ll', 'becoming', 'doing', 'together', 'that', '’m', 'but', 'everything', 'front', 'somewhere', 'back', 'was', 'the', 'myself', 'below', 'see', 'whoever', 'all', 'because', 'move', 'per', 'mine', 'nothing', 'we', 'when', 'therein', 'nor', '‘re', 'any', 'hence', 'hereby', 'mostly', 'by', 'except', 'well', 'beforehand', 'are', 'she', 'towards', 'yours', 'yourself', 'along', 'say', 'cannot', 'indeed', 'above', 'of', 'can', 'already', 'there', 'around', 'n‘t', 'being', 'former', 'beside', 'her', 'ca', 'does', 'from', 'their', 'alone', 'more', 'many', 'noone', 'now', 'several', 'next', 'will', 'so', 'our', 'rather', 'be', 'within', 'almost', '’re', \"'re\", 'herein', 'last', 'such', 'full', 'besides', 'either', 'since', 'hereupon', 'always', 'its', 'everywhere', 'side', '‘m', 'nobody', 'became', '‘d', 'before', 'name', 'wherein', 'namely', 'and', 'someone', 'whereby', \"'s\", 'had', 'this', 'twelve', '‘ve', 'become', 'down', 'every', 'us', 'few', 'thereafter', 'fifty', 'meanwhile', 'or', 'whatever', 'behind', 'whither', 'what', 'an', 'were', 'due', 'over', 'on', 'elsewhere', 'too', 'could', 'would', 'here', 'hundred', 'latterly', 'formerly', 'after', 'then', 'his', 'onto', 'enough', 'used', 'without', 'sixty', 're', 'various', 'anything', 'call', '’d', 'get', 'everyone', 'which', 'latter', 'six', 'with', 'seems', 'do', 'anyone', 'make', 'nevertheless', 'against', 'other', '’ll', 'nowhere', 'least', 'part', 'ten', 'under', 'regarding', 'none', 'others', 'via', '’ve', 'himself', 'where', 'why', 'herself', 'about', 'empty', 'sometimes', 'never', 'seeming', 'yet', 'done', 'toward', 'these', 'else', 'neither', 'as', 'your', 'same', 'although', 'put', 'anyhow', 'anyway', 'only', 'bottom', 'hereafter', 'serious', 'been', 'most', 'perhaps', 'therefore', 'between', '‘s', 'if', 'thus', 'may', 'me', 'my', 'thence', 'did', 'five', 'further', '’s', 'unless', 'thereupon', 'might', 'first', 'no', 'they', 'ever', 'please', 'though', 'i', 'during', 'top', 'seem', 'eight'}\n"
     ]
    }
   ],
   "source": [
    "# credit https://stackabuse.com/removing-stop-words-from-strings-in-python/\n",
    "sp = spacy.load('en_core_web_sm')\n",
    "\n",
    "stopwords_sp = sp.Defaults.stop_words\n",
    "#stopwords_sp.remove('not')\n",
    "print(stopwords_sp)\n"
   ]
  },
  {
   "cell_type": "code",
   "execution_count": 54,
   "id": "11483d7d",
   "metadata": {
    "scrolled": true
   },
   "outputs": [],
   "source": [
    "import nltk\n",
    "from nltk.corpus import stopwords\n",
    "#nltk.download('stopwords')\n",
    "from nltk.tokenize import word_tokenize"
   ]
  },
  {
   "cell_type": "code",
   "execution_count": 55,
   "id": "5dcbf185",
   "metadata": {},
   "outputs": [],
   "source": [
    "from nltk.stem import WordNetLemmatizer"
   ]
  },
  {
   "cell_type": "code",
   "execution_count": 56,
   "id": "66009779",
   "metadata": {},
   "outputs": [],
   "source": [
    "stopwords = set(stopwords.words('english'))\n",
    "#stopwords.remove('not')"
   ]
  },
  {
   "cell_type": "code",
   "execution_count": 57,
   "id": "dbcd77aa",
   "metadata": {
    "scrolled": true
   },
   "outputs": [
    {
     "name": "stdout",
     "output_type": "stream",
     "text": [
      "{'hers', 'after', 'of', 'can', 'then', 'his', 'up', 'than', 'there', 'own', 'haven', \"wasn't\", 'have', 're', 'isn', 'mustn', 've', \"aren't\", 'being', 'how', 'd', \"mustn't\", 'until', 'out', 'ain', 'is', 'her', 'does', 'once', 'it', 'from', 'which', 'itself', 'ourselves', 'those', \"don't\", 'their', 'weren', \"didn't\", 'with', 'should', 'do', 'more', 'hasn', 'now', 'will', \"you're\", \"couldn't\", 'aren', \"you'll\", \"needn't\", 'against', 'other', 'at', 'am', 'so', \"shouldn't\", 'our', 'be', 'under', 'yourselves', \"isn't\", 'for', \"that'll\", 'each', 'himself', 'shan', 'y', 'where', 'why', 'wasn', 'herself', 'a', 'off', 'just', 'll', 'about', 'him', 'some', 'has', 'while', 'won', 'such', 'very', \"it's\", \"you've\", 's', 'doing', \"you'd\", 'its', 'couldn', 'these', 'that', 'into', 'as', 'don', 'your', 'same', 'but', 't', \"hadn't\", 'before', \"mightn't\", 'ma', 'was', 'the', 'myself', 'and', 'ours', 'below', 'only', 'hadn', 'to', 'wouldn', 'mightn', \"won't\", 'had', 'this', 'all', 'because', 'doesn', 'he', \"she's\", 'themselves', 'been', 'most', 'them', 'm', \"doesn't\", 'shouldn', 'who', 'we', 'down', 'o', 'again', 'between', 'few', 'needn', \"hasn't\", 'when', 'if', 'nor', 'or', 'me', 'my', 'any', 'did', 'further', 'what', 'in', \"wouldn't\", 'an', 'whom', \"shan't\", 'not', 'were', 'no', 'over', 'on', 'theirs', 'too', 'by', 'they', \"haven't\", 'didn', \"weren't\", 'are', 'she', 'both', \"should've\", 'i', 'during', 'yours', 'you', 'yourself', 'through', 'here', 'having', 'above'}\n"
     ]
    }
   ],
   "source": [
    "print(stopwords)"
   ]
  },
  {
   "cell_type": "code",
   "execution_count": 58,
   "id": "4beced39",
   "metadata": {},
   "outputs": [],
   "source": [
    "# credit: https://www.w3schools.com/python/gloss_python_join_sets.asp\n",
    "all_stopwords = stopwords_sp.union(stopwords)"
   ]
  },
  {
   "cell_type": "code",
   "execution_count": 59,
   "id": "6ffaea71",
   "metadata": {
    "scrolled": true
   },
   "outputs": [
    {
     "name": "stdout",
     "output_type": "stream",
     "text": [
      "{'hers', \"'d\", 'of', 'can', 'already', 'less', 'there', 'haven', 'around', 'n‘t', 'being', \"mustn't\", 'won', 'former', 'until', 'ain', 'is', 'still', 'beside', 'her', 'once', 'ca', 'it', 'does', 'from', 'seemed', 'across', 'itself', 'ourselves', 'however', 'those', \"don't\", 'their', 'alone', 'weren', \"'ll\", 'should', 'hasn', 'afterwards', 'more', 'many', 'noone', 'now', 'several', 'next', 'will', \"couldn't\", \"you'll\", 'whenever', \"needn't\", 'so', 'our', 'rather', 'be', 'yourselves', 'whole', 'for', 'amongst', 'within', 'much', 'shan', 'wasn', 'also', 'll', 'almost', '’re', 'him', 'some', 'has', 'while', \"'re\", 'third', 'using', 'herein', 'last', 'very', 'such', 'full', 'besides', \"you've\", 'go', 'either', 'since', 'hereupon', \"you'd\", 'whereafter', 'otherwise', 'always', 'its', 'everywhere', 'into', 'side', 'four', '‘m', 'don', 'nobody', 'became', '‘d', 't', 'before', 'must', 'name', 'give', 'wherein', 'namely', 'and', 'someone', 'whereupon', 'ours', 'among', 'eleven', 'made', 'whereby', \"'s\", 'to', 'wouldn', 'throughout', 'whose', 'had', 'even', 'somehow', 'this', 'twelve', 'beyond', 'he', \"she's\", 'themselves', '‘ve', 'one', 'm', 'them', 'something', 'become', 'who', 'down', 'every', 'again', 'becomes', 'whereas', 'us', 'few', 'fifteen', \"hasn't\", \"n't\", 'thereafter', 'anywhere', 'fifty', 'meanwhile', 'or', 'whatever', 'behind', 'n’t', 'whither', 'what', 'in', 'often', 'an', 'whom', 'not', 'moreover', 'were', 'upon', 'due', 'over', 'on', 'elsewhere', 'too', 'twenty', 'another', \"weren't\", 'could', \"should've\", 'both', 'would', 'you', 'through', 'here', 'hundred', 'latterly', 'formerly', 'quite', 'after', 'two', 'then', 'his', 'up', 'than', 'onto', 'enough', 'own', 'used', \"wasn't\", 'without', 'have', 'sixty', 're', 'various', 'isn', 'anything', 'mustn', 've', \"'ve\", 'keep', 'thereby', 'call', \"aren't\", 'how', 'd', '’d', 'out', 'get', \"'m\", 'amount', 'everyone', 'show', 'sometime', 'thru', 'which', 'wherever', 'latter', 'six', \"didn't\", 'with', 'seems', 'nine', 'do', 'forty', 'anyone', \"you're\", 'aren', 'make', 'nevertheless', 'against', 'take', 'other', '’ll', 'whether', 'eight', 'at', 'am', 'nowhere', \"shouldn't\", 'least', 'part', 'ten', 'under', 'regarding', 'whence', 'three', 'none', 'others', 'via', \"isn't\", 'each', \"that'll\", '’ve', 'himself', 'y', 'where', 'why', 'just', 'a', 'off', 'really', 'herself', 'about', '‘ll', 'empty', 'sometimes', 'never', \"it's\", 'seeming', 'yet', 's', 'becoming', 'doing', 'together', 'done', 'couldn', 'toward', 'these', 'that', 'else', 'neither', '’m', 'as', 'your', 'same', 'but', 'although', \"hadn't\", \"mightn't\", 'everything', 'front', 'somewhere', 'back', 'ma', 'put', 'was', 'the', 'myself', 'below', 'anyhow', 'anyway', 'only', 'hadn', 'see', 'whoever', 'mightn', \"won't\", 'all', 'because', 'doesn', 'move', 'bottom', 'hereafter', 'per', 'serious', 'been', 'most', 'mine', 'perhaps', \"doesn't\", 'shouldn', 'nothing', 'we', 'therefore', 'o', 'between', 'needn', '‘s', 'when', 'therein', 'if', 'thus', 'nor', 'may', '‘re', 'me', 'my', 'thence', 'any', 'did', 'five', 'further', '’s', \"wouldn't\", 'hence', 'hereby', 'mostly', 'unless', \"shan't\", 'thereupon', 'might', 'first', 'no', 'theirs', 'by', 'except', 'well', 'they', 'beforehand', \"haven't\", 'ever', 'didn', 'please', 'are', 'she', 'though', 'towards', 'i', 'during', 'yours', 'yourself', 'along', 'top', 'seem', 'having', 'say', 'cannot', 'indeed', 'above'}\n"
     ]
    }
   ],
   "source": [
    "print(all_stopwords)"
   ]
  },
  {
   "cell_type": "code",
   "execution_count": 60,
   "id": "e7b4f671",
   "metadata": {},
   "outputs": [],
   "source": [
    "# additional keywords for removal\n",
    "#add_stopwords = ['www', '.com', 'com', 'http', 'https']\n",
    "#add_stopwords = set(add_stopwords)\n",
    "#type(add_stopwords)"
   ]
  },
  {
   "cell_type": "code",
   "execution_count": 61,
   "id": "6fbc3a90",
   "metadata": {},
   "outputs": [],
   "source": [
    "#more_stopwords = all_stopwords.union(add_stopwords)\n",
    "#print(more_stopwords)"
   ]
  },
  {
   "cell_type": "markdown",
   "id": "bd7765b8",
   "metadata": {},
   "source": [
    "#### Function for text cleaning"
   ]
  },
  {
   "cell_type": "code",
   "execution_count": 62,
   "id": "c6822493",
   "metadata": {},
   "outputs": [],
   "source": [
    "df_combined = pd.read_csv('../data/df_combined.csv')"
   ]
  },
  {
   "cell_type": "code",
   "execution_count": 63,
   "id": "694d56ea",
   "metadata": {},
   "outputs": [],
   "source": [
    "# adopted from class\n",
    "# credit: https://www.geeksforgeeks.org/nlp-expand-contractions-in-text-processing/\n",
    "# credit: https://www.geeksforgeeks.org/python-removing-newline-character-from-string/\n",
    "# credit: https://stackoverflow.com/questions/43356467/removing-special-characters-and-symbols-from-a-string-in-python\n",
    "# credit: https://stackoverflow.com/questions/11331982/how-to-remove-any-url-within-a-string-in-python\n",
    "# credit: https://stackoverflow.com/questions/54396405/how-can-i-preprocess-nlp-text-lowercase-remove-special-characters-remove-numb\n",
    "# credit: https://pypi.org/project/redditcleaner/\n",
    "\n",
    "# initialize list of newline characters\n",
    "#newline_characters = ['\\\\ng', 'i\\ns', 'b\\nest', '\\n\\n', '\\n', '\\t', '\\\\']\n",
    "\n",
    "def preprocess(text):\n",
    "\n",
    "    # use redditcleaner to remove special characters used in the raw text at reddit\n",
    "    # such as &amp;#x200B, newline_characters (\\n\\n)\n",
    "    text = redditcleaner.clean(text)  \n",
    "    \n",
    "    # using contractions.fix to expand the shortened words\n",
    "    text = contractions.fix(text)\n",
    "        \n",
    "    # convert to lowercase\n",
    "    text = text.lower()\n",
    "    \n",
    "    # initiate BeautifulSopu to strip HTML tags\n",
    "    soup = BeautifulSoup(text, \"html.parser\")\n",
    "    text = soup.get_text(separator=\" \") # Get all the text other than html tags.\n",
    "    \n",
    "    # remove links starts with https and/or end with .com\n",
    "    text = re.sub(r'http\\S+', '', text)\n",
    "    text = re.sub(r'\\ *\\.com', '', text)\n",
    "    \n",
    "    # remove non-letters\n",
    "    text = re.sub(\"[^a-zA-Z]\", \" \", text)    \n",
    "    \n",
    "    # remove newlines tabs\n",
    "    #for characters in newline_characters:\n",
    "    #    text = text.replace(characters, ' ') \n",
    "    \n",
    "    # remove extra white spaces\n",
    "    text = re.sub('\\s+', ' ', text).strip()  \n",
    "  \n",
    "    # split into individual words\n",
    "    words = text.split()\n",
    "        \n",
    "    # remove stop words\n",
    "    meaningful_words = []\n",
    "    for w in words:\n",
    "        if w not in all_stopwords:\n",
    "            meaningful_words.append(w)\n",
    "              \n",
    "    # lemmatizer the words\n",
    "    lemmatizer = WordNetLemmatizer()\n",
    "    tokens_lem = [lemmatizer.lemmatize(i) for i in meaningful_words]    \n",
    "    \n",
    "    return ' '.join(tokens_lem)"
   ]
  },
  {
   "cell_type": "code",
   "execution_count": 64,
   "id": "c528c1aa",
   "metadata": {
    "scrolled": false
   },
   "outputs": [
    {
     "name": "stderr",
     "output_type": "stream",
     "text": [
      "C:\\Users\\skyne\\AppData\\Local\\Temp\\ipykernel_6180\\2602187967.py:25: MarkupResemblesLocatorWarning: The input looks more like a filename than markup. You may want to open this file and pass the filehandle into Beautiful Soup.\n",
      "  soup = BeautifulSoup(text, \"html.parser\")\n",
      "C:\\Users\\skyne\\AppData\\Local\\Temp\\ipykernel_6180\\2602187967.py:25: MarkupResemblesLocatorWarning: The input looks more like a URL than markup. You may want to use an HTTP client like requests to get the document behind the URL, and feed that document to Beautiful Soup.\n",
      "  soup = BeautifulSoup(text, \"html.parser\")\n"
     ]
    },
    {
     "data": {
      "text/html": [
       "<div>\n",
       "<style scoped>\n",
       "    .dataframe tbody tr th:only-of-type {\n",
       "        vertical-align: middle;\n",
       "    }\n",
       "\n",
       "    .dataframe tbody tr th {\n",
       "        vertical-align: top;\n",
       "    }\n",
       "\n",
       "    .dataframe thead th {\n",
       "        text-align: right;\n",
       "    }\n",
       "</style>\n",
       "<table border=\"1\" class=\"dataframe\">\n",
       "  <thead>\n",
       "    <tr style=\"text-align: right;\">\n",
       "      <th></th>\n",
       "      <th>subreddit</th>\n",
       "      <th>title</th>\n",
       "      <th>author</th>\n",
       "      <th>num_comments</th>\n",
       "      <th>text</th>\n",
       "      <th>text_cleaned</th>\n",
       "    </tr>\n",
       "  </thead>\n",
       "  <tbody>\n",
       "    <tr>\n",
       "      <th>0</th>\n",
       "      <td>1</td>\n",
       "      <td>Winging Costa rica</td>\n",
       "      <td>lucylovesugly1</td>\n",
       "      <td>0</td>\n",
       "      <td>Winging Costa rica Has anyone booked a flight ...</td>\n",
       "      <td>winging costa rica booked flight costa rica bo...</td>\n",
       "    </tr>\n",
       "    <tr>\n",
       "      <th>1</th>\n",
       "      <td>1</td>\n",
       "      <td>I'm planning a backpacking trip to Romania, an...</td>\n",
       "      <td>wbtr42</td>\n",
       "      <td>0</td>\n",
       "      <td>I'm planning a backpacking trip to Romania, an...</td>\n",
       "      <td>planning backpacking trip romania tip hey frie...</td>\n",
       "    </tr>\n",
       "    <tr>\n",
       "      <th>2</th>\n",
       "      <td>1</td>\n",
       "      <td>Are there any budget friendly ways to get a ta...</td>\n",
       "      <td>bak1n</td>\n",
       "      <td>0</td>\n",
       "      <td>Are there any budget friendly ways to get a ta...</td>\n",
       "      <td>budget friendly way taste arctic hey planning ...</td>\n",
       "    </tr>\n",
       "    <tr>\n",
       "      <th>3</th>\n",
       "      <td>1</td>\n",
       "      <td>Niagara Falls NY</td>\n",
       "      <td>Proud-Assumption-353</td>\n",
       "      <td>0</td>\n",
       "      <td>Niagara Falls NY</td>\n",
       "      <td>niagara fall ny</td>\n",
       "    </tr>\n",
       "    <tr>\n",
       "      <th>4</th>\n",
       "      <td>1</td>\n",
       "      <td>Nice &amp;gt; Rome flights/airlines</td>\n",
       "      <td>efisk1990</td>\n",
       "      <td>0</td>\n",
       "      <td>Nice &amp;gt; Rome flights/airlines I’m heading to...</td>\n",
       "      <td>nice rome flight airline heading europe work j...</td>\n",
       "    </tr>\n",
       "  </tbody>\n",
       "</table>\n",
       "</div>"
      ],
      "text/plain": [
       "   subreddit                                              title  \\\n",
       "0          1                                 Winging Costa rica   \n",
       "1          1  I'm planning a backpacking trip to Romania, an...   \n",
       "2          1  Are there any budget friendly ways to get a ta...   \n",
       "3          1                                   Niagara Falls NY   \n",
       "4          1                    Nice &gt; Rome flights/airlines   \n",
       "\n",
       "                 author  num_comments  \\\n",
       "0        lucylovesugly1             0   \n",
       "1                wbtr42             0   \n",
       "2                 bak1n             0   \n",
       "3  Proud-Assumption-353             0   \n",
       "4             efisk1990             0   \n",
       "\n",
       "                                                text  \\\n",
       "0  Winging Costa rica Has anyone booked a flight ...   \n",
       "1  I'm planning a backpacking trip to Romania, an...   \n",
       "2  Are there any budget friendly ways to get a ta...   \n",
       "3                                  Niagara Falls NY    \n",
       "4  Nice &gt; Rome flights/airlines I’m heading to...   \n",
       "\n",
       "                                        text_cleaned  \n",
       "0  winging costa rica booked flight costa rica bo...  \n",
       "1  planning backpacking trip romania tip hey frie...  \n",
       "2  budget friendly way taste arctic hey planning ...  \n",
       "3                                    niagara fall ny  \n",
       "4  nice rome flight airline heading europe work j...  "
      ]
     },
     "execution_count": 64,
     "metadata": {},
     "output_type": "execute_result"
    }
   ],
   "source": [
    "df_combined['text_cleaned'] = df_combined.apply(lambda x: preprocess(x['text']), axis=1)\n",
    "df_combined.head()"
   ]
  },
  {
   "cell_type": "code",
   "execution_count": 65,
   "id": "859a038b",
   "metadata": {
    "scrolled": true
   },
   "outputs": [
    {
     "data": {
      "text/plain": [
       "array(['Winging Costa rica Has anyone booked a flight to Costa Rica without a booking and tried to get accommodation from the source? I’ve heard that it can cut the cost substantially cutting out the middle man and I’m wondering if anyone has any experience doing that?',\n",
       "       \"I'm planning a backpacking trip to Romania, any tips? Hey, me and my friend are planning to go on a two-week backpacking trip to romania this summer. Any tips what we should not miss or what to be cautious about?\",\n",
       "       'Are there any budget friendly ways to get a taste for the Arctic? Hey all. Planning on a visit to Chile and Argentina later this year. I was very interested in visiting Antarctica as well but after seeing the $15-20K price tags I nope’d out of that. Patagonia is beautiful but wanting to seek something a bit more frigid. (I’m from the midwestern US, so I’d love to see if something colder exists). \\n\\nAnybody know of any ferries or cruises perhaps that make a visit through Drake Passage from the Chilean Patagonia and won’t break the bank? I know it’s a very expensive destination but still willing to review all of my options here. Thanks.',\n",
       "       'Niagara Falls NY ',\n",
       "       'Nice &gt; Rome flights/airlines I’m heading to Europe for work in June and want to extend the trip for pleasure. It’s only my second time traveling to Europe (from North America) so I’m clueless about European airlines. I’ll be in Nice, France for work and want to get to Rome. There are flights on Wizz and EasyJet one way I’m seeing for as low as $30! First, as an American, I’m absolutely shocked even a short flight is that low. I haven’t paid less than $100 for a flight in years. Second, are these airlines horrible to fly with? Is there a catch here? Am I choosing the Spirit Airlines of France and going to have an awful experience and never see my bags again? Thanks in advance for any insight.'],\n",
       "      dtype=object)"
      ]
     },
     "execution_count": 65,
     "metadata": {},
     "output_type": "execute_result"
    }
   ],
   "source": [
    "# before text cleaning\n",
    "df_combined['text'][0:5].unique()"
   ]
  },
  {
   "cell_type": "code",
   "execution_count": 66,
   "id": "0498d337",
   "metadata": {
    "scrolled": true
   },
   "outputs": [
    {
     "data": {
      "text/plain": [
       "array(['winging costa rica booked flight costa rica booking tried accommodation source heard cut cost substantially cutting middle man wondering experience',\n",
       "       'planning backpacking trip romania tip hey friend planning week backpacking trip romania summer tip miss cautious',\n",
       "       'budget friendly way taste arctic hey planning visit chile argentina later year interested visiting antarctica seeing k price tag nope patagonia beautiful wanting seek bit frigid midwestern love colder exists anybody know ferry cruise visit drake passage chilean patagonia break bank know expensive destination willing review option thanks',\n",
       "       'niagara fall ny',\n",
       "       'nice rome flight airline heading europe work june want extend trip pleasure second time traveling europe north america clueless european airline nice france work want rome flight wizz easyjet way seeing low american absolutely shocked short flight low paid flight year second airline horrible fly catch choosing spirit airline france going awful experience bag thanks advance insight'],\n",
       "      dtype=object)"
      ]
     },
     "execution_count": 66,
     "metadata": {},
     "output_type": "execute_result"
    }
   ],
   "source": [
    "# after text cleaning\n",
    "df_combined['text_cleaned'][0:5].unique()"
   ]
  },
  {
   "cell_type": "code",
   "execution_count": 67,
   "id": "8a6c3eb6",
   "metadata": {
    "scrolled": false
   },
   "outputs": [
    {
     "name": "stdout",
     "output_type": "stream",
     "text": [
      "<class 'pandas.core.frame.DataFrame'>\n",
      "RangeIndex: 7620 entries, 0 to 7619\n",
      "Data columns (total 6 columns):\n",
      " #   Column        Non-Null Count  Dtype \n",
      "---  ------        --------------  ----- \n",
      " 0   subreddit     7620 non-null   int64 \n",
      " 1   title         7620 non-null   object\n",
      " 2   author        7620 non-null   object\n",
      " 3   num_comments  7620 non-null   int64 \n",
      " 4   text          7620 non-null   object\n",
      " 5   text_cleaned  7620 non-null   object\n",
      "dtypes: int64(2), object(4)\n",
      "memory usage: 357.3+ KB\n"
     ]
    }
   ],
   "source": [
    "df_combined.info()"
   ]
  },
  {
   "cell_type": "code",
   "execution_count": 68,
   "id": "2cd31673",
   "metadata": {},
   "outputs": [],
   "source": [
    "# Save to csv\n",
    "df_combined.to_csv(\"../data/df_cleaned.csv\", index=False)"
   ]
  },
  {
   "cell_type": "code",
   "execution_count": 84,
   "id": "a85e0987",
   "metadata": {},
   "outputs": [],
   "source": [
    "# adopted from class\n",
    "def plot_top_words(df, col, n, ngram, title, palette = 'rocket'):\n",
    "    def top_n_words(corpus, n=n, k=ngram):     \n",
    "        cvec = CountVectorizer(ngram_range=(k,k), stop_words='english').fit(corpus)     \n",
    "        words = cvec.transform(corpus)     \n",
    "        sum_words = words.sum(axis=0)      \n",
    "        words_freq = [(word, sum_words[0, idex]) for word, idex in cvec.vocabulary_.items()]    \n",
    "        words_freq =sorted(words_freq, key = lambda x: x[1], reverse=True) \n",
    "        return words_freq[:n]\n",
    "    word_df = pd.DataFrame(data=top_n_words(df[col], n), columns=['word','freq'])\n",
    "    plt.figure(figsize=(10,6))\n",
    "    sns.barplot(data=word_df, y='word', x='freq', palette=palette)\n",
    "    plt.ylabel('')\n",
    "    plt.xlabel('')\n",
    "    plt.title(title, fontsize=18)"
   ]
  },
  {
   "cell_type": "code",
   "execution_count": 86,
   "id": "96bdcc01",
   "metadata": {
    "scrolled": false
   },
   "outputs": [
    {
     "data": {
      "image/png": "[encoded data removed]",
      "text/plain": [
       "<Figure size 1000x600 with 1 Axes>"
      ]
     },
     "metadata": {},
     "output_type": "display_data"
    }
   ],
   "source": [
    "plot_top_words(df_combined,'text_cleaned', 20, 1, 'Top 20 Words')"
   ]
  },
  {
   "cell_type": "code",
   "execution_count": 87,
   "id": "e364ab1f",
   "metadata": {
    "scrolled": true
   },
   "outputs": [
    {
     "data": {
      "image/png": "[encoded data removed]",
      "text/plain": [
       "<Figure size 1000x600 with 1 Axes>"
      ]
     },
     "metadata": {},
     "output_type": "display_data"
    }
   ],
   "source": [
    "plot_top_words(df_combined,'text_cleaned', 20, 2, 'Top 20 Words')"
   ]
  },
  {
   "cell_type": "code",
   "execution_count": 88,
   "id": "125f2c05",
   "metadata": {
    "scrolled": true
   },
   "outputs": [
    {
     "data": {
      "image/png": "[encoded data removed]",
      "text/plain": [
       "<Figure size 1000x600 with 1 Axes>"
      ]
     },
     "metadata": {},
     "output_type": "display_data"
    }
   ],
   "source": [
    "plot_top_words(df_combined,'text_cleaned', 20, 3, 'Top 20 Words')"
   ]
  },
  {
   "cell_type": "code",
   "execution_count": 98,
   "id": "2ac743a5",
   "metadata": {
    "scrolled": true
   },
   "outputs": [
    {
     "data": {
      "image/png": "[encoded data removed]",
      "text/plain": [
       "<Figure size 1000x600 with 1 Axes>"
      ]
     },
     "metadata": {},
     "output_type": "display_data"
    }
   ],
   "source": [
    "plot_top_words(awardtravel,'title', 20, 2, 'Top 20 Words')"
   ]
  },
  {
   "cell_type": "code",
   "execution_count": null,
   "id": "7b830520",
   "metadata": {},
   "outputs": [],
   "source": []
  },
  {
   "cell_type": "code",
   "execution_count": null,
   "id": "70c26092",
   "metadata": {},
   "outputs": [],
   "source": []
  },
  {
   "cell_type": "code",
   "execution_count": null,
   "id": "b1bd3373",
   "metadata": {},
   "outputs": [],
   "source": []
  }
 ],
 "metadata": {
  "kernelspec": {
   "display_name": "Python 3 (ipykernel)",
   "language": "python",
   "name": "python3"
  },
  "language_info": {
   "codemirror_mode": {
    "name": "ipython",
    "version": 3
   },
   "file_extension": ".py",
   "mimetype": "text/x-python",
   "name": "python",
   "nbconvert_exporter": "python",
   "pygments_lexer": "ipython3",
   "version": "3.9.13"
  }
 },
 "nbformat": 4,
 "nbformat_minor": 5
}
