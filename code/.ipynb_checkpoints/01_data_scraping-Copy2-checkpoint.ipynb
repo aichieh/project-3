{
 "cells": [
  {
   "cell_type": "markdown",
   "id": "42a386e1",
   "metadata": {},
   "source": [
    "### Introduction\n",
    "    Nowadays, most people plan their trips though the travel sites such as booking.com, Expedia, Priceline, and so many more. These sites are easy to negative and can generate best price to meet travelers needs. Since there are so many travels sites, it all comes down to travelers' prefrence. These include but not limit to price, discounts, reviews, refund policy, mobile app availablity, and travel packages/guides. \n",
    "    Among these travel sites, none of them provide award travel booking. As a wedding travel agent at destinationweddings.com, my job is to undertand customers needs and provide best customized services within desired budgets. \n"
   ]
  },
  {
   "cell_type": "markdown",
   "id": "507d24b2",
   "metadata": {},
   "source": [
    "### Problem Statement\n",
    "\n",
    "    Reddit is a network platform where people share their interests, hobbies, and passions and it allows data scrapping.  In order to design marketing strategies to meet customer demands, which subreddit can provide useful data?"
   ]
  },
  {
   "cell_type": "code",
   "execution_count": 46,
   "id": "24f3a186",
   "metadata": {},
   "outputs": [],
   "source": [
    "# Import libraries needed for webscraping\n",
    "import requests\n",
    "from datetime import datetime\n",
    "import time\n",
    "import random\n",
    "import pandas as pd\n",
    "\n",
    "\n",
    "pd.set_option('display.max_columns', 2000)\n",
    "pd.set_option('display.max_rows', 500)"
   ]
  },
  {
   "cell_type": "code",
   "execution_count": 47,
   "id": "439bee9f",
   "metadata": {},
   "outputs": [],
   "source": [
    "url = 'https://api.pushshift.io/reddit/search/submission'"
   ]
  },
  {
   "cell_type": "code",
   "execution_count": 48,
   "id": "9dd107a8",
   "metadata": {},
   "outputs": [],
   "source": [
    "# set up parameter\n",
    "params = {\n",
    "    'subreddit': 'travel',\n",
    "    'size': 1000, # limit of 1000\n",
    "    'before': 1680108395 # show the post before 1680108395  \n",
    "}"
   ]
  },
  {
   "cell_type": "code",
   "execution_count": 49,
   "id": "1fc88d97",
   "metadata": {},
   "outputs": [],
   "source": [
    "# set up response\n",
    "res = requests.get(url, params)"
   ]
  },
  {
   "cell_type": "code",
   "execution_count": 50,
   "id": "d9f2d8a3",
   "metadata": {},
   "outputs": [
    {
     "data": {
      "text/plain": [
       "200"
      ]
     },
     "execution_count": 50,
     "metadata": {},
     "output_type": "execute_result"
    }
   ],
   "source": [
    "# check status code\n",
    "res.status_code"
   ]
  },
  {
   "cell_type": "code",
   "execution_count": 51,
   "id": "f771f71c",
   "metadata": {},
   "outputs": [],
   "source": [
    "# returned as json in dictionary list\n",
    "data = res.json()"
   ]
  },
  {
   "cell_type": "code",
   "execution_count": 52,
   "id": "04e74818",
   "metadata": {},
   "outputs": [],
   "source": [
    "posts = data['data']"
   ]
  },
  {
   "cell_type": "code",
   "execution_count": 53,
   "id": "a79ba5bd",
   "metadata": {
    "scrolled": true
   },
   "outputs": [
    {
     "data": {
      "text/plain": [
       "1000"
      ]
     },
     "execution_count": 53,
     "metadata": {},
     "output_type": "execute_result"
    }
   ],
   "source": [
    "# size for the default value of 10; changed it to 1000 most recent posts\n",
    "len(posts)"
   ]
  },
  {
   "cell_type": "code",
   "execution_count": 54,
   "id": "0fb845f2",
   "metadata": {
    "scrolled": true
   },
   "outputs": [
    {
     "data": {
      "text/plain": [
       "{'subreddit': 'travel',\n",
       " 'selftext': \"Never been before so dont know much  about the region. Where should I go that is affordable, interesting,  and has good food? I will have my GF with me so not interested in  cooming, alcohol, or nightlife. We're travelling in November because of  fewer crowds and cheaper prices. We know we want to visit Hungary for  sure for the thermal baths and the food but are unsure if we should go  north from there to Slovakia/Czechia/Poland, to Slovenia/Croatia/Serbia,  or east towards Romania. I was leaning towards Croatia and Serbia  because the weather may be warmer, the proximity to Hungary, I've heard  food there is decent, and I like Orthodox churches. But we are open to  anywhere accessible by train or bus from Budapest. Any good outdoor  things to do in any of these regions in November?\",\n",
       " 'author_fullname': 't2_3s3ea',\n",
       " 'gilded': 0,\n",
       " 'title': 'I will have two weeks of vacation in November and want to visit some ountries in eastern Europe.',\n",
       " 'link_flair_richtext': [],\n",
       " 'subreddit_name_prefixed': 'r/travel',\n",
       " 'hidden': False,\n",
       " 'pwls': 6,\n",
       " 'link_flair_css_class': 'question',\n",
       " 'thumbnail_height': None,\n",
       " 'top_awarded_type': None,\n",
       " 'hide_score': True,\n",
       " 'quarantine': False,\n",
       " 'link_flair_text_color': 'light',\n",
       " 'upvote_ratio': 1.0,\n",
       " 'author_flair_background_color': None,\n",
       " 'subreddit_type': 'public',\n",
       " 'total_awards_received': 0,\n",
       " 'media_embed': {},\n",
       " 'thumbnail_width': None,\n",
       " 'author_flair_template_id': None,\n",
       " 'is_original_content': False,\n",
       " 'secure_media': None,\n",
       " 'is_reddit_media_domain': False,\n",
       " 'is_meta': False,\n",
       " 'category': None,\n",
       " 'secure_media_embed': {},\n",
       " 'link_flair_text': 'Question',\n",
       " 'score': 1,\n",
       " 'is_created_from_ads_ui': False,\n",
       " 'author_premium': False,\n",
       " 'thumbnail': 'self',\n",
       " 'edited': False,\n",
       " 'author_flair_css_class': None,\n",
       " 'author_flair_richtext': [],\n",
       " 'gildings': {},\n",
       " 'content_categories': None,\n",
       " 'is_self': True,\n",
       " 'link_flair_type': 'text',\n",
       " 'wls': 6,\n",
       " 'removed_by_category': None,\n",
       " 'author_flair_type': 'text',\n",
       " 'domain': 'self.travel',\n",
       " 'allow_live_comments': False,\n",
       " 'suggested_sort': None,\n",
       " 'view_count': None,\n",
       " 'archived': False,\n",
       " 'no_follow': True,\n",
       " 'is_crosspostable': True,\n",
       " 'pinned': False,\n",
       " 'over_18': False,\n",
       " 'all_awardings': [],\n",
       " 'awarders': [],\n",
       " 'media_only': False,\n",
       " 'link_flair_template_id': '63ab44d8-3640-11e3-8665-12313d21c4ee',\n",
       " 'can_gild': True,\n",
       " 'spoiler': False,\n",
       " 'locked': False,\n",
       " 'author_flair_text': None,\n",
       " 'treatment_tags': [],\n",
       " 'removed_by': None,\n",
       " 'distinguished': None,\n",
       " 'subreddit_id': 't5_2qh41',\n",
       " 'link_flair_background_color': '#ff66ac',\n",
       " 'id': '125tfj8',\n",
       " 'is_robot_indexable': True,\n",
       " 'author': 'xss2',\n",
       " 'discussion_type': None,\n",
       " 'num_comments': 0,\n",
       " 'send_replies': True,\n",
       " 'whitelist_status': 'all_ads',\n",
       " 'contest_mode': False,\n",
       " 'author_patreon_flair': False,\n",
       " 'author_flair_text_color': None,\n",
       " 'permalink': '/r/travel/comments/125tfj8/i_will_have_two_weeks_of_vacation_in_november_and/',\n",
       " 'parent_whitelist_status': 'all_ads',\n",
       " 'stickied': False,\n",
       " 'url': 'https://www.reddit.com/r/travel/comments/125tfj8/i_will_have_two_weeks_of_vacation_in_november_and/',\n",
       " 'subreddit_subscribers': 7443770,\n",
       " 'created_utc': 1680108205,\n",
       " 'num_crossposts': 0,\n",
       " 'media': None,\n",
       " 'is_video': False,\n",
       " 'retrieved_utc': 1680108218,\n",
       " 'updated_utc': 1680108218,\n",
       " 'utc_datetime_str': '2023-03-29 16:43:25'}"
      ]
     },
     "execution_count": 54,
     "metadata": {},
     "output_type": "execute_result"
    }
   ],
   "source": [
    "# check the first post\n",
    "posts[0]\n",
    "\n",
    "# created_utc is an int, showing the time the first post weas posted"
   ]
  },
  {
   "cell_type": "code",
   "execution_count": 55,
   "id": "6d7d93a4",
   "metadata": {},
   "outputs": [],
   "source": [
    "# turned dictionary to dataframe\n",
    "df = pd.DataFrame(posts)"
   ]
  },
  {
   "cell_type": "code",
   "execution_count": 56,
   "id": "ba8bf710",
   "metadata": {
    "scrolled": true
   },
   "outputs": [
    {
     "data": {
      "text/html": [
       "<div>\n",
       "<style scoped>\n",
       "    .dataframe tbody tr th:only-of-type {\n",
       "        vertical-align: middle;\n",
       "    }\n",
       "\n",
       "    .dataframe tbody tr th {\n",
       "        vertical-align: top;\n",
       "    }\n",
       "\n",
       "    .dataframe thead th {\n",
       "        text-align: right;\n",
       "    }\n",
       "</style>\n",
       "<table border=\"1\" class=\"dataframe\">\n",
       "  <thead>\n",
       "    <tr style=\"text-align: right;\">\n",
       "      <th></th>\n",
       "      <th>subreddit</th>\n",
       "      <th>selftext</th>\n",
       "      <th>author_fullname</th>\n",
       "      <th>gilded</th>\n",
       "      <th>title</th>\n",
       "      <th>link_flair_richtext</th>\n",
       "      <th>subreddit_name_prefixed</th>\n",
       "      <th>hidden</th>\n",
       "      <th>pwls</th>\n",
       "      <th>link_flair_css_class</th>\n",
       "      <th>thumbnail_height</th>\n",
       "      <th>top_awarded_type</th>\n",
       "      <th>hide_score</th>\n",
       "      <th>quarantine</th>\n",
       "      <th>link_flair_text_color</th>\n",
       "      <th>upvote_ratio</th>\n",
       "      <th>author_flair_background_color</th>\n",
       "      <th>subreddit_type</th>\n",
       "      <th>total_awards_received</th>\n",
       "      <th>media_embed</th>\n",
       "      <th>thumbnail_width</th>\n",
       "      <th>author_flair_template_id</th>\n",
       "      <th>is_original_content</th>\n",
       "      <th>secure_media</th>\n",
       "      <th>is_reddit_media_domain</th>\n",
       "      <th>is_meta</th>\n",
       "      <th>category</th>\n",
       "      <th>secure_media_embed</th>\n",
       "      <th>link_flair_text</th>\n",
       "      <th>score</th>\n",
       "      <th>is_created_from_ads_ui</th>\n",
       "      <th>author_premium</th>\n",
       "      <th>thumbnail</th>\n",
       "      <th>edited</th>\n",
       "      <th>author_flair_css_class</th>\n",
       "      <th>author_flair_richtext</th>\n",
       "      <th>gildings</th>\n",
       "      <th>content_categories</th>\n",
       "      <th>is_self</th>\n",
       "      <th>link_flair_type</th>\n",
       "      <th>wls</th>\n",
       "      <th>removed_by_category</th>\n",
       "      <th>author_flair_type</th>\n",
       "      <th>domain</th>\n",
       "      <th>allow_live_comments</th>\n",
       "      <th>suggested_sort</th>\n",
       "      <th>view_count</th>\n",
       "      <th>archived</th>\n",
       "      <th>no_follow</th>\n",
       "      <th>is_crosspostable</th>\n",
       "      <th>pinned</th>\n",
       "      <th>over_18</th>\n",
       "      <th>all_awardings</th>\n",
       "      <th>awarders</th>\n",
       "      <th>media_only</th>\n",
       "      <th>link_flair_template_id</th>\n",
       "      <th>can_gild</th>\n",
       "      <th>spoiler</th>\n",
       "      <th>locked</th>\n",
       "      <th>author_flair_text</th>\n",
       "      <th>treatment_tags</th>\n",
       "      <th>removed_by</th>\n",
       "      <th>distinguished</th>\n",
       "      <th>subreddit_id</th>\n",
       "      <th>link_flair_background_color</th>\n",
       "      <th>id</th>\n",
       "      <th>is_robot_indexable</th>\n",
       "      <th>author</th>\n",
       "      <th>discussion_type</th>\n",
       "      <th>num_comments</th>\n",
       "      <th>send_replies</th>\n",
       "      <th>whitelist_status</th>\n",
       "      <th>contest_mode</th>\n",
       "      <th>author_patreon_flair</th>\n",
       "      <th>author_flair_text_color</th>\n",
       "      <th>permalink</th>\n",
       "      <th>parent_whitelist_status</th>\n",
       "      <th>stickied</th>\n",
       "      <th>url</th>\n",
       "      <th>subreddit_subscribers</th>\n",
       "      <th>created_utc</th>\n",
       "      <th>num_crossposts</th>\n",
       "      <th>media</th>\n",
       "      <th>is_video</th>\n",
       "      <th>retrieved_utc</th>\n",
       "      <th>updated_utc</th>\n",
       "      <th>utc_datetime_str</th>\n",
       "      <th>post_hint</th>\n",
       "      <th>url_overridden_by_dest</th>\n",
       "      <th>preview</th>\n",
       "      <th>crosspost_parent_list</th>\n",
       "      <th>crosspost_parent</th>\n",
       "      <th>is_gallery</th>\n",
       "      <th>media_metadata</th>\n",
       "      <th>gallery_data</th>\n",
       "      <th>author_cakeday</th>\n",
       "    </tr>\n",
       "  </thead>\n",
       "  <tbody>\n",
       "    <tr>\n",
       "      <th>0</th>\n",
       "      <td>travel</td>\n",
       "      <td>Never been before so dont know much  about the...</td>\n",
       "      <td>t2_3s3ea</td>\n",
       "      <td>0</td>\n",
       "      <td>I will have two weeks of vacation in November ...</td>\n",
       "      <td>[]</td>\n",
       "      <td>r/travel</td>\n",
       "      <td>False</td>\n",
       "      <td>6.0</td>\n",
       "      <td>question</td>\n",
       "      <td>NaN</td>\n",
       "      <td>None</td>\n",
       "      <td>True</td>\n",
       "      <td>False</td>\n",
       "      <td>light</td>\n",
       "      <td>1.0</td>\n",
       "      <td>None</td>\n",
       "      <td>public</td>\n",
       "      <td>0</td>\n",
       "      <td>{}</td>\n",
       "      <td>NaN</td>\n",
       "      <td>None</td>\n",
       "      <td>False</td>\n",
       "      <td>None</td>\n",
       "      <td>False</td>\n",
       "      <td>False</td>\n",
       "      <td>None</td>\n",
       "      <td>{}</td>\n",
       "      <td>Question</td>\n",
       "      <td>1</td>\n",
       "      <td>False</td>\n",
       "      <td>False</td>\n",
       "      <td>self</td>\n",
       "      <td>False</td>\n",
       "      <td>None</td>\n",
       "      <td>[]</td>\n",
       "      <td>{}</td>\n",
       "      <td>None</td>\n",
       "      <td>True</td>\n",
       "      <td>text</td>\n",
       "      <td>6.0</td>\n",
       "      <td>None</td>\n",
       "      <td>text</td>\n",
       "      <td>self.travel</td>\n",
       "      <td>False</td>\n",
       "      <td>None</td>\n",
       "      <td>None</td>\n",
       "      <td>False</td>\n",
       "      <td>True</td>\n",
       "      <td>True</td>\n",
       "      <td>False</td>\n",
       "      <td>False</td>\n",
       "      <td>[]</td>\n",
       "      <td>[]</td>\n",
       "      <td>False</td>\n",
       "      <td>63ab44d8-3640-11e3-8665-12313d21c4ee</td>\n",
       "      <td>True</td>\n",
       "      <td>False</td>\n",
       "      <td>False</td>\n",
       "      <td>None</td>\n",
       "      <td>[]</td>\n",
       "      <td>None</td>\n",
       "      <td>None</td>\n",
       "      <td>t5_2qh41</td>\n",
       "      <td>#ff66ac</td>\n",
       "      <td>125tfj8</td>\n",
       "      <td>True</td>\n",
       "      <td>xss2</td>\n",
       "      <td>None</td>\n",
       "      <td>0</td>\n",
       "      <td>True</td>\n",
       "      <td>all_ads</td>\n",
       "      <td>False</td>\n",
       "      <td>False</td>\n",
       "      <td>None</td>\n",
       "      <td>/r/travel/comments/125tfj8/i_will_have_two_wee...</td>\n",
       "      <td>all_ads</td>\n",
       "      <td>False</td>\n",
       "      <td>https://www.reddit.com/r/travel/comments/125tf...</td>\n",
       "      <td>7443770</td>\n",
       "      <td>1680108205</td>\n",
       "      <td>0</td>\n",
       "      <td>None</td>\n",
       "      <td>False</td>\n",
       "      <td>1680108218</td>\n",
       "      <td>1680108218</td>\n",
       "      <td>2023-03-29 16:43:25</td>\n",
       "      <td>NaN</td>\n",
       "      <td>NaN</td>\n",
       "      <td>NaN</td>\n",
       "      <td>NaN</td>\n",
       "      <td>NaN</td>\n",
       "      <td>NaN</td>\n",
       "      <td>NaN</td>\n",
       "      <td>NaN</td>\n",
       "      <td>NaN</td>\n",
       "    </tr>\n",
       "  </tbody>\n",
       "</table>\n",
       "</div>"
      ],
      "text/plain": [
       "  subreddit                                           selftext  \\\n",
       "0    travel  Never been before so dont know much  about the...   \n",
       "\n",
       "  author_fullname  gilded                                              title  \\\n",
       "0        t2_3s3ea       0  I will have two weeks of vacation in November ...   \n",
       "\n",
       "  link_flair_richtext subreddit_name_prefixed  hidden  pwls  \\\n",
       "0                  []                r/travel   False   6.0   \n",
       "\n",
       "  link_flair_css_class  thumbnail_height top_awarded_type  hide_score  \\\n",
       "0             question               NaN             None        True   \n",
       "\n",
       "   quarantine link_flair_text_color  upvote_ratio  \\\n",
       "0       False                 light           1.0   \n",
       "\n",
       "  author_flair_background_color subreddit_type  total_awards_received  \\\n",
       "0                          None         public                      0   \n",
       "\n",
       "  media_embed  thumbnail_width author_flair_template_id  is_original_content  \\\n",
       "0          {}              NaN                     None                False   \n",
       "\n",
       "  secure_media  is_reddit_media_domain  is_meta category secure_media_embed  \\\n",
       "0         None                   False    False     None                 {}   \n",
       "\n",
       "  link_flair_text  score  is_created_from_ads_ui author_premium thumbnail  \\\n",
       "0        Question      1                   False          False      self   \n",
       "\n",
       "   edited author_flair_css_class author_flair_richtext gildings  \\\n",
       "0   False                   None                    []       {}   \n",
       "\n",
       "  content_categories  is_self link_flair_type  wls removed_by_category  \\\n",
       "0               None     True            text  6.0                None   \n",
       "\n",
       "  author_flair_type       domain  allow_live_comments suggested_sort  \\\n",
       "0              text  self.travel                False           None   \n",
       "\n",
       "  view_count  archived  no_follow  is_crosspostable  pinned  over_18  \\\n",
       "0       None     False       True              True   False    False   \n",
       "\n",
       "  all_awardings awarders  media_only                link_flair_template_id  \\\n",
       "0            []       []       False  63ab44d8-3640-11e3-8665-12313d21c4ee   \n",
       "\n",
       "   can_gild  spoiler  locked author_flair_text treatment_tags removed_by  \\\n",
       "0      True    False   False              None             []       None   \n",
       "\n",
       "  distinguished subreddit_id link_flair_background_color       id  \\\n",
       "0          None     t5_2qh41                     #ff66ac  125tfj8   \n",
       "\n",
       "   is_robot_indexable author discussion_type  num_comments  send_replies  \\\n",
       "0                True   xss2            None             0          True   \n",
       "\n",
       "  whitelist_status  contest_mode author_patreon_flair author_flair_text_color  \\\n",
       "0          all_ads         False                False                    None   \n",
       "\n",
       "                                           permalink parent_whitelist_status  \\\n",
       "0  /r/travel/comments/125tfj8/i_will_have_two_wee...                 all_ads   \n",
       "\n",
       "   stickied                                                url  \\\n",
       "0     False  https://www.reddit.com/r/travel/comments/125tf...   \n",
       "\n",
       "   subreddit_subscribers  created_utc  num_crossposts media  is_video  \\\n",
       "0                7443770   1680108205               0  None     False   \n",
       "\n",
       "   retrieved_utc  updated_utc     utc_datetime_str post_hint  \\\n",
       "0     1680108218   1680108218  2023-03-29 16:43:25       NaN   \n",
       "\n",
       "  url_overridden_by_dest preview crosspost_parent_list crosspost_parent  \\\n",
       "0                    NaN     NaN                   NaN              NaN   \n",
       "\n",
       "  is_gallery media_metadata  gallery_data author_cakeday  \n",
       "0        NaN            NaN           NaN            NaN  "
      ]
     },
     "execution_count": 56,
     "metadata": {},
     "output_type": "execute_result"
    }
   ],
   "source": [
    "df.head(1)"
   ]
  },
  {
   "cell_type": "code",
   "execution_count": 57,
   "id": "690c78a5",
   "metadata": {},
   "outputs": [
    {
     "data": {
      "text/html": [
       "<div>\n",
       "<style scoped>\n",
       "    .dataframe tbody tr th:only-of-type {\n",
       "        vertical-align: middle;\n",
       "    }\n",
       "\n",
       "    .dataframe tbody tr th {\n",
       "        vertical-align: top;\n",
       "    }\n",
       "\n",
       "    .dataframe thead th {\n",
       "        text-align: right;\n",
       "    }\n",
       "</style>\n",
       "<table border=\"1\" class=\"dataframe\">\n",
       "  <thead>\n",
       "    <tr style=\"text-align: right;\">\n",
       "      <th></th>\n",
       "      <th>subreddit</th>\n",
       "      <th>selftext</th>\n",
       "      <th>title</th>\n",
       "    </tr>\n",
       "  </thead>\n",
       "  <tbody>\n",
       "    <tr>\n",
       "      <th>0</th>\n",
       "      <td>travel</td>\n",
       "      <td>Never been before so dont know much  about the...</td>\n",
       "      <td>I will have two weeks of vacation in November ...</td>\n",
       "    </tr>\n",
       "  </tbody>\n",
       "</table>\n",
       "</div>"
      ],
      "text/plain": [
       "  subreddit                                           selftext  \\\n",
       "0    travel  Never been before so dont know much  about the...   \n",
       "\n",
       "                                               title  \n",
       "0  I will have two weeks of vacation in November ...  "
      ]
     },
     "execution_count": 57,
     "metadata": {},
     "output_type": "execute_result"
    }
   ],
   "source": [
    "# showed the columns in interest\n",
    "df[['subreddit', 'selftext', 'title']].head(1)"
   ]
  },
  {
   "cell_type": "code",
   "execution_count": 58,
   "id": "0c30c870",
   "metadata": {},
   "outputs": [],
   "source": [
    "# create function for collecting data\n",
    "# credit: https://www.youtube.com/watch?v=AcrjEWsMi_E and class note\n",
    "\n",
    "# create instance for URL\n",
    "url = 'https://api.pushshift.io/reddit/search/submission'\n",
    "\n",
    "# loop n_requests iterations\n",
    "def webScrape(subreddit, url, data_name, n_requests):  \n",
    "    df_final =  pd.DataFrame(columns=['subreddit', 'selftext', 'title', 'distinguished', 'author',\n",
    "                                      'removed_by_category', 'num_comments', 'utc_datetime_str'])\n",
    "    for i in range(1,n_requests):                # set up request range based on 1000 post per run\n",
    "        if i==1:\n",
    "            params = {'subreddit': subreddit, \n",
    "                      'size': 1000}              # limit to 1000 posts per run\n",
    "        else:\n",
    "            params = {'subreddit': subreddit, \n",
    "                      'size': 1000,\n",
    "                      'before': before}\n",
    "        \n",
    "        res = requests.get(url, params)          # set up response  \n",
    "        if res.status_code != 200:               # check for errors and raise ConnectionError if there is one\n",
    "            raise ConnectionError(f'Error code:{res.status_code} has occured.')\n",
    "            \n",
    "        data = res.json()\n",
    "        posts = data['data']\n",
    "        df = pd.DataFrame(posts)                 # turned dictionary to dataframe\n",
    "        df = df[['subreddit', 'selftext', 'title', 'distinguished', 'author', 'removed_by_category', 'num_comments', 'utc_datetime_str']]  # showed the columns in interest\n",
    "        df_final = pd.concat([df_final, df])         # combined the dataframe\n",
    "        before = posts[-1]['created_utc']        # show the post before certain time\n",
    "        time.sleep(3)                            # re-attempting collection after 3 sec if api is overloaded\n",
    "    \n",
    "    # drop duplicate rows that may have been pulled:\n",
    "    df_final.drop_duplicates(subset='title', keep='first', inplace = True)\n",
    "    \n",
    "    #Save the DataFrame as a .csv file\n",
    "    df_final.to_csv('../data/' + str(data_name) + '.csv', index = False, sep = \",\")\n",
    "    \n",
    "    # print number of posts pulled\n",
    "    print(f\"Total of posts were downloaded: {df_final.shape[0]}\")\n",
    "    "
   ]
  },
  {
   "cell_type": "markdown",
   "id": "bc501c1f",
   "metadata": {},
   "source": [
    "### WebScrape for first subraddit: r/AwardTravel"
   ]
  },
  {
   "cell_type": "code",
   "execution_count": 24,
   "id": "60096a57",
   "metadata": {
    "scrolled": true
   },
   "outputs": [
    {
     "name": "stdout",
     "output_type": "stream",
     "text": [
      "Total of posts were downloaded: 3951\n"
     ]
    }
   ],
   "source": [
    "webScrape('awardtravel', url, 'awardtravel_4000', 5)"
   ]
  },
  {
   "cell_type": "code",
   "execution_count": 25,
   "id": "d3c29243",
   "metadata": {
    "scrolled": true
   },
   "outputs": [
    {
     "name": "stdout",
     "output_type": "stream",
     "text": [
      "Total of posts were downloaded: 7777\n"
     ]
    }
   ],
   "source": [
    "webScrape('awardtravel', url, 'awardtravel_8000', 9)"
   ]
  },
  {
   "cell_type": "code",
   "execution_count": 26,
   "id": "75343f70",
   "metadata": {},
   "outputs": [
    {
     "name": "stdout",
     "output_type": "stream",
     "text": [
      "Total of posts were downloaded: 11540\n"
     ]
    }
   ],
   "source": [
    "webScrape('awardtravel', url, 'awardtravel_12000', 13)"
   ]
  },
  {
   "cell_type": "code",
   "execution_count": 28,
   "id": "e63a0af2",
   "metadata": {
    "scrolled": true
   },
   "outputs": [
    {
     "data": {
      "text/plain": [
       "Index(['subreddit', 'selftext', 'title', 'distinguished', 'author',\n",
       "       'removed_by_category', 'num_comments', 'utc_datetime_str'],\n",
       "      dtype='object')"
      ]
     },
     "execution_count": 28,
     "metadata": {},
     "output_type": "execute_result"
    }
   ],
   "source": [
    "awardtravel_df1.keys()"
   ]
  },
  {
   "cell_type": "code",
   "execution_count": 29,
   "id": "aa0f19bb",
   "metadata": {
    "scrolled": false
   },
   "outputs": [
    {
     "data": {
      "text/html": [
       "<div>\n",
       "<style scoped>\n",
       "    .dataframe tbody tr th:only-of-type {\n",
       "        vertical-align: middle;\n",
       "    }\n",
       "\n",
       "    .dataframe tbody tr th {\n",
       "        vertical-align: top;\n",
       "    }\n",
       "\n",
       "    .dataframe thead th {\n",
       "        text-align: right;\n",
       "    }\n",
       "</style>\n",
       "<table border=\"1\" class=\"dataframe\">\n",
       "  <thead>\n",
       "    <tr style=\"text-align: right;\">\n",
       "      <th></th>\n",
       "      <th>subreddit</th>\n",
       "      <th>selftext</th>\n",
       "      <th>title</th>\n",
       "      <th>distinguished</th>\n",
       "      <th>author</th>\n",
       "      <th>removed_by_category</th>\n",
       "      <th>num_comments</th>\n",
       "      <th>utc_datetime_str</th>\n",
       "    </tr>\n",
       "  </thead>\n",
       "  <tbody>\n",
       "    <tr>\n",
       "      <th>11535</th>\n",
       "      <td>awardtravel</td>\n",
       "      <td>Are there any self parking structures around t...</td>\n",
       "      <td>Parking around Waldorf Astoria Beverly Hills h...</td>\n",
       "      <td>NaN</td>\n",
       "      <td>acivicbboi</td>\n",
       "      <td>NaN</td>\n",
       "      <td>4</td>\n",
       "      <td>2020-10-02 00:11:41</td>\n",
       "    </tr>\n",
       "    <tr>\n",
       "      <th>11536</th>\n",
       "      <td>awardtravel</td>\n",
       "      <td>I booked the Thompson Chicago with points this...</td>\n",
       "      <td>Hyatt no parking available point rebate</td>\n",
       "      <td>NaN</td>\n",
       "      <td>xcoldricex</td>\n",
       "      <td>NaN</td>\n",
       "      <td>18</td>\n",
       "      <td>2020-10-01 22:09:09</td>\n",
       "    </tr>\n",
       "    <tr>\n",
       "      <th>11537</th>\n",
       "      <td>awardtravel</td>\n",
       "      <td>Any recommendations?  I have Ziva booked for 6...</td>\n",
       "      <td>Ziva Cabo vs The Cape, a Thompson Hotel</td>\n",
       "      <td>NaN</td>\n",
       "      <td>sosamo11</td>\n",
       "      <td>NaN</td>\n",
       "      <td>37</td>\n",
       "      <td>2020-10-01 16:52:05</td>\n",
       "    </tr>\n",
       "    <tr>\n",
       "      <th>11538</th>\n",
       "      <td>awardtravel</td>\n",
       "      <td>I have 60K Lifemiles, and do not plan to trave...</td>\n",
       "      <td>Lifemiles</td>\n",
       "      <td>NaN</td>\n",
       "      <td>sosamo11</td>\n",
       "      <td>NaN</td>\n",
       "      <td>6</td>\n",
       "      <td>2020-10-01 16:00:08</td>\n",
       "    </tr>\n",
       "    <tr>\n",
       "      <th>11539</th>\n",
       "      <td>awardtravel</td>\n",
       "      <td>[deleted]</td>\n",
       "      <td>What Award Program Should I get into</td>\n",
       "      <td>NaN</td>\n",
       "      <td>[deleted]</td>\n",
       "      <td>deleted</td>\n",
       "      <td>0</td>\n",
       "      <td>2020-10-01 12:58:40</td>\n",
       "    </tr>\n",
       "  </tbody>\n",
       "</table>\n",
       "</div>"
      ],
      "text/plain": [
       "         subreddit                                           selftext  \\\n",
       "11535  awardtravel  Are there any self parking structures around t...   \n",
       "11536  awardtravel  I booked the Thompson Chicago with points this...   \n",
       "11537  awardtravel  Any recommendations?  I have Ziva booked for 6...   \n",
       "11538  awardtravel  I have 60K Lifemiles, and do not plan to trave...   \n",
       "11539  awardtravel                                          [deleted]   \n",
       "\n",
       "                                                   title distinguished  \\\n",
       "11535  Parking around Waldorf Astoria Beverly Hills h...           NaN   \n",
       "11536            Hyatt no parking available point rebate           NaN   \n",
       "11537            Ziva Cabo vs The Cape, a Thompson Hotel           NaN   \n",
       "11538                                          Lifemiles           NaN   \n",
       "11539               What Award Program Should I get into           NaN   \n",
       "\n",
       "           author removed_by_category  num_comments     utc_datetime_str  \n",
       "11535  acivicbboi                 NaN             4  2020-10-02 00:11:41  \n",
       "11536  xcoldricex                 NaN            18  2020-10-01 22:09:09  \n",
       "11537    sosamo11                 NaN            37  2020-10-01 16:52:05  \n",
       "11538    sosamo11                 NaN             6  2020-10-01 16:00:08  \n",
       "11539   [deleted]             deleted             0  2020-10-01 12:58:40  "
      ]
     },
     "execution_count": 29,
     "metadata": {},
     "output_type": "execute_result"
    }
   ],
   "source": [
    "awardtravel_df.tail()"
   ]
  },
  {
   "cell_type": "code",
   "execution_count": 30,
   "id": "64ea568a",
   "metadata": {},
   "outputs": [
    {
     "data": {
      "text/plain": [
       "((3951, 8), (7777, 8))"
      ]
     },
     "execution_count": 30,
     "metadata": {},
     "output_type": "execute_result"
    }
   ],
   "source": [
    "awardtravel_df1.shape, awardtravel_df2.shape"
   ]
  },
  {
   "cell_type": "markdown",
   "id": "7dafffdf",
   "metadata": {},
   "source": [
    "### WebScrape for second subraddit: r/TravelHacks"
   ]
  },
  {
   "cell_type": "code",
   "execution_count": 42,
   "id": "b95b24f7",
   "metadata": {},
   "outputs": [
    {
     "name": "stdout",
     "output_type": "stream",
     "text": [
      "Total of posts were downloaded: 3868\n"
     ]
    }
   ],
   "source": [
    "webScrape('TravelHacks', url, 'TravelHacks_4000', 5)"
   ]
  },
  {
   "cell_type": "code",
   "execution_count": 43,
   "id": "c626455d",
   "metadata": {},
   "outputs": [
    {
     "name": "stdout",
     "output_type": "stream",
     "text": [
      "Total of posts were downloaded: 7744\n"
     ]
    }
   ],
   "source": [
    "webScrape('TravelHacks', url, 'TravelHacks_8000', 9)"
   ]
  },
  {
   "cell_type": "code",
   "execution_count": 44,
   "id": "27a5fd1c",
   "metadata": {},
   "outputs": [
    {
     "name": "stdout",
     "output_type": "stream",
     "text": [
      "Total of posts were downloaded: 11293\n"
     ]
    }
   ],
   "source": [
    "webScrape('TravelHacks', url, 'TravelHacks_12000', 13)"
   ]
  }
 ],
 "metadata": {
  "kernelspec": {
   "display_name": "Python 3 (ipykernel)",
   "language": "python",
   "name": "python3"
  },
  "language_info": {
   "codemirror_mode": {
    "name": "ipython",
    "version": 3
   },
   "file_extension": ".py",
   "mimetype": "text/x-python",
   "name": "python",
   "nbconvert_exporter": "python",
   "pygments_lexer": "ipython3",
   "version": "3.10.10"
  }
 },
 "nbformat": 4,
 "nbformat_minor": 5
}
