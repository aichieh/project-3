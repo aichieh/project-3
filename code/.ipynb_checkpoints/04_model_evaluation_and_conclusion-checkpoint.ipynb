{
 "cells": [
  {
   "cell_type": "markdown",
   "id": "94a41d35",
   "metadata": {},
   "source": [
    "### Imports"
   ]
  },
  {
   "cell_type": "code",
   "execution_count": 1,
   "id": "d3f50d62",
   "metadata": {},
   "outputs": [],
   "source": [
    "# Import libraries needed for webscraping\n",
    "import requests\n",
    "from datetime import datetime\n",
    "import time\n",
    "import random\n",
    "import pandas as pd\n",
    "\n",
    "import matplotlib.pyplot as plt\n",
    "import pandas as pd\n",
    "import seaborn as sns\n",
    "import numpy as np\n",
    "\n",
    "import regex as re\n",
    "from sklearn import metrics\n",
    "from sklearn.pipeline import Pipeline\n",
    "from sklearn.linear_model import LogisticRegression\n",
    "from sklearn.feature_extraction.text import CountVectorizer, TfidfVectorizer\n",
    "from sklearn.model_selection import GridSearchCV, train_test_split, cross_val_score\n",
    "from sklearn.metrics import confusion_matrix, classification_report, ConfusionMatrixDisplay \n",
    "from sklearn.naive_bayes import MultinomialNB\n",
    "from sklearn.ensemble import RandomForestClassifier, ExtraTreesClassifier\n",
    "\n",
    "import nltk\n",
    "from nltk.stem import WordNetLemmatizer\n",
    "from nltk.corpus import stopwords\n",
    "#nltk.download('stopwords')\n",
    "from nltk.tokenize import word_tokenize, RegexpTokenizer\n",
    "\n",
    "from bs4 import BeautifulSoup    \n",
    "\n",
    "import unidecode\n",
    "import contractions\n",
    "import redditcleaner\n",
    "import spacy\n",
    "#spacy.cli.download('en_core_web_md')\n",
    "#spacy.cli.download('en_core_web_sm')\n",
    "\n",
    "pd.set_option('display.max_columns', 2000)\n",
    "pd.set_option('display.max_rows', 500)"
   ]
  },
  {
   "cell_type": "markdown",
   "id": "3bd28bbb",
   "metadata": {},
   "source": [
    "### Load Data"
   ]
  },
  {
   "cell_type": "code",
   "execution_count": 2,
   "id": "fde6885f",
   "metadata": {},
   "outputs": [],
   "source": [
    "df = pd.read_csv('../data/df_cleaned.csv')"
   ]
  },
  {
   "cell_type": "code",
   "execution_count": 3,
   "id": "0215815f",
   "metadata": {
    "scrolled": true
   },
   "outputs": [
    {
     "name": "stdout",
     "output_type": "stream",
     "text": [
      "<class 'pandas.core.frame.DataFrame'>\n",
      "RangeIndex: 7620 entries, 0 to 7619\n",
      "Data columns (total 6 columns):\n",
      " #   Column        Non-Null Count  Dtype \n",
      "---  ------        --------------  ----- \n",
      " 0   subreddit     7620 non-null   int64 \n",
      " 1   title         7620 non-null   object\n",
      " 2   author        7620 non-null   object\n",
      " 3   num_comments  7620 non-null   int64 \n",
      " 4   text          7620 non-null   object\n",
      " 5   text_cleaned  7587 non-null   object\n",
      "dtypes: int64(2), object(4)\n",
      "memory usage: 357.3+ KB\n"
     ]
    }
   ],
   "source": [
    "df.info()"
   ]
  },
  {
   "cell_type": "code",
   "execution_count": 4,
   "id": "439b1b7e",
   "metadata": {},
   "outputs": [],
   "source": [
    "# fillter data with value = NaN\n",
    "bool_series = pd.isnull(df[\"text_cleaned\"])"
   ]
  },
  {
   "cell_type": "code",
   "execution_count": 5,
   "id": "edc13e52",
   "metadata": {
    "scrolled": true
   },
   "outputs": [
    {
     "data": {
      "text/html": [
       "<div>\n",
       "<style scoped>\n",
       "    .dataframe tbody tr th:only-of-type {\n",
       "        vertical-align: middle;\n",
       "    }\n",
       "\n",
       "    .dataframe tbody tr th {\n",
       "        vertical-align: top;\n",
       "    }\n",
       "\n",
       "    .dataframe thead th {\n",
       "        text-align: right;\n",
       "    }\n",
       "</style>\n",
       "<table border=\"1\" class=\"dataframe\">\n",
       "  <thead>\n",
       "    <tr style=\"text-align: right;\">\n",
       "      <th></th>\n",
       "      <th>subreddit</th>\n",
       "      <th>title</th>\n",
       "      <th>author</th>\n",
       "      <th>num_comments</th>\n",
       "      <th>text</th>\n",
       "      <th>text_cleaned</th>\n",
       "    </tr>\n",
       "  </thead>\n",
       "  <tbody>\n",
       "    <tr>\n",
       "      <th>136</th>\n",
       "      <td>1</td>\n",
       "      <td>https://moneysocial-huk.buzz/57371695859503</td>\n",
       "      <td>Choice_Bid_7576</td>\n",
       "      <td>0</td>\n",
       "      <td>https://moneysocial-huk.buzz/57371695859503</td>\n",
       "      <td>NaN</td>\n",
       "    </tr>\n",
       "    <tr>\n",
       "      <th>290</th>\n",
       "      <td>1</td>\n",
       "      <td>https://bostonu.qualtrics.com/jfe/form/SV_0CBF...</td>\n",
       "      <td>Lanky-University348</td>\n",
       "      <td>0</td>\n",
       "      <td>https://bostonu.qualtrics.com/jfe/form/SV_0CBF...</td>\n",
       "      <td>NaN</td>\n",
       "    </tr>\n",
       "    <tr>\n",
       "      <th>296</th>\n",
       "      <td>1</td>\n",
       "      <td>https://youtu.be/PYvapmqsllo</td>\n",
       "      <td>Alizeyvlog_786</td>\n",
       "      <td>0</td>\n",
       "      <td>https://youtu.be/PYvapmqsllo</td>\n",
       "      <td>NaN</td>\n",
       "    </tr>\n",
       "    <tr>\n",
       "      <th>484</th>\n",
       "      <td>1</td>\n",
       "      <td>https://tegram.me/o3hatzB969EyZDg8</td>\n",
       "      <td>bigcheeseeee</td>\n",
       "      <td>0</td>\n",
       "      <td>https://tegram.me/o3hatzB969EyZDg8</td>\n",
       "      <td>NaN</td>\n",
       "    </tr>\n",
       "    <tr>\n",
       "      <th>696</th>\n",
       "      <td>1</td>\n",
       "      <td>شماره خاله واقعی0996.050.3889</td>\n",
       "      <td>Aggressive-Whole8736</td>\n",
       "      <td>0</td>\n",
       "      <td>شماره خاله واقعی0996.050.3889</td>\n",
       "      <td>NaN</td>\n",
       "    </tr>\n",
       "    <tr>\n",
       "      <th>989</th>\n",
       "      <td>1</td>\n",
       "      <td>https://youtu.be/dVS9amLRldI</td>\n",
       "      <td>sanjeewa27050</td>\n",
       "      <td>0</td>\n",
       "      <td>https://youtu.be/dVS9amLRldI</td>\n",
       "      <td>NaN</td>\n",
       "    </tr>\n",
       "    <tr>\n",
       "      <th>1073</th>\n",
       "      <td>1</td>\n",
       "      <td>https://ref.timesocial.co/KONTIHENE</td>\n",
       "      <td>Hopeful_Example_3421</td>\n",
       "      <td>0</td>\n",
       "      <td>https://ref.timesocial.co/KONTIHENE</td>\n",
       "      <td>NaN</td>\n",
       "    </tr>\n",
       "    <tr>\n",
       "      <th>1087</th>\n",
       "      <td>1</td>\n",
       "      <td>https://sharing.hopper.com/refer/veronikat9jb</td>\n",
       "      <td>LosingMyLife89</td>\n",
       "      <td>0</td>\n",
       "      <td>https://sharing.hopper.com/refer/veronikat9jb</td>\n",
       "      <td>NaN</td>\n",
       "    </tr>\n",
       "    <tr>\n",
       "      <th>1259</th>\n",
       "      <td>1</td>\n",
       "      <td>https://www.ywsf12.com/2023/02/Bitcoin.html</td>\n",
       "      <td>Key-Reflection7007</td>\n",
       "      <td>0</td>\n",
       "      <td>https://www.ywsf12.com/2023/02/Bitcoin.html</td>\n",
       "      <td>NaN</td>\n",
       "    </tr>\n",
       "    <tr>\n",
       "      <th>1513</th>\n",
       "      <td>1</td>\n",
       "      <td>[Work in Progress] AI Optimizer for Multi-Coun...</td>\n",
       "      <td>slakmehl</td>\n",
       "      <td>0</td>\n",
       "      <td>[Work in Progress] AI Optimizer for Multi-Coun...</td>\n",
       "      <td>NaN</td>\n",
       "    </tr>\n",
       "    <tr>\n",
       "      <th>1603</th>\n",
       "      <td>1</td>\n",
       "      <td>https://youtu.be/lv3B7LmNdMw</td>\n",
       "      <td>CuriousMinds33</td>\n",
       "      <td>0</td>\n",
       "      <td>https://youtu.be/lv3B7LmNdMw</td>\n",
       "      <td>NaN</td>\n",
       "    </tr>\n",
       "    <tr>\n",
       "      <th>1773</th>\n",
       "      <td>1</td>\n",
       "      <td>https://youtu.be/RkJWPbEegRc</td>\n",
       "      <td>George_Kein</td>\n",
       "      <td>0</td>\n",
       "      <td>https://youtu.be/RkJWPbEegRc</td>\n",
       "      <td>NaN</td>\n",
       "    </tr>\n",
       "    <tr>\n",
       "      <th>1910</th>\n",
       "      <td>1</td>\n",
       "      <td>https://youtu.be/XzTthnpk8H0</td>\n",
       "      <td>Natureopts</td>\n",
       "      <td>0</td>\n",
       "      <td>https://youtu.be/XzTthnpk8H0</td>\n",
       "      <td>NaN</td>\n",
       "    </tr>\n",
       "    <tr>\n",
       "      <th>2173</th>\n",
       "      <td>1</td>\n",
       "      <td>Anything</td>\n",
       "      <td>Choice_Base2121</td>\n",
       "      <td>0</td>\n",
       "      <td>Anything</td>\n",
       "      <td>NaN</td>\n",
       "    </tr>\n",
       "    <tr>\n",
       "      <th>2274</th>\n",
       "      <td>1</td>\n",
       "      <td>https://onlyfans.com/fernandinhavalle/c1</td>\n",
       "      <td>Fefevalle</td>\n",
       "      <td>0</td>\n",
       "      <td>https://onlyfans.com/fernandinhavalle/c1</td>\n",
       "      <td>NaN</td>\n",
       "    </tr>\n",
       "    <tr>\n",
       "      <th>2332</th>\n",
       "      <td>1</td>\n",
       "      <td>ファイザーガコロナウイルスの外种を制造しテいることガ暴露され、売国奴ガあわテテ「反证」</td>\n",
       "      <td>Fun-Relationship-867</td>\n",
       "      <td>0</td>\n",
       "      <td>ファイザーガコロナウイルスの外种を制造しテいることガ暴露され、売国奴ガあわテテ「反证」</td>\n",
       "      <td>NaN</td>\n",
       "    </tr>\n",
       "    <tr>\n",
       "      <th>2794</th>\n",
       "      <td>1</td>\n",
       "      <td>https://www.ywsf12.com/2023/01/blog-post_52.html</td>\n",
       "      <td>Key-Reflection7007</td>\n",
       "      <td>0</td>\n",
       "      <td>https://www.ywsf12.com/2023/01/blog-post_52.html</td>\n",
       "      <td>NaN</td>\n",
       "    </tr>\n",
       "    <tr>\n",
       "      <th>2853</th>\n",
       "      <td>1</td>\n",
       "      <td>𝐓𝐡𝐞 𝐭𝐫𝐚𝐯𝐞𝐥 𝐜𝐥𝐮𝐛 𝐟𝐨𝐫 𝐰𝐨𝐦𝐞𝐧: 𝐈𝐧𝐭𝐞𝐫𝐧𝐚𝐭𝐢𝐨𝐧𝐚𝐥 𝐯𝐚𝐜𝐚𝐭...</td>\n",
       "      <td>Jhume1976</td>\n",
       "      <td>0</td>\n",
       "      <td>𝐓𝐡𝐞 𝐭𝐫𝐚𝐯𝐞𝐥 𝐜𝐥𝐮𝐛 𝐟𝐨𝐫 𝐰𝐨𝐦𝐞𝐧: 𝐈𝐧𝐭𝐞𝐫𝐧𝐚𝐭𝐢𝐨𝐧𝐚𝐥 𝐯𝐚𝐜𝐚𝐭...</td>\n",
       "      <td>NaN</td>\n",
       "    </tr>\n",
       "    <tr>\n",
       "      <th>2858</th>\n",
       "      <td>1</td>\n",
       "      <td>https://www.facebook.com/americamundomx?mibext...</td>\n",
       "      <td>atefsaleh</td>\n",
       "      <td>0</td>\n",
       "      <td>https://www.facebook.com/americamundomx?mibext...</td>\n",
       "      <td>NaN</td>\n",
       "    </tr>\n",
       "    <tr>\n",
       "      <th>2868</th>\n",
       "      <td>1</td>\n",
       "      <td>https://ywsf-ywsf12.blogspot.com/2023/01/profi...</td>\n",
       "      <td>Key-Reflection7007</td>\n",
       "      <td>0</td>\n",
       "      <td>https://ywsf-ywsf12.blogspot.com/2023/01/profi...</td>\n",
       "      <td>NaN</td>\n",
       "    </tr>\n",
       "    <tr>\n",
       "      <th>2875</th>\n",
       "      <td>1</td>\n",
       "      <td>What do you say 🤔🤔🤔?</td>\n",
       "      <td>questionblogpage</td>\n",
       "      <td>0</td>\n",
       "      <td>What do you say 🤔🤔🤔? [removed]\\n\\n[View Poll](...</td>\n",
       "      <td>NaN</td>\n",
       "    </tr>\n",
       "    <tr>\n",
       "      <th>3013</th>\n",
       "      <td>1</td>\n",
       "      <td>https://www.ywsf12.com</td>\n",
       "      <td>Key-Reflection7007</td>\n",
       "      <td>0</td>\n",
       "      <td>https://www.ywsf12.com</td>\n",
       "      <td>NaN</td>\n",
       "    </tr>\n",
       "    <tr>\n",
       "      <th>3131</th>\n",
       "      <td>1</td>\n",
       "      <td>https://youtu.be/YLKhIuXFvOY</td>\n",
       "      <td>Visible-Raspberry-27</td>\n",
       "      <td>0</td>\n",
       "      <td>https://youtu.be/YLKhIuXFvOY</td>\n",
       "      <td>NaN</td>\n",
       "    </tr>\n",
       "    <tr>\n",
       "      <th>3166</th>\n",
       "      <td>1</td>\n",
       "      <td>https://onlyfans.com/u267933808</td>\n",
       "      <td>Neither-Cabinet1029</td>\n",
       "      <td>0</td>\n",
       "      <td>https://onlyfans.com/u267933808</td>\n",
       "      <td>NaN</td>\n",
       "    </tr>\n",
       "    <tr>\n",
       "      <th>3675</th>\n",
       "      <td>1</td>\n",
       "      <td>https://youtu.be/OvO9RjsAM4s</td>\n",
       "      <td>yartd</td>\n",
       "      <td>0</td>\n",
       "      <td>https://youtu.be/OvO9RjsAM4s</td>\n",
       "      <td>NaN</td>\n",
       "    </tr>\n",
       "    <tr>\n",
       "      <th>3710</th>\n",
       "      <td>1</td>\n",
       "      <td>https://rainhatransportes.wordpress.com/</td>\n",
       "      <td>DocumentCertain5547</td>\n",
       "      <td>0</td>\n",
       "      <td>https://rainhatransportes.wordpress.com/</td>\n",
       "      <td>NaN</td>\n",
       "    </tr>\n",
       "    <tr>\n",
       "      <th>3753</th>\n",
       "      <td>1</td>\n",
       "      <td>https://youtube.com/@anjaliravipathak</td>\n",
       "      <td>Aggravating-Fox-4862</td>\n",
       "      <td>0</td>\n",
       "      <td>https://youtube.com/@anjaliravipathak</td>\n",
       "      <td>NaN</td>\n",
       "    </tr>\n",
       "    <tr>\n",
       "      <th>3754</th>\n",
       "      <td>1</td>\n",
       "      <td>https://youtu.be/4i24TYQ_s38</td>\n",
       "      <td>Aggravating-Fox-4862</td>\n",
       "      <td>0</td>\n",
       "      <td>https://youtu.be/4i24TYQ_s38</td>\n",
       "      <td>NaN</td>\n",
       "    </tr>\n",
       "    <tr>\n",
       "      <th>6382</th>\n",
       "      <td>0</td>\n",
       "      <td>https://thecasinocomps.com/resorts-world-how-t...</td>\n",
       "      <td>TheCasinoComps</td>\n",
       "      <td>0</td>\n",
       "      <td>https://thecasinocomps.com/resorts-world-how-t...</td>\n",
       "      <td>NaN</td>\n",
       "    </tr>\n",
       "    <tr>\n",
       "      <th>6387</th>\n",
       "      <td>0</td>\n",
       "      <td>https://blidz.app.link/product/5z4dviczn90t3oz...</td>\n",
       "      <td>Top_Entrepreneur_536</td>\n",
       "      <td>1</td>\n",
       "      <td>https://blidz.app.link/product/5z4dviczn90t3oz...</td>\n",
       "      <td>NaN</td>\n",
       "    </tr>\n",
       "    <tr>\n",
       "      <th>6813</th>\n",
       "      <td>0</td>\n",
       "      <td>https://youtu.be/GHarFGFyhcI</td>\n",
       "      <td>PlanktonOk7672</td>\n",
       "      <td>0</td>\n",
       "      <td>https://youtu.be/GHarFGFyhcI</td>\n",
       "      <td>NaN</td>\n",
       "    </tr>\n",
       "    <tr>\n",
       "      <th>6909</th>\n",
       "      <td>0</td>\n",
       "      <td>https://www.allcanpost.com/top-most-visited-to...</td>\n",
       "      <td>allcanposthere</td>\n",
       "      <td>0</td>\n",
       "      <td>https://www.allcanpost.com/top-most-visited-to...</td>\n",
       "      <td>NaN</td>\n",
       "    </tr>\n",
       "    <tr>\n",
       "      <th>7509</th>\n",
       "      <td>0</td>\n",
       "      <td>햄찌</td>\n",
       "      <td>Maleficent-Try-3261</td>\n",
       "      <td>1</td>\n",
       "      <td>햄찌</td>\n",
       "      <td>NaN</td>\n",
       "    </tr>\n",
       "  </tbody>\n",
       "</table>\n",
       "</div>"
      ],
      "text/plain": [
       "      subreddit                                              title  \\\n",
       "136           1        https://moneysocial-huk.buzz/57371695859503   \n",
       "290           1  https://bostonu.qualtrics.com/jfe/form/SV_0CBF...   \n",
       "296           1                       https://youtu.be/PYvapmqsllo   \n",
       "484           1                 https://tegram.me/o3hatzB969EyZDg8   \n",
       "696           1                      شماره خاله واقعی0996.050.3889   \n",
       "989           1                       https://youtu.be/dVS9amLRldI   \n",
       "1073          1                https://ref.timesocial.co/KONTIHENE   \n",
       "1087          1      https://sharing.hopper.com/refer/veronikat9jb   \n",
       "1259          1        https://www.ywsf12.com/2023/02/Bitcoin.html   \n",
       "1513          1  [Work in Progress] AI Optimizer for Multi-Coun...   \n",
       "1603          1                       https://youtu.be/lv3B7LmNdMw   \n",
       "1773          1                       https://youtu.be/RkJWPbEegRc   \n",
       "1910          1                       https://youtu.be/XzTthnpk8H0   \n",
       "2173          1                                           Anything   \n",
       "2274          1           https://onlyfans.com/fernandinhavalle/c1   \n",
       "2332          1        ファイザーガコロナウイルスの外种を制造しテいることガ暴露され、売国奴ガあわテテ「反证」   \n",
       "2794          1   https://www.ywsf12.com/2023/01/blog-post_52.html   \n",
       "2853          1  𝐓𝐡𝐞 𝐭𝐫𝐚𝐯𝐞𝐥 𝐜𝐥𝐮𝐛 𝐟𝐨𝐫 𝐰𝐨𝐦𝐞𝐧: 𝐈𝐧𝐭𝐞𝐫𝐧𝐚𝐭𝐢𝐨𝐧𝐚𝐥 𝐯𝐚𝐜𝐚𝐭...   \n",
       "2858          1  https://www.facebook.com/americamundomx?mibext...   \n",
       "2868          1  https://ywsf-ywsf12.blogspot.com/2023/01/profi...   \n",
       "2875          1                               What do you say 🤔🤔🤔?   \n",
       "3013          1                             https://www.ywsf12.com   \n",
       "3131          1                       https://youtu.be/YLKhIuXFvOY   \n",
       "3166          1                    https://onlyfans.com/u267933808   \n",
       "3675          1                       https://youtu.be/OvO9RjsAM4s   \n",
       "3710          1           https://rainhatransportes.wordpress.com/   \n",
       "3753          1              https://youtube.com/@anjaliravipathak   \n",
       "3754          1                       https://youtu.be/4i24TYQ_s38   \n",
       "6382          0  https://thecasinocomps.com/resorts-world-how-t...   \n",
       "6387          0  https://blidz.app.link/product/5z4dviczn90t3oz...   \n",
       "6813          0                       https://youtu.be/GHarFGFyhcI   \n",
       "6909          0  https://www.allcanpost.com/top-most-visited-to...   \n",
       "7509          0                                                 햄찌   \n",
       "\n",
       "                    author  num_comments  \\\n",
       "136        Choice_Bid_7576             0   \n",
       "290    Lanky-University348             0   \n",
       "296         Alizeyvlog_786             0   \n",
       "484           bigcheeseeee             0   \n",
       "696   Aggressive-Whole8736             0   \n",
       "989          sanjeewa27050             0   \n",
       "1073  Hopeful_Example_3421             0   \n",
       "1087        LosingMyLife89             0   \n",
       "1259    Key-Reflection7007             0   \n",
       "1513              slakmehl             0   \n",
       "1603        CuriousMinds33             0   \n",
       "1773           George_Kein             0   \n",
       "1910            Natureopts             0   \n",
       "2173       Choice_Base2121             0   \n",
       "2274             Fefevalle             0   \n",
       "2332  Fun-Relationship-867             0   \n",
       "2794    Key-Reflection7007             0   \n",
       "2853             Jhume1976             0   \n",
       "2858             atefsaleh             0   \n",
       "2868    Key-Reflection7007             0   \n",
       "2875      questionblogpage             0   \n",
       "3013    Key-Reflection7007             0   \n",
       "3131  Visible-Raspberry-27             0   \n",
       "3166   Neither-Cabinet1029             0   \n",
       "3675                 yartd             0   \n",
       "3710   DocumentCertain5547             0   \n",
       "3753  Aggravating-Fox-4862             0   \n",
       "3754  Aggravating-Fox-4862             0   \n",
       "6382        TheCasinoComps             0   \n",
       "6387  Top_Entrepreneur_536             1   \n",
       "6813        PlanktonOk7672             0   \n",
       "6909        allcanposthere             0   \n",
       "7509   Maleficent-Try-3261             1   \n",
       "\n",
       "                                                   text text_cleaned  \n",
       "136        https://moneysocial-huk.buzz/57371695859503           NaN  \n",
       "290   https://bostonu.qualtrics.com/jfe/form/SV_0CBF...          NaN  \n",
       "296                       https://youtu.be/PYvapmqsllo           NaN  \n",
       "484                 https://tegram.me/o3hatzB969EyZDg8           NaN  \n",
       "696                      شماره خاله واقعی0996.050.3889           NaN  \n",
       "989                       https://youtu.be/dVS9amLRldI           NaN  \n",
       "1073               https://ref.timesocial.co/KONTIHENE           NaN  \n",
       "1087     https://sharing.hopper.com/refer/veronikat9jb           NaN  \n",
       "1259       https://www.ywsf12.com/2023/02/Bitcoin.html           NaN  \n",
       "1513  [Work in Progress] AI Optimizer for Multi-Coun...          NaN  \n",
       "1603                      https://youtu.be/lv3B7LmNdMw           NaN  \n",
       "1773                      https://youtu.be/RkJWPbEegRc           NaN  \n",
       "1910                      https://youtu.be/XzTthnpk8H0           NaN  \n",
       "2173                                          Anything           NaN  \n",
       "2274          https://onlyfans.com/fernandinhavalle/c1           NaN  \n",
       "2332       ファイザーガコロナウイルスの外种を制造しテいることガ暴露され、売国奴ガあわテテ「反证」           NaN  \n",
       "2794  https://www.ywsf12.com/2023/01/blog-post_52.html           NaN  \n",
       "2853  𝐓𝐡𝐞 𝐭𝐫𝐚𝐯𝐞𝐥 𝐜𝐥𝐮𝐛 𝐟𝐨𝐫 𝐰𝐨𝐦𝐞𝐧: 𝐈𝐧𝐭𝐞𝐫𝐧𝐚𝐭𝐢𝐨𝐧𝐚𝐥 𝐯𝐚𝐜𝐚𝐭...          NaN  \n",
       "2858  https://www.facebook.com/americamundomx?mibext...          NaN  \n",
       "2868  https://ywsf-ywsf12.blogspot.com/2023/01/profi...          NaN  \n",
       "2875  What do you say 🤔🤔🤔? [removed]\\n\\n[View Poll](...          NaN  \n",
       "3013                            https://www.ywsf12.com           NaN  \n",
       "3131                      https://youtu.be/YLKhIuXFvOY           NaN  \n",
       "3166                   https://onlyfans.com/u267933808           NaN  \n",
       "3675                      https://youtu.be/OvO9RjsAM4s           NaN  \n",
       "3710          https://rainhatransportes.wordpress.com/           NaN  \n",
       "3753             https://youtube.com/@anjaliravipathak           NaN  \n",
       "3754                      https://youtu.be/4i24TYQ_s38           NaN  \n",
       "6382  https://thecasinocomps.com/resorts-world-how-t...          NaN  \n",
       "6387  https://blidz.app.link/product/5z4dviczn90t3oz...          NaN  \n",
       "6813                      https://youtu.be/GHarFGFyhcI           NaN  \n",
       "6909  https://www.allcanpost.com/top-most-visited-to...          NaN  \n",
       "7509                                                햄찌           NaN  "
      ]
     },
     "execution_count": 5,
     "metadata": {},
     "output_type": "execute_result"
    }
   ],
   "source": [
    "# Nan value due to the text cleaning that returned no words\n",
    "df[bool_series]"
   ]
  },
  {
   "cell_type": "code",
   "execution_count": 6,
   "id": "16dc63f2",
   "metadata": {},
   "outputs": [],
   "source": [
    "# drop\n",
    "df.dropna(axis = 0, inplace = True)"
   ]
  },
  {
   "cell_type": "code",
   "execution_count": 7,
   "id": "f12032a8",
   "metadata": {
    "scrolled": true
   },
   "outputs": [
    {
     "name": "stdout",
     "output_type": "stream",
     "text": [
      "<class 'pandas.core.frame.DataFrame'>\n",
      "Int64Index: 7587 entries, 0 to 7619\n",
      "Data columns (total 6 columns):\n",
      " #   Column        Non-Null Count  Dtype \n",
      "---  ------        --------------  ----- \n",
      " 0   subreddit     7587 non-null   int64 \n",
      " 1   title         7587 non-null   object\n",
      " 2   author        7587 non-null   object\n",
      " 3   num_comments  7587 non-null   int64 \n",
      " 4   text          7587 non-null   object\n",
      " 5   text_cleaned  7587 non-null   object\n",
      "dtypes: int64(2), object(4)\n",
      "memory usage: 414.9+ KB\n"
     ]
    }
   ],
   "source": [
    "df.info()"
   ]
  },
  {
   "cell_type": "code",
   "execution_count": 8,
   "id": "acb9743b",
   "metadata": {},
   "outputs": [],
   "source": [
    "df.drop(columns = ['title', 'author','num_comments','text'], inplace = True)"
   ]
  },
  {
   "cell_type": "code",
   "execution_count": 9,
   "id": "9d4563d3",
   "metadata": {
    "scrolled": true
   },
   "outputs": [],
   "source": [
    "# Save to csv\n",
    "df.to_csv(\"../data/df_final.csv\", index=False)"
   ]
  },
  {
   "cell_type": "code",
   "execution_count": 10,
   "id": "89f68799",
   "metadata": {},
   "outputs": [],
   "source": [
    "df = pd.read_csv('../data/df_final.csv')"
   ]
  },
  {
   "cell_type": "markdown",
   "id": "121c8f8b",
   "metadata": {},
   "source": [
    "### Baseline accuracy"
   ]
  },
  {
   "cell_type": "code",
   "execution_count": 11,
   "id": "34202b4c",
   "metadata": {},
   "outputs": [],
   "source": [
    "#assign target and result to y and X then carry out train test split\n",
    "y = df['subreddit']\n",
    "X = df['text_cleaned']\n",
    "\n",
    "X_train, X_test, y_train, y_test = train_test_split(\n",
    "    X, y, test_size = 0.25, stratify=y, random_state=123)"
   ]
  },
  {
   "cell_type": "code",
   "execution_count": 12,
   "id": "22b29d96",
   "metadata": {
    "scrolled": true
   },
   "outputs": [
    {
     "data": {
      "text/plain": [
       "((5690,), (1897,))"
      ]
     },
     "execution_count": 12,
     "metadata": {},
     "output_type": "execute_result"
    }
   ],
   "source": [
    "X_train.shape, X_test.shape"
   ]
  },
  {
   "cell_type": "code",
   "execution_count": 13,
   "id": "0f5056ff",
   "metadata": {
    "scrolled": true
   },
   "outputs": [
    {
     "data": {
      "text/plain": [
       "0    0.506393\n",
       "1    0.493607\n",
       "Name: subreddit, dtype: float64"
      ]
     },
     "execution_count": 13,
     "metadata": {},
     "output_type": "execute_result"
    }
   ],
   "source": [
    "y.value_counts(normalize=True)"
   ]
  },
  {
   "cell_type": "code",
   "execution_count": 63,
   "id": "99386954",
   "metadata": {},
   "outputs": [],
   "source": [
    "# function to show frequent use unigrams, bigrams, and trigrams\n",
    "# adopted from class\n",
    "# credit: https://stackoverflow.com/questions/67504409/how-to-handle-out-of-vocab-words-with-bag-of-words\n",
    "\n",
    "def plot_top_words_cvec(df, col, n, ngram, title, palette = 'flare'):\n",
    "    def top_n_words(tokens, n=n, k=ngram):     \n",
    "        cvec = CountVectorizer(ngram_range=(k,k), stop_words='english').fit(tokens)     \n",
    "        cvec_counts = cvec.transform(tokens)     \n",
    "        sum_tokens = cvec_counts.sum(axis=0)      \n",
    "        tokens_freq = [(cvec_counts, sum_tokens[0, idx]) for cvec_counts, idx in cvec.vocabulary_.items()]    \n",
    "        tokens_freq =sorted(tokens_freq, key = lambda x: x[1], reverse=True) \n",
    "        return tokens_freq[:n]\n",
    "    tokens_df = pd.DataFrame(data=top_n_words(df[col], n), columns=['word','freq'])\n",
    "    plt.figure(figsize=(6,4))\n",
    "    sns.barplot(data=tokens_df, y='word', x='freq', palette=palette)\n",
    "    plt.ylabel('Word')\n",
    "    plt.xlabel('Frequency')\n",
    "    plt.title(title, fontsize=12)"
   ]
  },
  {
   "cell_type": "code",
   "execution_count": 64,
   "id": "c2df5129",
   "metadata": {
    "scrolled": false
   },
   "outputs": [
    {
     "data": {
      "image/png": "[encoded data removed]",
      "text/plain": [
       "<Figure size 600x400 with 1 Axes>"
      ]
     },
     "metadata": {},
     "output_type": "display_data"
    },
    {
     "data": {
      "image/png": "[encoded data removed]",
      "text/plain": [
       "<Figure size 600x400 with 1 Axes>"
      ]
     },
     "metadata": {},
     "output_type": "display_data"
    },
    {
     "data": {
      "image/png": "[encoded data removed]",
      "text/plain": [
       "<Figure size 600x400 with 1 Axes>"
      ]
     },
     "metadata": {},
     "output_type": "display_data"
    }
   ],
   "source": [
    "plot_top_words_cvec(df,'text_cleaned', 15, 1, 'Top 15 Unigrams via CountVectorizer')\n",
    "plot_top_words_cvec(df,'text_cleaned', 15, 2, 'Top 15 Bigrams via CountVectorizer')\n",
    "plot_top_words_cvec(df,'text_cleaned', 15, 3, 'Top 15 Trigrams via CountVectorizer')"
   ]
  },
  {
   "cell_type": "code",
   "execution_count": 65,
   "id": "cdaa2efe",
   "metadata": {},
   "outputs": [],
   "source": [
    "# function to show frequent use unigrams, bigrams, and trigrams\n",
    "# adopted from class\n",
    "# credit: https://stackoverflow.com/questions/67504409/how-to-handle-out-of-vocab-words-with-bag-of-words\n",
    "\n",
    "def plot_top_words_tvec(df, col, n, ngram, title, palette = 'crest'):\n",
    "    def top_n_words(tokens, n=n, k=ngram):     \n",
    "        tvec = TfidfVectorizer(ngram_range=(k,k), stop_words='english').fit(tokens)     \n",
    "        tvec_counts = tvec.transform(tokens)     \n",
    "        sum_tokens = tvec_counts.sum(axis=0)      \n",
    "        tokens_freq = [(tvec_counts, sum_tokens[0, idx]) for tvec_counts, idx in tvec.vocabulary_.items()]    \n",
    "        tokens_freq =sorted(tokens_freq, key = lambda x: x[1], reverse=True) \n",
    "        return tokens_freq[:n]\n",
    "    tokens_df = pd.DataFrame(data=top_n_words(df[col], n), columns=['word','freq'])\n",
    "    plt.figure(figsize=(6,4))\n",
    "    sns.barplot(data=tokens_df, y='word', x='freq', palette=palette)\n",
    "    plt.ylabel('Word')\n",
    "    plt.xlabel('Frequency')\n",
    "    plt.title(title, fontsize=12)"
   ]
  },
  {
   "cell_type": "code",
   "execution_count": 66,
   "id": "8d5666b7",
   "metadata": {
    "scrolled": false
   },
   "outputs": [
    {
     "data": {
      "image/png": "[encoded data removed]",
      "text/plain": [
       "<Figure size 600x400 with 1 Axes>"
      ]
     },
     "metadata": {},
     "output_type": "display_data"
    },
    {
     "data": {
      "image/png": "[encoded data removed]",
      "text/plain": [
       "<Figure size 600x400 with 1 Axes>"
      ]
     },
     "metadata": {},
     "output_type": "display_data"
    },
    {
     "data": {
      "image/png": "[encoded data removed]",
      "text/plain": [
       "<Figure size 600x400 with 1 Axes>"
      ]
     },
     "metadata": {},
     "output_type": "display_data"
    }
   ],
   "source": [
    "plot_top_words_tvec(df,'text_cleaned', 15, 1, 'Top 15 Unigrams via TfidfVectorizer')\n",
    "plot_top_words_tvec(df,'text_cleaned', 15, 2, 'Top 15 Bigrams via TfidfVectorizer')\n",
    "plot_top_words_tvec(df,'text_cleaned', 15, 3, 'Top 15 Trigrams via TfidfVectorizer')"
   ]
  },
  {
   "cell_type": "code",
   "execution_count": 477,
   "id": "4e4d6cb8",
   "metadata": {},
   "outputs": [],
   "source": [
    "from sklearn import set_config"
   ]
  },
  {
   "cell_type": "code",
   "execution_count": 478,
   "id": "23da2fbb",
   "metadata": {},
   "outputs": [],
   "source": [
    "set_config(transform_output='pandas')"
   ]
  },
  {
   "cell_type": "code",
   "execution_count": 479,
   "id": "9d8aa67a",
   "metadata": {},
   "outputs": [],
   "source": [
    "# adopted from class\n",
    "# Instantiate a CountVectorizer.\n",
    "cvec = CountVectorizer()\n",
    "\n",
    "# Fit the vectorizer on our corpus.\n",
    "cvec.fit(X_train)\n",
    "\n",
    "# Transform the corpus.\n",
    "X_train = cvec.transform(X_train)\n",
    "\n",
    "X_test = cvec.transform(X_test)"
   ]
  },
  {
   "cell_type": "code",
   "execution_count": 480,
   "id": "156f06fe",
   "metadata": {},
   "outputs": [],
   "source": [
    "# Convert X_train into a DataFrame.\n",
    "# We will not actually use this for modeling,\n",
    "# this is just to visualize what is happening\n",
    "X_train_df = pd.DataFrame(X_train.todense(), \n",
    "                          columns=cvec.get_feature_names_out())"
   ]
  },
  {
   "cell_type": "code",
   "execution_count": 486,
   "id": "bc1f8370",
   "metadata": {},
   "outputs": [],
   "source": [
    "train_df=X_train_df.copy()\n",
    "train_df['subreddit']=y_train.values"
   ]
  },
  {
   "cell_type": "code",
   "execution_count": 487,
   "id": "fe92cc4c",
   "metadata": {},
   "outputs": [],
   "source": [
    "check = X_train_df[y_train.reset_index(drop=True)==0]"
   ]
  },
  {
   "cell_type": "code",
   "execution_count": 488,
   "id": "b87ee773",
   "metadata": {
    "scrolled": true
   },
   "outputs": [
    {
     "data": {
      "text/plain": [
       "liability    0.000000\n",
       "library      0.000000\n",
       "liberated    0.000000\n",
       "lgbtq        0.000000\n",
       "lexyy        0.000000\n",
       "               ...   \n",
       "book         0.445331\n",
       "mile         0.534884\n",
       "award        0.542520\n",
       "flight       1.080528\n",
       "point        1.236029\n",
       "Length: 11274, dtype: float64"
      ]
     },
     "execution_count": 488,
     "metadata": {},
     "output_type": "execute_result"
    }
   ],
   "source": [
    "check.sum().sort_values()/len(check)"
   ]
  },
  {
   "cell_type": "code",
   "execution_count": 489,
   "id": "a301d704",
   "metadata": {
    "scrolled": false
   },
   "outputs": [
    {
     "data": {
      "image/png": "[encoded data removed]",
      "text/plain": [
       "<Figure size 1000x500 with 2 Axes>"
      ]
     },
     "metadata": {},
     "output_type": "display_data"
    }
   ],
   "source": [
    "fig, axs = plt.subplots(1, 2, figsize=(10,5), sharex=True)\n",
    "\n",
    "for i in range(2):\n",
    "    trsvelhack = X_train_df[y_train.reset_index(drop=True)==i]\n",
    "    (trsvelhack.sum().sort_values()/len(trsvelhack)).tail(10).plot(kind='barh', ax=axs[i])\n",
    "    axs[i].set_title(['AwardTravel', 'TravelHacks'][i])\n",
    "    axs[i].set_xlabel('Normalized Corpus Frequency')\n",
    "    \n",
    "plt.suptitle('Most Popular Unigrams by Class');"
   ]
  },
  {
   "cell_type": "code",
   "execution_count": 479,
   "id": "3e90c818",
   "metadata": {},
   "outputs": [],
   "source": [
    "# adopted from class\n",
    "# Instantiate a CountVectorizer.\n",
    "\n",
    "tvec = TfidfVectorizer()\n",
    "\n",
    "# Fit the vectorizer on our corpus.\n",
    "tvec.fit(X_train)\n",
    "\n",
    "# Transform the corpus.\n",
    "X_train_tvec = tvec.transform(X_train)\n",
    "\n",
    "X_test_tvec = tvec.transform(X_test)"
   ]
  },
  {
   "cell_type": "code",
   "execution_count": 480,
   "id": "b4128cb0",
   "metadata": {},
   "outputs": [],
   "source": [
    "# Convert X_train into a DataFrame.\n",
    "# We will not actually use this for modeling,\n",
    "# this is just to visualize what is happening\n",
    "X_train_df = pd.DataFrame(X_train_tvec.todense(), \n",
    "                          columns=tvec.get_feature_names_out())"
   ]
  },
  {
   "cell_type": "code",
   "execution_count": 486,
   "id": "2752ffa0",
   "metadata": {},
   "outputs": [],
   "source": [
    "train_df=X_train_df.copy()\n",
    "train_df['subreddit']=y_train.values"
   ]
  },
  {
   "cell_type": "code",
   "execution_count": 487,
   "id": "d15b324d",
   "metadata": {},
   "outputs": [],
   "source": [
    "check = X_train_df[y_train.reset_index(drop=True)==0]"
   ]
  },
  {
   "cell_type": "code",
   "execution_count": 488,
   "id": "bf5da031",
   "metadata": {
    "scrolled": true
   },
   "outputs": [
    {
     "data": {
      "text/plain": [
       "liability    0.000000\n",
       "library      0.000000\n",
       "liberated    0.000000\n",
       "lgbtq        0.000000\n",
       "lexyy        0.000000\n",
       "               ...   \n",
       "book         0.445331\n",
       "mile         0.534884\n",
       "award        0.542520\n",
       "flight       1.080528\n",
       "point        1.236029\n",
       "Length: 11274, dtype: float64"
      ]
     },
     "execution_count": 488,
     "metadata": {},
     "output_type": "execute_result"
    }
   ],
   "source": [
    "check.sum().sort_values()/len(check)"
   ]
  },
  {
   "cell_type": "code",
   "execution_count": 67,
   "id": "260a7ee4",
   "metadata": {
    "scrolled": true
   },
   "outputs": [
    {
     "data": {
      "image/png": "[encoded data removed]",
      "text/plain": [
       "<Figure size 1000x500 with 2 Axes>"
      ]
     },
     "metadata": {},
     "output_type": "display_data"
    }
   ],
   "source": [
    "# adopted from class\n",
    "fig, axs = plt.subplots(1, 2, figsize=(10,5), sharex=True)\n",
    "\n",
    "for i in range(2):\n",
    "    travelhack = X_train_df_tvec[y_train.reset_index(drop=True)==i]\n",
    "    (travelhack.sum().sort_values()/len(travelhack)).tail(10).plot(kind='barh', ax=axs[i])\n",
    "    axs[i].set_title(['AwardTravel', 'TravelHacks'][i])\n",
    "    axs[i].set_xlabel('Normalized Corpus Frequency')\n",
    "    \n",
    "plt.suptitle('Most Popular Unigrams by Class via TFidf');"
   ]
  },
  {
   "cell_type": "markdown",
   "id": "e7f52a33",
   "metadata": {},
   "source": [
    "### Modeling"
   ]
  },
  {
   "cell_type": "code",
   "execution_count": 109,
   "id": "03a43c35",
   "metadata": {},
   "outputs": [],
   "source": [
    "# function to save score in datafram for easy comparison\n",
    "# credit: https://stackoverflow.com/questions/64039664/combine-metrics-results-into-a-dataframe-python\n",
    "list_of_rows = []\n",
    "score_df = pd.DataFrame()\n",
    "\n",
    "def modelscore(pipe, gs, transformer, model):\n",
    "    column = pd.Series({\"GridSearch\": gs,\n",
    "        \"Transformer\": transformer, #CountVectorizer,TfidfVectorizer\n",
    "        \"Model\" : model, #Logistic, MultinomialNB\n",
    "        \"cross_val_score\": cross_val_score(pipe, X_train, y_train, cv=5).mean(),\n",
    "        \"Train Score\" : pipe.score(X_train,y_train),\n",
    "        \"Test Score\" : pipe.score(X_test,y_test)\n",
    "               })\n",
    "    list_of_rows.append(column) \n",
    "    global score_df\n",
    "    score_df = pd.DataFrame(list_of_rows)\n",
    "    print(score_df)"
   ]
  },
  {
   "cell_type": "code",
   "execution_count": 110,
   "id": "754b29b5",
   "metadata": {},
   "outputs": [],
   "source": [
    "#assign target and result to y and X then carry out train test split\n",
    "y = df['subreddit']\n",
    "X = df['text_cleaned']\n",
    "\n",
    "X_train, X_test, y_train, y_test = train_test_split(\n",
    "    X, y, test_size = 0.25, stratify=y, random_state=123)"
   ]
  },
  {
   "cell_type": "markdown",
   "id": "292259ad",
   "metadata": {},
   "source": [
    "#### Model 1: CountVectorizer and LogisticRegression"
   ]
  },
  {
   "cell_type": "code",
   "execution_count": 111,
   "id": "cdbda231",
   "metadata": {},
   "outputs": [],
   "source": [
    "# set a pipeline up with two stages: CountVectorizer (transformer) and LogisticRegression (estimator)\n",
    "pipe_log = Pipeline([('cvec', CountVectorizer()),\n",
    "                 ('log', LogisticRegression())\n",
    "                ])"
   ]
  },
  {
   "cell_type": "code",
   "execution_count": 112,
   "id": "00b4d686",
   "metadata": {},
   "outputs": [
    {
     "data": {
      "text/html": [
       "<style>#sk-container-id-3 {color: black;background-color: white;}#sk-container-id-3 pre{padding: 0;}#sk-container-id-3 div.sk-toggleable {background-color: white;}#sk-container-id-3 label.sk-toggleable__label {cursor: pointer;display: block;width: 100%;margin-bottom: 0;padding: 0.3em;box-sizing: border-box;text-align: center;}#sk-container-id-3 label.sk-toggleable__label-arrow:before {content: \"▸\";float: left;margin-right: 0.25em;color: #696969;}#sk-container-id-3 label.sk-toggleable__label-arrow:hover:before {color: black;}#sk-container-id-3 div.sk-estimator:hover label.sk-toggleable__label-arrow:before {color: black;}#sk-container-id-3 div.sk-toggleable__content {max-height: 0;max-width: 0;overflow: hidden;text-align: left;background-color: #f0f8ff;}#sk-container-id-3 div.sk-toggleable__content pre {margin: 0.2em;color: black;border-radius: 0.25em;background-color: #f0f8ff;}#sk-container-id-3 input.sk-toggleable__control:checked~div.sk-toggleable__content {max-height: 200px;max-width: 100%;overflow: auto;}#sk-container-id-3 input.sk-toggleable__control:checked~label.sk-toggleable__label-arrow:before {content: \"▾\";}#sk-container-id-3 div.sk-estimator input.sk-toggleable__control:checked~label.sk-toggleable__label {background-color: #d4ebff;}#sk-container-id-3 div.sk-label input.sk-toggleable__control:checked~label.sk-toggleable__label {background-color: #d4ebff;}#sk-container-id-3 input.sk-hidden--visually {border: 0;clip: rect(1px 1px 1px 1px);clip: rect(1px, 1px, 1px, 1px);height: 1px;margin: -1px;overflow: hidden;padding: 0;position: absolute;width: 1px;}#sk-container-id-3 div.sk-estimator {font-family: monospace;background-color: #f0f8ff;border: 1px dotted black;border-radius: 0.25em;box-sizing: border-box;margin-bottom: 0.5em;}#sk-container-id-3 div.sk-estimator:hover {background-color: #d4ebff;}#sk-container-id-3 div.sk-parallel-item::after {content: \"\";width: 100%;border-bottom: 1px solid gray;flex-grow: 1;}#sk-container-id-3 div.sk-label:hover label.sk-toggleable__label {background-color: #d4ebff;}#sk-container-id-3 div.sk-serial::before {content: \"\";position: absolute;border-left: 1px solid gray;box-sizing: border-box;top: 0;bottom: 0;left: 50%;z-index: 0;}#sk-container-id-3 div.sk-serial {display: flex;flex-direction: column;align-items: center;background-color: white;padding-right: 0.2em;padding-left: 0.2em;position: relative;}#sk-container-id-3 div.sk-item {position: relative;z-index: 1;}#sk-container-id-3 div.sk-parallel {display: flex;align-items: stretch;justify-content: center;background-color: white;position: relative;}#sk-container-id-3 div.sk-item::before, #sk-container-id-3 div.sk-parallel-item::before {content: \"\";position: absolute;border-left: 1px solid gray;box-sizing: border-box;top: 0;bottom: 0;left: 50%;z-index: -1;}#sk-container-id-3 div.sk-parallel-item {display: flex;flex-direction: column;z-index: 1;position: relative;background-color: white;}#sk-container-id-3 div.sk-parallel-item:first-child::after {align-self: flex-end;width: 50%;}#sk-container-id-3 div.sk-parallel-item:last-child::after {align-self: flex-start;width: 50%;}#sk-container-id-3 div.sk-parallel-item:only-child::after {width: 0;}#sk-container-id-3 div.sk-dashed-wrapped {border: 1px dashed gray;margin: 0 0.4em 0.5em 0.4em;box-sizing: border-box;padding-bottom: 0.4em;background-color: white;}#sk-container-id-3 div.sk-label label {font-family: monospace;font-weight: bold;display: inline-block;line-height: 1.2em;}#sk-container-id-3 div.sk-label-container {text-align: center;}#sk-container-id-3 div.sk-container {/* jupyter's `normalize.less` sets `[hidden] { display: none; }` but bootstrap.min.css set `[hidden] { display: none !important; }` so we also need the `!important` here to be able to override the default hidden behavior on the sphinx rendered scikit-learn.org. See: https://github.com/scikit-learn/scikit-learn/issues/21755 */display: inline-block !important;position: relative;}#sk-container-id-3 div.sk-text-repr-fallback {display: none;}</style><div id=\"sk-container-id-3\" class=\"sk-top-container\"><div class=\"sk-text-repr-fallback\"><pre>Pipeline(steps=[(&#x27;cvec&#x27;, CountVectorizer()), (&#x27;log&#x27;, LogisticRegression())])</pre><b>In a Jupyter environment, please rerun this cell to show the HTML representation or trust the notebook. <br />On GitHub, the HTML representation is unable to render, please try loading this page with nbviewer.org.</b></div><div class=\"sk-container\" hidden><div class=\"sk-item sk-dashed-wrapped\"><div class=\"sk-label-container\"><div class=\"sk-label sk-toggleable\"><input class=\"sk-toggleable__control sk-hidden--visually\" id=\"sk-estimator-id-8\" type=\"checkbox\" ><label for=\"sk-estimator-id-8\" class=\"sk-toggleable__label sk-toggleable__label-arrow\">Pipeline</label><div class=\"sk-toggleable__content\"><pre>Pipeline(steps=[(&#x27;cvec&#x27;, CountVectorizer()), (&#x27;log&#x27;, LogisticRegression())])</pre></div></div></div><div class=\"sk-serial\"><div class=\"sk-item\"><div class=\"sk-estimator sk-toggleable\"><input class=\"sk-toggleable__control sk-hidden--visually\" id=\"sk-estimator-id-9\" type=\"checkbox\" ><label for=\"sk-estimator-id-9\" class=\"sk-toggleable__label sk-toggleable__label-arrow\">CountVectorizer</label><div class=\"sk-toggleable__content\"><pre>CountVectorizer()</pre></div></div></div><div class=\"sk-item\"><div class=\"sk-estimator sk-toggleable\"><input class=\"sk-toggleable__control sk-hidden--visually\" id=\"sk-estimator-id-10\" type=\"checkbox\" ><label for=\"sk-estimator-id-10\" class=\"sk-toggleable__label sk-toggleable__label-arrow\">LogisticRegression</label><div class=\"sk-toggleable__content\"><pre>LogisticRegression()</pre></div></div></div></div></div></div></div>"
      ],
      "text/plain": [
       "Pipeline(steps=[('cvec', CountVectorizer()), ('log', LogisticRegression())])"
      ]
     },
     "execution_count": 112,
     "metadata": {},
     "output_type": "execute_result"
    }
   ],
   "source": [
    "# fit\n",
    "pipe_log.fit(X_train, y_train)"
   ]
  },
  {
   "cell_type": "code",
   "execution_count": 113,
   "id": "a0ea8303",
   "metadata": {
    "scrolled": true
   },
   "outputs": [
    {
     "data": {
      "text/plain": [
       "array([0.90509666, 0.91300527, 0.89806678, 0.9059754 , 0.91300527])"
      ]
     },
     "execution_count": 113,
     "metadata": {},
     "output_type": "execute_result"
    }
   ],
   "source": [
    "cross_val_score(pipe_log, X_train, y_train, cv=5)"
   ]
  },
  {
   "cell_type": "code",
   "execution_count": 114,
   "id": "e473f192",
   "metadata": {},
   "outputs": [
    {
     "name": "stdout",
     "output_type": "stream",
     "text": [
      "  GridSearch Transformer     Model  cross_val_score  Train Score  Test Score\n",
      "0          -       CVect  Logistic          0.90703     0.974868    0.906168\n"
     ]
    }
   ],
   "source": [
    "modelscore(pipe_log, '-', 'CVect', 'Logistic')"
   ]
  },
  {
   "cell_type": "code",
   "execution_count": 90,
   "id": "42fcb46e",
   "metadata": {
    "scrolled": true
   },
   "outputs": [
    {
     "data": {
      "text/plain": [
       "dict_keys(['memory', 'steps', 'verbose', 'cvec', 'log', 'cvec__analyzer', 'cvec__binary', 'cvec__decode_error', 'cvec__dtype', 'cvec__encoding', 'cvec__input', 'cvec__lowercase', 'cvec__max_df', 'cvec__max_features', 'cvec__min_df', 'cvec__ngram_range', 'cvec__preprocessor', 'cvec__stop_words', 'cvec__strip_accents', 'cvec__token_pattern', 'cvec__tokenizer', 'cvec__vocabulary', 'log__C', 'log__class_weight', 'log__dual', 'log__fit_intercept', 'log__intercept_scaling', 'log__l1_ratio', 'log__max_iter', 'log__multi_class', 'log__n_jobs', 'log__penalty', 'log__random_state', 'log__solver', 'log__tol', 'log__verbose', 'log__warm_start'])"
      ]
     },
     "execution_count": 90,
     "metadata": {},
     "output_type": "execute_result"
    }
   ],
   "source": [
    "# check the adjustable parameters\n",
    "pipe_log.get_params().keys()"
   ]
  },
  {
   "cell_type": "code",
   "execution_count": 91,
   "id": "f2af4b20",
   "metadata": {},
   "outputs": [],
   "source": [
    "# Search over the following values of hyperparameters:\n",
    "# Maximum number of features fit: 2000, 3000, 4000\n",
    "# Minimum number of documents needed to include token: 1, 2, 3\n",
    "# Maximum number of documents needed to include token: 40%, 50%, 60%, 70%\n",
    "# Check (individual tokens) and also check (individual tokens and 2-grams).\n",
    "\n",
    "pipe_params = {\n",
    "    'cvec__max_features': [2000, 3000, 4000],\n",
    "    'cvec__min_df': [1, 2, 3],\n",
    "    'cvec__max_df': [.4, .5, .6, .7],\n",
    "    'cvec__ngram_range': [(1,1), (1,2)],\n",
    "    'cvec__stop_words' : ['english', None]\n",
    "}"
   ]
  },
  {
   "cell_type": "code",
   "execution_count": 92,
   "id": "495a9bcb",
   "metadata": {},
   "outputs": [],
   "source": [
    "# Instantiate GridSearchCV.\n",
    "gs_1 = GridSearchCV(pipe_log,\n",
    "                  pipe_params,\n",
    "                  cv=5)"
   ]
  },
  {
   "cell_type": "code",
   "execution_count": 93,
   "id": "b5acfb39",
   "metadata": {
    "scrolled": true
   },
   "outputs": [
    {
     "data": {
      "text/html": [
       "<style>#sk-container-id-2 {color: black;background-color: white;}#sk-container-id-2 pre{padding: 0;}#sk-container-id-2 div.sk-toggleable {background-color: white;}#sk-container-id-2 label.sk-toggleable__label {cursor: pointer;display: block;width: 100%;margin-bottom: 0;padding: 0.3em;box-sizing: border-box;text-align: center;}#sk-container-id-2 label.sk-toggleable__label-arrow:before {content: \"▸\";float: left;margin-right: 0.25em;color: #696969;}#sk-container-id-2 label.sk-toggleable__label-arrow:hover:before {color: black;}#sk-container-id-2 div.sk-estimator:hover label.sk-toggleable__label-arrow:before {color: black;}#sk-container-id-2 div.sk-toggleable__content {max-height: 0;max-width: 0;overflow: hidden;text-align: left;background-color: #f0f8ff;}#sk-container-id-2 div.sk-toggleable__content pre {margin: 0.2em;color: black;border-radius: 0.25em;background-color: #f0f8ff;}#sk-container-id-2 input.sk-toggleable__control:checked~div.sk-toggleable__content {max-height: 200px;max-width: 100%;overflow: auto;}#sk-container-id-2 input.sk-toggleable__control:checked~label.sk-toggleable__label-arrow:before {content: \"▾\";}#sk-container-id-2 div.sk-estimator input.sk-toggleable__control:checked~label.sk-toggleable__label {background-color: #d4ebff;}#sk-container-id-2 div.sk-label input.sk-toggleable__control:checked~label.sk-toggleable__label {background-color: #d4ebff;}#sk-container-id-2 input.sk-hidden--visually {border: 0;clip: rect(1px 1px 1px 1px);clip: rect(1px, 1px, 1px, 1px);height: 1px;margin: -1px;overflow: hidden;padding: 0;position: absolute;width: 1px;}#sk-container-id-2 div.sk-estimator {font-family: monospace;background-color: #f0f8ff;border: 1px dotted black;border-radius: 0.25em;box-sizing: border-box;margin-bottom: 0.5em;}#sk-container-id-2 div.sk-estimator:hover {background-color: #d4ebff;}#sk-container-id-2 div.sk-parallel-item::after {content: \"\";width: 100%;border-bottom: 1px solid gray;flex-grow: 1;}#sk-container-id-2 div.sk-label:hover label.sk-toggleable__label {background-color: #d4ebff;}#sk-container-id-2 div.sk-serial::before {content: \"\";position: absolute;border-left: 1px solid gray;box-sizing: border-box;top: 0;bottom: 0;left: 50%;z-index: 0;}#sk-container-id-2 div.sk-serial {display: flex;flex-direction: column;align-items: center;background-color: white;padding-right: 0.2em;padding-left: 0.2em;position: relative;}#sk-container-id-2 div.sk-item {position: relative;z-index: 1;}#sk-container-id-2 div.sk-parallel {display: flex;align-items: stretch;justify-content: center;background-color: white;position: relative;}#sk-container-id-2 div.sk-item::before, #sk-container-id-2 div.sk-parallel-item::before {content: \"\";position: absolute;border-left: 1px solid gray;box-sizing: border-box;top: 0;bottom: 0;left: 50%;z-index: -1;}#sk-container-id-2 div.sk-parallel-item {display: flex;flex-direction: column;z-index: 1;position: relative;background-color: white;}#sk-container-id-2 div.sk-parallel-item:first-child::after {align-self: flex-end;width: 50%;}#sk-container-id-2 div.sk-parallel-item:last-child::after {align-self: flex-start;width: 50%;}#sk-container-id-2 div.sk-parallel-item:only-child::after {width: 0;}#sk-container-id-2 div.sk-dashed-wrapped {border: 1px dashed gray;margin: 0 0.4em 0.5em 0.4em;box-sizing: border-box;padding-bottom: 0.4em;background-color: white;}#sk-container-id-2 div.sk-label label {font-family: monospace;font-weight: bold;display: inline-block;line-height: 1.2em;}#sk-container-id-2 div.sk-label-container {text-align: center;}#sk-container-id-2 div.sk-container {/* jupyter's `normalize.less` sets `[hidden] { display: none; }` but bootstrap.min.css set `[hidden] { display: none !important; }` so we also need the `!important` here to be able to override the default hidden behavior on the sphinx rendered scikit-learn.org. See: https://github.com/scikit-learn/scikit-learn/issues/21755 */display: inline-block !important;position: relative;}#sk-container-id-2 div.sk-text-repr-fallback {display: none;}</style><div id=\"sk-container-id-2\" class=\"sk-top-container\"><div class=\"sk-text-repr-fallback\"><pre>GridSearchCV(cv=5,\n",
       "             estimator=Pipeline(steps=[(&#x27;cvec&#x27;, CountVectorizer()),\n",
       "                                       (&#x27;log&#x27;, LogisticRegression())]),\n",
       "             param_grid={&#x27;cvec__max_df&#x27;: [0.4, 0.5, 0.6, 0.7],\n",
       "                         &#x27;cvec__max_features&#x27;: [2000, 3000, 4000],\n",
       "                         &#x27;cvec__min_df&#x27;: [1, 2, 3],\n",
       "                         &#x27;cvec__ngram_range&#x27;: [(1, 1), (1, 2)],\n",
       "                         &#x27;cvec__stop_words&#x27;: [&#x27;english&#x27;, None]})</pre><b>In a Jupyter environment, please rerun this cell to show the HTML representation or trust the notebook. <br />On GitHub, the HTML representation is unable to render, please try loading this page with nbviewer.org.</b></div><div class=\"sk-container\" hidden><div class=\"sk-item sk-dashed-wrapped\"><div class=\"sk-label-container\"><div class=\"sk-label sk-toggleable\"><input class=\"sk-toggleable__control sk-hidden--visually\" id=\"sk-estimator-id-4\" type=\"checkbox\" ><label for=\"sk-estimator-id-4\" class=\"sk-toggleable__label sk-toggleable__label-arrow\">GridSearchCV</label><div class=\"sk-toggleable__content\"><pre>GridSearchCV(cv=5,\n",
       "             estimator=Pipeline(steps=[(&#x27;cvec&#x27;, CountVectorizer()),\n",
       "                                       (&#x27;log&#x27;, LogisticRegression())]),\n",
       "             param_grid={&#x27;cvec__max_df&#x27;: [0.4, 0.5, 0.6, 0.7],\n",
       "                         &#x27;cvec__max_features&#x27;: [2000, 3000, 4000],\n",
       "                         &#x27;cvec__min_df&#x27;: [1, 2, 3],\n",
       "                         &#x27;cvec__ngram_range&#x27;: [(1, 1), (1, 2)],\n",
       "                         &#x27;cvec__stop_words&#x27;: [&#x27;english&#x27;, None]})</pre></div></div></div><div class=\"sk-parallel\"><div class=\"sk-parallel-item\"><div class=\"sk-item\"><div class=\"sk-label-container\"><div class=\"sk-label sk-toggleable\"><input class=\"sk-toggleable__control sk-hidden--visually\" id=\"sk-estimator-id-5\" type=\"checkbox\" ><label for=\"sk-estimator-id-5\" class=\"sk-toggleable__label sk-toggleable__label-arrow\">estimator: Pipeline</label><div class=\"sk-toggleable__content\"><pre>Pipeline(steps=[(&#x27;cvec&#x27;, CountVectorizer()), (&#x27;log&#x27;, LogisticRegression())])</pre></div></div></div><div class=\"sk-serial\"><div class=\"sk-item\"><div class=\"sk-serial\"><div class=\"sk-item\"><div class=\"sk-estimator sk-toggleable\"><input class=\"sk-toggleable__control sk-hidden--visually\" id=\"sk-estimator-id-6\" type=\"checkbox\" ><label for=\"sk-estimator-id-6\" class=\"sk-toggleable__label sk-toggleable__label-arrow\">CountVectorizer</label><div class=\"sk-toggleable__content\"><pre>CountVectorizer()</pre></div></div></div><div class=\"sk-item\"><div class=\"sk-estimator sk-toggleable\"><input class=\"sk-toggleable__control sk-hidden--visually\" id=\"sk-estimator-id-7\" type=\"checkbox\" ><label for=\"sk-estimator-id-7\" class=\"sk-toggleable__label sk-toggleable__label-arrow\">LogisticRegression</label><div class=\"sk-toggleable__content\"><pre>LogisticRegression()</pre></div></div></div></div></div></div></div></div></div></div></div></div>"
      ],
      "text/plain": [
       "GridSearchCV(cv=5,\n",
       "             estimator=Pipeline(steps=[('cvec', CountVectorizer()),\n",
       "                                       ('log', LogisticRegression())]),\n",
       "             param_grid={'cvec__max_df': [0.4, 0.5, 0.6, 0.7],\n",
       "                         'cvec__max_features': [2000, 3000, 4000],\n",
       "                         'cvec__min_df': [1, 2, 3],\n",
       "                         'cvec__ngram_range': [(1, 1), (1, 2)],\n",
       "                         'cvec__stop_words': ['english', None]})"
      ]
     },
     "execution_count": 93,
     "metadata": {},
     "output_type": "execute_result"
    }
   ],
   "source": [
    "gs_1.fit(X_train, y_train)"
   ]
  },
  {
   "cell_type": "code",
   "execution_count": 94,
   "id": "0bd29df4",
   "metadata": {
    "scrolled": true
   },
   "outputs": [
    {
     "data": {
      "text/plain": [
       "{'cvec__max_df': 0.4,\n",
       " 'cvec__max_features': 4000,\n",
       " 'cvec__min_df': 1,\n",
       " 'cvec__ngram_range': (1, 2),\n",
       " 'cvec__stop_words': None}"
      ]
     },
     "execution_count": 94,
     "metadata": {},
     "output_type": "execute_result"
    }
   ],
   "source": [
    "gs_1.best_params_"
   ]
  },
  {
   "cell_type": "code",
   "execution_count": 95,
   "id": "1c2010ba",
   "metadata": {
    "scrolled": true
   },
   "outputs": [
    {
     "data": {
      "text/plain": [
       "0.90896309314587"
      ]
     },
     "execution_count": 95,
     "metadata": {},
     "output_type": "execute_result"
    }
   ],
   "source": [
    "gs_1.best_score_"
   ]
  },
  {
   "cell_type": "code",
   "execution_count": 115,
   "id": "4d2a9cd0",
   "metadata": {
    "scrolled": true
   },
   "outputs": [
    {
     "name": "stdout",
     "output_type": "stream",
     "text": [
      "  GridSearch Transformer     Model  cross_val_score  Train Score  Test Score\n",
      "0          -       CVect  Logistic         0.907030     0.974868    0.906168\n",
      "1          +       CVect  Logistic         0.907733     0.975747    0.912493\n"
     ]
    }
   ],
   "source": [
    "modelscore(gs_1, '+', 'CVect', 'Logistic')"
   ]
  },
  {
   "cell_type": "markdown",
   "id": "f57ec5b6",
   "metadata": {},
   "source": [
    "#### Model 2: CountVectorizer and MultinomialNB"
   ]
  },
  {
   "cell_type": "code",
   "execution_count": 116,
   "id": "21746bbb",
   "metadata": {},
   "outputs": [],
   "source": [
    "# set a pipeline up with two stages: CountVectorizer (transformer) and MultinomialNB (estimator)\n",
    "pipe_nb = Pipeline([('cvec', CountVectorizer()),\n",
    "                 ('nb', MultinomialNB())\n",
    "                ])"
   ]
  },
  {
   "cell_type": "code",
   "execution_count": 117,
   "id": "61e25ca7",
   "metadata": {},
   "outputs": [
    {
     "data": {
      "text/html": [
       "<style>#sk-container-id-4 {color: black;background-color: white;}#sk-container-id-4 pre{padding: 0;}#sk-container-id-4 div.sk-toggleable {background-color: white;}#sk-container-id-4 label.sk-toggleable__label {cursor: pointer;display: block;width: 100%;margin-bottom: 0;padding: 0.3em;box-sizing: border-box;text-align: center;}#sk-container-id-4 label.sk-toggleable__label-arrow:before {content: \"▸\";float: left;margin-right: 0.25em;color: #696969;}#sk-container-id-4 label.sk-toggleable__label-arrow:hover:before {color: black;}#sk-container-id-4 div.sk-estimator:hover label.sk-toggleable__label-arrow:before {color: black;}#sk-container-id-4 div.sk-toggleable__content {max-height: 0;max-width: 0;overflow: hidden;text-align: left;background-color: #f0f8ff;}#sk-container-id-4 div.sk-toggleable__content pre {margin: 0.2em;color: black;border-radius: 0.25em;background-color: #f0f8ff;}#sk-container-id-4 input.sk-toggleable__control:checked~div.sk-toggleable__content {max-height: 200px;max-width: 100%;overflow: auto;}#sk-container-id-4 input.sk-toggleable__control:checked~label.sk-toggleable__label-arrow:before {content: \"▾\";}#sk-container-id-4 div.sk-estimator input.sk-toggleable__control:checked~label.sk-toggleable__label {background-color: #d4ebff;}#sk-container-id-4 div.sk-label input.sk-toggleable__control:checked~label.sk-toggleable__label {background-color: #d4ebff;}#sk-container-id-4 input.sk-hidden--visually {border: 0;clip: rect(1px 1px 1px 1px);clip: rect(1px, 1px, 1px, 1px);height: 1px;margin: -1px;overflow: hidden;padding: 0;position: absolute;width: 1px;}#sk-container-id-4 div.sk-estimator {font-family: monospace;background-color: #f0f8ff;border: 1px dotted black;border-radius: 0.25em;box-sizing: border-box;margin-bottom: 0.5em;}#sk-container-id-4 div.sk-estimator:hover {background-color: #d4ebff;}#sk-container-id-4 div.sk-parallel-item::after {content: \"\";width: 100%;border-bottom: 1px solid gray;flex-grow: 1;}#sk-container-id-4 div.sk-label:hover label.sk-toggleable__label {background-color: #d4ebff;}#sk-container-id-4 div.sk-serial::before {content: \"\";position: absolute;border-left: 1px solid gray;box-sizing: border-box;top: 0;bottom: 0;left: 50%;z-index: 0;}#sk-container-id-4 div.sk-serial {display: flex;flex-direction: column;align-items: center;background-color: white;padding-right: 0.2em;padding-left: 0.2em;position: relative;}#sk-container-id-4 div.sk-item {position: relative;z-index: 1;}#sk-container-id-4 div.sk-parallel {display: flex;align-items: stretch;justify-content: center;background-color: white;position: relative;}#sk-container-id-4 div.sk-item::before, #sk-container-id-4 div.sk-parallel-item::before {content: \"\";position: absolute;border-left: 1px solid gray;box-sizing: border-box;top: 0;bottom: 0;left: 50%;z-index: -1;}#sk-container-id-4 div.sk-parallel-item {display: flex;flex-direction: column;z-index: 1;position: relative;background-color: white;}#sk-container-id-4 div.sk-parallel-item:first-child::after {align-self: flex-end;width: 50%;}#sk-container-id-4 div.sk-parallel-item:last-child::after {align-self: flex-start;width: 50%;}#sk-container-id-4 div.sk-parallel-item:only-child::after {width: 0;}#sk-container-id-4 div.sk-dashed-wrapped {border: 1px dashed gray;margin: 0 0.4em 0.5em 0.4em;box-sizing: border-box;padding-bottom: 0.4em;background-color: white;}#sk-container-id-4 div.sk-label label {font-family: monospace;font-weight: bold;display: inline-block;line-height: 1.2em;}#sk-container-id-4 div.sk-label-container {text-align: center;}#sk-container-id-4 div.sk-container {/* jupyter's `normalize.less` sets `[hidden] { display: none; }` but bootstrap.min.css set `[hidden] { display: none !important; }` so we also need the `!important` here to be able to override the default hidden behavior on the sphinx rendered scikit-learn.org. See: https://github.com/scikit-learn/scikit-learn/issues/21755 */display: inline-block !important;position: relative;}#sk-container-id-4 div.sk-text-repr-fallback {display: none;}</style><div id=\"sk-container-id-4\" class=\"sk-top-container\"><div class=\"sk-text-repr-fallback\"><pre>Pipeline(steps=[(&#x27;cvec&#x27;, CountVectorizer()), (&#x27;nb&#x27;, MultinomialNB())])</pre><b>In a Jupyter environment, please rerun this cell to show the HTML representation or trust the notebook. <br />On GitHub, the HTML representation is unable to render, please try loading this page with nbviewer.org.</b></div><div class=\"sk-container\" hidden><div class=\"sk-item sk-dashed-wrapped\"><div class=\"sk-label-container\"><div class=\"sk-label sk-toggleable\"><input class=\"sk-toggleable__control sk-hidden--visually\" id=\"sk-estimator-id-11\" type=\"checkbox\" ><label for=\"sk-estimator-id-11\" class=\"sk-toggleable__label sk-toggleable__label-arrow\">Pipeline</label><div class=\"sk-toggleable__content\"><pre>Pipeline(steps=[(&#x27;cvec&#x27;, CountVectorizer()), (&#x27;nb&#x27;, MultinomialNB())])</pre></div></div></div><div class=\"sk-serial\"><div class=\"sk-item\"><div class=\"sk-estimator sk-toggleable\"><input class=\"sk-toggleable__control sk-hidden--visually\" id=\"sk-estimator-id-12\" type=\"checkbox\" ><label for=\"sk-estimator-id-12\" class=\"sk-toggleable__label sk-toggleable__label-arrow\">CountVectorizer</label><div class=\"sk-toggleable__content\"><pre>CountVectorizer()</pre></div></div></div><div class=\"sk-item\"><div class=\"sk-estimator sk-toggleable\"><input class=\"sk-toggleable__control sk-hidden--visually\" id=\"sk-estimator-id-13\" type=\"checkbox\" ><label for=\"sk-estimator-id-13\" class=\"sk-toggleable__label sk-toggleable__label-arrow\">MultinomialNB</label><div class=\"sk-toggleable__content\"><pre>MultinomialNB()</pre></div></div></div></div></div></div></div>"
      ],
      "text/plain": [
       "Pipeline(steps=[('cvec', CountVectorizer()), ('nb', MultinomialNB())])"
      ]
     },
     "execution_count": 117,
     "metadata": {},
     "output_type": "execute_result"
    }
   ],
   "source": [
    "# fit\n",
    "pipe_nb.fit(X_train, y_train)"
   ]
  },
  {
   "cell_type": "code",
   "execution_count": 118,
   "id": "8730eeb9",
   "metadata": {
    "scrolled": true
   },
   "outputs": [
    {
     "data": {
      "text/plain": [
       "array([0.90333919, 0.90773286, 0.88224956, 0.91300527, 0.90949033])"
      ]
     },
     "execution_count": 118,
     "metadata": {},
     "output_type": "execute_result"
    }
   ],
   "source": [
    "cross_val_score(pipe_nb, X_train, y_train, cv=5)"
   ]
  },
  {
   "cell_type": "code",
   "execution_count": 119,
   "id": "f466e606",
   "metadata": {},
   "outputs": [
    {
     "name": "stdout",
     "output_type": "stream",
     "text": [
      "  GridSearch Transformer        Model  cross_val_score  Train Score  \\\n",
      "0          -       CVect     Logistic         0.907030     0.974868   \n",
      "1          +       CVect     Logistic         0.907733     0.975747   \n",
      "2          -       CVect  Multinomial         0.903163     0.929525   \n",
      "\n",
      "   Test Score  \n",
      "0    0.906168  \n",
      "1    0.912493  \n",
      "2    0.904586  \n"
     ]
    }
   ],
   "source": [
    "modelscore(pipe_nb, '-', 'CVect', 'Multinomial')"
   ]
  },
  {
   "cell_type": "code",
   "execution_count": 121,
   "id": "d60018ec",
   "metadata": {
    "scrolled": true
   },
   "outputs": [
    {
     "data": {
      "text/plain": [
       "dict_keys(['memory', 'steps', 'verbose', 'cvec', 'nb', 'cvec__analyzer', 'cvec__binary', 'cvec__decode_error', 'cvec__dtype', 'cvec__encoding', 'cvec__input', 'cvec__lowercase', 'cvec__max_df', 'cvec__max_features', 'cvec__min_df', 'cvec__ngram_range', 'cvec__preprocessor', 'cvec__stop_words', 'cvec__strip_accents', 'cvec__token_pattern', 'cvec__tokenizer', 'cvec__vocabulary', 'nb__alpha', 'nb__class_prior', 'nb__fit_prior', 'nb__force_alpha'])"
      ]
     },
     "execution_count": 121,
     "metadata": {},
     "output_type": "execute_result"
    }
   ],
   "source": [
    "# check the adjustable parameters\n",
    "pipe_nb.get_params().keys()"
   ]
  },
  {
   "cell_type": "code",
   "execution_count": 122,
   "id": "d0411ee7",
   "metadata": {},
   "outputs": [],
   "source": [
    "pipe_params_2 = {\n",
    "    'cvec__max_features': [1000, 2000, 3000, 4000],\n",
    "    'cvec__min_df': [1, 2, 3],\n",
    "    'cvec__max_df': [.5, .6, .7, .8],\n",
    "    'cvec__ngram_range': [(1,1), (1,2)],\n",
    "    'cvec__stop_words' : ['english', None]\n",
    "}"
   ]
  },
  {
   "cell_type": "code",
   "execution_count": 123,
   "id": "abc70896",
   "metadata": {},
   "outputs": [],
   "source": [
    "# Instantiate GridSearchCV.\n",
    "gs_2 = GridSearchCV(pipe_nb,\n",
    "                  pipe_params_2,\n",
    "                  cv=5)"
   ]
  },
  {
   "cell_type": "code",
   "execution_count": 124,
   "id": "e0f20e2a",
   "metadata": {
    "scrolled": true
   },
   "outputs": [
    {
     "data": {
      "text/html": [
       "<style>#sk-container-id-5 {color: black;background-color: white;}#sk-container-id-5 pre{padding: 0;}#sk-container-id-5 div.sk-toggleable {background-color: white;}#sk-container-id-5 label.sk-toggleable__label {cursor: pointer;display: block;width: 100%;margin-bottom: 0;padding: 0.3em;box-sizing: border-box;text-align: center;}#sk-container-id-5 label.sk-toggleable__label-arrow:before {content: \"▸\";float: left;margin-right: 0.25em;color: #696969;}#sk-container-id-5 label.sk-toggleable__label-arrow:hover:before {color: black;}#sk-container-id-5 div.sk-estimator:hover label.sk-toggleable__label-arrow:before {color: black;}#sk-container-id-5 div.sk-toggleable__content {max-height: 0;max-width: 0;overflow: hidden;text-align: left;background-color: #f0f8ff;}#sk-container-id-5 div.sk-toggleable__content pre {margin: 0.2em;color: black;border-radius: 0.25em;background-color: #f0f8ff;}#sk-container-id-5 input.sk-toggleable__control:checked~div.sk-toggleable__content {max-height: 200px;max-width: 100%;overflow: auto;}#sk-container-id-5 input.sk-toggleable__control:checked~label.sk-toggleable__label-arrow:before {content: \"▾\";}#sk-container-id-5 div.sk-estimator input.sk-toggleable__control:checked~label.sk-toggleable__label {background-color: #d4ebff;}#sk-container-id-5 div.sk-label input.sk-toggleable__control:checked~label.sk-toggleable__label {background-color: #d4ebff;}#sk-container-id-5 input.sk-hidden--visually {border: 0;clip: rect(1px 1px 1px 1px);clip: rect(1px, 1px, 1px, 1px);height: 1px;margin: -1px;overflow: hidden;padding: 0;position: absolute;width: 1px;}#sk-container-id-5 div.sk-estimator {font-family: monospace;background-color: #f0f8ff;border: 1px dotted black;border-radius: 0.25em;box-sizing: border-box;margin-bottom: 0.5em;}#sk-container-id-5 div.sk-estimator:hover {background-color: #d4ebff;}#sk-container-id-5 div.sk-parallel-item::after {content: \"\";width: 100%;border-bottom: 1px solid gray;flex-grow: 1;}#sk-container-id-5 div.sk-label:hover label.sk-toggleable__label {background-color: #d4ebff;}#sk-container-id-5 div.sk-serial::before {content: \"\";position: absolute;border-left: 1px solid gray;box-sizing: border-box;top: 0;bottom: 0;left: 50%;z-index: 0;}#sk-container-id-5 div.sk-serial {display: flex;flex-direction: column;align-items: center;background-color: white;padding-right: 0.2em;padding-left: 0.2em;position: relative;}#sk-container-id-5 div.sk-item {position: relative;z-index: 1;}#sk-container-id-5 div.sk-parallel {display: flex;align-items: stretch;justify-content: center;background-color: white;position: relative;}#sk-container-id-5 div.sk-item::before, #sk-container-id-5 div.sk-parallel-item::before {content: \"\";position: absolute;border-left: 1px solid gray;box-sizing: border-box;top: 0;bottom: 0;left: 50%;z-index: -1;}#sk-container-id-5 div.sk-parallel-item {display: flex;flex-direction: column;z-index: 1;position: relative;background-color: white;}#sk-container-id-5 div.sk-parallel-item:first-child::after {align-self: flex-end;width: 50%;}#sk-container-id-5 div.sk-parallel-item:last-child::after {align-self: flex-start;width: 50%;}#sk-container-id-5 div.sk-parallel-item:only-child::after {width: 0;}#sk-container-id-5 div.sk-dashed-wrapped {border: 1px dashed gray;margin: 0 0.4em 0.5em 0.4em;box-sizing: border-box;padding-bottom: 0.4em;background-color: white;}#sk-container-id-5 div.sk-label label {font-family: monospace;font-weight: bold;display: inline-block;line-height: 1.2em;}#sk-container-id-5 div.sk-label-container {text-align: center;}#sk-container-id-5 div.sk-container {/* jupyter's `normalize.less` sets `[hidden] { display: none; }` but bootstrap.min.css set `[hidden] { display: none !important; }` so we also need the `!important` here to be able to override the default hidden behavior on the sphinx rendered scikit-learn.org. See: https://github.com/scikit-learn/scikit-learn/issues/21755 */display: inline-block !important;position: relative;}#sk-container-id-5 div.sk-text-repr-fallback {display: none;}</style><div id=\"sk-container-id-5\" class=\"sk-top-container\"><div class=\"sk-text-repr-fallback\"><pre>GridSearchCV(cv=5,\n",
       "             estimator=Pipeline(steps=[(&#x27;cvec&#x27;, CountVectorizer()),\n",
       "                                       (&#x27;nb&#x27;, MultinomialNB())]),\n",
       "             param_grid={&#x27;cvec__max_df&#x27;: [0.5, 0.6, 0.7, 0.8],\n",
       "                         &#x27;cvec__max_features&#x27;: [1000, 2000, 3000, 4000],\n",
       "                         &#x27;cvec__min_df&#x27;: [1, 2, 3],\n",
       "                         &#x27;cvec__ngram_range&#x27;: [(1, 1), (1, 2)],\n",
       "                         &#x27;cvec__stop_words&#x27;: [&#x27;english&#x27;, None]})</pre><b>In a Jupyter environment, please rerun this cell to show the HTML representation or trust the notebook. <br />On GitHub, the HTML representation is unable to render, please try loading this page with nbviewer.org.</b></div><div class=\"sk-container\" hidden><div class=\"sk-item sk-dashed-wrapped\"><div class=\"sk-label-container\"><div class=\"sk-label sk-toggleable\"><input class=\"sk-toggleable__control sk-hidden--visually\" id=\"sk-estimator-id-14\" type=\"checkbox\" ><label for=\"sk-estimator-id-14\" class=\"sk-toggleable__label sk-toggleable__label-arrow\">GridSearchCV</label><div class=\"sk-toggleable__content\"><pre>GridSearchCV(cv=5,\n",
       "             estimator=Pipeline(steps=[(&#x27;cvec&#x27;, CountVectorizer()),\n",
       "                                       (&#x27;nb&#x27;, MultinomialNB())]),\n",
       "             param_grid={&#x27;cvec__max_df&#x27;: [0.5, 0.6, 0.7, 0.8],\n",
       "                         &#x27;cvec__max_features&#x27;: [1000, 2000, 3000, 4000],\n",
       "                         &#x27;cvec__min_df&#x27;: [1, 2, 3],\n",
       "                         &#x27;cvec__ngram_range&#x27;: [(1, 1), (1, 2)],\n",
       "                         &#x27;cvec__stop_words&#x27;: [&#x27;english&#x27;, None]})</pre></div></div></div><div class=\"sk-parallel\"><div class=\"sk-parallel-item\"><div class=\"sk-item\"><div class=\"sk-label-container\"><div class=\"sk-label sk-toggleable\"><input class=\"sk-toggleable__control sk-hidden--visually\" id=\"sk-estimator-id-15\" type=\"checkbox\" ><label for=\"sk-estimator-id-15\" class=\"sk-toggleable__label sk-toggleable__label-arrow\">estimator: Pipeline</label><div class=\"sk-toggleable__content\"><pre>Pipeline(steps=[(&#x27;cvec&#x27;, CountVectorizer()), (&#x27;nb&#x27;, MultinomialNB())])</pre></div></div></div><div class=\"sk-serial\"><div class=\"sk-item\"><div class=\"sk-serial\"><div class=\"sk-item\"><div class=\"sk-estimator sk-toggleable\"><input class=\"sk-toggleable__control sk-hidden--visually\" id=\"sk-estimator-id-16\" type=\"checkbox\" ><label for=\"sk-estimator-id-16\" class=\"sk-toggleable__label sk-toggleable__label-arrow\">CountVectorizer</label><div class=\"sk-toggleable__content\"><pre>CountVectorizer()</pre></div></div></div><div class=\"sk-item\"><div class=\"sk-estimator sk-toggleable\"><input class=\"sk-toggleable__control sk-hidden--visually\" id=\"sk-estimator-id-17\" type=\"checkbox\" ><label for=\"sk-estimator-id-17\" class=\"sk-toggleable__label sk-toggleable__label-arrow\">MultinomialNB</label><div class=\"sk-toggleable__content\"><pre>MultinomialNB()</pre></div></div></div></div></div></div></div></div></div></div></div></div>"
      ],
      "text/plain": [
       "GridSearchCV(cv=5,\n",
       "             estimator=Pipeline(steps=[('cvec', CountVectorizer()),\n",
       "                                       ('nb', MultinomialNB())]),\n",
       "             param_grid={'cvec__max_df': [0.5, 0.6, 0.7, 0.8],\n",
       "                         'cvec__max_features': [1000, 2000, 3000, 4000],\n",
       "                         'cvec__min_df': [1, 2, 3],\n",
       "                         'cvec__ngram_range': [(1, 1), (1, 2)],\n",
       "                         'cvec__stop_words': ['english', None]})"
      ]
     },
     "execution_count": 124,
     "metadata": {},
     "output_type": "execute_result"
    }
   ],
   "source": [
    "# fit\n",
    "gs_2.fit(X_train, y_train)"
   ]
  },
  {
   "cell_type": "code",
   "execution_count": 125,
   "id": "7d461a81",
   "metadata": {
    "scrolled": true
   },
   "outputs": [
    {
     "data": {
      "text/plain": [
       "{'cvec__max_df': 0.5,\n",
       " 'cvec__max_features': 4000,\n",
       " 'cvec__min_df': 1,\n",
       " 'cvec__ngram_range': (1, 2),\n",
       " 'cvec__stop_words': 'english'}"
      ]
     },
     "execution_count": 125,
     "metadata": {},
     "output_type": "execute_result"
    }
   ],
   "source": [
    "gs_2.best_params_"
   ]
  },
  {
   "cell_type": "code",
   "execution_count": 126,
   "id": "3f888c66",
   "metadata": {},
   "outputs": [
    {
     "data": {
      "text/plain": [
       "0.9050966608084359"
      ]
     },
     "execution_count": 126,
     "metadata": {},
     "output_type": "execute_result"
    }
   ],
   "source": [
    "gs_2.best_score_"
   ]
  },
  {
   "cell_type": "code",
   "execution_count": 127,
   "id": "cf765820",
   "metadata": {},
   "outputs": [
    {
     "name": "stdout",
     "output_type": "stream",
     "text": [
      "  GridSearch Transformer        Model  cross_val_score  Train Score  \\\n",
      "0          -       CVect     Logistic         0.907030     0.974868   \n",
      "1          +       CVect     Logistic         0.907733     0.975747   \n",
      "2          -       CVect  Multinomial         0.903163     0.929525   \n",
      "3          +       CVect     Logistic         0.903339     0.919684   \n",
      "\n",
      "   Test Score  \n",
      "0    0.906168  \n",
      "1    0.912493  \n",
      "2    0.904586  \n",
      "3    0.908276  \n"
     ]
    }
   ],
   "source": [
    "modelscore(gs_2, '+', 'CVect', 'Multinomial')"
   ]
  },
  {
   "cell_type": "markdown",
   "id": "b733d67d",
   "metadata": {},
   "source": [
    "#### Model 3: TfidfVectorizer and Logistic Regression"
   ]
  },
  {
   "cell_type": "code",
   "execution_count": 131,
   "id": "d0d8b4be",
   "metadata": {},
   "outputs": [],
   "source": [
    "pipe_tvec_log = Pipeline([('tvec', TfidfVectorizer()),\n",
    "                 ('log', LogisticRegression())\n",
    "                ])"
   ]
  },
  {
   "cell_type": "code",
   "execution_count": 132,
   "id": "a03ffeff",
   "metadata": {},
   "outputs": [
    {
     "data": {
      "text/html": [
       "<style>#sk-container-id-7 {color: black;background-color: white;}#sk-container-id-7 pre{padding: 0;}#sk-container-id-7 div.sk-toggleable {background-color: white;}#sk-container-id-7 label.sk-toggleable__label {cursor: pointer;display: block;width: 100%;margin-bottom: 0;padding: 0.3em;box-sizing: border-box;text-align: center;}#sk-container-id-7 label.sk-toggleable__label-arrow:before {content: \"▸\";float: left;margin-right: 0.25em;color: #696969;}#sk-container-id-7 label.sk-toggleable__label-arrow:hover:before {color: black;}#sk-container-id-7 div.sk-estimator:hover label.sk-toggleable__label-arrow:before {color: black;}#sk-container-id-7 div.sk-toggleable__content {max-height: 0;max-width: 0;overflow: hidden;text-align: left;background-color: #f0f8ff;}#sk-container-id-7 div.sk-toggleable__content pre {margin: 0.2em;color: black;border-radius: 0.25em;background-color: #f0f8ff;}#sk-container-id-7 input.sk-toggleable__control:checked~div.sk-toggleable__content {max-height: 200px;max-width: 100%;overflow: auto;}#sk-container-id-7 input.sk-toggleable__control:checked~label.sk-toggleable__label-arrow:before {content: \"▾\";}#sk-container-id-7 div.sk-estimator input.sk-toggleable__control:checked~label.sk-toggleable__label {background-color: #d4ebff;}#sk-container-id-7 div.sk-label input.sk-toggleable__control:checked~label.sk-toggleable__label {background-color: #d4ebff;}#sk-container-id-7 input.sk-hidden--visually {border: 0;clip: rect(1px 1px 1px 1px);clip: rect(1px, 1px, 1px, 1px);height: 1px;margin: -1px;overflow: hidden;padding: 0;position: absolute;width: 1px;}#sk-container-id-7 div.sk-estimator {font-family: monospace;background-color: #f0f8ff;border: 1px dotted black;border-radius: 0.25em;box-sizing: border-box;margin-bottom: 0.5em;}#sk-container-id-7 div.sk-estimator:hover {background-color: #d4ebff;}#sk-container-id-7 div.sk-parallel-item::after {content: \"\";width: 100%;border-bottom: 1px solid gray;flex-grow: 1;}#sk-container-id-7 div.sk-label:hover label.sk-toggleable__label {background-color: #d4ebff;}#sk-container-id-7 div.sk-serial::before {content: \"\";position: absolute;border-left: 1px solid gray;box-sizing: border-box;top: 0;bottom: 0;left: 50%;z-index: 0;}#sk-container-id-7 div.sk-serial {display: flex;flex-direction: column;align-items: center;background-color: white;padding-right: 0.2em;padding-left: 0.2em;position: relative;}#sk-container-id-7 div.sk-item {position: relative;z-index: 1;}#sk-container-id-7 div.sk-parallel {display: flex;align-items: stretch;justify-content: center;background-color: white;position: relative;}#sk-container-id-7 div.sk-item::before, #sk-container-id-7 div.sk-parallel-item::before {content: \"\";position: absolute;border-left: 1px solid gray;box-sizing: border-box;top: 0;bottom: 0;left: 50%;z-index: -1;}#sk-container-id-7 div.sk-parallel-item {display: flex;flex-direction: column;z-index: 1;position: relative;background-color: white;}#sk-container-id-7 div.sk-parallel-item:first-child::after {align-self: flex-end;width: 50%;}#sk-container-id-7 div.sk-parallel-item:last-child::after {align-self: flex-start;width: 50%;}#sk-container-id-7 div.sk-parallel-item:only-child::after {width: 0;}#sk-container-id-7 div.sk-dashed-wrapped {border: 1px dashed gray;margin: 0 0.4em 0.5em 0.4em;box-sizing: border-box;padding-bottom: 0.4em;background-color: white;}#sk-container-id-7 div.sk-label label {font-family: monospace;font-weight: bold;display: inline-block;line-height: 1.2em;}#sk-container-id-7 div.sk-label-container {text-align: center;}#sk-container-id-7 div.sk-container {/* jupyter's `normalize.less` sets `[hidden] { display: none; }` but bootstrap.min.css set `[hidden] { display: none !important; }` so we also need the `!important` here to be able to override the default hidden behavior on the sphinx rendered scikit-learn.org. See: https://github.com/scikit-learn/scikit-learn/issues/21755 */display: inline-block !important;position: relative;}#sk-container-id-7 div.sk-text-repr-fallback {display: none;}</style><div id=\"sk-container-id-7\" class=\"sk-top-container\"><div class=\"sk-text-repr-fallback\"><pre>Pipeline(steps=[(&#x27;tvec&#x27;, TfidfVectorizer()), (&#x27;log&#x27;, LogisticRegression())])</pre><b>In a Jupyter environment, please rerun this cell to show the HTML representation or trust the notebook. <br />On GitHub, the HTML representation is unable to render, please try loading this page with nbviewer.org.</b></div><div class=\"sk-container\" hidden><div class=\"sk-item sk-dashed-wrapped\"><div class=\"sk-label-container\"><div class=\"sk-label sk-toggleable\"><input class=\"sk-toggleable__control sk-hidden--visually\" id=\"sk-estimator-id-21\" type=\"checkbox\" ><label for=\"sk-estimator-id-21\" class=\"sk-toggleable__label sk-toggleable__label-arrow\">Pipeline</label><div class=\"sk-toggleable__content\"><pre>Pipeline(steps=[(&#x27;tvec&#x27;, TfidfVectorizer()), (&#x27;log&#x27;, LogisticRegression())])</pre></div></div></div><div class=\"sk-serial\"><div class=\"sk-item\"><div class=\"sk-estimator sk-toggleable\"><input class=\"sk-toggleable__control sk-hidden--visually\" id=\"sk-estimator-id-22\" type=\"checkbox\" ><label for=\"sk-estimator-id-22\" class=\"sk-toggleable__label sk-toggleable__label-arrow\">TfidfVectorizer</label><div class=\"sk-toggleable__content\"><pre>TfidfVectorizer()</pre></div></div></div><div class=\"sk-item\"><div class=\"sk-estimator sk-toggleable\"><input class=\"sk-toggleable__control sk-hidden--visually\" id=\"sk-estimator-id-23\" type=\"checkbox\" ><label for=\"sk-estimator-id-23\" class=\"sk-toggleable__label sk-toggleable__label-arrow\">LogisticRegression</label><div class=\"sk-toggleable__content\"><pre>LogisticRegression()</pre></div></div></div></div></div></div></div>"
      ],
      "text/plain": [
       "Pipeline(steps=[('tvec', TfidfVectorizer()), ('log', LogisticRegression())])"
      ]
     },
     "execution_count": 132,
     "metadata": {},
     "output_type": "execute_result"
    }
   ],
   "source": [
    "pipe_tvec_log.fit(X_train, y_train)"
   ]
  },
  {
   "cell_type": "code",
   "execution_count": 133,
   "id": "63fb4d0a",
   "metadata": {
    "scrolled": true
   },
   "outputs": [
    {
     "data": {
      "text/plain": [
       "array([0.9288225 , 0.91476274, 0.89982425, 0.92179262, 0.92091388])"
      ]
     },
     "execution_count": 133,
     "metadata": {},
     "output_type": "execute_result"
    }
   ],
   "source": [
    "cross_val_score(pipe_tvec_log, X_train, y_train, cv=5)"
   ]
  },
  {
   "cell_type": "code",
   "execution_count": 134,
   "id": "ea7351c6",
   "metadata": {},
   "outputs": [
    {
     "name": "stdout",
     "output_type": "stream",
     "text": [
      "  GridSearch Transformer        Model  cross_val_score  Train Score  \\\n",
      "0          -       CVect     Logistic         0.907030     0.974868   \n",
      "1          +       CVect     Logistic         0.907733     0.975747   \n",
      "2          -       CVect  Multinomial         0.903163     0.929525   \n",
      "3          +       CVect     Logistic         0.903339     0.919684   \n",
      "4          -       Tfidf     Logistic         0.917223     0.943234   \n",
      "\n",
      "   Test Score  \n",
      "0    0.906168  \n",
      "1    0.912493  \n",
      "2    0.904586  \n",
      "3    0.908276  \n",
      "4    0.921455  \n"
     ]
    }
   ],
   "source": [
    "modelscore(pipe_tvec_log, '-', 'Tfidf', 'Logistic')"
   ]
  },
  {
   "cell_type": "code",
   "execution_count": 136,
   "id": "574bcaf7",
   "metadata": {
    "scrolled": true
   },
   "outputs": [
    {
     "data": {
      "text/plain": [
       "dict_keys(['memory', 'steps', 'verbose', 'tvec', 'log', 'tvec__analyzer', 'tvec__binary', 'tvec__decode_error', 'tvec__dtype', 'tvec__encoding', 'tvec__input', 'tvec__lowercase', 'tvec__max_df', 'tvec__max_features', 'tvec__min_df', 'tvec__ngram_range', 'tvec__norm', 'tvec__preprocessor', 'tvec__smooth_idf', 'tvec__stop_words', 'tvec__strip_accents', 'tvec__sublinear_tf', 'tvec__token_pattern', 'tvec__tokenizer', 'tvec__use_idf', 'tvec__vocabulary', 'log__C', 'log__class_weight', 'log__dual', 'log__fit_intercept', 'log__intercept_scaling', 'log__l1_ratio', 'log__max_iter', 'log__multi_class', 'log__n_jobs', 'log__penalty', 'log__random_state', 'log__solver', 'log__tol', 'log__verbose', 'log__warm_start'])"
      ]
     },
     "execution_count": 136,
     "metadata": {},
     "output_type": "execute_result"
    }
   ],
   "source": [
    "# check the adjustable parameters\n",
    "pipe_tvec_log.get_params().keys()"
   ]
  },
  {
   "cell_type": "code",
   "execution_count": 137,
   "id": "3d534986",
   "metadata": {},
   "outputs": [],
   "source": [
    "pipe_params_3 = {\n",
    "    'log__C': [0.01, 0.1, 1, 10, 100],\n",
    "    'log__penalty': ['l1', 'l2'],\n",
    "    'log__solver': ['lbfgs', 'saga'],\n",
    "    'tvec__max_features': [2000, 4000, 6000],\n",
    "    'tvec__ngram_range': [(1, 1), (1, 2)]}"
   ]
  },
  {
   "cell_type": "code",
   "execution_count": 138,
   "id": "2dd46e15",
   "metadata": {},
   "outputs": [],
   "source": [
    "gs_3 = GridSearchCV(pipe_tvec_log,\n",
    "                  pipe_params_3,\n",
    "                  cv=5, verbose = 2, n_jobs = -1)"
   ]
  },
  {
   "cell_type": "code",
   "execution_count": 139,
   "id": "c70b6c05",
   "metadata": {
    "scrolled": true
   },
   "outputs": [
    {
     "name": "stdout",
     "output_type": "stream",
     "text": [
      "Fitting 5 folds for each of 120 candidates, totalling 600 fits\n"
     ]
    },
    {
     "name": "stderr",
     "output_type": "stream",
     "text": [
      "C:\\Users\\skyne\\anaconda3\\lib\\site-packages\\sklearn\\model_selection\\_validation.py:378: FitFailedWarning: \n",
      "150 fits failed out of a total of 600.\n",
      "The score on these train-test partitions for these parameters will be set to nan.\n",
      "If these failures are not expected, you can try to debug them by setting error_score='raise'.\n",
      "\n",
      "Below are more details about the failures:\n",
      "--------------------------------------------------------------------------------\n",
      "150 fits failed with the following error:\n",
      "Traceback (most recent call last):\n",
      "  File \"C:\\Users\\skyne\\anaconda3\\lib\\site-packages\\sklearn\\model_selection\\_validation.py\", line 686, in _fit_and_score\n",
      "    estimator.fit(X_train, y_train, **fit_params)\n",
      "  File \"C:\\Users\\skyne\\anaconda3\\lib\\site-packages\\sklearn\\pipeline.py\", line 405, in fit\n",
      "    self._final_estimator.fit(Xt, y, **fit_params_last_step)\n",
      "  File \"C:\\Users\\skyne\\anaconda3\\lib\\site-packages\\sklearn\\linear_model\\_logistic.py\", line 1162, in fit\n",
      "    solver = _check_solver(self.solver, self.penalty, self.dual)\n",
      "  File \"C:\\Users\\skyne\\anaconda3\\lib\\site-packages\\sklearn\\linear_model\\_logistic.py\", line 54, in _check_solver\n",
      "    raise ValueError(\n",
      "ValueError: Solver lbfgs supports only 'l2' or 'none' penalties, got l1 penalty.\n",
      "\n",
      "  warnings.warn(some_fits_failed_message, FitFailedWarning)\n",
      "C:\\Users\\skyne\\anaconda3\\lib\\site-packages\\sklearn\\model_selection\\_search.py:952: UserWarning: One or more of the test scores are non-finite: [       nan        nan        nan        nan        nan        nan\n",
      " 0.50632689 0.50105448 0.50632689 0.50632689 0.50386643 0.50140598\n",
      " 0.88980668 0.89507909 0.88980668 0.89543058 0.88998243 0.89472759\n",
      " 0.88963093 0.89490334 0.89015817 0.89525483 0.89033392 0.89507909\n",
      "        nan        nan        nan        nan        nan        nan\n",
      " 0.84762742 0.84674868 0.84586995 0.84288225 0.84534271 0.84077329\n",
      " 0.90035149 0.9056239  0.89789104 0.90544815 0.89824253 0.9059754\n",
      " 0.90052724 0.90579965 0.89824253 0.90544815 0.89859402 0.90615114\n",
      "        nan        nan        nan        nan        nan        nan\n",
      " 0.91072056 0.91036907 0.91072056 0.90913884 0.91072056 0.91054482\n",
      " 0.91915641 0.92038664 0.91862917 0.92003515 0.91757469 0.92196837\n",
      " 0.91933216 0.92003515 0.91880492 0.9202109  0.91757469 0.92214411\n",
      "        nan        nan        nan        nan        nan        nan\n",
      " 0.8970123  0.89947276 0.8973638  0.90790861 0.9        0.91300527\n",
      " 0.91370826 0.91370826 0.91230228 0.9198594  0.91599297 0.92091388\n",
      " 0.91335677 0.91458699 0.91212654 0.9198594  0.91599297 0.92091388\n",
      "        nan        nan        nan        nan        nan        nan\n",
      " 0.88137083 0.89050967 0.88435852 0.90421793 0.88822496 0.90966608\n",
      " 0.88558875 0.89507909 0.88857645 0.90509666 0.8887522  0.91089631\n",
      " 0.88927944 0.89578207 0.88892794 0.90492091 0.89103691 0.91072056]\n",
      "  warnings.warn(\n"
     ]
    },
    {
     "data": {
      "text/html": [
       "<style>#sk-container-id-8 {color: black;background-color: white;}#sk-container-id-8 pre{padding: 0;}#sk-container-id-8 div.sk-toggleable {background-color: white;}#sk-container-id-8 label.sk-toggleable__label {cursor: pointer;display: block;width: 100%;margin-bottom: 0;padding: 0.3em;box-sizing: border-box;text-align: center;}#sk-container-id-8 label.sk-toggleable__label-arrow:before {content: \"▸\";float: left;margin-right: 0.25em;color: #696969;}#sk-container-id-8 label.sk-toggleable__label-arrow:hover:before {color: black;}#sk-container-id-8 div.sk-estimator:hover label.sk-toggleable__label-arrow:before {color: black;}#sk-container-id-8 div.sk-toggleable__content {max-height: 0;max-width: 0;overflow: hidden;text-align: left;background-color: #f0f8ff;}#sk-container-id-8 div.sk-toggleable__content pre {margin: 0.2em;color: black;border-radius: 0.25em;background-color: #f0f8ff;}#sk-container-id-8 input.sk-toggleable__control:checked~div.sk-toggleable__content {max-height: 200px;max-width: 100%;overflow: auto;}#sk-container-id-8 input.sk-toggleable__control:checked~label.sk-toggleable__label-arrow:before {content: \"▾\";}#sk-container-id-8 div.sk-estimator input.sk-toggleable__control:checked~label.sk-toggleable__label {background-color: #d4ebff;}#sk-container-id-8 div.sk-label input.sk-toggleable__control:checked~label.sk-toggleable__label {background-color: #d4ebff;}#sk-container-id-8 input.sk-hidden--visually {border: 0;clip: rect(1px 1px 1px 1px);clip: rect(1px, 1px, 1px, 1px);height: 1px;margin: -1px;overflow: hidden;padding: 0;position: absolute;width: 1px;}#sk-container-id-8 div.sk-estimator {font-family: monospace;background-color: #f0f8ff;border: 1px dotted black;border-radius: 0.25em;box-sizing: border-box;margin-bottom: 0.5em;}#sk-container-id-8 div.sk-estimator:hover {background-color: #d4ebff;}#sk-container-id-8 div.sk-parallel-item::after {content: \"\";width: 100%;border-bottom: 1px solid gray;flex-grow: 1;}#sk-container-id-8 div.sk-label:hover label.sk-toggleable__label {background-color: #d4ebff;}#sk-container-id-8 div.sk-serial::before {content: \"\";position: absolute;border-left: 1px solid gray;box-sizing: border-box;top: 0;bottom: 0;left: 50%;z-index: 0;}#sk-container-id-8 div.sk-serial {display: flex;flex-direction: column;align-items: center;background-color: white;padding-right: 0.2em;padding-left: 0.2em;position: relative;}#sk-container-id-8 div.sk-item {position: relative;z-index: 1;}#sk-container-id-8 div.sk-parallel {display: flex;align-items: stretch;justify-content: center;background-color: white;position: relative;}#sk-container-id-8 div.sk-item::before, #sk-container-id-8 div.sk-parallel-item::before {content: \"\";position: absolute;border-left: 1px solid gray;box-sizing: border-box;top: 0;bottom: 0;left: 50%;z-index: -1;}#sk-container-id-8 div.sk-parallel-item {display: flex;flex-direction: column;z-index: 1;position: relative;background-color: white;}#sk-container-id-8 div.sk-parallel-item:first-child::after {align-self: flex-end;width: 50%;}#sk-container-id-8 div.sk-parallel-item:last-child::after {align-self: flex-start;width: 50%;}#sk-container-id-8 div.sk-parallel-item:only-child::after {width: 0;}#sk-container-id-8 div.sk-dashed-wrapped {border: 1px dashed gray;margin: 0 0.4em 0.5em 0.4em;box-sizing: border-box;padding-bottom: 0.4em;background-color: white;}#sk-container-id-8 div.sk-label label {font-family: monospace;font-weight: bold;display: inline-block;line-height: 1.2em;}#sk-container-id-8 div.sk-label-container {text-align: center;}#sk-container-id-8 div.sk-container {/* jupyter's `normalize.less` sets `[hidden] { display: none; }` but bootstrap.min.css set `[hidden] { display: none !important; }` so we also need the `!important` here to be able to override the default hidden behavior on the sphinx rendered scikit-learn.org. See: https://github.com/scikit-learn/scikit-learn/issues/21755 */display: inline-block !important;position: relative;}#sk-container-id-8 div.sk-text-repr-fallback {display: none;}</style><div id=\"sk-container-id-8\" class=\"sk-top-container\"><div class=\"sk-text-repr-fallback\"><pre>GridSearchCV(cv=5,\n",
       "             estimator=Pipeline(steps=[(&#x27;tvec&#x27;, TfidfVectorizer()),\n",
       "                                       (&#x27;log&#x27;, LogisticRegression())]),\n",
       "             n_jobs=-1,\n",
       "             param_grid={&#x27;log__C&#x27;: [0.01, 0.1, 1, 10, 100],\n",
       "                         &#x27;log__penalty&#x27;: [&#x27;l1&#x27;, &#x27;l2&#x27;],\n",
       "                         &#x27;log__solver&#x27;: [&#x27;lbfgs&#x27;, &#x27;saga&#x27;],\n",
       "                         &#x27;tvec__max_features&#x27;: [2000, 4000, 6000],\n",
       "                         &#x27;tvec__ngram_range&#x27;: [(1, 1), (1, 2)]},\n",
       "             verbose=2)</pre><b>In a Jupyter environment, please rerun this cell to show the HTML representation or trust the notebook. <br />On GitHub, the HTML representation is unable to render, please try loading this page with nbviewer.org.</b></div><div class=\"sk-container\" hidden><div class=\"sk-item sk-dashed-wrapped\"><div class=\"sk-label-container\"><div class=\"sk-label sk-toggleable\"><input class=\"sk-toggleable__control sk-hidden--visually\" id=\"sk-estimator-id-24\" type=\"checkbox\" ><label for=\"sk-estimator-id-24\" class=\"sk-toggleable__label sk-toggleable__label-arrow\">GridSearchCV</label><div class=\"sk-toggleable__content\"><pre>GridSearchCV(cv=5,\n",
       "             estimator=Pipeline(steps=[(&#x27;tvec&#x27;, TfidfVectorizer()),\n",
       "                                       (&#x27;log&#x27;, LogisticRegression())]),\n",
       "             n_jobs=-1,\n",
       "             param_grid={&#x27;log__C&#x27;: [0.01, 0.1, 1, 10, 100],\n",
       "                         &#x27;log__penalty&#x27;: [&#x27;l1&#x27;, &#x27;l2&#x27;],\n",
       "                         &#x27;log__solver&#x27;: [&#x27;lbfgs&#x27;, &#x27;saga&#x27;],\n",
       "                         &#x27;tvec__max_features&#x27;: [2000, 4000, 6000],\n",
       "                         &#x27;tvec__ngram_range&#x27;: [(1, 1), (1, 2)]},\n",
       "             verbose=2)</pre></div></div></div><div class=\"sk-parallel\"><div class=\"sk-parallel-item\"><div class=\"sk-item\"><div class=\"sk-label-container\"><div class=\"sk-label sk-toggleable\"><input class=\"sk-toggleable__control sk-hidden--visually\" id=\"sk-estimator-id-25\" type=\"checkbox\" ><label for=\"sk-estimator-id-25\" class=\"sk-toggleable__label sk-toggleable__label-arrow\">estimator: Pipeline</label><div class=\"sk-toggleable__content\"><pre>Pipeline(steps=[(&#x27;tvec&#x27;, TfidfVectorizer()), (&#x27;log&#x27;, LogisticRegression())])</pre></div></div></div><div class=\"sk-serial\"><div class=\"sk-item\"><div class=\"sk-serial\"><div class=\"sk-item\"><div class=\"sk-estimator sk-toggleable\"><input class=\"sk-toggleable__control sk-hidden--visually\" id=\"sk-estimator-id-26\" type=\"checkbox\" ><label for=\"sk-estimator-id-26\" class=\"sk-toggleable__label sk-toggleable__label-arrow\">TfidfVectorizer</label><div class=\"sk-toggleable__content\"><pre>TfidfVectorizer()</pre></div></div></div><div class=\"sk-item\"><div class=\"sk-estimator sk-toggleable\"><input class=\"sk-toggleable__control sk-hidden--visually\" id=\"sk-estimator-id-27\" type=\"checkbox\" ><label for=\"sk-estimator-id-27\" class=\"sk-toggleable__label sk-toggleable__label-arrow\">LogisticRegression</label><div class=\"sk-toggleable__content\"><pre>LogisticRegression()</pre></div></div></div></div></div></div></div></div></div></div></div></div>"
      ],
      "text/plain": [
       "GridSearchCV(cv=5,\n",
       "             estimator=Pipeline(steps=[('tvec', TfidfVectorizer()),\n",
       "                                       ('log', LogisticRegression())]),\n",
       "             n_jobs=-1,\n",
       "             param_grid={'log__C': [0.01, 0.1, 1, 10, 100],\n",
       "                         'log__penalty': ['l1', 'l2'],\n",
       "                         'log__solver': ['lbfgs', 'saga'],\n",
       "                         'tvec__max_features': [2000, 4000, 6000],\n",
       "                         'tvec__ngram_range': [(1, 1), (1, 2)]},\n",
       "             verbose=2)"
      ]
     },
     "execution_count": 139,
     "metadata": {},
     "output_type": "execute_result"
    }
   ],
   "source": [
    "gs_3.fit(X_train, y_train)"
   ]
  },
  {
   "cell_type": "code",
   "execution_count": 140,
   "id": "d1e91f69",
   "metadata": {
    "scrolled": true
   },
   "outputs": [
    {
     "data": {
      "text/plain": [
       "{'log__C': 1,\n",
       " 'log__penalty': 'l2',\n",
       " 'log__solver': 'saga',\n",
       " 'tvec__max_features': 6000,\n",
       " 'tvec__ngram_range': (1, 2)}"
      ]
     },
     "execution_count": 140,
     "metadata": {},
     "output_type": "execute_result"
    }
   ],
   "source": [
    "gs_3.best_params_"
   ]
  },
  {
   "cell_type": "code",
   "execution_count": 141,
   "id": "e0595750",
   "metadata": {
    "scrolled": false
   },
   "outputs": [
    {
     "data": {
      "text/plain": [
       "0.9221441124780316"
      ]
     },
     "execution_count": 141,
     "metadata": {},
     "output_type": "execute_result"
    }
   ],
   "source": [
    "gs_3.best_score_"
   ]
  },
  {
   "cell_type": "code",
   "execution_count": 142,
   "id": "4329c717",
   "metadata": {},
   "outputs": [
    {
     "name": "stdout",
     "output_type": "stream",
     "text": [
      "Fitting 5 folds for each of 120 candidates, totalling 600 fits\n"
     ]
    },
    {
     "name": "stderr",
     "output_type": "stream",
     "text": [
      "C:\\Users\\skyne\\anaconda3\\lib\\site-packages\\sklearn\\model_selection\\_validation.py:378: FitFailedWarning: \n",
      "150 fits failed out of a total of 600.\n",
      "The score on these train-test partitions for these parameters will be set to nan.\n",
      "If these failures are not expected, you can try to debug them by setting error_score='raise'.\n",
      "\n",
      "Below are more details about the failures:\n",
      "--------------------------------------------------------------------------------\n",
      "150 fits failed with the following error:\n",
      "Traceback (most recent call last):\n",
      "  File \"C:\\Users\\skyne\\anaconda3\\lib\\site-packages\\sklearn\\model_selection\\_validation.py\", line 686, in _fit_and_score\n",
      "    estimator.fit(X_train, y_train, **fit_params)\n",
      "  File \"C:\\Users\\skyne\\anaconda3\\lib\\site-packages\\sklearn\\pipeline.py\", line 405, in fit\n",
      "    self._final_estimator.fit(Xt, y, **fit_params_last_step)\n",
      "  File \"C:\\Users\\skyne\\anaconda3\\lib\\site-packages\\sklearn\\linear_model\\_logistic.py\", line 1162, in fit\n",
      "    solver = _check_solver(self.solver, self.penalty, self.dual)\n",
      "  File \"C:\\Users\\skyne\\anaconda3\\lib\\site-packages\\sklearn\\linear_model\\_logistic.py\", line 54, in _check_solver\n",
      "    raise ValueError(\n",
      "ValueError: Solver lbfgs supports only 'l2' or 'none' penalties, got l1 penalty.\n",
      "\n",
      "  warnings.warn(some_fits_failed_message, FitFailedWarning)\n",
      "C:\\Users\\skyne\\anaconda3\\lib\\site-packages\\sklearn\\model_selection\\_search.py:952: UserWarning: One or more of the test scores are non-finite: [       nan        nan        nan        nan        nan        nan\n",
      " 0.50373361 0.50373361 0.50637097 0.50109625 0.50637097 0.50395604\n",
      " 0.88664093 0.8925721  0.8859828  0.89257379 0.88532346 0.89257379\n",
      " 0.88686047 0.8925721  0.88642236 0.89301287 0.88598256 0.89345291\n",
      "        nan        nan        nan        nan        nan        nan\n",
      " 0.83435519 0.83347825 0.8321586  0.83259937 0.8319393  0.83215981\n",
      " 0.89784345 0.90091941 0.89608642 0.89960242 0.8947687  0.90135921\n",
      " 0.89806323 0.90091941 0.89586688 0.89960242 0.8947687  0.90113943\n",
      "        nan        nan        nan        nan        nan        nan\n",
      " 0.90641512 0.90553455 0.90861172 0.90377752 0.90663442 0.90553552\n",
      " 0.91717832 0.91717856 0.91761764 0.91893729 0.91476122 0.91981568\n",
      " 0.91629968 0.91695902 0.91783718 0.91893729 0.91520054 0.9195959\n",
      "        nan        nan        nan        nan        nan        nan\n",
      " 0.89521405 0.90004463 0.9007059  0.90509716 0.90070614 0.91015018\n",
      " 0.90927154 0.91058709 0.91080855 0.91739907 0.91212651 0.91783935\n",
      " 0.91015018 0.91036779 0.91124787 0.91739907 0.91212651 0.91783935\n",
      "        nan        nan        nan        nan        nan        nan\n",
      " 0.88664262 0.89279381 0.89587025 0.90421684 0.89674889 0.90905152\n",
      " 0.88796034 0.89543094 0.89652911 0.90553552 0.89938529 0.91036899\n",
      " 0.89147634 0.89740799 0.89674913 0.90531574 0.89916503 0.91036924]\n",
      "  warnings.warn(\n"
     ]
    },
    {
     "name": "stdout",
     "output_type": "stream",
     "text": [
      "Fitting 5 folds for each of 120 candidates, totalling 600 fits\n"
     ]
    },
    {
     "name": "stderr",
     "output_type": "stream",
     "text": [
      "C:\\Users\\skyne\\anaconda3\\lib\\site-packages\\sklearn\\model_selection\\_validation.py:378: FitFailedWarning: \n",
      "150 fits failed out of a total of 600.\n",
      "The score on these train-test partitions for these parameters will be set to nan.\n",
      "If these failures are not expected, you can try to debug them by setting error_score='raise'.\n",
      "\n",
      "Below are more details about the failures:\n",
      "--------------------------------------------------------------------------------\n",
      "150 fits failed with the following error:\n",
      "Traceback (most recent call last):\n",
      "  File \"C:\\Users\\skyne\\anaconda3\\lib\\site-packages\\sklearn\\model_selection\\_validation.py\", line 686, in _fit_and_score\n",
      "    estimator.fit(X_train, y_train, **fit_params)\n",
      "  File \"C:\\Users\\skyne\\anaconda3\\lib\\site-packages\\sklearn\\pipeline.py\", line 405, in fit\n",
      "    self._final_estimator.fit(Xt, y, **fit_params_last_step)\n",
      "  File \"C:\\Users\\skyne\\anaconda3\\lib\\site-packages\\sklearn\\linear_model\\_logistic.py\", line 1162, in fit\n",
      "    solver = _check_solver(self.solver, self.penalty, self.dual)\n",
      "  File \"C:\\Users\\skyne\\anaconda3\\lib\\site-packages\\sklearn\\linear_model\\_logistic.py\", line 54, in _check_solver\n",
      "    raise ValueError(\n",
      "ValueError: Solver lbfgs supports only 'l2' or 'none' penalties, got l1 penalty.\n",
      "\n",
      "  warnings.warn(some_fits_failed_message, FitFailedWarning)\n",
      "C:\\Users\\skyne\\anaconda3\\lib\\site-packages\\sklearn\\model_selection\\_search.py:952: UserWarning: One or more of the test scores are non-finite: [       nan        nan        nan        nan        nan        nan\n",
      " 0.50395604 0.50373361 0.50395604 0.50109625 0.50637097 0.50373361\n",
      " 0.89059432 0.89564686 0.8905936  0.89784442 0.89147224 0.89542949\n",
      " 0.89059432 0.89586615 0.89059384 0.89828398 0.89059336 0.89520947\n",
      "        nan        nan        nan        nan        nan        nan\n",
      " 0.8385303  0.83831076 0.8354553  0.83391732 0.83545578 0.83281963\n",
      " 0.89806396 0.90135632 0.89762343 0.9020159  0.89696457 0.9028943\n",
      " 0.89872281 0.90157586 0.89784297 0.90245498 0.89696457 0.9028943\n",
      "        nan        nan        nan        nan        nan        nan\n",
      " 0.90970724 0.9094877  0.90904766 0.90970748 0.90773018 0.90926889\n",
      " 0.9189356  0.91827602 0.91893487 0.92025307 0.91761595 0.92223085\n",
      " 0.91871606 0.91827602 0.91937443 0.91981375 0.91827529 0.92223109\n",
      "        nan        nan        nan        nan        nan        nan\n",
      " 0.90158478 0.90685468 0.90290081 0.91498341 0.90377897 0.91718025\n",
      " 0.91498269 0.91256463 0.91410333 0.92025452 0.91454241 0.92047382\n",
      " 0.91520199 0.91234533 0.91388379 0.91937564 0.91432238 0.92025428\n",
      "        nan        nan        nan        nan        nan        nan\n",
      " 0.88224943 0.89345315 0.89675034 0.90399826 0.89916696 0.91146862\n",
      " 0.88378669 0.89806806 0.89696964 0.90839121 0.89806782 0.91234629\n",
      " 0.88422625 0.89828784 0.89740872 0.9083917  0.89894694 0.91212651]\n",
      "  warnings.warn(\n"
     ]
    },
    {
     "name": "stdout",
     "output_type": "stream",
     "text": [
      "Fitting 5 folds for each of 120 candidates, totalling 600 fits\n"
     ]
    },
    {
     "name": "stderr",
     "output_type": "stream",
     "text": [
      "C:\\Users\\skyne\\anaconda3\\lib\\site-packages\\sklearn\\model_selection\\_validation.py:378: FitFailedWarning: \n",
      "150 fits failed out of a total of 600.\n",
      "The score on these train-test partitions for these parameters will be set to nan.\n",
      "If these failures are not expected, you can try to debug them by setting error_score='raise'.\n",
      "\n",
      "Below are more details about the failures:\n",
      "--------------------------------------------------------------------------------\n",
      "150 fits failed with the following error:\n",
      "Traceback (most recent call last):\n",
      "  File \"C:\\Users\\skyne\\anaconda3\\lib\\site-packages\\sklearn\\model_selection\\_validation.py\", line 686, in _fit_and_score\n",
      "    estimator.fit(X_train, y_train, **fit_params)\n",
      "  File \"C:\\Users\\skyne\\anaconda3\\lib\\site-packages\\sklearn\\pipeline.py\", line 405, in fit\n",
      "    self._final_estimator.fit(Xt, y, **fit_params_last_step)\n",
      "  File \"C:\\Users\\skyne\\anaconda3\\lib\\site-packages\\sklearn\\linear_model\\_logistic.py\", line 1162, in fit\n",
      "    solver = _check_solver(self.solver, self.penalty, self.dual)\n",
      "  File \"C:\\Users\\skyne\\anaconda3\\lib\\site-packages\\sklearn\\linear_model\\_logistic.py\", line 54, in _check_solver\n",
      "    raise ValueError(\n",
      "ValueError: Solver lbfgs supports only 'l2' or 'none' penalties, got l1 penalty.\n",
      "\n",
      "  warnings.warn(some_fits_failed_message, FitFailedWarning)\n",
      "C:\\Users\\skyne\\anaconda3\\lib\\site-packages\\sklearn\\model_selection\\_search.py:952: UserWarning: One or more of the test scores are non-finite: [       nan        nan        nan        nan        nan        nan\n",
      " 0.50373361 0.50637097 0.50373361 0.50373361 0.50131868 0.50373361\n",
      " 0.89652718 0.89916406 0.89454916 0.9011404  0.8952085  0.90114184\n",
      " 0.8969665  0.89938408 0.89498872 0.90157996 0.8952085  0.90158092\n",
      "        nan        nan        nan        nan        nan        nan\n",
      " 0.83721427 0.83765359 0.83831172 0.83369996 0.83633466 0.83172073\n",
      " 0.90333699 0.9072899  0.89916189 0.90882764 0.8980642  0.90926672\n",
      " 0.90377655 0.90750944 0.89960145 0.90882764 0.8980642  0.9094865\n",
      "        nan        nan        nan        nan        nan        nan\n",
      " 0.9092684  0.90882836 0.91080566 0.90970821 0.9123434  0.911465\n",
      " 0.92201107 0.92245088 0.92244967 0.92420791 0.92222989 0.92464723\n",
      " 0.92201131 0.92245088 0.92223013 0.92376883 0.92223013 0.92464723\n",
      "        nan        nan        nan        nan        nan        nan\n",
      " 0.90026272 0.90509644 0.90158237 0.91058902 0.90180046 0.9123475\n",
      " 0.91652115 0.91629968 0.91608183 0.92223085 0.91476412 0.92135246\n",
      " 0.91674093 0.91629968 0.91542297 0.92157175 0.91498366 0.92157224\n",
      "        nan        nan        nan        nan        nan        nan\n",
      " 0.88664455 0.89191879 0.8930148  0.90641536 0.89521164 0.91454289\n",
      " 0.88862089 0.89718894 0.89389368 0.91168671 0.894333   0.91300443\n",
      " 0.89015935 0.89894694 0.89587122 0.91256535 0.89565168 0.91344447]\n",
      "  warnings.warn(\n"
     ]
    },
    {
     "name": "stdout",
     "output_type": "stream",
     "text": [
      "Fitting 5 folds for each of 120 candidates, totalling 600 fits\n"
     ]
    },
    {
     "name": "stderr",
     "output_type": "stream",
     "text": [
      "C:\\Users\\skyne\\anaconda3\\lib\\site-packages\\sklearn\\model_selection\\_validation.py:378: FitFailedWarning: \n",
      "150 fits failed out of a total of 600.\n",
      "The score on these train-test partitions for these parameters will be set to nan.\n",
      "If these failures are not expected, you can try to debug them by setting error_score='raise'.\n",
      "\n",
      "Below are more details about the failures:\n",
      "--------------------------------------------------------------------------------\n",
      "150 fits failed with the following error:\n",
      "Traceback (most recent call last):\n",
      "  File \"C:\\Users\\skyne\\anaconda3\\lib\\site-packages\\sklearn\\model_selection\\_validation.py\", line 686, in _fit_and_score\n",
      "    estimator.fit(X_train, y_train, **fit_params)\n",
      "  File \"C:\\Users\\skyne\\anaconda3\\lib\\site-packages\\sklearn\\pipeline.py\", line 405, in fit\n",
      "    self._final_estimator.fit(Xt, y, **fit_params_last_step)\n",
      "  File \"C:\\Users\\skyne\\anaconda3\\lib\\site-packages\\sklearn\\linear_model\\_logistic.py\", line 1162, in fit\n",
      "    solver = _check_solver(self.solver, self.penalty, self.dual)\n",
      "  File \"C:\\Users\\skyne\\anaconda3\\lib\\site-packages\\sklearn\\linear_model\\_logistic.py\", line 54, in _check_solver\n",
      "    raise ValueError(\n",
      "ValueError: Solver lbfgs supports only 'l2' or 'none' penalties, got l1 penalty.\n",
      "\n",
      "  warnings.warn(some_fits_failed_message, FitFailedWarning)\n",
      "C:\\Users\\skyne\\anaconda3\\lib\\site-packages\\sklearn\\model_selection\\_search.py:952: UserWarning: One or more of the test scores are non-finite: [       nan        nan        nan        nan        nan        nan\n",
      " 0.50395604 0.50637097 0.49868132 0.50637097 0.49845888 0.50373361\n",
      " 0.89037382 0.89410815 0.8903743  0.89410912 0.88905683 0.89345122\n",
      " 0.89015428 0.89410815 0.88993498 0.89410912 0.88905683 0.89345147\n",
      "        nan        nan        nan        nan        nan        nan\n",
      " 0.83457739 0.83545627 0.83303893 0.83194099 0.83325871 0.83084185\n",
      " 0.89828422 0.90113871 0.89608521 0.9020171  0.8960869  0.90201783\n",
      " 0.89828422 0.90157803 0.89608521 0.9020171  0.89630668 0.90201783\n",
      "        nan        nan        nan        nan        nan        nan\n",
      " 0.90619317 0.90531357 0.90729159 0.90597315 0.90839049 0.90641247\n",
      " 0.91585892 0.91695782 0.91519885 0.91761499 0.91454072 0.91519861\n",
      " 0.9160787  0.91739714 0.91497931 0.91805455 0.9147605  0.91519861\n",
      "        nan        nan        nan        nan        nan        nan\n",
      " 0.89257476 0.89762681 0.89609124 0.90158237 0.89609076 0.90597604\n",
      " 0.90861196 0.91212531 0.91190601 0.9158606  0.91080759 0.91805744\n",
      " 0.90905104 0.91278465 0.91168671 0.9158606  0.91102761 0.91805768\n",
      "        nan        nan        nan        nan        nan        nan\n",
      " 0.87588039 0.88840038 0.88313241 0.90202265 0.88664672 0.90509741\n",
      " 0.87939639 0.89257307 0.88488921 0.90399899 0.8899415  0.90949253\n",
      " 0.8807141  0.89367245 0.88642646 0.90421901 0.88994198 0.90993305]\n",
      "  warnings.warn(\n"
     ]
    },
    {
     "name": "stdout",
     "output_type": "stream",
     "text": [
      "Fitting 5 folds for each of 120 candidates, totalling 600 fits\n"
     ]
    },
    {
     "name": "stderr",
     "output_type": "stream",
     "text": [
      "C:\\Users\\skyne\\anaconda3\\lib\\site-packages\\sklearn\\model_selection\\_validation.py:378: FitFailedWarning: \n",
      "150 fits failed out of a total of 600.\n",
      "The score on these train-test partitions for these parameters will be set to nan.\n",
      "If these failures are not expected, you can try to debug them by setting error_score='raise'.\n",
      "\n",
      "Below are more details about the failures:\n",
      "--------------------------------------------------------------------------------\n",
      "150 fits failed with the following error:\n",
      "Traceback (most recent call last):\n",
      "  File \"C:\\Users\\skyne\\anaconda3\\lib\\site-packages\\sklearn\\model_selection\\_validation.py\", line 686, in _fit_and_score\n",
      "    estimator.fit(X_train, y_train, **fit_params)\n",
      "  File \"C:\\Users\\skyne\\anaconda3\\lib\\site-packages\\sklearn\\pipeline.py\", line 405, in fit\n",
      "    self._final_estimator.fit(Xt, y, **fit_params_last_step)\n",
      "  File \"C:\\Users\\skyne\\anaconda3\\lib\\site-packages\\sklearn\\linear_model\\_logistic.py\", line 1162, in fit\n",
      "    solver = _check_solver(self.solver, self.penalty, self.dual)\n",
      "  File \"C:\\Users\\skyne\\anaconda3\\lib\\site-packages\\sklearn\\linear_model\\_logistic.py\", line 54, in _check_solver\n",
      "    raise ValueError(\n",
      "ValueError: Solver lbfgs supports only 'l2' or 'none' penalties, got l1 penalty.\n",
      "\n",
      "  warnings.warn(some_fits_failed_message, FitFailedWarning)\n",
      "C:\\Users\\skyne\\anaconda3\\lib\\site-packages\\sklearn\\model_selection\\_search.py:952: UserWarning: One or more of the test scores are non-finite: [       nan        nan        nan        nan        nan        nan\n",
      " 0.49846154 0.50615119 0.50373626 0.50395339 0.50615119 0.50395339\n",
      " 0.89125149 0.89498583 0.89278947 0.89300973 0.89059239 0.89432721\n",
      " 0.89169154 0.89498559 0.89256993 0.89322951 0.89059239 0.89366811\n",
      "        nan        nan        nan        nan        nan        nan\n",
      " 0.83501864 0.83216246 0.83106404 0.8293058  0.82974608 0.82996442\n",
      " 0.90048106 0.9044342  0.898504   0.90465423 0.89740655 0.90421539\n",
      " 0.90026152 0.90465398 0.898504   0.90465423 0.89740655 0.90421539\n",
      "        nan        nan        nan        nan        nan        nan\n",
      " 0.90729183 0.90882884 0.90817071 0.9088286  0.90839025 0.90839025\n",
      " 0.91761547 0.91871437 0.91717615 0.91915321 0.91717591 0.92047068\n",
      " 0.91761547 0.91871461 0.91783525 0.91937275 0.91783525 0.92047092\n",
      "        nan        nan        nan        nan        nan        nan\n",
      " 0.89477063 0.9000427  0.89784611 0.90355653 0.89784611 0.90509499\n",
      " 0.90773091 0.91190553 0.91278296 0.91717711 0.9101468  0.91805503\n",
      " 0.90795069 0.91124643 0.91212386 0.9173969  0.91124522 0.91827505\n",
      "        nan        nan        nan        nan        nan        nan\n",
      " 0.88027117 0.89081555 0.88818084 0.90311769 0.88905827 0.90926913\n",
      " 0.88422576 0.8943301  0.89081676 0.90685227 0.89191373 0.90970748\n",
      " 0.88598328 0.89542804 0.89279454 0.90772946 0.89455037 0.91036706]\n",
      "  warnings.warn(\n"
     ]
    },
    {
     "name": "stdout",
     "output_type": "stream",
     "text": [
      "  GridSearch Transformer        Model  cross_val_score  Train Score  \\\n",
      "0          -       CVect     Logistic         0.907030     0.974868   \n",
      "1          +       CVect     Logistic         0.907733     0.975747   \n",
      "2          -       CVect  Multinomial         0.903163     0.929525   \n",
      "3          +       CVect     Logistic         0.903339     0.919684   \n",
      "4          -       Tfidf     Logistic         0.917223     0.943234   \n",
      "5          +       Tfidf     Logistic         0.921265     0.947627   \n",
      "\n",
      "   Test Score  \n",
      "0    0.906168  \n",
      "1    0.912493  \n",
      "2    0.904586  \n",
      "3    0.908276  \n",
      "4    0.921455  \n",
      "5    0.921982  \n"
     ]
    }
   ],
   "source": [
    "modelscore(gs_3, '+', 'Tfidf', 'Logistic')"
   ]
  },
  {
   "cell_type": "markdown",
   "id": "e9d834c2",
   "metadata": {},
   "source": [
    "#### Model 4: TfidfVectorizer and MultinomialNB"
   ]
  },
  {
   "cell_type": "code",
   "execution_count": 146,
   "id": "7c8a9a26",
   "metadata": {},
   "outputs": [],
   "source": [
    "pipe_tvec_nb = Pipeline([('tvec', TfidfVectorizer()),\n",
    "                 ('nb', MultinomialNB())\n",
    "                ])"
   ]
  },
  {
   "cell_type": "code",
   "execution_count": 147,
   "id": "233d062f",
   "metadata": {},
   "outputs": [
    {
     "data": {
      "text/html": [
       "<style>#sk-container-id-10 {color: black;background-color: white;}#sk-container-id-10 pre{padding: 0;}#sk-container-id-10 div.sk-toggleable {background-color: white;}#sk-container-id-10 label.sk-toggleable__label {cursor: pointer;display: block;width: 100%;margin-bottom: 0;padding: 0.3em;box-sizing: border-box;text-align: center;}#sk-container-id-10 label.sk-toggleable__label-arrow:before {content: \"▸\";float: left;margin-right: 0.25em;color: #696969;}#sk-container-id-10 label.sk-toggleable__label-arrow:hover:before {color: black;}#sk-container-id-10 div.sk-estimator:hover label.sk-toggleable__label-arrow:before {color: black;}#sk-container-id-10 div.sk-toggleable__content {max-height: 0;max-width: 0;overflow: hidden;text-align: left;background-color: #f0f8ff;}#sk-container-id-10 div.sk-toggleable__content pre {margin: 0.2em;color: black;border-radius: 0.25em;background-color: #f0f8ff;}#sk-container-id-10 input.sk-toggleable__control:checked~div.sk-toggleable__content {max-height: 200px;max-width: 100%;overflow: auto;}#sk-container-id-10 input.sk-toggleable__control:checked~label.sk-toggleable__label-arrow:before {content: \"▾\";}#sk-container-id-10 div.sk-estimator input.sk-toggleable__control:checked~label.sk-toggleable__label {background-color: #d4ebff;}#sk-container-id-10 div.sk-label input.sk-toggleable__control:checked~label.sk-toggleable__label {background-color: #d4ebff;}#sk-container-id-10 input.sk-hidden--visually {border: 0;clip: rect(1px 1px 1px 1px);clip: rect(1px, 1px, 1px, 1px);height: 1px;margin: -1px;overflow: hidden;padding: 0;position: absolute;width: 1px;}#sk-container-id-10 div.sk-estimator {font-family: monospace;background-color: #f0f8ff;border: 1px dotted black;border-radius: 0.25em;box-sizing: border-box;margin-bottom: 0.5em;}#sk-container-id-10 div.sk-estimator:hover {background-color: #d4ebff;}#sk-container-id-10 div.sk-parallel-item::after {content: \"\";width: 100%;border-bottom: 1px solid gray;flex-grow: 1;}#sk-container-id-10 div.sk-label:hover label.sk-toggleable__label {background-color: #d4ebff;}#sk-container-id-10 div.sk-serial::before {content: \"\";position: absolute;border-left: 1px solid gray;box-sizing: border-box;top: 0;bottom: 0;left: 50%;z-index: 0;}#sk-container-id-10 div.sk-serial {display: flex;flex-direction: column;align-items: center;background-color: white;padding-right: 0.2em;padding-left: 0.2em;position: relative;}#sk-container-id-10 div.sk-item {position: relative;z-index: 1;}#sk-container-id-10 div.sk-parallel {display: flex;align-items: stretch;justify-content: center;background-color: white;position: relative;}#sk-container-id-10 div.sk-item::before, #sk-container-id-10 div.sk-parallel-item::before {content: \"\";position: absolute;border-left: 1px solid gray;box-sizing: border-box;top: 0;bottom: 0;left: 50%;z-index: -1;}#sk-container-id-10 div.sk-parallel-item {display: flex;flex-direction: column;z-index: 1;position: relative;background-color: white;}#sk-container-id-10 div.sk-parallel-item:first-child::after {align-self: flex-end;width: 50%;}#sk-container-id-10 div.sk-parallel-item:last-child::after {align-self: flex-start;width: 50%;}#sk-container-id-10 div.sk-parallel-item:only-child::after {width: 0;}#sk-container-id-10 div.sk-dashed-wrapped {border: 1px dashed gray;margin: 0 0.4em 0.5em 0.4em;box-sizing: border-box;padding-bottom: 0.4em;background-color: white;}#sk-container-id-10 div.sk-label label {font-family: monospace;font-weight: bold;display: inline-block;line-height: 1.2em;}#sk-container-id-10 div.sk-label-container {text-align: center;}#sk-container-id-10 div.sk-container {/* jupyter's `normalize.less` sets `[hidden] { display: none; }` but bootstrap.min.css set `[hidden] { display: none !important; }` so we also need the `!important` here to be able to override the default hidden behavior on the sphinx rendered scikit-learn.org. See: https://github.com/scikit-learn/scikit-learn/issues/21755 */display: inline-block !important;position: relative;}#sk-container-id-10 div.sk-text-repr-fallback {display: none;}</style><div id=\"sk-container-id-10\" class=\"sk-top-container\"><div class=\"sk-text-repr-fallback\"><pre>Pipeline(steps=[(&#x27;tvec&#x27;, TfidfVectorizer()), (&#x27;nb&#x27;, MultinomialNB())])</pre><b>In a Jupyter environment, please rerun this cell to show the HTML representation or trust the notebook. <br />On GitHub, the HTML representation is unable to render, please try loading this page with nbviewer.org.</b></div><div class=\"sk-container\" hidden><div class=\"sk-item sk-dashed-wrapped\"><div class=\"sk-label-container\"><div class=\"sk-label sk-toggleable\"><input class=\"sk-toggleable__control sk-hidden--visually\" id=\"sk-estimator-id-31\" type=\"checkbox\" ><label for=\"sk-estimator-id-31\" class=\"sk-toggleable__label sk-toggleable__label-arrow\">Pipeline</label><div class=\"sk-toggleable__content\"><pre>Pipeline(steps=[(&#x27;tvec&#x27;, TfidfVectorizer()), (&#x27;nb&#x27;, MultinomialNB())])</pre></div></div></div><div class=\"sk-serial\"><div class=\"sk-item\"><div class=\"sk-estimator sk-toggleable\"><input class=\"sk-toggleable__control sk-hidden--visually\" id=\"sk-estimator-id-32\" type=\"checkbox\" ><label for=\"sk-estimator-id-32\" class=\"sk-toggleable__label sk-toggleable__label-arrow\">TfidfVectorizer</label><div class=\"sk-toggleable__content\"><pre>TfidfVectorizer()</pre></div></div></div><div class=\"sk-item\"><div class=\"sk-estimator sk-toggleable\"><input class=\"sk-toggleable__control sk-hidden--visually\" id=\"sk-estimator-id-33\" type=\"checkbox\" ><label for=\"sk-estimator-id-33\" class=\"sk-toggleable__label sk-toggleable__label-arrow\">MultinomialNB</label><div class=\"sk-toggleable__content\"><pre>MultinomialNB()</pre></div></div></div></div></div></div></div>"
      ],
      "text/plain": [
       "Pipeline(steps=[('tvec', TfidfVectorizer()), ('nb', MultinomialNB())])"
      ]
     },
     "execution_count": 147,
     "metadata": {},
     "output_type": "execute_result"
    }
   ],
   "source": [
    "pipe_tvec_nb.fit(X_train, y_train)"
   ]
  },
  {
   "cell_type": "code",
   "execution_count": 148,
   "id": "7b2113ab",
   "metadata": {
    "scrolled": true
   },
   "outputs": [
    {
     "data": {
      "text/plain": [
       "array([0.88224956, 0.88488576, 0.86203866, 0.89367311, 0.90246046])"
      ]
     },
     "execution_count": 148,
     "metadata": {},
     "output_type": "execute_result"
    }
   ],
   "source": [
    "cross_val_score(pipe_tvec_nb, X_train, y_train, cv=5)"
   ]
  },
  {
   "cell_type": "code",
   "execution_count": 149,
   "id": "0995b93a",
   "metadata": {},
   "outputs": [
    {
     "name": "stdout",
     "output_type": "stream",
     "text": [
      "  GridSearch Transformer          Model  cross_val_score  Train Score  \\\n",
      "0          -       CVect       Logistic         0.907030     0.974868   \n",
      "1          +       CVect       Logistic         0.907733     0.975747   \n",
      "2          -       CVect    Multinomial         0.903163     0.929525   \n",
      "3          +       CVect       Logistic         0.903339     0.919684   \n",
      "4          -       Tfidf       Logistic         0.917223     0.943234   \n",
      "5          +       Tfidf       Logistic         0.921265     0.947627   \n",
      "6          -       Tfidf  MultinomialNB         0.885062     0.921793   \n",
      "\n",
      "   Test Score  \n",
      "0    0.906168  \n",
      "1    0.912493  \n",
      "2    0.904586  \n",
      "3    0.908276  \n",
      "4    0.921455  \n",
      "5    0.921982  \n",
      "6    0.885082  \n"
     ]
    }
   ],
   "source": [
    "modelscore(pipe_tvec_nb, '-', 'Tfidf', 'MultinomialNB')"
   ]
  },
  {
   "cell_type": "code",
   "execution_count": 151,
   "id": "5f2f90e6",
   "metadata": {
    "scrolled": true
   },
   "outputs": [
    {
     "data": {
      "text/plain": [
       "dict_keys(['memory', 'steps', 'verbose', 'tvec', 'nb', 'tvec__analyzer', 'tvec__binary', 'tvec__decode_error', 'tvec__dtype', 'tvec__encoding', 'tvec__input', 'tvec__lowercase', 'tvec__max_df', 'tvec__max_features', 'tvec__min_df', 'tvec__ngram_range', 'tvec__norm', 'tvec__preprocessor', 'tvec__smooth_idf', 'tvec__stop_words', 'tvec__strip_accents', 'tvec__sublinear_tf', 'tvec__token_pattern', 'tvec__tokenizer', 'tvec__use_idf', 'tvec__vocabulary', 'nb__alpha', 'nb__class_prior', 'nb__fit_prior', 'nb__force_alpha'])"
      ]
     },
     "execution_count": 151,
     "metadata": {},
     "output_type": "execute_result"
    }
   ],
   "source": [
    "# check the adjustable parameters\n",
    "pipe_tvec_nb.get_params().keys()"
   ]
  },
  {
   "cell_type": "code",
   "execution_count": 152,
   "id": "5dc41ef8",
   "metadata": {},
   "outputs": [],
   "source": [
    "pipe_params_4 = {\n",
    "    'tvec__max_features': [2000, 4000, 6000],\n",
    "    'tvec__ngram_range': [(1, 1), (1, 2)]}"
   ]
  },
  {
   "cell_type": "code",
   "execution_count": 153,
   "id": "0b1320e9",
   "metadata": {},
   "outputs": [],
   "source": [
    "gs_4 = GridSearchCV(pipe_tvec_nb,\n",
    "                  pipe_params_4,\n",
    "                  cv=5, verbose = 2, n_jobs = -1)"
   ]
  },
  {
   "cell_type": "code",
   "execution_count": 154,
   "id": "3ff6a052",
   "metadata": {
    "scrolled": true
   },
   "outputs": [
    {
     "name": "stdout",
     "output_type": "stream",
     "text": [
      "Fitting 5 folds for each of 6 candidates, totalling 30 fits\n"
     ]
    },
    {
     "data": {
      "text/html": [
       "<style>#sk-container-id-11 {color: black;background-color: white;}#sk-container-id-11 pre{padding: 0;}#sk-container-id-11 div.sk-toggleable {background-color: white;}#sk-container-id-11 label.sk-toggleable__label {cursor: pointer;display: block;width: 100%;margin-bottom: 0;padding: 0.3em;box-sizing: border-box;text-align: center;}#sk-container-id-11 label.sk-toggleable__label-arrow:before {content: \"▸\";float: left;margin-right: 0.25em;color: #696969;}#sk-container-id-11 label.sk-toggleable__label-arrow:hover:before {color: black;}#sk-container-id-11 div.sk-estimator:hover label.sk-toggleable__label-arrow:before {color: black;}#sk-container-id-11 div.sk-toggleable__content {max-height: 0;max-width: 0;overflow: hidden;text-align: left;background-color: #f0f8ff;}#sk-container-id-11 div.sk-toggleable__content pre {margin: 0.2em;color: black;border-radius: 0.25em;background-color: #f0f8ff;}#sk-container-id-11 input.sk-toggleable__control:checked~div.sk-toggleable__content {max-height: 200px;max-width: 100%;overflow: auto;}#sk-container-id-11 input.sk-toggleable__control:checked~label.sk-toggleable__label-arrow:before {content: \"▾\";}#sk-container-id-11 div.sk-estimator input.sk-toggleable__control:checked~label.sk-toggleable__label {background-color: #d4ebff;}#sk-container-id-11 div.sk-label input.sk-toggleable__control:checked~label.sk-toggleable__label {background-color: #d4ebff;}#sk-container-id-11 input.sk-hidden--visually {border: 0;clip: rect(1px 1px 1px 1px);clip: rect(1px, 1px, 1px, 1px);height: 1px;margin: -1px;overflow: hidden;padding: 0;position: absolute;width: 1px;}#sk-container-id-11 div.sk-estimator {font-family: monospace;background-color: #f0f8ff;border: 1px dotted black;border-radius: 0.25em;box-sizing: border-box;margin-bottom: 0.5em;}#sk-container-id-11 div.sk-estimator:hover {background-color: #d4ebff;}#sk-container-id-11 div.sk-parallel-item::after {content: \"\";width: 100%;border-bottom: 1px solid gray;flex-grow: 1;}#sk-container-id-11 div.sk-label:hover label.sk-toggleable__label {background-color: #d4ebff;}#sk-container-id-11 div.sk-serial::before {content: \"\";position: absolute;border-left: 1px solid gray;box-sizing: border-box;top: 0;bottom: 0;left: 50%;z-index: 0;}#sk-container-id-11 div.sk-serial {display: flex;flex-direction: column;align-items: center;background-color: white;padding-right: 0.2em;padding-left: 0.2em;position: relative;}#sk-container-id-11 div.sk-item {position: relative;z-index: 1;}#sk-container-id-11 div.sk-parallel {display: flex;align-items: stretch;justify-content: center;background-color: white;position: relative;}#sk-container-id-11 div.sk-item::before, #sk-container-id-11 div.sk-parallel-item::before {content: \"\";position: absolute;border-left: 1px solid gray;box-sizing: border-box;top: 0;bottom: 0;left: 50%;z-index: -1;}#sk-container-id-11 div.sk-parallel-item {display: flex;flex-direction: column;z-index: 1;position: relative;background-color: white;}#sk-container-id-11 div.sk-parallel-item:first-child::after {align-self: flex-end;width: 50%;}#sk-container-id-11 div.sk-parallel-item:last-child::after {align-self: flex-start;width: 50%;}#sk-container-id-11 div.sk-parallel-item:only-child::after {width: 0;}#sk-container-id-11 div.sk-dashed-wrapped {border: 1px dashed gray;margin: 0 0.4em 0.5em 0.4em;box-sizing: border-box;padding-bottom: 0.4em;background-color: white;}#sk-container-id-11 div.sk-label label {font-family: monospace;font-weight: bold;display: inline-block;line-height: 1.2em;}#sk-container-id-11 div.sk-label-container {text-align: center;}#sk-container-id-11 div.sk-container {/* jupyter's `normalize.less` sets `[hidden] { display: none; }` but bootstrap.min.css set `[hidden] { display: none !important; }` so we also need the `!important` here to be able to override the default hidden behavior on the sphinx rendered scikit-learn.org. See: https://github.com/scikit-learn/scikit-learn/issues/21755 */display: inline-block !important;position: relative;}#sk-container-id-11 div.sk-text-repr-fallback {display: none;}</style><div id=\"sk-container-id-11\" class=\"sk-top-container\"><div class=\"sk-text-repr-fallback\"><pre>GridSearchCV(cv=5,\n",
       "             estimator=Pipeline(steps=[(&#x27;tvec&#x27;, TfidfVectorizer()),\n",
       "                                       (&#x27;nb&#x27;, MultinomialNB())]),\n",
       "             n_jobs=-1,\n",
       "             param_grid={&#x27;tvec__max_features&#x27;: [2000, 4000, 6000],\n",
       "                         &#x27;tvec__ngram_range&#x27;: [(1, 1), (1, 2)]},\n",
       "             verbose=2)</pre><b>In a Jupyter environment, please rerun this cell to show the HTML representation or trust the notebook. <br />On GitHub, the HTML representation is unable to render, please try loading this page with nbviewer.org.</b></div><div class=\"sk-container\" hidden><div class=\"sk-item sk-dashed-wrapped\"><div class=\"sk-label-container\"><div class=\"sk-label sk-toggleable\"><input class=\"sk-toggleable__control sk-hidden--visually\" id=\"sk-estimator-id-34\" type=\"checkbox\" ><label for=\"sk-estimator-id-34\" class=\"sk-toggleable__label sk-toggleable__label-arrow\">GridSearchCV</label><div class=\"sk-toggleable__content\"><pre>GridSearchCV(cv=5,\n",
       "             estimator=Pipeline(steps=[(&#x27;tvec&#x27;, TfidfVectorizer()),\n",
       "                                       (&#x27;nb&#x27;, MultinomialNB())]),\n",
       "             n_jobs=-1,\n",
       "             param_grid={&#x27;tvec__max_features&#x27;: [2000, 4000, 6000],\n",
       "                         &#x27;tvec__ngram_range&#x27;: [(1, 1), (1, 2)]},\n",
       "             verbose=2)</pre></div></div></div><div class=\"sk-parallel\"><div class=\"sk-parallel-item\"><div class=\"sk-item\"><div class=\"sk-label-container\"><div class=\"sk-label sk-toggleable\"><input class=\"sk-toggleable__control sk-hidden--visually\" id=\"sk-estimator-id-35\" type=\"checkbox\" ><label for=\"sk-estimator-id-35\" class=\"sk-toggleable__label sk-toggleable__label-arrow\">estimator: Pipeline</label><div class=\"sk-toggleable__content\"><pre>Pipeline(steps=[(&#x27;tvec&#x27;, TfidfVectorizer()), (&#x27;nb&#x27;, MultinomialNB())])</pre></div></div></div><div class=\"sk-serial\"><div class=\"sk-item\"><div class=\"sk-serial\"><div class=\"sk-item\"><div class=\"sk-estimator sk-toggleable\"><input class=\"sk-toggleable__control sk-hidden--visually\" id=\"sk-estimator-id-36\" type=\"checkbox\" ><label for=\"sk-estimator-id-36\" class=\"sk-toggleable__label sk-toggleable__label-arrow\">TfidfVectorizer</label><div class=\"sk-toggleable__content\"><pre>TfidfVectorizer()</pre></div></div></div><div class=\"sk-item\"><div class=\"sk-estimator sk-toggleable\"><input class=\"sk-toggleable__control sk-hidden--visually\" id=\"sk-estimator-id-37\" type=\"checkbox\" ><label for=\"sk-estimator-id-37\" class=\"sk-toggleable__label sk-toggleable__label-arrow\">MultinomialNB</label><div class=\"sk-toggleable__content\"><pre>MultinomialNB()</pre></div></div></div></div></div></div></div></div></div></div></div></div>"
      ],
      "text/plain": [
       "GridSearchCV(cv=5,\n",
       "             estimator=Pipeline(steps=[('tvec', TfidfVectorizer()),\n",
       "                                       ('nb', MultinomialNB())]),\n",
       "             n_jobs=-1,\n",
       "             param_grid={'tvec__max_features': [2000, 4000, 6000],\n",
       "                         'tvec__ngram_range': [(1, 1), (1, 2)]},\n",
       "             verbose=2)"
      ]
     },
     "execution_count": 154,
     "metadata": {},
     "output_type": "execute_result"
    }
   ],
   "source": [
    "gs_4.fit(X_train, y_train)"
   ]
  },
  {
   "cell_type": "code",
   "execution_count": 155,
   "id": "2d65a7cb",
   "metadata": {
    "scrolled": true
   },
   "outputs": [
    {
     "data": {
      "text/plain": [
       "{'tvec__max_features': 6000, 'tvec__ngram_range': (1, 2)}"
      ]
     },
     "execution_count": 155,
     "metadata": {},
     "output_type": "execute_result"
    }
   ],
   "source": [
    "gs_4.best_params_"
   ]
  },
  {
   "cell_type": "code",
   "execution_count": 156,
   "id": "1f03bbc5",
   "metadata": {
    "scrolled": true
   },
   "outputs": [
    {
     "data": {
      "text/plain": [
       "0.9050966608084359"
      ]
     },
     "execution_count": 156,
     "metadata": {},
     "output_type": "execute_result"
    }
   ],
   "source": [
    "gs_4.best_score_"
   ]
  },
  {
   "cell_type": "code",
   "execution_count": 158,
   "id": "7242d668",
   "metadata": {},
   "outputs": [
    {
     "name": "stdout",
     "output_type": "stream",
     "text": [
      "Fitting 5 folds for each of 6 candidates, totalling 30 fits\n",
      "Fitting 5 folds for each of 6 candidates, totalling 30 fits\n",
      "Fitting 5 folds for each of 6 candidates, totalling 30 fits\n",
      "Fitting 5 folds for each of 6 candidates, totalling 30 fits\n",
      "Fitting 5 folds for each of 6 candidates, totalling 30 fits\n",
      "  GridSearch Transformer          Model  cross_val_score  Train Score  \\\n",
      "0          -       CVect       Logistic         0.907030     0.974868   \n",
      "1          +       CVect       Logistic         0.907733     0.975747   \n",
      "2          -       CVect    Multinomial         0.903163     0.929525   \n",
      "3          +       CVect       Logistic         0.903339     0.919684   \n",
      "4          -       Tfidf       Logistic         0.917223     0.943234   \n",
      "5          +       Tfidf       Logistic         0.921265     0.947627   \n",
      "6          -       Tfidf  MultinomialNB         0.885062     0.921793   \n",
      "7          +       Tfidf  MultinomialNB         0.885062     0.921793   \n",
      "8          +       Tfidf  MultinomialNB         0.903339     0.930931   \n",
      "\n",
      "   Test Score  \n",
      "0    0.906168  \n",
      "1    0.912493  \n",
      "2    0.904586  \n",
      "3    0.908276  \n",
      "4    0.921455  \n",
      "5    0.921982  \n",
      "6    0.885082  \n",
      "7    0.885082  \n",
      "8    0.907222  \n"
     ]
    }
   ],
   "source": [
    "modelscore(gs_4, '+', 'Tfidf', 'MultinomialNB')"
   ]
  },
  {
   "cell_type": "markdown",
   "id": "f9539283",
   "metadata": {},
   "source": [
    "### Model Evaluation"
   ]
  },
  {
   "cell_type": "code",
   "execution_count": null,
   "id": "fe4da573",
   "metadata": {},
   "outputs": [],
   "source": [
    "def c_matrix(model, X_test):\n",
    "    model.fit(X_train, y_train) \n",
    "    y_pred = model.predict(X_test)            # calculate predictions\n",
    "    cm = confusion_matrix(y_test, y_pred)    # defining the confusion matrix\n",
    "    tn, fp, fn, tp = cm.ravel()               # assigning the elements of the confusion matrix to variables\n",
    "    \n",
    "    spec = tn / (tn + fp)                     # calculate the specificity\n",
    "    sens = tp / (tp + fn)                     # calculate the sensitivity\n",
    "    \n",
    "    print('Specificity:', spec)\n",
    "    print('Sensitivity:', sens)\n",
    "    \n",
    "    # View confusion matrix\n",
    "    #ConfusionMatrixDisplay.from_estimator(model, X_test, y_test, cmap='Blues', values_format='d')\n",
    "\n",
    "    return pd.DataFrame(cm, \n",
    "                        columns = ['Pred AwardTravel','Pred TravelHack'], \n",
    "                        index = ['Act AwardTravel', 'Act TravelHack'])"
   ]
  },
  {
   "cell_type": "code",
   "execution_count": null,
   "id": "18601c0a",
   "metadata": {},
   "outputs": [],
   "source": [
    "def display_matrix(model, X_test, y_test):\n",
    "    ConfusionMatrixDisplay.from_estimator(model, X_test, y_test, cmap='Blues', values_format='d');"
   ]
  },
  {
   "cell_type": "code",
   "execution_count": null,
   "id": "c3042078",
   "metadata": {},
   "outputs": [],
   "source": [
    "print(f\"CountVectorizer and LogisticRegression\")\n",
    "c_matrix(pipe_log, X_test)\n",
    "\n",
    "display_matrix(pipe_log, X_test, y_test)"
   ]
  },
  {
   "cell_type": "code",
   "execution_count": null,
   "id": "b8362ad8",
   "metadata": {
    "scrolled": false
   },
   "outputs": [],
   "source": [
    "print(\"Grid Search of CountVectorizer and LogisticRegression\")\n",
    "c_matrix(gs, X_test)"
   ]
  },
  {
   "cell_type": "code",
   "execution_count": null,
   "id": "69cc0a4e",
   "metadata": {},
   "outputs": [],
   "source": [
    "display_matrix(gs, X_test, y_test)"
   ]
  },
  {
   "cell_type": "code",
   "execution_count": null,
   "id": "c1cde25c",
   "metadata": {
    "scrolled": false
   },
   "outputs": [],
   "source": [
    "print(f\"CountVectorizer and MultinomialNB\")\n",
    "c_matrix(pipe_nb, X_test)\n",
    "\n",
    "display_matrix(pipe_nb, X_test, y_test)"
   ]
  },
  {
   "cell_type": "code",
   "execution_count": null,
   "id": "cca029ea",
   "metadata": {},
   "outputs": [],
   "source": [
    "print(\"Grid Search of CountVectorizer and MultinomialNB\")\n",
    "c_matrix(gs_2, X_test)\n",
    "display_matrix(gs_2, X_test, y_test)"
   ]
  },
  {
   "cell_type": "code",
   "execution_count": null,
   "id": "5bcff4d5",
   "metadata": {
    "scrolled": false
   },
   "outputs": [],
   "source": [
    "print(f\"TfidfVectorizer and LogisticRegression\")\n",
    "c_matrix(pipe_tvec_log, X_test)\n",
    "display_matrix(pipe_tvec_log, X_test, y_test)"
   ]
  },
  {
   "cell_type": "code",
   "execution_count": null,
   "id": "be72601c",
   "metadata": {},
   "outputs": [],
   "source": [
    "print(\"Grid Search of TfidfVectorizer and LogisticRegression\")\n",
    "c_matrix(gs_3, X_test)\n",
    "display_matrix(gs_3, X_test, y_test)"
   ]
  },
  {
   "cell_type": "code",
   "execution_count": null,
   "id": "8130638a",
   "metadata": {},
   "outputs": [],
   "source": [
    "print(f\"TfidfVectorizer and MultinomialNB\")\n",
    "c_matrix(pipe_tvec_nb, X_test)\n",
    "display_matrix(pipe_tvec_nb, X_test, y_test)"
   ]
  },
  {
   "cell_type": "code",
   "execution_count": null,
   "id": "8f6747bc",
   "metadata": {},
   "outputs": [],
   "source": [
    "print(\"Grid Search of TfidfVectorizer and MultinomialNB\")\n",
    "c_matrix(gs_4, X_test)\n",
    "display_matrix(gs_4, X_test, y_test)"
   ]
  },
  {
   "cell_type": "code",
   "execution_count": null,
   "id": "c1b59b25",
   "metadata": {},
   "outputs": [],
   "source": [
    "#compare our model scores!\n",
    "pd.DataFrame({\n",
    "    'cvec + lr': [gs.score(X_train, y_train), gs.score(X_test, y_test), specificity],\n",
    "    'tvec + lr': [gs_tv.score(X_train, y_train), gs.score(X_test, y_test), spec_tvec],\n",
    "    'cvec + lr': [gs.score(X_train, y_train), gs.score(X_test, y_test), specificity],\n",
    "    'tvec + lr': [gs_tv.score(X_train, y_train), gs.score(X_test, y_test), spec_tvec],\n",
    "    'cvec + lr': [gs.score(X_train, y_train), gs.score(X_test, y_test), specificity],\n",
    "    'tvec + lr': [gs_tv.score(X_train, y_train), gs.score(X_test, y_test), spec_tvec],\n",
    "    'cvec + lr': [gs.score(X_train, y_train), gs.score(X_test, y_test), specificity],\n",
    "    'tvec + lr': [gs_tv.score(X_train, y_train), gs.score(X_test, y_test), spec_tvec],\n",
    "    \n",
    "    \n",
    "}, index = ['train acc', 'test acc', 'specificity'])"
   ]
  },
  {
   "cell_type": "code",
   "execution_count": null,
   "id": "0afdabad",
   "metadata": {},
   "outputs": [],
   "source": [
    "fig = plt.figure(figsize=(18, 4))\n",
    "ax1 = fig.add_subplot(1,3,1)\n",
    "ax2 = fig.add_subplot(1,3,2)\n",
    "ax3 = fig.add_subplot(1,3,3)\n",
    "\n",
    "\n",
    "plot_confusion_matrix(gs_rf, X_test, y_test, ax=ax1, cmap='Blues', values_format='d')\n",
    "ax1.xaxis.set_ticklabels(['auto', 'tft']); ax1.yaxis.set_ticklabels(['auto', 'tft'])\n",
    "ax1.set_title('RandomForest - GridSearchCV Confusion Matrix')\n",
    "\n",
    "plot_confusion_matrix(best_nb, X_test, y_test, ax=ax2, cmap='Blues', values_format='d')\n",
    "ax2.xaxis.set_ticklabels(['auto', 'tft']); ax2.yaxis.set_ticklabels(['auto', 'tft'])\n",
    "ax2.set_title('NaiveBayes - Confusion Matrix')\n",
    "\n",
    "plot_confusion_matrix(best_logr, X_test, y_test, ax=ax3, cmap='Blues', values_format='d')\n",
    "ax3.xaxis.set_ticklabels(['auto', 'tft']); ax3.yaxis.set_ticklabels(['auto', 'tft'])\n",
    "ax3.set_title('Logistic Regression - Confusion Matrix');\n",
    "\n",
    "# plt.savefig(\"./images/confusion_matrix_evaluation.png\", format=\"png\")"
   ]
  },
  {
   "cell_type": "markdown",
   "id": "259b4207",
   "metadata": {},
   "source": [
    "#### Make a function to show scores"
   ]
  },
  {
   "cell_type": "code",
   "execution_count": null,
   "id": "6a091b39",
   "metadata": {},
   "outputs": [],
   "source": [
    "# from class\n",
    "def model_score(classifier, X, y):\n",
    "    \"\"\"fit and score a model - print and return accuracy and predict_proba\n",
    "    \n",
    "    Args:\n",
    "        classifier: an instance of a scikit-learn classification estimator\n",
    "        X (2d pd.DataFrame or np.ndarray): features \n",
    "        y (1d pd.Series on np.ndarry): outcome variable\n",
    "    \n",
    "    Returns: \n",
    "        accuracy score (float): accuracy on the X_test\n",
    "        predict_proba (array of floats): predicted probabilities for each class for each sample\n",
    "    \"\"\"\n",
    "    X_train, X_test, y_train, y_test = train_test_split(X, y)\n",
    "    classifier.fit(X_train, y_train)\n",
    "    score = classifier.score(X_test, y_test)\n",
    "    proba = np.round(classifier.predict_proba(X_test),2)\n",
    "    return f\"score: {score}\\nproba: {proba}\"\n"
   ]
  },
  {
   "cell_type": "code",
   "execution_count": null,
   "id": "69c4f9cd",
   "metadata": {},
   "outputs": [],
   "source": []
  },
  {
   "cell_type": "code",
   "execution_count": null,
   "id": "ad2eb1e3",
   "metadata": {},
   "outputs": [],
   "source": []
  }
 ],
 "metadata": {
  "kernelspec": {
   "display_name": "Python 3 (ipykernel)",
   "language": "python",
   "name": "python3"
  },
  "language_info": {
   "codemirror_mode": {
    "name": "ipython",
    "version": 3
   },
   "file_extension": ".py",
   "mimetype": "text/x-python",
   "name": "python",
   "nbconvert_exporter": "python",
   "pygments_lexer": "ipython3",
   "version": "3.9.13"
  }
 },
 "nbformat": 4,
 "nbformat_minor": 5
}
