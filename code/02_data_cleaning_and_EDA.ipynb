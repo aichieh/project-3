{
 "cells": [
  {
   "cell_type": "markdown",
   "id": "94a41d35",
   "metadata": {},
   "source": [
    "### Imports"
   ]
  },
  {
   "cell_type": "code",
   "execution_count": 150,
   "id": "d3f50d62",
   "metadata": {},
   "outputs": [],
   "source": [
    "# Import libraries needed for data cleaning and EDA\n",
    "import pandas as pd\n",
    "\n",
    "import pandas as pd\n",
    "import seaborn as sns\n",
    "\n",
    "import nltk\n",
    "from nltk.stem import WordNetLemmatizer\n",
    "from nltk.corpus import stopwords\n",
    "#nltk.download('stopwords')\n",
    "from nltk.tokenize import word_tokenize, RegexpTokenizer\n",
    "\n",
    "from bs4 import BeautifulSoup    \n",
    "\n",
    "import unidecode\n",
    "import contractions\n",
    "import redditcleaner\n",
    "import spacy\n",
    "#spacy.cli.download('en_core_web_md')\n",
    "#spacy.cli.download('en_core_web_sm')\n",
    "\n",
    "pd.set_option('display.max_columns', 2000)\n",
    "pd.set_option('display.max_rows', 500)"
   ]
  },
  {
   "cell_type": "code",
   "execution_count": 2,
   "id": "d50ed8ec",
   "metadata": {},
   "outputs": [],
   "source": [
    "#!pip install contractions"
   ]
  },
  {
   "cell_type": "code",
   "execution_count": 3,
   "id": "56139b02",
   "metadata": {
    "scrolled": true
   },
   "outputs": [],
   "source": [
    "#pip install redditcleaner"
   ]
  },
  {
   "cell_type": "markdown",
   "id": "3bd28bbb",
   "metadata": {},
   "source": [
    "### Load Data"
   ]
  },
  {
   "cell_type": "code",
   "execution_count": 151,
   "id": "9d730d9c",
   "metadata": {},
   "outputs": [],
   "source": [
    "awardtravel = pd.read_csv('../data/awardtravel_4000.csv')\n",
    "travelhacks = pd.read_csv('../data/TravelHacks_4000.csv')"
   ]
  },
  {
   "cell_type": "markdown",
   "id": "2b317f54",
   "metadata": {},
   "source": [
    "### Basic data cleaning"
   ]
  },
  {
   "cell_type": "markdown",
   "id": "32880cc8",
   "metadata": {},
   "source": [
    "#### Check for removed, deleted, NaN posts\n",
    "    Instead of dropping those value, I replaced them with empty string because the titles still capatured the information about the posts.  "
   ]
  },
  {
   "cell_type": "code",
   "execution_count": 152,
   "id": "15a98121",
   "metadata": {
    "scrolled": false
   },
   "outputs": [
    {
     "data": {
      "text/html": [
       "<div>\n",
       "<style scoped>\n",
       "    .dataframe tbody tr th:only-of-type {\n",
       "        vertical-align: middle;\n",
       "    }\n",
       "\n",
       "    .dataframe tbody tr th {\n",
       "        vertical-align: top;\n",
       "    }\n",
       "\n",
       "    .dataframe thead th {\n",
       "        text-align: right;\n",
       "    }\n",
       "</style>\n",
       "<table border=\"1\" class=\"dataframe\">\n",
       "  <thead>\n",
       "    <tr style=\"text-align: right;\">\n",
       "      <th></th>\n",
       "      <th>subreddit</th>\n",
       "      <th>selftext</th>\n",
       "      <th>title</th>\n",
       "      <th>distinguished</th>\n",
       "      <th>author</th>\n",
       "      <th>removed_by_category</th>\n",
       "      <th>num_comments</th>\n",
       "      <th>utc_datetime_str</th>\n",
       "    </tr>\n",
       "  </thead>\n",
       "  <tbody>\n",
       "    <tr>\n",
       "      <th>0</th>\n",
       "      <td>TravelHacks</td>\n",
       "      <td>Has anyone booked a flight to Costa Rica witho...</td>\n",
       "      <td>Winging Costa rica</td>\n",
       "      <td>NaN</td>\n",
       "      <td>lucylovesugly1</td>\n",
       "      <td>NaN</td>\n",
       "      <td>0</td>\n",
       "      <td>4/2/2023 6:51</td>\n",
       "    </tr>\n",
       "    <tr>\n",
       "      <th>1</th>\n",
       "      <td>TravelHacks</td>\n",
       "      <td>Hey, me and my friend are planning to go on a ...</td>\n",
       "      <td>I'm planning a backpacking trip to Romania, an...</td>\n",
       "      <td>NaN</td>\n",
       "      <td>wbtr42</td>\n",
       "      <td>NaN</td>\n",
       "      <td>0</td>\n",
       "      <td>4/2/2023 6:37</td>\n",
       "    </tr>\n",
       "    <tr>\n",
       "      <th>2</th>\n",
       "      <td>TravelHacks</td>\n",
       "      <td>Hey all. Planning on a visit to Chile and Arge...</td>\n",
       "      <td>Are there any budget friendly ways to get a ta...</td>\n",
       "      <td>NaN</td>\n",
       "      <td>bak1n</td>\n",
       "      <td>NaN</td>\n",
       "      <td>0</td>\n",
       "      <td>4/2/2023 6:10</td>\n",
       "    </tr>\n",
       "    <tr>\n",
       "      <th>3</th>\n",
       "      <td>TravelHacks</td>\n",
       "      <td>[removed]</td>\n",
       "      <td>Niagara Falls NY</td>\n",
       "      <td>NaN</td>\n",
       "      <td>Proud-Assumption-353</td>\n",
       "      <td>moderator</td>\n",
       "      <td>0</td>\n",
       "      <td>4/2/2023 5:28</td>\n",
       "    </tr>\n",
       "    <tr>\n",
       "      <th>4</th>\n",
       "      <td>TravelHacks</td>\n",
       "      <td>I’m heading to Europe for work in June and wan...</td>\n",
       "      <td>Nice &amp;gt; Rome flights/airlines</td>\n",
       "      <td>NaN</td>\n",
       "      <td>efisk1990</td>\n",
       "      <td>NaN</td>\n",
       "      <td>0</td>\n",
       "      <td>4/2/2023 5:06</td>\n",
       "    </tr>\n",
       "  </tbody>\n",
       "</table>\n",
       "</div>"
      ],
      "text/plain": [
       "     subreddit                                           selftext  \\\n",
       "0  TravelHacks  Has anyone booked a flight to Costa Rica witho...   \n",
       "1  TravelHacks  Hey, me and my friend are planning to go on a ...   \n",
       "2  TravelHacks  Hey all. Planning on a visit to Chile and Arge...   \n",
       "3  TravelHacks                                          [removed]   \n",
       "4  TravelHacks  I’m heading to Europe for work in June and wan...   \n",
       "\n",
       "                                               title  distinguished  \\\n",
       "0                                 Winging Costa rica            NaN   \n",
       "1  I'm planning a backpacking trip to Romania, an...            NaN   \n",
       "2  Are there any budget friendly ways to get a ta...            NaN   \n",
       "3                                   Niagara Falls NY            NaN   \n",
       "4                    Nice &gt; Rome flights/airlines            NaN   \n",
       "\n",
       "                 author removed_by_category  num_comments utc_datetime_str  \n",
       "0        lucylovesugly1                 NaN             0    4/2/2023 6:51  \n",
       "1                wbtr42                 NaN             0    4/2/2023 6:37  \n",
       "2                 bak1n                 NaN             0    4/2/2023 6:10  \n",
       "3  Proud-Assumption-353           moderator             0    4/2/2023 5:28  \n",
       "4             efisk1990                 NaN             0    4/2/2023 5:06  "
      ]
     },
     "execution_count": 152,
     "metadata": {},
     "output_type": "execute_result"
    }
   ],
   "source": [
    "travelhacks.head()"
   ]
  },
  {
   "cell_type": "code",
   "execution_count": 153,
   "id": "6a4a2e7e",
   "metadata": {},
   "outputs": [
    {
     "data": {
      "text/plain": [
       "subreddit                 0\n",
       "selftext                506\n",
       "title                     0\n",
       "distinguished          3855\n",
       "author                    0\n",
       "removed_by_category    2187\n",
       "num_comments              0\n",
       "utc_datetime_str          0\n",
       "dtype: int64"
      ]
     },
     "execution_count": 153,
     "metadata": {},
     "output_type": "execute_result"
    }
   ],
   "source": [
    "# check null value: no null value for title but 516 null calue for selftext\n",
    "travelhacks.isna().sum()"
   ]
  },
  {
   "cell_type": "code",
   "execution_count": 154,
   "id": "273d2da8",
   "metadata": {
    "scrolled": false
   },
   "outputs": [
    {
     "data": {
      "text/html": [
       "<div>\n",
       "<style scoped>\n",
       "    .dataframe tbody tr th:only-of-type {\n",
       "        vertical-align: middle;\n",
       "    }\n",
       "\n",
       "    .dataframe tbody tr th {\n",
       "        vertical-align: top;\n",
       "    }\n",
       "\n",
       "    .dataframe thead th {\n",
       "        text-align: right;\n",
       "    }\n",
       "</style>\n",
       "<table border=\"1\" class=\"dataframe\">\n",
       "  <thead>\n",
       "    <tr style=\"text-align: right;\">\n",
       "      <th></th>\n",
       "      <th>subreddit</th>\n",
       "      <th>selftext</th>\n",
       "      <th>title</th>\n",
       "      <th>distinguished</th>\n",
       "      <th>author</th>\n",
       "      <th>removed_by_category</th>\n",
       "      <th>num_comments</th>\n",
       "      <th>utc_datetime_str</th>\n",
       "    </tr>\n",
       "  </thead>\n",
       "  <tbody>\n",
       "    <tr>\n",
       "      <th>36</th>\n",
       "      <td>TravelHacks</td>\n",
       "      <td>NaN</td>\n",
       "      <td>Easiest ways to keep US mobile phone number wh...</td>\n",
       "      <td>NaN</td>\n",
       "      <td>the-cathedral-</td>\n",
       "      <td>NaN</td>\n",
       "      <td>0</td>\n",
       "      <td>4/1/2023 4:41</td>\n",
       "    </tr>\n",
       "    <tr>\n",
       "      <th>43</th>\n",
       "      <td>TravelHacks</td>\n",
       "      <td>NaN</td>\n",
       "      <td>Hello</td>\n",
       "      <td>NaN</td>\n",
       "      <td>selepsoron6389</td>\n",
       "      <td>moderator</td>\n",
       "      <td>0</td>\n",
       "      <td>3/31/2023 22:57</td>\n",
       "    </tr>\n",
       "    <tr>\n",
       "      <th>69</th>\n",
       "      <td>TravelHacks</td>\n",
       "      <td>NaN</td>\n",
       "      <td>httpsairlinesboardingpass onlineairlines check...</td>\n",
       "      <td>NaN</td>\n",
       "      <td>changeflightbooking</td>\n",
       "      <td>reddit</td>\n",
       "      <td>0</td>\n",
       "      <td>3/31/2023 14:54</td>\n",
       "    </tr>\n",
       "    <tr>\n",
       "      <th>77</th>\n",
       "      <td>TravelHacks</td>\n",
       "      <td>NaN</td>\n",
       "      <td>Cruise question - choosing a cabin? Traveling ...</td>\n",
       "      <td>NaN</td>\n",
       "      <td>aimhighsb</td>\n",
       "      <td>moderator</td>\n",
       "      <td>0</td>\n",
       "      <td>3/31/2023 14:15</td>\n",
       "    </tr>\n",
       "    <tr>\n",
       "      <th>81</th>\n",
       "      <td>TravelHacks</td>\n",
       "      <td>NaN</td>\n",
       "      <td>All-Sponsored Happiness Program in Finland - L...</td>\n",
       "      <td>NaN</td>\n",
       "      <td>MadsyKa</td>\n",
       "      <td>moderator</td>\n",
       "      <td>0</td>\n",
       "      <td>3/31/2023 12:34</td>\n",
       "    </tr>\n",
       "  </tbody>\n",
       "</table>\n",
       "</div>"
      ],
      "text/plain": [
       "      subreddit selftext                                              title  \\\n",
       "36  TravelHacks      NaN  Easiest ways to keep US mobile phone number wh...   \n",
       "43  TravelHacks      NaN                                              Hello   \n",
       "69  TravelHacks      NaN  httpsairlinesboardingpass onlineairlines check...   \n",
       "77  TravelHacks      NaN  Cruise question - choosing a cabin? Traveling ...   \n",
       "81  TravelHacks      NaN  All-Sponsored Happiness Program in Finland - L...   \n",
       "\n",
       "    distinguished               author removed_by_category  num_comments  \\\n",
       "36            NaN       the-cathedral-                 NaN             0   \n",
       "43            NaN       selepsoron6389           moderator             0   \n",
       "69            NaN  changeflightbooking              reddit             0   \n",
       "77            NaN            aimhighsb           moderator             0   \n",
       "81            NaN              MadsyKa           moderator             0   \n",
       "\n",
       "   utc_datetime_str  \n",
       "36    4/1/2023 4:41  \n",
       "43  3/31/2023 22:57  \n",
       "69  3/31/2023 14:54  \n",
       "77  3/31/2023 14:15  \n",
       "81  3/31/2023 12:34  "
      ]
     },
     "execution_count": 154,
     "metadata": {},
     "output_type": "execute_result"
    }
   ],
   "source": [
    "# even it showed nan for selftext, title still have content\n",
    "travelhacks[travelhacks['selftext'].isnull()].head()"
   ]
  },
  {
   "cell_type": "code",
   "execution_count": 155,
   "id": "ae9d6151",
   "metadata": {},
   "outputs": [],
   "source": [
    "# replace Nan with empty string\n",
    "travelhacks['selftext'] = travelhacks['selftext'].fillna('')"
   ]
  },
  {
   "cell_type": "code",
   "execution_count": 156,
   "id": "5d4378c7",
   "metadata": {
    "scrolled": false
   },
   "outputs": [
    {
     "data": {
      "text/html": [
       "<div>\n",
       "<style scoped>\n",
       "    .dataframe tbody tr th:only-of-type {\n",
       "        vertical-align: middle;\n",
       "    }\n",
       "\n",
       "    .dataframe tbody tr th {\n",
       "        vertical-align: top;\n",
       "    }\n",
       "\n",
       "    .dataframe thead th {\n",
       "        text-align: right;\n",
       "    }\n",
       "</style>\n",
       "<table border=\"1\" class=\"dataframe\">\n",
       "  <thead>\n",
       "    <tr style=\"text-align: right;\">\n",
       "      <th></th>\n",
       "      <th>subreddit</th>\n",
       "      <th>selftext</th>\n",
       "      <th>title</th>\n",
       "      <th>distinguished</th>\n",
       "      <th>author</th>\n",
       "      <th>removed_by_category</th>\n",
       "      <th>num_comments</th>\n",
       "      <th>utc_datetime_str</th>\n",
       "    </tr>\n",
       "  </thead>\n",
       "  <tbody>\n",
       "    <tr>\n",
       "      <th>3</th>\n",
       "      <td>TravelHacks</td>\n",
       "      <td>[removed]</td>\n",
       "      <td>Niagara Falls NY</td>\n",
       "      <td>NaN</td>\n",
       "      <td>Proud-Assumption-353</td>\n",
       "      <td>moderator</td>\n",
       "      <td>0</td>\n",
       "      <td>4/2/2023 5:28</td>\n",
       "    </tr>\n",
       "    <tr>\n",
       "      <th>5</th>\n",
       "      <td>TravelHacks</td>\n",
       "      <td>[removed]</td>\n",
       "      <td>Most beautiful places to visit in France other...</td>\n",
       "      <td>NaN</td>\n",
       "      <td>exploreofficial</td>\n",
       "      <td>moderator</td>\n",
       "      <td>0</td>\n",
       "      <td>4/2/2023 4:05</td>\n",
       "    </tr>\n",
       "    <tr>\n",
       "      <th>6</th>\n",
       "      <td>TravelHacks</td>\n",
       "      <td>[removed]</td>\n",
       "      <td>MOST BEAUTIFUL PLACES TO VISIT IN FRANCE OTHER...</td>\n",
       "      <td>NaN</td>\n",
       "      <td>exploreofficial</td>\n",
       "      <td>moderator</td>\n",
       "      <td>0</td>\n",
       "      <td>4/2/2023 3:32</td>\n",
       "    </tr>\n",
       "    <tr>\n",
       "      <th>9</th>\n",
       "      <td>TravelHacks</td>\n",
       "      <td>[removed]</td>\n",
       "      <td>Am available for hook up</td>\n",
       "      <td>NaN</td>\n",
       "      <td>lovrencate</td>\n",
       "      <td>moderator</td>\n",
       "      <td>0</td>\n",
       "      <td>4/2/2023 0:23</td>\n",
       "    </tr>\n",
       "    <tr>\n",
       "      <th>12</th>\n",
       "      <td>TravelHacks</td>\n",
       "      <td>[removed]</td>\n",
       "      <td>Prezi /Onenote / Canva</td>\n",
       "      <td>NaN</td>\n",
       "      <td>No-Potential-6148</td>\n",
       "      <td>moderator</td>\n",
       "      <td>0</td>\n",
       "      <td>4/1/2023 22:18</td>\n",
       "    </tr>\n",
       "  </tbody>\n",
       "</table>\n",
       "</div>"
      ],
      "text/plain": [
       "      subreddit   selftext                                              title  \\\n",
       "3   TravelHacks  [removed]                                   Niagara Falls NY   \n",
       "5   TravelHacks  [removed]  Most beautiful places to visit in France other...   \n",
       "6   TravelHacks  [removed]  MOST BEAUTIFUL PLACES TO VISIT IN FRANCE OTHER...   \n",
       "9   TravelHacks  [removed]                           Am available for hook up   \n",
       "12  TravelHacks  [removed]                             Prezi /Onenote / Canva   \n",
       "\n",
       "    distinguished                author removed_by_category  num_comments  \\\n",
       "3             NaN  Proud-Assumption-353           moderator             0   \n",
       "5             NaN       exploreofficial           moderator             0   \n",
       "6             NaN       exploreofficial           moderator             0   \n",
       "9             NaN            lovrencate           moderator             0   \n",
       "12            NaN     No-Potential-6148           moderator             0   \n",
       "\n",
       "   utc_datetime_str  \n",
       "3     4/2/2023 5:28  \n",
       "5     4/2/2023 4:05  \n",
       "6     4/2/2023 3:32  \n",
       "9     4/2/2023 0:23  \n",
       "12   4/1/2023 22:18  "
      ]
     },
     "execution_count": 156,
     "metadata": {},
     "output_type": "execute_result"
    }
   ],
   "source": [
    "# checking for both removed or deleted posts\n",
    "travelhacks.loc[travelhacks['selftext'].str.contains(r'\\[removed\\]|\\[deleted\\]')].head()"
   ]
  },
  {
   "cell_type": "code",
   "execution_count": 157,
   "id": "a87edae5",
   "metadata": {},
   "outputs": [],
   "source": [
    "# replace 'remove' and 'deleted' since the title still have information about the post\n",
    "travelhacks['selftext'] = travelhacks['selftext'].replace('[removed]', '')\n",
    "travelhacks['selftext'] = travelhacks['selftext'].replace('[deleted]', '')"
   ]
  },
  {
   "cell_type": "code",
   "execution_count": 158,
   "id": "96f59548",
   "metadata": {
    "scrolled": false
   },
   "outputs": [
    {
     "data": {
      "text/html": [
       "<div>\n",
       "<style scoped>\n",
       "    .dataframe tbody tr th:only-of-type {\n",
       "        vertical-align: middle;\n",
       "    }\n",
       "\n",
       "    .dataframe tbody tr th {\n",
       "        vertical-align: top;\n",
       "    }\n",
       "\n",
       "    .dataframe thead th {\n",
       "        text-align: right;\n",
       "    }\n",
       "</style>\n",
       "<table border=\"1\" class=\"dataframe\">\n",
       "  <thead>\n",
       "    <tr style=\"text-align: right;\">\n",
       "      <th></th>\n",
       "      <th>subreddit</th>\n",
       "      <th>selftext</th>\n",
       "      <th>title</th>\n",
       "      <th>distinguished</th>\n",
       "      <th>author</th>\n",
       "      <th>removed_by_category</th>\n",
       "      <th>num_comments</th>\n",
       "      <th>utc_datetime_str</th>\n",
       "    </tr>\n",
       "  </thead>\n",
       "  <tbody>\n",
       "    <tr>\n",
       "      <th>0</th>\n",
       "      <td>awardtravel</td>\n",
       "      <td>Got about 400k MR. Would like business for 2 t...</td>\n",
       "      <td>Sfo to hkg january time frame</td>\n",
       "      <td>NaN</td>\n",
       "      <td>NorcalGamers627</td>\n",
       "      <td>NaN</td>\n",
       "      <td>1</td>\n",
       "      <td>4/2/2023 4:55</td>\n",
       "    </tr>\n",
       "    <tr>\n",
       "      <th>1</th>\n",
       "      <td>awardtravel</td>\n",
       "      <td>Hey - we have about \\~200K AmEx points saved u...</td>\n",
       "      <td>Best way to fly to Japan in business or 1st cl...</td>\n",
       "      <td>NaN</td>\n",
       "      <td>altoid_trapezoid</td>\n",
       "      <td>NaN</td>\n",
       "      <td>1</td>\n",
       "      <td>4/2/2023 3:43</td>\n",
       "    </tr>\n",
       "    <tr>\n",
       "      <th>2</th>\n",
       "      <td>awardtravel</td>\n",
       "      <td>Finally!! Got the booking confirmed for two ,\\...</td>\n",
       "      <td>booked JAL F for two via Cathay!!! But now adv...</td>\n",
       "      <td>NaN</td>\n",
       "      <td>Leezy36</td>\n",
       "      <td>NaN</td>\n",
       "      <td>1</td>\n",
       "      <td>4/2/2023 3:07</td>\n",
       "    </tr>\n",
       "    <tr>\n",
       "      <th>3</th>\n",
       "      <td>awardtravel</td>\n",
       "      <td>Hoping to plan a Japan ski trip for Jan/Feb 20...</td>\n",
       "      <td>ANA Stopover Question</td>\n",
       "      <td>NaN</td>\n",
       "      <td>SnooDoughnuts785</td>\n",
       "      <td>NaN</td>\n",
       "      <td>1</td>\n",
       "      <td>4/2/2023 1:25</td>\n",
       "    </tr>\n",
       "    <tr>\n",
       "      <th>4</th>\n",
       "      <td>awardtravel</td>\n",
       "      <td>I booked an EgyptAir flight that connects in C...</td>\n",
       "      <td>Is it possible to ask for a longer layover on ...</td>\n",
       "      <td>NaN</td>\n",
       "      <td>ReasonWithMe007</td>\n",
       "      <td>NaN</td>\n",
       "      <td>1</td>\n",
       "      <td>4/2/2023 0:43</td>\n",
       "    </tr>\n",
       "  </tbody>\n",
       "</table>\n",
       "</div>"
      ],
      "text/plain": [
       "     subreddit                                           selftext  \\\n",
       "0  awardtravel  Got about 400k MR. Would like business for 2 t...   \n",
       "1  awardtravel  Hey - we have about \\~200K AmEx points saved u...   \n",
       "2  awardtravel  Finally!! Got the booking confirmed for two ,\\...   \n",
       "3  awardtravel  Hoping to plan a Japan ski trip for Jan/Feb 20...   \n",
       "4  awardtravel  I booked an EgyptAir flight that connects in C...   \n",
       "\n",
       "                                               title  distinguished  \\\n",
       "0                      Sfo to hkg january time frame            NaN   \n",
       "1  Best way to fly to Japan in business or 1st cl...            NaN   \n",
       "2  booked JAL F for two via Cathay!!! But now adv...            NaN   \n",
       "3                              ANA Stopover Question            NaN   \n",
       "4  Is it possible to ask for a longer layover on ...            NaN   \n",
       "\n",
       "             author removed_by_category  num_comments utc_datetime_str  \n",
       "0   NorcalGamers627                 NaN             1    4/2/2023 4:55  \n",
       "1  altoid_trapezoid                 NaN             1    4/2/2023 3:43  \n",
       "2           Leezy36                 NaN             1    4/2/2023 3:07  \n",
       "3  SnooDoughnuts785                 NaN             1    4/2/2023 1:25  \n",
       "4   ReasonWithMe007                 NaN             1    4/2/2023 0:43  "
      ]
     },
     "execution_count": 158,
     "metadata": {},
     "output_type": "execute_result"
    }
   ],
   "source": [
    "awardtravel.head()"
   ]
  },
  {
   "cell_type": "code",
   "execution_count": 159,
   "id": "e43de99e",
   "metadata": {
    "scrolled": true
   },
   "outputs": [
    {
     "data": {
      "text/plain": [
       "subreddit                 0\n",
       "selftext                 88\n",
       "title                     0\n",
       "distinguished          3948\n",
       "author                    0\n",
       "removed_by_category    3474\n",
       "num_comments              0\n",
       "utc_datetime_str          0\n",
       "dtype: int64"
      ]
     },
     "execution_count": 159,
     "metadata": {},
     "output_type": "execute_result"
    }
   ],
   "source": [
    "awardtravel.isna().sum()"
   ]
  },
  {
   "cell_type": "code",
   "execution_count": 160,
   "id": "b4b836b3",
   "metadata": {
    "scrolled": false
   },
   "outputs": [
    {
     "data": {
      "text/html": [
       "<div>\n",
       "<style scoped>\n",
       "    .dataframe tbody tr th:only-of-type {\n",
       "        vertical-align: middle;\n",
       "    }\n",
       "\n",
       "    .dataframe tbody tr th {\n",
       "        vertical-align: top;\n",
       "    }\n",
       "\n",
       "    .dataframe thead th {\n",
       "        text-align: right;\n",
       "    }\n",
       "</style>\n",
       "<table border=\"1\" class=\"dataframe\">\n",
       "  <thead>\n",
       "    <tr style=\"text-align: right;\">\n",
       "      <th></th>\n",
       "      <th>subreddit</th>\n",
       "      <th>selftext</th>\n",
       "      <th>title</th>\n",
       "      <th>distinguished</th>\n",
       "      <th>author</th>\n",
       "      <th>removed_by_category</th>\n",
       "      <th>num_comments</th>\n",
       "      <th>utc_datetime_str</th>\n",
       "    </tr>\n",
       "  </thead>\n",
       "  <tbody>\n",
       "    <tr>\n",
       "      <th>13</th>\n",
       "      <td>awardtravel</td>\n",
       "      <td>NaN</td>\n",
       "      <td>i fly a lot, so my friends came to me to use m...</td>\n",
       "      <td>NaN</td>\n",
       "      <td>professional_pupper</td>\n",
       "      <td>NaN</td>\n",
       "      <td>1</td>\n",
       "      <td>4/1/2023 17:11</td>\n",
       "    </tr>\n",
       "    <tr>\n",
       "      <th>36</th>\n",
       "      <td>awardtravel</td>\n",
       "      <td>NaN</td>\n",
       "      <td>Can't search on AF/KLM</td>\n",
       "      <td>NaN</td>\n",
       "      <td>ebpomtl</td>\n",
       "      <td>NaN</td>\n",
       "      <td>1</td>\n",
       "      <td>3/31/2023 12:11</td>\n",
       "    </tr>\n",
       "    <tr>\n",
       "      <th>83</th>\n",
       "      <td>awardtravel</td>\n",
       "      <td>NaN</td>\n",
       "      <td>Quickest way to offload my remaining 80,000 Wo...</td>\n",
       "      <td>NaN</td>\n",
       "      <td>vialpandomc</td>\n",
       "      <td>NaN</td>\n",
       "      <td>1</td>\n",
       "      <td>3/29/2023 19:08</td>\n",
       "    </tr>\n",
       "    <tr>\n",
       "      <th>88</th>\n",
       "      <td>awardtravel</td>\n",
       "      <td>NaN</td>\n",
       "      <td>Global Entry/Trusted Traveler Appointment Finder</td>\n",
       "      <td>NaN</td>\n",
       "      <td>toastingdetermined</td>\n",
       "      <td>moderator</td>\n",
       "      <td>1</td>\n",
       "      <td>3/29/2023 16:31</td>\n",
       "    </tr>\n",
       "    <tr>\n",
       "      <th>105</th>\n",
       "      <td>awardtravel</td>\n",
       "      <td>NaN</td>\n",
       "      <td>question if I book award flight in economy on ...</td>\n",
       "      <td>NaN</td>\n",
       "      <td>Mysterious_Pie_4594</td>\n",
       "      <td>NaN</td>\n",
       "      <td>1</td>\n",
       "      <td>3/28/2023 19:27</td>\n",
       "    </tr>\n",
       "  </tbody>\n",
       "</table>\n",
       "</div>"
      ],
      "text/plain": [
       "       subreddit selftext                                              title  \\\n",
       "13   awardtravel      NaN  i fly a lot, so my friends came to me to use m...   \n",
       "36   awardtravel      NaN                             Can't search on AF/KLM   \n",
       "83   awardtravel      NaN  Quickest way to offload my remaining 80,000 Wo...   \n",
       "88   awardtravel      NaN   Global Entry/Trusted Traveler Appointment Finder   \n",
       "105  awardtravel      NaN  question if I book award flight in economy on ...   \n",
       "\n",
       "     distinguished               author removed_by_category  num_comments  \\\n",
       "13             NaN  professional_pupper                 NaN             1   \n",
       "36             NaN              ebpomtl                 NaN             1   \n",
       "83             NaN          vialpandomc                 NaN             1   \n",
       "88             NaN   toastingdetermined           moderator             1   \n",
       "105            NaN  Mysterious_Pie_4594                 NaN             1   \n",
       "\n",
       "    utc_datetime_str  \n",
       "13    4/1/2023 17:11  \n",
       "36   3/31/2023 12:11  \n",
       "83   3/29/2023 19:08  \n",
       "88   3/29/2023 16:31  \n",
       "105  3/28/2023 19:27  "
      ]
     },
     "execution_count": 160,
     "metadata": {},
     "output_type": "execute_result"
    }
   ],
   "source": [
    "# even it showed nan for selftext, title still have content\n",
    "awardtravel[awardtravel['selftext'].isnull()].head()"
   ]
  },
  {
   "cell_type": "code",
   "execution_count": 161,
   "id": "50496d89",
   "metadata": {},
   "outputs": [],
   "source": [
    "# replace Nan with empty string\n",
    "awardtravel['selftext'] = awardtravel['selftext'].fillna('')"
   ]
  },
  {
   "cell_type": "code",
   "execution_count": 162,
   "id": "b9055855",
   "metadata": {
    "scrolled": true
   },
   "outputs": [
    {
     "data": {
      "text/html": [
       "<div>\n",
       "<style scoped>\n",
       "    .dataframe tbody tr th:only-of-type {\n",
       "        vertical-align: middle;\n",
       "    }\n",
       "\n",
       "    .dataframe tbody tr th {\n",
       "        vertical-align: top;\n",
       "    }\n",
       "\n",
       "    .dataframe thead th {\n",
       "        text-align: right;\n",
       "    }\n",
       "</style>\n",
       "<table border=\"1\" class=\"dataframe\">\n",
       "  <thead>\n",
       "    <tr style=\"text-align: right;\">\n",
       "      <th></th>\n",
       "      <th>subreddit</th>\n",
       "      <th>selftext</th>\n",
       "      <th>title</th>\n",
       "      <th>distinguished</th>\n",
       "      <th>author</th>\n",
       "      <th>removed_by_category</th>\n",
       "      <th>num_comments</th>\n",
       "      <th>utc_datetime_str</th>\n",
       "    </tr>\n",
       "  </thead>\n",
       "  <tbody>\n",
       "    <tr>\n",
       "      <th>31</th>\n",
       "      <td>awardtravel</td>\n",
       "      <td>[removed]</td>\n",
       "      <td>Marriott and United - Comparing Miles earned p...</td>\n",
       "      <td>NaN</td>\n",
       "      <td>Tejavepa</td>\n",
       "      <td>reddit</td>\n",
       "      <td>0</td>\n",
       "      <td>3/31/2023 16:42</td>\n",
       "    </tr>\n",
       "    <tr>\n",
       "      <th>82</th>\n",
       "      <td>awardtravel</td>\n",
       "      <td>[removed]</td>\n",
       "      <td>First time booking with chase (or any credit c...</td>\n",
       "      <td>NaN</td>\n",
       "      <td>eroxal</td>\n",
       "      <td>moderator</td>\n",
       "      <td>1</td>\n",
       "      <td>3/29/2023 19:16</td>\n",
       "    </tr>\n",
       "    <tr>\n",
       "      <th>84</th>\n",
       "      <td>awardtravel</td>\n",
       "      <td>[removed]</td>\n",
       "      <td>When the Chase portal hotels are way overprice...</td>\n",
       "      <td>NaN</td>\n",
       "      <td>airplanedad</td>\n",
       "      <td>moderator</td>\n",
       "      <td>1</td>\n",
       "      <td>3/29/2023 18:03</td>\n",
       "    </tr>\n",
       "    <tr>\n",
       "      <th>94</th>\n",
       "      <td>awardtravel</td>\n",
       "      <td>[removed]</td>\n",
       "      <td>Horton Studios</td>\n",
       "      <td>NaN</td>\n",
       "      <td>zhinocoaster</td>\n",
       "      <td>reddit</td>\n",
       "      <td>1</td>\n",
       "      <td>3/29/2023 13:16</td>\n",
       "    </tr>\n",
       "    <tr>\n",
       "      <th>119</th>\n",
       "      <td>awardtravel</td>\n",
       "      <td>[removed]</td>\n",
       "      <td>Cabo Award Flights</td>\n",
       "      <td>NaN</td>\n",
       "      <td>Lil_Mikee</td>\n",
       "      <td>moderator</td>\n",
       "      <td>0</td>\n",
       "      <td>3/28/2023 6:41</td>\n",
       "    </tr>\n",
       "  </tbody>\n",
       "</table>\n",
       "</div>"
      ],
      "text/plain": [
       "       subreddit   selftext  \\\n",
       "31   awardtravel  [removed]   \n",
       "82   awardtravel  [removed]   \n",
       "84   awardtravel  [removed]   \n",
       "94   awardtravel  [removed]   \n",
       "119  awardtravel  [removed]   \n",
       "\n",
       "                                                 title  distinguished  \\\n",
       "31   Marriott and United - Comparing Miles earned p...            NaN   \n",
       "82   First time booking with chase (or any credit c...            NaN   \n",
       "84   When the Chase portal hotels are way overprice...            NaN   \n",
       "94                                      Horton Studios            NaN   \n",
       "119                                 Cabo Award Flights            NaN   \n",
       "\n",
       "           author removed_by_category  num_comments utc_datetime_str  \n",
       "31       Tejavepa              reddit             0  3/31/2023 16:42  \n",
       "82         eroxal           moderator             1  3/29/2023 19:16  \n",
       "84    airplanedad           moderator             1  3/29/2023 18:03  \n",
       "94   zhinocoaster              reddit             1  3/29/2023 13:16  \n",
       "119     Lil_Mikee           moderator             0   3/28/2023 6:41  "
      ]
     },
     "execution_count": 162,
     "metadata": {},
     "output_type": "execute_result"
    }
   ],
   "source": [
    "# checking for both removed or deleted posts\n",
    "awardtravel.loc[awardtravel['selftext'].str.contains(r'\\[removed\\]|\\[deleted\\]')].head()"
   ]
  },
  {
   "cell_type": "code",
   "execution_count": 163,
   "id": "be591a87",
   "metadata": {},
   "outputs": [],
   "source": [
    "# replace 'remove' and 'deleted' since the title still have information about the post\n",
    "awardtravel['selftext'] = awardtravel['selftext'].replace('[removed]', '')\n",
    "awardtravel['selftext'] = awardtravel['selftext'].replace('[deleted]', '')"
   ]
  },
  {
   "cell_type": "markdown",
   "id": "3456a5ff",
   "metadata": {},
   "source": [
    "#### Check for weekly mod posts from the moderators of the subreddit: \n",
    "    Some subreddits would post weekly announcements, daily surveys, or recommendations. Since these posts were posted on the weekly/daily bases with similar titles or contents, it's best to remove these posts to avoid skewness of some words. After checking, both subreddits do not have such issue."
   ]
  },
  {
   "cell_type": "code",
   "execution_count": 164,
   "id": "9aaa5834",
   "metadata": {
    "scrolled": true
   },
   "outputs": [
    {
     "data": {
      "text/plain": [
       "TMavrat                 53\n",
       "zimmermanus             38\n",
       "[deleted]               29\n",
       "John_Martson_isalive    24\n",
       "jameswood111            21\n",
       "                        ..\n",
       "doorhinge3987            1\n",
       "Icantthinkofone14        1\n",
       "Visible_Outside5322      1\n",
       "Lialia0424               1\n",
       "fujixgrafy               1\n",
       "Name: author, Length: 3075, dtype: int64"
      ]
     },
     "execution_count": 164,
     "metadata": {},
     "output_type": "execute_result"
    }
   ],
   "source": [
    "travelhacks['author'].value_counts()"
   ]
  },
  {
   "cell_type": "code",
   "execution_count": 165,
   "id": "0ad81759",
   "metadata": {
    "scrolled": false
   },
   "outputs": [
    {
     "data": {
      "text/html": [
       "<div>\n",
       "<style scoped>\n",
       "    .dataframe tbody tr th:only-of-type {\n",
       "        vertical-align: middle;\n",
       "    }\n",
       "\n",
       "    .dataframe tbody tr th {\n",
       "        vertical-align: top;\n",
       "    }\n",
       "\n",
       "    .dataframe thead th {\n",
       "        text-align: right;\n",
       "    }\n",
       "</style>\n",
       "<table border=\"1\" class=\"dataframe\">\n",
       "  <thead>\n",
       "    <tr style=\"text-align: right;\">\n",
       "      <th></th>\n",
       "      <th>subreddit</th>\n",
       "      <th>selftext</th>\n",
       "      <th>title</th>\n",
       "      <th>distinguished</th>\n",
       "      <th>author</th>\n",
       "      <th>removed_by_category</th>\n",
       "      <th>num_comments</th>\n",
       "      <th>utc_datetime_str</th>\n",
       "    </tr>\n",
       "  </thead>\n",
       "  <tbody>\n",
       "    <tr>\n",
       "      <th>26</th>\n",
       "      <td>TravelHacks</td>\n",
       "      <td>\\n\\n[View Poll](https://www.reddit.com/poll/12...</td>\n",
       "      <td>Which would you prefer to visit on a euro trip?</td>\n",
       "      <td>NaN</td>\n",
       "      <td>TMavrat</td>\n",
       "      <td>NaN</td>\n",
       "      <td>0</td>\n",
       "      <td>4/1/2023 15:32</td>\n",
       "    </tr>\n",
       "    <tr>\n",
       "      <th>198</th>\n",
       "      <td>TravelHacks</td>\n",
       "      <td>\\n\\n[View Poll](https://www.reddit.com/poll/12...</td>\n",
       "      <td>Where do you carry your laptop charger?</td>\n",
       "      <td>NaN</td>\n",
       "      <td>TMavrat</td>\n",
       "      <td>NaN</td>\n",
       "      <td>0</td>\n",
       "      <td>3/29/2023 3:15</td>\n",
       "    </tr>\n",
       "    <tr>\n",
       "      <th>270</th>\n",
       "      <td>TravelHacks</td>\n",
       "      <td>\\n\\n[View Poll](https://www.reddit.com/poll/12...</td>\n",
       "      <td>Which airline do you prefer ?</td>\n",
       "      <td>NaN</td>\n",
       "      <td>TMavrat</td>\n",
       "      <td>NaN</td>\n",
       "      <td>0</td>\n",
       "      <td>3/28/2023 2:18</td>\n",
       "    </tr>\n",
       "    <tr>\n",
       "      <th>407</th>\n",
       "      <td>TravelHacks</td>\n",
       "      <td>\\n\\n[View Poll](https://www.reddit.com/poll/12...</td>\n",
       "      <td>Which of these Swiss cities is best to base in...</td>\n",
       "      <td>NaN</td>\n",
       "      <td>TMavrat</td>\n",
       "      <td>NaN</td>\n",
       "      <td>0</td>\n",
       "      <td>3/25/2023 1:39</td>\n",
       "    </tr>\n",
       "    <tr>\n",
       "      <th>408</th>\n",
       "      <td>TravelHacks</td>\n",
       "      <td>\\n\\n[View Poll](https://www.reddit.com/poll/12...</td>\n",
       "      <td>Which of these Swiss cities is best to base in...</td>\n",
       "      <td>NaN</td>\n",
       "      <td>TMavrat</td>\n",
       "      <td>NaN</td>\n",
       "      <td>0</td>\n",
       "      <td>3/25/2023 1:38</td>\n",
       "    </tr>\n",
       "  </tbody>\n",
       "</table>\n",
       "</div>"
      ],
      "text/plain": [
       "       subreddit                                           selftext  \\\n",
       "26   TravelHacks  \\n\\n[View Poll](https://www.reddit.com/poll/12...   \n",
       "198  TravelHacks  \\n\\n[View Poll](https://www.reddit.com/poll/12...   \n",
       "270  TravelHacks  \\n\\n[View Poll](https://www.reddit.com/poll/12...   \n",
       "407  TravelHacks  \\n\\n[View Poll](https://www.reddit.com/poll/12...   \n",
       "408  TravelHacks  \\n\\n[View Poll](https://www.reddit.com/poll/12...   \n",
       "\n",
       "                                                 title  distinguished  \\\n",
       "26     Which would you prefer to visit on a euro trip?            NaN   \n",
       "198            Where do you carry your laptop charger?            NaN   \n",
       "270                      Which airline do you prefer ?            NaN   \n",
       "407  Which of these Swiss cities is best to base in...            NaN   \n",
       "408  Which of these Swiss cities is best to base in...            NaN   \n",
       "\n",
       "      author removed_by_category  num_comments utc_datetime_str  \n",
       "26   TMavrat                 NaN             0   4/1/2023 15:32  \n",
       "198  TMavrat                 NaN             0   3/29/2023 3:15  \n",
       "270  TMavrat                 NaN             0   3/28/2023 2:18  \n",
       "407  TMavrat                 NaN             0   3/25/2023 1:39  \n",
       "408  TMavrat                 NaN             0   3/25/2023 1:38  "
      ]
     },
     "execution_count": 165,
     "metadata": {},
     "output_type": "execute_result"
    }
   ],
   "source": [
    "# looks like TMavrat is the moderator and all posts were poll; will drop the posts from him\n",
    "travelhacks.loc[travelhacks['author'].str.contains(r'TMavrat')].head()"
   ]
  },
  {
   "cell_type": "code",
   "execution_count": 166,
   "id": "a74b3f92",
   "metadata": {},
   "outputs": [
    {
     "data": {
      "text/html": [
       "<div>\n",
       "<style scoped>\n",
       "    .dataframe tbody tr th:only-of-type {\n",
       "        vertical-align: middle;\n",
       "    }\n",
       "\n",
       "    .dataframe tbody tr th {\n",
       "        vertical-align: top;\n",
       "    }\n",
       "\n",
       "    .dataframe thead th {\n",
       "        text-align: right;\n",
       "    }\n",
       "</style>\n",
       "<table border=\"1\" class=\"dataframe\">\n",
       "  <thead>\n",
       "    <tr style=\"text-align: right;\">\n",
       "      <th></th>\n",
       "      <th>subreddit</th>\n",
       "      <th>selftext</th>\n",
       "      <th>title</th>\n",
       "      <th>distinguished</th>\n",
       "      <th>author</th>\n",
       "      <th>removed_by_category</th>\n",
       "      <th>num_comments</th>\n",
       "      <th>utc_datetime_str</th>\n",
       "    </tr>\n",
       "  </thead>\n",
       "  <tbody>\n",
       "    <tr>\n",
       "      <th>309</th>\n",
       "      <td>TravelHacks</td>\n",
       "      <td></td>\n",
       "      <td>Travel to Luon cave, Halong bay Vietnam, from ...</td>\n",
       "      <td>NaN</td>\n",
       "      <td>zimmermanus</td>\n",
       "      <td>reddit</td>\n",
       "      <td>0</td>\n",
       "      <td>3/27/2023 8:23</td>\n",
       "    </tr>\n",
       "    <tr>\n",
       "      <th>361</th>\n",
       "      <td>TravelHacks</td>\n",
       "      <td></td>\n",
       "      <td>EXCELTREND SUMMER OUTING AT HIDDEN VALLEY PINA...</td>\n",
       "      <td>NaN</td>\n",
       "      <td>zimmermanus</td>\n",
       "      <td>reddit</td>\n",
       "      <td>0</td>\n",
       "      <td>3/26/2023 6:29</td>\n",
       "    </tr>\n",
       "    <tr>\n",
       "      <th>441</th>\n",
       "      <td>TravelHacks</td>\n",
       "      <td></td>\n",
       "      <td>Halong Bay Vietnam Capella cruise cooking clas...</td>\n",
       "      <td>NaN</td>\n",
       "      <td>zimmermanus</td>\n",
       "      <td>reddit</td>\n",
       "      <td>0</td>\n",
       "      <td>3/24/2023 5:25</td>\n",
       "    </tr>\n",
       "    <tr>\n",
       "      <th>481</th>\n",
       "      <td>TravelHacks</td>\n",
       "      <td></td>\n",
       "      <td>Tour Halong Bay Vietnam Capella cruise ship. Y...</td>\n",
       "      <td>NaN</td>\n",
       "      <td>zimmermanus</td>\n",
       "      <td>reddit</td>\n",
       "      <td>0</td>\n",
       "      <td>3/23/2023 3:17</td>\n",
       "    </tr>\n",
       "    <tr>\n",
       "      <th>628</th>\n",
       "      <td>TravelHacks</td>\n",
       "      <td></td>\n",
       "      <td>Fly to and luxury Capella Cruise Halong Bay Vi...</td>\n",
       "      <td>NaN</td>\n",
       "      <td>zimmermanus</td>\n",
       "      <td>reddit</td>\n",
       "      <td>0</td>\n",
       "      <td>3/20/2023 3:10</td>\n",
       "    </tr>\n",
       "  </tbody>\n",
       "</table>\n",
       "</div>"
      ],
      "text/plain": [
       "       subreddit selftext                                              title  \\\n",
       "309  TravelHacks           Travel to Luon cave, Halong bay Vietnam, from ...   \n",
       "361  TravelHacks           EXCELTREND SUMMER OUTING AT HIDDEN VALLEY PINA...   \n",
       "441  TravelHacks           Halong Bay Vietnam Capella cruise cooking clas...   \n",
       "481  TravelHacks           Tour Halong Bay Vietnam Capella cruise ship. Y...   \n",
       "628  TravelHacks           Fly to and luxury Capella Cruise Halong Bay Vi...   \n",
       "\n",
       "     distinguished       author removed_by_category  num_comments  \\\n",
       "309            NaN  zimmermanus              reddit             0   \n",
       "361            NaN  zimmermanus              reddit             0   \n",
       "441            NaN  zimmermanus              reddit             0   \n",
       "481            NaN  zimmermanus              reddit             0   \n",
       "628            NaN  zimmermanus              reddit             0   \n",
       "\n",
       "    utc_datetime_str  \n",
       "309   3/27/2023 8:23  \n",
       "361   3/26/2023 6:29  \n",
       "441   3/24/2023 5:25  \n",
       "481   3/23/2023 3:17  \n",
       "628   3/20/2023 3:10  "
      ]
     },
     "execution_count": 166,
     "metadata": {},
     "output_type": "execute_result"
    }
   ],
   "source": [
    "# posts from zimmermanus are not mod posts; will keep them\n",
    "travelhacks.loc[travelhacks['author'].str.contains(r'zimmermanus')].head()"
   ]
  },
  {
   "cell_type": "code",
   "execution_count": 167,
   "id": "b439a233",
   "metadata": {},
   "outputs": [
    {
     "data": {
      "text/html": [
       "<div>\n",
       "<style scoped>\n",
       "    .dataframe tbody tr th:only-of-type {\n",
       "        vertical-align: middle;\n",
       "    }\n",
       "\n",
       "    .dataframe tbody tr th {\n",
       "        vertical-align: top;\n",
       "    }\n",
       "\n",
       "    .dataframe thead th {\n",
       "        text-align: right;\n",
       "    }\n",
       "</style>\n",
       "<table border=\"1\" class=\"dataframe\">\n",
       "  <thead>\n",
       "    <tr style=\"text-align: right;\">\n",
       "      <th></th>\n",
       "      <th>subreddit</th>\n",
       "      <th>selftext</th>\n",
       "      <th>title</th>\n",
       "      <th>distinguished</th>\n",
       "      <th>author</th>\n",
       "      <th>removed_by_category</th>\n",
       "      <th>num_comments</th>\n",
       "      <th>utc_datetime_str</th>\n",
       "    </tr>\n",
       "  </thead>\n",
       "  <tbody>\n",
       "    <tr>\n",
       "      <th>112</th>\n",
       "      <td>TravelHacks</td>\n",
       "      <td></td>\n",
       "      <td>What apps do you use for trip planning?</td>\n",
       "      <td>NaN</td>\n",
       "      <td>[deleted]</td>\n",
       "      <td>deleted</td>\n",
       "      <td>0</td>\n",
       "      <td>3/30/2023 17:21</td>\n",
       "    </tr>\n",
       "    <tr>\n",
       "      <th>321</th>\n",
       "      <td>TravelHacks</td>\n",
       "      <td></td>\n",
       "      <td>Is 34k enough to do a roadtrip in the US for 1...</td>\n",
       "      <td>NaN</td>\n",
       "      <td>[deleted]</td>\n",
       "      <td>deleted</td>\n",
       "      <td>0</td>\n",
       "      <td>3/27/2023 2:09</td>\n",
       "    </tr>\n",
       "    <tr>\n",
       "      <th>387</th>\n",
       "      <td>TravelHacks</td>\n",
       "      <td></td>\n",
       "      <td>Advice: travel to Europe</td>\n",
       "      <td>NaN</td>\n",
       "      <td>[deleted]</td>\n",
       "      <td>deleted</td>\n",
       "      <td>0</td>\n",
       "      <td>3/25/2023 15:18</td>\n",
       "    </tr>\n",
       "    <tr>\n",
       "      <th>397</th>\n",
       "      <td>TravelHacks</td>\n",
       "      <td></td>\n",
       "      <td>What strikes first time visitors as special or...</td>\n",
       "      <td>NaN</td>\n",
       "      <td>[deleted]</td>\n",
       "      <td>deleted</td>\n",
       "      <td>0</td>\n",
       "      <td>3/25/2023 10:20</td>\n",
       "    </tr>\n",
       "    <tr>\n",
       "      <th>405</th>\n",
       "      <td>TravelHacks</td>\n",
       "      <td></td>\n",
       "      <td>Visiting Black Rock City in winter, a good idea?</td>\n",
       "      <td>NaN</td>\n",
       "      <td>[deleted]</td>\n",
       "      <td>deleted</td>\n",
       "      <td>0</td>\n",
       "      <td>3/25/2023 2:54</td>\n",
       "    </tr>\n",
       "  </tbody>\n",
       "</table>\n",
       "</div>"
      ],
      "text/plain": [
       "       subreddit selftext                                              title  \\\n",
       "112  TravelHacks                     What apps do you use for trip planning?   \n",
       "321  TravelHacks           Is 34k enough to do a roadtrip in the US for 1...   \n",
       "387  TravelHacks                                    Advice: travel to Europe   \n",
       "397  TravelHacks           What strikes first time visitors as special or...   \n",
       "405  TravelHacks            Visiting Black Rock City in winter, a good idea?   \n",
       "\n",
       "     distinguished     author removed_by_category  num_comments  \\\n",
       "112            NaN  [deleted]             deleted             0   \n",
       "321            NaN  [deleted]             deleted             0   \n",
       "387            NaN  [deleted]             deleted             0   \n",
       "397            NaN  [deleted]             deleted             0   \n",
       "405            NaN  [deleted]             deleted             0   \n",
       "\n",
       "    utc_datetime_str  \n",
       "112  3/30/2023 17:21  \n",
       "321   3/27/2023 2:09  \n",
       "387  3/25/2023 15:18  \n",
       "397  3/25/2023 10:20  \n",
       "405   3/25/2023 2:54  "
      ]
     },
     "execution_count": 167,
     "metadata": {},
     "output_type": "execute_result"
    }
   ],
   "source": [
    "# will remove the posts that were deleted; \n",
    "# because the post may be removed for many other reasons: spam, author removed, advertisements\n",
    "travelhacks.loc[travelhacks['author'].str.contains(r'delete')].head()"
   ]
  },
  {
   "cell_type": "code",
   "execution_count": 168,
   "id": "fa81bbae",
   "metadata": {},
   "outputs": [
    {
     "data": {
      "text/plain": [
       "[deleted]               77\n",
       "AutoModerator           24\n",
       "Automatic_Team_4280     11\n",
       "Lolgb2000               11\n",
       "dsper32                 11\n",
       "                        ..\n",
       "autobotdonttransform     1\n",
       "keithmg                  1\n",
       "someguywithanaccount     1\n",
       "karI_hungus              1\n",
       "jarjargo44               1\n",
       "Name: author, Length: 2897, dtype: int64"
      ]
     },
     "execution_count": 168,
     "metadata": {},
     "output_type": "execute_result"
    }
   ],
   "source": [
    "awardtravel['author'].value_counts()"
   ]
  },
  {
   "cell_type": "code",
   "execution_count": 169,
   "id": "c3652fad",
   "metadata": {
    "scrolled": false
   },
   "outputs": [
    {
     "data": {
      "text/html": [
       "<div>\n",
       "<style scoped>\n",
       "    .dataframe tbody tr th:only-of-type {\n",
       "        vertical-align: middle;\n",
       "    }\n",
       "\n",
       "    .dataframe tbody tr th {\n",
       "        vertical-align: top;\n",
       "    }\n",
       "\n",
       "    .dataframe thead th {\n",
       "        text-align: right;\n",
       "    }\n",
       "</style>\n",
       "<table border=\"1\" class=\"dataframe\">\n",
       "  <thead>\n",
       "    <tr style=\"text-align: right;\">\n",
       "      <th></th>\n",
       "      <th>subreddit</th>\n",
       "      <th>selftext</th>\n",
       "      <th>title</th>\n",
       "      <th>distinguished</th>\n",
       "      <th>author</th>\n",
       "      <th>removed_by_category</th>\n",
       "      <th>num_comments</th>\n",
       "      <th>utc_datetime_str</th>\n",
       "    </tr>\n",
       "  </thead>\n",
       "  <tbody>\n",
       "    <tr>\n",
       "      <th>147</th>\n",
       "      <td>awardtravel</td>\n",
       "      <td>Welcome to the weekly discussion thread!\\n\\nTh...</td>\n",
       "      <td>Weekly Discussion Thread - March 27, 2023</td>\n",
       "      <td>NaN</td>\n",
       "      <td>AutoModerator</td>\n",
       "      <td>NaN</td>\n",
       "      <td>0</td>\n",
       "      <td>3/27/2023 10:01</td>\n",
       "    </tr>\n",
       "    <tr>\n",
       "      <th>458</th>\n",
       "      <td>awardtravel</td>\n",
       "      <td>Welcome to the weekly discussion thread!\\n\\nTh...</td>\n",
       "      <td>Weekly Discussion Thread - March 13, 2023</td>\n",
       "      <td>NaN</td>\n",
       "      <td>AutoModerator</td>\n",
       "      <td>NaN</td>\n",
       "      <td>0</td>\n",
       "      <td>3/13/2023 10:01</td>\n",
       "    </tr>\n",
       "    <tr>\n",
       "      <th>624</th>\n",
       "      <td>awardtravel</td>\n",
       "      <td>Welcome to the weekly discussion thread!\\n\\nTh...</td>\n",
       "      <td>Weekly Discussion Thread - March 06, 2023</td>\n",
       "      <td>NaN</td>\n",
       "      <td>AutoModerator</td>\n",
       "      <td>NaN</td>\n",
       "      <td>0</td>\n",
       "      <td>3/6/2023 11:01</td>\n",
       "    </tr>\n",
       "    <tr>\n",
       "      <th>806</th>\n",
       "      <td>awardtravel</td>\n",
       "      <td>Welcome to the weekly discussion thread!\\n\\nTh...</td>\n",
       "      <td>Weekly Discussion Thread - February 27, 2023</td>\n",
       "      <td>NaN</td>\n",
       "      <td>AutoModerator</td>\n",
       "      <td>NaN</td>\n",
       "      <td>0</td>\n",
       "      <td>2/27/2023 11:01</td>\n",
       "    </tr>\n",
       "    <tr>\n",
       "      <th>970</th>\n",
       "      <td>awardtravel</td>\n",
       "      <td>Welcome to the weekly discussion thread!\\n\\nTh...</td>\n",
       "      <td>Weekly Discussion Thread - February 20, 2023</td>\n",
       "      <td>NaN</td>\n",
       "      <td>AutoModerator</td>\n",
       "      <td>NaN</td>\n",
       "      <td>0</td>\n",
       "      <td>2/20/2023 11:01</td>\n",
       "    </tr>\n",
       "  </tbody>\n",
       "</table>\n",
       "</div>"
      ],
      "text/plain": [
       "       subreddit                                           selftext  \\\n",
       "147  awardtravel  Welcome to the weekly discussion thread!\\n\\nTh...   \n",
       "458  awardtravel  Welcome to the weekly discussion thread!\\n\\nTh...   \n",
       "624  awardtravel  Welcome to the weekly discussion thread!\\n\\nTh...   \n",
       "806  awardtravel  Welcome to the weekly discussion thread!\\n\\nTh...   \n",
       "970  awardtravel  Welcome to the weekly discussion thread!\\n\\nTh...   \n",
       "\n",
       "                                            title  distinguished  \\\n",
       "147     Weekly Discussion Thread - March 27, 2023            NaN   \n",
       "458     Weekly Discussion Thread - March 13, 2023            NaN   \n",
       "624     Weekly Discussion Thread - March 06, 2023            NaN   \n",
       "806  Weekly Discussion Thread - February 27, 2023            NaN   \n",
       "970  Weekly Discussion Thread - February 20, 2023            NaN   \n",
       "\n",
       "            author removed_by_category  num_comments utc_datetime_str  \n",
       "147  AutoModerator                 NaN             0  3/27/2023 10:01  \n",
       "458  AutoModerator                 NaN             0  3/13/2023 10:01  \n",
       "624  AutoModerator                 NaN             0   3/6/2023 11:01  \n",
       "806  AutoModerator                 NaN             0  2/27/2023 11:01  \n",
       "970  AutoModerator                 NaN             0  2/20/2023 11:01  "
      ]
     },
     "execution_count": 169,
     "metadata": {},
     "output_type": "execute_result"
    }
   ],
   "source": [
    "awardtravel.loc[awardtravel['author'].str.contains(r'AutoModerator')].head()"
   ]
  },
  {
   "cell_type": "code",
   "execution_count": 170,
   "id": "5a3a1e47",
   "metadata": {
    "scrolled": true
   },
   "outputs": [
    {
     "data": {
      "text/html": [
       "<div>\n",
       "<style scoped>\n",
       "    .dataframe tbody tr th:only-of-type {\n",
       "        vertical-align: middle;\n",
       "    }\n",
       "\n",
       "    .dataframe tbody tr th {\n",
       "        vertical-align: top;\n",
       "    }\n",
       "\n",
       "    .dataframe thead th {\n",
       "        text-align: right;\n",
       "    }\n",
       "</style>\n",
       "<table border=\"1\" class=\"dataframe\">\n",
       "  <thead>\n",
       "    <tr style=\"text-align: right;\">\n",
       "      <th></th>\n",
       "      <th>subreddit</th>\n",
       "      <th>selftext</th>\n",
       "      <th>title</th>\n",
       "      <th>distinguished</th>\n",
       "      <th>author</th>\n",
       "      <th>removed_by_category</th>\n",
       "      <th>num_comments</th>\n",
       "      <th>utc_datetime_str</th>\n",
       "    </tr>\n",
       "  </thead>\n",
       "  <tbody>\n",
       "    <tr>\n",
       "      <th>760</th>\n",
       "      <td>awardtravel</td>\n",
       "      <td></td>\n",
       "      <td>What's the best MR to LifeMiles bonus you've seen</td>\n",
       "      <td>NaN</td>\n",
       "      <td>[deleted]</td>\n",
       "      <td>deleted</td>\n",
       "      <td>2</td>\n",
       "      <td>3/1/2023 6:26</td>\n",
       "    </tr>\n",
       "    <tr>\n",
       "      <th>762</th>\n",
       "      <td>awardtravel</td>\n",
       "      <td></td>\n",
       "      <td>concerned about missing my connecting flights ...</td>\n",
       "      <td>NaN</td>\n",
       "      <td>[deleted]</td>\n",
       "      <td>deleted</td>\n",
       "      <td>3</td>\n",
       "      <td>3/1/2023 4:11</td>\n",
       "    </tr>\n",
       "    <tr>\n",
       "      <th>1830</th>\n",
       "      <td>awardtravel</td>\n",
       "      <td></td>\n",
       "      <td>Can I be added to a Marriott account to obtain...</td>\n",
       "      <td>NaN</td>\n",
       "      <td>[deleted]</td>\n",
       "      <td>deleted</td>\n",
       "      <td>1</td>\n",
       "      <td>1/17/2023 1:09</td>\n",
       "    </tr>\n",
       "    <tr>\n",
       "      <th>2065</th>\n",
       "      <td>awardtravel</td>\n",
       "      <td></td>\n",
       "      <td>Can a paid upgrade with BA from economy to pre...</td>\n",
       "      <td>NaN</td>\n",
       "      <td>[deleted]</td>\n",
       "      <td>deleted</td>\n",
       "      <td>0</td>\n",
       "      <td>1/9/2023 6:48</td>\n",
       "    </tr>\n",
       "    <tr>\n",
       "      <th>2957</th>\n",
       "      <td>awardtravel</td>\n",
       "      <td></td>\n",
       "      <td>Close-In Availability Game Prep: USA =&amp;gt; SYD...</td>\n",
       "      <td>NaN</td>\n",
       "      <td>[deleted]</td>\n",
       "      <td>deleted</td>\n",
       "      <td>1</td>\n",
       "      <td>12/2/2022 22:34</td>\n",
       "    </tr>\n",
       "  </tbody>\n",
       "</table>\n",
       "</div>"
      ],
      "text/plain": [
       "        subreddit selftext                                              title  \\\n",
       "760   awardtravel           What's the best MR to LifeMiles bonus you've seen   \n",
       "762   awardtravel           concerned about missing my connecting flights ...   \n",
       "1830  awardtravel           Can I be added to a Marriott account to obtain...   \n",
       "2065  awardtravel           Can a paid upgrade with BA from economy to pre...   \n",
       "2957  awardtravel           Close-In Availability Game Prep: USA =&gt; SYD...   \n",
       "\n",
       "      distinguished     author removed_by_category  num_comments  \\\n",
       "760             NaN  [deleted]             deleted             2   \n",
       "762             NaN  [deleted]             deleted             3   \n",
       "1830            NaN  [deleted]             deleted             1   \n",
       "2065            NaN  [deleted]             deleted             0   \n",
       "2957            NaN  [deleted]             deleted             1   \n",
       "\n",
       "     utc_datetime_str  \n",
       "760     3/1/2023 6:26  \n",
       "762     3/1/2023 4:11  \n",
       "1830   1/17/2023 1:09  \n",
       "2065    1/9/2023 6:48  \n",
       "2957  12/2/2022 22:34  "
      ]
     },
     "execution_count": 170,
     "metadata": {},
     "output_type": "execute_result"
    }
   ],
   "source": [
    "# will remove the posts that were deleted; \n",
    "# because the post may be removed for many other reasons: spam, author removed, advertisements. duplicate posts\n",
    "awardtravel.loc[awardtravel['author'].str.contains(r'\\[deleted\\]')].head()"
   ]
  },
  {
   "cell_type": "code",
   "execution_count": 171,
   "id": "324106fc",
   "metadata": {},
   "outputs": [],
   "source": [
    "# drop moderator posts\n",
    "travelhacks.drop(index=travelhacks[travelhacks['author'].str.contains('TMavrat|deleted')].index, inplace=True)\n",
    "awardtravel.drop(index=awardtravel[awardtravel['author'].str.contains('AutoModerator|deleted')].index, inplace=True)"
   ]
  },
  {
   "cell_type": "code",
   "execution_count": 172,
   "id": "83d339c0",
   "metadata": {
    "scrolled": true
   },
   "outputs": [
    {
     "data": {
      "text/plain": [
       "((3773, 8), (3847, 8))"
      ]
     },
     "execution_count": 172,
     "metadata": {},
     "output_type": "execute_result"
    }
   ],
   "source": [
    "travelhacks.shape, awardtravel.shape"
   ]
  },
  {
   "cell_type": "markdown",
   "id": "806e54fd",
   "metadata": {},
   "source": [
    "#### Drop unwanted columns: "
   ]
  },
  {
   "cell_type": "code",
   "execution_count": 173,
   "id": "2ce95914",
   "metadata": {
    "scrolled": false
   },
   "outputs": [
    {
     "data": {
      "text/plain": [
       "distinguished          3773\n",
       "removed_by_category    2138\n",
       "dtype: int64"
      ]
     },
     "execution_count": 173,
     "metadata": {},
     "output_type": "execute_result"
    }
   ],
   "source": [
    "# Check for null values\n",
    "travelhacks.isnull().sum()[travelhacks.isnull().sum() > 0]"
   ]
  },
  {
   "cell_type": "code",
   "execution_count": 174,
   "id": "b5d8ce4c",
   "metadata": {
    "scrolled": true
   },
   "outputs": [
    {
     "data": {
      "text/plain": [
       "distinguished          3847\n",
       "removed_by_category    3450\n",
       "dtype: int64"
      ]
     },
     "execution_count": 174,
     "metadata": {},
     "output_type": "execute_result"
    }
   ],
   "source": [
    "# Check for null values\n",
    "awardtravel.isnull().sum()[awardtravel.isnull().sum() > 0]"
   ]
  },
  {
   "cell_type": "code",
   "execution_count": 175,
   "id": "09a47d76",
   "metadata": {},
   "outputs": [],
   "source": [
    "# drop column\n",
    "travelhacks.drop(columns = ['distinguished', 'removed_by_category'], inplace = True)\n",
    "awardtravel.drop(columns = ['distinguished', 'removed_by_category'], inplace = True)"
   ]
  },
  {
   "cell_type": "code",
   "execution_count": 176,
   "id": "8e837d19",
   "metadata": {},
   "outputs": [
    {
     "data": {
      "text/plain": [
       "subreddit           0\n",
       "selftext            0\n",
       "title               0\n",
       "author              0\n",
       "num_comments        0\n",
       "utc_datetime_str    0\n",
       "dtype: int64"
      ]
     },
     "execution_count": 176,
     "metadata": {},
     "output_type": "execute_result"
    }
   ],
   "source": [
    "travelhacks.isna().sum()"
   ]
  },
  {
   "cell_type": "code",
   "execution_count": 177,
   "id": "5f2d5c5a",
   "metadata": {
    "scrolled": false
   },
   "outputs": [
    {
     "data": {
      "text/plain": [
       "subreddit           0\n",
       "selftext            0\n",
       "title               0\n",
       "author              0\n",
       "num_comments        0\n",
       "utc_datetime_str    0\n",
       "dtype: int64"
      ]
     },
     "execution_count": 177,
     "metadata": {},
     "output_type": "execute_result"
    }
   ],
   "source": [
    "awardtravel.isna().sum()"
   ]
  },
  {
   "cell_type": "code",
   "execution_count": 178,
   "id": "f403c409",
   "metadata": {
    "scrolled": false
   },
   "outputs": [
    {
     "data": {
      "text/html": [
       "<div>\n",
       "<style scoped>\n",
       "    .dataframe tbody tr th:only-of-type {\n",
       "        vertical-align: middle;\n",
       "    }\n",
       "\n",
       "    .dataframe tbody tr th {\n",
       "        vertical-align: top;\n",
       "    }\n",
       "\n",
       "    .dataframe thead th {\n",
       "        text-align: right;\n",
       "    }\n",
       "</style>\n",
       "<table border=\"1\" class=\"dataframe\">\n",
       "  <thead>\n",
       "    <tr style=\"text-align: right;\">\n",
       "      <th></th>\n",
       "      <th>count</th>\n",
       "    </tr>\n",
       "    <tr>\n",
       "      <th>author</th>\n",
       "      <th></th>\n",
       "    </tr>\n",
       "  </thead>\n",
       "  <tbody>\n",
       "    <tr>\n",
       "      <th>zimmermanus</th>\n",
       "      <td>38</td>\n",
       "    </tr>\n",
       "    <tr>\n",
       "      <th>John_Martson_isalive</th>\n",
       "      <td>24</td>\n",
       "    </tr>\n",
       "    <tr>\n",
       "      <th>Independent_Job5063</th>\n",
       "      <td>21</td>\n",
       "    </tr>\n",
       "    <tr>\n",
       "      <th>jameswood111</th>\n",
       "      <td>21</td>\n",
       "    </tr>\n",
       "    <tr>\n",
       "      <th>wallpapersdance</th>\n",
       "      <td>9</td>\n",
       "    </tr>\n",
       "    <tr>\n",
       "      <th>trendstori</th>\n",
       "      <td>9</td>\n",
       "    </tr>\n",
       "    <tr>\n",
       "      <th>rockarolla78</th>\n",
       "      <td>8</td>\n",
       "    </tr>\n",
       "    <tr>\n",
       "      <th>SameCryptographer612</th>\n",
       "      <td>8</td>\n",
       "    </tr>\n",
       "    <tr>\n",
       "      <th>Poum12</th>\n",
       "      <td>7</td>\n",
       "    </tr>\n",
       "    <tr>\n",
       "      <th>myflighttrip</th>\n",
       "      <td>7</td>\n",
       "    </tr>\n",
       "  </tbody>\n",
       "</table>\n",
       "</div>"
      ],
      "text/plain": [
       "                      count\n",
       "author                     \n",
       "zimmermanus              38\n",
       "John_Martson_isalive     24\n",
       "Independent_Job5063      21\n",
       "jameswood111             21\n",
       "wallpapersdance           9\n",
       "trendstori                9\n",
       "rockarolla78              8\n",
       "SameCryptographer612      8\n",
       "Poum12                    7\n",
       "myflighttrip              7"
      ]
     },
     "execution_count": 178,
     "metadata": {},
     "output_type": "execute_result"
    }
   ],
   "source": [
    "#number of posts per user\n",
    "travelhacks.groupby(['author'])['subreddit'].agg(['count']).sort_values('count', ascending = False).head(10)"
   ]
  },
  {
   "cell_type": "code",
   "execution_count": 179,
   "id": "aa4227e7",
   "metadata": {
    "scrolled": true
   },
   "outputs": [
    {
     "data": {
      "text/html": [
       "<div>\n",
       "<style scoped>\n",
       "    .dataframe tbody tr th:only-of-type {\n",
       "        vertical-align: middle;\n",
       "    }\n",
       "\n",
       "    .dataframe tbody tr th {\n",
       "        vertical-align: top;\n",
       "    }\n",
       "\n",
       "    .dataframe thead th {\n",
       "        text-align: right;\n",
       "    }\n",
       "</style>\n",
       "<table border=\"1\" class=\"dataframe\">\n",
       "  <thead>\n",
       "    <tr style=\"text-align: right;\">\n",
       "      <th></th>\n",
       "      <th>count</th>\n",
       "    </tr>\n",
       "    <tr>\n",
       "      <th>author</th>\n",
       "      <th></th>\n",
       "    </tr>\n",
       "  </thead>\n",
       "  <tbody>\n",
       "    <tr>\n",
       "      <th>Automatic_Team_4280</th>\n",
       "      <td>11</td>\n",
       "    </tr>\n",
       "    <tr>\n",
       "      <th>Lolgb2000</th>\n",
       "      <td>11</td>\n",
       "    </tr>\n",
       "    <tr>\n",
       "      <th>dsper32</th>\n",
       "      <td>11</td>\n",
       "    </tr>\n",
       "    <tr>\n",
       "      <th>Automatic_Aspect_319</th>\n",
       "      <td>10</td>\n",
       "    </tr>\n",
       "    <tr>\n",
       "      <th>slidinginlife</th>\n",
       "      <td>8</td>\n",
       "    </tr>\n",
       "    <tr>\n",
       "      <th>SnooDoughnuts785</th>\n",
       "      <td>8</td>\n",
       "    </tr>\n",
       "    <tr>\n",
       "      <th>AbhiAKA</th>\n",
       "      <td>8</td>\n",
       "    </tr>\n",
       "    <tr>\n",
       "      <th>No-Competition-8938</th>\n",
       "      <td>8</td>\n",
       "    </tr>\n",
       "    <tr>\n",
       "      <th>dickniglit</th>\n",
       "      <td>7</td>\n",
       "    </tr>\n",
       "    <tr>\n",
       "      <th>LeagueLonster</th>\n",
       "      <td>7</td>\n",
       "    </tr>\n",
       "  </tbody>\n",
       "</table>\n",
       "</div>"
      ],
      "text/plain": [
       "                      count\n",
       "author                     \n",
       "Automatic_Team_4280      11\n",
       "Lolgb2000                11\n",
       "dsper32                  11\n",
       "Automatic_Aspect_319     10\n",
       "slidinginlife             8\n",
       "SnooDoughnuts785          8\n",
       "AbhiAKA                   8\n",
       "No-Competition-8938       8\n",
       "dickniglit                7\n",
       "LeagueLonster             7"
      ]
     },
     "execution_count": 179,
     "metadata": {},
     "output_type": "execute_result"
    }
   ],
   "source": [
    "#number of posts per user\n",
    "awardtravel.groupby(['author'])['subreddit'].agg(['count']).sort_values('count', ascending = False).head(10)"
   ]
  },
  {
   "cell_type": "code",
   "execution_count": 180,
   "id": "afb37b75",
   "metadata": {},
   "outputs": [
    {
     "data": {
      "text/html": [
       "<div>\n",
       "<style scoped>\n",
       "    .dataframe tbody tr th:only-of-type {\n",
       "        vertical-align: middle;\n",
       "    }\n",
       "\n",
       "    .dataframe tbody tr th {\n",
       "        vertical-align: top;\n",
       "    }\n",
       "\n",
       "    .dataframe thead th {\n",
       "        text-align: right;\n",
       "    }\n",
       "</style>\n",
       "<table border=\"1\" class=\"dataframe\">\n",
       "  <thead>\n",
       "    <tr style=\"text-align: right;\">\n",
       "      <th></th>\n",
       "      <th>num_comments</th>\n",
       "    </tr>\n",
       "  </thead>\n",
       "  <tbody>\n",
       "    <tr>\n",
       "      <th>count</th>\n",
       "      <td>3773.000000</td>\n",
       "    </tr>\n",
       "    <tr>\n",
       "      <th>mean</th>\n",
       "      <td>0.029950</td>\n",
       "    </tr>\n",
       "    <tr>\n",
       "      <th>std</th>\n",
       "      <td>0.558273</td>\n",
       "    </tr>\n",
       "    <tr>\n",
       "      <th>min</th>\n",
       "      <td>0.000000</td>\n",
       "    </tr>\n",
       "    <tr>\n",
       "      <th>25%</th>\n",
       "      <td>0.000000</td>\n",
       "    </tr>\n",
       "    <tr>\n",
       "      <th>50%</th>\n",
       "      <td>0.000000</td>\n",
       "    </tr>\n",
       "    <tr>\n",
       "      <th>75%</th>\n",
       "      <td>0.000000</td>\n",
       "    </tr>\n",
       "    <tr>\n",
       "      <th>max</th>\n",
       "      <td>18.000000</td>\n",
       "    </tr>\n",
       "  </tbody>\n",
       "</table>\n",
       "</div>"
      ],
      "text/plain": [
       "       num_comments\n",
       "count   3773.000000\n",
       "mean       0.029950\n",
       "std        0.558273\n",
       "min        0.000000\n",
       "25%        0.000000\n",
       "50%        0.000000\n",
       "75%        0.000000\n",
       "max       18.000000"
      ]
     },
     "execution_count": 180,
     "metadata": {},
     "output_type": "execute_result"
    }
   ],
   "source": [
    "travelhacks.describe()"
   ]
  },
  {
   "cell_type": "code",
   "execution_count": 181,
   "id": "3fbbd173",
   "metadata": {},
   "outputs": [
    {
     "data": {
      "text/html": [
       "<div>\n",
       "<style scoped>\n",
       "    .dataframe tbody tr th:only-of-type {\n",
       "        vertical-align: middle;\n",
       "    }\n",
       "\n",
       "    .dataframe tbody tr th {\n",
       "        vertical-align: top;\n",
       "    }\n",
       "\n",
       "    .dataframe thead th {\n",
       "        text-align: right;\n",
       "    }\n",
       "</style>\n",
       "<table border=\"1\" class=\"dataframe\">\n",
       "  <thead>\n",
       "    <tr style=\"text-align: right;\">\n",
       "      <th></th>\n",
       "      <th>num_comments</th>\n",
       "    </tr>\n",
       "  </thead>\n",
       "  <tbody>\n",
       "    <tr>\n",
       "      <th>count</th>\n",
       "      <td>3847.000000</td>\n",
       "    </tr>\n",
       "    <tr>\n",
       "      <th>mean</th>\n",
       "      <td>1.998440</td>\n",
       "    </tr>\n",
       "    <tr>\n",
       "      <th>std</th>\n",
       "      <td>5.404636</td>\n",
       "    </tr>\n",
       "    <tr>\n",
       "      <th>min</th>\n",
       "      <td>0.000000</td>\n",
       "    </tr>\n",
       "    <tr>\n",
       "      <th>25%</th>\n",
       "      <td>1.000000</td>\n",
       "    </tr>\n",
       "    <tr>\n",
       "      <th>50%</th>\n",
       "      <td>1.000000</td>\n",
       "    </tr>\n",
       "    <tr>\n",
       "      <th>75%</th>\n",
       "      <td>1.000000</td>\n",
       "    </tr>\n",
       "    <tr>\n",
       "      <th>max</th>\n",
       "      <td>94.000000</td>\n",
       "    </tr>\n",
       "  </tbody>\n",
       "</table>\n",
       "</div>"
      ],
      "text/plain": [
       "       num_comments\n",
       "count   3847.000000\n",
       "mean       1.998440\n",
       "std        5.404636\n",
       "min        0.000000\n",
       "25%        1.000000\n",
       "50%        1.000000\n",
       "75%        1.000000\n",
       "max       94.000000"
      ]
     },
     "execution_count": 181,
     "metadata": {},
     "output_type": "execute_result"
    }
   ],
   "source": [
    "awardtravel.describe()"
   ]
  },
  {
   "cell_type": "markdown",
   "id": "8ca66d9d",
   "metadata": {},
   "source": [
    "#### Check for duplicate rows: \n",
    "    Should not have any duplicate rows since they should have been dropped during scrapping steps. "
   ]
  },
  {
   "cell_type": "code",
   "execution_count": 182,
   "id": "b4384269",
   "metadata": {
    "scrolled": true
   },
   "outputs": [
    {
     "data": {
      "text/plain": [
       "False    3773\n",
       "dtype: int64"
      ]
     },
     "execution_count": 182,
     "metadata": {},
     "output_type": "execute_result"
    }
   ],
   "source": [
    "travelhacks.duplicated(subset=['selftext','title']).value_counts()"
   ]
  },
  {
   "cell_type": "code",
   "execution_count": 183,
   "id": "81ff8e22",
   "metadata": {
    "scrolled": false
   },
   "outputs": [
    {
     "data": {
      "text/plain": [
       "False    3847\n",
       "dtype: int64"
      ]
     },
     "execution_count": 183,
     "metadata": {},
     "output_type": "execute_result"
    }
   ],
   "source": [
    "awardtravel.duplicated(subset=['selftext','title']).value_counts()"
   ]
  },
  {
   "cell_type": "markdown",
   "id": "6baf0ef0",
   "metadata": {},
   "source": [
    "#### Create 'text' column to capture the content of both selftext and title"
   ]
  },
  {
   "cell_type": "code",
   "execution_count": 184,
   "id": "3ba1cac5",
   "metadata": {},
   "outputs": [],
   "source": [
    "travelhacks['text'] = travelhacks['title'] + ' ' + travelhacks['selftext']\n",
    "awardtravel['text'] = awardtravel['title'] + ' ' + awardtravel['selftext']"
   ]
  },
  {
   "cell_type": "code",
   "execution_count": 185,
   "id": "18cfcf9f",
   "metadata": {},
   "outputs": [
    {
     "name": "stdout",
     "output_type": "stream",
     "text": [
      "<class 'pandas.core.frame.DataFrame'>\n",
      "Int64Index: 3773 entries, 0 to 3854\n",
      "Data columns (total 7 columns):\n",
      " #   Column            Non-Null Count  Dtype \n",
      "---  ------            --------------  ----- \n",
      " 0   subreddit         3773 non-null   object\n",
      " 1   selftext          3773 non-null   object\n",
      " 2   title             3773 non-null   object\n",
      " 3   author            3773 non-null   object\n",
      " 4   num_comments      3773 non-null   int64 \n",
      " 5   utc_datetime_str  3773 non-null   object\n",
      " 6   text              3773 non-null   object\n",
      "dtypes: int64(1), object(6)\n",
      "memory usage: 235.8+ KB\n"
     ]
    }
   ],
   "source": [
    "travelhacks.info()"
   ]
  },
  {
   "cell_type": "code",
   "execution_count": 186,
   "id": "aa9e4fe7",
   "metadata": {
    "scrolled": true
   },
   "outputs": [
    {
     "name": "stdout",
     "output_type": "stream",
     "text": [
      "<class 'pandas.core.frame.DataFrame'>\n",
      "Int64Index: 3847 entries, 0 to 3947\n",
      "Data columns (total 7 columns):\n",
      " #   Column            Non-Null Count  Dtype \n",
      "---  ------            --------------  ----- \n",
      " 0   subreddit         3847 non-null   object\n",
      " 1   selftext          3847 non-null   object\n",
      " 2   title             3847 non-null   object\n",
      " 3   author            3847 non-null   object\n",
      " 4   num_comments      3847 non-null   int64 \n",
      " 5   utc_datetime_str  3847 non-null   object\n",
      " 6   text              3847 non-null   object\n",
      "dtypes: int64(1), object(6)\n",
      "memory usage: 240.4+ KB\n"
     ]
    }
   ],
   "source": [
    "awardtravel.info()"
   ]
  },
  {
   "cell_type": "markdown",
   "id": "84359e47",
   "metadata": {},
   "source": [
    "### Text preprocessing"
   ]
  },
  {
   "cell_type": "code",
   "execution_count": 187,
   "id": "4dd84850",
   "metadata": {
    "scrolled": false
   },
   "outputs": [
    {
     "name": "stdout",
     "output_type": "stream",
     "text": [
      "{'most', 'four', 'anything', 'your', 'or', 'among', 'nowhere', \"n't\", '’d', 'besides', 'yourselves', 'over', 'third', 'whence', 'go', 'are', 'much', 'which', 're', \"'re\", 'only', 'something', 'ever', '‘ve', 'hers', 'forty', 'show', 'were', 'beforehand', 'side', 'always', 'n‘t', 'does', 'whatever', 'should', '‘m', 'hundred', '’m', 'also', 'with', 'you', 'last', 'least', 'whole', 'there', 'keep', 'wherever', 'give', 'two', 'be', 'others', 'fifty', 'any', 'will', 'above', 'same', 'rather', 'due', 'made', 'those', 'anyhow', 'formerly', 'often', 'indeed', '‘re', 'afterwards', \"'ve\", 'everyone', 'thereafter', 'else', 'thus', 'down', 'became', 'put', 'myself', 'becoming', 'hereupon', 'when', 'his', 'whoever', 'anywhere', 'nine', 'doing', '‘d', 'been', 'whom', 'we', 'whenever', 'throughout', 'move', 'moreover', 'the', 'several', 'but', 'her', 'some', 'a', 'using', 'have', '‘s', 'am', 'between', 'almost', 'via', 'their', 'while', 'because', 'back', 'mine', 'along', 'to', 'each', 'one', 'from', 'anyone', 'about', 'themselves', 'itself', 'me', 'everywhere', 'none', 'please', 'take', 'an', 'yet', 'empty', 'and', 'name', 'sixty', 'than', 'all', 'again', 'just', 'nothing', 'already', 'another', 'do', 'whereafter', 'as', 'even', 'for', 'before', 'seems', 'our', 'its', 'i', 'she', 'n’t', 'once', 'they', 'bottom', 'if', 'until', 'whither', 'seem', 'yourself', 'either', 'eight', 'around', 'done', 'less', 'wherein', 'becomes', 'towards', 'us', 'whereupon', 'these', 'can', 'still', 'hereafter', 'in', 'yours', 'neither', 'twelve', 'full', 'fifteen', 'cannot', 'he', 'sometimes', 'against', 'latter', 'such', 'now', 'it', 'toward', 'well', 'twenty', 'three', 'together', 'mostly', 'top', 'whether', 'further', '’ll', 'anyway', 'although', 'otherwise', 'amount', 'ours', 'this', 'would', 'elsewhere', 'through', 'nor', 'many', 'then', '’ve', 'off', 'front', 'ten', 'though', 'herein', 'during', 'more', 'at', 'them', 'various', 'amongst', 'since', 'up', 'being', 'alone', 'everything', \"'ll\", 'ca', 'too', 'nobody', 'first', 'hereby', 'six', 'has', 'herself', 'across', 'other', 'very', 'thereupon', 'might', 'somewhere', 'upon', 'ourselves', 'had', 'per', 'noone', 'was', 'seemed', 'nevertheless', 'here', 'become', 'call', 'few', 'without', 'serious', '’re', 'really', 'onto', 'whereby', '‘ll', 'whose', 'eleven', 'therein', 'is', 'quite', 'thru', 'may', 'after', 'could', 'who', 'however', 'five', 'thereby', 'beyond', 'latterly', 'part', 'seeming', 'himself', 'perhaps', 'someone', 'where', 'enough', 'within', 'into', 'regarding', \"'d\", 'used', 'see', 'below', 'make', 'unless', 'former', 'own', 'meanwhile', 'beside', 'that', 'say', 'namely', 'on', 'except', '’s', 'of', 'whereas', 'him', 'every', 'never', 'out', 'behind', 'hence', 'no', 'thence', \"'m\", 'sometime', 'by', 'what', 'under', 'not', 'how', 'did', 'somehow', \"'s\", 'must', 'both', 'why', 'so', 'my', 'therefore', 'get', 'next'}\n"
     ]
    }
   ],
   "source": [
    "# credit https://stackabuse.com/removing-stop-words-from-strings-in-python/\n",
    "sp = spacy.load('en_core_web_sm')\n",
    "\n",
    "stopwords_sp = sp.Defaults.stop_words\n",
    "print(stopwords_sp)\n"
   ]
  },
  {
   "cell_type": "code",
   "execution_count": 188,
   "id": "66009779",
   "metadata": {},
   "outputs": [],
   "source": [
    "stopwords = set(stopwords.words('english'))\n",
    "#stopwords.remove('not')"
   ]
  },
  {
   "cell_type": "code",
   "execution_count": 189,
   "id": "dbcd77aa",
   "metadata": {
    "scrolled": true
   },
   "outputs": [
    {
     "name": "stdout",
     "output_type": "stream",
     "text": [
      "{'here', 'most', \"haven't\", \"you'll\", 'few', 'your', 'yourself', 'doing', 'or', \"couldn't\", 'whom', 'been', 'didn', 'theirs', 'we', \"you'd\", 'yourselves', \"shan't\", \"won't\", 'weren', 'couldn', 'over', 'is', 'm', 'wouldn', 'are', 'the', \"wasn't\", 'these', 'but', 'after', 'y', 'can', 'which', 'who', 'her', 'in', 'some', 're', 's', 'only', 'yours', 've', 'a', 'ma', 'don', 'have', 'hers', 'himself', 'shan', \"she's\", 'am', 'between', 'were', 'where', \"needn't\", 'he', 'their', 'hasn', 'against', 'such', 'does', 'while', 'into', 'because', 'should', 'now', 'to', 'it', 'below', 'each', 'own', 'from', 'that', 'about', 'themselves', \"didn't\", 'further', \"weren't\", 'with', 'itself', 'me', 'you', 'on', 'ours', 'this', 'there', 'through', 'nor', \"mightn't\", \"wouldn't\", 'then', 'of', 'o', 'off', 'be', 'an', 'isn', 'any', 'him', 'will', 'above', 'same', 'shouldn', 'out', \"doesn't\", \"it's\", 'and', 'mightn', 'during', 'more', 'them', 'at', 'than', \"aren't\", 'haven', 'all', \"hadn't\", 'up', 'being', 'again', 'just', 'those', \"hasn't\", 'no', 'aren', 'do', 'too', 'as', \"that'll\", \"isn't\", 'for', 'wasn', 'having', 'before', 'll', 'our', 'has', 'by', 'its', 'herself', 'hadn', 'i', 'what', 'under', 'not', 'how', 'did', 'other', 'she', 'very', 'both', 'doesn', \"you've\", \"don't\", 'once', \"should've\", 'down', 'd', 'mustn', 'why', 'so', 'ain', 'they', 'my', 'myself', 'needn', \"shouldn't\", 't', 'when', 'ourselves', 'his', 'had', 'won', \"you're\", 'if', 'was', 'until', \"mustn't\"}\n"
     ]
    }
   ],
   "source": [
    "print(stopwords)"
   ]
  },
  {
   "cell_type": "code",
   "execution_count": 190,
   "id": "4beced39",
   "metadata": {},
   "outputs": [],
   "source": [
    "# credit: https://www.w3schools.com/python/gloss_python_join_sets.asp\n",
    "all_stopwords = stopwords_sp.union(stopwords)"
   ]
  },
  {
   "cell_type": "code",
   "execution_count": 191,
   "id": "6ffaea71",
   "metadata": {
    "scrolled": true
   },
   "outputs": [
    {
     "name": "stdout",
     "output_type": "stream",
     "text": [
      "{'most', 'four', 'seem', 'anything', \"you'll\", 'your', 'yourself', 'or', 'among', 'nowhere', 'either', \"n't\", '’d', 'besides', 'eight', 'around', 'didn', 'theirs', 'done', 'less', 'yourselves', 'wherein', 'becomes', 'towards', 'us', 'couldn', 'over', 'third', 'whence', 'm', 'go', 'whereupon', 'are', 'these', 'much', 'can', 'still', 'which', 'hereafter', 'in', 're', \"'re\", 'only', 'something', 'ever', 'yours', 'neither', '‘ve', 'ma', 'don', 'hers', 'forty', 'twelve', 'shan', 'show', 'were', 'full', 'fifteen', 'cannot', 'he', 'beforehand', 'sometimes', 'side', 'always', 'against', 'latter', 'n‘t', 'such', 'does', 'whatever', 'should', 'now', 'it', '‘m', 'toward', 'well', 'twenty', 'hundred', 'three', 'together', 'mostly', 'top', 'whether', '’m', 'further', '’ll', 'also', \"weren't\", 'with', 'you', 'anyway', 'last', 'although', 'otherwise', 'least', 'amount', 'ours', 'this', 'would', 'whole', 'there', 'elsewhere', 'through', 'nor', 'keep', 'many', 'wherever', \"wouldn't\", 'give', 'then', '’ve', 'o', 'two', 'off', 'front', 'ten', 'be', 'isn', 'others', 'fifty', 'any', 'though', 'will', 'above', 'same', 'rather', \"doesn't\", \"it's\", 'herein', 'mightn', 'during', 'more', 'at', 'them', \"aren't\", 'haven', 'due', 'various', 'amongst', 'since', 'up', 'made', 'being', 'alone', 'those', 'anyhow', 'aren', 'everything', 'formerly', \"'ll\", 'ca', 'too', 'nobody', \"that'll\", 'first', 'hereby', 'wasn', 'having', 'six', 'often', 'has', 'indeed', 'herself', 'hadn', 'across', '‘re', 'afterwards', 'other', \"'ve\", 'very', 'thereupon', 'everyone', 'might', 'doesn', 'thereafter', 'somewhere', 'else', 'thus', \"should've\", 'down', 'd', 'mustn', 'became', 'ain', 'put', 'myself', \"shouldn't\", 'becoming', 'upon', 'hereupon', 'when', 'his', 'whoever', 'ourselves', 'had', 'anywhere', 'per', 'noone', 'was', 'seemed', 'nevertheless', 'here', \"mustn't\", 'nine', \"haven't\", 'become', 'call', 'few', 'doing', 'without', \"couldn't\", 'serious', '‘d', '’re', 'been', 'whom', \"won't\", 'we', \"you'd\", 'really', 'onto', 'whenever', 'whereby', \"shan't\", 'weren', '‘ll', 'whose', 'eleven', 'therein', 'throughout', 'is', 'quite', 'move', 'thru', 'may', 'moreover', 'wouldn', 'the', \"wasn't\", 'several', 'but', 'after', 'y', 'could', 'who', 'her', 'some', 's', 've', 'a', 'using', 'however', 'five', 'have', 'thereby', 'beyond', 'latterly', 'part', 'seeming', 'himself', '‘s', \"she's\", 'perhaps', 'someone', 'am', 'between', 'where', 'almost', 'enough', 'via', 'within', \"needn't\", 'their', 'hasn', 'while', 'into', 'regarding', 'because', 'back', 'mine', \"'d\", 'along', 'to', 'used', 'see', 'below', 'make', 'each', 'unless', 'former', 'own', 'meanwhile', 'one', 'beside', 'from', 'anyone', 'that', 'say', 'about', 'themselves', 'namely', \"didn't\", 'itself', 'me', 'on', 'except', 'everywhere', 'none', '’s', \"mightn't\", 'please', 'of', 'take', 'whereas', 'an', 'yet', 'empty', 'him', 'every', 'never', 'shouldn', 'out', 'and', 'name', 'sixty', 'than', 'all', 'behind', \"hadn't\", 'again', 'just', 'nothing', 'hence', 'already', \"hasn't\", 'another', 'no', 'do', 'thence', 'whereafter', \"'m\", 'as', 'even', \"isn't\", 'for', 'sometime', 'before', 'seems', 'our', 'll', 'by', 'its', 'i', 'what', 'under', 'not', 'how', 'did', 'somehow', 'she', \"'s\", 'must', 'both', 'n’t', \"you've\", 'once', \"don't\", 'why', 'so', 'they', 'my', 'needn', 'therefore', 't', 'won', \"you're\", 'bottom', 'get', 'if', 'until', 'next', 'whither'}\n"
     ]
    }
   ],
   "source": [
    "print(all_stopwords)"
   ]
  },
  {
   "cell_type": "markdown",
   "id": "bd7765b8",
   "metadata": {},
   "source": [
    "#### Function for text cleaning"
   ]
  },
  {
   "cell_type": "code",
   "execution_count": 192,
   "id": "694d56ea",
   "metadata": {},
   "outputs": [],
   "source": [
    "# adopted from class\n",
    "# credit: https://www.geeksforgeeks.org/nlp-expand-contractions-in-text-processing/\n",
    "# credit: https://www.geeksforgeeks.org/python-removing-newline-character-from-string/\n",
    "# credit: https://stackoverflow.com/questions/43356467/removing-special-characters-and-symbols-from-a-string-in-python\n",
    "# credit: https://stackoverflow.com/questions/11331982/how-to-remove-any-url-within-a-string-in-python\n",
    "# credit: https://stackoverflow.com/questions/54396405/how-can-i-preprocess-nlp-text-lowercase-remove-special-characters-remove-numb\n",
    "# credit: https://pypi.org/project/redditcleaner/\n",
    "\n",
    "# initialize list of newline characters\n",
    "#newline_characters = ['\\\\ng', 'i\\ns', 'b\\nest', '\\n\\n', '\\n', '\\t', '\\\\']\n",
    "\n",
    "def preprocess(text):\n",
    "\n",
    "    # use redditcleaner to remove special characters used in the raw text at reddit\n",
    "    # such as &amp;#x200B, newline_characters (\\n\\n)\n",
    "    text = redditcleaner.clean(text)  \n",
    "    \n",
    "    # using contractions.fix to expand the shortened words\n",
    "    text = contractions.fix(text)\n",
    "        \n",
    "    # convert to lowercase\n",
    "    text = text.lower()\n",
    "    \n",
    "    # initiate BeautifulSopu to strip HTML tags\n",
    "    soup = BeautifulSoup(text, \"html.parser\")\n",
    "    text = soup.get_text(separator=\" \") # Get all the text other than html tags.\n",
    "    \n",
    "    # remove links starts with https and/or end with .com\n",
    "    text = re.sub(r'http\\S+', '', text)\n",
    "    text = re.sub(r'\\ *\\.com', '', text)\n",
    "    \n",
    "    # remove non-letters\n",
    "    text = re.sub(\"[^a-zA-Z]\", \" \", text)    \n",
    "    \n",
    "    # remove newlines tabs\n",
    "    #for characters in newline_characters:\n",
    "    #    text = text.replace(characters, ' ') \n",
    "    \n",
    "    # remove extra white spaces\n",
    "    text = re.sub('\\s+', ' ', text).strip()  \n",
    "  \n",
    "    # split into individual words\n",
    "    words = text.split()\n",
    "        \n",
    "    # remove stop words\n",
    "    meaningful_words = []\n",
    "    for w in words:\n",
    "        if w not in all_stopwords:\n",
    "            meaningful_words.append(w)\n",
    "              \n",
    "    # lemmatizer the words\n",
    "    lemmatizer = WordNetLemmatizer()\n",
    "    tokens_lem = [lemmatizer.lemmatize(i) for i in meaningful_words]    \n",
    "    \n",
    "    return ' '.join(tokens_lem)"
   ]
  },
  {
   "cell_type": "code",
   "execution_count": 193,
   "id": "c528c1aa",
   "metadata": {
    "scrolled": true
   },
   "outputs": [
    {
     "name": "stderr",
     "output_type": "stream",
     "text": [
      "C:\\Users\\skyne\\AppData\\Local\\Temp\\ipykernel_26192\\2602187967.py:25: MarkupResemblesLocatorWarning: The input looks more like a filename than markup. You may want to open this file and pass the filehandle into Beautiful Soup.\n",
      "  soup = BeautifulSoup(text, \"html.parser\")\n",
      "C:\\Users\\skyne\\AppData\\Local\\Temp\\ipykernel_26192\\2602187967.py:25: MarkupResemblesLocatorWarning: The input looks more like a URL than markup. You may want to use an HTTP client like requests to get the document behind the URL, and feed that document to Beautiful Soup.\n",
      "  soup = BeautifulSoup(text, \"html.parser\")\n"
     ]
    },
    {
     "data": {
      "text/html": [
       "<div>\n",
       "<style scoped>\n",
       "    .dataframe tbody tr th:only-of-type {\n",
       "        vertical-align: middle;\n",
       "    }\n",
       "\n",
       "    .dataframe tbody tr th {\n",
       "        vertical-align: top;\n",
       "    }\n",
       "\n",
       "    .dataframe thead th {\n",
       "        text-align: right;\n",
       "    }\n",
       "</style>\n",
       "<table border=\"1\" class=\"dataframe\">\n",
       "  <thead>\n",
       "    <tr style=\"text-align: right;\">\n",
       "      <th></th>\n",
       "      <th>subreddit</th>\n",
       "      <th>selftext</th>\n",
       "      <th>title</th>\n",
       "      <th>author</th>\n",
       "      <th>num_comments</th>\n",
       "      <th>utc_datetime_str</th>\n",
       "      <th>text</th>\n",
       "      <th>text_cleaned</th>\n",
       "    </tr>\n",
       "  </thead>\n",
       "  <tbody>\n",
       "    <tr>\n",
       "      <th>0</th>\n",
       "      <td>awardtravel</td>\n",
       "      <td>Got about 400k MR. Would like business for 2 t...</td>\n",
       "      <td>Sfo to hkg january time frame</td>\n",
       "      <td>NorcalGamers627</td>\n",
       "      <td>1</td>\n",
       "      <td>4/2/2023 4:55</td>\n",
       "      <td>Sfo to hkg january time frame Got about 400k M...</td>\n",
       "      <td>sfo hkg january time frame got k mr like busin...</td>\n",
       "    </tr>\n",
       "    <tr>\n",
       "      <th>1</th>\n",
       "      <td>awardtravel</td>\n",
       "      <td>Hey - we have about \\~200K AmEx points saved u...</td>\n",
       "      <td>Best way to fly to Japan in business or 1st cl...</td>\n",
       "      <td>altoid_trapezoid</td>\n",
       "      <td>1</td>\n",
       "      <td>4/2/2023 3:43</td>\n",
       "      <td>Best way to fly to Japan in business or 1st cl...</td>\n",
       "      <td>best way fly japan business st class amex poin...</td>\n",
       "    </tr>\n",
       "    <tr>\n",
       "      <th>2</th>\n",
       "      <td>awardtravel</td>\n",
       "      <td>Finally!! Got the booking confirmed for two ,\\...</td>\n",
       "      <td>booked JAL F for two via Cathay!!! But now adv...</td>\n",
       "      <td>Leezy36</td>\n",
       "      <td>1</td>\n",
       "      <td>4/2/2023 3:07</td>\n",
       "      <td>booked JAL F for two via Cathay!!! But now adv...</td>\n",
       "      <td>booked jal f cathay advice picking seat finall...</td>\n",
       "    </tr>\n",
       "    <tr>\n",
       "      <th>3</th>\n",
       "      <td>awardtravel</td>\n",
       "      <td>Hoping to plan a Japan ski trip for Jan/Feb 20...</td>\n",
       "      <td>ANA Stopover Question</td>\n",
       "      <td>SnooDoughnuts785</td>\n",
       "      <td>1</td>\n",
       "      <td>4/2/2023 1:25</td>\n",
       "      <td>ANA Stopover Question Hoping to plan a Japan s...</td>\n",
       "      <td>ana stopover question hoping plan japan ski tr...</td>\n",
       "    </tr>\n",
       "    <tr>\n",
       "      <th>4</th>\n",
       "      <td>awardtravel</td>\n",
       "      <td>I booked an EgyptAir flight that connects in C...</td>\n",
       "      <td>Is it possible to ask for a longer layover on ...</td>\n",
       "      <td>ReasonWithMe007</td>\n",
       "      <td>1</td>\n",
       "      <td>4/2/2023 0:43</td>\n",
       "      <td>Is it possible to ask for a longer layover on ...</td>\n",
       "      <td>possible ask longer layover award flight booki...</td>\n",
       "    </tr>\n",
       "  </tbody>\n",
       "</table>\n",
       "</div>"
      ],
      "text/plain": [
       "     subreddit                                           selftext  \\\n",
       "0  awardtravel  Got about 400k MR. Would like business for 2 t...   \n",
       "1  awardtravel  Hey - we have about \\~200K AmEx points saved u...   \n",
       "2  awardtravel  Finally!! Got the booking confirmed for two ,\\...   \n",
       "3  awardtravel  Hoping to plan a Japan ski trip for Jan/Feb 20...   \n",
       "4  awardtravel  I booked an EgyptAir flight that connects in C...   \n",
       "\n",
       "                                               title            author  \\\n",
       "0                      Sfo to hkg january time frame   NorcalGamers627   \n",
       "1  Best way to fly to Japan in business or 1st cl...  altoid_trapezoid   \n",
       "2  booked JAL F for two via Cathay!!! But now adv...           Leezy36   \n",
       "3                              ANA Stopover Question  SnooDoughnuts785   \n",
       "4  Is it possible to ask for a longer layover on ...   ReasonWithMe007   \n",
       "\n",
       "   num_comments utc_datetime_str  \\\n",
       "0             1    4/2/2023 4:55   \n",
       "1             1    4/2/2023 3:43   \n",
       "2             1    4/2/2023 3:07   \n",
       "3             1    4/2/2023 1:25   \n",
       "4             1    4/2/2023 0:43   \n",
       "\n",
       "                                                text  \\\n",
       "0  Sfo to hkg january time frame Got about 400k M...   \n",
       "1  Best way to fly to Japan in business or 1st cl...   \n",
       "2  booked JAL F for two via Cathay!!! But now adv...   \n",
       "3  ANA Stopover Question Hoping to plan a Japan s...   \n",
       "4  Is it possible to ask for a longer layover on ...   \n",
       "\n",
       "                                        text_cleaned  \n",
       "0  sfo hkg january time frame got k mr like busin...  \n",
       "1  best way fly japan business st class amex poin...  \n",
       "2  booked jal f cathay advice picking seat finall...  \n",
       "3  ana stopover question hoping plan japan ski tr...  \n",
       "4  possible ask longer layover award flight booki...  "
      ]
     },
     "execution_count": 193,
     "metadata": {},
     "output_type": "execute_result"
    }
   ],
   "source": [
    "awardtravel['text_cleaned'] = awardtravel.apply(lambda x: preprocess(x['text']), axis=1)\n",
    "awardtravel.head()"
   ]
  },
  {
   "cell_type": "code",
   "execution_count": 194,
   "id": "cc231f72",
   "metadata": {},
   "outputs": [
    {
     "name": "stderr",
     "output_type": "stream",
     "text": [
      "C:\\Users\\skyne\\AppData\\Local\\Temp\\ipykernel_26192\\2602187967.py:25: MarkupResemblesLocatorWarning: The input looks more like a filename than markup. You may want to open this file and pass the filehandle into Beautiful Soup.\n",
      "  soup = BeautifulSoup(text, \"html.parser\")\n",
      "C:\\Users\\skyne\\AppData\\Local\\Temp\\ipykernel_26192\\2602187967.py:25: MarkupResemblesLocatorWarning: The input looks more like a URL than markup. You may want to use an HTTP client like requests to get the document behind the URL, and feed that document to Beautiful Soup.\n",
      "  soup = BeautifulSoup(text, \"html.parser\")\n"
     ]
    },
    {
     "data": {
      "text/html": [
       "<div>\n",
       "<style scoped>\n",
       "    .dataframe tbody tr th:only-of-type {\n",
       "        vertical-align: middle;\n",
       "    }\n",
       "\n",
       "    .dataframe tbody tr th {\n",
       "        vertical-align: top;\n",
       "    }\n",
       "\n",
       "    .dataframe thead th {\n",
       "        text-align: right;\n",
       "    }\n",
       "</style>\n",
       "<table border=\"1\" class=\"dataframe\">\n",
       "  <thead>\n",
       "    <tr style=\"text-align: right;\">\n",
       "      <th></th>\n",
       "      <th>subreddit</th>\n",
       "      <th>selftext</th>\n",
       "      <th>title</th>\n",
       "      <th>author</th>\n",
       "      <th>num_comments</th>\n",
       "      <th>utc_datetime_str</th>\n",
       "      <th>text</th>\n",
       "      <th>text_cleaned</th>\n",
       "    </tr>\n",
       "  </thead>\n",
       "  <tbody>\n",
       "    <tr>\n",
       "      <th>0</th>\n",
       "      <td>TravelHacks</td>\n",
       "      <td>Has anyone booked a flight to Costa Rica witho...</td>\n",
       "      <td>Winging Costa rica</td>\n",
       "      <td>lucylovesugly1</td>\n",
       "      <td>0</td>\n",
       "      <td>4/2/2023 6:51</td>\n",
       "      <td>Winging Costa rica Has anyone booked a flight ...</td>\n",
       "      <td>winging costa rica booked flight costa rica bo...</td>\n",
       "    </tr>\n",
       "    <tr>\n",
       "      <th>1</th>\n",
       "      <td>TravelHacks</td>\n",
       "      <td>Hey, me and my friend are planning to go on a ...</td>\n",
       "      <td>I'm planning a backpacking trip to Romania, an...</td>\n",
       "      <td>wbtr42</td>\n",
       "      <td>0</td>\n",
       "      <td>4/2/2023 6:37</td>\n",
       "      <td>I'm planning a backpacking trip to Romania, an...</td>\n",
       "      <td>planning backpacking trip romania tip hey frie...</td>\n",
       "    </tr>\n",
       "    <tr>\n",
       "      <th>2</th>\n",
       "      <td>TravelHacks</td>\n",
       "      <td>Hey all. Planning on a visit to Chile and Arge...</td>\n",
       "      <td>Are there any budget friendly ways to get a ta...</td>\n",
       "      <td>bak1n</td>\n",
       "      <td>0</td>\n",
       "      <td>4/2/2023 6:10</td>\n",
       "      <td>Are there any budget friendly ways to get a ta...</td>\n",
       "      <td>budget friendly way taste arctic hey planning ...</td>\n",
       "    </tr>\n",
       "    <tr>\n",
       "      <th>3</th>\n",
       "      <td>TravelHacks</td>\n",
       "      <td></td>\n",
       "      <td>Niagara Falls NY</td>\n",
       "      <td>Proud-Assumption-353</td>\n",
       "      <td>0</td>\n",
       "      <td>4/2/2023 5:28</td>\n",
       "      <td>Niagara Falls NY</td>\n",
       "      <td>niagara fall ny</td>\n",
       "    </tr>\n",
       "    <tr>\n",
       "      <th>4</th>\n",
       "      <td>TravelHacks</td>\n",
       "      <td>I’m heading to Europe for work in June and wan...</td>\n",
       "      <td>Nice &amp;gt; Rome flights/airlines</td>\n",
       "      <td>efisk1990</td>\n",
       "      <td>0</td>\n",
       "      <td>4/2/2023 5:06</td>\n",
       "      <td>Nice &amp;gt; Rome flights/airlines I’m heading to...</td>\n",
       "      <td>nice rome flight airline heading europe work j...</td>\n",
       "    </tr>\n",
       "  </tbody>\n",
       "</table>\n",
       "</div>"
      ],
      "text/plain": [
       "     subreddit                                           selftext  \\\n",
       "0  TravelHacks  Has anyone booked a flight to Costa Rica witho...   \n",
       "1  TravelHacks  Hey, me and my friend are planning to go on a ...   \n",
       "2  TravelHacks  Hey all. Planning on a visit to Chile and Arge...   \n",
       "3  TravelHacks                                                      \n",
       "4  TravelHacks  I’m heading to Europe for work in June and wan...   \n",
       "\n",
       "                                               title                author  \\\n",
       "0                                 Winging Costa rica        lucylovesugly1   \n",
       "1  I'm planning a backpacking trip to Romania, an...                wbtr42   \n",
       "2  Are there any budget friendly ways to get a ta...                 bak1n   \n",
       "3                                   Niagara Falls NY  Proud-Assumption-353   \n",
       "4                    Nice &gt; Rome flights/airlines             efisk1990   \n",
       "\n",
       "   num_comments utc_datetime_str  \\\n",
       "0             0    4/2/2023 6:51   \n",
       "1             0    4/2/2023 6:37   \n",
       "2             0    4/2/2023 6:10   \n",
       "3             0    4/2/2023 5:28   \n",
       "4             0    4/2/2023 5:06   \n",
       "\n",
       "                                                text  \\\n",
       "0  Winging Costa rica Has anyone booked a flight ...   \n",
       "1  I'm planning a backpacking trip to Romania, an...   \n",
       "2  Are there any budget friendly ways to get a ta...   \n",
       "3                                  Niagara Falls NY    \n",
       "4  Nice &gt; Rome flights/airlines I’m heading to...   \n",
       "\n",
       "                                        text_cleaned  \n",
       "0  winging costa rica booked flight costa rica bo...  \n",
       "1  planning backpacking trip romania tip hey frie...  \n",
       "2  budget friendly way taste arctic hey planning ...  \n",
       "3                                    niagara fall ny  \n",
       "4  nice rome flight airline heading europe work j...  "
      ]
     },
     "execution_count": 194,
     "metadata": {},
     "output_type": "execute_result"
    }
   ],
   "source": [
    "travelhacks['text_cleaned'] = travelhacks.apply(lambda x: preprocess(x['text']), axis=1)\n",
    "travelhacks.head()"
   ]
  },
  {
   "cell_type": "code",
   "execution_count": 195,
   "id": "859a038b",
   "metadata": {
    "scrolled": true
   },
   "outputs": [
    {
     "data": {
      "text/plain": [
       "array([\"Sfo to hkg january time frame Got about 400k MR. Would like business for 2 to go from SFO to HKG in mid to late January time frame... Willing to fly out of LAX. \\n\\nCan't seem to find any on cathay's site from SFO or LAX and united is like 200k each way per person from SFO.\\n\\nAnyone got any recommendations on what to look at?\",\n",
       "       \"Best way to fly to Japan in business or 1st class with AmEx points? Hey - we have about \\\\~200K AmEx points saved up.\\n\\nAll of the posts seem to be out of date. I've checked ones from 2016 (don't work), ones from 2020 (don't work), and even these [newer articles](https://upgradedpoints.com/travel/airlines/best-ways-to-book-japan-airlines-business-class/) seem to be mostly SEO garbage instead of helpful.\\n\\nLeaving from anywhere on the East Coast - could do BOS, LGA, JFK, even DC if we had to. Looking for \\\\~10 days in Japan and can spend on top of the 200K points we have to get there.\\n\\nHelp!\",\n",
       "       'booked JAL F for two via Cathay!!! But now advice on picking seats… Finally!! Got the booking confirmed for two ,\\n\\n240K miles and 650$ in fees for two first class JAL 4/15\\n\\nThere are 3 available seats with two next to eachother at least via expertflyer information however I was not able to choose which 2 I wanted,\\nI have the JAL reference number but when I type that in, they tell me that I need to contact JAL calll center, but apparently that’s not 24/7 and that’s closed right now? Am. I missing something. \\n\\nWhat should I do?',\n",
       "       \"ANA Stopover Question Hoping to plan a Japan ski trip for Jan/Feb 2025. Have a specific route in mind SFO-TYO (stopover for 3-4 days), TYO-CTS, CTS-TYO-SFO and was excited to execute this plan using the free ANA stopover until I realized the obstacle: given that this would be a multi-city booking, I won't be able to book it the usual way (available outbound + dummy return) and change the dates online myself. So now I'm just trying to come up with a plan B:\\n\\nWould it be possible to book SFO-TYO-CTS RT with no stopover using my usual method and then once the outbound and return dates are set, call ANA to change the layover in TYO to a stopover? I know route changes are not allowed, but I'm not sure if this is considered a route change...\\n\\nIf not, then I guess I'll either 1) book SFO-TYO RT and add a separate domestic flight or take the bullet train to CTS or 2) book one ways on Aeroplan with a stopover on the outbound\\n\\nWould love to hear your thoughts. Thanks!\",\n",
       "       'Is it possible to ask for a longer layover on an award flight after booking? I booked an EgyptAir flight that connects in Cairo via Life Miles. My connection is about 4 hours but I want to change this to a day or two. Will EgyptAir allow this? Does anyone have any experience with this?'],\n",
       "      dtype=object)"
      ]
     },
     "execution_count": 195,
     "metadata": {},
     "output_type": "execute_result"
    }
   ],
   "source": [
    "# before text cleaning\n",
    "awardtravel['text'][0:5].unique()"
   ]
  },
  {
   "cell_type": "code",
   "execution_count": 196,
   "id": "0498d337",
   "metadata": {
    "scrolled": false
   },
   "outputs": [
    {
     "data": {
      "text/plain": [
       "array(['sfo hkg january time frame got k mr like business sfo hkg mid late january time frame willing fly lax find cathay site sfo lax united like k way person sfo got recommendation look',\n",
       "       'best way fly japan business st class amex point hey k amex point saved post date checked one work one work seo garbage instead helpful leaving east coast bos lga jfk dc looking day japan spend k point help',\n",
       "       'booked jal f cathay advice picking seat finally got booking confirmed k mile fee class jal available seat eachother expertflyer information able choose wanted jal reference number type tell need contact jal calll center apparently closed right missing',\n",
       "       'ana stopover question hoping plan japan ski trip jan feb specific route mind sfo tyo stopover day tyo ct ct tyo sfo excited execute plan free ana stopover realized obstacle given multi city booking able book usual way available outbound dummy return change date online trying come plan b possible book sfo tyo ct rt stopover usual method outbound return date set ana change layover tyo stopover know route change allowed sure considered route change guess book sfo tyo rt add separate domestic flight bullet train ct book way aeroplan stopover outbound love hear thought thanks',\n",
       "       'possible ask longer layover award flight booking booked egyptair flight connects cairo life mile connection hour want change day egyptair allow experience'],\n",
       "      dtype=object)"
      ]
     },
     "execution_count": 196,
     "metadata": {},
     "output_type": "execute_result"
    }
   ],
   "source": [
    "# after text cleaning\n",
    "awardtravel['text_cleaned'][0:5].unique()"
   ]
  },
  {
   "cell_type": "code",
   "execution_count": 197,
   "id": "2cd31673",
   "metadata": {},
   "outputs": [],
   "source": [
    "# Save to csv\n",
    "travelhacks.to_csv(\"../data/travelhacks_cleaned.csv\", index=False)\n",
    "awardtravel.to_csv(\"../data/awardtravel_cleaned.csv\", index=False)"
   ]
  },
  {
   "cell_type": "markdown",
   "id": "769b0164",
   "metadata": {},
   "source": [
    "#### Combine two dataframes for futher cleaning and data training"
   ]
  },
  {
   "cell_type": "code",
   "execution_count": 198,
   "id": "24e7660f",
   "metadata": {
    "scrolled": true
   },
   "outputs": [
    {
     "data": {
      "text/plain": [
       "((3773, 8), (3847, 8))"
      ]
     },
     "execution_count": 198,
     "metadata": {},
     "output_type": "execute_result"
    }
   ],
   "source": [
    "travelhacks.shape, awardtravel.shape"
   ]
  },
  {
   "cell_type": "code",
   "execution_count": 199,
   "id": "d39b6350",
   "metadata": {},
   "outputs": [],
   "source": [
    "# combined and reset index\n",
    "df_combined = pd.concat([travelhacks, awardtravel], axis = 0)\n",
    "df_combined = df_combined.reset_index(drop=True)"
   ]
  },
  {
   "cell_type": "code",
   "execution_count": 200,
   "id": "e477e756",
   "metadata": {
    "scrolled": true
   },
   "outputs": [
    {
     "data": {
      "text/plain": [
       "(7620, 8)"
      ]
     },
     "execution_count": 200,
     "metadata": {},
     "output_type": "execute_result"
    }
   ],
   "source": [
    "df_combined.shape"
   ]
  },
  {
   "cell_type": "code",
   "execution_count": 201,
   "id": "2c219d0d",
   "metadata": {
    "scrolled": true
   },
   "outputs": [
    {
     "name": "stdout",
     "output_type": "stream",
     "text": [
      "<class 'pandas.core.frame.DataFrame'>\n",
      "RangeIndex: 7620 entries, 0 to 7619\n",
      "Data columns (total 8 columns):\n",
      " #   Column            Non-Null Count  Dtype \n",
      "---  ------            --------------  ----- \n",
      " 0   subreddit         7620 non-null   object\n",
      " 1   selftext          7620 non-null   object\n",
      " 2   title             7620 non-null   object\n",
      " 3   author            7620 non-null   object\n",
      " 4   num_comments      7620 non-null   int64 \n",
      " 5   utc_datetime_str  7620 non-null   object\n",
      " 6   text              7620 non-null   object\n",
      " 7   text_cleaned      7620 non-null   object\n",
      "dtypes: int64(1), object(7)\n",
      "memory usage: 476.4+ KB\n"
     ]
    }
   ],
   "source": [
    "df_combined.info()"
   ]
  },
  {
   "cell_type": "code",
   "execution_count": 202,
   "id": "a57648f1",
   "metadata": {
    "scrolled": true
   },
   "outputs": [
    {
     "data": {
      "text/plain": [
       "awardtravel    3847\n",
       "TravelHacks    3773\n",
       "Name: subreddit, dtype: int64"
      ]
     },
     "execution_count": 202,
     "metadata": {},
     "output_type": "execute_result"
    }
   ],
   "source": [
    "df_combined.subreddit.value_counts()"
   ]
  },
  {
   "cell_type": "code",
   "execution_count": 203,
   "id": "8d34e8b6",
   "metadata": {},
   "outputs": [],
   "source": [
    "#convert the target into binary result\n",
    "df_combined['subreddit'].replace({'TravelHacks': 1, 'awardtravel': 0}, inplace=True)"
   ]
  },
  {
   "cell_type": "code",
   "execution_count": 204,
   "id": "e5556c89",
   "metadata": {
    "scrolled": true
   },
   "outputs": [
    {
     "data": {
      "text/plain": [
       "0    3847\n",
       "1    3773\n",
       "Name: subreddit, dtype: int64"
      ]
     },
     "execution_count": 204,
     "metadata": {},
     "output_type": "execute_result"
    }
   ],
   "source": [
    "df_combined.subreddit.value_counts()"
   ]
  },
  {
   "cell_type": "code",
   "execution_count": 205,
   "id": "aa178049",
   "metadata": {
    "scrolled": true
   },
   "outputs": [],
   "source": [
    "# drop columns that are not needed for analysis\n",
    "df_combined.drop(columns = ['utc_datetime_str', 'selftext'], inplace = True)"
   ]
  },
  {
   "cell_type": "code",
   "execution_count": 206,
   "id": "45daab6c",
   "metadata": {
    "scrolled": true
   },
   "outputs": [
    {
     "data": {
      "text/plain": [
       "(7620, 6)"
      ]
     },
     "execution_count": 206,
     "metadata": {},
     "output_type": "execute_result"
    }
   ],
   "source": [
    "df_combined.shape"
   ]
  },
  {
   "cell_type": "code",
   "execution_count": 207,
   "id": "1895d30d",
   "metadata": {},
   "outputs": [],
   "source": [
    "# Save to csv\n",
    "df_combined.to_csv(\"../data/df_cleaned.csv\", index=False)"
   ]
  },
  {
   "cell_type": "markdown",
   "id": "4b493225",
   "metadata": {},
   "source": [
    "### EDA"
   ]
  },
  {
   "cell_type": "code",
   "execution_count": 208,
   "id": "87863d90",
   "metadata": {},
   "outputs": [],
   "source": [
    "df_combined = pd.read_csv(\"../data/df_cleaned.csv\")"
   ]
  },
  {
   "cell_type": "code",
   "execution_count": 209,
   "id": "a7a6cf09",
   "metadata": {},
   "outputs": [
    {
     "data": {
      "text/html": [
       "<div>\n",
       "<style scoped>\n",
       "    .dataframe tbody tr th:only-of-type {\n",
       "        vertical-align: middle;\n",
       "    }\n",
       "\n",
       "    .dataframe tbody tr th {\n",
       "        vertical-align: top;\n",
       "    }\n",
       "\n",
       "    .dataframe thead th {\n",
       "        text-align: right;\n",
       "    }\n",
       "</style>\n",
       "<table border=\"1\" class=\"dataframe\">\n",
       "  <thead>\n",
       "    <tr style=\"text-align: right;\">\n",
       "      <th></th>\n",
       "      <th>subreddit</th>\n",
       "      <th>title</th>\n",
       "      <th>author</th>\n",
       "      <th>num_comments</th>\n",
       "      <th>text</th>\n",
       "      <th>text_cleaned</th>\n",
       "    </tr>\n",
       "  </thead>\n",
       "  <tbody>\n",
       "    <tr>\n",
       "      <th>0</th>\n",
       "      <td>1</td>\n",
       "      <td>Winging Costa rica</td>\n",
       "      <td>lucylovesugly1</td>\n",
       "      <td>0</td>\n",
       "      <td>Winging Costa rica Has anyone booked a flight ...</td>\n",
       "      <td>winging costa rica booked flight costa rica bo...</td>\n",
       "    </tr>\n",
       "  </tbody>\n",
       "</table>\n",
       "</div>"
      ],
      "text/plain": [
       "   subreddit               title          author  num_comments  \\\n",
       "0          1  Winging Costa rica  lucylovesugly1             0   \n",
       "\n",
       "                                                text  \\\n",
       "0  Winging Costa rica Has anyone booked a flight ...   \n",
       "\n",
       "                                        text_cleaned  \n",
       "0  winging costa rica booked flight costa rica bo...  "
      ]
     },
     "execution_count": 209,
     "metadata": {},
     "output_type": "execute_result"
    }
   ],
   "source": [
    "df_combined.head(1)"
   ]
  },
  {
   "cell_type": "code",
   "execution_count": 210,
   "id": "1b705ac5",
   "metadata": {
    "scrolled": true
   },
   "outputs": [
    {
     "data": {
      "text/html": [
       "<div>\n",
       "<style scoped>\n",
       "    .dataframe tbody tr th:only-of-type {\n",
       "        vertical-align: middle;\n",
       "    }\n",
       "\n",
       "    .dataframe tbody tr th {\n",
       "        vertical-align: top;\n",
       "    }\n",
       "\n",
       "    .dataframe thead th {\n",
       "        text-align: right;\n",
       "    }\n",
       "</style>\n",
       "<table border=\"1\" class=\"dataframe\">\n",
       "  <thead>\n",
       "    <tr style=\"text-align: right;\">\n",
       "      <th></th>\n",
       "      <th>count</th>\n",
       "      <th>mean</th>\n",
       "      <th>std</th>\n",
       "      <th>min</th>\n",
       "      <th>25%</th>\n",
       "      <th>50%</th>\n",
       "      <th>75%</th>\n",
       "      <th>max</th>\n",
       "    </tr>\n",
       "    <tr>\n",
       "      <th>subreddit</th>\n",
       "      <th></th>\n",
       "      <th></th>\n",
       "      <th></th>\n",
       "      <th></th>\n",
       "      <th></th>\n",
       "      <th></th>\n",
       "      <th></th>\n",
       "      <th></th>\n",
       "    </tr>\n",
       "  </thead>\n",
       "  <tbody>\n",
       "    <tr>\n",
       "      <th>0</th>\n",
       "      <td>3847.0</td>\n",
       "      <td>1.99844</td>\n",
       "      <td>5.404636</td>\n",
       "      <td>0.0</td>\n",
       "      <td>1.0</td>\n",
       "      <td>1.0</td>\n",
       "      <td>1.0</td>\n",
       "      <td>94.0</td>\n",
       "    </tr>\n",
       "    <tr>\n",
       "      <th>1</th>\n",
       "      <td>3773.0</td>\n",
       "      <td>0.02995</td>\n",
       "      <td>0.558273</td>\n",
       "      <td>0.0</td>\n",
       "      <td>0.0</td>\n",
       "      <td>0.0</td>\n",
       "      <td>0.0</td>\n",
       "      <td>18.0</td>\n",
       "    </tr>\n",
       "  </tbody>\n",
       "</table>\n",
       "</div>"
      ],
      "text/plain": [
       "            count     mean       std  min  25%  50%  75%   max\n",
       "subreddit                                                     \n",
       "0          3847.0  1.99844  5.404636  0.0  1.0  1.0  1.0  94.0\n",
       "1          3773.0  0.02995  0.558273  0.0  0.0  0.0  0.0  18.0"
      ]
     },
     "execution_count": 210,
     "metadata": {},
     "output_type": "execute_result"
    }
   ],
   "source": [
    "df_combined.groupby('subreddit')['num_comments'].describe()"
   ]
  },
  {
   "cell_type": "code",
   "execution_count": 216,
   "id": "9cea513e",
   "metadata": {
    "scrolled": false
   },
   "outputs": [
    {
     "data": {
      "text/plain": [
       "Text(0.5, 1.0, 'Number of Comments per Post')"
      ]
     },
     "execution_count": 216,
     "metadata": {},
     "output_type": "execute_result"
    },
    {
     "data": {
      "image/png": "[encoded data removed]",
      "text/plain": [
       "<Figure size 800x300 with 1 Axes>"
      ]
     },
     "metadata": {},
     "output_type": "display_data"
    }
   ],
   "source": [
    "# A very wide rand of comments per post. \n",
    "plt.figure(figsize=(8, 3))\n",
    "sns.boxplot(data = df_combined, x = 'num_comments', palette = 'viridis')\n",
    "plt.title(\"Number of Comments per Post\")"
   ]
  },
  {
   "cell_type": "code",
   "execution_count": 234,
   "id": "ef6d2d73",
   "metadata": {
    "scrolled": true
   },
   "outputs": [
    {
     "data": {
      "image/png": "[encoded data removed]",
      "text/plain": [
       "<Figure size 1000x500 with 2 Axes>"
      ]
     },
     "metadata": {},
     "output_type": "display_data"
    }
   ],
   "source": [
    "# compare number of comments in two subreddits\n",
    "# credit: https://stackoverflow.com/questions/67613774/how-to-add-a-mean-and-median-line-to-a-seaborn-displot\n",
    "\n",
    "fig, ax = plt.subplots(1, 2, figsize=(10,5), sharey=True)\n",
    "ax = ax.ravel()\n",
    "mean_1 = travelhacks['num_comments'].mean()\n",
    "g1 = sns.histplot(data=travelhacks, x='num_comments', ax = ax[0], bins=25)\n",
    "g1.set_title(f'r/TravelHacks (Mean: {round(mean_1)} comments)')\n",
    "ax[0].axvline(mean_1, ls='--', color='red')\n",
    "mean_2 = awardtravel['num_comments'].mean()\n",
    "g2 = sns.histplot(data=awardtravel, x='num_comments', ax = ax[1], bins=25, color='olive')\n",
    "g2.set_title(f'r/AwardTravel (Mean: {round(mean_2)} comments)')\n",
    "ax[1].axvline(mean_2, ls='--', color='red')\n",
    "plt.suptitle('Number of Comments', fontsize=14)\n",
    "plt.tight_layout()"
   ]
  },
  {
   "cell_type": "code",
   "execution_count": 235,
   "id": "2ce55c95",
   "metadata": {},
   "outputs": [],
   "source": [
    "# function to plot the average post length\n",
    "# credit: https://stackoverflow.com/questions/67613774/how-to-add-a-mean-and-median-line-to-a-seaborn-displot\n",
    "def subplot_histograms(col, title):\n",
    "    fig, ax = plt.subplots(1, 2, figsize=(10,5), sharey=True)\n",
    "    ax = ax.ravel()\n",
    "    \n",
    "    # Plot first df   \n",
    "    g1 = sns.histplot(data=travelhacks, x=travelhacks[col].str.len(), ax = ax[0], bins=25)\n",
    "    mean_1 = travelhacks[col].str.len().mean()\n",
    "    ax[0].axvline(mean_1, ls='--', color='red')\n",
    "    g1.set_title(f'r/TravelHacks (Mean: {round(mean_1)} words)')\n",
    "    g1.set_xlabel(f'Length of {col.capitalize()}')\n",
    "    \n",
    "    # Plot second df\n",
    "    g2 = sns.histplot(data=awardtravel, x=awardtravel[col].str.len(), ax = ax[1], bins=25, color='olive')\n",
    "    mean_2 = awardtravel[col].str.len().mean()\n",
    "    ax[1].axvline(mean_2, ls='--', color='red')\n",
    "    g2.set_title(f'r/AwardTravel (Mean: {round(mean_2)} words)')\n",
    "    g2.set_xlabel(f'Length of {col.capitalize()}')\n",
    "    plt.suptitle(title, fontsize=14);"
   ]
  },
  {
   "cell_type": "code",
   "execution_count": 236,
   "id": "79380206",
   "metadata": {},
   "outputs": [
    {
     "data": {
      "image/png": "[encoded data removed]",
      "text/plain": [
       "<Figure size 1000x500 with 2 Axes>"
      ]
     },
     "metadata": {},
     "output_type": "display_data"
    }
   ],
   "source": [
    "subplot_histograms('selftext', 'Average Post Length of Selftext')"
   ]
  },
  {
   "cell_type": "code",
   "execution_count": 237,
   "id": "3c10b8ec",
   "metadata": {
    "scrolled": true
   },
   "outputs": [
    {
     "data": {
      "image/png": "[encoded data removed]",
      "text/plain": [
       "<Figure size 1000x500 with 2 Axes>"
      ]
     },
     "metadata": {},
     "output_type": "display_data"
    }
   ],
   "source": [
    "subplot_histograms('title', 'Average Post Length of Title')"
   ]
  },
  {
   "cell_type": "code",
   "execution_count": 245,
   "id": "4e64c9b5",
   "metadata": {
    "scrolled": false
   },
   "outputs": [
    {
     "data": {
      "text/html": [
       "<div>\n",
       "<style scoped>\n",
       "    .dataframe tbody tr th:only-of-type {\n",
       "        vertical-align: middle;\n",
       "    }\n",
       "\n",
       "    .dataframe tbody tr th {\n",
       "        vertical-align: top;\n",
       "    }\n",
       "\n",
       "    .dataframe thead th {\n",
       "        text-align: right;\n",
       "    }\n",
       "</style>\n",
       "<table border=\"1\" class=\"dataframe\">\n",
       "  <thead>\n",
       "    <tr style=\"text-align: right;\">\n",
       "      <th></th>\n",
       "      <th>count</th>\n",
       "      <th>mean</th>\n",
       "      <th>std</th>\n",
       "      <th>min</th>\n",
       "      <th>25%</th>\n",
       "      <th>50%</th>\n",
       "      <th>75%</th>\n",
       "      <th>max</th>\n",
       "    </tr>\n",
       "    <tr>\n",
       "      <th>subreddit</th>\n",
       "      <th></th>\n",
       "      <th></th>\n",
       "      <th></th>\n",
       "      <th></th>\n",
       "      <th></th>\n",
       "      <th></th>\n",
       "      <th></th>\n",
       "      <th></th>\n",
       "    </tr>\n",
       "  </thead>\n",
       "  <tbody>\n",
       "    <tr>\n",
       "      <th>0</th>\n",
       "      <td>3847.0</td>\n",
       "      <td>106.777489</td>\n",
       "      <td>132.387687</td>\n",
       "      <td>1.0</td>\n",
       "      <td>45.5</td>\n",
       "      <td>80.0</td>\n",
       "      <td>132.0</td>\n",
       "      <td>3171.0</td>\n",
       "    </tr>\n",
       "    <tr>\n",
       "      <th>1</th>\n",
       "      <td>3773.0</td>\n",
       "      <td>56.195865</td>\n",
       "      <td>100.705068</td>\n",
       "      <td>1.0</td>\n",
       "      <td>8.0</td>\n",
       "      <td>29.0</td>\n",
       "      <td>76.0</td>\n",
       "      <td>2429.0</td>\n",
       "    </tr>\n",
       "  </tbody>\n",
       "</table>\n",
       "</div>"
      ],
      "text/plain": [
       "            count        mean         std  min   25%   50%    75%     max\n",
       "subreddit                                                                \n",
       "0          3847.0  106.777489  132.387687  1.0  45.5  80.0  132.0  3171.0\n",
       "1          3773.0   56.195865  100.705068  1.0   8.0  29.0   76.0  2429.0"
      ]
     },
     "execution_count": 245,
     "metadata": {},
     "output_type": "execute_result"
    }
   ],
   "source": [
    "## Number of words in the text before text cleanning\n",
    "df_combined[\"num_words\"] = df_combined[\"text\"].apply(lambda x: len(str(x).split()))\n",
    "df_combined.groupby('subreddit')['num_words'].describe()"
   ]
  },
  {
   "cell_type": "code",
   "execution_count": 244,
   "id": "453c0b77",
   "metadata": {
    "scrolled": true
   },
   "outputs": [
    {
     "data": {
      "text/html": [
       "<div>\n",
       "<style scoped>\n",
       "    .dataframe tbody tr th:only-of-type {\n",
       "        vertical-align: middle;\n",
       "    }\n",
       "\n",
       "    .dataframe tbody tr th {\n",
       "        vertical-align: top;\n",
       "    }\n",
       "\n",
       "    .dataframe thead th {\n",
       "        text-align: right;\n",
       "    }\n",
       "</style>\n",
       "<table border=\"1\" class=\"dataframe\">\n",
       "  <thead>\n",
       "    <tr style=\"text-align: right;\">\n",
       "      <th></th>\n",
       "      <th>count</th>\n",
       "      <th>mean</th>\n",
       "      <th>std</th>\n",
       "      <th>min</th>\n",
       "      <th>25%</th>\n",
       "      <th>50%</th>\n",
       "      <th>75%</th>\n",
       "      <th>max</th>\n",
       "    </tr>\n",
       "    <tr>\n",
       "      <th>subreddit</th>\n",
       "      <th></th>\n",
       "      <th></th>\n",
       "      <th></th>\n",
       "      <th></th>\n",
       "      <th></th>\n",
       "      <th></th>\n",
       "      <th></th>\n",
       "      <th></th>\n",
       "    </tr>\n",
       "  </thead>\n",
       "  <tbody>\n",
       "    <tr>\n",
       "      <th>0</th>\n",
       "      <td>3847.0</td>\n",
       "      <td>50.036132</td>\n",
       "      <td>61.013770</td>\n",
       "      <td>1.0</td>\n",
       "      <td>22.0</td>\n",
       "      <td>38.0</td>\n",
       "      <td>61.0</td>\n",
       "      <td>1497.0</td>\n",
       "    </tr>\n",
       "    <tr>\n",
       "      <th>1</th>\n",
       "      <td>3773.0</td>\n",
       "      <td>25.003180</td>\n",
       "      <td>42.163872</td>\n",
       "      <td>1.0</td>\n",
       "      <td>5.0</td>\n",
       "      <td>13.0</td>\n",
       "      <td>34.0</td>\n",
       "      <td>1048.0</td>\n",
       "    </tr>\n",
       "  </tbody>\n",
       "</table>\n",
       "</div>"
      ],
      "text/plain": [
       "            count       mean        std  min   25%   50%   75%     max\n",
       "subreddit                                                             \n",
       "0          3847.0  50.036132  61.013770  1.0  22.0  38.0  61.0  1497.0\n",
       "1          3773.0  25.003180  42.163872  1.0   5.0  13.0  34.0  1048.0"
      ]
     },
     "execution_count": 244,
     "metadata": {},
     "output_type": "execute_result"
    }
   ],
   "source": [
    "## Number of words in the text after text cleanning\n",
    "df_combined[\"num_words_cleaned\"] = df_combined[\"text_cleaned\"].apply(lambda x: len(str(x).split()))\n",
    "df_combined.groupby('subreddit')['num_words_cleaned'].describe()"
   ]
  },
  {
   "cell_type": "code",
   "execution_count": 136,
   "id": "199348e3",
   "metadata": {
    "scrolled": false
   },
   "outputs": [
    {
     "data": {
      "text/html": [
       "<div>\n",
       "<style scoped>\n",
       "    .dataframe tbody tr th:only-of-type {\n",
       "        vertical-align: middle;\n",
       "    }\n",
       "\n",
       "    .dataframe tbody tr th {\n",
       "        vertical-align: top;\n",
       "    }\n",
       "\n",
       "    .dataframe thead th {\n",
       "        text-align: right;\n",
       "    }\n",
       "</style>\n",
       "<table border=\"1\" class=\"dataframe\">\n",
       "  <thead>\n",
       "    <tr style=\"text-align: right;\">\n",
       "      <th></th>\n",
       "      <th>subreddit</th>\n",
       "      <th>title</th>\n",
       "      <th>author</th>\n",
       "      <th>num_comments</th>\n",
       "      <th>text</th>\n",
       "      <th>text_cleaned</th>\n",
       "      <th>num_words_cleaned</th>\n",
       "      <th>num_words</th>\n",
       "    </tr>\n",
       "  </thead>\n",
       "  <tbody>\n",
       "    <tr>\n",
       "      <th>0</th>\n",
       "      <td>1</td>\n",
       "      <td>Winging Costa rica</td>\n",
       "      <td>lucylovesugly1</td>\n",
       "      <td>0</td>\n",
       "      <td>Winging Costa rica Has anyone booked a flight ...</td>\n",
       "      <td>winging costa rica booked flight costa rica bo...</td>\n",
       "      <td>20</td>\n",
       "      <td>46</td>\n",
       "    </tr>\n",
       "    <tr>\n",
       "      <th>1</th>\n",
       "      <td>1</td>\n",
       "      <td>I'm planning a backpacking trip to Romania, an...</td>\n",
       "      <td>wbtr42</td>\n",
       "      <td>0</td>\n",
       "      <td>I'm planning a backpacking trip to Romania, an...</td>\n",
       "      <td>planning backpacking trip romania tip hey frie...</td>\n",
       "      <td>16</td>\n",
       "      <td>40</td>\n",
       "    </tr>\n",
       "    <tr>\n",
       "      <th>2</th>\n",
       "      <td>1</td>\n",
       "      <td>Are there any budget friendly ways to get a ta...</td>\n",
       "      <td>bak1n</td>\n",
       "      <td>0</td>\n",
       "      <td>Are there any budget friendly ways to get a ta...</td>\n",
       "      <td>budget friendly way taste arctic hey planning ...</td>\n",
       "      <td>48</td>\n",
       "      <td>115</td>\n",
       "    </tr>\n",
       "    <tr>\n",
       "      <th>3</th>\n",
       "      <td>1</td>\n",
       "      <td>Niagara Falls NY</td>\n",
       "      <td>Proud-Assumption-353</td>\n",
       "      <td>0</td>\n",
       "      <td>Niagara Falls NY</td>\n",
       "      <td>niagara fall ny</td>\n",
       "      <td>3</td>\n",
       "      <td>3</td>\n",
       "    </tr>\n",
       "    <tr>\n",
       "      <th>4</th>\n",
       "      <td>1</td>\n",
       "      <td>Nice &amp;gt; Rome flights/airlines</td>\n",
       "      <td>efisk1990</td>\n",
       "      <td>0</td>\n",
       "      <td>Nice &amp;gt; Rome flights/airlines I’m heading to...</td>\n",
       "      <td>nice rome flight airline heading europe work j...</td>\n",
       "      <td>57</td>\n",
       "      <td>131</td>\n",
       "    </tr>\n",
       "  </tbody>\n",
       "</table>\n",
       "</div>"
      ],
      "text/plain": [
       "   subreddit                                              title  \\\n",
       "0          1                                 Winging Costa rica   \n",
       "1          1  I'm planning a backpacking trip to Romania, an...   \n",
       "2          1  Are there any budget friendly ways to get a ta...   \n",
       "3          1                                   Niagara Falls NY   \n",
       "4          1                    Nice &gt; Rome flights/airlines   \n",
       "\n",
       "                 author  num_comments  \\\n",
       "0        lucylovesugly1             0   \n",
       "1                wbtr42             0   \n",
       "2                 bak1n             0   \n",
       "3  Proud-Assumption-353             0   \n",
       "4             efisk1990             0   \n",
       "\n",
       "                                                text  \\\n",
       "0  Winging Costa rica Has anyone booked a flight ...   \n",
       "1  I'm planning a backpacking trip to Romania, an...   \n",
       "2  Are there any budget friendly ways to get a ta...   \n",
       "3                                  Niagara Falls NY    \n",
       "4  Nice &gt; Rome flights/airlines I’m heading to...   \n",
       "\n",
       "                                        text_cleaned  num_words_cleaned  \\\n",
       "0  winging costa rica booked flight costa rica bo...                 20   \n",
       "1  planning backpacking trip romania tip hey frie...                 16   \n",
       "2  budget friendly way taste arctic hey planning ...                 48   \n",
       "3                                    niagara fall ny                  3   \n",
       "4  nice rome flight airline heading europe work j...                 57   \n",
       "\n",
       "   num_words  \n",
       "0         46  \n",
       "1         40  \n",
       "2        115  \n",
       "3          3  \n",
       "4        131  "
      ]
     },
     "execution_count": 136,
     "metadata": {},
     "output_type": "execute_result"
    }
   ],
   "source": [
    "df_combined.head()"
   ]
  },
  {
   "cell_type": "code",
   "execution_count": 137,
   "id": "af1290f1",
   "metadata": {
    "scrolled": true
   },
   "outputs": [
    {
     "data": {
      "image/png": "[encoded data removed]",
      "text/plain": [
       "<Figure size 576.986x500 with 1 Axes>"
      ]
     },
     "metadata": {},
     "output_type": "display_data"
    }
   ],
   "source": [
    "sns.displot(x='num_words_cleaned', data=df_combined, hue='subreddit', kind=\"kde\", multiple=\"stack\")\n",
    "plt.title('Distribution Plot for Number of Words \\nbetween two Subreddits');"
   ]
  },
  {
   "cell_type": "markdown",
   "id": "c2fa52c7",
   "metadata": {},
   "source": [
    "#### On average, r/AwardTravel has much longer length of selftext than r/TravelHacks. The average post length of title is about equal for both site. r/AwardTravel seems to have more active members leaving comments to the posts."
   ]
  },
  {
   "cell_type": "code",
   "execution_count": 258,
   "id": "6bb3c6ce",
   "metadata": {},
   "outputs": [],
   "source": [
    "# function to show frequent use unigrams, bigrams, and trigrams\n",
    "# adopted from class\n",
    "# credit: https://stackoverflow.com/questions/67504409/how-to-handle-out-of-vocab-words-with-bag-of-words\n",
    "\n",
    "def plot_top_words_cvec(df, col, n, ngram, title, palette = 'rocket'):\n",
    "    def top_n_words(tokens, n=n, k=ngram):     \n",
    "        cvec = CountVectorizer(ngram_range=(k,k), stop_words='english').fit(tokens)     \n",
    "        cvec_counts = cvec.transform(tokens)     \n",
    "        sum_tokens = cvec_counts.sum(axis=0)      \n",
    "        tokens_freq = [(cvec_counts, sum_tokens[0, idx]) for cvec_counts, idx in cvec.vocabulary_.items()]    \n",
    "        tokens_freq =sorted(tokens_freq, key = lambda x: x[1], reverse=True) \n",
    "        return tokens_freq[:n]\n",
    "    tokens_df = pd.DataFrame(data=top_n_words(df[col], n), columns=['word','freq'])\n",
    "    plt.figure(figsize=(5,4))\n",
    "    sns.barplot(data=tokens_df, y='word', x='freq', palette=palette)\n",
    "    plt.ylabel('Word')\n",
    "    plt.xlabel('Frequency')\n",
    "    plt.title(title, fontsize=12)"
   ]
  },
  {
   "cell_type": "code",
   "execution_count": 259,
   "id": "1edb20b5",
   "metadata": {
    "scrolled": false
   },
   "outputs": [
    {
     "data": {
      "image/png": "[encoded data removed]",
      "text/plain": [
       "<Figure size 1000x600 with 1 Axes>"
      ]
     },
     "metadata": {},
     "output_type": "display_data"
    },
    {
     "data": {
      "image/png": "[encoded data removed]",
      "text/plain": [
       "<Figure size 1000x600 with 1 Axes>"
      ]
     },
     "metadata": {},
     "output_type": "display_data"
    },
    {
     "data": {
      "image/png": "[encoded data removed]",
      "text/plain": [
       "<Figure size 1000x600 with 1 Axes>"
      ]
     },
     "metadata": {},
     "output_type": "display_data"
    },
    {
     "data": {
      "image/png": "[encoded data removed]",
      "text/plain": [
       "<Figure size 1000x600 with 1 Axes>"
      ]
     },
     "metadata": {},
     "output_type": "display_data"
    },
    {
     "data": {
      "image/png": "[encoded data removed]",
      "text/plain": [
       "<Figure size 1000x600 with 1 Axes>"
      ]
     },
     "metadata": {},
     "output_type": "display_data"
    },
    {
     "data": {
      "image/png": "[encoded data removed]",
      "text/plain": [
       "<Figure size 1000x600 with 1 Axes>"
      ]
     },
     "metadata": {},
     "output_type": "display_data"
    }
   ],
   "source": [
    "# most frequent use of words in between two subreddits\n",
    "plot_top_words(awardtravel,'text_cleaned', 10, 1, 'Top 10 Unigrams of r/Awardtravel', 'Blues_r')\n",
    "plot_top_words(travelhacks,'text_cleaned', 10, 1, 'Top 10 Unigrams of r/TravelHacks', 'Purples_r')\n",
    "plot_top_words(awardtravel,'text_cleaned', 10, 2, 'Top 10 Bigrams of r/Awardtravel', 'Blues_r')\n",
    "plot_top_words(travelhacks,'text_cleaned', 10, 2, 'Top 10 Bigrams of r/TravelHacks', 'Purples_r')\n",
    "plot_top_words(awardtravel,'text_cleaned', 10, 3, 'Top 10 Trigrams of r/Awardtravel', 'Blues_r')\n",
    "plot_top_words(travelhacks,'text_cleaned', 10, 3, 'Top 10 Trigrams of r/TravelHacks', 'Purples_r')"
   ]
  },
  {
   "cell_type": "markdown",
   "id": "07134235",
   "metadata": {},
   "source": [
    "Among top 10 most frequent unigrams, flight is the only kyword in common. The bigrams in common is best way.  From the frequent bigrams, r/awardtravel is more about points, flight tickets, and airline company, while r/travelhacks is more about rental car and trip planning. As for frequesnt trigrams, r/awardtravel is more about business class flight tickets and points system, while r/travelhacks is more about diverse of categories such as credit cards, flights, rental company, and places to visit. "
   ]
  },
  {
   "cell_type": "markdown",
   "id": "684964e0",
   "metadata": {},
   "source": [
    "#### Sentiment Analysis for each reddit"
   ]
  },
  {
   "cell_type": "code",
   "execution_count": 260,
   "id": "0ca094bd",
   "metadata": {},
   "outputs": [],
   "source": [
    "from nltk.sentiment.vader import SentimentIntensityAnalyzer"
   ]
  },
  {
   "cell_type": "code",
   "execution_count": 261,
   "id": "5d19de2b",
   "metadata": {},
   "outputs": [],
   "source": [
    "# adopted from class\n",
    "sent = SentimentIntensityAnalyzer()\n",
    "df_combined['sentiment'] = df_combined['title'].apply(sent.polarity_scores)\n",
    "df_combined[\"compound_score\"] = [df_combined['sentiment'][i].get('compound') for i in  range(len(df_combined))]"
   ]
  },
  {
   "cell_type": "code",
   "execution_count": 262,
   "id": "8340552b",
   "metadata": {
    "scrolled": false
   },
   "outputs": [
    {
     "data": {
      "text/html": [
       "<div>\n",
       "<style scoped>\n",
       "    .dataframe tbody tr th:only-of-type {\n",
       "        vertical-align: middle;\n",
       "    }\n",
       "\n",
       "    .dataframe tbody tr th {\n",
       "        vertical-align: top;\n",
       "    }\n",
       "\n",
       "    .dataframe thead th {\n",
       "        text-align: right;\n",
       "    }\n",
       "</style>\n",
       "<table border=\"1\" class=\"dataframe\">\n",
       "  <thead>\n",
       "    <tr style=\"text-align: right;\">\n",
       "      <th></th>\n",
       "      <th>count</th>\n",
       "      <th>mean</th>\n",
       "      <th>std</th>\n",
       "      <th>min</th>\n",
       "      <th>25%</th>\n",
       "      <th>50%</th>\n",
       "      <th>75%</th>\n",
       "      <th>max</th>\n",
       "    </tr>\n",
       "    <tr>\n",
       "      <th>subreddit</th>\n",
       "      <th></th>\n",
       "      <th></th>\n",
       "      <th></th>\n",
       "      <th></th>\n",
       "      <th></th>\n",
       "      <th></th>\n",
       "      <th></th>\n",
       "      <th></th>\n",
       "    </tr>\n",
       "  </thead>\n",
       "  <tbody>\n",
       "    <tr>\n",
       "      <th>0</th>\n",
       "      <td>3847.0</td>\n",
       "      <td>0.189303</td>\n",
       "      <td>0.301026</td>\n",
       "      <td>-0.8047</td>\n",
       "      <td>0.0</td>\n",
       "      <td>0.0</td>\n",
       "      <td>0.4588</td>\n",
       "      <td>0.9201</td>\n",
       "    </tr>\n",
       "    <tr>\n",
       "      <th>1</th>\n",
       "      <td>3773.0</td>\n",
       "      <td>0.117708</td>\n",
       "      <td>0.288078</td>\n",
       "      <td>-0.8591</td>\n",
       "      <td>0.0</td>\n",
       "      <td>0.0</td>\n",
       "      <td>0.3182</td>\n",
       "      <td>0.9709</td>\n",
       "    </tr>\n",
       "  </tbody>\n",
       "</table>\n",
       "</div>"
      ],
      "text/plain": [
       "            count      mean       std     min  25%  50%     75%     max\n",
       "subreddit                                                              \n",
       "0          3847.0  0.189303  0.301026 -0.8047  0.0  0.0  0.4588  0.9201\n",
       "1          3773.0  0.117708  0.288078 -0.8591  0.0  0.0  0.3182  0.9709"
      ]
     },
     "execution_count": 262,
     "metadata": {},
     "output_type": "execute_result"
    }
   ],
   "source": [
    "df_combined.groupby(\"subreddit\")[\"compound_score\"].describe()"
   ]
  },
  {
   "cell_type": "code",
   "execution_count": 264,
   "id": "b8c6b7c3",
   "metadata": {
    "scrolled": false
   },
   "outputs": [
    {
     "data": {
      "image/png": "[encoded data removed]",
      "text/plain": [
       "<Figure size 640x480 with 1 Axes>"
      ]
     },
     "metadata": {},
     "output_type": "display_data"
    }
   ],
   "source": [
    "sns.kdeplot(data = df_combined, x= \"compound_score\", hue = \"subreddit\")\n",
    "plt.title('Sentiment Analysis for each reddit', fontsize=12);"
   ]
  },
  {
   "cell_type": "markdown",
   "id": "ce463d80",
   "metadata": {},
   "source": [
    "#### In general, most posts are neutral; however, r/AwardTravel has a slightly higher sentiment score than r/TravelHacks."
   ]
  }
 ],
 "metadata": {
  "kernelspec": {
   "display_name": "Python 3 (ipykernel)",
   "language": "python",
   "name": "python3"
  },
  "language_info": {
   "codemirror_mode": {
    "name": "ipython",
    "version": 3
   },
   "file_extension": ".py",
   "mimetype": "text/x-python",
   "name": "python",
   "nbconvert_exporter": "python",
   "pygments_lexer": "ipython3",
   "version": "3.10.10"
  }
 },
 "nbformat": 4,
 "nbformat_minor": 5
}
