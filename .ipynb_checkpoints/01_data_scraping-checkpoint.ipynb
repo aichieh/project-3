{
 "cells": [
  {
   "cell_type": "code",
   "execution_count": 3,
   "id": "ee55b909",
   "metadata": {},
   "outputs": [],
   "source": [
    "#conda install -c conda-forge psaw\n",
    "#!pip install psaw"
   ]
  },
  {
   "cell_type": "code",
   "execution_count": 1,
   "id": "24f3a186",
   "metadata": {},
   "outputs": [],
   "source": [
    "# Import libraries needed for webscraping\n",
    "import requests\n",
    "from datetime import datetime\n",
    "import time\n",
    "import random\n",
    "import pandas as pd\n",
    "from tqdm import tqdm\n",
    "\n",
    "import praw\n",
    "from psaw import PushshiftAPI\n",
    "\n",
    "pd.set_option('display.max_columns', 2000)\n",
    "pd.set_option('display.max_rows', 500)"
   ]
  },
  {
   "cell_type": "code",
   "execution_count": 4,
   "id": "ed8f67ff",
   "metadata": {},
   "outputs": [],
   "source": [
    "#url_1 = 'https://www.reddit.com/r/travel.json'\n",
    "#url_2 = 'https://www.reddit.com/r/awardtravel.json'\n",
    "#res = requests.get(url, headers={'User-agent': 'Helpful-Scientist-53'})"
   ]
  },
  {
   "cell_type": "code",
   "execution_count": 2,
   "id": "439bee9f",
   "metadata": {},
   "outputs": [],
   "source": [
    "url = 'https://api.pushshift.io/reddit/search/submission'"
   ]
  },
  {
   "cell_type": "code",
   "execution_count": null,
   "id": "514ce047",
   "metadata": {},
   "outputs": [],
   "source": [
    "# url for subreddit submission \n",
    "# url = 'https://api.pushshift.io/reddit/search/submission?subreddit=travel'"
   ]
  },
  {
   "cell_type": "code",
   "execution_count": 5,
   "id": "9dd107a8",
   "metadata": {},
   "outputs": [],
   "source": [
    "# set up parameter\n",
    "params = {\n",
    "    'subreddit': 'travel',\n",
    "    'size': 1000, # limit of 1000\n",
    "    'before': 1680108395 # show the post before 1680108395  \n",
    "}"
   ]
  },
  {
   "cell_type": "code",
   "execution_count": 6,
   "id": "1fc88d97",
   "metadata": {},
   "outputs": [],
   "source": [
    "# set up response\n",
    "res = requests.get(url, params)"
   ]
  },
  {
   "cell_type": "code",
   "execution_count": 7,
   "id": "d9f2d8a3",
   "metadata": {},
   "outputs": [
    {
     "data": {
      "text/plain": [
       "200"
      ]
     },
     "execution_count": 7,
     "metadata": {},
     "output_type": "execute_result"
    }
   ],
   "source": [
    "# check status code\n",
    "res.status_code"
   ]
  },
  {
   "cell_type": "code",
   "execution_count": 8,
   "id": "f771f71c",
   "metadata": {},
   "outputs": [],
   "source": [
    "# returned as json in dictionary list\n",
    "data = res.json()"
   ]
  },
  {
   "cell_type": "code",
   "execution_count": 9,
   "id": "04e74818",
   "metadata": {},
   "outputs": [],
   "source": [
    "posts = data['data']"
   ]
  },
  {
   "cell_type": "code",
   "execution_count": 10,
   "id": "a79ba5bd",
   "metadata": {
    "scrolled": true
   },
   "outputs": [
    {
     "data": {
      "text/plain": [
       "1000"
      ]
     },
     "execution_count": 10,
     "metadata": {},
     "output_type": "execute_result"
    }
   ],
   "source": [
    "# size for the default value of 10; changed it to 1000 most recent posts\n",
    "len(posts)"
   ]
  },
  {
   "cell_type": "code",
   "execution_count": 11,
   "id": "9883108e",
   "metadata": {
    "scrolled": true
   },
   "outputs": [
    {
     "data": {
      "text/plain": [
       "{'subreddit': 'travel',\n",
       " 'selftext': \"Never been before so dont know much  about the region. Where should I go that is affordable, interesting,  and has good food? I will have my GF with me so not interested in  cooming, alcohol, or nightlife. We're travelling in November because of  fewer crowds and cheaper prices. We know we want to visit Hungary for  sure for the thermal baths and the food but are unsure if we should go  north from there to Slovakia/Czechia/Poland, to Slovenia/Croatia/Serbia,  or east towards Romania. I was leaning towards Croatia and Serbia  because the weather may be warmer, the proximity to Hungary, I've heard  food there is decent, and I like Orthodox churches. But we are open to  anywhere accessible by train or bus from Budapest. Any good outdoor  things to do in any of these regions in November?\",\n",
       " 'author_fullname': 't2_3s3ea',\n",
       " 'gilded': 0,\n",
       " 'title': 'I will have two weeks of vacation in November and want to visit some ountries in eastern Europe.',\n",
       " 'link_flair_richtext': [],\n",
       " 'subreddit_name_prefixed': 'r/travel',\n",
       " 'hidden': False,\n",
       " 'pwls': 6,\n",
       " 'link_flair_css_class': 'question',\n",
       " 'thumbnail_height': None,\n",
       " 'top_awarded_type': None,\n",
       " 'hide_score': True,\n",
       " 'quarantine': False,\n",
       " 'link_flair_text_color': 'light',\n",
       " 'upvote_ratio': 1.0,\n",
       " 'author_flair_background_color': None,\n",
       " 'subreddit_type': 'public',\n",
       " 'total_awards_received': 0,\n",
       " 'media_embed': {},\n",
       " 'thumbnail_width': None,\n",
       " 'author_flair_template_id': None,\n",
       " 'is_original_content': False,\n",
       " 'secure_media': None,\n",
       " 'is_reddit_media_domain': False,\n",
       " 'is_meta': False,\n",
       " 'category': None,\n",
       " 'secure_media_embed': {},\n",
       " 'link_flair_text': 'Question',\n",
       " 'score': 1,\n",
       " 'is_created_from_ads_ui': False,\n",
       " 'author_premium': False,\n",
       " 'thumbnail': 'self',\n",
       " 'edited': False,\n",
       " 'author_flair_css_class': None,\n",
       " 'author_flair_richtext': [],\n",
       " 'gildings': {},\n",
       " 'content_categories': None,\n",
       " 'is_self': True,\n",
       " 'link_flair_type': 'text',\n",
       " 'wls': 6,\n",
       " 'removed_by_category': None,\n",
       " 'author_flair_type': 'text',\n",
       " 'domain': 'self.travel',\n",
       " 'allow_live_comments': False,\n",
       " 'suggested_sort': None,\n",
       " 'view_count': None,\n",
       " 'archived': False,\n",
       " 'no_follow': True,\n",
       " 'is_crosspostable': True,\n",
       " 'pinned': False,\n",
       " 'over_18': False,\n",
       " 'all_awardings': [],\n",
       " 'awarders': [],\n",
       " 'media_only': False,\n",
       " 'link_flair_template_id': '63ab44d8-3640-11e3-8665-12313d21c4ee',\n",
       " 'can_gild': True,\n",
       " 'spoiler': False,\n",
       " 'locked': False,\n",
       " 'author_flair_text': None,\n",
       " 'treatment_tags': [],\n",
       " 'removed_by': None,\n",
       " 'distinguished': None,\n",
       " 'subreddit_id': 't5_2qh41',\n",
       " 'link_flair_background_color': '#ff66ac',\n",
       " 'id': '125tfj8',\n",
       " 'is_robot_indexable': True,\n",
       " 'author': 'xss2',\n",
       " 'discussion_type': None,\n",
       " 'num_comments': 0,\n",
       " 'send_replies': True,\n",
       " 'whitelist_status': 'all_ads',\n",
       " 'contest_mode': False,\n",
       " 'author_patreon_flair': False,\n",
       " 'author_flair_text_color': None,\n",
       " 'permalink': '/r/travel/comments/125tfj8/i_will_have_two_weeks_of_vacation_in_november_and/',\n",
       " 'parent_whitelist_status': 'all_ads',\n",
       " 'stickied': False,\n",
       " 'url': 'https://www.reddit.com/r/travel/comments/125tfj8/i_will_have_two_weeks_of_vacation_in_november_and/',\n",
       " 'subreddit_subscribers': 7443770,\n",
       " 'created_utc': 1680108205,\n",
       " 'num_crossposts': 0,\n",
       " 'media': None,\n",
       " 'is_video': False,\n",
       " 'retrieved_utc': 1680108218,\n",
       " 'updated_utc': 1680108218,\n",
       " 'utc_datetime_str': '2023-03-29 16:43:25'}"
      ]
     },
     "execution_count": 11,
     "metadata": {},
     "output_type": "execute_result"
    }
   ],
   "source": [
    "# check the first post\n",
    "posts[0]\n",
    "\n",
    "# created_utc is an int, showing the time the first post weas posted"
   ]
  },
  {
   "cell_type": "code",
   "execution_count": 12,
   "id": "8b17dddf",
   "metadata": {},
   "outputs": [],
   "source": [
    "import pandas as pd"
   ]
  },
  {
   "cell_type": "code",
   "execution_count": 13,
   "id": "6d7d93a4",
   "metadata": {},
   "outputs": [],
   "source": [
    "# turned dictionary to dataframe\n",
    "df = pd.DataFrame(posts)"
   ]
  },
  {
   "cell_type": "code",
   "execution_count": 14,
   "id": "c581ac73",
   "metadata": {
    "scrolled": true
   },
   "outputs": [
    {
     "data": {
      "text/html": [
       "<div>\n",
       "<style scoped>\n",
       "    .dataframe tbody tr th:only-of-type {\n",
       "        vertical-align: middle;\n",
       "    }\n",
       "\n",
       "    .dataframe tbody tr th {\n",
       "        vertical-align: top;\n",
       "    }\n",
       "\n",
       "    .dataframe thead th {\n",
       "        text-align: right;\n",
       "    }\n",
       "</style>\n",
       "<table border=\"1\" class=\"dataframe\">\n",
       "  <thead>\n",
       "    <tr style=\"text-align: right;\">\n",
       "      <th></th>\n",
       "      <th>subreddit</th>\n",
       "      <th>selftext</th>\n",
       "      <th>author_fullname</th>\n",
       "      <th>gilded</th>\n",
       "      <th>title</th>\n",
       "      <th>link_flair_richtext</th>\n",
       "      <th>subreddit_name_prefixed</th>\n",
       "      <th>hidden</th>\n",
       "      <th>pwls</th>\n",
       "      <th>link_flair_css_class</th>\n",
       "      <th>thumbnail_height</th>\n",
       "      <th>top_awarded_type</th>\n",
       "      <th>hide_score</th>\n",
       "      <th>quarantine</th>\n",
       "      <th>link_flair_text_color</th>\n",
       "      <th>upvote_ratio</th>\n",
       "      <th>author_flair_background_color</th>\n",
       "      <th>subreddit_type</th>\n",
       "      <th>total_awards_received</th>\n",
       "      <th>media_embed</th>\n",
       "      <th>thumbnail_width</th>\n",
       "      <th>author_flair_template_id</th>\n",
       "      <th>is_original_content</th>\n",
       "      <th>secure_media</th>\n",
       "      <th>is_reddit_media_domain</th>\n",
       "      <th>is_meta</th>\n",
       "      <th>category</th>\n",
       "      <th>secure_media_embed</th>\n",
       "      <th>link_flair_text</th>\n",
       "      <th>score</th>\n",
       "      <th>is_created_from_ads_ui</th>\n",
       "      <th>author_premium</th>\n",
       "      <th>thumbnail</th>\n",
       "      <th>edited</th>\n",
       "      <th>author_flair_css_class</th>\n",
       "      <th>author_flair_richtext</th>\n",
       "      <th>gildings</th>\n",
       "      <th>content_categories</th>\n",
       "      <th>is_self</th>\n",
       "      <th>link_flair_type</th>\n",
       "      <th>wls</th>\n",
       "      <th>removed_by_category</th>\n",
       "      <th>author_flair_type</th>\n",
       "      <th>domain</th>\n",
       "      <th>allow_live_comments</th>\n",
       "      <th>suggested_sort</th>\n",
       "      <th>view_count</th>\n",
       "      <th>archived</th>\n",
       "      <th>no_follow</th>\n",
       "      <th>is_crosspostable</th>\n",
       "      <th>pinned</th>\n",
       "      <th>over_18</th>\n",
       "      <th>all_awardings</th>\n",
       "      <th>awarders</th>\n",
       "      <th>media_only</th>\n",
       "      <th>link_flair_template_id</th>\n",
       "      <th>can_gild</th>\n",
       "      <th>spoiler</th>\n",
       "      <th>locked</th>\n",
       "      <th>author_flair_text</th>\n",
       "      <th>treatment_tags</th>\n",
       "      <th>removed_by</th>\n",
       "      <th>distinguished</th>\n",
       "      <th>subreddit_id</th>\n",
       "      <th>link_flair_background_color</th>\n",
       "      <th>id</th>\n",
       "      <th>is_robot_indexable</th>\n",
       "      <th>author</th>\n",
       "      <th>discussion_type</th>\n",
       "      <th>num_comments</th>\n",
       "      <th>send_replies</th>\n",
       "      <th>whitelist_status</th>\n",
       "      <th>contest_mode</th>\n",
       "      <th>author_patreon_flair</th>\n",
       "      <th>author_flair_text_color</th>\n",
       "      <th>permalink</th>\n",
       "      <th>parent_whitelist_status</th>\n",
       "      <th>stickied</th>\n",
       "      <th>url</th>\n",
       "      <th>subreddit_subscribers</th>\n",
       "      <th>created_utc</th>\n",
       "      <th>num_crossposts</th>\n",
       "      <th>media</th>\n",
       "      <th>is_video</th>\n",
       "      <th>retrieved_utc</th>\n",
       "      <th>updated_utc</th>\n",
       "      <th>utc_datetime_str</th>\n",
       "      <th>post_hint</th>\n",
       "      <th>url_overridden_by_dest</th>\n",
       "      <th>preview</th>\n",
       "      <th>crosspost_parent_list</th>\n",
       "      <th>crosspost_parent</th>\n",
       "      <th>is_gallery</th>\n",
       "      <th>media_metadata</th>\n",
       "      <th>gallery_data</th>\n",
       "      <th>author_cakeday</th>\n",
       "    </tr>\n",
       "  </thead>\n",
       "  <tbody>\n",
       "    <tr>\n",
       "      <th>0</th>\n",
       "      <td>travel</td>\n",
       "      <td>Never been before so dont know much  about the...</td>\n",
       "      <td>t2_3s3ea</td>\n",
       "      <td>0</td>\n",
       "      <td>I will have two weeks of vacation in November ...</td>\n",
       "      <td>[]</td>\n",
       "      <td>r/travel</td>\n",
       "      <td>False</td>\n",
       "      <td>6.0</td>\n",
       "      <td>question</td>\n",
       "      <td>NaN</td>\n",
       "      <td>None</td>\n",
       "      <td>True</td>\n",
       "      <td>False</td>\n",
       "      <td>light</td>\n",
       "      <td>1.0</td>\n",
       "      <td>None</td>\n",
       "      <td>public</td>\n",
       "      <td>0</td>\n",
       "      <td>{}</td>\n",
       "      <td>NaN</td>\n",
       "      <td>None</td>\n",
       "      <td>False</td>\n",
       "      <td>None</td>\n",
       "      <td>False</td>\n",
       "      <td>False</td>\n",
       "      <td>None</td>\n",
       "      <td>{}</td>\n",
       "      <td>Question</td>\n",
       "      <td>1</td>\n",
       "      <td>False</td>\n",
       "      <td>False</td>\n",
       "      <td>self</td>\n",
       "      <td>False</td>\n",
       "      <td>None</td>\n",
       "      <td>[]</td>\n",
       "      <td>{}</td>\n",
       "      <td>None</td>\n",
       "      <td>True</td>\n",
       "      <td>text</td>\n",
       "      <td>6.0</td>\n",
       "      <td>None</td>\n",
       "      <td>text</td>\n",
       "      <td>self.travel</td>\n",
       "      <td>False</td>\n",
       "      <td>None</td>\n",
       "      <td>None</td>\n",
       "      <td>False</td>\n",
       "      <td>True</td>\n",
       "      <td>True</td>\n",
       "      <td>False</td>\n",
       "      <td>False</td>\n",
       "      <td>[]</td>\n",
       "      <td>[]</td>\n",
       "      <td>False</td>\n",
       "      <td>63ab44d8-3640-11e3-8665-12313d21c4ee</td>\n",
       "      <td>True</td>\n",
       "      <td>False</td>\n",
       "      <td>False</td>\n",
       "      <td>None</td>\n",
       "      <td>[]</td>\n",
       "      <td>None</td>\n",
       "      <td>None</td>\n",
       "      <td>t5_2qh41</td>\n",
       "      <td>#ff66ac</td>\n",
       "      <td>125tfj8</td>\n",
       "      <td>True</td>\n",
       "      <td>xss2</td>\n",
       "      <td>None</td>\n",
       "      <td>0</td>\n",
       "      <td>True</td>\n",
       "      <td>all_ads</td>\n",
       "      <td>False</td>\n",
       "      <td>False</td>\n",
       "      <td>None</td>\n",
       "      <td>/r/travel/comments/125tfj8/i_will_have_two_wee...</td>\n",
       "      <td>all_ads</td>\n",
       "      <td>False</td>\n",
       "      <td>https://www.reddit.com/r/travel/comments/125tf...</td>\n",
       "      <td>7443770</td>\n",
       "      <td>1680108205</td>\n",
       "      <td>0</td>\n",
       "      <td>None</td>\n",
       "      <td>False</td>\n",
       "      <td>1680108218</td>\n",
       "      <td>1680108218</td>\n",
       "      <td>2023-03-29 16:43:25</td>\n",
       "      <td>NaN</td>\n",
       "      <td>NaN</td>\n",
       "      <td>NaN</td>\n",
       "      <td>NaN</td>\n",
       "      <td>NaN</td>\n",
       "      <td>NaN</td>\n",
       "      <td>NaN</td>\n",
       "      <td>NaN</td>\n",
       "      <td>NaN</td>\n",
       "    </tr>\n",
       "  </tbody>\n",
       "</table>\n",
       "</div>"
      ],
      "text/plain": [
       "  subreddit                                           selftext  \\\n",
       "0    travel  Never been before so dont know much  about the...   \n",
       "\n",
       "  author_fullname  gilded                                              title  \\\n",
       "0        t2_3s3ea       0  I will have two weeks of vacation in November ...   \n",
       "\n",
       "  link_flair_richtext subreddit_name_prefixed  hidden  pwls  \\\n",
       "0                  []                r/travel   False   6.0   \n",
       "\n",
       "  link_flair_css_class  thumbnail_height top_awarded_type  hide_score  \\\n",
       "0             question               NaN             None        True   \n",
       "\n",
       "   quarantine link_flair_text_color  upvote_ratio  \\\n",
       "0       False                 light           1.0   \n",
       "\n",
       "  author_flair_background_color subreddit_type  total_awards_received  \\\n",
       "0                          None         public                      0   \n",
       "\n",
       "  media_embed  thumbnail_width author_flair_template_id  is_original_content  \\\n",
       "0          {}              NaN                     None                False   \n",
       "\n",
       "  secure_media  is_reddit_media_domain  is_meta category secure_media_embed  \\\n",
       "0         None                   False    False     None                 {}   \n",
       "\n",
       "  link_flair_text  score  is_created_from_ads_ui author_premium thumbnail  \\\n",
       "0        Question      1                   False          False      self   \n",
       "\n",
       "   edited author_flair_css_class author_flair_richtext gildings  \\\n",
       "0   False                   None                    []       {}   \n",
       "\n",
       "  content_categories  is_self link_flair_type  wls removed_by_category  \\\n",
       "0               None     True            text  6.0                None   \n",
       "\n",
       "  author_flair_type       domain  allow_live_comments suggested_sort  \\\n",
       "0              text  self.travel                False           None   \n",
       "\n",
       "  view_count  archived  no_follow  is_crosspostable  pinned  over_18  \\\n",
       "0       None     False       True              True   False    False   \n",
       "\n",
       "  all_awardings awarders  media_only                link_flair_template_id  \\\n",
       "0            []       []       False  63ab44d8-3640-11e3-8665-12313d21c4ee   \n",
       "\n",
       "   can_gild  spoiler  locked author_flair_text treatment_tags removed_by  \\\n",
       "0      True    False   False              None             []       None   \n",
       "\n",
       "  distinguished subreddit_id link_flair_background_color       id  \\\n",
       "0          None     t5_2qh41                     #ff66ac  125tfj8   \n",
       "\n",
       "   is_robot_indexable author discussion_type  num_comments  send_replies  \\\n",
       "0                True   xss2            None             0          True   \n",
       "\n",
       "  whitelist_status  contest_mode author_patreon_flair author_flair_text_color  \\\n",
       "0          all_ads         False                False                    None   \n",
       "\n",
       "                                           permalink parent_whitelist_status  \\\n",
       "0  /r/travel/comments/125tfj8/i_will_have_two_wee...                 all_ads   \n",
       "\n",
       "   stickied                                                url  \\\n",
       "0     False  https://www.reddit.com/r/travel/comments/125tf...   \n",
       "\n",
       "   subreddit_subscribers  created_utc  num_crossposts media  is_video  \\\n",
       "0                7443770   1680108205               0  None     False   \n",
       "\n",
       "   retrieved_utc  updated_utc     utc_datetime_str post_hint  \\\n",
       "0     1680108218   1680108218  2023-03-29 16:43:25       NaN   \n",
       "\n",
       "  url_overridden_by_dest preview crosspost_parent_list crosspost_parent  \\\n",
       "0                    NaN     NaN                   NaN              NaN   \n",
       "\n",
       "  is_gallery media_metadata  gallery_data author_cakeday  \n",
       "0        NaN            NaN           NaN            NaN  "
      ]
     },
     "execution_count": 14,
     "metadata": {},
     "output_type": "execute_result"
    }
   ],
   "source": [
    "df.head(1)"
   ]
  },
  {
   "cell_type": "code",
   "execution_count": 15,
   "id": "71464e09",
   "metadata": {},
   "outputs": [
    {
     "data": {
      "text/html": [
       "<div>\n",
       "<style scoped>\n",
       "    .dataframe tbody tr th:only-of-type {\n",
       "        vertical-align: middle;\n",
       "    }\n",
       "\n",
       "    .dataframe tbody tr th {\n",
       "        vertical-align: top;\n",
       "    }\n",
       "\n",
       "    .dataframe thead th {\n",
       "        text-align: right;\n",
       "    }\n",
       "</style>\n",
       "<table border=\"1\" class=\"dataframe\">\n",
       "  <thead>\n",
       "    <tr style=\"text-align: right;\">\n",
       "      <th></th>\n",
       "      <th>subreddit</th>\n",
       "      <th>selftext</th>\n",
       "      <th>title</th>\n",
       "    </tr>\n",
       "  </thead>\n",
       "  <tbody>\n",
       "    <tr>\n",
       "      <th>0</th>\n",
       "      <td>travel</td>\n",
       "      <td>Never been before so dont know much  about the...</td>\n",
       "      <td>I will have two weeks of vacation in November ...</td>\n",
       "    </tr>\n",
       "  </tbody>\n",
       "</table>\n",
       "</div>"
      ],
      "text/plain": [
       "  subreddit                                           selftext  \\\n",
       "0    travel  Never been before so dont know much  about the...   \n",
       "\n",
       "                                               title  \n",
       "0  I will have two weeks of vacation in November ...  "
      ]
     },
     "execution_count": 15,
     "metadata": {},
     "output_type": "execute_result"
    }
   ],
   "source": [
    "# showed the columns in interest\n",
    "df[['subreddit', 'selftext', 'title']].head(1)"
   ]
  },
  {
   "cell_type": "code",
   "execution_count": 16,
   "id": "0c30c870",
   "metadata": {},
   "outputs": [],
   "source": [
    "# create function for collecting data\n",
    "# credit: https://www.youtube.com/watch?v=AcrjEWsMi_E and class note\n",
    "\n",
    "# create instance for URL\n",
    "url = 'https://api.pushshift.io/reddit/search/submission'\n",
    "\n",
    "# loop n_requests iterations\n",
    "def webScrape(subreddit, url, data_name, n_requests):  \n",
    "    df_final =  pd.DataFrame(columns=['subreddit', 'selftext', 'title', 'link_flair_css_class', \n",
    "                                      'id', 'removed_by_category', 'domain', 'num_comments', 'utc_datetime_str'])\n",
    "    for i in range(1,n_requests):                # set up request range based on 1000 post per run\n",
    "        if i==1:\n",
    "            params = {'subreddit': subreddit, \n",
    "                      'size': 1000}              # limit to 1000 posts per run\n",
    "        else:\n",
    "            params = {'subreddit': subreddit, \n",
    "                      'size': 1000,\n",
    "                      'before': before}\n",
    "        \n",
    "        res = requests.get(url, params)          # set up response  \n",
    "        if res.status_code != 200:               # check for errors and raise ConnectionError if there is one\n",
    "            raise ConnectionError(f'Error code:{res.status_code} has occured.')\n",
    "            \n",
    "        data = res.json()\n",
    "        posts = data['data']\n",
    "        df = pd.DataFrame(posts)                 # turned dictionary to dataframe\n",
    "        df = df[['subreddit', 'selftext', 'title', 'link_flair_css_class', 'id', 'removed_by_category', \n",
    "                 'domain', 'num_comments', 'utc_datetime_str']]  # showed the columns in interest\n",
    "        df_final = pd.concat([df_final, df])         # combined the dataframe\n",
    "        before = posts[-1]['created_utc']        # show the post before certain time\n",
    "        time.sleep(3)                            # re-attempting collection after 3 sec if api is overloaded\n",
    "    \n",
    "    # drop duplicate rows that may have been pulled:\n",
    "    df_final.drop_duplicates(subset='title', keep='first', inplace = True)\n",
    "    \n",
    "    #Save the DataFrame as a .csv file\n",
    "    df_final.to_csv('./data/'+str(data_name), index = False, sep = \",\")\n",
    "    \n",
    "    # print number of posts pulled\n",
    "    print(f\"Total of posts were downloaded: {df_final.shape[0]}\")\n",
    "    "
   ]
  },
  {
   "cell_type": "markdown",
   "id": "0be4b749",
   "metadata": {},
   "source": [
    "### WebScrape for first subraddit: travel"
   ]
  },
  {
   "cell_type": "code",
   "execution_count": 17,
   "id": "a0618977",
   "metadata": {
    "scrolled": false
   },
   "outputs": [
    {
     "name": "stdout",
     "output_type": "stream",
     "text": [
      "Total of posts were downloaded: 3874\n"
     ]
    }
   ],
   "source": [
    "webScrape('travel', url, 'travel_post_4000', 5)"
   ]
  },
  {
   "cell_type": "code",
   "execution_count": 18,
   "id": "f67106a7",
   "metadata": {
    "scrolled": true
   },
   "outputs": [
    {
     "name": "stdout",
     "output_type": "stream",
     "text": [
      "Total of posts were downloaded: 7745\n"
     ]
    }
   ],
   "source": [
    "webScrape('travel', url, 'travel_post_8000', 9)"
   ]
  },
  {
   "cell_type": "code",
   "execution_count": 19,
   "id": "82f44cf7",
   "metadata": {},
   "outputs": [
    {
     "name": "stdout",
     "output_type": "stream",
     "text": [
      "Total of posts were downloaded: 19367\n"
     ]
    }
   ],
   "source": [
    "webScrape('travel', url, 'travel_post_20000', 21)"
   ]
  },
  {
   "cell_type": "code",
   "execution_count": 20,
   "id": "35413d1e",
   "metadata": {},
   "outputs": [],
   "source": [
    "travel_df1 = pd.read_csv('./data/travel_post_4000')\n",
    "travel_df2 = pd.read_csv('./data/travel_post_8000')\n",
    "travel_df = pd.read_csv('./data/travel_post_20000')"
   ]
  },
  {
   "cell_type": "code",
   "execution_count": 21,
   "id": "73657ac4",
   "metadata": {},
   "outputs": [
    {
     "data": {
      "text/plain": [
       "((3874, 9), (7745, 9))"
      ]
     },
     "execution_count": 21,
     "metadata": {},
     "output_type": "execute_result"
    }
   ],
   "source": [
    "travel_df1.shape, travel_df2.shape"
   ]
  },
  {
   "cell_type": "code",
   "execution_count": 22,
   "id": "e32af614",
   "metadata": {
    "scrolled": false
   },
   "outputs": [
    {
     "data": {
      "text/html": [
       "<div>\n",
       "<style scoped>\n",
       "    .dataframe tbody tr th:only-of-type {\n",
       "        vertical-align: middle;\n",
       "    }\n",
       "\n",
       "    .dataframe tbody tr th {\n",
       "        vertical-align: top;\n",
       "    }\n",
       "\n",
       "    .dataframe thead th {\n",
       "        text-align: right;\n",
       "    }\n",
       "</style>\n",
       "<table border=\"1\" class=\"dataframe\">\n",
       "  <thead>\n",
       "    <tr style=\"text-align: right;\">\n",
       "      <th></th>\n",
       "      <th>subreddit</th>\n",
       "      <th>selftext</th>\n",
       "      <th>title</th>\n",
       "      <th>link_flair_css_class</th>\n",
       "      <th>id</th>\n",
       "      <th>removed_by_category</th>\n",
       "      <th>domain</th>\n",
       "      <th>num_comments</th>\n",
       "      <th>utc_datetime_str</th>\n",
       "    </tr>\n",
       "  </thead>\n",
       "  <tbody>\n",
       "    <tr>\n",
       "      <th>0</th>\n",
       "      <td>travel</td>\n",
       "      <td>I going to Florida next week and spend some da...</td>\n",
       "      <td>Which is the best hostel to stay in Miami Beach?</td>\n",
       "      <td>itinerary</td>\n",
       "      <td>1266yjo</td>\n",
       "      <td>NaN</td>\n",
       "      <td>self.travel</td>\n",
       "      <td>0</td>\n",
       "      <td>2023-03-30 01:13:41</td>\n",
       "    </tr>\n",
       "    <tr>\n",
       "      <th>1</th>\n",
       "      <td>travel</td>\n",
       "      <td>Can I travel to Mexico via flight with my immi...</td>\n",
       "      <td>Fly to Mexico with immigrate visa from US?</td>\n",
       "      <td>question</td>\n",
       "      <td>1266x7l</td>\n",
       "      <td>NaN</td>\n",
       "      <td>self.travel</td>\n",
       "      <td>1</td>\n",
       "      <td>2023-03-30 01:11:58</td>\n",
       "    </tr>\n",
       "    <tr>\n",
       "      <th>2</th>\n",
       "      <td>travel</td>\n",
       "      <td>NaN</td>\n",
       "      <td>Makati, Philippines. Not a touristy area, but ...</td>\n",
       "      <td>images</td>\n",
       "      <td>1266tya</td>\n",
       "      <td>automod_filtered</td>\n",
       "      <td>reddit.com</td>\n",
       "      <td>0</td>\n",
       "      <td>2023-03-30 01:07:51</td>\n",
       "    </tr>\n",
       "    <tr>\n",
       "      <th>3</th>\n",
       "      <td>travel</td>\n",
       "      <td>[removed]</td>\n",
       "      <td>Car rental in Germany</td>\n",
       "      <td>question</td>\n",
       "      <td>1266o0r</td>\n",
       "      <td>moderator</td>\n",
       "      <td>self.travel</td>\n",
       "      <td>0</td>\n",
       "      <td>2023-03-30 01:00:22</td>\n",
       "    </tr>\n",
       "    <tr>\n",
       "      <th>4</th>\n",
       "      <td>travel</td>\n",
       "      <td>[removed]</td>\n",
       "      <td>Best Cafés or Coffee Shops in Seville, Spain</td>\n",
       "      <td>NaN</td>\n",
       "      <td>1266nnl</td>\n",
       "      <td>reddit</td>\n",
       "      <td>self.travel</td>\n",
       "      <td>1</td>\n",
       "      <td>2023-03-30 01:00:01</td>\n",
       "    </tr>\n",
       "  </tbody>\n",
       "</table>\n",
       "</div>"
      ],
      "text/plain": [
       "  subreddit                                           selftext  \\\n",
       "0    travel  I going to Florida next week and spend some da...   \n",
       "1    travel  Can I travel to Mexico via flight with my immi...   \n",
       "2    travel                                                NaN   \n",
       "3    travel                                          [removed]   \n",
       "4    travel                                          [removed]   \n",
       "\n",
       "                                               title link_flair_css_class  \\\n",
       "0   Which is the best hostel to stay in Miami Beach?            itinerary   \n",
       "1         Fly to Mexico with immigrate visa from US?             question   \n",
       "2  Makati, Philippines. Not a touristy area, but ...               images   \n",
       "3                              Car rental in Germany             question   \n",
       "4       Best Cafés or Coffee Shops in Seville, Spain                  NaN   \n",
       "\n",
       "        id removed_by_category       domain  num_comments     utc_datetime_str  \n",
       "0  1266yjo                 NaN  self.travel             0  2023-03-30 01:13:41  \n",
       "1  1266x7l                 NaN  self.travel             1  2023-03-30 01:11:58  \n",
       "2  1266tya    automod_filtered   reddit.com             0  2023-03-30 01:07:51  \n",
       "3  1266o0r           moderator  self.travel             0  2023-03-30 01:00:22  \n",
       "4  1266nnl              reddit  self.travel             1  2023-03-30 01:00:01  "
      ]
     },
     "execution_count": 22,
     "metadata": {},
     "output_type": "execute_result"
    }
   ],
   "source": [
    "travel_df1.head()"
   ]
  },
  {
   "cell_type": "code",
   "execution_count": 23,
   "id": "eee30a40",
   "metadata": {
    "scrolled": false
   },
   "outputs": [
    {
     "data": {
      "text/html": [
       "<div>\n",
       "<style scoped>\n",
       "    .dataframe tbody tr th:only-of-type {\n",
       "        vertical-align: middle;\n",
       "    }\n",
       "\n",
       "    .dataframe tbody tr th {\n",
       "        vertical-align: top;\n",
       "    }\n",
       "\n",
       "    .dataframe thead th {\n",
       "        text-align: right;\n",
       "    }\n",
       "</style>\n",
       "<table border=\"1\" class=\"dataframe\">\n",
       "  <thead>\n",
       "    <tr style=\"text-align: right;\">\n",
       "      <th></th>\n",
       "      <th>subreddit</th>\n",
       "      <th>selftext</th>\n",
       "      <th>title</th>\n",
       "      <th>link_flair_css_class</th>\n",
       "      <th>id</th>\n",
       "      <th>removed_by_category</th>\n",
       "      <th>domain</th>\n",
       "      <th>num_comments</th>\n",
       "      <th>utc_datetime_str</th>\n",
       "    </tr>\n",
       "  </thead>\n",
       "  <tbody>\n",
       "    <tr>\n",
       "      <th>7740</th>\n",
       "      <td>travel</td>\n",
       "      <td>Fellow Travelers - taking first international ...</td>\n",
       "      <td>Dollars to Euros or Credit Card?</td>\n",
       "      <td>question</td>\n",
       "      <td>11i085j</td>\n",
       "      <td>NaN</td>\n",
       "      <td>self.travel</td>\n",
       "      <td>0</td>\n",
       "      <td>2023-03-04 14:18:44</td>\n",
       "    </tr>\n",
       "    <tr>\n",
       "      <th>7741</th>\n",
       "      <td>travel</td>\n",
       "      <td>I have read that Manhattan has lots of empty a...</td>\n",
       "      <td>Manhattan for a weekend: back to normal or des...</td>\n",
       "      <td>question</td>\n",
       "      <td>11i07vu</td>\n",
       "      <td>NaN</td>\n",
       "      <td>self.travel</td>\n",
       "      <td>0</td>\n",
       "      <td>2023-03-04 14:18:26</td>\n",
       "    </tr>\n",
       "    <tr>\n",
       "      <th>7742</th>\n",
       "      <td>travel</td>\n",
       "      <td>NaN</td>\n",
       "      <td>fantastic !! love to explore the world with th...</td>\n",
       "      <td>images</td>\n",
       "      <td>11i07n7</td>\n",
       "      <td>moderator</td>\n",
       "      <td>i.redd.it</td>\n",
       "      <td>0</td>\n",
       "      <td>2023-03-04 14:18:09</td>\n",
       "    </tr>\n",
       "    <tr>\n",
       "      <th>7743</th>\n",
       "      <td>travel</td>\n",
       "      <td>I want to go to the Bahamas next year, I’ve ne...</td>\n",
       "      <td>All Advice On Going To The Bahamas</td>\n",
       "      <td>advice</td>\n",
       "      <td>11i05hz</td>\n",
       "      <td>NaN</td>\n",
       "      <td>self.travel</td>\n",
       "      <td>0</td>\n",
       "      <td>2023-03-04 14:15:30</td>\n",
       "    </tr>\n",
       "    <tr>\n",
       "      <th>7744</th>\n",
       "      <td>travel</td>\n",
       "      <td>I’m going to a multi stop trip in europe in Ma...</td>\n",
       "      <td>Question about hold baggage with Easyjet</td>\n",
       "      <td>question</td>\n",
       "      <td>11i03i9</td>\n",
       "      <td>NaN</td>\n",
       "      <td>self.travel</td>\n",
       "      <td>0</td>\n",
       "      <td>2023-03-04 14:12:58</td>\n",
       "    </tr>\n",
       "  </tbody>\n",
       "</table>\n",
       "</div>"
      ],
      "text/plain": [
       "     subreddit                                           selftext  \\\n",
       "7740    travel  Fellow Travelers - taking first international ...   \n",
       "7741    travel  I have read that Manhattan has lots of empty a...   \n",
       "7742    travel                                                NaN   \n",
       "7743    travel  I want to go to the Bahamas next year, I’ve ne...   \n",
       "7744    travel  I’m going to a multi stop trip in europe in Ma...   \n",
       "\n",
       "                                                  title link_flair_css_class  \\\n",
       "7740                   Dollars to Euros or Credit Card?             question   \n",
       "7741  Manhattan for a weekend: back to normal or des...             question   \n",
       "7742  fantastic !! love to explore the world with th...               images   \n",
       "7743                 All Advice On Going To The Bahamas               advice   \n",
       "7744           Question about hold baggage with Easyjet             question   \n",
       "\n",
       "           id removed_by_category       domain  num_comments  \\\n",
       "7740  11i085j                 NaN  self.travel             0   \n",
       "7741  11i07vu                 NaN  self.travel             0   \n",
       "7742  11i07n7           moderator    i.redd.it             0   \n",
       "7743  11i05hz                 NaN  self.travel             0   \n",
       "7744  11i03i9                 NaN  self.travel             0   \n",
       "\n",
       "         utc_datetime_str  \n",
       "7740  2023-03-04 14:18:44  \n",
       "7741  2023-03-04 14:18:26  \n",
       "7742  2023-03-04 14:18:09  \n",
       "7743  2023-03-04 14:15:30  \n",
       "7744  2023-03-04 14:12:58  "
      ]
     },
     "execution_count": 23,
     "metadata": {},
     "output_type": "execute_result"
    }
   ],
   "source": [
    "travel_df2.tail()"
   ]
  },
  {
   "cell_type": "code",
   "execution_count": 24,
   "id": "395f28f0",
   "metadata": {
    "scrolled": true
   },
   "outputs": [
    {
     "data": {
      "text/html": [
       "<div>\n",
       "<style scoped>\n",
       "    .dataframe tbody tr th:only-of-type {\n",
       "        vertical-align: middle;\n",
       "    }\n",
       "\n",
       "    .dataframe tbody tr th {\n",
       "        vertical-align: top;\n",
       "    }\n",
       "\n",
       "    .dataframe thead th {\n",
       "        text-align: right;\n",
       "    }\n",
       "</style>\n",
       "<table border=\"1\" class=\"dataframe\">\n",
       "  <thead>\n",
       "    <tr style=\"text-align: right;\">\n",
       "      <th></th>\n",
       "      <th>subreddit</th>\n",
       "      <th>selftext</th>\n",
       "      <th>title</th>\n",
       "      <th>link_flair_css_class</th>\n",
       "      <th>id</th>\n",
       "      <th>removed_by_category</th>\n",
       "      <th>domain</th>\n",
       "      <th>num_comments</th>\n",
       "      <th>utc_datetime_str</th>\n",
       "    </tr>\n",
       "  </thead>\n",
       "  <tbody>\n",
       "    <tr>\n",
       "      <th>19362</th>\n",
       "      <td>travel</td>\n",
       "      <td>[removed]</td>\n",
       "      <td>St John USVI</td>\n",
       "      <td>images</td>\n",
       "      <td>10glihn</td>\n",
       "      <td>moderator</td>\n",
       "      <td>i.redd.it</td>\n",
       "      <td>0</td>\n",
       "      <td>2023-01-20 02:59:50</td>\n",
       "    </tr>\n",
       "    <tr>\n",
       "      <th>19363</th>\n",
       "      <td>travel</td>\n",
       "      <td>[removed]</td>\n",
       "      <td>Best travel sites for honeymoons or cruises?</td>\n",
       "      <td>question</td>\n",
       "      <td>10gli3m</td>\n",
       "      <td>reddit</td>\n",
       "      <td>self.travel</td>\n",
       "      <td>0</td>\n",
       "      <td>2023-01-20 02:59:18</td>\n",
       "    </tr>\n",
       "    <tr>\n",
       "      <th>19364</th>\n",
       "      <td>travel</td>\n",
       "      <td>[removed]</td>\n",
       "      <td>Best 10 year anniversary trip for me and Husband?</td>\n",
       "      <td>question</td>\n",
       "      <td>10gl7qh</td>\n",
       "      <td>reddit</td>\n",
       "      <td>self.travel</td>\n",
       "      <td>0</td>\n",
       "      <td>2023-01-20 02:45:39</td>\n",
       "    </tr>\n",
       "    <tr>\n",
       "      <th>19365</th>\n",
       "      <td>travel</td>\n",
       "      <td>NaN</td>\n",
       "      <td>cycling Passau to Budapest OR only Passau to V...</td>\n",
       "      <td>question</td>\n",
       "      <td>10gl40n</td>\n",
       "      <td>moderator</td>\n",
       "      <td>self.bicycletouring</td>\n",
       "      <td>0</td>\n",
       "      <td>2023-01-20 02:40:52</td>\n",
       "    </tr>\n",
       "    <tr>\n",
       "      <th>19366</th>\n",
       "      <td>travel</td>\n",
       "      <td>my boyfriend is looking to come see me in marc...</td>\n",
       "      <td>wheres the best place to book through?</td>\n",
       "      <td>question</td>\n",
       "      <td>10gl3cc</td>\n",
       "      <td>NaN</td>\n",
       "      <td>self.travel</td>\n",
       "      <td>0</td>\n",
       "      <td>2023-01-20 02:40:05</td>\n",
       "    </tr>\n",
       "  </tbody>\n",
       "</table>\n",
       "</div>"
      ],
      "text/plain": [
       "      subreddit                                           selftext  \\\n",
       "19362    travel                                          [removed]   \n",
       "19363    travel                                          [removed]   \n",
       "19364    travel                                          [removed]   \n",
       "19365    travel                                                NaN   \n",
       "19366    travel  my boyfriend is looking to come see me in marc...   \n",
       "\n",
       "                                                   title link_flair_css_class  \\\n",
       "19362                                       St John USVI               images   \n",
       "19363       Best travel sites for honeymoons or cruises?             question   \n",
       "19364  Best 10 year anniversary trip for me and Husband?             question   \n",
       "19365  cycling Passau to Budapest OR only Passau to V...             question   \n",
       "19366             wheres the best place to book through?             question   \n",
       "\n",
       "            id removed_by_category               domain  num_comments  \\\n",
       "19362  10glihn           moderator            i.redd.it             0   \n",
       "19363  10gli3m              reddit          self.travel             0   \n",
       "19364  10gl7qh              reddit          self.travel             0   \n",
       "19365  10gl40n           moderator  self.bicycletouring             0   \n",
       "19366  10gl3cc                 NaN          self.travel             0   \n",
       "\n",
       "          utc_datetime_str  \n",
       "19362  2023-01-20 02:59:50  \n",
       "19363  2023-01-20 02:59:18  \n",
       "19364  2023-01-20 02:45:39  \n",
       "19365  2023-01-20 02:40:52  \n",
       "19366  2023-01-20 02:40:05  "
      ]
     },
     "execution_count": 24,
     "metadata": {},
     "output_type": "execute_result"
    }
   ],
   "source": [
    "travel_df.tail()"
   ]
  },
  {
   "cell_type": "code",
   "execution_count": 25,
   "id": "a0b1b38b",
   "metadata": {
    "scrolled": false
   },
   "outputs": [
    {
     "data": {
      "text/plain": [
       "Index(['subreddit', 'selftext', 'title', 'link_flair_css_class', 'id',\n",
       "       'removed_by_category', 'domain', 'num_comments', 'utc_datetime_str'],\n",
       "      dtype='object')"
      ]
     },
     "execution_count": 25,
     "metadata": {},
     "output_type": "execute_result"
    }
   ],
   "source": [
    "travel_df.keys()"
   ]
  },
  {
   "cell_type": "code",
   "execution_count": 26,
   "id": "df1b06eb",
   "metadata": {
    "scrolled": true
   },
   "outputs": [
    {
     "data": {
      "text/plain": [
       "[removed]                                                                                                                                                                                                                                                                                                                                                                                                                                                                                                                                                                                                                                                                                                                                                                                             4982\n",
       "[deleted]                                                                                                                                                                                                                                                                                                                                                                                                                                                                                                                                                                                                                                                                                                                                                                                               10\n",
       "Flying in from Mexico. Have a three hour layover in New Jersey then flying to Boston. Is 3 hours enough time to do customs and make my connecting flight? I’m a US citizen.                                                                                                                                                                                                                                                                                                                                                                                                                                                                                                                                                                                                                              2\n",
       "Hi, I want to travel from Venice Italy to Paris but I’m new to traveling abroad and I would be doing this independently. If you have any advice to my questions, I would love to hear it!!\\n\\n- Is it easier to travel from Venice Italy (Venice Marco Polo Airport VCE) to the Paris (I’m not sure of the airports) area by plane or train\\n- What are some affordable housing options in the Paris area? (Airbnb, hotels, etc)\\n- Is Paris safe to be alone in for a few days?\\n- What’s the transportation mode generally available or used in Paris? \\n- What would be the best way to go from airport or train station to my housing for the vacation?\\n- Tips or anything I should be aware of for planning or ordering plane or train or bus tickets?\\n- Any safety or other tips you have?       2\n",
       "So I just got back from a week long work trip, that actually didn’t feel like work.  Got to meet a lot of cool people and see some places I haven’t seen in quite some time.  But coming home just felt, weird.  I have a wife and 10 month old who greeted me when I came back home, and I was extremely happy to see them, but I just can’t shake this feeling, it’s sort of like a feeling of not belonging.\\n\\nThe travel was only a week so I didn’t think it’d feel any different coming home.  It was my first trip away from my wife and kid, so I’m sure that has something to do with it.\\n\\nHas anyone else felt this way?  I tried explaining it to my wife but I couldn’t really get the feeling across.                                                                                    2\n",
       "                                                                                                                                                                                                                                                                                                                                                                                                                                                                                                                                                                                                                                                                                                                                                                                                      ... \n",
       "Can somebody enlighten me to the advantage of traveling with a backpack? Even if you’re staying in hostels and traveling on public transport in don’t get the advantage over small roll aboard carry-on. Is it just a leftover style from the 70’s or something? I don’t get it.                                                                                                                                                                                                                                                                                                                                                                                                                                                                                                                         1\n",
       "But obviously it's over 50 hours of flights from and back to the US.                                                                                                                                                                                                                                                                                                                                                                                                                                                                                                                                                                                                                                                                                                                                     1\n",
       "Hello,\\n\\n&amp;#x200B;\\n\\nI am considered going to an archeological dig in the Ancash region of Peru. It takes place in the small village of \\~5,000 people Huari for almost the entirety of the month of June. Alongside this, there will be a short amount of time spent in Lima before and after the dig in the Miraflores district primarily. With the current security situation, do you think this is a good idea, or should I look for digs elsewhere. I would really love to explore this culturally rich and beautiful country.                                                                                                                                                                                                                                                                 1\n",
       "I’m gonna be spending four weeks in a hotel in the near future. My plan is to head out and try the local food as much as possible, but I can’t justify doing it every single night and will be cooking in my hotel room somewhat regularly.\\n\\nThe last time I did this, the hotel I stayed in had some packets of salt, pepper, sugar, and some dishes that I did not really trust.\\n\\nMy goal is to bring some creature comforts with me this next go-around — some reusable utensils and maybe some dishes (human gear, sea to summit) some spices, sauce packets, etc.\\n\\nIs this a thing people do? And if so, what do you bring for extended stays?                                                                                                                                                1\n",
       "my boyfriend is looking to come see me in march, he’s coming from Minneapolis (U.S) to Alberta (Canada).\\ni live in a small town, so not the best wait times, he just keeps getting 15hrs+, and they’re expensive.\\n\\n\\nwhere should he book through? any advice to get cheaper rates?\\nany help is soooo appreciated aha, i have no idea what to do when booking a flight.                                                                                                                                                                                                                                                                                                                                                                                                                              1\n",
       "Name: selftext, Length: 7712, dtype: int64"
      ]
     },
     "execution_count": 26,
     "metadata": {},
     "output_type": "execute_result"
    }
   ],
   "source": [
    "travel_df[\"selftext\"].value_counts()"
   ]
  },
  {
   "cell_type": "markdown",
   "id": "b39df307",
   "metadata": {},
   "source": [
    "### WebScrape for second subraddit: awardtravel"
   ]
  },
  {
   "cell_type": "code",
   "execution_count": 27,
   "id": "4ea15812",
   "metadata": {
    "scrolled": true
   },
   "outputs": [
    {
     "name": "stdout",
     "output_type": "stream",
     "text": [
      "Total of posts were downloaded: 3896\n"
     ]
    }
   ],
   "source": [
    "webScrape('awardtravel', url, 'awardtravel_4000', 5)"
   ]
  },
  {
   "cell_type": "code",
   "execution_count": 28,
   "id": "4715b75f",
   "metadata": {
    "scrolled": true
   },
   "outputs": [
    {
     "name": "stdout",
     "output_type": "stream",
     "text": [
      "Total of posts were downloaded: 7678\n"
     ]
    }
   ],
   "source": [
    "webScrape('awardtravel', url, 'awardtravel_8000', 9)"
   ]
  },
  {
   "cell_type": "code",
   "execution_count": 39,
   "id": "64f00d9b",
   "metadata": {},
   "outputs": [
    {
     "name": "stdout",
     "output_type": "stream",
     "text": [
      "Total of posts were downloaded: 11581\n"
     ]
    }
   ],
   "source": [
    "webScrape('awardtravel', url, 'awardtravel_12000', 13)"
   ]
  },
  {
   "cell_type": "code",
   "execution_count": 40,
   "id": "499d3421",
   "metadata": {},
   "outputs": [],
   "source": [
    "awardtravel_df1 = pd.read_csv('./data/awardtravel_4000')\n",
    "awardtravel_df2 = pd.read_csv('./data/awardtravel_8000')\n",
    "awardtravel_df = pd.read_csv('./data/awardtravel_12000')"
   ]
  },
  {
   "cell_type": "code",
   "execution_count": 41,
   "id": "3773eb88",
   "metadata": {
    "scrolled": true
   },
   "outputs": [
    {
     "data": {
      "text/plain": [
       "Index(['subreddit', 'selftext', 'title', 'link_flair_css_class', 'id',\n",
       "       'removed_by_category', 'domain', 'num_comments', 'utc_datetime_str'],\n",
       "      dtype='object')"
      ]
     },
     "execution_count": 41,
     "metadata": {},
     "output_type": "execute_result"
    }
   ],
   "source": [
    "awardtravel_df1.keys()"
   ]
  },
  {
   "cell_type": "code",
   "execution_count": 42,
   "id": "228a1cc7",
   "metadata": {
    "scrolled": true
   },
   "outputs": [
    {
     "data": {
      "text/html": [
       "<div>\n",
       "<style scoped>\n",
       "    .dataframe tbody tr th:only-of-type {\n",
       "        vertical-align: middle;\n",
       "    }\n",
       "\n",
       "    .dataframe tbody tr th {\n",
       "        vertical-align: top;\n",
       "    }\n",
       "\n",
       "    .dataframe thead th {\n",
       "        text-align: right;\n",
       "    }\n",
       "</style>\n",
       "<table border=\"1\" class=\"dataframe\">\n",
       "  <thead>\n",
       "    <tr style=\"text-align: right;\">\n",
       "      <th></th>\n",
       "      <th>subreddit</th>\n",
       "      <th>selftext</th>\n",
       "      <th>title</th>\n",
       "      <th>link_flair_css_class</th>\n",
       "      <th>id</th>\n",
       "      <th>removed_by_category</th>\n",
       "      <th>domain</th>\n",
       "      <th>num_comments</th>\n",
       "      <th>utc_datetime_str</th>\n",
       "    </tr>\n",
       "  </thead>\n",
       "  <tbody>\n",
       "    <tr>\n",
       "      <th>0</th>\n",
       "      <td>awardtravel</td>\n",
       "      <td>Hello,\\n\\nI was looking at BOS-DOH and DOH-BOS...</td>\n",
       "      <td>Qsuites BOS-DOH Only Through 10/28/2023</td>\n",
       "      <td>NaN</td>\n",
       "      <td>12670ne</td>\n",
       "      <td>NaN</td>\n",
       "      <td>self.awardtravel</td>\n",
       "      <td>1</td>\n",
       "      <td>2023-03-30 01:16:25</td>\n",
       "    </tr>\n",
       "    <tr>\n",
       "      <th>1</th>\n",
       "      <td>awardtravel</td>\n",
       "      <td>Hi,\\n\\nI have a lot of travel points on one of...</td>\n",
       "      <td>Not well versed in points programs - which bet...</td>\n",
       "      <td>NaN</td>\n",
       "      <td>1266930</td>\n",
       "      <td>NaN</td>\n",
       "      <td>self.awardtravel</td>\n",
       "      <td>1</td>\n",
       "      <td>2023-03-30 00:42:05</td>\n",
       "    </tr>\n",
       "    <tr>\n",
       "      <th>2</th>\n",
       "      <td>awardtravel</td>\n",
       "      <td>Hello,\\n\\nI have tried to do my due diligence ...</td>\n",
       "      <td>JAL F for Oct 2023 - possible options after bo...</td>\n",
       "      <td>NaN</td>\n",
       "      <td>12665iu</td>\n",
       "      <td>NaN</td>\n",
       "      <td>self.awardtravel</td>\n",
       "      <td>0</td>\n",
       "      <td>2023-03-30 00:38:02</td>\n",
       "    </tr>\n",
       "    <tr>\n",
       "      <th>3</th>\n",
       "      <td>awardtravel</td>\n",
       "      <td>Hello. I got some tickets ORD-TYO(F), TYO - CT...</td>\n",
       "      <td>ANA Flight Date Change not possible?</td>\n",
       "      <td>NaN</td>\n",
       "      <td>1265lg7</td>\n",
       "      <td>NaN</td>\n",
       "      <td>self.awardtravel</td>\n",
       "      <td>1</td>\n",
       "      <td>2023-03-30 00:15:06</td>\n",
       "    </tr>\n",
       "    <tr>\n",
       "      <th>4</th>\n",
       "      <td>awardtravel</td>\n",
       "      <td>Hi! I'm trying to book an award for my P1 thro...</td>\n",
       "      <td>Cannot book award for P1 through ANA</td>\n",
       "      <td>NaN</td>\n",
       "      <td>1264tyo</td>\n",
       "      <td>NaN</td>\n",
       "      <td>self.awardtravel</td>\n",
       "      <td>1</td>\n",
       "      <td>2023-03-29 23:43:27</td>\n",
       "    </tr>\n",
       "  </tbody>\n",
       "</table>\n",
       "</div>"
      ],
      "text/plain": [
       "     subreddit                                           selftext  \\\n",
       "0  awardtravel  Hello,\\n\\nI was looking at BOS-DOH and DOH-BOS...   \n",
       "1  awardtravel  Hi,\\n\\nI have a lot of travel points on one of...   \n",
       "2  awardtravel  Hello,\\n\\nI have tried to do my due diligence ...   \n",
       "3  awardtravel  Hello. I got some tickets ORD-TYO(F), TYO - CT...   \n",
       "4  awardtravel  Hi! I'm trying to book an award for my P1 thro...   \n",
       "\n",
       "                                               title  link_flair_css_class  \\\n",
       "0            Qsuites BOS-DOH Only Through 10/28/2023                   NaN   \n",
       "1  Not well versed in points programs - which bet...                   NaN   \n",
       "2  JAL F for Oct 2023 - possible options after bo...                   NaN   \n",
       "3               ANA Flight Date Change not possible?                   NaN   \n",
       "4               Cannot book award for P1 through ANA                   NaN   \n",
       "\n",
       "        id removed_by_category            domain  num_comments  \\\n",
       "0  12670ne                 NaN  self.awardtravel             1   \n",
       "1  1266930                 NaN  self.awardtravel             1   \n",
       "2  12665iu                 NaN  self.awardtravel             0   \n",
       "3  1265lg7                 NaN  self.awardtravel             1   \n",
       "4  1264tyo                 NaN  self.awardtravel             1   \n",
       "\n",
       "      utc_datetime_str  \n",
       "0  2023-03-30 01:16:25  \n",
       "1  2023-03-30 00:42:05  \n",
       "2  2023-03-30 00:38:02  \n",
       "3  2023-03-30 00:15:06  \n",
       "4  2023-03-29 23:43:27  "
      ]
     },
     "execution_count": 42,
     "metadata": {},
     "output_type": "execute_result"
    }
   ],
   "source": [
    "awardtravel_df1.head()"
   ]
  },
  {
   "cell_type": "code",
   "execution_count": 43,
   "id": "3fba681f",
   "metadata": {},
   "outputs": [
    {
     "data": {
      "text/plain": [
       "((3896, 9), (7678, 9))"
      ]
     },
     "execution_count": 43,
     "metadata": {},
     "output_type": "execute_result"
    }
   ],
   "source": [
    "awardtravel_df1.shape, awardtravel_df2.shape"
   ]
  },
  {
   "cell_type": "markdown",
   "id": "f0e122dd",
   "metadata": {},
   "source": [
    "### WebScrape for third subraddit: backpacking"
   ]
  },
  {
   "cell_type": "code",
   "execution_count": 44,
   "id": "f3dc2e73",
   "metadata": {},
   "outputs": [
    {
     "name": "stdout",
     "output_type": "stream",
     "text": [
      "Total of posts were downloaded: 3736\n"
     ]
    }
   ],
   "source": [
    "webScrape('backpacking', url, 'backpacking_4000', 5)"
   ]
  },
  {
   "cell_type": "code",
   "execution_count": 45,
   "id": "b121f0ce",
   "metadata": {},
   "outputs": [
    {
     "name": "stdout",
     "output_type": "stream",
     "text": [
      "Total of posts were downloaded: 6949\n"
     ]
    }
   ],
   "source": [
    "webScrape('backpacking', url, 'backpacking_8000', 9)"
   ]
  },
  {
   "cell_type": "code",
   "execution_count": 46,
   "id": "7d5a30e7",
   "metadata": {},
   "outputs": [
    {
     "name": "stdout",
     "output_type": "stream",
     "text": [
      "Total of posts were downloaded: 10418\n"
     ]
    }
   ],
   "source": [
    "webScrape('backpacking', url, 'backpacking_12000', 13)"
   ]
  },
  {
   "cell_type": "code",
   "execution_count": 47,
   "id": "998210d7",
   "metadata": {},
   "outputs": [],
   "source": [
    "backpacking_df1 = pd.read_csv('./data/backpacking_4000')\n",
    "backpacking_df2 = pd.read_csv('./data/backpacking_8000')\n",
    "backpacking_df = pd.read_csv('./data/backpacking_12000')"
   ]
  },
  {
   "cell_type": "code",
   "execution_count": 48,
   "id": "0fee585a",
   "metadata": {
    "scrolled": true
   },
   "outputs": [
    {
     "data": {
      "text/html": [
       "<div>\n",
       "<style scoped>\n",
       "    .dataframe tbody tr th:only-of-type {\n",
       "        vertical-align: middle;\n",
       "    }\n",
       "\n",
       "    .dataframe tbody tr th {\n",
       "        vertical-align: top;\n",
       "    }\n",
       "\n",
       "    .dataframe thead th {\n",
       "        text-align: right;\n",
       "    }\n",
       "</style>\n",
       "<table border=\"1\" class=\"dataframe\">\n",
       "  <thead>\n",
       "    <tr style=\"text-align: right;\">\n",
       "      <th></th>\n",
       "      <th>subreddit</th>\n",
       "      <th>selftext</th>\n",
       "      <th>title</th>\n",
       "      <th>link_flair_css_class</th>\n",
       "      <th>id</th>\n",
       "      <th>removed_by_category</th>\n",
       "      <th>domain</th>\n",
       "      <th>num_comments</th>\n",
       "      <th>utc_datetime_str</th>\n",
       "    </tr>\n",
       "  </thead>\n",
       "  <tbody>\n",
       "    <tr>\n",
       "      <th>0</th>\n",
       "      <td>backpacking</td>\n",
       "      <td>A couple years ago I watched a hitchhiking/fre...</td>\n",
       "      <td>Do any of you recognize this youtuber?</td>\n",
       "      <td>tBackpacking</td>\n",
       "      <td>1266mfa</td>\n",
       "      <td>NaN</td>\n",
       "      <td>reddit.com</td>\n",
       "      <td>1</td>\n",
       "      <td>2023-03-30 00:58:27</td>\n",
       "    </tr>\n",
       "    <tr>\n",
       "      <th>1</th>\n",
       "      <td>backpacking</td>\n",
       "      <td>NaN</td>\n",
       "      <td>Morocco Travel</td>\n",
       "      <td>tBackpacking</td>\n",
       "      <td>1266g2t</td>\n",
       "      <td>NaN</td>\n",
       "      <td>/r/backpacking/comments/1266g2t/morocco_travel/</td>\n",
       "      <td>0</td>\n",
       "      <td>2023-03-30 00:50:32</td>\n",
       "    </tr>\n",
       "    <tr>\n",
       "      <th>2</th>\n",
       "      <td>backpacking</td>\n",
       "      <td>Brinde a vida,meus amigos !</td>\n",
       "      <td>Brinde</td>\n",
       "      <td>NaN</td>\n",
       "      <td>126668h</td>\n",
       "      <td>NaN</td>\n",
       "      <td>i.redd.it</td>\n",
       "      <td>1</td>\n",
       "      <td>2023-03-30 00:38:52</td>\n",
       "    </tr>\n",
       "    <tr>\n",
       "      <th>3</th>\n",
       "      <td>backpacking</td>\n",
       "      <td>[removed]</td>\n",
       "      <td>Brasil 🇧🇷</td>\n",
       "      <td>NaN</td>\n",
       "      <td>126625u</td>\n",
       "      <td>reddit</td>\n",
       "      <td>i.redd.it</td>\n",
       "      <td>1</td>\n",
       "      <td>2023-03-30 00:34:02</td>\n",
       "    </tr>\n",
       "    <tr>\n",
       "      <th>4</th>\n",
       "      <td>backpacking</td>\n",
       "      <td>[removed]</td>\n",
       "      <td>31 Mar Kalalau Trail</td>\n",
       "      <td>tBackpacking</td>\n",
       "      <td>1264qql</td>\n",
       "      <td>moderator</td>\n",
       "      <td>self.backpacking</td>\n",
       "      <td>1</td>\n",
       "      <td>2023-03-29 23:39:50</td>\n",
       "    </tr>\n",
       "  </tbody>\n",
       "</table>\n",
       "</div>"
      ],
      "text/plain": [
       "     subreddit                                           selftext  \\\n",
       "0  backpacking  A couple years ago I watched a hitchhiking/fre...   \n",
       "1  backpacking                                                NaN   \n",
       "2  backpacking                        Brinde a vida,meus amigos !   \n",
       "3  backpacking                                          [removed]   \n",
       "4  backpacking                                          [removed]   \n",
       "\n",
       "                                    title link_flair_css_class       id  \\\n",
       "0  Do any of you recognize this youtuber?         tBackpacking  1266mfa   \n",
       "1                          Morocco Travel         tBackpacking  1266g2t   \n",
       "2                                  Brinde                  NaN  126668h   \n",
       "3                               Brasil 🇧🇷                  NaN  126625u   \n",
       "4                    31 Mar Kalalau Trail         tBackpacking  1264qql   \n",
       "\n",
       "  removed_by_category                                           domain  \\\n",
       "0                 NaN                                       reddit.com   \n",
       "1                 NaN  /r/backpacking/comments/1266g2t/morocco_travel/   \n",
       "2                 NaN                                        i.redd.it   \n",
       "3              reddit                                        i.redd.it   \n",
       "4           moderator                                 self.backpacking   \n",
       "\n",
       "   num_comments     utc_datetime_str  \n",
       "0             1  2023-03-30 00:58:27  \n",
       "1             0  2023-03-30 00:50:32  \n",
       "2             1  2023-03-30 00:38:52  \n",
       "3             1  2023-03-30 00:34:02  \n",
       "4             1  2023-03-29 23:39:50  "
      ]
     },
     "execution_count": 48,
     "metadata": {},
     "output_type": "execute_result"
    }
   ],
   "source": [
    "backpacking_df1.head()"
   ]
  },
  {
   "cell_type": "code",
   "execution_count": 49,
   "id": "0dd4ac65",
   "metadata": {},
   "outputs": [
    {
     "data": {
      "text/plain": [
       "((3736, 9), (6949, 9))"
      ]
     },
     "execution_count": 49,
     "metadata": {},
     "output_type": "execute_result"
    }
   ],
   "source": [
    "backpacking_df1.shape, backpacking_df2.shape"
   ]
  }
 ],
 "metadata": {
  "kernelspec": {
   "display_name": "Python 3 (ipykernel)",
   "language": "python",
   "name": "python3"
  },
  "language_info": {
   "codemirror_mode": {
    "name": "ipython",
    "version": 3
   },
   "file_extension": ".py",
   "mimetype": "text/x-python",
   "name": "python",
   "nbconvert_exporter": "python",
   "pygments_lexer": "ipython3",
   "version": "3.9.13"
  }
 },
 "nbformat": 4,
 "nbformat_minor": 5
}
